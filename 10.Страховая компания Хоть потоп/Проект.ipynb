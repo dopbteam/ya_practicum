{
 "cells": [
  {
   "cell_type": "markdown",
   "metadata": {
    "toc": true
   },
   "source": [
    "<h1>Содержание<span class=\"tocSkip\"></span></h1>\n",
    "<div class=\"toc\"><ul class=\"toc-item\"><li><span><a href=\"#Загрузка-данных\" data-toc-modified-id=\"Загрузка-данных-1\"><span class=\"toc-item-num\">1&nbsp;&nbsp;</span>Загрузка данных</a></span></li><li><span><a href=\"#Умножение-матриц\" data-toc-modified-id=\"Умножение-матриц-2\"><span class=\"toc-item-num\">2&nbsp;&nbsp;</span>Умножение матриц</a></span></li><li><span><a href=\"#Алгоритм-преобразования\" data-toc-modified-id=\"Алгоритм-преобразования-3\"><span class=\"toc-item-num\">3&nbsp;&nbsp;</span>Алгоритм преобразования</a></span></li><li><span><a href=\"#Проверка-алгоритма\" data-toc-modified-id=\"Проверка-алгоритма-4\"><span class=\"toc-item-num\">4&nbsp;&nbsp;</span>Проверка алгоритма</a></span></li><li><span><a href=\"#Чек-лист-проверки\" data-toc-modified-id=\"Чек-лист-проверки-5\"><span class=\"toc-item-num\">5&nbsp;&nbsp;</span>Чек-лист проверки</a></span></li></ul></div>"
   ]
  },
  {
   "cell_type": "markdown",
   "metadata": {},
   "source": [
    "# Защита персональных данных клиентов"
   ]
  },
  {
   "cell_type": "markdown",
   "metadata": {},
   "source": [
    "Вам нужно защитить данные клиентов страховой компании «Хоть потоп». Разработайте такой метод преобразования данных, чтобы по ним было сложно восстановить персональную информацию. Обоснуйте корректность его работы.\n",
    "\n",
    "Нужно защитить данные, чтобы при преобразовании качество моделей машинного обучения не ухудшилось. Подбирать наилучшую модель не требуется."
   ]
  },
  {
   "cell_type": "markdown",
   "metadata": {},
   "source": [
    "## Загрузка данных"
   ]
  },
  {
   "cell_type": "code",
   "execution_count": 4,
   "metadata": {},
   "outputs": [],
   "source": [
    "import numpy as np\n",
    "import pandas as pd\n",
    "from sklearn.model_selection import train_test_split"
   ]
  },
  {
   "cell_type": "code",
   "execution_count": 5,
   "metadata": {},
   "outputs": [],
   "source": [
    "df = pd.read_csv('/datasets/insurance.csv')"
   ]
  },
  {
   "cell_type": "code",
   "execution_count": 6,
   "metadata": {
    "scrolled": true
   },
   "outputs": [
    {
     "name": "stdout",
     "output_type": "stream",
     "text": [
      "<class 'pandas.core.frame.DataFrame'>\n",
      "RangeIndex: 5000 entries, 0 to 4999\n",
      "Data columns (total 5 columns):\n",
      " #   Column             Non-Null Count  Dtype  \n",
      "---  ------             --------------  -----  \n",
      " 0   Пол                5000 non-null   int64  \n",
      " 1   Возраст            5000 non-null   float64\n",
      " 2   Зарплата           5000 non-null   float64\n",
      " 3   Члены семьи        5000 non-null   int64  \n",
      " 4   Страховые выплаты  5000 non-null   int64  \n",
      "dtypes: float64(2), int64(3)\n",
      "memory usage: 195.4 KB\n"
     ]
    }
   ],
   "source": [
    "df.info()"
   ]
  },
  {
   "cell_type": "code",
   "execution_count": 7,
   "metadata": {
    "scrolled": true
   },
   "outputs": [
    {
     "data": {
      "text/html": [
       "<div>\n",
       "<style scoped>\n",
       "    .dataframe tbody tr th:only-of-type {\n",
       "        vertical-align: middle;\n",
       "    }\n",
       "\n",
       "    .dataframe tbody tr th {\n",
       "        vertical-align: top;\n",
       "    }\n",
       "\n",
       "    .dataframe thead th {\n",
       "        text-align: right;\n",
       "    }\n",
       "</style>\n",
       "<table border=\"1\" class=\"dataframe\">\n",
       "  <thead>\n",
       "    <tr style=\"text-align: right;\">\n",
       "      <th></th>\n",
       "      <th>Пол</th>\n",
       "      <th>Возраст</th>\n",
       "      <th>Зарплата</th>\n",
       "      <th>Члены семьи</th>\n",
       "      <th>Страховые выплаты</th>\n",
       "    </tr>\n",
       "  </thead>\n",
       "  <tbody>\n",
       "    <tr>\n",
       "      <th>0</th>\n",
       "      <td>1</td>\n",
       "      <td>41.0</td>\n",
       "      <td>49600.0</td>\n",
       "      <td>1</td>\n",
       "      <td>0</td>\n",
       "    </tr>\n",
       "    <tr>\n",
       "      <th>1</th>\n",
       "      <td>0</td>\n",
       "      <td>46.0</td>\n",
       "      <td>38000.0</td>\n",
       "      <td>1</td>\n",
       "      <td>1</td>\n",
       "    </tr>\n",
       "    <tr>\n",
       "      <th>2</th>\n",
       "      <td>0</td>\n",
       "      <td>29.0</td>\n",
       "      <td>21000.0</td>\n",
       "      <td>0</td>\n",
       "      <td>0</td>\n",
       "    </tr>\n",
       "    <tr>\n",
       "      <th>3</th>\n",
       "      <td>0</td>\n",
       "      <td>21.0</td>\n",
       "      <td>41700.0</td>\n",
       "      <td>2</td>\n",
       "      <td>0</td>\n",
       "    </tr>\n",
       "    <tr>\n",
       "      <th>4</th>\n",
       "      <td>1</td>\n",
       "      <td>28.0</td>\n",
       "      <td>26100.0</td>\n",
       "      <td>0</td>\n",
       "      <td>0</td>\n",
       "    </tr>\n",
       "    <tr>\n",
       "      <th>5</th>\n",
       "      <td>1</td>\n",
       "      <td>43.0</td>\n",
       "      <td>41000.0</td>\n",
       "      <td>2</td>\n",
       "      <td>1</td>\n",
       "    </tr>\n",
       "    <tr>\n",
       "      <th>6</th>\n",
       "      <td>1</td>\n",
       "      <td>39.0</td>\n",
       "      <td>39700.0</td>\n",
       "      <td>2</td>\n",
       "      <td>0</td>\n",
       "    </tr>\n",
       "    <tr>\n",
       "      <th>7</th>\n",
       "      <td>1</td>\n",
       "      <td>25.0</td>\n",
       "      <td>38600.0</td>\n",
       "      <td>4</td>\n",
       "      <td>0</td>\n",
       "    </tr>\n",
       "    <tr>\n",
       "      <th>8</th>\n",
       "      <td>1</td>\n",
       "      <td>36.0</td>\n",
       "      <td>49700.0</td>\n",
       "      <td>1</td>\n",
       "      <td>0</td>\n",
       "    </tr>\n",
       "    <tr>\n",
       "      <th>9</th>\n",
       "      <td>1</td>\n",
       "      <td>32.0</td>\n",
       "      <td>51700.0</td>\n",
       "      <td>1</td>\n",
       "      <td>0</td>\n",
       "    </tr>\n",
       "  </tbody>\n",
       "</table>\n",
       "</div>"
      ],
      "text/plain": [
       "   Пол  Возраст  Зарплата  Члены семьи  Страховые выплаты\n",
       "0    1     41.0   49600.0            1                  0\n",
       "1    0     46.0   38000.0            1                  1\n",
       "2    0     29.0   21000.0            0                  0\n",
       "3    0     21.0   41700.0            2                  0\n",
       "4    1     28.0   26100.0            0                  0\n",
       "5    1     43.0   41000.0            2                  1\n",
       "6    1     39.0   39700.0            2                  0\n",
       "7    1     25.0   38600.0            4                  0\n",
       "8    1     36.0   49700.0            1                  0\n",
       "9    1     32.0   51700.0            1                  0"
      ]
     },
     "execution_count": 7,
     "metadata": {},
     "output_type": "execute_result"
    }
   ],
   "source": [
    "df.head(10)"
   ]
  },
  {
   "cell_type": "code",
   "execution_count": 8,
   "metadata": {},
   "outputs": [
    {
     "data": {
      "text/html": [
       "<div>\n",
       "<style scoped>\n",
       "    .dataframe tbody tr th:only-of-type {\n",
       "        vertical-align: middle;\n",
       "    }\n",
       "\n",
       "    .dataframe tbody tr th {\n",
       "        vertical-align: top;\n",
       "    }\n",
       "\n",
       "    .dataframe thead th {\n",
       "        text-align: right;\n",
       "    }\n",
       "</style>\n",
       "<table border=\"1\" class=\"dataframe\">\n",
       "  <thead>\n",
       "    <tr style=\"text-align: right;\">\n",
       "      <th></th>\n",
       "      <th>Пол</th>\n",
       "      <th>Возраст</th>\n",
       "      <th>Зарплата</th>\n",
       "      <th>Члены семьи</th>\n",
       "      <th>Страховые выплаты</th>\n",
       "    </tr>\n",
       "  </thead>\n",
       "  <tbody>\n",
       "    <tr>\n",
       "      <th>count</th>\n",
       "      <td>5000.000000</td>\n",
       "      <td>5000.000000</td>\n",
       "      <td>5000.000000</td>\n",
       "      <td>5000.000000</td>\n",
       "      <td>5000.000000</td>\n",
       "    </tr>\n",
       "    <tr>\n",
       "      <th>mean</th>\n",
       "      <td>0.499000</td>\n",
       "      <td>30.952800</td>\n",
       "      <td>39916.360000</td>\n",
       "      <td>1.194200</td>\n",
       "      <td>0.148000</td>\n",
       "    </tr>\n",
       "    <tr>\n",
       "      <th>std</th>\n",
       "      <td>0.500049</td>\n",
       "      <td>8.440807</td>\n",
       "      <td>9900.083569</td>\n",
       "      <td>1.091387</td>\n",
       "      <td>0.463183</td>\n",
       "    </tr>\n",
       "    <tr>\n",
       "      <th>min</th>\n",
       "      <td>0.000000</td>\n",
       "      <td>18.000000</td>\n",
       "      <td>5300.000000</td>\n",
       "      <td>0.000000</td>\n",
       "      <td>0.000000</td>\n",
       "    </tr>\n",
       "    <tr>\n",
       "      <th>25%</th>\n",
       "      <td>0.000000</td>\n",
       "      <td>24.000000</td>\n",
       "      <td>33300.000000</td>\n",
       "      <td>0.000000</td>\n",
       "      <td>0.000000</td>\n",
       "    </tr>\n",
       "    <tr>\n",
       "      <th>50%</th>\n",
       "      <td>0.000000</td>\n",
       "      <td>30.000000</td>\n",
       "      <td>40200.000000</td>\n",
       "      <td>1.000000</td>\n",
       "      <td>0.000000</td>\n",
       "    </tr>\n",
       "    <tr>\n",
       "      <th>75%</th>\n",
       "      <td>1.000000</td>\n",
       "      <td>37.000000</td>\n",
       "      <td>46600.000000</td>\n",
       "      <td>2.000000</td>\n",
       "      <td>0.000000</td>\n",
       "    </tr>\n",
       "    <tr>\n",
       "      <th>max</th>\n",
       "      <td>1.000000</td>\n",
       "      <td>65.000000</td>\n",
       "      <td>79000.000000</td>\n",
       "      <td>6.000000</td>\n",
       "      <td>5.000000</td>\n",
       "    </tr>\n",
       "  </tbody>\n",
       "</table>\n",
       "</div>"
      ],
      "text/plain": [
       "               Пол      Возраст      Зарплата  Члены семьи  Страховые выплаты\n",
       "count  5000.000000  5000.000000   5000.000000  5000.000000        5000.000000\n",
       "mean      0.499000    30.952800  39916.360000     1.194200           0.148000\n",
       "std       0.500049     8.440807   9900.083569     1.091387           0.463183\n",
       "min       0.000000    18.000000   5300.000000     0.000000           0.000000\n",
       "25%       0.000000    24.000000  33300.000000     0.000000           0.000000\n",
       "50%       0.000000    30.000000  40200.000000     1.000000           0.000000\n",
       "75%       1.000000    37.000000  46600.000000     2.000000           0.000000\n",
       "max       1.000000    65.000000  79000.000000     6.000000           5.000000"
      ]
     },
     "execution_count": 8,
     "metadata": {},
     "output_type": "execute_result"
    }
   ],
   "source": [
    "df.describe()"
   ]
  },
  {
   "cell_type": "markdown",
   "metadata": {},
   "source": [
    "## Умножение матриц"
   ]
  },
  {
   "cell_type": "markdown",
   "metadata": {},
   "source": [
    "В этом задании вы можете записывать формулы в *Jupyter Notebook.*\n",
    "\n",
    "Чтобы записать формулу внутри текста, окружите её символами доллара \\\\$; если снаружи —  двойными символами \\\\$\\\\$. Эти формулы записываются на языке вёрстки *LaTeX.* \n",
    "\n",
    "Для примера мы записали формулы линейной регрессии. Можете их скопировать и отредактировать, чтобы решить задачу.\n",
    "\n",
    "Работать в *LaTeX* необязательно."
   ]
  },
  {
   "cell_type": "markdown",
   "metadata": {},
   "source": [
    "Обозначения:\n",
    "\n",
    "- $X$ — матрица признаков (нулевой столбец состоит из единиц)\n",
    "\n",
    "- $y$ — вектор целевого признака\n",
    "\n",
    "- $P$ — матрица, на которую умножаются признаки\n",
    "\n",
    "- $w$ — вектор весов линейной регрессии (нулевой элемент равен сдвигу)"
   ]
  },
  {
   "cell_type": "markdown",
   "metadata": {},
   "source": [
    "Предсказания:\n",
    "\n",
    "$$\n",
    "a = Xw\n",
    "$$\n",
    "\n",
    "Задача обучения:\n",
    "\n",
    "$$\n",
    "w = \\arg\\min_w MSE(Xw, y)\n",
    "$$\n",
    "\n",
    "Формула обучения:\n",
    "\n",
    "$$\n",
    "w = (X^T X)^{-1} X^T y\n",
    "$$"
   ]
  },
  {
   "cell_type": "markdown",
   "metadata": {},
   "source": [
    "**Ответ:** При умножении признаков на обратимую матрицу, качество линейной регрессии не изменится.\n",
    "\n",
    "**Обоснование:** Мы можем представить математические выкладки, чтобы объяснить это. Рассмотрим основные свойства обратной матрицы. Обратная матрица существует, если ее определитель не равен нулю, и когда мы умножаем исходную матрицу на обратную, получаем единичную матрицу (главная диагональ состоит из единиц). Для этого матрицы должны быть квадратными. Предположим, что матрица $P$ удовлетворяет этим условиям, и число строк матрицы $P$ соответствует числу столбцов матрицы признаков $X$\n",
    "<br><br>\n",
    "Если мы умножим матрицу признаков $X$ на произвольную, но обратимую матрицу $P$, новой матрицей признаков будет произведение матрицы признаков $X$ и матрицы $P$\n",
    "<br><br>\n",
    "$a_{\\text{new}} = X_{\\text{new}}w_{\\text{new}}$,\n",
    "где $X_{\\text{new}} = XP$ и $w_{\\text{new}} = ((XP)^TXP)^{-1}(XP)^Ty$ (4).\n",
    "<br><br>\n",
    "Затем:\n",
    "$a_{\\text{new}} = XP((XP)^TXP)^{-1}(XP)^Ty$ (5).\n",
    "<br><br>\n",
    "Используя свойство транспонирования $(AB)^T = B^TA^T$, раскроем операцию транспонирования внутри обратной матрицы:\n",
    "$a_{\\text{new}} = XP(P^TX^TXP)^{-1}(XP)^Ty$ (6).\n",
    "<br><br>\n",
    "Объединим выражение внутри обратной матрицы, используя свойство ассоциативности матричных операций:\n",
    "$a_{\\text{new}} = XP((P^T)(X^TX)(P))^{-1}(XP)^Ty$ (7).\n",
    "<br><br>\n",
    "Применим свойство обратной матрицы $(ABC)^{-1} = C^{-1}B^{-1}A^{-1}$. В нашем случае $A$, $B$ и $C$ находятся в скобках:\n",
    "$a_{\\text{new}} = XP(P^T(X^TX)P)^{-1}(XP)^Ty$ (8).\n",
    "<br><br>\n",
    "Обратим внимание, что $P^{-T}$ является краткой формой записи для $(P^T)^{-1}$, так как выполняется свойство $(A^T)^{-1} = (A^{-1})^T$.\n",
    "<br><br>\n",
    "Используя основное свойство обратной матрицы $A(A^{-1}) = E$, получаем следующие выражения: $P^{-T}P = E$ и $P(P^{-1}) = E$. Подставим их результаты в наше выражение:\n",
    "$a_{\\text{new}} = XE(X^TX)^{-1}E^TXy$ (9).\n",
    "<br><br>\n",
    "Мы можем опустить единичные матрицы, так как они не влияют на результат:\n",
    "$a_{\\text{new}} = X(X^TX)^{-1}X^Ty$ (10).\n",
    "<br><br>\n",
    "Выражение $(X^TX)^{-1}X^Ty$ соответствует вектору весов линейной регрессии $w$:\n",
    "$a_{\\text{new}} = Xw = a$ (11).\n",
    "<br><br>\n",
    "Мы показали, что значение предсказания $a$ не изменится, если мы умножим матрицу признаков на обратимую матрицу."
   ]
  },
  {
   "cell_type": "markdown",
   "metadata": {},
   "source": [
    "**Вывод:** На основании математических выкладок мы доказали, что при умножении признаков на обратимую матрицу качество линейной регрессии не изменится."
   ]
  },
  {
   "cell_type": "markdown",
   "metadata": {},
   "source": [
    "## Алгоритм преобразования"
   ]
  },
  {
   "cell_type": "markdown",
   "metadata": {},
   "source": [
    "**Алгоритм**\n",
    "\n",
    "В процессе подготовки данных для модели LinearRegression мы будем использовать метод защиты информации, который включает умножение матрицы признаков на случайно генерируемую обратимую матрицу P. Алгоритм включает следующие шаги:\n",
    "<br>\n",
    "<ul>\n",
    "<li>\n",
    "Определение длины n вектора признаков.\n",
    "</li>\n",
    "<li>\n",
    "Генерация матрицы P.\n",
    "</li>\n",
    "<li>\n",
    "Проверка обратимости матрицы P.\n",
    "</li>\n",
    "<li>\n",
    " - Вычисление определителя матрицы P, проверка P ≠ 0.\n",
    "</li>\n",
    "<li>\n",
    " - Проверка равенства PP^−1 = E.\n",
    "</li>\n",
    "<li>\n",
    "Шифрование признаков: X_new = XP.\n",
    "</li>\n",
    "<li>\n",
    "Подача зашифрованных признаков X_new на вход алгоритма LinearRegression.\n",
    "</li>\n",
    "</ul>\n",
    "Таким образом, мы использовали этот алгоритм для защиты информации, позволяющий умножать матрицу признаков на обратимую матрицу перед подачей их на вход модели LinearRegression."
   ]
  },
  {
   "cell_type": "markdown",
   "metadata": {},
   "source": [
    "**Обоснование**\n",
    "\n",
    "Матрица P, которую мы генерируем, должна иметь размерность (n x n) и быть невырожденной, где n - количество признаков в модели линейной регрессии. Невырожденность матрицы означает, что ее определитель не равен нулю, а умножение матрицы P на ее обратную матрицу дает единичную матрицу. Количество строк в матрице P должно быть равно количеству столбцов в матрице признаков X, причем X еще не содержит нулевой столбец, который будет добавлен внутри модели линейной регрессии. Таким образом, матрица X_new будет иметь ту же размерность, что и матрица X.\n",
    "<br><br>\n",
    "Рассмотрим нулевой столбец. В линейной регрессии признаки представляют собой вектор чисел в n-мерном пространстве (предположим, x). Предсказание модели (a) вычисляется путем скалярного произведения вектора признаков на вектор весов (w; от англ. weights), после чего к этому произведению добавляется смещение предсказания w0 (англ. bias): a = (x, w) + w0. В векторе w содержится n параметров, а в w0 - только один параметр. То есть общее количество параметров больше длины вектора признаков на единицу. Поэтому к матрице признаков X добавляется дополнительный столбец из единиц - X = [1 ∣ X], и ее размерность увеличивается на 1."
   ]
  },
  {
   "cell_type": "markdown",
   "metadata": {},
   "source": [
    "## Проверка алгоритма"
   ]
  },
  {
   "cell_type": "markdown",
   "metadata": {},
   "source": [
    "Проведем эксперименты с моделью LinearRegression в двух сценариях:\n",
    "<br><br>\n",
    "Оценим качество модели без применения шифрования.\n",
    "<br>\n",
    "Оценим качество модели при использовании шифрования.\n",
    "<br>\n",
    "Прежде чем начать, давайте перепишем класс LinearRegression. Он представляет собой модель линейной регрессии."
   ]
  },
  {
   "cell_type": "code",
   "execution_count": 9,
   "metadata": {},
   "outputs": [],
   "source": [
    "class LinearRegressionModel:\n",
    "    def fit(self, train_features, train_target):\n",
    "        X = np.concatenate((np.ones((train_features.shape[0], 1)), train_features), axis=1)\n",
    "        y = train_target\n",
    "        w = np.linalg.inv(X.T.dot(X)).dot(X.T).dot(y)\n",
    "        self.w = w[1:]\n",
    "        self.w0 = w[0]\n",
    "\n",
    "    def predict(self, test_features):\n",
    "        return test_features.dot(self.w) + self.w0\n",
    "\n",
    "    def calculate_r2(self, test_target, test_predict):\n",
    "        mse_model = np.sum((test_target - test_predict) ** 2)\n",
    "        mse_data = np.sum((test_target - np.mean(test_target)) ** 2)\n",
    "        return 1 - mse_model / mse_data\n",
    "\n",
    "    def evaluate(self, test_features, test_target):\n",
    "        test_predict = self.predict(test_features)\n",
    "        return self.calculate_r2(test_target, test_predict)"
   ]
  },
  {
   "cell_type": "markdown",
   "metadata": {},
   "source": [
    "Теперь подготовим признаки:"
   ]
  },
  {
   "cell_type": "code",
   "execution_count": 15,
   "metadata": {},
   "outputs": [],
   "source": [
    "features = df.drop('Страховые выплаты', axis=1)\n",
    "target = df['Страховые выплаты']"
   ]
  },
  {
   "cell_type": "markdown",
   "metadata": {},
   "source": [
    "Оценим качество модели без преобразования:"
   ]
  },
  {
   "cell_type": "code",
   "execution_count": 16,
   "metadata": {},
   "outputs": [
    {
     "name": "stdout",
     "output_type": "stream",
     "text": [
      "R2 (обучающая выборка): 0.4213920242579371\n",
      "R2 (валидационная выборка): 0.4352275712702667\n"
     ]
    }
   ],
   "source": [
    "features_train, features_valid, target_train, target_valid = train_test_split(features, target, test_size=0.25, random_state=12345)\n",
    "model = LinearRegressionModel()\n",
    "model.fit(features_train, target_train)\n",
    "print('R2 (обучающая выборка):', model.evaluate(features_train, target_train))\n",
    "print('R2 (валидационная выборка):', model.evaluate(features_valid, target_valid))"
   ]
  },
  {
   "cell_type": "markdown",
   "metadata": {},
   "source": [
    "Реализуем алгоритм шифрования признаков:\n",
    "<br>\n",
    "Согласно алгоритму преобразования, напишем функцию encrypt_features(), которая принимает признаки на входе и возвращает зашифрованные признаки и матрицу P."
   ]
  },
  {
   "cell_type": "code",
   "execution_count": 17,
   "metadata": {},
   "outputs": [],
   "source": [
    "np.random.seed(2007)\n",
    "\n",
    "def encrypt_features(features):\n",
    "    n = features.shape[1]\n",
    "    while True:\n",
    "        P = np.random.rand(n, n)\n",
    "        P_det = np.linalg.det(P)\n",
    "        check_prop = np.prod(np.round(P.dot(np.linalg.inv(P))) == np.eye(n))\n",
    "        if P_det != 0 and check_prop:\n",
    "            break\n",
    "    return features.dot(P), P"
   ]
  },
  {
   "cell_type": "markdown",
   "metadata": {},
   "source": [
    "Оценим качество модели с применением шифрования:"
   ]
  },
  {
   "cell_type": "code",
   "execution_count": 18,
   "metadata": {},
   "outputs": [
    {
     "name": "stdout",
     "output_type": "stream",
     "text": [
      "Зашифрованные признаки:\n",
      "           Пол      Возраст      Зарплата   Члены семьи\n",
      "0  9742.863116  4065.720890  20343.496976  20804.267752\n",
      "1  7476.182132  3121.769511  15594.572470  15939.728728\n",
      "2  4134.065750  1726.557334   8620.091069   8808.871348\n",
      "3  8180.333316  3412.211021  17094.748960  17489.301852\n",
      "4  5131.984431  2142.293932  10709.080821  10948.135591\n",
      "R2 (обучающая выборка): 0.4213920242578415\n",
      "R2 (валидационная выборка): 0.43522754375099904\n"
     ]
    }
   ],
   "source": [
    "features_encrypted, P = encrypt_features(features)\n",
    "print('Зашифрованные признаки:')\n",
    "print(pd.DataFrame(features_encrypted.values, columns=df.columns[:-1]).head(5))\n",
    "\n",
    "features_train, features_valid, target_train, target_valid = train_test_split(features_encrypted, target, test_size=0.25, random_state=12345)\n",
    "model = LinearRegressionModel()\n",
    "model.fit(features_train, target_train)\n",
    "print('R2 (обучающая выборка):', model.evaluate(features_train, target_train))\n",
    "print('R2 (валидационная выборка):', model.evaluate(features_valid, target_valid))"
   ]
  },
  {
   "cell_type": "markdown",
   "metadata": {},
   "source": [
    "Итак, мы провели эксперименты с моделью LinearRegression в двух направлениях:\n",
    "<br><br>\n",
    "Оценили качество модели без применения шифрования.\n",
    "<br>\n",
    "Оценили качество модели с применением шифрования.\n",
    "<br>\n",
    "<br>\n",
    "Мы также реализовали класс LinearRegressionModel и оценили метрику R2 на обучающей и валидационной выборке в обоих сценариях."
   ]
  },
  {
   "cell_type": "markdown",
   "metadata": {},
   "source": [
    "<b>Вывод</b>\n",
    "<br>\n",
    "В рамках исследования было исследовано влияние умножения обратимой матрицы на матрицу признаков в модели LinearRegression. Математические выкладки показали, что умножение признаков на обратимую матрицу не изменяет качество линейной регрессии.\n",
    "<br><br>\n",
    "На основе этого исследования был разработан и реализован алгоритм шифрования данных. Данные были зашифрованы, используя указанный алгоритм, и было проведено тестирование модели LinearRegression на обучающей и валидационной выборках с зашифрованными признаками.\n",
    "<br><br>\n",
    "Результаты показали, что показатели метрики R2 на обучающей и валидационной выборках с шифрованием и без него оказались практически одинаковыми. Это говорит о том, что шифрование данных не вносит существенного влияния на качество модели LinearRegression.\n",
    "<br><br>\n",
    "Таким образом, можно сделать вывод, что разработанный алгоритм шифрования данных на основе исследования необходимости шифрования не оказывает существенного влияния на работу модели LinearRegression в данном контексте. Это может быть полезной информацией при работе с конфиденциальными или чувствительными данными, где необходимо обеспечить безопасность и сохранение приватности."
   ]
  }
 ],
 "metadata": {
  "ExecuteTimeLog": [
   {
    "duration": 563,
    "start_time": "2023-06-01T06:38:16.824Z"
   },
   {
    "duration": 100,
    "start_time": "2023-06-01T06:38:28.308Z"
   },
   {
    "duration": 28,
    "start_time": "2023-06-01T06:38:32.508Z"
   },
   {
    "duration": 38,
    "start_time": "2023-06-01T06:41:49.569Z"
   },
   {
    "duration": 11,
    "start_time": "2023-06-01T06:41:55.411Z"
   },
   {
    "duration": 11,
    "start_time": "2023-06-01T06:42:24.319Z"
   },
   {
    "duration": 57,
    "start_time": "2023-06-11T08:29:35.777Z"
   },
   {
    "duration": 4,
    "start_time": "2023-06-11T08:29:38.153Z"
   },
   {
    "duration": 6,
    "start_time": "2023-06-11T08:29:38.766Z"
   },
   {
    "duration": 1046,
    "start_time": "2023-06-11T08:38:32.776Z"
   },
   {
    "duration": 98,
    "start_time": "2023-06-11T08:38:33.824Z"
   },
   {
    "duration": 10,
    "start_time": "2023-06-11T08:38:33.924Z"
   },
   {
    "duration": 17,
    "start_time": "2023-06-11T08:38:33.936Z"
   },
   {
    "duration": 26,
    "start_time": "2023-06-11T08:38:34.278Z"
   },
   {
    "duration": 5,
    "start_time": "2023-06-11T08:38:37.204Z"
   },
   {
    "duration": 83,
    "start_time": "2023-06-11T08:38:37.961Z"
   },
   {
    "duration": 8,
    "start_time": "2023-06-11T08:38:42.524Z"
   },
   {
    "duration": 4,
    "start_time": "2023-06-11T08:38:43.519Z"
   },
   {
    "duration": 9,
    "start_time": "2023-06-11T08:38:43.937Z"
   },
   {
    "duration": 3,
    "start_time": "2023-06-11T08:40:23.541Z"
   },
   {
    "duration": 3,
    "start_time": "2023-06-11T08:40:42.264Z"
   },
   {
    "duration": 16,
    "start_time": "2023-06-11T08:40:43.358Z"
   },
   {
    "duration": 4,
    "start_time": "2023-06-11T08:40:45.470Z"
   },
   {
    "duration": 16,
    "start_time": "2023-06-11T08:40:47.809Z"
   }
  ],
  "kernelspec": {
   "display_name": "Python 3 (ipykernel)",
   "language": "python",
   "name": "python3"
  },
  "language_info": {
   "codemirror_mode": {
    "name": "ipython",
    "version": 3
   },
   "file_extension": ".py",
   "mimetype": "text/x-python",
   "name": "python",
   "nbconvert_exporter": "python",
   "pygments_lexer": "ipython3",
   "version": "3.9.13"
  },
  "toc": {
   "base_numbering": 1,
   "nav_menu": {},
   "number_sections": true,
   "sideBar": true,
   "skip_h1_title": true,
   "title_cell": "Содержание",
   "title_sidebar": "Contents",
   "toc_cell": true,
   "toc_position": {},
   "toc_section_display": true,
   "toc_window_display": true
  }
 },
 "nbformat": 4,
 "nbformat_minor": 2
}
