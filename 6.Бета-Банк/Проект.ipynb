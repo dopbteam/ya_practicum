{
 "cells": [
  {
   "cell_type": "markdown",
   "metadata": {
    "toc": true
   },
   "source": [
    "<h1>Содержание<span class=\"tocSkip\"></span></h1>\n",
    "<div class=\"toc\"><ul class=\"toc-item\"><li><span><a href=\"#Подготовка-данных\" data-toc-modified-id=\"Подготовка-данных-1\"><span class=\"toc-item-num\">1&nbsp;&nbsp;</span>Подготовка данных</a></span></li><li><span><a href=\"#Исследование-задачи\" data-toc-modified-id=\"Исследование-задачи-2\"><span class=\"toc-item-num\">2&nbsp;&nbsp;</span>Исследование задачи</a></span></li><li><span><a href=\"#Борьба-с-дисбалансом\" data-toc-modified-id=\"Борьба-с-дисбалансом-3\"><span class=\"toc-item-num\">3&nbsp;&nbsp;</span>Борьба с дисбалансом</a></span></li><li><span><a href=\"#Исследование-моделей\" data-toc-modified-id=\"Исследование-моделей-4\"><span class=\"toc-item-num\">4&nbsp;&nbsp;</span>Исследование моделей</a></span></li><li><span><a href=\"#Тестирование-моделей\" data-toc-modified-id=\"Тестирование-моделей-5\"><span class=\"toc-item-num\">5&nbsp;&nbsp;</span>Тестирование моделей</a></span></li><li><span><a href=\"#Чек-лист-готовности-проекта\" data-toc-modified-id=\"Чек-лист-готовности-проекта-6\"><span class=\"toc-item-num\">6&nbsp;&nbsp;</span>Чек-лист готовности проекта</a></span></li></ul></div>"
   ]
  },
  {
   "cell_type": "markdown",
   "metadata": {},
   "source": [
    "# Отток клиентов"
   ]
  },
  {
   "cell_type": "markdown",
   "metadata": {},
   "source": [
    "Из «Бета-Банка» стали уходить клиенты. Каждый месяц. Немного, но заметно. Банковские маркетологи посчитали: сохранять текущих клиентов дешевле, чем привлекать новых.\n",
    "\n",
    "Нужно спрогнозировать, уйдёт клиент из банка в ближайшее время или нет. Вам предоставлены исторические данные о поведении клиентов и расторжении договоров с банком. \n",
    "\n",
    "Постройте модель с предельно большим значением *F1*-меры. Чтобы сдать проект успешно, нужно довести метрику до 0.59. Проверьте *F1*-меру на тестовой выборке самостоятельно.\n",
    "\n",
    "Дополнительно измеряйте *AUC-ROC*, сравнивайте её значение с *F1*-мерой.\n",
    "\n",
    "Источник данных: [https://www.kaggle.com/barelydedicated/bank-customer-churn-modeling](https://www.kaggle.com/barelydedicated/bank-customer-churn-modeling)"
   ]
  },
  {
   "cell_type": "markdown",
   "metadata": {},
   "source": [
    "## Подготовка данных"
   ]
  },
  {
   "cell_type": "markdown",
   "metadata": {},
   "source": [
    "<div class=\"alert alert-info\">\n",
    "Подключим библиотеки\n",
    "</div>"
   ]
  },
  {
   "cell_type": "code",
   "execution_count": 2,
   "metadata": {},
   "outputs": [],
   "source": [
    "import pandas as pd\n",
    "from sklearn.model_selection import train_test_split\n",
    "from sklearn.preprocessing import StandardScaler\n",
    "from sklearn.tree import DecisionTreeClassifier\n",
    "from sklearn.ensemble import RandomForestClassifier\n",
    "from sklearn.linear_model import LogisticRegression\n",
    "from sklearn.preprocessing import OrdinalEncoder, StandardScaler\n",
    "from sklearn.metrics import f1_score\n",
    "from sklearn.utils import shuffle\n",
    "from sklearn.metrics import (\n",
    "    accuracy_score, \n",
    "    f1_score, \n",
    "    recall_score, \n",
    "    precision_score, \n",
    "    roc_auc_score, \n",
    "    roc_curve, \n",
    "    confusion_matrix\n",
    ")\n",
    "import re\n",
    "import warnings\n",
    "warnings.filterwarnings('ignore')\n",
    "from sklearn.dummy import DummyClassifier\n",
    "import matplotlib.pyplot as plt"
   ]
  },
  {
   "cell_type": "markdown",
   "metadata": {},
   "source": [
    "<div class=\"alert alert-info\">\n",
    "    Загрузим датафрейм и уберем пустые записи\n",
    "</div>"
   ]
  },
  {
   "cell_type": "code",
   "execution_count": 3,
   "metadata": {},
   "outputs": [],
   "source": [
    "data = pd.read_csv('/datasets/Churn.csv')\n",
    "data = data.dropna()"
   ]
  },
  {
   "cell_type": "markdown",
   "metadata": {},
   "source": [
    "<div class=\"alert alert-info\">\n",
    "<b>v.2</b> Убирать пустые значения очень важно, потому что мне кажется, что когда мы разделяем выборки - в одной части могут оказаться слишком много пустых значений, а это может повлиять на результат обучения модели. на основе этого мы можем допустить ошибку и сделать неправильные выводы\n",
    "</div>"
   ]
  },
  {
   "cell_type": "markdown",
   "metadata": {},
   "source": [
    "<div class=\"alert alert-info\">\n",
    "Посмотрим общую информацию о представленном датафрейме\n",
    "</div>"
   ]
  },
  {
   "cell_type": "code",
   "execution_count": 4,
   "metadata": {},
   "outputs": [
    {
     "name": "stdout",
     "output_type": "stream",
     "text": [
      "В представленном датафрейме: 9091 строк и 14 столбцов\n",
      "Количество дубликатов: 0\n"
     ]
    }
   ],
   "source": [
    "print('В представленном датафрейме:', data.shape[0], 'строк и', data.shape[1], 'столбцов\\nКоличество дубликатов:', data.duplicated().sum())"
   ]
  },
  {
   "cell_type": "code",
   "execution_count": 5,
   "metadata": {
    "scrolled": false
   },
   "outputs": [
    {
     "name": "stdout",
     "output_type": "stream",
     "text": [
      "<class 'pandas.core.frame.DataFrame'>\n",
      "Int64Index: 9091 entries, 0 to 9998\n",
      "Data columns (total 14 columns):\n",
      " #   Column           Non-Null Count  Dtype  \n",
      "---  ------           --------------  -----  \n",
      " 0   RowNumber        9091 non-null   int64  \n",
      " 1   CustomerId       9091 non-null   int64  \n",
      " 2   Surname          9091 non-null   object \n",
      " 3   CreditScore      9091 non-null   int64  \n",
      " 4   Geography        9091 non-null   object \n",
      " 5   Gender           9091 non-null   object \n",
      " 6   Age              9091 non-null   int64  \n",
      " 7   Tenure           9091 non-null   float64\n",
      " 8   Balance          9091 non-null   float64\n",
      " 9   NumOfProducts    9091 non-null   int64  \n",
      " 10  HasCrCard        9091 non-null   int64  \n",
      " 11  IsActiveMember   9091 non-null   int64  \n",
      " 12  EstimatedSalary  9091 non-null   float64\n",
      " 13  Exited           9091 non-null   int64  \n",
      "dtypes: float64(3), int64(8), object(3)\n",
      "memory usage: 1.0+ MB\n"
     ]
    }
   ],
   "source": [
    "data.info()"
   ]
  },
  {
   "cell_type": "code",
   "execution_count": 6,
   "metadata": {
    "scrolled": true
   },
   "outputs": [
    {
     "data": {
      "text/html": [
       "<div>\n",
       "<style scoped>\n",
       "    .dataframe tbody tr th:only-of-type {\n",
       "        vertical-align: middle;\n",
       "    }\n",
       "\n",
       "    .dataframe tbody tr th {\n",
       "        vertical-align: top;\n",
       "    }\n",
       "\n",
       "    .dataframe thead th {\n",
       "        text-align: right;\n",
       "    }\n",
       "</style>\n",
       "<table border=\"1\" class=\"dataframe\">\n",
       "  <thead>\n",
       "    <tr style=\"text-align: right;\">\n",
       "      <th></th>\n",
       "      <th>count</th>\n",
       "      <th>unique</th>\n",
       "      <th>top</th>\n",
       "      <th>freq</th>\n",
       "      <th>mean</th>\n",
       "      <th>std</th>\n",
       "      <th>min</th>\n",
       "      <th>25%</th>\n",
       "      <th>50%</th>\n",
       "      <th>75%</th>\n",
       "      <th>max</th>\n",
       "    </tr>\n",
       "  </thead>\n",
       "  <tbody>\n",
       "    <tr>\n",
       "      <th>RowNumber</th>\n",
       "      <td>9091.0</td>\n",
       "      <td>NaN</td>\n",
       "      <td>NaN</td>\n",
       "      <td>NaN</td>\n",
       "      <td>5013.909911</td>\n",
       "      <td>2884.433466</td>\n",
       "      <td>1.0</td>\n",
       "      <td>2521.5</td>\n",
       "      <td>5019.0</td>\n",
       "      <td>7511.5</td>\n",
       "      <td>9999.0</td>\n",
       "    </tr>\n",
       "    <tr>\n",
       "      <th>CustomerId</th>\n",
       "      <td>9091.0</td>\n",
       "      <td>NaN</td>\n",
       "      <td>NaN</td>\n",
       "      <td>NaN</td>\n",
       "      <td>15691053.156308</td>\n",
       "      <td>71614.191982</td>\n",
       "      <td>15565701.0</td>\n",
       "      <td>15628985.5</td>\n",
       "      <td>15691061.0</td>\n",
       "      <td>15752851.5</td>\n",
       "      <td>15815660.0</td>\n",
       "    </tr>\n",
       "    <tr>\n",
       "      <th>Surname</th>\n",
       "      <td>9091</td>\n",
       "      <td>2787</td>\n",
       "      <td>Smith</td>\n",
       "      <td>30</td>\n",
       "      <td>NaN</td>\n",
       "      <td>NaN</td>\n",
       "      <td>NaN</td>\n",
       "      <td>NaN</td>\n",
       "      <td>NaN</td>\n",
       "      <td>NaN</td>\n",
       "      <td>NaN</td>\n",
       "    </tr>\n",
       "    <tr>\n",
       "      <th>CreditScore</th>\n",
       "      <td>9091.0</td>\n",
       "      <td>NaN</td>\n",
       "      <td>NaN</td>\n",
       "      <td>NaN</td>\n",
       "      <td>650.736553</td>\n",
       "      <td>96.410471</td>\n",
       "      <td>350.0</td>\n",
       "      <td>584.0</td>\n",
       "      <td>652.0</td>\n",
       "      <td>717.0</td>\n",
       "      <td>850.0</td>\n",
       "    </tr>\n",
       "    <tr>\n",
       "      <th>Geography</th>\n",
       "      <td>9091</td>\n",
       "      <td>3</td>\n",
       "      <td>France</td>\n",
       "      <td>4550</td>\n",
       "      <td>NaN</td>\n",
       "      <td>NaN</td>\n",
       "      <td>NaN</td>\n",
       "      <td>NaN</td>\n",
       "      <td>NaN</td>\n",
       "      <td>NaN</td>\n",
       "      <td>NaN</td>\n",
       "    </tr>\n",
       "    <tr>\n",
       "      <th>Gender</th>\n",
       "      <td>9091</td>\n",
       "      <td>2</td>\n",
       "      <td>Male</td>\n",
       "      <td>4974</td>\n",
       "      <td>NaN</td>\n",
       "      <td>NaN</td>\n",
       "      <td>NaN</td>\n",
       "      <td>NaN</td>\n",
       "      <td>NaN</td>\n",
       "      <td>NaN</td>\n",
       "      <td>NaN</td>\n",
       "    </tr>\n",
       "    <tr>\n",
       "      <th>Age</th>\n",
       "      <td>9091.0</td>\n",
       "      <td>NaN</td>\n",
       "      <td>NaN</td>\n",
       "      <td>NaN</td>\n",
       "      <td>38.949181</td>\n",
       "      <td>10.555581</td>\n",
       "      <td>18.0</td>\n",
       "      <td>32.0</td>\n",
       "      <td>37.0</td>\n",
       "      <td>44.0</td>\n",
       "      <td>92.0</td>\n",
       "    </tr>\n",
       "    <tr>\n",
       "      <th>Tenure</th>\n",
       "      <td>9091.0</td>\n",
       "      <td>NaN</td>\n",
       "      <td>NaN</td>\n",
       "      <td>NaN</td>\n",
       "      <td>4.99769</td>\n",
       "      <td>2.894723</td>\n",
       "      <td>0.0</td>\n",
       "      <td>2.0</td>\n",
       "      <td>5.0</td>\n",
       "      <td>7.0</td>\n",
       "      <td>10.0</td>\n",
       "    </tr>\n",
       "    <tr>\n",
       "      <th>Balance</th>\n",
       "      <td>9091.0</td>\n",
       "      <td>NaN</td>\n",
       "      <td>NaN</td>\n",
       "      <td>NaN</td>\n",
       "      <td>76522.740015</td>\n",
       "      <td>62329.528576</td>\n",
       "      <td>0.0</td>\n",
       "      <td>0.0</td>\n",
       "      <td>97318.25</td>\n",
       "      <td>127561.89</td>\n",
       "      <td>250898.09</td>\n",
       "    </tr>\n",
       "    <tr>\n",
       "      <th>NumOfProducts</th>\n",
       "      <td>9091.0</td>\n",
       "      <td>NaN</td>\n",
       "      <td>NaN</td>\n",
       "      <td>NaN</td>\n",
       "      <td>1.530195</td>\n",
       "      <td>0.581003</td>\n",
       "      <td>1.0</td>\n",
       "      <td>1.0</td>\n",
       "      <td>1.0</td>\n",
       "      <td>2.0</td>\n",
       "      <td>4.0</td>\n",
       "    </tr>\n",
       "    <tr>\n",
       "      <th>HasCrCard</th>\n",
       "      <td>9091.0</td>\n",
       "      <td>NaN</td>\n",
       "      <td>NaN</td>\n",
       "      <td>NaN</td>\n",
       "      <td>0.704983</td>\n",
       "      <td>0.456076</td>\n",
       "      <td>0.0</td>\n",
       "      <td>0.0</td>\n",
       "      <td>1.0</td>\n",
       "      <td>1.0</td>\n",
       "      <td>1.0</td>\n",
       "    </tr>\n",
       "    <tr>\n",
       "      <th>IsActiveMember</th>\n",
       "      <td>9091.0</td>\n",
       "      <td>NaN</td>\n",
       "      <td>NaN</td>\n",
       "      <td>NaN</td>\n",
       "      <td>0.515565</td>\n",
       "      <td>0.499785</td>\n",
       "      <td>0.0</td>\n",
       "      <td>0.0</td>\n",
       "      <td>1.0</td>\n",
       "      <td>1.0</td>\n",
       "      <td>1.0</td>\n",
       "    </tr>\n",
       "    <tr>\n",
       "      <th>EstimatedSalary</th>\n",
       "      <td>9091.0</td>\n",
       "      <td>NaN</td>\n",
       "      <td>NaN</td>\n",
       "      <td>NaN</td>\n",
       "      <td>100181.214924</td>\n",
       "      <td>57624.755647</td>\n",
       "      <td>11.58</td>\n",
       "      <td>51227.745</td>\n",
       "      <td>100240.2</td>\n",
       "      <td>149567.21</td>\n",
       "      <td>199992.48</td>\n",
       "    </tr>\n",
       "    <tr>\n",
       "      <th>Exited</th>\n",
       "      <td>9091.0</td>\n",
       "      <td>NaN</td>\n",
       "      <td>NaN</td>\n",
       "      <td>NaN</td>\n",
       "      <td>0.203938</td>\n",
       "      <td>0.402946</td>\n",
       "      <td>0.0</td>\n",
       "      <td>0.0</td>\n",
       "      <td>0.0</td>\n",
       "      <td>0.0</td>\n",
       "      <td>1.0</td>\n",
       "    </tr>\n",
       "  </tbody>\n",
       "</table>\n",
       "</div>"
      ],
      "text/plain": [
       "                  count unique     top  freq             mean           std  \\\n",
       "RowNumber        9091.0    NaN     NaN   NaN      5013.909911   2884.433466   \n",
       "CustomerId       9091.0    NaN     NaN   NaN  15691053.156308  71614.191982   \n",
       "Surname            9091   2787   Smith    30              NaN           NaN   \n",
       "CreditScore      9091.0    NaN     NaN   NaN       650.736553     96.410471   \n",
       "Geography          9091      3  France  4550              NaN           NaN   \n",
       "Gender             9091      2    Male  4974              NaN           NaN   \n",
       "Age              9091.0    NaN     NaN   NaN        38.949181     10.555581   \n",
       "Tenure           9091.0    NaN     NaN   NaN          4.99769      2.894723   \n",
       "Balance          9091.0    NaN     NaN   NaN     76522.740015  62329.528576   \n",
       "NumOfProducts    9091.0    NaN     NaN   NaN         1.530195      0.581003   \n",
       "HasCrCard        9091.0    NaN     NaN   NaN         0.704983      0.456076   \n",
       "IsActiveMember   9091.0    NaN     NaN   NaN         0.515565      0.499785   \n",
       "EstimatedSalary  9091.0    NaN     NaN   NaN    100181.214924  57624.755647   \n",
       "Exited           9091.0    NaN     NaN   NaN         0.203938      0.402946   \n",
       "\n",
       "                        min         25%         50%         75%         max  \n",
       "RowNumber               1.0      2521.5      5019.0      7511.5      9999.0  \n",
       "CustomerId       15565701.0  15628985.5  15691061.0  15752851.5  15815660.0  \n",
       "Surname                 NaN         NaN         NaN         NaN         NaN  \n",
       "CreditScore           350.0       584.0       652.0       717.0       850.0  \n",
       "Geography               NaN         NaN         NaN         NaN         NaN  \n",
       "Gender                  NaN         NaN         NaN         NaN         NaN  \n",
       "Age                    18.0        32.0        37.0        44.0        92.0  \n",
       "Tenure                  0.0         2.0         5.0         7.0        10.0  \n",
       "Balance                 0.0         0.0    97318.25   127561.89   250898.09  \n",
       "NumOfProducts           1.0         1.0         1.0         2.0         4.0  \n",
       "HasCrCard               0.0         0.0         1.0         1.0         1.0  \n",
       "IsActiveMember          0.0         0.0         1.0         1.0         1.0  \n",
       "EstimatedSalary       11.58   51227.745    100240.2   149567.21   199992.48  \n",
       "Exited                  0.0         0.0         0.0         0.0         1.0  "
      ]
     },
     "execution_count": 6,
     "metadata": {},
     "output_type": "execute_result"
    }
   ],
   "source": [
    "check = data.describe(include='all').transpose()\n",
    "check"
   ]
  },
  {
   "cell_type": "code",
   "execution_count": 7,
   "metadata": {
    "scrolled": true
   },
   "outputs": [
    {
     "data": {
      "text/html": [
       "<div>\n",
       "<style scoped>\n",
       "    .dataframe tbody tr th:only-of-type {\n",
       "        vertical-align: middle;\n",
       "    }\n",
       "\n",
       "    .dataframe tbody tr th {\n",
       "        vertical-align: top;\n",
       "    }\n",
       "\n",
       "    .dataframe thead th {\n",
       "        text-align: right;\n",
       "    }\n",
       "</style>\n",
       "<table border=\"1\" class=\"dataframe\">\n",
       "  <thead>\n",
       "    <tr style=\"text-align: right;\">\n",
       "      <th></th>\n",
       "      <th>RowNumber</th>\n",
       "      <th>CustomerId</th>\n",
       "      <th>Surname</th>\n",
       "      <th>CreditScore</th>\n",
       "      <th>Geography</th>\n",
       "      <th>Gender</th>\n",
       "      <th>Age</th>\n",
       "      <th>Tenure</th>\n",
       "      <th>Balance</th>\n",
       "      <th>NumOfProducts</th>\n",
       "      <th>HasCrCard</th>\n",
       "      <th>IsActiveMember</th>\n",
       "      <th>EstimatedSalary</th>\n",
       "      <th>Exited</th>\n",
       "    </tr>\n",
       "  </thead>\n",
       "  <tbody>\n",
       "    <tr>\n",
       "      <th>0</th>\n",
       "      <td>1</td>\n",
       "      <td>15634602</td>\n",
       "      <td>Hargrave</td>\n",
       "      <td>619</td>\n",
       "      <td>France</td>\n",
       "      <td>Female</td>\n",
       "      <td>42</td>\n",
       "      <td>2.0</td>\n",
       "      <td>0.00</td>\n",
       "      <td>1</td>\n",
       "      <td>1</td>\n",
       "      <td>1</td>\n",
       "      <td>101348.88</td>\n",
       "      <td>1</td>\n",
       "    </tr>\n",
       "    <tr>\n",
       "      <th>1</th>\n",
       "      <td>2</td>\n",
       "      <td>15647311</td>\n",
       "      <td>Hill</td>\n",
       "      <td>608</td>\n",
       "      <td>Spain</td>\n",
       "      <td>Female</td>\n",
       "      <td>41</td>\n",
       "      <td>1.0</td>\n",
       "      <td>83807.86</td>\n",
       "      <td>1</td>\n",
       "      <td>0</td>\n",
       "      <td>1</td>\n",
       "      <td>112542.58</td>\n",
       "      <td>0</td>\n",
       "    </tr>\n",
       "    <tr>\n",
       "      <th>2</th>\n",
       "      <td>3</td>\n",
       "      <td>15619304</td>\n",
       "      <td>Onio</td>\n",
       "      <td>502</td>\n",
       "      <td>France</td>\n",
       "      <td>Female</td>\n",
       "      <td>42</td>\n",
       "      <td>8.0</td>\n",
       "      <td>159660.80</td>\n",
       "      <td>3</td>\n",
       "      <td>1</td>\n",
       "      <td>0</td>\n",
       "      <td>113931.57</td>\n",
       "      <td>1</td>\n",
       "    </tr>\n",
       "    <tr>\n",
       "      <th>3</th>\n",
       "      <td>4</td>\n",
       "      <td>15701354</td>\n",
       "      <td>Boni</td>\n",
       "      <td>699</td>\n",
       "      <td>France</td>\n",
       "      <td>Female</td>\n",
       "      <td>39</td>\n",
       "      <td>1.0</td>\n",
       "      <td>0.00</td>\n",
       "      <td>2</td>\n",
       "      <td>0</td>\n",
       "      <td>0</td>\n",
       "      <td>93826.63</td>\n",
       "      <td>0</td>\n",
       "    </tr>\n",
       "    <tr>\n",
       "      <th>4</th>\n",
       "      <td>5</td>\n",
       "      <td>15737888</td>\n",
       "      <td>Mitchell</td>\n",
       "      <td>850</td>\n",
       "      <td>Spain</td>\n",
       "      <td>Female</td>\n",
       "      <td>43</td>\n",
       "      <td>2.0</td>\n",
       "      <td>125510.82</td>\n",
       "      <td>1</td>\n",
       "      <td>1</td>\n",
       "      <td>1</td>\n",
       "      <td>79084.10</td>\n",
       "      <td>0</td>\n",
       "    </tr>\n",
       "    <tr>\n",
       "      <th>...</th>\n",
       "      <td>...</td>\n",
       "      <td>...</td>\n",
       "      <td>...</td>\n",
       "      <td>...</td>\n",
       "      <td>...</td>\n",
       "      <td>...</td>\n",
       "      <td>...</td>\n",
       "      <td>...</td>\n",
       "      <td>...</td>\n",
       "      <td>...</td>\n",
       "      <td>...</td>\n",
       "      <td>...</td>\n",
       "      <td>...</td>\n",
       "      <td>...</td>\n",
       "    </tr>\n",
       "    <tr>\n",
       "      <th>9994</th>\n",
       "      <td>9995</td>\n",
       "      <td>15719294</td>\n",
       "      <td>Wood</td>\n",
       "      <td>800</td>\n",
       "      <td>France</td>\n",
       "      <td>Female</td>\n",
       "      <td>29</td>\n",
       "      <td>2.0</td>\n",
       "      <td>0.00</td>\n",
       "      <td>2</td>\n",
       "      <td>0</td>\n",
       "      <td>0</td>\n",
       "      <td>167773.55</td>\n",
       "      <td>0</td>\n",
       "    </tr>\n",
       "    <tr>\n",
       "      <th>9995</th>\n",
       "      <td>9996</td>\n",
       "      <td>15606229</td>\n",
       "      <td>Obijiaku</td>\n",
       "      <td>771</td>\n",
       "      <td>France</td>\n",
       "      <td>Male</td>\n",
       "      <td>39</td>\n",
       "      <td>5.0</td>\n",
       "      <td>0.00</td>\n",
       "      <td>2</td>\n",
       "      <td>1</td>\n",
       "      <td>0</td>\n",
       "      <td>96270.64</td>\n",
       "      <td>0</td>\n",
       "    </tr>\n",
       "    <tr>\n",
       "      <th>9996</th>\n",
       "      <td>9997</td>\n",
       "      <td>15569892</td>\n",
       "      <td>Johnstone</td>\n",
       "      <td>516</td>\n",
       "      <td>France</td>\n",
       "      <td>Male</td>\n",
       "      <td>35</td>\n",
       "      <td>10.0</td>\n",
       "      <td>57369.61</td>\n",
       "      <td>1</td>\n",
       "      <td>1</td>\n",
       "      <td>1</td>\n",
       "      <td>101699.77</td>\n",
       "      <td>0</td>\n",
       "    </tr>\n",
       "    <tr>\n",
       "      <th>9997</th>\n",
       "      <td>9998</td>\n",
       "      <td>15584532</td>\n",
       "      <td>Liu</td>\n",
       "      <td>709</td>\n",
       "      <td>France</td>\n",
       "      <td>Female</td>\n",
       "      <td>36</td>\n",
       "      <td>7.0</td>\n",
       "      <td>0.00</td>\n",
       "      <td>1</td>\n",
       "      <td>0</td>\n",
       "      <td>1</td>\n",
       "      <td>42085.58</td>\n",
       "      <td>1</td>\n",
       "    </tr>\n",
       "    <tr>\n",
       "      <th>9998</th>\n",
       "      <td>9999</td>\n",
       "      <td>15682355</td>\n",
       "      <td>Sabbatini</td>\n",
       "      <td>772</td>\n",
       "      <td>Germany</td>\n",
       "      <td>Male</td>\n",
       "      <td>42</td>\n",
       "      <td>3.0</td>\n",
       "      <td>75075.31</td>\n",
       "      <td>2</td>\n",
       "      <td>1</td>\n",
       "      <td>0</td>\n",
       "      <td>92888.52</td>\n",
       "      <td>1</td>\n",
       "    </tr>\n",
       "  </tbody>\n",
       "</table>\n",
       "<p>9091 rows × 14 columns</p>\n",
       "</div>"
      ],
      "text/plain": [
       "      RowNumber  CustomerId    Surname  CreditScore Geography  Gender  Age  \\\n",
       "0             1    15634602   Hargrave          619    France  Female   42   \n",
       "1             2    15647311       Hill          608     Spain  Female   41   \n",
       "2             3    15619304       Onio          502    France  Female   42   \n",
       "3             4    15701354       Boni          699    France  Female   39   \n",
       "4             5    15737888   Mitchell          850     Spain  Female   43   \n",
       "...         ...         ...        ...          ...       ...     ...  ...   \n",
       "9994       9995    15719294       Wood          800    France  Female   29   \n",
       "9995       9996    15606229   Obijiaku          771    France    Male   39   \n",
       "9996       9997    15569892  Johnstone          516    France    Male   35   \n",
       "9997       9998    15584532        Liu          709    France  Female   36   \n",
       "9998       9999    15682355  Sabbatini          772   Germany    Male   42   \n",
       "\n",
       "      Tenure    Balance  NumOfProducts  HasCrCard  IsActiveMember  \\\n",
       "0        2.0       0.00              1          1               1   \n",
       "1        1.0   83807.86              1          0               1   \n",
       "2        8.0  159660.80              3          1               0   \n",
       "3        1.0       0.00              2          0               0   \n",
       "4        2.0  125510.82              1          1               1   \n",
       "...      ...        ...            ...        ...             ...   \n",
       "9994     2.0       0.00              2          0               0   \n",
       "9995     5.0       0.00              2          1               0   \n",
       "9996    10.0   57369.61              1          1               1   \n",
       "9997     7.0       0.00              1          0               1   \n",
       "9998     3.0   75075.31              2          1               0   \n",
       "\n",
       "      EstimatedSalary  Exited  \n",
       "0           101348.88       1  \n",
       "1           112542.58       0  \n",
       "2           113931.57       1  \n",
       "3            93826.63       0  \n",
       "4            79084.10       0  \n",
       "...               ...     ...  \n",
       "9994        167773.55       0  \n",
       "9995         96270.64       0  \n",
       "9996        101699.77       0  \n",
       "9997         42085.58       1  \n",
       "9998         92888.52       1  \n",
       "\n",
       "[9091 rows x 14 columns]"
      ]
     },
     "metadata": {},
     "output_type": "display_data"
    }
   ],
   "source": [
    "display(data)"
   ]
  },
  {
   "cell_type": "markdown",
   "metadata": {},
   "source": [
    "<div class=\"alert alert-info\">\n",
    "Можно заметить, что заголовки колонок начинаются с большой буквы, поэтому проведем корректировку названий\n",
    "</div>"
   ]
  },
  {
   "cell_type": "code",
   "execution_count": 8,
   "metadata": {},
   "outputs": [],
   "source": [
    "data.columns = [re.sub(r'(?<!^)(?=[A-Z])', '_', i).lower() for i in data.columns]"
   ]
  },
  {
   "cell_type": "code",
   "execution_count": 9,
   "metadata": {
    "scrolled": false
   },
   "outputs": [
    {
     "data": {
      "image/png": "[encoded data removed]",
      "text/plain": [
       "<Figure size 720x720 with 12 Axes>"
      ]
     },
     "metadata": {
      "needs_background": "light"
     },
     "output_type": "display_data"
    }
   ],
   "source": [
    "data.hist(figsize=(10, 10), bins = 50, color='black');"
   ]
  },
  {
   "cell_type": "code",
   "execution_count": 10,
   "metadata": {
    "scrolled": true
   },
   "outputs": [
    {
     "name": "stdout",
     "output_type": "stream",
     "text": [
      "row_number\n",
      "2049    1\n",
      "6822    1\n",
      "669     1\n",
      "6814    1\n",
      "4767    1\n",
      "       ..\n",
      "1322    1\n",
      "7465    1\n",
      "5416    1\n",
      "9510    1\n",
      "2047    1\n",
      "Name: row_number, Length: 9091, dtype: int64\n",
      "__________________________\n",
      "customer_id\n",
      "15646720    1\n",
      "15758035    1\n",
      "15796015    1\n",
      "15768270    1\n",
      "15785042    1\n",
      "           ..\n",
      "15762762    1\n",
      "15745433    1\n",
      "15814757    1\n",
      "15635776    1\n",
      "15812607    1\n",
      "Name: customer_id, Length: 9091, dtype: int64\n",
      "__________________________\n",
      "surname\n",
      "Smith           30\n",
      "Martin          27\n",
      "Scott           26\n",
      "Genovese        25\n",
      "Walker          25\n",
      "                ..\n",
      "Cowger           1\n",
      "Frederickson     1\n",
      "Castella         1\n",
      "Fomina           1\n",
      "Hannam           1\n",
      "Name: surname, Length: 2787, dtype: int64\n",
      "__________________________\n",
      "credit_score\n",
      "850    210\n",
      "678     60\n",
      "655     51\n",
      "705     48\n",
      "683     47\n",
      "      ... \n",
      "382      1\n",
      "351      1\n",
      "367      1\n",
      "383      1\n",
      "376      1\n",
      "Name: credit_score, Length: 458, dtype: int64\n",
      "__________________________\n",
      "geography\n",
      "France     4550\n",
      "Germany    2293\n",
      "Spain      2248\n",
      "Name: geography, dtype: int64\n",
      "__________________________\n",
      "gender\n",
      "Male      4974\n",
      "Female    4117\n",
      "Name: gender, dtype: int64\n",
      "__________________________\n",
      "age\n",
      "37    435\n",
      "35    431\n",
      "38    424\n",
      "34    412\n",
      "33    403\n",
      "     ... \n",
      "88      1\n",
      "92      1\n",
      "82      1\n",
      "85      1\n",
      "83      1\n",
      "Name: age, Length: 70, dtype: int64\n",
      "__________________________\n",
      "tenure\n",
      "1.0     952\n",
      "2.0     950\n",
      "8.0     933\n",
      "3.0     928\n",
      "5.0     927\n",
      "7.0     925\n",
      "4.0     885\n",
      "9.0     882\n",
      "6.0     881\n",
      "10.0    446\n",
      "0.0     382\n",
      "Name: tenure, dtype: int64\n",
      "__________________________\n",
      "balance\n",
      "0.00         3283\n",
      "105473.74       2\n",
      "130170.82       2\n",
      "104088.59       1\n",
      "99836.47        1\n",
      "             ... \n",
      "166287.85       1\n",
      "110929.96       1\n",
      "131406.56       1\n",
      "91611.12        1\n",
      "104001.38       1\n",
      "Name: balance, Length: 5807, dtype: int64\n",
      "__________________________\n",
      "num_of_products\n",
      "1    4617\n",
      "2    4184\n",
      "3     234\n",
      "4      56\n",
      "Name: num_of_products, dtype: int64\n",
      "__________________________\n",
      "has_cr_card\n",
      "1    6409\n",
      "0    2682\n",
      "Name: has_cr_card, dtype: int64\n",
      "__________________________\n",
      "is_active_member\n",
      "1    4687\n",
      "0    4404\n",
      "Name: is_active_member, dtype: int64\n",
      "__________________________\n",
      "estimated_salary\n",
      "24924.92     2\n",
      "109145.20    1\n",
      "193746.55    1\n",
      "96.27        1\n",
      "190958.48    1\n",
      "            ..\n",
      "166324.79    1\n",
      "147090.90    1\n",
      "5698.97      1\n",
      "190663.89    1\n",
      "92320.37     1\n",
      "Name: estimated_salary, Length: 9090, dtype: int64\n",
      "__________________________\n",
      "exited\n",
      "0    7237\n",
      "1    1854\n",
      "Name: exited, dtype: int64\n",
      "__________________________\n"
     ]
    }
   ],
   "source": [
    "for column in data:\n",
    "    print(column)\n",
    "    print(data[column].value_counts())\n",
    "    print('__________________________')"
   ]
  },
  {
   "cell_type": "markdown",
   "metadata": {},
   "source": [
    "<div class=\"alert alert-info\">\n",
    "<ul>\n",
    "    <li><b>row_number</b> — индекс строки в данных</li>\n",
    "    <li><b>customer_id</b> — уникальный идентификатор клиента</li>\n",
    "    <li><b>surname</b> — фамилия</li>\n",
    "    <li><b>credit_score</b> — кредитный рейтинг</li>\n",
    "    <li><b>geography</b> — страна проживания</li>\n",
    "    <li><b>gender</b> — пол</li>\n",
    "    <li><b>age</b> — возраст</li>\n",
    "    <li><b>tenure</b> — сколько лет человек является клиентом банка</li>\n",
    "    <li><b>balance</b> — баланс на счёте</li>\n",
    "    <li><b>num_of_products</b> — количество продуктов банка, используемых клиентом</li>\n",
    "    <li><b>has_cr_card</b> — наличие кредитной карты</li>\n",
    "    <li><b>is_active_member</b> — активность клиента</li>\n",
    "    <li><b>estimated_salary</b> — предполагаемая зарплата</li>\n",
    "</ul>\n",
    "</div>"
   ]
  },
  {
   "cell_type": "markdown",
   "metadata": {},
   "source": [
    "<div class=\"alert alert-info\">\n",
    "<b>Целевой признак</b>\n",
    "<ul>\n",
    "    <li><b>exited</b> — факт ухода клиента</li>\n",
    "</ul>\n",
    "</div>"
   ]
  },
  {
   "cell_type": "markdown",
   "metadata": {},
   "source": [
    "<div class=\"alert alert-info\">\n",
    "Столбцы: <b>row_number, customer_id, surname</b> можно удалить т.к. они не являются ни количественными, ни категориальными признаками для обучения будущей модели\n",
    "</div>"
   ]
  },
  {
   "cell_type": "code",
   "execution_count": 11,
   "metadata": {},
   "outputs": [],
   "source": [
    "data = data.drop(['row_number', 'customer_id', 'surname'], axis = 1)"
   ]
  },
  {
   "cell_type": "markdown",
   "metadata": {},
   "source": [
    "<div class=\"alert alert-info\">\n",
    "Преобразуем категориальные признаки в количественные методом ONE HOT ENCODER\n",
    "</div>"
   ]
  },
  {
   "cell_type": "code",
   "execution_count": 12,
   "metadata": {},
   "outputs": [],
   "source": [
    "data_ohe = pd.get_dummies(data, drop_first=True)"
   ]
  },
  {
   "cell_type": "code",
   "execution_count": 13,
   "metadata": {},
   "outputs": [
    {
     "data": {
      "text/html": [
       "<div>\n",
       "<style scoped>\n",
       "    .dataframe tbody tr th:only-of-type {\n",
       "        vertical-align: middle;\n",
       "    }\n",
       "\n",
       "    .dataframe tbody tr th {\n",
       "        vertical-align: top;\n",
       "    }\n",
       "\n",
       "    .dataframe thead th {\n",
       "        text-align: right;\n",
       "    }\n",
       "</style>\n",
       "<table border=\"1\" class=\"dataframe\">\n",
       "  <thead>\n",
       "    <tr style=\"text-align: right;\">\n",
       "      <th></th>\n",
       "      <th>credit_score</th>\n",
       "      <th>geography</th>\n",
       "      <th>gender</th>\n",
       "      <th>age</th>\n",
       "      <th>tenure</th>\n",
       "      <th>balance</th>\n",
       "      <th>num_of_products</th>\n",
       "      <th>has_cr_card</th>\n",
       "      <th>is_active_member</th>\n",
       "      <th>estimated_salary</th>\n",
       "      <th>exited</th>\n",
       "    </tr>\n",
       "  </thead>\n",
       "  <tbody>\n",
       "    <tr>\n",
       "      <th>0</th>\n",
       "      <td>619</td>\n",
       "      <td>France</td>\n",
       "      <td>Female</td>\n",
       "      <td>42</td>\n",
       "      <td>2.0</td>\n",
       "      <td>0.00</td>\n",
       "      <td>1</td>\n",
       "      <td>1</td>\n",
       "      <td>1</td>\n",
       "      <td>101348.88</td>\n",
       "      <td>1</td>\n",
       "    </tr>\n",
       "    <tr>\n",
       "      <th>1</th>\n",
       "      <td>608</td>\n",
       "      <td>Spain</td>\n",
       "      <td>Female</td>\n",
       "      <td>41</td>\n",
       "      <td>1.0</td>\n",
       "      <td>83807.86</td>\n",
       "      <td>1</td>\n",
       "      <td>0</td>\n",
       "      <td>1</td>\n",
       "      <td>112542.58</td>\n",
       "      <td>0</td>\n",
       "    </tr>\n",
       "    <tr>\n",
       "      <th>2</th>\n",
       "      <td>502</td>\n",
       "      <td>France</td>\n",
       "      <td>Female</td>\n",
       "      <td>42</td>\n",
       "      <td>8.0</td>\n",
       "      <td>159660.80</td>\n",
       "      <td>3</td>\n",
       "      <td>1</td>\n",
       "      <td>0</td>\n",
       "      <td>113931.57</td>\n",
       "      <td>1</td>\n",
       "    </tr>\n",
       "    <tr>\n",
       "      <th>3</th>\n",
       "      <td>699</td>\n",
       "      <td>France</td>\n",
       "      <td>Female</td>\n",
       "      <td>39</td>\n",
       "      <td>1.0</td>\n",
       "      <td>0.00</td>\n",
       "      <td>2</td>\n",
       "      <td>0</td>\n",
       "      <td>0</td>\n",
       "      <td>93826.63</td>\n",
       "      <td>0</td>\n",
       "    </tr>\n",
       "    <tr>\n",
       "      <th>4</th>\n",
       "      <td>850</td>\n",
       "      <td>Spain</td>\n",
       "      <td>Female</td>\n",
       "      <td>43</td>\n",
       "      <td>2.0</td>\n",
       "      <td>125510.82</td>\n",
       "      <td>1</td>\n",
       "      <td>1</td>\n",
       "      <td>1</td>\n",
       "      <td>79084.10</td>\n",
       "      <td>0</td>\n",
       "    </tr>\n",
       "    <tr>\n",
       "      <th>...</th>\n",
       "      <td>...</td>\n",
       "      <td>...</td>\n",
       "      <td>...</td>\n",
       "      <td>...</td>\n",
       "      <td>...</td>\n",
       "      <td>...</td>\n",
       "      <td>...</td>\n",
       "      <td>...</td>\n",
       "      <td>...</td>\n",
       "      <td>...</td>\n",
       "      <td>...</td>\n",
       "    </tr>\n",
       "    <tr>\n",
       "      <th>9994</th>\n",
       "      <td>800</td>\n",
       "      <td>France</td>\n",
       "      <td>Female</td>\n",
       "      <td>29</td>\n",
       "      <td>2.0</td>\n",
       "      <td>0.00</td>\n",
       "      <td>2</td>\n",
       "      <td>0</td>\n",
       "      <td>0</td>\n",
       "      <td>167773.55</td>\n",
       "      <td>0</td>\n",
       "    </tr>\n",
       "    <tr>\n",
       "      <th>9995</th>\n",
       "      <td>771</td>\n",
       "      <td>France</td>\n",
       "      <td>Male</td>\n",
       "      <td>39</td>\n",
       "      <td>5.0</td>\n",
       "      <td>0.00</td>\n",
       "      <td>2</td>\n",
       "      <td>1</td>\n",
       "      <td>0</td>\n",
       "      <td>96270.64</td>\n",
       "      <td>0</td>\n",
       "    </tr>\n",
       "    <tr>\n",
       "      <th>9996</th>\n",
       "      <td>516</td>\n",
       "      <td>France</td>\n",
       "      <td>Male</td>\n",
       "      <td>35</td>\n",
       "      <td>10.0</td>\n",
       "      <td>57369.61</td>\n",
       "      <td>1</td>\n",
       "      <td>1</td>\n",
       "      <td>1</td>\n",
       "      <td>101699.77</td>\n",
       "      <td>0</td>\n",
       "    </tr>\n",
       "    <tr>\n",
       "      <th>9997</th>\n",
       "      <td>709</td>\n",
       "      <td>France</td>\n",
       "      <td>Female</td>\n",
       "      <td>36</td>\n",
       "      <td>7.0</td>\n",
       "      <td>0.00</td>\n",
       "      <td>1</td>\n",
       "      <td>0</td>\n",
       "      <td>1</td>\n",
       "      <td>42085.58</td>\n",
       "      <td>1</td>\n",
       "    </tr>\n",
       "    <tr>\n",
       "      <th>9998</th>\n",
       "      <td>772</td>\n",
       "      <td>Germany</td>\n",
       "      <td>Male</td>\n",
       "      <td>42</td>\n",
       "      <td>3.0</td>\n",
       "      <td>75075.31</td>\n",
       "      <td>2</td>\n",
       "      <td>1</td>\n",
       "      <td>0</td>\n",
       "      <td>92888.52</td>\n",
       "      <td>1</td>\n",
       "    </tr>\n",
       "  </tbody>\n",
       "</table>\n",
       "<p>9091 rows × 11 columns</p>\n",
       "</div>"
      ],
      "text/plain": [
       "      credit_score geography  gender  age  tenure    balance  num_of_products  \\\n",
       "0              619    France  Female   42     2.0       0.00                1   \n",
       "1              608     Spain  Female   41     1.0   83807.86                1   \n",
       "2              502    France  Female   42     8.0  159660.80                3   \n",
       "3              699    France  Female   39     1.0       0.00                2   \n",
       "4              850     Spain  Female   43     2.0  125510.82                1   \n",
       "...            ...       ...     ...  ...     ...        ...              ...   \n",
       "9994           800    France  Female   29     2.0       0.00                2   \n",
       "9995           771    France    Male   39     5.0       0.00                2   \n",
       "9996           516    France    Male   35    10.0   57369.61                1   \n",
       "9997           709    France  Female   36     7.0       0.00                1   \n",
       "9998           772   Germany    Male   42     3.0   75075.31                2   \n",
       "\n",
       "      has_cr_card  is_active_member  estimated_salary  exited  \n",
       "0               1                 1         101348.88       1  \n",
       "1               0                 1         112542.58       0  \n",
       "2               1                 0         113931.57       1  \n",
       "3               0                 0          93826.63       0  \n",
       "4               1                 1          79084.10       0  \n",
       "...           ...               ...               ...     ...  \n",
       "9994            0                 0         167773.55       0  \n",
       "9995            1                 0          96270.64       0  \n",
       "9996            1                 1         101699.77       0  \n",
       "9997            0                 1          42085.58       1  \n",
       "9998            1                 0          92888.52       1  \n",
       "\n",
       "[9091 rows x 11 columns]"
      ]
     },
     "metadata": {},
     "output_type": "display_data"
    }
   ],
   "source": [
    "display(data)"
   ]
  },
  {
   "cell_type": "code",
   "execution_count": 14,
   "metadata": {
    "scrolled": true
   },
   "outputs": [
    {
     "data": {
      "text/html": [
       "<div>\n",
       "<style scoped>\n",
       "    .dataframe tbody tr th:only-of-type {\n",
       "        vertical-align: middle;\n",
       "    }\n",
       "\n",
       "    .dataframe tbody tr th {\n",
       "        vertical-align: top;\n",
       "    }\n",
       "\n",
       "    .dataframe thead th {\n",
       "        text-align: right;\n",
       "    }\n",
       "</style>\n",
       "<table border=\"1\" class=\"dataframe\">\n",
       "  <thead>\n",
       "    <tr style=\"text-align: right;\">\n",
       "      <th></th>\n",
       "      <th>credit_score</th>\n",
       "      <th>age</th>\n",
       "      <th>tenure</th>\n",
       "      <th>balance</th>\n",
       "      <th>num_of_products</th>\n",
       "      <th>has_cr_card</th>\n",
       "      <th>is_active_member</th>\n",
       "      <th>estimated_salary</th>\n",
       "      <th>exited</th>\n",
       "      <th>geography_Germany</th>\n",
       "      <th>geography_Spain</th>\n",
       "      <th>gender_Male</th>\n",
       "    </tr>\n",
       "  </thead>\n",
       "  <tbody>\n",
       "    <tr>\n",
       "      <th>0</th>\n",
       "      <td>619</td>\n",
       "      <td>42</td>\n",
       "      <td>2.0</td>\n",
       "      <td>0.00</td>\n",
       "      <td>1</td>\n",
       "      <td>1</td>\n",
       "      <td>1</td>\n",
       "      <td>101348.88</td>\n",
       "      <td>1</td>\n",
       "      <td>0</td>\n",
       "      <td>0</td>\n",
       "      <td>0</td>\n",
       "    </tr>\n",
       "    <tr>\n",
       "      <th>1</th>\n",
       "      <td>608</td>\n",
       "      <td>41</td>\n",
       "      <td>1.0</td>\n",
       "      <td>83807.86</td>\n",
       "      <td>1</td>\n",
       "      <td>0</td>\n",
       "      <td>1</td>\n",
       "      <td>112542.58</td>\n",
       "      <td>0</td>\n",
       "      <td>0</td>\n",
       "      <td>1</td>\n",
       "      <td>0</td>\n",
       "    </tr>\n",
       "    <tr>\n",
       "      <th>2</th>\n",
       "      <td>502</td>\n",
       "      <td>42</td>\n",
       "      <td>8.0</td>\n",
       "      <td>159660.80</td>\n",
       "      <td>3</td>\n",
       "      <td>1</td>\n",
       "      <td>0</td>\n",
       "      <td>113931.57</td>\n",
       "      <td>1</td>\n",
       "      <td>0</td>\n",
       "      <td>0</td>\n",
       "      <td>0</td>\n",
       "    </tr>\n",
       "    <tr>\n",
       "      <th>3</th>\n",
       "      <td>699</td>\n",
       "      <td>39</td>\n",
       "      <td>1.0</td>\n",
       "      <td>0.00</td>\n",
       "      <td>2</td>\n",
       "      <td>0</td>\n",
       "      <td>0</td>\n",
       "      <td>93826.63</td>\n",
       "      <td>0</td>\n",
       "      <td>0</td>\n",
       "      <td>0</td>\n",
       "      <td>0</td>\n",
       "    </tr>\n",
       "    <tr>\n",
       "      <th>4</th>\n",
       "      <td>850</td>\n",
       "      <td>43</td>\n",
       "      <td>2.0</td>\n",
       "      <td>125510.82</td>\n",
       "      <td>1</td>\n",
       "      <td>1</td>\n",
       "      <td>1</td>\n",
       "      <td>79084.10</td>\n",
       "      <td>0</td>\n",
       "      <td>0</td>\n",
       "      <td>1</td>\n",
       "      <td>0</td>\n",
       "    </tr>\n",
       "    <tr>\n",
       "      <th>...</th>\n",
       "      <td>...</td>\n",
       "      <td>...</td>\n",
       "      <td>...</td>\n",
       "      <td>...</td>\n",
       "      <td>...</td>\n",
       "      <td>...</td>\n",
       "      <td>...</td>\n",
       "      <td>...</td>\n",
       "      <td>...</td>\n",
       "      <td>...</td>\n",
       "      <td>...</td>\n",
       "      <td>...</td>\n",
       "    </tr>\n",
       "    <tr>\n",
       "      <th>9994</th>\n",
       "      <td>800</td>\n",
       "      <td>29</td>\n",
       "      <td>2.0</td>\n",
       "      <td>0.00</td>\n",
       "      <td>2</td>\n",
       "      <td>0</td>\n",
       "      <td>0</td>\n",
       "      <td>167773.55</td>\n",
       "      <td>0</td>\n",
       "      <td>0</td>\n",
       "      <td>0</td>\n",
       "      <td>0</td>\n",
       "    </tr>\n",
       "    <tr>\n",
       "      <th>9995</th>\n",
       "      <td>771</td>\n",
       "      <td>39</td>\n",
       "      <td>5.0</td>\n",
       "      <td>0.00</td>\n",
       "      <td>2</td>\n",
       "      <td>1</td>\n",
       "      <td>0</td>\n",
       "      <td>96270.64</td>\n",
       "      <td>0</td>\n",
       "      <td>0</td>\n",
       "      <td>0</td>\n",
       "      <td>1</td>\n",
       "    </tr>\n",
       "    <tr>\n",
       "      <th>9996</th>\n",
       "      <td>516</td>\n",
       "      <td>35</td>\n",
       "      <td>10.0</td>\n",
       "      <td>57369.61</td>\n",
       "      <td>1</td>\n",
       "      <td>1</td>\n",
       "      <td>1</td>\n",
       "      <td>101699.77</td>\n",
       "      <td>0</td>\n",
       "      <td>0</td>\n",
       "      <td>0</td>\n",
       "      <td>1</td>\n",
       "    </tr>\n",
       "    <tr>\n",
       "      <th>9997</th>\n",
       "      <td>709</td>\n",
       "      <td>36</td>\n",
       "      <td>7.0</td>\n",
       "      <td>0.00</td>\n",
       "      <td>1</td>\n",
       "      <td>0</td>\n",
       "      <td>1</td>\n",
       "      <td>42085.58</td>\n",
       "      <td>1</td>\n",
       "      <td>0</td>\n",
       "      <td>0</td>\n",
       "      <td>0</td>\n",
       "    </tr>\n",
       "    <tr>\n",
       "      <th>9998</th>\n",
       "      <td>772</td>\n",
       "      <td>42</td>\n",
       "      <td>3.0</td>\n",
       "      <td>75075.31</td>\n",
       "      <td>2</td>\n",
       "      <td>1</td>\n",
       "      <td>0</td>\n",
       "      <td>92888.52</td>\n",
       "      <td>1</td>\n",
       "      <td>1</td>\n",
       "      <td>0</td>\n",
       "      <td>1</td>\n",
       "    </tr>\n",
       "  </tbody>\n",
       "</table>\n",
       "<p>9091 rows × 12 columns</p>\n",
       "</div>"
      ],
      "text/plain": [
       "      credit_score  age  tenure    balance  num_of_products  has_cr_card  \\\n",
       "0              619   42     2.0       0.00                1            1   \n",
       "1              608   41     1.0   83807.86                1            0   \n",
       "2              502   42     8.0  159660.80                3            1   \n",
       "3              699   39     1.0       0.00                2            0   \n",
       "4              850   43     2.0  125510.82                1            1   \n",
       "...            ...  ...     ...        ...              ...          ...   \n",
       "9994           800   29     2.0       0.00                2            0   \n",
       "9995           771   39     5.0       0.00                2            1   \n",
       "9996           516   35    10.0   57369.61                1            1   \n",
       "9997           709   36     7.0       0.00                1            0   \n",
       "9998           772   42     3.0   75075.31                2            1   \n",
       "\n",
       "      is_active_member  estimated_salary  exited  geography_Germany  \\\n",
       "0                    1         101348.88       1                  0   \n",
       "1                    1         112542.58       0                  0   \n",
       "2                    0         113931.57       1                  0   \n",
       "3                    0          93826.63       0                  0   \n",
       "4                    1          79084.10       0                  0   \n",
       "...                ...               ...     ...                ...   \n",
       "9994                 0         167773.55       0                  0   \n",
       "9995                 0          96270.64       0                  0   \n",
       "9996                 1         101699.77       0                  0   \n",
       "9997                 1          42085.58       1                  0   \n",
       "9998                 0          92888.52       1                  1   \n",
       "\n",
       "      geography_Spain  gender_Male  \n",
       "0                   0            0  \n",
       "1                   1            0  \n",
       "2                   0            0  \n",
       "3                   0            0  \n",
       "4                   1            0  \n",
       "...               ...          ...  \n",
       "9994                0            0  \n",
       "9995                0            1  \n",
       "9996                0            1  \n",
       "9997                0            0  \n",
       "9998                0            1  \n",
       "\n",
       "[9091 rows x 12 columns]"
      ]
     },
     "metadata": {},
     "output_type": "display_data"
    }
   ],
   "source": [
    "display(data_ohe)"
   ]
  },
  {
   "cell_type": "markdown",
   "metadata": {},
   "source": [
    "<div class=\"alert alert-info\">\n",
    "Разделим датафрейм на признаки и целевой признак\n",
    "</div>"
   ]
  },
  {
   "cell_type": "code",
   "execution_count": 15,
   "metadata": {},
   "outputs": [],
   "source": [
    "features = data_ohe.drop('exited', axis=1)\n",
    "target = data_ohe['exited']"
   ]
  },
  {
   "cell_type": "markdown",
   "metadata": {},
   "source": [
    "<div class=\"alert alert-info\">\n",
    "сформируем выборки обуч - 60, валид - 20 и тест 20\n",
    "</div>"
   ]
  },
  {
   "cell_type": "code",
   "execution_count": 16,
   "metadata": {},
   "outputs": [],
   "source": [
    "features_train, features_validtest, target_train, target_validtest = train_test_split(features, target, train_size=0.6, random_state=12345)\n",
    "features_valid, features_test, target_valid, target_test = train_test_split(features_validtest, target_validtest, train_size=0.5, random_state=12345)"
   ]
  },
  {
   "cell_type": "markdown",
   "metadata": {},
   "source": [
    "<div class=\"alert alert-info\">\n",
    "в итоге\n",
    "</div>"
   ]
  },
  {
   "cell_type": "code",
   "execution_count": 17,
   "metadata": {},
   "outputs": [
    {
     "name": "stdout",
     "output_type": "stream",
     "text": [
      "Исходные данные (9091, 12)\n",
      "\n",
      "Train: (5454, 11)  -  60%\n",
      "Valid: (1818, 11)  -  20%\n",
      "Test: (1819, 11)  -  20%\n"
     ]
    }
   ],
   "source": [
    "print('Исходные данные', data_ohe.shape)\n",
    "print('')\n",
    "print('Train:', features_train.shape, ' - ', \"{:.0%}\".format(features_train.shape[0] / data_ohe.shape[0]))\n",
    "print('Valid:', features_valid.shape, ' - ', \"{:.0%}\".format(features_valid.shape[0] / data_ohe.shape[0]))\n",
    "print('Test:', features_test.shape, ' - ', \"{:.0%}\".format(features_test.shape[0] / data_ohe.shape[0]))"
   ]
  },
  {
   "cell_type": "markdown",
   "metadata": {},
   "source": [
    "## Исследование задачи"
   ]
  },
  {
   "cell_type": "markdown",
   "metadata": {},
   "source": [
    "<div class=\"alert alert-info\">\n",
    "Пройдемся по трем методам. о борьбе с дисбалансом будем думать на следующем шаге.\n",
    "Для обучения модели методом случайного леса или древом решений нужно преобразовать категориальные признаки и нужно провести порядковое кодирование\n",
    "</div>"
   ]
  },
  {
   "cell_type": "code",
   "execution_count": 18,
   "metadata": {},
   "outputs": [],
   "source": [
    "#encoder = OrdinalEncoder()\n",
    "#data_ordinal = pd.DataFrame(encoder.fit_transform(data), columns = data.columns)"
   ]
  },
  {
   "cell_type": "code",
   "execution_count": 19,
   "metadata": {
    "scrolled": true
   },
   "outputs": [
    {
     "data": {
      "text/plain": [
       "StandardScaler()"
      ]
     },
     "execution_count": 19,
     "metadata": {},
     "output_type": "execute_result"
    }
   ],
   "source": [
    "numeric = ['credit_score', 'age', 'tenure', 'balance', 'num_of_products', 'estimated_salary']\n",
    "scaler = StandardScaler()\n",
    "scaler.fit(features_train[numeric])    "
   ]
  },
  {
   "cell_type": "markdown",
   "metadata": {},
   "source": [
    "<div class=\"alert alert-info\">\n",
    "Преобразуем выборки\n",
    "</div>"
   ]
  },
  {
   "cell_type": "code",
   "execution_count": 20,
   "metadata": {
    "scrolled": false
   },
   "outputs": [],
   "source": [
    "features_train[numeric] = scaler.transform(features_train[numeric])\n",
    "features_valid[numeric] = scaler.transform(features_valid[numeric])\n",
    "features_test[numeric] = scaler.transform(features_test[numeric])"
   ]
  },
  {
   "cell_type": "markdown",
   "metadata": {},
   "source": [
    "<div class=\"alert alert-info\">\n",
    "<b>v.2</b> Мы преобразовываем выборки для стандартизации числовых признаков в данных, по сути это делается для того, чтобы данные можно было бы нормализовать и привести к одному масштабу, эти данные помогут модели учиться и использовать их в качестве критериев для вычислений\n",
    "</div>"
   ]
  },
  {
   "cell_type": "markdown",
   "metadata": {},
   "source": [
    "<div class=\"alert alert-info\">\n",
    "<b>Древо решений</b> - определяем лучший параметр max_depth\n",
    "</div>"
   ]
  },
  {
   "cell_type": "code",
   "execution_count": 21,
   "metadata": {
    "scrolled": true
   },
   "outputs": [
    {
     "name": "stdout",
     "output_type": "stream",
     "text": [
      "max_depth - [ 2 ] F1_score - [ 0.53 ], ROC_AUC - [ 0.76 ]\n",
      "max_depth - [ 3 ] F1_score - [ 0.37 ], ROC_AUC - [ 0.8 ]\n",
      "max_depth - [ 4 ] F1_score - [ 0.54 ], ROC_AUC - [ 0.82 ]\n",
      "max_depth - [ 5 ] F1_score - [ 0.51 ], ROC_AUC - [ 0.85 ]\n",
      "max_depth - [ 6 ] F1_score - [ 0.56 ], ROC_AUC - [ 0.85 ]\n",
      "max_depth - [ 7 ] F1_score - [ 0.58 ], ROC_AUC - [ 0.84 ]\n",
      "max_depth - [ 8 ] F1_score - [ 0.55 ], ROC_AUC - [ 0.81 ]\n",
      "max_depth - [ 9 ] F1_score - [ 0.55 ], ROC_AUC - [ 0.8 ]\n",
      "max_depth - [ 10 ] F1_score - [ 0.52 ], ROC_AUC - [ 0.76 ]\n",
      "max_depth - [ 11 ] F1_score - [ 0.52 ], ROC_AUC - [ 0.72 ]\n",
      "max_depth - [ 12 ] F1_score - [ 0.47 ], ROC_AUC - [ 0.7 ]\n",
      "max_depth - [ 13 ] F1_score - [ 0.48 ], ROC_AUC - [ 0.68 ]\n",
      "max_depth - [ 14 ] F1_score - [ 0.47 ], ROC_AUC - [ 0.67 ]\n",
      "max_depth - [ 15 ] F1_score - [ 0.48 ], ROC_AUC - [ 0.67 ]\n",
      "max_depth - [ 16 ] F1_score - [ 0.48 ], ROC_AUC - [ 0.68 ]\n",
      "max_depth - [ 17 ] F1_score - [ 0.47 ], ROC_AUC - [ 0.67 ]\n",
      "max_depth - [ 18 ] F1_score - [ 0.48 ], ROC_AUC - [ 0.68 ]\n",
      "max_depth - [ 19 ] F1_score - [ 0.46 ], ROC_AUC - [ 0.66 ]\n",
      "max_depth - [ 20 ] F1_score - [ 0.48 ], ROC_AUC - [ 0.67 ]\n",
      "max_depth - [ 21 ] F1_score - [ 0.49 ], ROC_AUC - [ 0.68 ]\n",
      "max_depth - [ 22 ] F1_score - [ 0.49 ], ROC_AUC - [ 0.68 ]\n",
      "max_depth - [ 23 ] F1_score - [ 0.49 ], ROC_AUC - [ 0.68 ]\n",
      "max_depth - [ 24 ] F1_score - [ 0.49 ], ROC_AUC - [ 0.68 ]\n",
      "max_depth - [ 25 ] F1_score - [ 0.49 ], ROC_AUC - [ 0.68 ]\n",
      "max_depth - [ 26 ] F1_score - [ 0.49 ], ROC_AUC - [ 0.68 ]\n",
      "max_depth - [ 27 ] F1_score - [ 0.49 ], ROC_AUC - [ 0.68 ]\n",
      "max_depth - [ 28 ] F1_score - [ 0.49 ], ROC_AUC - [ 0.68 ]\n",
      "max_depth - [ 29 ] F1_score - [ 0.49 ], ROC_AUC - [ 0.68 ]\n",
      "max_depth - [ 30 ] F1_score - [ 0.49 ], ROC_AUC - [ 0.68 ]\n"
     ]
    }
   ],
   "source": [
    "for depth in range(2, 31, 1):\n",
    "    model_tree = DecisionTreeClassifier(max_depth = depth, random_state=1234).fit(features_train, target_train)\n",
    "    prediction = model_tree.predict(features_valid)\n",
    "    prediction_proba = model_tree.predict_proba(features_valid)\n",
    "    roc_auc = round(roc_auc_score(target_valid, prediction_proba[:,1]), 2)\n",
    "    print('max_depth - [', depth, '] F1_score - [', round(f1_score(target_valid, prediction),2), '], ROC_AUC - [', roc_auc, ']')"
   ]
  },
  {
   "cell_type": "markdown",
   "metadata": {},
   "source": [
    "<div class=\"alert alert-info\">\n",
    "Вывод: \n",
    "<br>\n",
    "лучший параметр max_depth - <b>7</b>\n",
    "<br>\n",
    "F1_score - <b>0.58</b>\n",
    "<br>\n",
    "ROC_AUC - <b>0.84</b>\n",
    "</div>"
   ]
  },
  {
   "cell_type": "markdown",
   "metadata": {},
   "source": [
    "<div class=\"alert alert-info\">\n",
    "<b>Случайный лес</b> - определяем лучший параметр max_depth, n_estimators, roc_auc\n",
    "</div>"
   ]
  },
  {
   "cell_type": "code",
   "execution_count": 40,
   "metadata": {
    "scrolled": true
   },
   "outputs": [
    {
     "name": "stdout",
     "output_type": "stream",
     "text": [
      "n_estimators - [ 1 ] max_depth - [ 1 ] F1_score - [ 0.26 ] ROC_AUC - [ 0.57 ]\n",
      "n_estimators - [ 1 ] max_depth - [ 2 ] F1_score - [ 0.26 ] ROC_AUC - [ 0.67 ]\n",
      "n_estimators - [ 1 ] max_depth - [ 3 ] F1_score - [ 0.25 ] ROC_AUC - [ 0.74 ]\n",
      "n_estimators - [ 1 ] max_depth - [ 4 ] F1_score - [ 0.57 ] ROC_AUC - [ 0.79 ]\n",
      "n_estimators - [ 1 ] max_depth - [ 5 ] F1_score - [ 0.47 ] ROC_AUC - [ 0.8 ]\n",
      "n_estimators - [ 1 ] max_depth - [ 6 ] F1_score - [ 0.48 ] ROC_AUC - [ 0.8 ]\n",
      "n_estimators - [ 1 ] max_depth - [ 7 ] F1_score - [ 0.51 ] ROC_AUC - [ 0.78 ]\n",
      "n_estimators - [ 1 ] max_depth - [ 8 ] F1_score - [ 0.55 ] ROC_AUC - [ 0.79 ]\n",
      "n_estimators - [ 1 ] max_depth - [ 9 ] F1_score - [ 0.53 ] ROC_AUC - [ 0.78 ]\n",
      "n_estimators - [ 1 ] max_depth - [ 10 ] F1_score - [ 0.54 ] ROC_AUC - [ 0.75 ]\n",
      "n_estimators - [ 1 ] max_depth - [ 11 ] F1_score - [ 0.52 ] ROC_AUC - [ 0.72 ]\n",
      "n_estimators - [ 1 ] max_depth - [ 12 ] F1_score - [ 0.53 ] ROC_AUC - [ 0.72 ]\n",
      "n_estimators - [ 1 ] max_depth - [ 13 ] F1_score - [ 0.49 ] ROC_AUC - [ 0.72 ]\n",
      "n_estimators - [ 1 ] max_depth - [ 14 ] F1_score - [ 0.47 ] ROC_AUC - [ 0.68 ]\n",
      "n_estimators - [ 2 ] max_depth - [ 1 ] F1_score - [ 0.26 ] ROC_AUC - [ 0.6 ]\n",
      "n_estimators - [ 2 ] max_depth - [ 2 ] F1_score - [ 0.24 ] ROC_AUC - [ 0.77 ]\n",
      "n_estimators - [ 2 ] max_depth - [ 3 ] F1_score - [ 0.26 ] ROC_AUC - [ 0.78 ]\n",
      "n_estimators - [ 2 ] max_depth - [ 4 ] F1_score - [ 0.48 ] ROC_AUC - [ 0.81 ]\n",
      "n_estimators - [ 2 ] max_depth - [ 5 ] F1_score - [ 0.45 ] ROC_AUC - [ 0.81 ]\n",
      "n_estimators - [ 2 ] max_depth - [ 6 ] F1_score - [ 0.52 ] ROC_AUC - [ 0.81 ]\n",
      "n_estimators - [ 2 ] max_depth - [ 7 ] F1_score - [ 0.51 ] ROC_AUC - [ 0.82 ]\n",
      "n_estimators - [ 2 ] max_depth - [ 8 ] F1_score - [ 0.52 ] ROC_AUC - [ 0.81 ]\n",
      "n_estimators - [ 2 ] max_depth - [ 9 ] F1_score - [ 0.53 ] ROC_AUC - [ 0.82 ]\n",
      "n_estimators - [ 2 ] max_depth - [ 10 ] F1_score - [ 0.49 ] ROC_AUC - [ 0.79 ]\n",
      "n_estimators - [ 2 ] max_depth - [ 11 ] F1_score - [ 0.5 ] ROC_AUC - [ 0.79 ]\n",
      "n_estimators - [ 2 ] max_depth - [ 12 ] F1_score - [ 0.5 ] ROC_AUC - [ 0.77 ]\n",
      "n_estimators - [ 2 ] max_depth - [ 13 ] F1_score - [ 0.45 ] ROC_AUC - [ 0.76 ]\n",
      "n_estimators - [ 2 ] max_depth - [ 14 ] F1_score - [ 0.44 ] ROC_AUC - [ 0.75 ]\n",
      "n_estimators - [ 3 ] max_depth - [ 1 ] F1_score - [ 0.0 ] ROC_AUC - [ 0.76 ]\n",
      "n_estimators - [ 3 ] max_depth - [ 2 ] F1_score - [ 0.18 ] ROC_AUC - [ 0.79 ]\n",
      "n_estimators - [ 3 ] max_depth - [ 3 ] F1_score - [ 0.21 ] ROC_AUC - [ 0.79 ]\n",
      "n_estimators - [ 3 ] max_depth - [ 4 ] F1_score - [ 0.44 ] ROC_AUC - [ 0.81 ]\n",
      "n_estimators - [ 3 ] max_depth - [ 5 ] F1_score - [ 0.52 ] ROC_AUC - [ 0.82 ]\n",
      "n_estimators - [ 3 ] max_depth - [ 6 ] F1_score - [ 0.5 ] ROC_AUC - [ 0.82 ]\n",
      "n_estimators - [ 3 ] max_depth - [ 7 ] F1_score - [ 0.51 ] ROC_AUC - [ 0.83 ]\n",
      "n_estimators - [ 3 ] max_depth - [ 8 ] F1_score - [ 0.55 ] ROC_AUC - [ 0.83 ]\n",
      "n_estimators - [ 3 ] max_depth - [ 9 ] F1_score - [ 0.54 ] ROC_AUC - [ 0.84 ]\n",
      "n_estimators - [ 3 ] max_depth - [ 10 ] F1_score - [ 0.53 ] ROC_AUC - [ 0.81 ]\n",
      "n_estimators - [ 3 ] max_depth - [ 11 ] F1_score - [ 0.55 ] ROC_AUC - [ 0.82 ]\n",
      "n_estimators - [ 3 ] max_depth - [ 12 ] F1_score - [ 0.54 ] ROC_AUC - [ 0.8 ]\n",
      "n_estimators - [ 3 ] max_depth - [ 13 ] F1_score - [ 0.52 ] ROC_AUC - [ 0.78 ]\n",
      "n_estimators - [ 3 ] max_depth - [ 14 ] F1_score - [ 0.52 ] ROC_AUC - [ 0.79 ]\n",
      "n_estimators - [ 4 ] max_depth - [ 1 ] F1_score - [ 0.0 ] ROC_AUC - [ 0.77 ]\n",
      "n_estimators - [ 4 ] max_depth - [ 2 ] F1_score - [ 0.18 ] ROC_AUC - [ 0.79 ]\n",
      "n_estimators - [ 4 ] max_depth - [ 3 ] F1_score - [ 0.32 ] ROC_AUC - [ 0.8 ]\n",
      "n_estimators - [ 4 ] max_depth - [ 4 ] F1_score - [ 0.45 ] ROC_AUC - [ 0.81 ]\n",
      "n_estimators - [ 4 ] max_depth - [ 5 ] F1_score - [ 0.47 ] ROC_AUC - [ 0.83 ]\n",
      "n_estimators - [ 4 ] max_depth - [ 6 ] F1_score - [ 0.51 ] ROC_AUC - [ 0.83 ]\n",
      "n_estimators - [ 4 ] max_depth - [ 7 ] F1_score - [ 0.54 ] ROC_AUC - [ 0.84 ]\n",
      "n_estimators - [ 4 ] max_depth - [ 8 ] F1_score - [ 0.54 ] ROC_AUC - [ 0.84 ]\n",
      "n_estimators - [ 4 ] max_depth - [ 9 ] F1_score - [ 0.52 ] ROC_AUC - [ 0.85 ]\n",
      "n_estimators - [ 4 ] max_depth - [ 10 ] F1_score - [ 0.52 ] ROC_AUC - [ 0.82 ]\n",
      "n_estimators - [ 4 ] max_depth - [ 11 ] F1_score - [ 0.54 ] ROC_AUC - [ 0.83 ]\n",
      "n_estimators - [ 4 ] max_depth - [ 12 ] F1_score - [ 0.52 ] ROC_AUC - [ 0.81 ]\n",
      "n_estimators - [ 4 ] max_depth - [ 13 ] F1_score - [ 0.51 ] ROC_AUC - [ 0.8 ]\n",
      "n_estimators - [ 4 ] max_depth - [ 14 ] F1_score - [ 0.48 ] ROC_AUC - [ 0.8 ]\n",
      "n_estimators - [ 5 ] max_depth - [ 1 ] F1_score - [ 0.09 ] ROC_AUC - [ 0.77 ]\n",
      "n_estimators - [ 5 ] max_depth - [ 2 ] F1_score - [ 0.18 ] ROC_AUC - [ 0.8 ]\n",
      "n_estimators - [ 5 ] max_depth - [ 3 ] F1_score - [ 0.35 ] ROC_AUC - [ 0.8 ]\n",
      "n_estimators - [ 5 ] max_depth - [ 4 ] F1_score - [ 0.49 ] ROC_AUC - [ 0.82 ]\n",
      "n_estimators - [ 5 ] max_depth - [ 5 ] F1_score - [ 0.51 ] ROC_AUC - [ 0.83 ]\n",
      "n_estimators - [ 5 ] max_depth - [ 6 ] F1_score - [ 0.54 ] ROC_AUC - [ 0.84 ]\n",
      "n_estimators - [ 5 ] max_depth - [ 7 ] F1_score - [ 0.56 ] ROC_AUC - [ 0.85 ]\n",
      "n_estimators - [ 5 ] max_depth - [ 8 ] F1_score - [ 0.54 ] ROC_AUC - [ 0.85 ]\n",
      "n_estimators - [ 5 ] max_depth - [ 9 ] F1_score - [ 0.54 ] ROC_AUC - [ 0.85 ]\n",
      "n_estimators - [ 5 ] max_depth - [ 10 ] F1_score - [ 0.56 ] ROC_AUC - [ 0.83 ]\n",
      "n_estimators - [ 5 ] max_depth - [ 11 ] F1_score - [ 0.56 ] ROC_AUC - [ 0.84 ]\n",
      "n_estimators - [ 5 ] max_depth - [ 12 ] F1_score - [ 0.57 ] ROC_AUC - [ 0.82 ]\n",
      "n_estimators - [ 5 ] max_depth - [ 13 ] F1_score - [ 0.54 ] ROC_AUC - [ 0.81 ]\n",
      "n_estimators - [ 5 ] max_depth - [ 14 ] F1_score - [ 0.57 ] ROC_AUC - [ 0.81 ]\n",
      "n_estimators - [ 6 ] max_depth - [ 1 ] F1_score - [ 0.0 ] ROC_AUC - [ 0.77 ]\n",
      "n_estimators - [ 6 ] max_depth - [ 2 ] F1_score - [ 0.22 ] ROC_AUC - [ 0.8 ]\n",
      "n_estimators - [ 6 ] max_depth - [ 3 ] F1_score - [ 0.35 ] ROC_AUC - [ 0.81 ]\n",
      "n_estimators - [ 6 ] max_depth - [ 4 ] F1_score - [ 0.5 ] ROC_AUC - [ 0.83 ]\n",
      "n_estimators - [ 6 ] max_depth - [ 5 ] F1_score - [ 0.49 ] ROC_AUC - [ 0.84 ]\n",
      "n_estimators - [ 6 ] max_depth - [ 6 ] F1_score - [ 0.54 ] ROC_AUC - [ 0.84 ]\n",
      "n_estimators - [ 6 ] max_depth - [ 7 ] F1_score - [ 0.55 ] ROC_AUC - [ 0.85 ]\n",
      "n_estimators - [ 6 ] max_depth - [ 8 ] F1_score - [ 0.55 ] ROC_AUC - [ 0.85 ]\n",
      "n_estimators - [ 6 ] max_depth - [ 9 ] F1_score - [ 0.55 ] ROC_AUC - [ 0.86 ]\n",
      "n_estimators - [ 6 ] max_depth - [ 10 ] F1_score - [ 0.55 ] ROC_AUC - [ 0.84 ]\n",
      "n_estimators - [ 6 ] max_depth - [ 11 ] F1_score - [ 0.55 ] ROC_AUC - [ 0.85 ]\n",
      "n_estimators - [ 6 ] max_depth - [ 12 ] F1_score - [ 0.55 ] ROC_AUC - [ 0.83 ]\n",
      "n_estimators - [ 6 ] max_depth - [ 13 ] F1_score - [ 0.53 ] ROC_AUC - [ 0.82 ]\n",
      "n_estimators - [ 6 ] max_depth - [ 14 ] F1_score - [ 0.56 ] ROC_AUC - [ 0.82 ]\n",
      "n_estimators - [ 7 ] max_depth - [ 1 ] F1_score - [ 0.0 ] ROC_AUC - [ 0.79 ]\n",
      "n_estimators - [ 7 ] max_depth - [ 2 ] F1_score - [ 0.23 ] ROC_AUC - [ 0.8 ]\n",
      "n_estimators - [ 7 ] max_depth - [ 3 ] F1_score - [ 0.24 ] ROC_AUC - [ 0.82 ]\n",
      "n_estimators - [ 7 ] max_depth - [ 4 ] F1_score - [ 0.51 ] ROC_AUC - [ 0.84 ]\n",
      "n_estimators - [ 7 ] max_depth - [ 5 ] F1_score - [ 0.51 ] ROC_AUC - [ 0.84 ]\n",
      "n_estimators - [ 7 ] max_depth - [ 6 ] F1_score - [ 0.53 ] ROC_AUC - [ 0.85 ]\n",
      "n_estimators - [ 7 ] max_depth - [ 7 ] F1_score - [ 0.54 ] ROC_AUC - [ 0.85 ]\n",
      "n_estimators - [ 7 ] max_depth - [ 8 ] F1_score - [ 0.54 ] ROC_AUC - [ 0.86 ]\n",
      "n_estimators - [ 7 ] max_depth - [ 9 ] F1_score - [ 0.55 ] ROC_AUC - [ 0.86 ]\n",
      "n_estimators - [ 7 ] max_depth - [ 10 ] F1_score - [ 0.55 ] ROC_AUC - [ 0.84 ]\n",
      "n_estimators - [ 7 ] max_depth - [ 11 ] F1_score - [ 0.55 ] ROC_AUC - [ 0.85 ]\n",
      "n_estimators - [ 7 ] max_depth - [ 12 ] F1_score - [ 0.57 ] ROC_AUC - [ 0.83 ]\n",
      "n_estimators - [ 7 ] max_depth - [ 13 ] F1_score - [ 0.55 ] ROC_AUC - [ 0.83 ]\n",
      "n_estimators - [ 7 ] max_depth - [ 14 ] F1_score - [ 0.57 ] ROC_AUC - [ 0.82 ]\n",
      "n_estimators - [ 8 ] max_depth - [ 1 ] F1_score - [ 0.0 ] ROC_AUC - [ 0.79 ]\n",
      "n_estimators - [ 8 ] max_depth - [ 2 ] F1_score - [ 0.23 ] ROC_AUC - [ 0.81 ]\n",
      "n_estimators - [ 8 ] max_depth - [ 3 ] F1_score - [ 0.25 ] ROC_AUC - [ 0.82 ]\n",
      "n_estimators - [ 8 ] max_depth - [ 4 ] F1_score - [ 0.48 ] ROC_AUC - [ 0.84 ]\n",
      "n_estimators - [ 8 ] max_depth - [ 5 ] F1_score - [ 0.51 ] ROC_AUC - [ 0.84 ]\n",
      "n_estimators - [ 8 ] max_depth - [ 6 ] F1_score - [ 0.53 ] ROC_AUC - [ 0.85 ]\n",
      "n_estimators - [ 8 ] max_depth - [ 7 ] F1_score - [ 0.54 ] ROC_AUC - [ 0.86 ]\n",
      "n_estimators - [ 8 ] max_depth - [ 8 ] F1_score - [ 0.55 ] ROC_AUC - [ 0.86 ]\n",
      "n_estimators - [ 8 ] max_depth - [ 9 ] F1_score - [ 0.56 ] ROC_AUC - [ 0.86 ]\n",
      "n_estimators - [ 8 ] max_depth - [ 10 ] F1_score - [ 0.55 ] ROC_AUC - [ 0.85 ]\n",
      "n_estimators - [ 8 ] max_depth - [ 11 ] F1_score - [ 0.55 ] ROC_AUC - [ 0.85 ]\n",
      "n_estimators - [ 8 ] max_depth - [ 12 ] F1_score - [ 0.55 ] ROC_AUC - [ 0.84 ]\n",
      "n_estimators - [ 8 ] max_depth - [ 13 ] F1_score - [ 0.56 ] ROC_AUC - [ 0.84 ]\n",
      "n_estimators - [ 8 ] max_depth - [ 14 ] F1_score - [ 0.55 ] ROC_AUC - [ 0.83 ]\n",
      "n_estimators - [ 9 ] max_depth - [ 1 ] F1_score - [ 0.0 ] ROC_AUC - [ 0.79 ]\n",
      "n_estimators - [ 9 ] max_depth - [ 2 ] F1_score - [ 0.23 ] ROC_AUC - [ 0.81 ]\n",
      "n_estimators - [ 9 ] max_depth - [ 3 ] F1_score - [ 0.26 ] ROC_AUC - [ 0.82 ]\n",
      "n_estimators - [ 9 ] max_depth - [ 4 ] F1_score - [ 0.49 ] ROC_AUC - [ 0.84 ]\n",
      "n_estimators - [ 9 ] max_depth - [ 5 ] F1_score - [ 0.5 ] ROC_AUC - [ 0.85 ]\n",
      "n_estimators - [ 9 ] max_depth - [ 6 ] F1_score - [ 0.53 ] ROC_AUC - [ 0.86 ]\n",
      "n_estimators - [ 9 ] max_depth - [ 7 ] F1_score - [ 0.55 ] ROC_AUC - [ 0.86 ]\n",
      "n_estimators - [ 9 ] max_depth - [ 8 ] F1_score - [ 0.55 ] ROC_AUC - [ 0.86 ]\n",
      "n_estimators - [ 9 ] max_depth - [ 9 ] F1_score - [ 0.56 ] ROC_AUC - [ 0.87 ]\n",
      "n_estimators - [ 9 ] max_depth - [ 10 ] F1_score - [ 0.55 ] ROC_AUC - [ 0.85 ]\n",
      "n_estimators - [ 9 ] max_depth - [ 11 ] F1_score - [ 0.54 ] ROC_AUC - [ 0.85 ]\n",
      "n_estimators - [ 9 ] max_depth - [ 12 ] F1_score - [ 0.56 ] ROC_AUC - [ 0.84 ]\n",
      "n_estimators - [ 9 ] max_depth - [ 13 ] F1_score - [ 0.56 ] ROC_AUC - [ 0.84 ]\n",
      "n_estimators - [ 9 ] max_depth - [ 14 ] F1_score - [ 0.56 ] ROC_AUC - [ 0.83 ]\n",
      "n_estimators - [ 10 ] max_depth - [ 1 ] F1_score - [ 0.0 ] ROC_AUC - [ 0.8 ]\n",
      "n_estimators - [ 10 ] max_depth - [ 2 ] F1_score - [ 0.23 ] ROC_AUC - [ 0.81 ]\n",
      "n_estimators - [ 10 ] max_depth - [ 3 ] F1_score - [ 0.25 ] ROC_AUC - [ 0.83 ]\n",
      "n_estimators - [ 10 ] max_depth - [ 4 ] F1_score - [ 0.47 ] ROC_AUC - [ 0.84 ]\n",
      "n_estimators - [ 10 ] max_depth - [ 5 ] F1_score - [ 0.51 ] ROC_AUC - [ 0.85 ]\n",
      "n_estimators - [ 10 ] max_depth - [ 6 ] F1_score - [ 0.54 ] ROC_AUC - [ 0.86 ]\n",
      "n_estimators - [ 10 ] max_depth - [ 7 ] F1_score - [ 0.55 ] ROC_AUC - [ 0.86 ]\n",
      "n_estimators - [ 10 ] max_depth - [ 8 ] F1_score - [ 0.55 ] ROC_AUC - [ 0.86 ]\n",
      "n_estimators - [ 10 ] max_depth - [ 9 ] F1_score - [ 0.57 ] ROC_AUC - [ 0.87 ]\n",
      "n_estimators - [ 10 ] max_depth - [ 10 ] F1_score - [ 0.56 ] ROC_AUC - [ 0.85 ]\n",
      "n_estimators - [ 10 ] max_depth - [ 11 ] F1_score - [ 0.55 ] ROC_AUC - [ 0.86 ]\n",
      "n_estimators - [ 10 ] max_depth - [ 12 ] F1_score - [ 0.55 ] ROC_AUC - [ 0.84 ]\n",
      "n_estimators - [ 10 ] max_depth - [ 13 ] F1_score - [ 0.56 ] ROC_AUC - [ 0.85 ]\n",
      "n_estimators - [ 10 ] max_depth - [ 14 ] F1_score - [ 0.56 ] ROC_AUC - [ 0.84 ]\n",
      "n_estimators - [ 11 ] max_depth - [ 1 ] F1_score - [ 0.0 ] ROC_AUC - [ 0.79 ]\n",
      "n_estimators - [ 11 ] max_depth - [ 2 ] F1_score - [ 0.22 ] ROC_AUC - [ 0.81 ]\n",
      "n_estimators - [ 11 ] max_depth - [ 3 ] F1_score - [ 0.25 ] ROC_AUC - [ 0.83 ]\n",
      "n_estimators - [ 11 ] max_depth - [ 4 ] F1_score - [ 0.45 ] ROC_AUC - [ 0.84 ]\n",
      "n_estimators - [ 11 ] max_depth - [ 5 ] F1_score - [ 0.52 ] ROC_AUC - [ 0.85 ]\n",
      "n_estimators - [ 11 ] max_depth - [ 6 ] F1_score - [ 0.55 ] ROC_AUC - [ 0.86 ]\n",
      "n_estimators - [ 11 ] max_depth - [ 7 ] F1_score - [ 0.55 ] ROC_AUC - [ 0.86 ]\n",
      "n_estimators - [ 11 ] max_depth - [ 8 ] F1_score - [ 0.57 ] ROC_AUC - [ 0.86 ]\n",
      "n_estimators - [ 11 ] max_depth - [ 9 ] F1_score - [ 0.56 ] ROC_AUC - [ 0.87 ]\n",
      "n_estimators - [ 11 ] max_depth - [ 10 ] F1_score - [ 0.56 ] ROC_AUC - [ 0.86 ]\n",
      "n_estimators - [ 11 ] max_depth - [ 11 ] F1_score - [ 0.55 ] ROC_AUC - [ 0.86 ]\n",
      "n_estimators - [ 11 ] max_depth - [ 12 ] F1_score - [ 0.55 ] ROC_AUC - [ 0.85 ]\n",
      "n_estimators - [ 11 ] max_depth - [ 13 ] F1_score - [ 0.56 ] ROC_AUC - [ 0.85 ]\n",
      "n_estimators - [ 11 ] max_depth - [ 14 ] F1_score - [ 0.58 ] ROC_AUC - [ 0.84 ]\n",
      "n_estimators - [ 12 ] max_depth - [ 1 ] F1_score - [ 0.0 ] ROC_AUC - [ 0.78 ]\n",
      "n_estimators - [ 12 ] max_depth - [ 2 ] F1_score - [ 0.23 ] ROC_AUC - [ 0.81 ]\n",
      "n_estimators - [ 12 ] max_depth - [ 3 ] F1_score - [ 0.25 ] ROC_AUC - [ 0.83 ]\n",
      "n_estimators - [ 12 ] max_depth - [ 4 ] F1_score - [ 0.45 ] ROC_AUC - [ 0.84 ]\n",
      "n_estimators - [ 12 ] max_depth - [ 5 ] F1_score - [ 0.51 ] ROC_AUC - [ 0.85 ]\n",
      "n_estimators - [ 12 ] max_depth - [ 6 ] F1_score - [ 0.55 ] ROC_AUC - [ 0.86 ]\n",
      "n_estimators - [ 12 ] max_depth - [ 7 ] F1_score - [ 0.55 ] ROC_AUC - [ 0.86 ]\n",
      "n_estimators - [ 12 ] max_depth - [ 8 ] F1_score - [ 0.57 ] ROC_AUC - [ 0.86 ]\n",
      "n_estimators - [ 12 ] max_depth - [ 9 ] F1_score - [ 0.56 ] ROC_AUC - [ 0.87 ]\n",
      "n_estimators - [ 12 ] max_depth - [ 10 ] F1_score - [ 0.56 ] ROC_AUC - [ 0.86 ]\n",
      "n_estimators - [ 12 ] max_depth - [ 11 ] F1_score - [ 0.55 ] ROC_AUC - [ 0.86 ]\n",
      "n_estimators - [ 12 ] max_depth - [ 12 ] F1_score - [ 0.56 ] ROC_AUC - [ 0.85 ]\n",
      "n_estimators - [ 12 ] max_depth - [ 13 ] F1_score - [ 0.56 ] ROC_AUC - [ 0.86 ]\n",
      "n_estimators - [ 12 ] max_depth - [ 14 ] F1_score - [ 0.58 ] ROC_AUC - [ 0.84 ]\n",
      "n_estimators - [ 13 ] max_depth - [ 1 ] F1_score - [ 0.0 ] ROC_AUC - [ 0.78 ]\n",
      "n_estimators - [ 13 ] max_depth - [ 2 ] F1_score - [ 0.23 ] ROC_AUC - [ 0.81 ]\n",
      "n_estimators - [ 13 ] max_depth - [ 3 ] F1_score - [ 0.26 ] ROC_AUC - [ 0.83 ]\n",
      "n_estimators - [ 13 ] max_depth - [ 4 ] F1_score - [ 0.43 ] ROC_AUC - [ 0.84 ]\n",
      "n_estimators - [ 13 ] max_depth - [ 5 ] F1_score - [ 0.52 ] ROC_AUC - [ 0.85 ]\n",
      "n_estimators - [ 13 ] max_depth - [ 6 ] F1_score - [ 0.56 ] ROC_AUC - [ 0.86 ]\n",
      "n_estimators - [ 13 ] max_depth - [ 7 ] F1_score - [ 0.55 ] ROC_AUC - [ 0.86 ]\n",
      "n_estimators - [ 13 ] max_depth - [ 8 ] F1_score - [ 0.57 ] ROC_AUC - [ 0.86 ]\n",
      "n_estimators - [ 13 ] max_depth - [ 9 ] F1_score - [ 0.56 ] ROC_AUC - [ 0.87 ]\n",
      "n_estimators - [ 13 ] max_depth - [ 10 ] F1_score - [ 0.56 ] ROC_AUC - [ 0.86 ]\n",
      "n_estimators - [ 13 ] max_depth - [ 11 ] F1_score - [ 0.57 ] ROC_AUC - [ 0.86 ]\n",
      "n_estimators - [ 13 ] max_depth - [ 12 ] F1_score - [ 0.56 ] ROC_AUC - [ 0.85 ]\n",
      "n_estimators - [ 13 ] max_depth - [ 13 ] F1_score - [ 0.57 ] ROC_AUC - [ 0.86 ]\n",
      "n_estimators - [ 13 ] max_depth - [ 14 ] F1_score - [ 0.59 ] ROC_AUC - [ 0.84 ]\n",
      "n_estimators - [ 14 ] max_depth - [ 1 ] F1_score - [ 0.0 ] ROC_AUC - [ 0.8 ]\n",
      "n_estimators - [ 14 ] max_depth - [ 2 ] F1_score - [ 0.23 ] ROC_AUC - [ 0.82 ]\n",
      "n_estimators - [ 14 ] max_depth - [ 3 ] F1_score - [ 0.25 ] ROC_AUC - [ 0.83 ]\n",
      "n_estimators - [ 14 ] max_depth - [ 4 ] F1_score - [ 0.45 ] ROC_AUC - [ 0.84 ]\n",
      "n_estimators - [ 14 ] max_depth - [ 5 ] F1_score - [ 0.51 ] ROC_AUC - [ 0.85 ]\n",
      "n_estimators - [ 14 ] max_depth - [ 6 ] F1_score - [ 0.56 ] ROC_AUC - [ 0.86 ]\n",
      "n_estimators - [ 14 ] max_depth - [ 7 ] F1_score - [ 0.56 ] ROC_AUC - [ 0.86 ]\n",
      "n_estimators - [ 14 ] max_depth - [ 8 ] F1_score - [ 0.58 ] ROC_AUC - [ 0.87 ]\n",
      "n_estimators - [ 14 ] max_depth - [ 9 ] F1_score - [ 0.56 ] ROC_AUC - [ 0.87 ]\n",
      "n_estimators - [ 14 ] max_depth - [ 10 ] F1_score - [ 0.57 ] ROC_AUC - [ 0.86 ]\n",
      "n_estimators - [ 14 ] max_depth - [ 11 ] F1_score - [ 0.57 ] ROC_AUC - [ 0.87 ]\n",
      "n_estimators - [ 14 ] max_depth - [ 12 ] F1_score - [ 0.55 ] ROC_AUC - [ 0.86 ]\n",
      "n_estimators - [ 14 ] max_depth - [ 13 ] F1_score - [ 0.56 ] ROC_AUC - [ 0.86 ]\n",
      "n_estimators - [ 14 ] max_depth - [ 14 ] F1_score - [ 0.58 ] ROC_AUC - [ 0.84 ]\n",
      "n_estimators - [ 15 ] max_depth - [ 1 ] F1_score - [ 0.0 ] ROC_AUC - [ 0.8 ]\n",
      "n_estimators - [ 15 ] max_depth - [ 2 ] F1_score - [ 0.23 ] ROC_AUC - [ 0.81 ]\n",
      "n_estimators - [ 15 ] max_depth - [ 3 ] F1_score - [ 0.25 ] ROC_AUC - [ 0.83 ]\n",
      "n_estimators - [ 15 ] max_depth - [ 4 ] F1_score - [ 0.43 ] ROC_AUC - [ 0.84 ]\n",
      "n_estimators - [ 15 ] max_depth - [ 5 ] F1_score - [ 0.51 ] ROC_AUC - [ 0.86 ]\n",
      "n_estimators - [ 15 ] max_depth - [ 6 ] F1_score - [ 0.55 ] ROC_AUC - [ 0.86 ]\n",
      "n_estimators - [ 15 ] max_depth - [ 7 ] F1_score - [ 0.56 ] ROC_AUC - [ 0.86 ]\n",
      "n_estimators - [ 15 ] max_depth - [ 8 ] F1_score - [ 0.58 ] ROC_AUC - [ 0.87 ]\n",
      "n_estimators - [ 15 ] max_depth - [ 9 ] F1_score - [ 0.56 ] ROC_AUC - [ 0.87 ]\n",
      "n_estimators - [ 15 ] max_depth - [ 10 ] F1_score - [ 0.56 ] ROC_AUC - [ 0.86 ]\n",
      "n_estimators - [ 15 ] max_depth - [ 11 ] F1_score - [ 0.57 ] ROC_AUC - [ 0.87 ]\n",
      "n_estimators - [ 15 ] max_depth - [ 12 ] F1_score - [ 0.55 ] ROC_AUC - [ 0.86 ]\n",
      "n_estimators - [ 15 ] max_depth - [ 13 ] F1_score - [ 0.57 ] ROC_AUC - [ 0.86 ]\n",
      "n_estimators - [ 15 ] max_depth - [ 14 ] F1_score - [ 0.58 ] ROC_AUC - [ 0.84 ]\n",
      "n_estimators - [ 16 ] max_depth - [ 1 ] F1_score - [ 0.0 ] ROC_AUC - [ 0.81 ]\n",
      "n_estimators - [ 16 ] max_depth - [ 2 ] F1_score - [ 0.22 ] ROC_AUC - [ 0.81 ]\n",
      "n_estimators - [ 16 ] max_depth - [ 3 ] F1_score - [ 0.25 ] ROC_AUC - [ 0.83 ]\n",
      "n_estimators - [ 16 ] max_depth - [ 4 ] F1_score - [ 0.43 ] ROC_AUC - [ 0.84 ]\n",
      "n_estimators - [ 16 ] max_depth - [ 5 ] F1_score - [ 0.52 ] ROC_AUC - [ 0.85 ]\n",
      "n_estimators - [ 16 ] max_depth - [ 6 ] F1_score - [ 0.55 ] ROC_AUC - [ 0.86 ]\n",
      "n_estimators - [ 16 ] max_depth - [ 7 ] F1_score - [ 0.55 ] ROC_AUC - [ 0.86 ]\n",
      "n_estimators - [ 16 ] max_depth - [ 8 ] F1_score - [ 0.57 ] ROC_AUC - [ 0.86 ]\n",
      "n_estimators - [ 16 ] max_depth - [ 9 ] F1_score - [ 0.56 ] ROC_AUC - [ 0.87 ]\n",
      "n_estimators - [ 16 ] max_depth - [ 10 ] F1_score - [ 0.56 ] ROC_AUC - [ 0.86 ]\n",
      "n_estimators - [ 16 ] max_depth - [ 11 ] F1_score - [ 0.56 ] ROC_AUC - [ 0.87 ]\n",
      "n_estimators - [ 16 ] max_depth - [ 12 ] F1_score - [ 0.56 ] ROC_AUC - [ 0.86 ]\n",
      "n_estimators - [ 16 ] max_depth - [ 13 ] F1_score - [ 0.56 ] ROC_AUC - [ 0.86 ]\n",
      "n_estimators - [ 16 ] max_depth - [ 14 ] F1_score - [ 0.58 ] ROC_AUC - [ 0.84 ]\n",
      "n_estimators - [ 17 ] max_depth - [ 1 ] F1_score - [ 0.0 ] ROC_AUC - [ 0.81 ]\n",
      "n_estimators - [ 17 ] max_depth - [ 2 ] F1_score - [ 0.23 ] ROC_AUC - [ 0.81 ]\n",
      "n_estimators - [ 17 ] max_depth - [ 3 ] F1_score - [ 0.24 ] ROC_AUC - [ 0.83 ]\n",
      "n_estimators - [ 17 ] max_depth - [ 4 ] F1_score - [ 0.46 ] ROC_AUC - [ 0.84 ]\n",
      "n_estimators - [ 17 ] max_depth - [ 5 ] F1_score - [ 0.51 ] ROC_AUC - [ 0.85 ]\n",
      "n_estimators - [ 17 ] max_depth - [ 6 ] F1_score - [ 0.56 ] ROC_AUC - [ 0.86 ]\n",
      "n_estimators - [ 17 ] max_depth - [ 7 ] F1_score - [ 0.56 ] ROC_AUC - [ 0.86 ]\n",
      "n_estimators - [ 17 ] max_depth - [ 8 ] F1_score - [ 0.57 ] ROC_AUC - [ 0.86 ]\n",
      "n_estimators - [ 17 ] max_depth - [ 9 ] F1_score - [ 0.56 ] ROC_AUC - [ 0.87 ]\n",
      "n_estimators - [ 17 ] max_depth - [ 10 ] F1_score - [ 0.56 ] ROC_AUC - [ 0.86 ]\n",
      "n_estimators - [ 17 ] max_depth - [ 11 ] F1_score - [ 0.56 ] ROC_AUC - [ 0.87 ]\n",
      "n_estimators - [ 17 ] max_depth - [ 12 ] F1_score - [ 0.56 ] ROC_AUC - [ 0.86 ]\n",
      "n_estimators - [ 17 ] max_depth - [ 13 ] F1_score - [ 0.56 ] ROC_AUC - [ 0.86 ]\n",
      "n_estimators - [ 17 ] max_depth - [ 14 ] F1_score - [ 0.58 ] ROC_AUC - [ 0.84 ]\n",
      "n_estimators - [ 18 ] max_depth - [ 1 ] F1_score - [ 0.0 ] ROC_AUC - [ 0.81 ]\n",
      "n_estimators - [ 18 ] max_depth - [ 2 ] F1_score - [ 0.23 ] ROC_AUC - [ 0.81 ]\n",
      "n_estimators - [ 18 ] max_depth - [ 3 ] F1_score - [ 0.25 ] ROC_AUC - [ 0.83 ]\n",
      "n_estimators - [ 18 ] max_depth - [ 4 ] F1_score - [ 0.44 ] ROC_AUC - [ 0.84 ]\n",
      "n_estimators - [ 18 ] max_depth - [ 5 ] F1_score - [ 0.51 ] ROC_AUC - [ 0.86 ]\n",
      "n_estimators - [ 18 ] max_depth - [ 6 ] F1_score - [ 0.56 ] ROC_AUC - [ 0.86 ]\n",
      "n_estimators - [ 18 ] max_depth - [ 7 ] F1_score - [ 0.56 ] ROC_AUC - [ 0.86 ]\n",
      "n_estimators - [ 18 ] max_depth - [ 8 ] F1_score - [ 0.58 ] ROC_AUC - [ 0.86 ]\n",
      "n_estimators - [ 18 ] max_depth - [ 9 ] F1_score - [ 0.56 ] ROC_AUC - [ 0.87 ]\n",
      "n_estimators - [ 18 ] max_depth - [ 10 ] F1_score - [ 0.57 ] ROC_AUC - [ 0.86 ]\n",
      "n_estimators - [ 18 ] max_depth - [ 11 ] F1_score - [ 0.56 ] ROC_AUC - [ 0.87 ]\n",
      "n_estimators - [ 18 ] max_depth - [ 12 ] F1_score - [ 0.56 ] ROC_AUC - [ 0.86 ]\n",
      "n_estimators - [ 18 ] max_depth - [ 13 ] F1_score - [ 0.56 ] ROC_AUC - [ 0.86 ]\n",
      "n_estimators - [ 18 ] max_depth - [ 14 ] F1_score - [ 0.57 ] ROC_AUC - [ 0.84 ]\n",
      "n_estimators - [ 19 ] max_depth - [ 1 ] F1_score - [ 0.0 ] ROC_AUC - [ 0.8 ]\n",
      "n_estimators - [ 19 ] max_depth - [ 2 ] F1_score - [ 0.21 ] ROC_AUC - [ 0.81 ]\n",
      "n_estimators - [ 19 ] max_depth - [ 3 ] F1_score - [ 0.24 ] ROC_AUC - [ 0.83 ]\n",
      "n_estimators - [ 19 ] max_depth - [ 4 ] F1_score - [ 0.43 ] ROC_AUC - [ 0.84 ]\n",
      "n_estimators - [ 19 ] max_depth - [ 5 ] F1_score - [ 0.52 ] ROC_AUC - [ 0.85 ]\n",
      "n_estimators - [ 19 ] max_depth - [ 6 ] F1_score - [ 0.56 ] ROC_AUC - [ 0.86 ]\n",
      "n_estimators - [ 19 ] max_depth - [ 7 ] F1_score - [ 0.57 ] ROC_AUC - [ 0.86 ]\n",
      "n_estimators - [ 19 ] max_depth - [ 8 ] F1_score - [ 0.57 ] ROC_AUC - [ 0.87 ]\n",
      "n_estimators - [ 19 ] max_depth - [ 9 ] F1_score - [ 0.56 ] ROC_AUC - [ 0.87 ]\n",
      "n_estimators - [ 19 ] max_depth - [ 10 ] F1_score - [ 0.57 ] ROC_AUC - [ 0.86 ]\n",
      "n_estimators - [ 19 ] max_depth - [ 11 ] F1_score - [ 0.57 ] ROC_AUC - [ 0.87 ]\n",
      "n_estimators - [ 19 ] max_depth - [ 12 ] F1_score - [ 0.57 ] ROC_AUC - [ 0.86 ]\n",
      "n_estimators - [ 19 ] max_depth - [ 13 ] F1_score - [ 0.57 ] ROC_AUC - [ 0.86 ]\n",
      "n_estimators - [ 19 ] max_depth - [ 14 ] F1_score - [ 0.58 ] ROC_AUC - [ 0.85 ]\n",
      "n_estimators - [ 20 ] max_depth - [ 1 ] F1_score - [ 0.0 ] ROC_AUC - [ 0.81 ]\n",
      "n_estimators - [ 20 ] max_depth - [ 2 ] F1_score - [ 0.19 ] ROC_AUC - [ 0.81 ]\n",
      "n_estimators - [ 20 ] max_depth - [ 3 ] F1_score - [ 0.24 ] ROC_AUC - [ 0.83 ]\n",
      "n_estimators - [ 20 ] max_depth - [ 4 ] F1_score - [ 0.42 ] ROC_AUC - [ 0.84 ]\n",
      "n_estimators - [ 20 ] max_depth - [ 5 ] F1_score - [ 0.52 ] ROC_AUC - [ 0.86 ]\n",
      "n_estimators - [ 20 ] max_depth - [ 6 ] F1_score - [ 0.55 ] ROC_AUC - [ 0.86 ]\n",
      "n_estimators - [ 20 ] max_depth - [ 7 ] F1_score - [ 0.57 ] ROC_AUC - [ 0.86 ]\n",
      "n_estimators - [ 20 ] max_depth - [ 8 ] F1_score - [ 0.58 ] ROC_AUC - [ 0.87 ]\n",
      "n_estimators - [ 20 ] max_depth - [ 9 ] F1_score - [ 0.55 ] ROC_AUC - [ 0.87 ]\n",
      "n_estimators - [ 20 ] max_depth - [ 10 ] F1_score - [ 0.58 ] ROC_AUC - [ 0.86 ]\n",
      "n_estimators - [ 20 ] max_depth - [ 11 ] F1_score - [ 0.57 ] ROC_AUC - [ 0.87 ]\n",
      "n_estimators - [ 20 ] max_depth - [ 12 ] F1_score - [ 0.57 ] ROC_AUC - [ 0.86 ]\n",
      "n_estimators - [ 20 ] max_depth - [ 13 ] F1_score - [ 0.57 ] ROC_AUC - [ 0.86 ]\n",
      "n_estimators - [ 20 ] max_depth - [ 14 ] F1_score - [ 0.58 ] ROC_AUC - [ 0.85 ]\n",
      "n_estimators - [ 21 ] max_depth - [ 1 ] F1_score - [ 0.0 ] ROC_AUC - [ 0.8 ]\n",
      "n_estimators - [ 21 ] max_depth - [ 2 ] F1_score - [ 0.18 ] ROC_AUC - [ 0.81 ]\n",
      "n_estimators - [ 21 ] max_depth - [ 3 ] F1_score - [ 0.24 ] ROC_AUC - [ 0.83 ]\n",
      "n_estimators - [ 21 ] max_depth - [ 4 ] F1_score - [ 0.43 ] ROC_AUC - [ 0.84 ]\n",
      "n_estimators - [ 21 ] max_depth - [ 5 ] F1_score - [ 0.52 ] ROC_AUC - [ 0.86 ]\n",
      "n_estimators - [ 21 ] max_depth - [ 6 ] F1_score - [ 0.56 ] ROC_AUC - [ 0.86 ]\n",
      "n_estimators - [ 21 ] max_depth - [ 7 ] F1_score - [ 0.57 ] ROC_AUC - [ 0.86 ]\n",
      "n_estimators - [ 21 ] max_depth - [ 8 ] F1_score - [ 0.57 ] ROC_AUC - [ 0.87 ]\n",
      "n_estimators - [ 21 ] max_depth - [ 9 ] F1_score - [ 0.56 ] ROC_AUC - [ 0.87 ]\n",
      "n_estimators - [ 21 ] max_depth - [ 10 ] F1_score - [ 0.57 ] ROC_AUC - [ 0.86 ]\n",
      "n_estimators - [ 21 ] max_depth - [ 11 ] F1_score - [ 0.58 ] ROC_AUC - [ 0.87 ]\n",
      "n_estimators - [ 21 ] max_depth - [ 12 ] F1_score - [ 0.57 ] ROC_AUC - [ 0.86 ]\n",
      "n_estimators - [ 21 ] max_depth - [ 13 ] F1_score - [ 0.57 ] ROC_AUC - [ 0.86 ]\n",
      "n_estimators - [ 21 ] max_depth - [ 14 ] F1_score - [ 0.58 ] ROC_AUC - [ 0.85 ]\n",
      "n_estimators - [ 22 ] max_depth - [ 1 ] F1_score - [ 0.0 ] ROC_AUC - [ 0.81 ]\n",
      "n_estimators - [ 22 ] max_depth - [ 2 ] F1_score - [ 0.17 ] ROC_AUC - [ 0.82 ]\n",
      "n_estimators - [ 22 ] max_depth - [ 3 ] F1_score - [ 0.24 ] ROC_AUC - [ 0.83 ]\n",
      "n_estimators - [ 22 ] max_depth - [ 4 ] F1_score - [ 0.42 ] ROC_AUC - [ 0.84 ]\n",
      "n_estimators - [ 22 ] max_depth - [ 5 ] F1_score - [ 0.52 ] ROC_AUC - [ 0.86 ]\n",
      "n_estimators - [ 22 ] max_depth - [ 6 ] F1_score - [ 0.55 ] ROC_AUC - [ 0.86 ]\n",
      "n_estimators - [ 22 ] max_depth - [ 7 ] F1_score - [ 0.56 ] ROC_AUC - [ 0.86 ]\n",
      "n_estimators - [ 22 ] max_depth - [ 8 ] F1_score - [ 0.57 ] ROC_AUC - [ 0.87 ]\n",
      "n_estimators - [ 22 ] max_depth - [ 9 ] F1_score - [ 0.56 ] ROC_AUC - [ 0.87 ]\n",
      "n_estimators - [ 22 ] max_depth - [ 10 ] F1_score - [ 0.57 ] ROC_AUC - [ 0.86 ]\n",
      "n_estimators - [ 22 ] max_depth - [ 11 ] F1_score - [ 0.58 ] ROC_AUC - [ 0.87 ]\n",
      "n_estimators - [ 22 ] max_depth - [ 12 ] F1_score - [ 0.58 ] ROC_AUC - [ 0.86 ]\n",
      "n_estimators - [ 22 ] max_depth - [ 13 ] F1_score - [ 0.55 ] ROC_AUC - [ 0.87 ]\n",
      "n_estimators - [ 22 ] max_depth - [ 14 ] F1_score - [ 0.58 ] ROC_AUC - [ 0.85 ]\n",
      "n_estimators - [ 23 ] max_depth - [ 1 ] F1_score - [ 0.0 ] ROC_AUC - [ 0.81 ]\n",
      "n_estimators - [ 23 ] max_depth - [ 2 ] F1_score - [ 0.18 ] ROC_AUC - [ 0.82 ]\n",
      "n_estimators - [ 23 ] max_depth - [ 3 ] F1_score - [ 0.24 ] ROC_AUC - [ 0.83 ]\n",
      "n_estimators - [ 23 ] max_depth - [ 4 ] F1_score - [ 0.41 ] ROC_AUC - [ 0.84 ]\n",
      "n_estimators - [ 23 ] max_depth - [ 5 ] F1_score - [ 0.52 ] ROC_AUC - [ 0.86 ]\n",
      "n_estimators - [ 23 ] max_depth - [ 6 ] F1_score - [ 0.54 ] ROC_AUC - [ 0.86 ]\n",
      "n_estimators - [ 23 ] max_depth - [ 7 ] F1_score - [ 0.55 ] ROC_AUC - [ 0.86 ]\n",
      "n_estimators - [ 23 ] max_depth - [ 8 ] F1_score - [ 0.57 ] ROC_AUC - [ 0.87 ]\n",
      "n_estimators - [ 23 ] max_depth - [ 9 ] F1_score - [ 0.55 ] ROC_AUC - [ 0.87 ]\n",
      "n_estimators - [ 23 ] max_depth - [ 10 ] F1_score - [ 0.57 ] ROC_AUC - [ 0.86 ]\n",
      "n_estimators - [ 23 ] max_depth - [ 11 ] F1_score - [ 0.57 ] ROC_AUC - [ 0.87 ]\n",
      "n_estimators - [ 23 ] max_depth - [ 12 ] F1_score - [ 0.58 ] ROC_AUC - [ 0.86 ]\n",
      "n_estimators - [ 23 ] max_depth - [ 13 ] F1_score - [ 0.56 ] ROC_AUC - [ 0.87 ]\n",
      "n_estimators - [ 23 ] max_depth - [ 14 ] F1_score - [ 0.59 ] ROC_AUC - [ 0.85 ]\n",
      "n_estimators - [ 24 ] max_depth - [ 1 ] F1_score - [ 0.0 ] ROC_AUC - [ 0.81 ]\n",
      "n_estimators - [ 24 ] max_depth - [ 2 ] F1_score - [ 0.18 ] ROC_AUC - [ 0.82 ]\n",
      "n_estimators - [ 24 ] max_depth - [ 3 ] F1_score - [ 0.25 ] ROC_AUC - [ 0.83 ]\n",
      "n_estimators - [ 24 ] max_depth - [ 4 ] F1_score - [ 0.42 ] ROC_AUC - [ 0.84 ]\n",
      "n_estimators - [ 24 ] max_depth - [ 5 ] F1_score - [ 0.51 ] ROC_AUC - [ 0.86 ]\n",
      "n_estimators - [ 24 ] max_depth - [ 6 ] F1_score - [ 0.54 ] ROC_AUC - [ 0.86 ]\n",
      "n_estimators - [ 24 ] max_depth - [ 7 ] F1_score - [ 0.56 ] ROC_AUC - [ 0.86 ]\n",
      "n_estimators - [ 24 ] max_depth - [ 8 ] F1_score - [ 0.57 ] ROC_AUC - [ 0.87 ]\n",
      "n_estimators - [ 24 ] max_depth - [ 9 ] F1_score - [ 0.55 ] ROC_AUC - [ 0.87 ]\n",
      "n_estimators - [ 24 ] max_depth - [ 10 ] F1_score - [ 0.57 ] ROC_AUC - [ 0.86 ]\n",
      "n_estimators - [ 24 ] max_depth - [ 11 ] F1_score - [ 0.57 ] ROC_AUC - [ 0.87 ]\n",
      "n_estimators - [ 24 ] max_depth - [ 12 ] F1_score - [ 0.58 ] ROC_AUC - [ 0.86 ]\n",
      "n_estimators - [ 24 ] max_depth - [ 13 ] F1_score - [ 0.56 ] ROC_AUC - [ 0.87 ]\n",
      "n_estimators - [ 24 ] max_depth - [ 14 ] F1_score - [ 0.59 ] ROC_AUC - [ 0.85 ]\n",
      "n_estimators - [ 25 ] max_depth - [ 1 ] F1_score - [ 0.0 ] ROC_AUC - [ 0.81 ]\n",
      "n_estimators - [ 25 ] max_depth - [ 2 ] F1_score - [ 0.16 ] ROC_AUC - [ 0.82 ]\n",
      "n_estimators - [ 25 ] max_depth - [ 3 ] F1_score - [ 0.24 ] ROC_AUC - [ 0.83 ]\n",
      "n_estimators - [ 25 ] max_depth - [ 4 ] F1_score - [ 0.42 ] ROC_AUC - [ 0.84 ]\n",
      "n_estimators - [ 25 ] max_depth - [ 5 ] F1_score - [ 0.51 ] ROC_AUC - [ 0.86 ]\n",
      "n_estimators - [ 25 ] max_depth - [ 6 ] F1_score - [ 0.54 ] ROC_AUC - [ 0.86 ]\n",
      "n_estimators - [ 25 ] max_depth - [ 7 ] F1_score - [ 0.56 ] ROC_AUC - [ 0.86 ]\n",
      "n_estimators - [ 25 ] max_depth - [ 8 ] F1_score - [ 0.58 ] ROC_AUC - [ 0.87 ]\n",
      "n_estimators - [ 25 ] max_depth - [ 9 ] F1_score - [ 0.55 ] ROC_AUC - [ 0.87 ]\n",
      "n_estimators - [ 25 ] max_depth - [ 10 ] F1_score - [ 0.57 ] ROC_AUC - [ 0.86 ]\n",
      "n_estimators - [ 25 ] max_depth - [ 11 ] F1_score - [ 0.57 ] ROC_AUC - [ 0.87 ]\n",
      "n_estimators - [ 25 ] max_depth - [ 12 ] F1_score - [ 0.56 ] ROC_AUC - [ 0.86 ]\n",
      "n_estimators - [ 25 ] max_depth - [ 13 ] F1_score - [ 0.57 ] ROC_AUC - [ 0.87 ]\n",
      "n_estimators - [ 25 ] max_depth - [ 14 ] F1_score - [ 0.58 ] ROC_AUC - [ 0.85 ]\n",
      "n_estimators - [ 26 ] max_depth - [ 1 ] F1_score - [ 0.0 ] ROC_AUC - [ 0.81 ]\n",
      "n_estimators - [ 26 ] max_depth - [ 2 ] F1_score - [ 0.15 ] ROC_AUC - [ 0.82 ]\n",
      "n_estimators - [ 26 ] max_depth - [ 3 ] F1_score - [ 0.25 ] ROC_AUC - [ 0.83 ]\n",
      "n_estimators - [ 26 ] max_depth - [ 4 ] F1_score - [ 0.43 ] ROC_AUC - [ 0.84 ]\n",
      "n_estimators - [ 26 ] max_depth - [ 5 ] F1_score - [ 0.51 ] ROC_AUC - [ 0.86 ]\n",
      "n_estimators - [ 26 ] max_depth - [ 6 ] F1_score - [ 0.54 ] ROC_AUC - [ 0.86 ]\n",
      "n_estimators - [ 26 ] max_depth - [ 7 ] F1_score - [ 0.56 ] ROC_AUC - [ 0.86 ]\n",
      "n_estimators - [ 26 ] max_depth - [ 8 ] F1_score - [ 0.58 ] ROC_AUC - [ 0.87 ]\n",
      "n_estimators - [ 26 ] max_depth - [ 9 ] F1_score - [ 0.55 ] ROC_AUC - [ 0.87 ]\n",
      "n_estimators - [ 26 ] max_depth - [ 10 ] F1_score - [ 0.58 ] ROC_AUC - [ 0.86 ]\n",
      "n_estimators - [ 26 ] max_depth - [ 11 ] F1_score - [ 0.56 ] ROC_AUC - [ 0.87 ]\n",
      "n_estimators - [ 26 ] max_depth - [ 12 ] F1_score - [ 0.57 ] ROC_AUC - [ 0.86 ]\n",
      "n_estimators - [ 26 ] max_depth - [ 13 ] F1_score - [ 0.57 ] ROC_AUC - [ 0.87 ]\n",
      "n_estimators - [ 26 ] max_depth - [ 14 ] F1_score - [ 0.58 ] ROC_AUC - [ 0.85 ]\n",
      "n_estimators - [ 27 ] max_depth - [ 1 ] F1_score - [ 0.0 ] ROC_AUC - [ 0.81 ]\n",
      "n_estimators - [ 27 ] max_depth - [ 2 ] F1_score - [ 0.19 ] ROC_AUC - [ 0.82 ]\n",
      "n_estimators - [ 27 ] max_depth - [ 3 ] F1_score - [ 0.24 ] ROC_AUC - [ 0.83 ]\n",
      "n_estimators - [ 27 ] max_depth - [ 4 ] F1_score - [ 0.41 ] ROC_AUC - [ 0.84 ]\n",
      "n_estimators - [ 27 ] max_depth - [ 5 ] F1_score - [ 0.5 ] ROC_AUC - [ 0.86 ]\n",
      "n_estimators - [ 27 ] max_depth - [ 6 ] F1_score - [ 0.55 ] ROC_AUC - [ 0.86 ]\n",
      "n_estimators - [ 27 ] max_depth - [ 7 ] F1_score - [ 0.55 ] ROC_AUC - [ 0.86 ]\n",
      "n_estimators - [ 27 ] max_depth - [ 8 ] F1_score - [ 0.57 ] ROC_AUC - [ 0.87 ]\n",
      "n_estimators - [ 27 ] max_depth - [ 9 ] F1_score - [ 0.55 ] ROC_AUC - [ 0.87 ]\n",
      "n_estimators - [ 27 ] max_depth - [ 10 ] F1_score - [ 0.58 ] ROC_AUC - [ 0.86 ]\n",
      "n_estimators - [ 27 ] max_depth - [ 11 ] F1_score - [ 0.57 ] ROC_AUC - [ 0.87 ]\n",
      "n_estimators - [ 27 ] max_depth - [ 12 ] F1_score - [ 0.56 ] ROC_AUC - [ 0.86 ]\n",
      "n_estimators - [ 27 ] max_depth - [ 13 ] F1_score - [ 0.58 ] ROC_AUC - [ 0.87 ]\n",
      "n_estimators - [ 27 ] max_depth - [ 14 ] F1_score - [ 0.58 ] ROC_AUC - [ 0.85 ]\n",
      "n_estimators - [ 28 ] max_depth - [ 1 ] F1_score - [ 0.0 ] ROC_AUC - [ 0.81 ]\n",
      "n_estimators - [ 28 ] max_depth - [ 2 ] F1_score - [ 0.17 ] ROC_AUC - [ 0.82 ]\n",
      "n_estimators - [ 28 ] max_depth - [ 3 ] F1_score - [ 0.24 ] ROC_AUC - [ 0.83 ]\n",
      "n_estimators - [ 28 ] max_depth - [ 4 ] F1_score - [ 0.41 ] ROC_AUC - [ 0.84 ]\n",
      "n_estimators - [ 28 ] max_depth - [ 5 ] F1_score - [ 0.5 ] ROC_AUC - [ 0.85 ]\n",
      "n_estimators - [ 28 ] max_depth - [ 6 ] F1_score - [ 0.55 ] ROC_AUC - [ 0.86 ]\n",
      "n_estimators - [ 28 ] max_depth - [ 7 ] F1_score - [ 0.55 ] ROC_AUC - [ 0.86 ]\n",
      "n_estimators - [ 28 ] max_depth - [ 8 ] F1_score - [ 0.58 ] ROC_AUC - [ 0.87 ]\n",
      "n_estimators - [ 28 ] max_depth - [ 9 ] F1_score - [ 0.55 ] ROC_AUC - [ 0.87 ]\n",
      "n_estimators - [ 28 ] max_depth - [ 10 ] F1_score - [ 0.58 ] ROC_AUC - [ 0.87 ]\n",
      "n_estimators - [ 28 ] max_depth - [ 11 ] F1_score - [ 0.57 ] ROC_AUC - [ 0.87 ]\n",
      "n_estimators - [ 28 ] max_depth - [ 12 ] F1_score - [ 0.56 ] ROC_AUC - [ 0.86 ]\n",
      "n_estimators - [ 28 ] max_depth - [ 13 ] F1_score - [ 0.57 ] ROC_AUC - [ 0.87 ]\n",
      "n_estimators - [ 28 ] max_depth - [ 14 ] F1_score - [ 0.58 ] ROC_AUC - [ 0.85 ]\n",
      "n_estimators - [ 29 ] max_depth - [ 1 ] F1_score - [ 0.0 ] ROC_AUC - [ 0.81 ]\n",
      "n_estimators - [ 29 ] max_depth - [ 2 ] F1_score - [ 0.16 ] ROC_AUC - [ 0.82 ]\n",
      "n_estimators - [ 29 ] max_depth - [ 3 ] F1_score - [ 0.23 ] ROC_AUC - [ 0.83 ]\n",
      "n_estimators - [ 29 ] max_depth - [ 4 ] F1_score - [ 0.41 ] ROC_AUC - [ 0.85 ]\n",
      "n_estimators - [ 29 ] max_depth - [ 5 ] F1_score - [ 0.5 ] ROC_AUC - [ 0.86 ]\n",
      "n_estimators - [ 29 ] max_depth - [ 6 ] F1_score - [ 0.56 ] ROC_AUC - [ 0.86 ]\n",
      "n_estimators - [ 29 ] max_depth - [ 7 ] F1_score - [ 0.55 ] ROC_AUC - [ 0.86 ]\n",
      "n_estimators - [ 29 ] max_depth - [ 8 ] F1_score - [ 0.57 ] ROC_AUC - [ 0.87 ]\n",
      "n_estimators - [ 29 ] max_depth - [ 9 ] F1_score - [ 0.56 ] ROC_AUC - [ 0.87 ]\n",
      "n_estimators - [ 29 ] max_depth - [ 10 ] F1_score - [ 0.58 ] ROC_AUC - [ 0.86 ]\n",
      "n_estimators - [ 29 ] max_depth - [ 11 ] F1_score - [ 0.57 ] ROC_AUC - [ 0.87 ]\n",
      "n_estimators - [ 29 ] max_depth - [ 12 ] F1_score - [ 0.57 ] ROC_AUC - [ 0.87 ]\n",
      "n_estimators - [ 29 ] max_depth - [ 13 ] F1_score - [ 0.58 ] ROC_AUC - [ 0.87 ]\n",
      "n_estimators - [ 29 ] max_depth - [ 14 ] F1_score - [ 0.57 ] ROC_AUC - [ 0.85 ]\n",
      "n_estimators - [ 30 ] max_depth - [ 1 ] F1_score - [ 0.0 ] ROC_AUC - [ 0.81 ]\n",
      "n_estimators - [ 30 ] max_depth - [ 2 ] F1_score - [ 0.16 ] ROC_AUC - [ 0.82 ]\n",
      "n_estimators - [ 30 ] max_depth - [ 3 ] F1_score - [ 0.24 ] ROC_AUC - [ 0.84 ]\n",
      "n_estimators - [ 30 ] max_depth - [ 4 ] F1_score - [ 0.4 ] ROC_AUC - [ 0.85 ]\n",
      "n_estimators - [ 30 ] max_depth - [ 5 ] F1_score - [ 0.5 ] ROC_AUC - [ 0.86 ]\n",
      "n_estimators - [ 30 ] max_depth - [ 6 ] F1_score - [ 0.56 ] ROC_AUC - [ 0.86 ]\n",
      "n_estimators - [ 30 ] max_depth - [ 7 ] F1_score - [ 0.56 ] ROC_AUC - [ 0.87 ]\n",
      "n_estimators - [ 30 ] max_depth - [ 8 ] F1_score - [ 0.57 ] ROC_AUC - [ 0.87 ]\n",
      "n_estimators - [ 30 ] max_depth - [ 9 ] F1_score - [ 0.55 ] ROC_AUC - [ 0.87 ]\n",
      "n_estimators - [ 30 ] max_depth - [ 10 ] F1_score - [ 0.58 ] ROC_AUC - [ 0.86 ]\n",
      "n_estimators - [ 30 ] max_depth - [ 11 ] F1_score - [ 0.56 ] ROC_AUC - [ 0.87 ]\n",
      "n_estimators - [ 30 ] max_depth - [ 12 ] F1_score - [ 0.58 ] ROC_AUC - [ 0.86 ]\n",
      "n_estimators - [ 30 ] max_depth - [ 13 ] F1_score - [ 0.57 ] ROC_AUC - [ 0.87 ]\n",
      "n_estimators - [ 30 ] max_depth - [ 14 ] F1_score - [ 0.58 ] ROC_AUC - [ 0.85 ]\n",
      "n_estimators - [ 31 ] max_depth - [ 1 ] F1_score - [ 0.0 ] ROC_AUC - [ 0.81 ]\n",
      "n_estimators - [ 31 ] max_depth - [ 2 ] F1_score - [ 0.15 ] ROC_AUC - [ 0.82 ]\n",
      "n_estimators - [ 31 ] max_depth - [ 3 ] F1_score - [ 0.23 ] ROC_AUC - [ 0.83 ]\n",
      "n_estimators - [ 31 ] max_depth - [ 4 ] F1_score - [ 0.4 ] ROC_AUC - [ 0.85 ]\n",
      "n_estimators - [ 31 ] max_depth - [ 5 ] F1_score - [ 0.49 ] ROC_AUC - [ 0.86 ]\n",
      "n_estimators - [ 31 ] max_depth - [ 6 ] F1_score - [ 0.56 ] ROC_AUC - [ 0.86 ]\n",
      "n_estimators - [ 31 ] max_depth - [ 7 ] F1_score - [ 0.56 ] ROC_AUC - [ 0.86 ]\n",
      "n_estimators - [ 31 ] max_depth - [ 8 ] F1_score - [ 0.57 ] ROC_AUC - [ 0.87 ]\n",
      "n_estimators - [ 31 ] max_depth - [ 9 ] F1_score - [ 0.55 ] ROC_AUC - [ 0.87 ]\n",
      "n_estimators - [ 31 ] max_depth - [ 10 ] F1_score - [ 0.57 ] ROC_AUC - [ 0.86 ]\n",
      "n_estimators - [ 31 ] max_depth - [ 11 ] F1_score - [ 0.57 ] ROC_AUC - [ 0.87 ]\n",
      "n_estimators - [ 31 ] max_depth - [ 12 ] F1_score - [ 0.58 ] ROC_AUC - [ 0.87 ]\n",
      "n_estimators - [ 31 ] max_depth - [ 13 ] F1_score - [ 0.57 ] ROC_AUC - [ 0.87 ]\n",
      "n_estimators - [ 31 ] max_depth - [ 14 ] F1_score - [ 0.57 ] ROC_AUC - [ 0.85 ]\n",
      "n_estimators - [ 32 ] max_depth - [ 1 ] F1_score - [ 0.0 ] ROC_AUC - [ 0.81 ]\n",
      "n_estimators - [ 32 ] max_depth - [ 2 ] F1_score - [ 0.17 ] ROC_AUC - [ 0.82 ]\n",
      "n_estimators - [ 32 ] max_depth - [ 3 ] F1_score - [ 0.23 ] ROC_AUC - [ 0.84 ]\n",
      "n_estimators - [ 32 ] max_depth - [ 4 ] F1_score - [ 0.4 ] ROC_AUC - [ 0.85 ]\n",
      "n_estimators - [ 32 ] max_depth - [ 5 ] F1_score - [ 0.49 ] ROC_AUC - [ 0.86 ]\n",
      "n_estimators - [ 32 ] max_depth - [ 6 ] F1_score - [ 0.56 ] ROC_AUC - [ 0.86 ]\n",
      "n_estimators - [ 32 ] max_depth - [ 7 ] F1_score - [ 0.55 ] ROC_AUC - [ 0.86 ]\n",
      "n_estimators - [ 32 ] max_depth - [ 8 ] F1_score - [ 0.57 ] ROC_AUC - [ 0.87 ]\n",
      "n_estimators - [ 32 ] max_depth - [ 9 ] F1_score - [ 0.55 ] ROC_AUC - [ 0.87 ]\n",
      "n_estimators - [ 32 ] max_depth - [ 10 ] F1_score - [ 0.57 ] ROC_AUC - [ 0.86 ]\n",
      "n_estimators - [ 32 ] max_depth - [ 11 ] F1_score - [ 0.57 ] ROC_AUC - [ 0.87 ]\n",
      "n_estimators - [ 32 ] max_depth - [ 12 ] F1_score - [ 0.58 ] ROC_AUC - [ 0.87 ]\n",
      "n_estimators - [ 32 ] max_depth - [ 13 ] F1_score - [ 0.57 ] ROC_AUC - [ 0.87 ]\n",
      "n_estimators - [ 32 ] max_depth - [ 14 ] F1_score - [ 0.57 ] ROC_AUC - [ 0.85 ]\n",
      "n_estimators - [ 33 ] max_depth - [ 1 ] F1_score - [ 0.0 ] ROC_AUC - [ 0.81 ]\n",
      "n_estimators - [ 33 ] max_depth - [ 2 ] F1_score - [ 0.16 ] ROC_AUC - [ 0.82 ]\n",
      "n_estimators - [ 33 ] max_depth - [ 3 ] F1_score - [ 0.23 ] ROC_AUC - [ 0.84 ]\n",
      "n_estimators - [ 33 ] max_depth - [ 4 ] F1_score - [ 0.4 ] ROC_AUC - [ 0.85 ]\n",
      "n_estimators - [ 33 ] max_depth - [ 5 ] F1_score - [ 0.49 ] ROC_AUC - [ 0.86 ]\n",
      "n_estimators - [ 33 ] max_depth - [ 6 ] F1_score - [ 0.55 ] ROC_AUC - [ 0.86 ]\n",
      "n_estimators - [ 33 ] max_depth - [ 7 ] F1_score - [ 0.55 ] ROC_AUC - [ 0.86 ]\n",
      "n_estimators - [ 33 ] max_depth - [ 8 ] F1_score - [ 0.57 ] ROC_AUC - [ 0.87 ]\n",
      "n_estimators - [ 33 ] max_depth - [ 9 ] F1_score - [ 0.55 ] ROC_AUC - [ 0.87 ]\n",
      "n_estimators - [ 33 ] max_depth - [ 10 ] F1_score - [ 0.58 ] ROC_AUC - [ 0.86 ]\n",
      "n_estimators - [ 33 ] max_depth - [ 11 ] F1_score - [ 0.57 ] ROC_AUC - [ 0.87 ]\n",
      "n_estimators - [ 33 ] max_depth - [ 12 ] F1_score - [ 0.57 ] ROC_AUC - [ 0.87 ]\n",
      "n_estimators - [ 33 ] max_depth - [ 13 ] F1_score - [ 0.57 ] ROC_AUC - [ 0.87 ]\n",
      "n_estimators - [ 33 ] max_depth - [ 14 ] F1_score - [ 0.57 ] ROC_AUC - [ 0.86 ]\n",
      "n_estimators - [ 34 ] max_depth - [ 1 ] F1_score - [ 0.0 ] ROC_AUC - [ 0.81 ]\n",
      "n_estimators - [ 34 ] max_depth - [ 2 ] F1_score - [ 0.17 ] ROC_AUC - [ 0.82 ]\n",
      "n_estimators - [ 34 ] max_depth - [ 3 ] F1_score - [ 0.23 ] ROC_AUC - [ 0.84 ]\n",
      "n_estimators - [ 34 ] max_depth - [ 4 ] F1_score - [ 0.4 ] ROC_AUC - [ 0.85 ]\n",
      "n_estimators - [ 34 ] max_depth - [ 5 ] F1_score - [ 0.49 ] ROC_AUC - [ 0.86 ]\n",
      "n_estimators - [ 34 ] max_depth - [ 6 ] F1_score - [ 0.55 ] ROC_AUC - [ 0.86 ]\n",
      "n_estimators - [ 34 ] max_depth - [ 7 ] F1_score - [ 0.55 ] ROC_AUC - [ 0.86 ]\n",
      "n_estimators - [ 34 ] max_depth - [ 8 ] F1_score - [ 0.57 ] ROC_AUC - [ 0.87 ]\n",
      "n_estimators - [ 34 ] max_depth - [ 9 ] F1_score - [ 0.55 ] ROC_AUC - [ 0.87 ]\n",
      "n_estimators - [ 34 ] max_depth - [ 10 ] F1_score - [ 0.57 ] ROC_AUC - [ 0.86 ]\n",
      "n_estimators - [ 34 ] max_depth - [ 11 ] F1_score - [ 0.57 ] ROC_AUC - [ 0.87 ]\n",
      "n_estimators - [ 34 ] max_depth - [ 12 ] F1_score - [ 0.58 ] ROC_AUC - [ 0.87 ]\n",
      "n_estimators - [ 34 ] max_depth - [ 13 ] F1_score - [ 0.57 ] ROC_AUC - [ 0.87 ]\n",
      "n_estimators - [ 34 ] max_depth - [ 14 ] F1_score - [ 0.57 ] ROC_AUC - [ 0.86 ]\n",
      "n_estimators - [ 35 ] max_depth - [ 1 ] F1_score - [ 0.0 ] ROC_AUC - [ 0.81 ]\n",
      "n_estimators - [ 35 ] max_depth - [ 2 ] F1_score - [ 0.19 ] ROC_AUC - [ 0.82 ]\n",
      "n_estimators - [ 35 ] max_depth - [ 3 ] F1_score - [ 0.23 ] ROC_AUC - [ 0.84 ]\n",
      "n_estimators - [ 35 ] max_depth - [ 4 ] F1_score - [ 0.4 ] ROC_AUC - [ 0.85 ]\n",
      "n_estimators - [ 35 ] max_depth - [ 5 ] F1_score - [ 0.49 ] ROC_AUC - [ 0.86 ]\n",
      "n_estimators - [ 35 ] max_depth - [ 6 ] F1_score - [ 0.55 ] ROC_AUC - [ 0.86 ]\n",
      "n_estimators - [ 35 ] max_depth - [ 7 ] F1_score - [ 0.55 ] ROC_AUC - [ 0.87 ]\n",
      "n_estimators - [ 35 ] max_depth - [ 8 ] F1_score - [ 0.57 ] ROC_AUC - [ 0.87 ]\n",
      "n_estimators - [ 35 ] max_depth - [ 9 ] F1_score - [ 0.56 ] ROC_AUC - [ 0.87 ]\n",
      "n_estimators - [ 35 ] max_depth - [ 10 ] F1_score - [ 0.57 ] ROC_AUC - [ 0.86 ]\n",
      "n_estimators - [ 35 ] max_depth - [ 11 ] F1_score - [ 0.57 ] ROC_AUC - [ 0.87 ]\n",
      "n_estimators - [ 35 ] max_depth - [ 12 ] F1_score - [ 0.58 ] ROC_AUC - [ 0.87 ]\n",
      "n_estimators - [ 35 ] max_depth - [ 13 ] F1_score - [ 0.57 ] ROC_AUC - [ 0.87 ]\n",
      "n_estimators - [ 35 ] max_depth - [ 14 ] F1_score - [ 0.57 ] ROC_AUC - [ 0.86 ]\n",
      "n_estimators - [ 36 ] max_depth - [ 1 ] F1_score - [ 0.0 ] ROC_AUC - [ 0.81 ]\n",
      "n_estimators - [ 36 ] max_depth - [ 2 ] F1_score - [ 0.2 ] ROC_AUC - [ 0.82 ]\n",
      "n_estimators - [ 36 ] max_depth - [ 3 ] F1_score - [ 0.24 ] ROC_AUC - [ 0.84 ]\n",
      "n_estimators - [ 36 ] max_depth - [ 4 ] F1_score - [ 0.4 ] ROC_AUC - [ 0.85 ]\n",
      "n_estimators - [ 36 ] max_depth - [ 5 ] F1_score - [ 0.49 ] ROC_AUC - [ 0.86 ]\n",
      "n_estimators - [ 36 ] max_depth - [ 6 ] F1_score - [ 0.55 ] ROC_AUC - [ 0.86 ]\n",
      "n_estimators - [ 36 ] max_depth - [ 7 ] F1_score - [ 0.55 ] ROC_AUC - [ 0.87 ]\n",
      "n_estimators - [ 36 ] max_depth - [ 8 ] F1_score - [ 0.56 ] ROC_AUC - [ 0.87 ]\n",
      "n_estimators - [ 36 ] max_depth - [ 9 ] F1_score - [ 0.55 ] ROC_AUC - [ 0.87 ]\n",
      "n_estimators - [ 36 ] max_depth - [ 10 ] F1_score - [ 0.58 ] ROC_AUC - [ 0.86 ]\n",
      "n_estimators - [ 36 ] max_depth - [ 11 ] F1_score - [ 0.57 ] ROC_AUC - [ 0.87 ]\n",
      "n_estimators - [ 36 ] max_depth - [ 12 ] F1_score - [ 0.58 ] ROC_AUC - [ 0.87 ]\n",
      "n_estimators - [ 36 ] max_depth - [ 13 ] F1_score - [ 0.58 ] ROC_AUC - [ 0.87 ]\n",
      "n_estimators - [ 36 ] max_depth - [ 14 ] F1_score - [ 0.58 ] ROC_AUC - [ 0.86 ]\n",
      "n_estimators - [ 37 ] max_depth - [ 1 ] F1_score - [ 0.0 ] ROC_AUC - [ 0.81 ]\n",
      "n_estimators - [ 37 ] max_depth - [ 2 ] F1_score - [ 0.21 ] ROC_AUC - [ 0.83 ]\n",
      "n_estimators - [ 37 ] max_depth - [ 3 ] F1_score - [ 0.24 ] ROC_AUC - [ 0.84 ]\n",
      "n_estimators - [ 37 ] max_depth - [ 4 ] F1_score - [ 0.41 ] ROC_AUC - [ 0.85 ]\n",
      "n_estimators - [ 37 ] max_depth - [ 5 ] F1_score - [ 0.49 ] ROC_AUC - [ 0.86 ]\n",
      "n_estimators - [ 37 ] max_depth - [ 6 ] F1_score - [ 0.55 ] ROC_AUC - [ 0.86 ]\n",
      "n_estimators - [ 37 ] max_depth - [ 7 ] F1_score - [ 0.55 ] ROC_AUC - [ 0.87 ]\n",
      "n_estimators - [ 37 ] max_depth - [ 8 ] F1_score - [ 0.56 ] ROC_AUC - [ 0.87 ]\n",
      "n_estimators - [ 37 ] max_depth - [ 9 ] F1_score - [ 0.55 ] ROC_AUC - [ 0.87 ]\n",
      "n_estimators - [ 37 ] max_depth - [ 10 ] F1_score - [ 0.58 ] ROC_AUC - [ 0.86 ]\n",
      "n_estimators - [ 37 ] max_depth - [ 11 ] F1_score - [ 0.58 ] ROC_AUC - [ 0.87 ]\n",
      "n_estimators - [ 37 ] max_depth - [ 12 ] F1_score - [ 0.58 ] ROC_AUC - [ 0.87 ]\n",
      "n_estimators - [ 37 ] max_depth - [ 13 ] F1_score - [ 0.58 ] ROC_AUC - [ 0.87 ]\n",
      "n_estimators - [ 37 ] max_depth - [ 14 ] F1_score - [ 0.58 ] ROC_AUC - [ 0.86 ]\n",
      "n_estimators - [ 38 ] max_depth - [ 1 ] F1_score - [ 0.0 ] ROC_AUC - [ 0.81 ]\n",
      "n_estimators - [ 38 ] max_depth - [ 2 ] F1_score - [ 0.2 ] ROC_AUC - [ 0.83 ]\n",
      "n_estimators - [ 38 ] max_depth - [ 3 ] F1_score - [ 0.24 ] ROC_AUC - [ 0.84 ]\n",
      "n_estimators - [ 38 ] max_depth - [ 4 ] F1_score - [ 0.41 ] ROC_AUC - [ 0.85 ]\n",
      "n_estimators - [ 38 ] max_depth - [ 5 ] F1_score - [ 0.49 ] ROC_AUC - [ 0.86 ]\n",
      "n_estimators - [ 38 ] max_depth - [ 6 ] F1_score - [ 0.55 ] ROC_AUC - [ 0.86 ]\n",
      "n_estimators - [ 38 ] max_depth - [ 7 ] F1_score - [ 0.55 ] ROC_AUC - [ 0.87 ]\n",
      "n_estimators - [ 38 ] max_depth - [ 8 ] F1_score - [ 0.56 ] ROC_AUC - [ 0.87 ]\n",
      "n_estimators - [ 38 ] max_depth - [ 9 ] F1_score - [ 0.55 ] ROC_AUC - [ 0.87 ]\n",
      "n_estimators - [ 38 ] max_depth - [ 10 ] F1_score - [ 0.58 ] ROC_AUC - [ 0.86 ]\n",
      "n_estimators - [ 38 ] max_depth - [ 11 ] F1_score - [ 0.57 ] ROC_AUC - [ 0.87 ]\n",
      "n_estimators - [ 38 ] max_depth - [ 12 ] F1_score - [ 0.57 ] ROC_AUC - [ 0.87 ]\n",
      "n_estimators - [ 38 ] max_depth - [ 13 ] F1_score - [ 0.57 ] ROC_AUC - [ 0.87 ]\n",
      "n_estimators - [ 38 ] max_depth - [ 14 ] F1_score - [ 0.58 ] ROC_AUC - [ 0.86 ]\n",
      "n_estimators - [ 39 ] max_depth - [ 1 ] F1_score - [ 0.0 ] ROC_AUC - [ 0.81 ]\n",
      "n_estimators - [ 39 ] max_depth - [ 2 ] F1_score - [ 0.2 ] ROC_AUC - [ 0.83 ]\n",
      "n_estimators - [ 39 ] max_depth - [ 3 ] F1_score - [ 0.24 ] ROC_AUC - [ 0.84 ]\n",
      "n_estimators - [ 39 ] max_depth - [ 4 ] F1_score - [ 0.41 ] ROC_AUC - [ 0.85 ]\n",
      "n_estimators - [ 39 ] max_depth - [ 5 ] F1_score - [ 0.49 ] ROC_AUC - [ 0.86 ]\n",
      "n_estimators - [ 39 ] max_depth - [ 6 ] F1_score - [ 0.55 ] ROC_AUC - [ 0.86 ]\n",
      "n_estimators - [ 39 ] max_depth - [ 7 ] F1_score - [ 0.55 ] ROC_AUC - [ 0.87 ]\n",
      "n_estimators - [ 39 ] max_depth - [ 8 ] F1_score - [ 0.56 ] ROC_AUC - [ 0.87 ]\n",
      "n_estimators - [ 39 ] max_depth - [ 9 ] F1_score - [ 0.55 ] ROC_AUC - [ 0.87 ]\n",
      "n_estimators - [ 39 ] max_depth - [ 10 ] F1_score - [ 0.58 ] ROC_AUC - [ 0.86 ]\n",
      "n_estimators - [ 39 ] max_depth - [ 11 ] F1_score - [ 0.58 ] ROC_AUC - [ 0.87 ]\n",
      "n_estimators - [ 39 ] max_depth - [ 12 ] F1_score - [ 0.57 ] ROC_AUC - [ 0.87 ]\n",
      "n_estimators - [ 39 ] max_depth - [ 13 ] F1_score - [ 0.58 ] ROC_AUC - [ 0.87 ]\n",
      "n_estimators - [ 39 ] max_depth - [ 14 ] F1_score - [ 0.58 ] ROC_AUC - [ 0.86 ]\n",
      "n_estimators - [ 40 ] max_depth - [ 1 ] F1_score - [ 0.0 ] ROC_AUC - [ 0.81 ]\n",
      "n_estimators - [ 40 ] max_depth - [ 2 ] F1_score - [ 0.19 ] ROC_AUC - [ 0.83 ]\n",
      "n_estimators - [ 40 ] max_depth - [ 3 ] F1_score - [ 0.24 ] ROC_AUC - [ 0.84 ]\n",
      "n_estimators - [ 40 ] max_depth - [ 4 ] F1_score - [ 0.41 ] ROC_AUC - [ 0.85 ]\n",
      "n_estimators - [ 40 ] max_depth - [ 5 ] F1_score - [ 0.49 ] ROC_AUC - [ 0.86 ]\n",
      "n_estimators - [ 40 ] max_depth - [ 6 ] F1_score - [ 0.55 ] ROC_AUC - [ 0.86 ]\n",
      "n_estimators - [ 40 ] max_depth - [ 7 ] F1_score - [ 0.55 ] ROC_AUC - [ 0.87 ]\n",
      "n_estimators - [ 40 ] max_depth - [ 8 ] F1_score - [ 0.56 ] ROC_AUC - [ 0.87 ]\n",
      "n_estimators - [ 40 ] max_depth - [ 9 ] F1_score - [ 0.55 ] ROC_AUC - [ 0.87 ]\n",
      "n_estimators - [ 40 ] max_depth - [ 10 ] F1_score - [ 0.57 ] ROC_AUC - [ 0.86 ]\n",
      "n_estimators - [ 40 ] max_depth - [ 11 ] F1_score - [ 0.58 ] ROC_AUC - [ 0.87 ]\n",
      "n_estimators - [ 40 ] max_depth - [ 12 ] F1_score - [ 0.57 ] ROC_AUC - [ 0.87 ]\n",
      "n_estimators - [ 40 ] max_depth - [ 13 ] F1_score - [ 0.58 ] ROC_AUC - [ 0.87 ]\n",
      "n_estimators - [ 40 ] max_depth - [ 14 ] F1_score - [ 0.59 ] ROC_AUC - [ 0.86 ]\n",
      "n_estimators - [ 41 ] max_depth - [ 1 ] F1_score - [ 0.0 ] ROC_AUC - [ 0.81 ]\n",
      "n_estimators - [ 41 ] max_depth - [ 2 ] F1_score - [ 0.18 ] ROC_AUC - [ 0.83 ]\n",
      "n_estimators - [ 41 ] max_depth - [ 3 ] F1_score - [ 0.25 ] ROC_AUC - [ 0.84 ]\n",
      "n_estimators - [ 41 ] max_depth - [ 4 ] F1_score - [ 0.41 ] ROC_AUC - [ 0.85 ]\n",
      "n_estimators - [ 41 ] max_depth - [ 5 ] F1_score - [ 0.5 ] ROC_AUC - [ 0.86 ]\n",
      "n_estimators - [ 41 ] max_depth - [ 6 ] F1_score - [ 0.56 ] ROC_AUC - [ 0.86 ]\n",
      "n_estimators - [ 41 ] max_depth - [ 7 ] F1_score - [ 0.55 ] ROC_AUC - [ 0.87 ]\n",
      "n_estimators - [ 41 ] max_depth - [ 8 ] F1_score - [ 0.56 ] ROC_AUC - [ 0.87 ]\n",
      "n_estimators - [ 41 ] max_depth - [ 9 ] F1_score - [ 0.55 ] ROC_AUC - [ 0.87 ]\n",
      "n_estimators - [ 41 ] max_depth - [ 10 ] F1_score - [ 0.57 ] ROC_AUC - [ 0.86 ]\n",
      "n_estimators - [ 41 ] max_depth - [ 11 ] F1_score - [ 0.58 ] ROC_AUC - [ 0.87 ]\n",
      "n_estimators - [ 41 ] max_depth - [ 12 ] F1_score - [ 0.57 ] ROC_AUC - [ 0.87 ]\n",
      "n_estimators - [ 41 ] max_depth - [ 13 ] F1_score - [ 0.57 ] ROC_AUC - [ 0.87 ]\n",
      "n_estimators - [ 41 ] max_depth - [ 14 ] F1_score - [ 0.58 ] ROC_AUC - [ 0.86 ]\n",
      "n_estimators - [ 42 ] max_depth - [ 1 ] F1_score - [ 0.0 ] ROC_AUC - [ 0.81 ]\n",
      "n_estimators - [ 42 ] max_depth - [ 2 ] F1_score - [ 0.2 ] ROC_AUC - [ 0.83 ]\n",
      "n_estimators - [ 42 ] max_depth - [ 3 ] F1_score - [ 0.25 ] ROC_AUC - [ 0.84 ]\n",
      "n_estimators - [ 42 ] max_depth - [ 4 ] F1_score - [ 0.41 ] ROC_AUC - [ 0.85 ]\n",
      "n_estimators - [ 42 ] max_depth - [ 5 ] F1_score - [ 0.5 ] ROC_AUC - [ 0.86 ]\n",
      "n_estimators - [ 42 ] max_depth - [ 6 ] F1_score - [ 0.56 ] ROC_AUC - [ 0.86 ]\n",
      "n_estimators - [ 42 ] max_depth - [ 7 ] F1_score - [ 0.55 ] ROC_AUC - [ 0.87 ]\n",
      "n_estimators - [ 42 ] max_depth - [ 8 ] F1_score - [ 0.56 ] ROC_AUC - [ 0.87 ]\n",
      "n_estimators - [ 42 ] max_depth - [ 9 ] F1_score - [ 0.55 ] ROC_AUC - [ 0.87 ]\n",
      "n_estimators - [ 42 ] max_depth - [ 10 ] F1_score - [ 0.58 ] ROC_AUC - [ 0.86 ]\n",
      "n_estimators - [ 42 ] max_depth - [ 11 ] F1_score - [ 0.58 ] ROC_AUC - [ 0.87 ]\n",
      "n_estimators - [ 42 ] max_depth - [ 12 ] F1_score - [ 0.57 ] ROC_AUC - [ 0.87 ]\n",
      "n_estimators - [ 42 ] max_depth - [ 13 ] F1_score - [ 0.58 ] ROC_AUC - [ 0.87 ]\n",
      "n_estimators - [ 42 ] max_depth - [ 14 ] F1_score - [ 0.58 ] ROC_AUC - [ 0.86 ]\n",
      "n_estimators - [ 43 ] max_depth - [ 1 ] F1_score - [ 0.0 ] ROC_AUC - [ 0.81 ]\n",
      "n_estimators - [ 43 ] max_depth - [ 2 ] F1_score - [ 0.19 ] ROC_AUC - [ 0.83 ]\n",
      "n_estimators - [ 43 ] max_depth - [ 3 ] F1_score - [ 0.24 ] ROC_AUC - [ 0.84 ]\n",
      "n_estimators - [ 43 ] max_depth - [ 4 ] F1_score - [ 0.41 ] ROC_AUC - [ 0.85 ]\n",
      "n_estimators - [ 43 ] max_depth - [ 5 ] F1_score - [ 0.5 ] ROC_AUC - [ 0.86 ]\n",
      "n_estimators - [ 43 ] max_depth - [ 6 ] F1_score - [ 0.55 ] ROC_AUC - [ 0.86 ]\n",
      "n_estimators - [ 43 ] max_depth - [ 7 ] F1_score - [ 0.55 ] ROC_AUC - [ 0.87 ]\n",
      "n_estimators - [ 43 ] max_depth - [ 8 ] F1_score - [ 0.57 ] ROC_AUC - [ 0.87 ]\n",
      "n_estimators - [ 43 ] max_depth - [ 9 ] F1_score - [ 0.55 ] ROC_AUC - [ 0.87 ]\n",
      "n_estimators - [ 43 ] max_depth - [ 10 ] F1_score - [ 0.57 ] ROC_AUC - [ 0.87 ]\n",
      "n_estimators - [ 43 ] max_depth - [ 11 ] F1_score - [ 0.57 ] ROC_AUC - [ 0.87 ]\n",
      "n_estimators - [ 43 ] max_depth - [ 12 ] F1_score - [ 0.57 ] ROC_AUC - [ 0.87 ]\n",
      "n_estimators - [ 43 ] max_depth - [ 13 ] F1_score - [ 0.58 ] ROC_AUC - [ 0.87 ]\n",
      "n_estimators - [ 43 ] max_depth - [ 14 ] F1_score - [ 0.58 ] ROC_AUC - [ 0.86 ]\n",
      "n_estimators - [ 44 ] max_depth - [ 1 ] F1_score - [ 0.0 ] ROC_AUC - [ 0.81 ]\n",
      "n_estimators - [ 44 ] max_depth - [ 2 ] F1_score - [ 0.19 ] ROC_AUC - [ 0.83 ]\n",
      "n_estimators - [ 44 ] max_depth - [ 3 ] F1_score - [ 0.24 ] ROC_AUC - [ 0.84 ]\n",
      "n_estimators - [ 44 ] max_depth - [ 4 ] F1_score - [ 0.4 ] ROC_AUC - [ 0.85 ]\n",
      "n_estimators - [ 44 ] max_depth - [ 5 ] F1_score - [ 0.49 ] ROC_AUC - [ 0.86 ]\n",
      "n_estimators - [ 44 ] max_depth - [ 6 ] F1_score - [ 0.55 ] ROC_AUC - [ 0.86 ]\n",
      "n_estimators - [ 44 ] max_depth - [ 7 ] F1_score - [ 0.55 ] ROC_AUC - [ 0.87 ]\n",
      "n_estimators - [ 44 ] max_depth - [ 8 ] F1_score - [ 0.57 ] ROC_AUC - [ 0.87 ]\n",
      "n_estimators - [ 44 ] max_depth - [ 9 ] F1_score - [ 0.54 ] ROC_AUC - [ 0.87 ]\n",
      "n_estimators - [ 44 ] max_depth - [ 10 ] F1_score - [ 0.57 ] ROC_AUC - [ 0.87 ]\n",
      "n_estimators - [ 44 ] max_depth - [ 11 ] F1_score - [ 0.57 ] ROC_AUC - [ 0.87 ]\n",
      "n_estimators - [ 44 ] max_depth - [ 12 ] F1_score - [ 0.57 ] ROC_AUC - [ 0.87 ]\n",
      "n_estimators - [ 44 ] max_depth - [ 13 ] F1_score - [ 0.58 ] ROC_AUC - [ 0.87 ]\n",
      "n_estimators - [ 44 ] max_depth - [ 14 ] F1_score - [ 0.58 ] ROC_AUC - [ 0.86 ]\n",
      "n_estimators - [ 45 ] max_depth - [ 1 ] F1_score - [ 0.0 ] ROC_AUC - [ 0.81 ]\n",
      "n_estimators - [ 45 ] max_depth - [ 2 ] F1_score - [ 0.2 ] ROC_AUC - [ 0.83 ]\n",
      "n_estimators - [ 45 ] max_depth - [ 3 ] F1_score - [ 0.24 ] ROC_AUC - [ 0.84 ]\n",
      "n_estimators - [ 45 ] max_depth - [ 4 ] F1_score - [ 0.41 ] ROC_AUC - [ 0.85 ]\n",
      "n_estimators - [ 45 ] max_depth - [ 5 ] F1_score - [ 0.5 ] ROC_AUC - [ 0.86 ]\n",
      "n_estimators - [ 45 ] max_depth - [ 6 ] F1_score - [ 0.55 ] ROC_AUC - [ 0.86 ]\n",
      "n_estimators - [ 45 ] max_depth - [ 7 ] F1_score - [ 0.55 ] ROC_AUC - [ 0.87 ]\n",
      "n_estimators - [ 45 ] max_depth - [ 8 ] F1_score - [ 0.57 ] ROC_AUC - [ 0.87 ]\n",
      "n_estimators - [ 45 ] max_depth - [ 9 ] F1_score - [ 0.55 ] ROC_AUC - [ 0.87 ]\n",
      "n_estimators - [ 45 ] max_depth - [ 10 ] F1_score - [ 0.58 ] ROC_AUC - [ 0.87 ]\n",
      "n_estimators - [ 45 ] max_depth - [ 11 ] F1_score - [ 0.58 ] ROC_AUC - [ 0.87 ]\n",
      "n_estimators - [ 45 ] max_depth - [ 12 ] F1_score - [ 0.57 ] ROC_AUC - [ 0.87 ]\n",
      "n_estimators - [ 45 ] max_depth - [ 13 ] F1_score - [ 0.57 ] ROC_AUC - [ 0.87 ]\n",
      "n_estimators - [ 45 ] max_depth - [ 14 ] F1_score - [ 0.58 ] ROC_AUC - [ 0.86 ]\n",
      "n_estimators - [ 46 ] max_depth - [ 1 ] F1_score - [ 0.0 ] ROC_AUC - [ 0.81 ]\n",
      "n_estimators - [ 46 ] max_depth - [ 2 ] F1_score - [ 0.21 ] ROC_AUC - [ 0.83 ]\n",
      "n_estimators - [ 46 ] max_depth - [ 3 ] F1_score - [ 0.24 ] ROC_AUC - [ 0.84 ]\n",
      "n_estimators - [ 46 ] max_depth - [ 4 ] F1_score - [ 0.41 ] ROC_AUC - [ 0.85 ]\n",
      "n_estimators - [ 46 ] max_depth - [ 5 ] F1_score - [ 0.49 ] ROC_AUC - [ 0.86 ]\n",
      "n_estimators - [ 46 ] max_depth - [ 6 ] F1_score - [ 0.55 ] ROC_AUC - [ 0.86 ]\n",
      "n_estimators - [ 46 ] max_depth - [ 7 ] F1_score - [ 0.55 ] ROC_AUC - [ 0.87 ]\n",
      "n_estimators - [ 46 ] max_depth - [ 8 ] F1_score - [ 0.56 ] ROC_AUC - [ 0.87 ]\n",
      "n_estimators - [ 46 ] max_depth - [ 9 ] F1_score - [ 0.55 ] ROC_AUC - [ 0.87 ]\n",
      "n_estimators - [ 46 ] max_depth - [ 10 ] F1_score - [ 0.58 ] ROC_AUC - [ 0.86 ]\n",
      "n_estimators - [ 46 ] max_depth - [ 11 ] F1_score - [ 0.58 ] ROC_AUC - [ 0.87 ]\n",
      "n_estimators - [ 46 ] max_depth - [ 12 ] F1_score - [ 0.57 ] ROC_AUC - [ 0.87 ]\n",
      "n_estimators - [ 46 ] max_depth - [ 13 ] F1_score - [ 0.57 ] ROC_AUC - [ 0.87 ]\n",
      "n_estimators - [ 46 ] max_depth - [ 14 ] F1_score - [ 0.58 ] ROC_AUC - [ 0.86 ]\n",
      "n_estimators - [ 47 ] max_depth - [ 1 ] F1_score - [ 0.0 ] ROC_AUC - [ 0.81 ]\n",
      "n_estimators - [ 47 ] max_depth - [ 2 ] F1_score - [ 0.2 ] ROC_AUC - [ 0.83 ]\n",
      "n_estimators - [ 47 ] max_depth - [ 3 ] F1_score - [ 0.24 ] ROC_AUC - [ 0.84 ]\n",
      "n_estimators - [ 47 ] max_depth - [ 4 ] F1_score - [ 0.41 ] ROC_AUC - [ 0.85 ]\n",
      "n_estimators - [ 47 ] max_depth - [ 5 ] F1_score - [ 0.49 ] ROC_AUC - [ 0.86 ]\n",
      "n_estimators - [ 47 ] max_depth - [ 6 ] F1_score - [ 0.55 ] ROC_AUC - [ 0.86 ]\n",
      "n_estimators - [ 47 ] max_depth - [ 7 ] F1_score - [ 0.55 ] ROC_AUC - [ 0.87 ]\n",
      "n_estimators - [ 47 ] max_depth - [ 8 ] F1_score - [ 0.57 ] ROC_AUC - [ 0.87 ]\n",
      "n_estimators - [ 47 ] max_depth - [ 9 ] F1_score - [ 0.55 ] ROC_AUC - [ 0.87 ]\n",
      "n_estimators - [ 47 ] max_depth - [ 10 ] F1_score - [ 0.58 ] ROC_AUC - [ 0.86 ]\n",
      "n_estimators - [ 47 ] max_depth - [ 11 ] F1_score - [ 0.57 ] ROC_AUC - [ 0.87 ]\n",
      "n_estimators - [ 47 ] max_depth - [ 12 ] F1_score - [ 0.56 ] ROC_AUC - [ 0.87 ]\n",
      "n_estimators - [ 47 ] max_depth - [ 13 ] F1_score - [ 0.57 ] ROC_AUC - [ 0.87 ]\n",
      "n_estimators - [ 47 ] max_depth - [ 14 ] F1_score - [ 0.58 ] ROC_AUC - [ 0.86 ]\n",
      "n_estimators - [ 48 ] max_depth - [ 1 ] F1_score - [ 0.0 ] ROC_AUC - [ 0.81 ]\n",
      "n_estimators - [ 48 ] max_depth - [ 2 ] F1_score - [ 0.2 ] ROC_AUC - [ 0.83 ]\n",
      "n_estimators - [ 48 ] max_depth - [ 3 ] F1_score - [ 0.23 ] ROC_AUC - [ 0.84 ]\n",
      "n_estimators - [ 48 ] max_depth - [ 4 ] F1_score - [ 0.4 ] ROC_AUC - [ 0.85 ]\n",
      "n_estimators - [ 48 ] max_depth - [ 5 ] F1_score - [ 0.49 ] ROC_AUC - [ 0.86 ]\n",
      "n_estimators - [ 48 ] max_depth - [ 6 ] F1_score - [ 0.55 ] ROC_AUC - [ 0.86 ]\n",
      "n_estimators - [ 48 ] max_depth - [ 7 ] F1_score - [ 0.55 ] ROC_AUC - [ 0.87 ]\n",
      "n_estimators - [ 48 ] max_depth - [ 8 ] F1_score - [ 0.56 ] ROC_AUC - [ 0.87 ]\n",
      "n_estimators - [ 48 ] max_depth - [ 9 ] F1_score - [ 0.55 ] ROC_AUC - [ 0.87 ]\n",
      "n_estimators - [ 48 ] max_depth - [ 10 ] F1_score - [ 0.58 ] ROC_AUC - [ 0.86 ]\n",
      "n_estimators - [ 48 ] max_depth - [ 11 ] F1_score - [ 0.57 ] ROC_AUC - [ 0.87 ]\n",
      "n_estimators - [ 48 ] max_depth - [ 12 ] F1_score - [ 0.57 ] ROC_AUC - [ 0.87 ]\n",
      "n_estimators - [ 48 ] max_depth - [ 13 ] F1_score - [ 0.58 ] ROC_AUC - [ 0.87 ]\n",
      "n_estimators - [ 48 ] max_depth - [ 14 ] F1_score - [ 0.57 ] ROC_AUC - [ 0.86 ]\n",
      "n_estimators - [ 49 ] max_depth - [ 1 ] F1_score - [ 0.0 ] ROC_AUC - [ 0.81 ]\n",
      "n_estimators - [ 49 ] max_depth - [ 2 ] F1_score - [ 0.21 ] ROC_AUC - [ 0.83 ]\n",
      "n_estimators - [ 49 ] max_depth - [ 3 ] F1_score - [ 0.23 ] ROC_AUC - [ 0.84 ]\n",
      "n_estimators - [ 49 ] max_depth - [ 4 ] F1_score - [ 0.4 ] ROC_AUC - [ 0.85 ]\n",
      "n_estimators - [ 49 ] max_depth - [ 5 ] F1_score - [ 0.5 ] ROC_AUC - [ 0.86 ]\n",
      "n_estimators - [ 49 ] max_depth - [ 6 ] F1_score - [ 0.56 ] ROC_AUC - [ 0.86 ]\n",
      "n_estimators - [ 49 ] max_depth - [ 7 ] F1_score - [ 0.55 ] ROC_AUC - [ 0.87 ]\n",
      "n_estimators - [ 49 ] max_depth - [ 8 ] F1_score - [ 0.57 ] ROC_AUC - [ 0.87 ]\n",
      "n_estimators - [ 49 ] max_depth - [ 9 ] F1_score - [ 0.56 ] ROC_AUC - [ 0.87 ]\n",
      "n_estimators - [ 49 ] max_depth - [ 10 ] F1_score - [ 0.58 ] ROC_AUC - [ 0.86 ]\n",
      "n_estimators - [ 49 ] max_depth - [ 11 ] F1_score - [ 0.57 ] ROC_AUC - [ 0.87 ]\n",
      "n_estimators - [ 49 ] max_depth - [ 12 ] F1_score - [ 0.57 ] ROC_AUC - [ 0.87 ]\n",
      "n_estimators - [ 49 ] max_depth - [ 13 ] F1_score - [ 0.58 ] ROC_AUC - [ 0.87 ]\n",
      "n_estimators - [ 49 ] max_depth - [ 14 ] F1_score - [ 0.58 ] ROC_AUC - [ 0.86 ]\n",
      "n_estimators - [ 50 ] max_depth - [ 1 ] F1_score - [ 0.0 ] ROC_AUC - [ 0.81 ]\n",
      "n_estimators - [ 50 ] max_depth - [ 2 ] F1_score - [ 0.21 ] ROC_AUC - [ 0.83 ]\n",
      "n_estimators - [ 50 ] max_depth - [ 3 ] F1_score - [ 0.23 ] ROC_AUC - [ 0.84 ]\n",
      "n_estimators - [ 50 ] max_depth - [ 4 ] F1_score - [ 0.41 ] ROC_AUC - [ 0.85 ]\n",
      "n_estimators - [ 50 ] max_depth - [ 5 ] F1_score - [ 0.49 ] ROC_AUC - [ 0.86 ]\n",
      "n_estimators - [ 50 ] max_depth - [ 6 ] F1_score - [ 0.55 ] ROC_AUC - [ 0.86 ]\n",
      "n_estimators - [ 50 ] max_depth - [ 7 ] F1_score - [ 0.54 ] ROC_AUC - [ 0.87 ]\n",
      "n_estimators - [ 50 ] max_depth - [ 8 ] F1_score - [ 0.56 ] ROC_AUC - [ 0.87 ]\n",
      "n_estimators - [ 50 ] max_depth - [ 9 ] F1_score - [ 0.55 ] ROC_AUC - [ 0.87 ]\n",
      "n_estimators - [ 50 ] max_depth - [ 10 ] F1_score - [ 0.58 ] ROC_AUC - [ 0.86 ]\n",
      "n_estimators - [ 50 ] max_depth - [ 11 ] F1_score - [ 0.57 ] ROC_AUC - [ 0.87 ]\n",
      "n_estimators - [ 50 ] max_depth - [ 12 ] F1_score - [ 0.56 ] ROC_AUC - [ 0.87 ]\n",
      "n_estimators - [ 50 ] max_depth - [ 13 ] F1_score - [ 0.58 ] ROC_AUC - [ 0.87 ]\n",
      "n_estimators - [ 50 ] max_depth - [ 14 ] F1_score - [ 0.57 ] ROC_AUC - [ 0.86 ]\n",
      "\n",
      "Лучший результат F1_score - [ 0.59 ]\n",
      "Лучший показатель ROC_AUC - [ 0.87 ]\n"
     ]
    }
   ],
   "source": [
    "best_f1 = 0\n",
    "best_roc_auc = 0\n",
    "for est in range(1, 51, 1):\n",
    "    for depth in range(1, 15):\n",
    "        model_forest = RandomForestClassifier(random_state=12345, n_estimators=est, max_depth=depth)\n",
    "        model_forest.fit(features_train, target_train)\n",
    "        prediction = model_forest.predict(features_valid)\n",
    "        f1 = round(f1_score(target_valid, prediction), 2)\n",
    "        prediction_proba = model_forest.predict_proba(features_valid)\n",
    "        roc_auc = round(roc_auc_score(target_valid, prediction_proba[:,1]), 2)\n",
    "        print('n_estimators - [', est, '] max_depth - [', depth, '] F1_score - [', f1, '] ROC_AUC - [', roc_auc, ']')\n",
    "        if f1 > best_f1:\n",
    "            best_f1 = f1\n",
    "        if roc_auc > best_roc_auc:\n",
    "            best_roc_auc = roc_auc\n",
    "print()\n",
    "print(\"Лучший результат F1_score - [\", best_f1, ']')\n",
    "print(\"Лучший показатель ROC_AUC - [\", best_roc_auc, ']')"
   ]
  },
  {
   "cell_type": "markdown",
   "metadata": {},
   "source": [
    "<div class=\"alert alert-info\">\n",
    "Вывод:\n",
    "<br>\n",
    "лучший параметр F1_score - <b>0.59</b>\n",
    "<br>\n",
    "лучший параметр max_depth - <b>14</b>\n",
    "<br>\n",
    "лучший параметр n_estimators - <b>23</b>\n",
    "<br>\n",
    "лучший показатель ROC_AUC - <b>0.87</b>\n",
    "</div>"
   ]
  },
  {
   "cell_type": "markdown",
   "metadata": {},
   "source": [
    "<div class=\"alert alert-info\">\n",
    "<b>Логистическая регрессия</b>\n",
    "</div>"
   ]
  },
  {
   "cell_type": "code",
   "execution_count": 23,
   "metadata": {
    "scrolled": true
   },
   "outputs": [
    {
     "name": "stdout",
     "output_type": "stream",
     "text": [
      "F1_score: 0.3\n",
      "ROC_AUC: 0.77\n"
     ]
    }
   ],
   "source": [
    "model_log_reg = LogisticRegression().fit(features_train, target_train)\n",
    "prediction = model_log_reg.predict(features_valid)\n",
    "prediction_proba = model_log_reg.predict_proba(features_valid)\n",
    "roc_auc = round(roc_auc_score(target_valid, prediction_proba[:,1]), 2)\n",
    "print('F1_score:', round(f1_score(target_valid, prediction), 2))\n",
    "print('ROC_AUC:', roc_auc)"
   ]
  },
  {
   "cell_type": "markdown",
   "metadata": {},
   "source": [
    "<div class=\"alert alert-info\">\n",
    "<b>Общий вывод</b> - самое положительное значение было в <b>Случайный лес</b> при max_depth = 5 и n_estimators = 20, F1_score: 0.52, ROC_AUC: 0.86\n",
    "</div>"
   ]
  },
  {
   "cell_type": "markdown",
   "metadata": {},
   "source": [
    "## Борьба с дисбалансом"
   ]
  },
  {
   "cell_type": "code",
   "execution_count": 24,
   "metadata": {},
   "outputs": [],
   "source": [
    "def upsampling (features, target, repeat):\n",
    "    target_one=target[target==1]\n",
    "    target_null=target[target==0]\n",
    "    features_one=features[target==1]\n",
    "    features_null=features[target==0]\n",
    "    \n",
    "    upsampling_features = pd.concat([features_null] + [features_one] * repeat)\n",
    "    upsampling_target = pd.concat([target_null] + [target_one] * repeat)\n",
    "    \n",
    "    upsampling_features, upsampling_target = shuffle(upsampling_features, upsampling_target, random_state = 1234)\n",
    "    \n",
    "    return upsampling_features, upsampling_target"
   ]
  },
  {
   "cell_type": "code",
   "execution_count": 25,
   "metadata": {},
   "outputs": [],
   "source": [
    "features_balance_up, target_balance_up = upsampling(features_train, target_train, 4)"
   ]
  },
  {
   "cell_type": "code",
   "execution_count": 26,
   "metadata": {},
   "outputs": [],
   "source": [
    "def downsampling(features, target, fraction):\n",
    "    features_null=features[target==0]\n",
    "    features_one=features[target==1]\n",
    "    target_null=target[target==0]\n",
    "    target_one=target[target==1]\n",
    "    \n",
    "    downsampling_features = pd.concat([features_null.sample(frac = fraction, random_state = 1234)] + [features_one])\n",
    "    downsampling_target = pd.concat([target_null.sample(frac = fraction, random_state = 1234)] + [target_one])\n",
    "    \n",
    "    downsampling_features, downsampling_target = shuffle(downsampling_features, downsampling_target, random_state = 1234)\n",
    "    return downsampling_features, downsampling_target"
   ]
  },
  {
   "cell_type": "code",
   "execution_count": 27,
   "metadata": {},
   "outputs": [],
   "source": [
    "features_balance_down, target_balance_down = downsampling(features, target, 0.25)"
   ]
  },
  {
   "cell_type": "markdown",
   "metadata": {},
   "source": [
    "## Исследование моделей"
   ]
  },
  {
   "cell_type": "markdown",
   "metadata": {},
   "source": [
    "<div class=\"alert alert-info\">\n",
    "<b>Древо решений</b>\n",
    "</div>"
   ]
  },
  {
   "cell_type": "code",
   "execution_count": 28,
   "metadata": {
    "scrolled": true
   },
   "outputs": [
    {
     "name": "stdout",
     "output_type": "stream",
     "text": [
      "max_depth - [ 1 ] F1_score - [ 0.0 ], ROC_AUC - [ 0.5 ]\n",
      "max_depth - [ 2 ] F1_score - [ 0.26 ], ROC_AUC - [ 0.57 ]\n",
      "max_depth - [ 3 ] F1_score - [ 0.26 ], ROC_AUC - [ 0.57 ]\n",
      "max_depth - [ 4 ] F1_score - [ 0.34 ], ROC_AUC - [ 0.64 ]\n",
      "max_depth - [ 5 ] F1_score - [ 0.27 ], ROC_AUC - [ 0.48 ]\n",
      "max_depth - [ 6 ] F1_score - [ 0.26 ], ROC_AUC - [ 0.48 ]\n",
      "max_depth - [ 7 ] F1_score - [ 0.25 ], ROC_AUC - [ 0.66 ]\n",
      "max_depth - [ 8 ] F1_score - [ 0.26 ], ROC_AUC - [ 0.48 ]\n",
      "max_depth - [ 9 ] F1_score - [ 0.26 ], ROC_AUC - [ 0.57 ]\n",
      "max_depth - [ 10 ] F1_score - [ 0.26 ], ROC_AUC - [ 0.57 ]\n",
      "max_depth - [ 11 ] F1_score - [ 0.43 ], ROC_AUC - [ 0.64 ]\n",
      "max_depth - [ 12 ] F1_score - [ 0.26 ], ROC_AUC - [ 0.57 ]\n",
      "max_depth - [ 13 ] F1_score - [ 0.26 ], ROC_AUC - [ 0.57 ]\n",
      "max_depth - [ 14 ] F1_score - [ 0.26 ], ROC_AUC - [ 0.57 ]\n",
      "max_depth - [ 15 ] F1_score - [ 0.26 ], ROC_AUC - [ 0.57 ]\n",
      "max_depth - [ 16 ] F1_score - [ 0.45 ], ROC_AUC - [ 0.65 ]\n",
      "max_depth - [ 17 ] F1_score - [ 0.26 ], ROC_AUC - [ 0.57 ]\n",
      "max_depth - [ 18 ] F1_score - [ 0.43 ], ROC_AUC - [ 0.64 ]\n",
      "max_depth - [ 19 ] F1_score - [ 0.42 ], ROC_AUC - [ 0.63 ]\n",
      "max_depth - [ 20 ] F1_score - [ 0.26 ], ROC_AUC - [ 0.57 ]\n",
      "max_depth - [ 21 ] F1_score - [ 0.45 ], ROC_AUC - [ 0.65 ]\n",
      "max_depth - [ 22 ] F1_score - [ 0.45 ], ROC_AUC - [ 0.65 ]\n",
      "max_depth - [ 23 ] F1_score - [ 0.45 ], ROC_AUC - [ 0.65 ]\n",
      "max_depth - [ 24 ] F1_score - [ 0.45 ], ROC_AUC - [ 0.65 ]\n",
      "max_depth - [ 25 ] F1_score - [ 0.45 ], ROC_AUC - [ 0.65 ]\n",
      "max_depth - [ 26 ] F1_score - [ 0.45 ], ROC_AUC - [ 0.65 ]\n",
      "max_depth - [ 27 ] F1_score - [ 0.45 ], ROC_AUC - [ 0.65 ]\n",
      "max_depth - [ 28 ] F1_score - [ 0.45 ], ROC_AUC - [ 0.65 ]\n",
      "max_depth - [ 29 ] F1_score - [ 0.45 ], ROC_AUC - [ 0.65 ]\n",
      "max_depth - [ 30 ] F1_score - [ 0.45 ], ROC_AUC - [ 0.65 ]\n",
      "max_depth - [ 31 ] F1_score - [ 0.45 ], ROC_AUC - [ 0.65 ]\n",
      "max_depth - [ 32 ] F1_score - [ 0.45 ], ROC_AUC - [ 0.65 ]\n",
      "max_depth - [ 33 ] F1_score - [ 0.45 ], ROC_AUC - [ 0.65 ]\n",
      "max_depth - [ 34 ] F1_score - [ 0.45 ], ROC_AUC - [ 0.65 ]\n",
      "max_depth - [ 35 ] F1_score - [ 0.45 ], ROC_AUC - [ 0.65 ]\n",
      "max_depth - [ 36 ] F1_score - [ 0.45 ], ROC_AUC - [ 0.65 ]\n",
      "max_depth - [ 37 ] F1_score - [ 0.45 ], ROC_AUC - [ 0.65 ]\n",
      "max_depth - [ 38 ] F1_score - [ 0.45 ], ROC_AUC - [ 0.65 ]\n",
      "max_depth - [ 39 ] F1_score - [ 0.45 ], ROC_AUC - [ 0.65 ]\n",
      "max_depth - [ 40 ] F1_score - [ 0.45 ], ROC_AUC - [ 0.65 ]\n",
      "max_depth - [ 41 ] F1_score - [ 0.45 ], ROC_AUC - [ 0.65 ]\n",
      "max_depth - [ 42 ] F1_score - [ 0.45 ], ROC_AUC - [ 0.65 ]\n",
      "max_depth - [ 43 ] F1_score - [ 0.45 ], ROC_AUC - [ 0.65 ]\n",
      "max_depth - [ 44 ] F1_score - [ 0.45 ], ROC_AUC - [ 0.65 ]\n",
      "max_depth - [ 45 ] F1_score - [ 0.45 ], ROC_AUC - [ 0.65 ]\n",
      "max_depth - [ 46 ] F1_score - [ 0.45 ], ROC_AUC - [ 0.65 ]\n",
      "max_depth - [ 47 ] F1_score - [ 0.45 ], ROC_AUC - [ 0.65 ]\n",
      "max_depth - [ 48 ] F1_score - [ 0.45 ], ROC_AUC - [ 0.65 ]\n",
      "max_depth - [ 49 ] F1_score - [ 0.45 ], ROC_AUC - [ 0.65 ]\n"
     ]
    }
   ],
   "source": [
    "for depth in range(1, 50, 1):\n",
    "    model_tree = DecisionTreeClassifier(max_depth = depth, random_state=1234).fit(features_balance_down, target_balance_down)\n",
    "    prediction = model_tree.predict(features_valid)\n",
    "    prediction_proba = model_tree.predict_proba(features_valid)\n",
    "    roc_auc = round(roc_auc_score(target_valid, prediction_proba[:,1]), 2)\n",
    "    print('max_depth - [', depth, '] F1_score - [', round(f1_score(target_valid, prediction),2), '], ROC_AUC - [', roc_auc, ']')"
   ]
  },
  {
   "cell_type": "markdown",
   "metadata": {},
   "source": [
    "<div class=\"alert alert-info\">\n",
    "ROC_AUC: 0.66 при max_depth - 7\n",
    "<br>\n",
    "F1_score: 0.25\n",
    "</div>"
   ]
  },
  {
   "cell_type": "code",
   "execution_count": 29,
   "metadata": {
    "scrolled": true
   },
   "outputs": [
    {
     "name": "stdout",
     "output_type": "stream",
     "text": [
      "max_depth - [ 1 ] F1_score - [ 0.51 ], ROC_AUC - [ 0.71 ]\n",
      "max_depth - [ 2 ] F1_score - [ 0.53 ], ROC_AUC - [ 0.76 ]\n",
      "max_depth - [ 3 ] F1_score - [ 0.55 ], ROC_AUC - [ 0.79 ]\n",
      "max_depth - [ 4 ] F1_score - [ 0.55 ], ROC_AUC - [ 0.82 ]\n",
      "max_depth - [ 5 ] F1_score - [ 0.57 ], ROC_AUC - [ 0.84 ]\n",
      "max_depth - [ 6 ] F1_score - [ 0.56 ], ROC_AUC - [ 0.83 ]\n",
      "max_depth - [ 7 ] F1_score - [ 0.54 ], ROC_AUC - [ 0.81 ]\n",
      "max_depth - [ 8 ] F1_score - [ 0.56 ], ROC_AUC - [ 0.79 ]\n",
      "max_depth - [ 9 ] F1_score - [ 0.51 ], ROC_AUC - [ 0.76 ]\n",
      "max_depth - [ 10 ] F1_score - [ 0.51 ], ROC_AUC - [ 0.73 ]\n",
      "max_depth - [ 11 ] F1_score - [ 0.52 ], ROC_AUC - [ 0.72 ]\n",
      "max_depth - [ 12 ] F1_score - [ 0.5 ], ROC_AUC - [ 0.69 ]\n",
      "max_depth - [ 13 ] F1_score - [ 0.49 ], ROC_AUC - [ 0.68 ]\n",
      "max_depth - [ 14 ] F1_score - [ 0.47 ], ROC_AUC - [ 0.67 ]\n",
      "max_depth - [ 15 ] F1_score - [ 0.48 ], ROC_AUC - [ 0.67 ]\n",
      "max_depth - [ 16 ] F1_score - [ 0.46 ], ROC_AUC - [ 0.66 ]\n",
      "max_depth - [ 17 ] F1_score - [ 0.46 ], ROC_AUC - [ 0.66 ]\n",
      "max_depth - [ 18 ] F1_score - [ 0.45 ], ROC_AUC - [ 0.66 ]\n",
      "max_depth - [ 19 ] F1_score - [ 0.45 ], ROC_AUC - [ 0.65 ]\n",
      "max_depth - [ 20 ] F1_score - [ 0.46 ], ROC_AUC - [ 0.66 ]\n",
      "max_depth - [ 21 ] F1_score - [ 0.47 ], ROC_AUC - [ 0.66 ]\n",
      "max_depth - [ 22 ] F1_score - [ 0.46 ], ROC_AUC - [ 0.66 ]\n",
      "max_depth - [ 23 ] F1_score - [ 0.47 ], ROC_AUC - [ 0.66 ]\n",
      "max_depth - [ 24 ] F1_score - [ 0.47 ], ROC_AUC - [ 0.67 ]\n",
      "max_depth - [ 25 ] F1_score - [ 0.47 ], ROC_AUC - [ 0.67 ]\n",
      "max_depth - [ 26 ] F1_score - [ 0.47 ], ROC_AUC - [ 0.67 ]\n",
      "max_depth - [ 27 ] F1_score - [ 0.47 ], ROC_AUC - [ 0.67 ]\n",
      "max_depth - [ 28 ] F1_score - [ 0.47 ], ROC_AUC - [ 0.67 ]\n",
      "max_depth - [ 29 ] F1_score - [ 0.47 ], ROC_AUC - [ 0.67 ]\n",
      "max_depth - [ 30 ] F1_score - [ 0.47 ], ROC_AUC - [ 0.67 ]\n",
      "max_depth - [ 31 ] F1_score - [ 0.47 ], ROC_AUC - [ 0.67 ]\n",
      "max_depth - [ 32 ] F1_score - [ 0.47 ], ROC_AUC - [ 0.67 ]\n",
      "max_depth - [ 33 ] F1_score - [ 0.47 ], ROC_AUC - [ 0.67 ]\n",
      "max_depth - [ 34 ] F1_score - [ 0.47 ], ROC_AUC - [ 0.67 ]\n",
      "max_depth - [ 35 ] F1_score - [ 0.47 ], ROC_AUC - [ 0.67 ]\n",
      "max_depth - [ 36 ] F1_score - [ 0.47 ], ROC_AUC - [ 0.67 ]\n",
      "max_depth - [ 37 ] F1_score - [ 0.47 ], ROC_AUC - [ 0.67 ]\n",
      "max_depth - [ 38 ] F1_score - [ 0.47 ], ROC_AUC - [ 0.67 ]\n",
      "max_depth - [ 39 ] F1_score - [ 0.47 ], ROC_AUC - [ 0.67 ]\n",
      "max_depth - [ 40 ] F1_score - [ 0.47 ], ROC_AUC - [ 0.67 ]\n",
      "max_depth - [ 41 ] F1_score - [ 0.47 ], ROC_AUC - [ 0.67 ]\n",
      "max_depth - [ 42 ] F1_score - [ 0.47 ], ROC_AUC - [ 0.67 ]\n",
      "max_depth - [ 43 ] F1_score - [ 0.47 ], ROC_AUC - [ 0.67 ]\n",
      "max_depth - [ 44 ] F1_score - [ 0.47 ], ROC_AUC - [ 0.67 ]\n",
      "max_depth - [ 45 ] F1_score - [ 0.47 ], ROC_AUC - [ 0.67 ]\n",
      "max_depth - [ 46 ] F1_score - [ 0.47 ], ROC_AUC - [ 0.67 ]\n",
      "max_depth - [ 47 ] F1_score - [ 0.47 ], ROC_AUC - [ 0.67 ]\n",
      "max_depth - [ 48 ] F1_score - [ 0.47 ], ROC_AUC - [ 0.67 ]\n",
      "max_depth - [ 49 ] F1_score - [ 0.47 ], ROC_AUC - [ 0.67 ]\n"
     ]
    }
   ],
   "source": [
    "for depth in range(1, 50, 1):\n",
    "    model_tree = DecisionTreeClassifier(max_depth = depth, random_state=1234).fit(features_balance_up, target_balance_up)\n",
    "    prediction = model_tree.predict(features_valid)\n",
    "    prediction_proba = model_tree.predict_proba(features_valid)\n",
    "    roc_auc = round(roc_auc_score(target_valid, prediction_proba[:,1]), 2)\n",
    "    print('max_depth - [', depth, '] F1_score - [', round(f1_score(target_valid, prediction),2), '], ROC_AUC - [', roc_auc, ']')"
   ]
  },
  {
   "cell_type": "markdown",
   "metadata": {},
   "source": [
    "<div class=\"alert alert-info\">\n",
    "ROC_AUC: 0.84 при max_depth - 5\n",
    "<br>\n",
    "F1_score: 0.57\n",
    "</div>"
   ]
  },
  {
   "cell_type": "markdown",
   "metadata": {},
   "source": [
    "<div class=\"alert alert-info\">\n",
    "<b>v.2</b> убрал class_weight='balanced'. будем использовать только апсемплинг для балансировки классов и производить оценку качества модели с помощью F-1 меры\n",
    "</div>"
   ]
  },
  {
   "cell_type": "markdown",
   "metadata": {},
   "source": [
    "<div class=\"alert alert-info\">\n",
    "<b>Случайный лес</b>\n",
    "</div>"
   ]
  },
  {
   "cell_type": "code",
   "execution_count": 41,
   "metadata": {
    "scrolled": true
   },
   "outputs": [
    {
     "name": "stdout",
     "output_type": "stream",
     "text": [
      "n_estimators - [ 1 ] max_depth - [ 1 ] F1_score - [ 0.26 ] ROC_AUC - [ 0.57 ]\n",
      "n_estimators - [ 1 ] max_depth - [ 2 ] F1_score - [ 0.45 ] ROC_AUC - [ 0.67 ]\n",
      "n_estimators - [ 1 ] max_depth - [ 3 ] F1_score - [ 0.45 ] ROC_AUC - [ 0.67 ]\n",
      "n_estimators - [ 1 ] max_depth - [ 4 ] F1_score - [ 0.3 ] ROC_AUC - [ 0.33 ]\n",
      "n_estimators - [ 1 ] max_depth - [ 5 ] F1_score - [ 0.31 ] ROC_AUC - [ 0.35 ]\n",
      "n_estimators - [ 1 ] max_depth - [ 6 ] F1_score - [ 0.34 ] ROC_AUC - [ 0.43 ]\n",
      "n_estimators - [ 1 ] max_depth - [ 7 ] F1_score - [ 0.27 ] ROC_AUC - [ 0.41 ]\n",
      "n_estimators - [ 1 ] max_depth - [ 8 ] F1_score - [ 0.25 ] ROC_AUC - [ 0.39 ]\n",
      "n_estimators - [ 1 ] max_depth - [ 9 ] F1_score - [ 0.25 ] ROC_AUC - [ 0.39 ]\n",
      "n_estimators - [ 1 ] max_depth - [ 10 ] F1_score - [ 0.27 ] ROC_AUC - [ 0.42 ]\n",
      "n_estimators - [ 1 ] max_depth - [ 11 ] F1_score - [ 0.34 ] ROC_AUC - [ 0.5 ]\n",
      "n_estimators - [ 1 ] max_depth - [ 12 ] F1_score - [ 0.32 ] ROC_AUC - [ 0.47 ]\n",
      "n_estimators - [ 1 ] max_depth - [ 13 ] F1_score - [ 0.32 ] ROC_AUC - [ 0.45 ]\n",
      "n_estimators - [ 2 ] max_depth - [ 1 ] F1_score - [ 0.36 ] ROC_AUC - [ 0.6 ]\n",
      "n_estimators - [ 2 ] max_depth - [ 2 ] F1_score - [ 0.26 ] ROC_AUC - [ 0.69 ]\n",
      "n_estimators - [ 2 ] max_depth - [ 3 ] F1_score - [ 0.45 ] ROC_AUC - [ 0.67 ]\n",
      "n_estimators - [ 2 ] max_depth - [ 4 ] F1_score - [ 0.21 ] ROC_AUC - [ 0.34 ]\n",
      "n_estimators - [ 2 ] max_depth - [ 5 ] F1_score - [ 0.23 ] ROC_AUC - [ 0.36 ]\n",
      "n_estimators - [ 2 ] max_depth - [ 6 ] F1_score - [ 0.27 ] ROC_AUC - [ 0.43 ]\n",
      "n_estimators - [ 2 ] max_depth - [ 7 ] F1_score - [ 0.26 ] ROC_AUC - [ 0.41 ]\n",
      "n_estimators - [ 2 ] max_depth - [ 8 ] F1_score - [ 0.12 ] ROC_AUC - [ 0.38 ]\n",
      "n_estimators - [ 2 ] max_depth - [ 9 ] F1_score - [ 0.11 ] ROC_AUC - [ 0.38 ]\n",
      "n_estimators - [ 2 ] max_depth - [ 10 ] F1_score - [ 0.17 ] ROC_AUC - [ 0.41 ]\n",
      "n_estimators - [ 2 ] max_depth - [ 11 ] F1_score - [ 0.16 ] ROC_AUC - [ 0.48 ]\n",
      "n_estimators - [ 2 ] max_depth - [ 12 ] F1_score - [ 0.17 ] ROC_AUC - [ 0.47 ]\n",
      "n_estimators - [ 2 ] max_depth - [ 13 ] F1_score - [ 0.12 ] ROC_AUC - [ 0.43 ]\n",
      "n_estimators - [ 3 ] max_depth - [ 1 ] F1_score - [ 0.26 ] ROC_AUC - [ 0.6 ]\n",
      "n_estimators - [ 3 ] max_depth - [ 2 ] F1_score - [ 0.05 ] ROC_AUC - [ 0.71 ]\n",
      "n_estimators - [ 3 ] max_depth - [ 3 ] F1_score - [ 0.42 ] ROC_AUC - [ 0.7 ]\n",
      "n_estimators - [ 3 ] max_depth - [ 4 ] F1_score - [ 0.24 ] ROC_AUC - [ 0.33 ]\n",
      "n_estimators - [ 3 ] max_depth - [ 5 ] F1_score - [ 0.0 ] ROC_AUC - [ 0.34 ]\n",
      "n_estimators - [ 3 ] max_depth - [ 6 ] F1_score - [ 0.34 ] ROC_AUC - [ 0.43 ]\n",
      "n_estimators - [ 3 ] max_depth - [ 7 ] F1_score - [ 0.24 ] ROC_AUC - [ 0.4 ]\n",
      "n_estimators - [ 3 ] max_depth - [ 8 ] F1_score - [ 0.25 ] ROC_AUC - [ 0.38 ]\n",
      "n_estimators - [ 3 ] max_depth - [ 9 ] F1_score - [ 0.23 ] ROC_AUC - [ 0.38 ]\n",
      "n_estimators - [ 3 ] max_depth - [ 10 ] F1_score - [ 0.27 ] ROC_AUC - [ 0.48 ]\n",
      "n_estimators - [ 3 ] max_depth - [ 11 ] F1_score - [ 0.33 ] ROC_AUC - [ 0.47 ]\n",
      "n_estimators - [ 3 ] max_depth - [ 12 ] F1_score - [ 0.36 ] ROC_AUC - [ 0.55 ]\n",
      "n_estimators - [ 3 ] max_depth - [ 13 ] F1_score - [ 0.32 ] ROC_AUC - [ 0.51 ]\n",
      "n_estimators - [ 4 ] max_depth - [ 1 ] F1_score - [ 0.26 ] ROC_AUC - [ 0.67 ]\n",
      "n_estimators - [ 4 ] max_depth - [ 2 ] F1_score - [ 0.05 ] ROC_AUC - [ 0.71 ]\n",
      "n_estimators - [ 4 ] max_depth - [ 3 ] F1_score - [ 0.17 ] ROC_AUC - [ 0.71 ]\n",
      "n_estimators - [ 4 ] max_depth - [ 4 ] F1_score - [ 0.2 ] ROC_AUC - [ 0.35 ]\n",
      "n_estimators - [ 4 ] max_depth - [ 5 ] F1_score - [ 0.14 ] ROC_AUC - [ 0.34 ]\n",
      "n_estimators - [ 4 ] max_depth - [ 6 ] F1_score - [ 0.34 ] ROC_AUC - [ 0.42 ]\n",
      "n_estimators - [ 4 ] max_depth - [ 7 ] F1_score - [ 0.32 ] ROC_AUC - [ 0.5 ]\n",
      "n_estimators - [ 4 ] max_depth - [ 8 ] F1_score - [ 0.3 ] ROC_AUC - [ 0.37 ]\n",
      "n_estimators - [ 4 ] max_depth - [ 9 ] F1_score - [ 0.2 ] ROC_AUC - [ 0.43 ]\n",
      "n_estimators - [ 4 ] max_depth - [ 10 ] F1_score - [ 0.24 ] ROC_AUC - [ 0.46 ]\n",
      "n_estimators - [ 4 ] max_depth - [ 11 ] F1_score - [ 0.28 ] ROC_AUC - [ 0.45 ]\n",
      "n_estimators - [ 4 ] max_depth - [ 12 ] F1_score - [ 0.24 ] ROC_AUC - [ 0.57 ]\n",
      "n_estimators - [ 4 ] max_depth - [ 13 ] F1_score - [ 0.24 ] ROC_AUC - [ 0.52 ]\n",
      "n_estimators - [ 5 ] max_depth - [ 1 ] F1_score - [ 0.41 ] ROC_AUC - [ 0.67 ]\n",
      "n_estimators - [ 5 ] max_depth - [ 2 ] F1_score - [ 0.0 ] ROC_AUC - [ 0.7 ]\n",
      "n_estimators - [ 5 ] max_depth - [ 3 ] F1_score - [ 0.32 ] ROC_AUC - [ 0.7 ]\n",
      "n_estimators - [ 5 ] max_depth - [ 4 ] F1_score - [ 0.27 ] ROC_AUC - [ 0.39 ]\n",
      "n_estimators - [ 5 ] max_depth - [ 5 ] F1_score - [ 0.14 ] ROC_AUC - [ 0.36 ]\n",
      "n_estimators - [ 5 ] max_depth - [ 6 ] F1_score - [ 0.34 ] ROC_AUC - [ 0.45 ]\n",
      "n_estimators - [ 5 ] max_depth - [ 7 ] F1_score - [ 0.23 ] ROC_AUC - [ 0.49 ]\n",
      "n_estimators - [ 5 ] max_depth - [ 8 ] F1_score - [ 0.33 ] ROC_AUC - [ 0.39 ]\n",
      "n_estimators - [ 5 ] max_depth - [ 9 ] F1_score - [ 0.27 ] ROC_AUC - [ 0.42 ]\n",
      "n_estimators - [ 5 ] max_depth - [ 10 ] F1_score - [ 0.23 ] ROC_AUC - [ 0.42 ]\n",
      "n_estimators - [ 5 ] max_depth - [ 11 ] F1_score - [ 0.31 ] ROC_AUC - [ 0.45 ]\n",
      "n_estimators - [ 5 ] max_depth - [ 12 ] F1_score - [ 0.36 ] ROC_AUC - [ 0.57 ]\n",
      "n_estimators - [ 5 ] max_depth - [ 13 ] F1_score - [ 0.29 ] ROC_AUC - [ 0.45 ]\n",
      "n_estimators - [ 6 ] max_depth - [ 1 ] F1_score - [ 0.41 ] ROC_AUC - [ 0.64 ]\n",
      "n_estimators - [ 6 ] max_depth - [ 2 ] F1_score - [ 0.24 ] ROC_AUC - [ 0.72 ]\n",
      "n_estimators - [ 6 ] max_depth - [ 3 ] F1_score - [ 0.4 ] ROC_AUC - [ 0.7 ]\n",
      "n_estimators - [ 6 ] max_depth - [ 4 ] F1_score - [ 0.25 ] ROC_AUC - [ 0.41 ]\n",
      "n_estimators - [ 6 ] max_depth - [ 5 ] F1_score - [ 0.14 ] ROC_AUC - [ 0.34 ]\n",
      "n_estimators - [ 6 ] max_depth - [ 6 ] F1_score - [ 0.34 ] ROC_AUC - [ 0.5 ]\n",
      "n_estimators - [ 6 ] max_depth - [ 7 ] F1_score - [ 0.26 ] ROC_AUC - [ 0.51 ]\n",
      "n_estimators - [ 6 ] max_depth - [ 8 ] F1_score - [ 0.34 ] ROC_AUC - [ 0.45 ]\n",
      "n_estimators - [ 6 ] max_depth - [ 9 ] F1_score - [ 0.27 ] ROC_AUC - [ 0.47 ]\n",
      "n_estimators - [ 6 ] max_depth - [ 10 ] F1_score - [ 0.26 ] ROC_AUC - [ 0.43 ]\n",
      "n_estimators - [ 6 ] max_depth - [ 11 ] F1_score - [ 0.32 ] ROC_AUC - [ 0.5 ]\n",
      "n_estimators - [ 6 ] max_depth - [ 12 ] F1_score - [ 0.32 ] ROC_AUC - [ 0.61 ]\n",
      "n_estimators - [ 6 ] max_depth - [ 13 ] F1_score - [ 0.26 ] ROC_AUC - [ 0.52 ]\n",
      "n_estimators - [ 7 ] max_depth - [ 1 ] F1_score - [ 0.41 ] ROC_AUC - [ 0.64 ]\n",
      "n_estimators - [ 7 ] max_depth - [ 2 ] F1_score - [ 0.22 ] ROC_AUC - [ 0.72 ]\n",
      "n_estimators - [ 7 ] max_depth - [ 3 ] F1_score - [ 0.42 ] ROC_AUC - [ 0.71 ]\n",
      "n_estimators - [ 7 ] max_depth - [ 4 ] F1_score - [ 0.25 ] ROC_AUC - [ 0.44 ]\n",
      "n_estimators - [ 7 ] max_depth - [ 5 ] F1_score - [ 0.19 ] ROC_AUC - [ 0.34 ]\n",
      "n_estimators - [ 7 ] max_depth - [ 6 ] F1_score - [ 0.33 ] ROC_AUC - [ 0.52 ]\n",
      "n_estimators - [ 7 ] max_depth - [ 7 ] F1_score - [ 0.32 ] ROC_AUC - [ 0.53 ]\n",
      "n_estimators - [ 7 ] max_depth - [ 8 ] F1_score - [ 0.34 ] ROC_AUC - [ 0.48 ]\n",
      "n_estimators - [ 7 ] max_depth - [ 9 ] F1_score - [ 0.33 ] ROC_AUC - [ 0.52 ]\n",
      "n_estimators - [ 7 ] max_depth - [ 10 ] F1_score - [ 0.3 ] ROC_AUC - [ 0.46 ]\n",
      "n_estimators - [ 7 ] max_depth - [ 11 ] F1_score - [ 0.33 ] ROC_AUC - [ 0.55 ]\n",
      "n_estimators - [ 7 ] max_depth - [ 12 ] F1_score - [ 0.4 ] ROC_AUC - [ 0.65 ]\n",
      "n_estimators - [ 7 ] max_depth - [ 13 ] F1_score - [ 0.37 ] ROC_AUC - [ 0.53 ]\n",
      "n_estimators - [ 8 ] max_depth - [ 1 ] F1_score - [ 0.38 ] ROC_AUC - [ 0.64 ]\n",
      "n_estimators - [ 8 ] max_depth - [ 2 ] F1_score - [ 0.44 ] ROC_AUC - [ 0.7 ]\n",
      "n_estimators - [ 8 ] max_depth - [ 3 ] F1_score - [ 0.46 ] ROC_AUC - [ 0.71 ]\n",
      "n_estimators - [ 8 ] max_depth - [ 4 ] F1_score - [ 0.32 ] ROC_AUC - [ 0.54 ]\n",
      "n_estimators - [ 8 ] max_depth - [ 5 ] F1_score - [ 0.19 ] ROC_AUC - [ 0.35 ]\n",
      "n_estimators - [ 8 ] max_depth - [ 6 ] F1_score - [ 0.35 ] ROC_AUC - [ 0.63 ]\n",
      "n_estimators - [ 8 ] max_depth - [ 7 ] F1_score - [ 0.37 ] ROC_AUC - [ 0.58 ]\n",
      "n_estimators - [ 8 ] max_depth - [ 8 ] F1_score - [ 0.34 ] ROC_AUC - [ 0.5 ]\n",
      "n_estimators - [ 8 ] max_depth - [ 9 ] F1_score - [ 0.31 ] ROC_AUC - [ 0.51 ]\n",
      "n_estimators - [ 8 ] max_depth - [ 10 ] F1_score - [ 0.31 ] ROC_AUC - [ 0.51 ]\n",
      "n_estimators - [ 8 ] max_depth - [ 11 ] F1_score - [ 0.32 ] ROC_AUC - [ 0.57 ]\n",
      "n_estimators - [ 8 ] max_depth - [ 12 ] F1_score - [ 0.32 ] ROC_AUC - [ 0.66 ]\n",
      "n_estimators - [ 8 ] max_depth - [ 13 ] F1_score - [ 0.31 ] ROC_AUC - [ 0.53 ]\n",
      "n_estimators - [ 9 ] max_depth - [ 1 ] F1_score - [ 0.41 ] ROC_AUC - [ 0.67 ]\n",
      "n_estimators - [ 9 ] max_depth - [ 2 ] F1_score - [ 0.25 ] ROC_AUC - [ 0.71 ]\n",
      "n_estimators - [ 9 ] max_depth - [ 3 ] F1_score - [ 0.46 ] ROC_AUC - [ 0.71 ]\n",
      "n_estimators - [ 9 ] max_depth - [ 4 ] F1_score - [ 0.34 ] ROC_AUC - [ 0.56 ]\n",
      "n_estimators - [ 9 ] max_depth - [ 5 ] F1_score - [ 0.22 ] ROC_AUC - [ 0.37 ]\n",
      "n_estimators - [ 9 ] max_depth - [ 6 ] F1_score - [ 0.35 ] ROC_AUC - [ 0.64 ]\n",
      "n_estimators - [ 9 ] max_depth - [ 7 ] F1_score - [ 0.33 ] ROC_AUC - [ 0.59 ]\n",
      "n_estimators - [ 9 ] max_depth - [ 8 ] F1_score - [ 0.34 ] ROC_AUC - [ 0.49 ]\n",
      "n_estimators - [ 9 ] max_depth - [ 9 ] F1_score - [ 0.35 ] ROC_AUC - [ 0.54 ]\n",
      "n_estimators - [ 9 ] max_depth - [ 10 ] F1_score - [ 0.34 ] ROC_AUC - [ 0.56 ]\n",
      "n_estimators - [ 9 ] max_depth - [ 11 ] F1_score - [ 0.34 ] ROC_AUC - [ 0.59 ]\n",
      "n_estimators - [ 9 ] max_depth - [ 12 ] F1_score - [ 0.33 ] ROC_AUC - [ 0.66 ]\n",
      "n_estimators - [ 9 ] max_depth - [ 13 ] F1_score - [ 0.36 ] ROC_AUC - [ 0.52 ]\n",
      "n_estimators - [ 10 ] max_depth - [ 1 ] F1_score - [ 0.41 ] ROC_AUC - [ 0.7 ]\n",
      "n_estimators - [ 10 ] max_depth - [ 2 ] F1_score - [ 0.44 ] ROC_AUC - [ 0.72 ]\n",
      "n_estimators - [ 10 ] max_depth - [ 3 ] F1_score - [ 0.46 ] ROC_AUC - [ 0.71 ]\n",
      "n_estimators - [ 10 ] max_depth - [ 4 ] F1_score - [ 0.33 ] ROC_AUC - [ 0.58 ]\n",
      "n_estimators - [ 10 ] max_depth - [ 5 ] F1_score - [ 0.19 ] ROC_AUC - [ 0.38 ]\n",
      "n_estimators - [ 10 ] max_depth - [ 6 ] F1_score - [ 0.35 ] ROC_AUC - [ 0.56 ]\n",
      "n_estimators - [ 10 ] max_depth - [ 7 ] F1_score - [ 0.37 ] ROC_AUC - [ 0.6 ]\n",
      "n_estimators - [ 10 ] max_depth - [ 8 ] F1_score - [ 0.34 ] ROC_AUC - [ 0.52 ]\n",
      "n_estimators - [ 10 ] max_depth - [ 9 ] F1_score - [ 0.25 ] ROC_AUC - [ 0.55 ]\n",
      "n_estimators - [ 10 ] max_depth - [ 10 ] F1_score - [ 0.3 ] ROC_AUC - [ 0.55 ]\n",
      "n_estimators - [ 10 ] max_depth - [ 11 ] F1_score - [ 0.33 ] ROC_AUC - [ 0.58 ]\n",
      "n_estimators - [ 10 ] max_depth - [ 12 ] F1_score - [ 0.34 ] ROC_AUC - [ 0.65 ]\n",
      "n_estimators - [ 10 ] max_depth - [ 13 ] F1_score - [ 0.34 ] ROC_AUC - [ 0.56 ]\n",
      "n_estimators - [ 11 ] max_depth - [ 1 ] F1_score - [ 0.41 ] ROC_AUC - [ 0.69 ]\n",
      "n_estimators - [ 11 ] max_depth - [ 2 ] F1_score - [ 0.44 ] ROC_AUC - [ 0.71 ]\n",
      "n_estimators - [ 11 ] max_depth - [ 3 ] F1_score - [ 0.46 ] ROC_AUC - [ 0.71 ]\n",
      "n_estimators - [ 11 ] max_depth - [ 4 ] F1_score - [ 0.39 ] ROC_AUC - [ 0.6 ]\n",
      "n_estimators - [ 11 ] max_depth - [ 5 ] F1_score - [ 0.31 ] ROC_AUC - [ 0.42 ]\n",
      "n_estimators - [ 11 ] max_depth - [ 6 ] F1_score - [ 0.35 ] ROC_AUC - [ 0.61 ]\n",
      "n_estimators - [ 11 ] max_depth - [ 7 ] F1_score - [ 0.33 ] ROC_AUC - [ 0.6 ]\n",
      "n_estimators - [ 11 ] max_depth - [ 8 ] F1_score - [ 0.35 ] ROC_AUC - [ 0.53 ]\n",
      "n_estimators - [ 11 ] max_depth - [ 9 ] F1_score - [ 0.22 ] ROC_AUC - [ 0.49 ]\n",
      "n_estimators - [ 11 ] max_depth - [ 10 ] F1_score - [ 0.33 ] ROC_AUC - [ 0.55 ]\n",
      "n_estimators - [ 11 ] max_depth - [ 11 ] F1_score - [ 0.35 ] ROC_AUC - [ 0.6 ]\n",
      "n_estimators - [ 11 ] max_depth - [ 12 ] F1_score - [ 0.35 ] ROC_AUC - [ 0.65 ]\n",
      "n_estimators - [ 11 ] max_depth - [ 13 ] F1_score - [ 0.37 ] ROC_AUC - [ 0.59 ]\n",
      "n_estimators - [ 12 ] max_depth - [ 1 ] F1_score - [ 0.41 ] ROC_AUC - [ 0.69 ]\n",
      "n_estimators - [ 12 ] max_depth - [ 2 ] F1_score - [ 0.46 ] ROC_AUC - [ 0.72 ]\n",
      "n_estimators - [ 12 ] max_depth - [ 3 ] F1_score - [ 0.46 ] ROC_AUC - [ 0.72 ]\n",
      "n_estimators - [ 12 ] max_depth - [ 4 ] F1_score - [ 0.39 ] ROC_AUC - [ 0.62 ]\n",
      "n_estimators - [ 12 ] max_depth - [ 5 ] F1_score - [ 0.3 ] ROC_AUC - [ 0.44 ]\n",
      "n_estimators - [ 12 ] max_depth - [ 6 ] F1_score - [ 0.37 ] ROC_AUC - [ 0.62 ]\n",
      "n_estimators - [ 12 ] max_depth - [ 7 ] F1_score - [ 0.34 ] ROC_AUC - [ 0.54 ]\n",
      "n_estimators - [ 12 ] max_depth - [ 8 ] F1_score - [ 0.32 ] ROC_AUC - [ 0.52 ]\n",
      "n_estimators - [ 12 ] max_depth - [ 9 ] F1_score - [ 0.22 ] ROC_AUC - [ 0.51 ]\n",
      "n_estimators - [ 12 ] max_depth - [ 10 ] F1_score - [ 0.22 ] ROC_AUC - [ 0.55 ]\n",
      "n_estimators - [ 12 ] max_depth - [ 11 ] F1_score - [ 0.34 ] ROC_AUC - [ 0.61 ]\n",
      "n_estimators - [ 12 ] max_depth - [ 12 ] F1_score - [ 0.27 ] ROC_AUC - [ 0.64 ]\n",
      "n_estimators - [ 12 ] max_depth - [ 13 ] F1_score - [ 0.37 ] ROC_AUC - [ 0.62 ]\n",
      "n_estimators - [ 13 ] max_depth - [ 1 ] F1_score - [ 0.41 ] ROC_AUC - [ 0.7 ]\n",
      "n_estimators - [ 13 ] max_depth - [ 2 ] F1_score - [ 0.46 ] ROC_AUC - [ 0.72 ]\n",
      "n_estimators - [ 13 ] max_depth - [ 3 ] F1_score - [ 0.46 ] ROC_AUC - [ 0.72 ]\n",
      "n_estimators - [ 13 ] max_depth - [ 4 ] F1_score - [ 0.43 ] ROC_AUC - [ 0.66 ]\n",
      "n_estimators - [ 13 ] max_depth - [ 5 ] F1_score - [ 0.33 ] ROC_AUC - [ 0.5 ]\n",
      "n_estimators - [ 13 ] max_depth - [ 6 ] F1_score - [ 0.36 ] ROC_AUC - [ 0.61 ]\n",
      "n_estimators - [ 13 ] max_depth - [ 7 ] F1_score - [ 0.34 ] ROC_AUC - [ 0.56 ]\n",
      "n_estimators - [ 13 ] max_depth - [ 8 ] F1_score - [ 0.34 ] ROC_AUC - [ 0.5 ]\n",
      "n_estimators - [ 13 ] max_depth - [ 9 ] F1_score - [ 0.25 ] ROC_AUC - [ 0.49 ]\n",
      "n_estimators - [ 13 ] max_depth - [ 10 ] F1_score - [ 0.3 ] ROC_AUC - [ 0.53 ]\n",
      "n_estimators - [ 13 ] max_depth - [ 11 ] F1_score - [ 0.38 ] ROC_AUC - [ 0.63 ]\n",
      "n_estimators - [ 13 ] max_depth - [ 12 ] F1_score - [ 0.37 ] ROC_AUC - [ 0.66 ]\n",
      "n_estimators - [ 13 ] max_depth - [ 13 ] F1_score - [ 0.36 ] ROC_AUC - [ 0.59 ]\n",
      "n_estimators - [ 14 ] max_depth - [ 1 ] F1_score - [ 0.41 ] ROC_AUC - [ 0.7 ]\n",
      "n_estimators - [ 14 ] max_depth - [ 2 ] F1_score - [ 0.46 ] ROC_AUC - [ 0.72 ]\n",
      "n_estimators - [ 14 ] max_depth - [ 3 ] F1_score - [ 0.46 ] ROC_AUC - [ 0.72 ]\n",
      "n_estimators - [ 14 ] max_depth - [ 4 ] F1_score - [ 0.32 ] ROC_AUC - [ 0.58 ]\n",
      "n_estimators - [ 14 ] max_depth - [ 5 ] F1_score - [ 0.31 ] ROC_AUC - [ 0.43 ]\n",
      "n_estimators - [ 14 ] max_depth - [ 6 ] F1_score - [ 0.3 ] ROC_AUC - [ 0.55 ]\n",
      "n_estimators - [ 14 ] max_depth - [ 7 ] F1_score - [ 0.32 ] ROC_AUC - [ 0.54 ]\n",
      "n_estimators - [ 14 ] max_depth - [ 8 ] F1_score - [ 0.26 ] ROC_AUC - [ 0.45 ]\n",
      "n_estimators - [ 14 ] max_depth - [ 9 ] F1_score - [ 0.25 ] ROC_AUC - [ 0.45 ]\n",
      "n_estimators - [ 14 ] max_depth - [ 10 ] F1_score - [ 0.29 ] ROC_AUC - [ 0.53 ]\n",
      "n_estimators - [ 14 ] max_depth - [ 11 ] F1_score - [ 0.34 ] ROC_AUC - [ 0.6 ]\n",
      "n_estimators - [ 14 ] max_depth - [ 12 ] F1_score - [ 0.38 ] ROC_AUC - [ 0.65 ]\n",
      "n_estimators - [ 14 ] max_depth - [ 13 ] F1_score - [ 0.34 ] ROC_AUC - [ 0.58 ]\n",
      "n_estimators - [ 15 ] max_depth - [ 1 ] F1_score - [ 0.41 ] ROC_AUC - [ 0.7 ]\n",
      "n_estimators - [ 15 ] max_depth - [ 2 ] F1_score - [ 0.46 ] ROC_AUC - [ 0.72 ]\n",
      "n_estimators - [ 15 ] max_depth - [ 3 ] F1_score - [ 0.46 ] ROC_AUC - [ 0.72 ]\n",
      "n_estimators - [ 15 ] max_depth - [ 4 ] F1_score - [ 0.32 ] ROC_AUC - [ 0.58 ]\n",
      "n_estimators - [ 15 ] max_depth - [ 5 ] F1_score - [ 0.31 ] ROC_AUC - [ 0.45 ]\n",
      "n_estimators - [ 15 ] max_depth - [ 6 ] F1_score - [ 0.3 ] ROC_AUC - [ 0.55 ]\n",
      "n_estimators - [ 15 ] max_depth - [ 7 ] F1_score - [ 0.34 ] ROC_AUC - [ 0.55 ]\n",
      "n_estimators - [ 15 ] max_depth - [ 8 ] F1_score - [ 0.25 ] ROC_AUC - [ 0.43 ]\n",
      "n_estimators - [ 15 ] max_depth - [ 9 ] F1_score - [ 0.28 ] ROC_AUC - [ 0.46 ]\n",
      "n_estimators - [ 15 ] max_depth - [ 10 ] F1_score - [ 0.3 ] ROC_AUC - [ 0.53 ]\n",
      "n_estimators - [ 15 ] max_depth - [ 11 ] F1_score - [ 0.37 ] ROC_AUC - [ 0.59 ]\n",
      "n_estimators - [ 15 ] max_depth - [ 12 ] F1_score - [ 0.38 ] ROC_AUC - [ 0.65 ]\n",
      "n_estimators - [ 15 ] max_depth - [ 13 ] F1_score - [ 0.35 ] ROC_AUC - [ 0.61 ]\n",
      "n_estimators - [ 16 ] max_depth - [ 1 ] F1_score - [ 0.46 ] ROC_AUC - [ 0.7 ]\n",
      "n_estimators - [ 16 ] max_depth - [ 2 ] F1_score - [ 0.45 ] ROC_AUC - [ 0.73 ]\n",
      "n_estimators - [ 16 ] max_depth - [ 3 ] F1_score - [ 0.46 ] ROC_AUC - [ 0.71 ]\n",
      "n_estimators - [ 16 ] max_depth - [ 4 ] F1_score - [ 0.28 ] ROC_AUC - [ 0.54 ]\n",
      "n_estimators - [ 16 ] max_depth - [ 5 ] F1_score - [ 0.27 ] ROC_AUC - [ 0.41 ]\n",
      "n_estimators - [ 16 ] max_depth - [ 6 ] F1_score - [ 0.3 ] ROC_AUC - [ 0.52 ]\n",
      "n_estimators - [ 16 ] max_depth - [ 7 ] F1_score - [ 0.33 ] ROC_AUC - [ 0.5 ]\n",
      "n_estimators - [ 16 ] max_depth - [ 8 ] F1_score - [ 0.32 ] ROC_AUC - [ 0.42 ]\n",
      "n_estimators - [ 16 ] max_depth - [ 9 ] F1_score - [ 0.27 ] ROC_AUC - [ 0.47 ]\n",
      "n_estimators - [ 16 ] max_depth - [ 10 ] F1_score - [ 0.33 ] ROC_AUC - [ 0.53 ]\n",
      "n_estimators - [ 16 ] max_depth - [ 11 ] F1_score - [ 0.34 ] ROC_AUC - [ 0.58 ]\n",
      "n_estimators - [ 16 ] max_depth - [ 12 ] F1_score - [ 0.38 ] ROC_AUC - [ 0.65 ]\n",
      "n_estimators - [ 16 ] max_depth - [ 13 ] F1_score - [ 0.36 ] ROC_AUC - [ 0.59 ]\n",
      "n_estimators - [ 17 ] max_depth - [ 1 ] F1_score - [ 0.41 ] ROC_AUC - [ 0.7 ]\n",
      "n_estimators - [ 17 ] max_depth - [ 2 ] F1_score - [ 0.44 ] ROC_AUC - [ 0.72 ]\n",
      "n_estimators - [ 17 ] max_depth - [ 3 ] F1_score - [ 0.46 ] ROC_AUC - [ 0.72 ]\n",
      "n_estimators - [ 17 ] max_depth - [ 4 ] F1_score - [ 0.32 ] ROC_AUC - [ 0.55 ]\n",
      "n_estimators - [ 17 ] max_depth - [ 5 ] F1_score - [ 0.29 ] ROC_AUC - [ 0.43 ]\n",
      "n_estimators - [ 17 ] max_depth - [ 6 ] F1_score - [ 0.27 ] ROC_AUC - [ 0.51 ]\n",
      "n_estimators - [ 17 ] max_depth - [ 7 ] F1_score - [ 0.28 ] ROC_AUC - [ 0.5 ]\n",
      "n_estimators - [ 17 ] max_depth - [ 8 ] F1_score - [ 0.32 ] ROC_AUC - [ 0.46 ]\n",
      "n_estimators - [ 17 ] max_depth - [ 9 ] F1_score - [ 0.27 ] ROC_AUC - [ 0.48 ]\n",
      "n_estimators - [ 17 ] max_depth - [ 10 ] F1_score - [ 0.35 ] ROC_AUC - [ 0.55 ]\n",
      "n_estimators - [ 17 ] max_depth - [ 11 ] F1_score - [ 0.34 ] ROC_AUC - [ 0.57 ]\n",
      "n_estimators - [ 17 ] max_depth - [ 12 ] F1_score - [ 0.41 ] ROC_AUC - [ 0.65 ]\n",
      "n_estimators - [ 17 ] max_depth - [ 13 ] F1_score - [ 0.35 ] ROC_AUC - [ 0.59 ]\n",
      "n_estimators - [ 18 ] max_depth - [ 1 ] F1_score - [ 0.41 ] ROC_AUC - [ 0.69 ]\n",
      "n_estimators - [ 18 ] max_depth - [ 2 ] F1_score - [ 0.46 ] ROC_AUC - [ 0.72 ]\n",
      "n_estimators - [ 18 ] max_depth - [ 3 ] F1_score - [ 0.46 ] ROC_AUC - [ 0.72 ]\n",
      "n_estimators - [ 18 ] max_depth - [ 4 ] F1_score - [ 0.31 ] ROC_AUC - [ 0.57 ]\n",
      "n_estimators - [ 18 ] max_depth - [ 5 ] F1_score - [ 0.28 ] ROC_AUC - [ 0.44 ]\n",
      "n_estimators - [ 18 ] max_depth - [ 6 ] F1_score - [ 0.27 ] ROC_AUC - [ 0.51 ]\n",
      "n_estimators - [ 18 ] max_depth - [ 7 ] F1_score - [ 0.34 ] ROC_AUC - [ 0.52 ]\n",
      "n_estimators - [ 18 ] max_depth - [ 8 ] F1_score - [ 0.29 ] ROC_AUC - [ 0.47 ]\n",
      "n_estimators - [ 18 ] max_depth - [ 9 ] F1_score - [ 0.28 ] ROC_AUC - [ 0.48 ]\n",
      "n_estimators - [ 18 ] max_depth - [ 10 ] F1_score - [ 0.34 ] ROC_AUC - [ 0.53 ]\n",
      "n_estimators - [ 18 ] max_depth - [ 11 ] F1_score - [ 0.32 ] ROC_AUC - [ 0.55 ]\n",
      "n_estimators - [ 18 ] max_depth - [ 12 ] F1_score - [ 0.38 ] ROC_AUC - [ 0.65 ]\n",
      "n_estimators - [ 18 ] max_depth - [ 13 ] F1_score - [ 0.33 ] ROC_AUC - [ 0.57 ]\n",
      "n_estimators - [ 19 ] max_depth - [ 1 ] F1_score - [ 0.44 ] ROC_AUC - [ 0.69 ]\n",
      "n_estimators - [ 19 ] max_depth - [ 2 ] F1_score - [ 0.24 ] ROC_AUC - [ 0.72 ]\n",
      "n_estimators - [ 19 ] max_depth - [ 3 ] F1_score - [ 0.45 ] ROC_AUC - [ 0.72 ]\n",
      "n_estimators - [ 19 ] max_depth - [ 4 ] F1_score - [ 0.32 ] ROC_AUC - [ 0.57 ]\n",
      "n_estimators - [ 19 ] max_depth - [ 5 ] F1_score - [ 0.32 ] ROC_AUC - [ 0.44 ]\n",
      "n_estimators - [ 19 ] max_depth - [ 6 ] F1_score - [ 0.31 ] ROC_AUC - [ 0.51 ]\n",
      "n_estimators - [ 19 ] max_depth - [ 7 ] F1_score - [ 0.32 ] ROC_AUC - [ 0.52 ]\n",
      "n_estimators - [ 19 ] max_depth - [ 8 ] F1_score - [ 0.32 ] ROC_AUC - [ 0.47 ]\n",
      "n_estimators - [ 19 ] max_depth - [ 9 ] F1_score - [ 0.31 ] ROC_AUC - [ 0.48 ]\n",
      "n_estimators - [ 19 ] max_depth - [ 10 ] F1_score - [ 0.34 ] ROC_AUC - [ 0.53 ]\n",
      "n_estimators - [ 19 ] max_depth - [ 11 ] F1_score - [ 0.33 ] ROC_AUC - [ 0.55 ]\n",
      "n_estimators - [ 19 ] max_depth - [ 12 ] F1_score - [ 0.43 ] ROC_AUC - [ 0.65 ]\n",
      "n_estimators - [ 19 ] max_depth - [ 13 ] F1_score - [ 0.34 ] ROC_AUC - [ 0.57 ]\n",
      "n_estimators - [ 20 ] max_depth - [ 1 ] F1_score - [ 0.4 ] ROC_AUC - [ 0.69 ]\n",
      "n_estimators - [ 20 ] max_depth - [ 2 ] F1_score - [ 0.46 ] ROC_AUC - [ 0.72 ]\n",
      "n_estimators - [ 20 ] max_depth - [ 3 ] F1_score - [ 0.41 ] ROC_AUC - [ 0.72 ]\n",
      "n_estimators - [ 20 ] max_depth - [ 4 ] F1_score - [ 0.32 ] ROC_AUC - [ 0.57 ]\n",
      "n_estimators - [ 20 ] max_depth - [ 5 ] F1_score - [ 0.34 ] ROC_AUC - [ 0.47 ]\n",
      "n_estimators - [ 20 ] max_depth - [ 6 ] F1_score - [ 0.31 ] ROC_AUC - [ 0.51 ]\n",
      "n_estimators - [ 20 ] max_depth - [ 7 ] F1_score - [ 0.32 ] ROC_AUC - [ 0.53 ]\n",
      "n_estimators - [ 20 ] max_depth - [ 8 ] F1_score - [ 0.34 ] ROC_AUC - [ 0.47 ]\n",
      "n_estimators - [ 20 ] max_depth - [ 9 ] F1_score - [ 0.31 ] ROC_AUC - [ 0.5 ]\n",
      "n_estimators - [ 20 ] max_depth - [ 10 ] F1_score - [ 0.34 ] ROC_AUC - [ 0.53 ]\n",
      "n_estimators - [ 20 ] max_depth - [ 11 ] F1_score - [ 0.34 ] ROC_AUC - [ 0.56 ]\n",
      "n_estimators - [ 20 ] max_depth - [ 12 ] F1_score - [ 0.41 ] ROC_AUC - [ 0.65 ]\n",
      "n_estimators - [ 20 ] max_depth - [ 13 ] F1_score - [ 0.34 ] ROC_AUC - [ 0.56 ]\n",
      "n_estimators - [ 21 ] max_depth - [ 1 ] F1_score - [ 0.44 ] ROC_AUC - [ 0.69 ]\n",
      "n_estimators - [ 21 ] max_depth - [ 2 ] F1_score - [ 0.46 ] ROC_AUC - [ 0.72 ]\n",
      "n_estimators - [ 21 ] max_depth - [ 3 ] F1_score - [ 0.42 ] ROC_AUC - [ 0.72 ]\n",
      "n_estimators - [ 21 ] max_depth - [ 4 ] F1_score - [ 0.35 ] ROC_AUC - [ 0.55 ]\n",
      "n_estimators - [ 21 ] max_depth - [ 5 ] F1_score - [ 0.32 ] ROC_AUC - [ 0.48 ]\n",
      "n_estimators - [ 21 ] max_depth - [ 6 ] F1_score - [ 0.3 ] ROC_AUC - [ 0.52 ]\n",
      "n_estimators - [ 21 ] max_depth - [ 7 ] F1_score - [ 0.33 ] ROC_AUC - [ 0.55 ]\n",
      "n_estimators - [ 21 ] max_depth - [ 8 ] F1_score - [ 0.33 ] ROC_AUC - [ 0.47 ]\n",
      "n_estimators - [ 21 ] max_depth - [ 9 ] F1_score - [ 0.33 ] ROC_AUC - [ 0.53 ]\n",
      "n_estimators - [ 21 ] max_depth - [ 10 ] F1_score - [ 0.34 ] ROC_AUC - [ 0.55 ]\n",
      "n_estimators - [ 21 ] max_depth - [ 11 ] F1_score - [ 0.33 ] ROC_AUC - [ 0.58 ]\n",
      "n_estimators - [ 21 ] max_depth - [ 12 ] F1_score - [ 0.39 ] ROC_AUC - [ 0.65 ]\n",
      "n_estimators - [ 21 ] max_depth - [ 13 ] F1_score - [ 0.34 ] ROC_AUC - [ 0.56 ]\n",
      "n_estimators - [ 22 ] max_depth - [ 1 ] F1_score - [ 0.44 ] ROC_AUC - [ 0.7 ]\n",
      "n_estimators - [ 22 ] max_depth - [ 2 ] F1_score - [ 0.45 ] ROC_AUC - [ 0.72 ]\n",
      "n_estimators - [ 22 ] max_depth - [ 3 ] F1_score - [ 0.45 ] ROC_AUC - [ 0.72 ]\n",
      "n_estimators - [ 22 ] max_depth - [ 4 ] F1_score - [ 0.35 ] ROC_AUC - [ 0.57 ]\n",
      "n_estimators - [ 22 ] max_depth - [ 5 ] F1_score - [ 0.32 ] ROC_AUC - [ 0.51 ]\n",
      "n_estimators - [ 22 ] max_depth - [ 6 ] F1_score - [ 0.31 ] ROC_AUC - [ 0.55 ]\n",
      "n_estimators - [ 22 ] max_depth - [ 7 ] F1_score - [ 0.34 ] ROC_AUC - [ 0.55 ]\n",
      "n_estimators - [ 22 ] max_depth - [ 8 ] F1_score - [ 0.33 ] ROC_AUC - [ 0.47 ]\n",
      "n_estimators - [ 22 ] max_depth - [ 9 ] F1_score - [ 0.33 ] ROC_AUC - [ 0.53 ]\n",
      "n_estimators - [ 22 ] max_depth - [ 10 ] F1_score - [ 0.34 ] ROC_AUC - [ 0.57 ]\n",
      "n_estimators - [ 22 ] max_depth - [ 11 ] F1_score - [ 0.34 ] ROC_AUC - [ 0.62 ]\n",
      "n_estimators - [ 22 ] max_depth - [ 12 ] F1_score - [ 0.39 ] ROC_AUC - [ 0.66 ]\n",
      "n_estimators - [ 22 ] max_depth - [ 13 ] F1_score - [ 0.34 ] ROC_AUC - [ 0.6 ]\n",
      "\n",
      "Лучший результат F1_score - [ 0.46 ]\n",
      "Лучший показатель ROC_AUC - [ 0.73 ]\n"
     ]
    }
   ],
   "source": [
    "best_f1 = 0\n",
    "best_roc_auc = 0\n",
    "for est in range(1, 23, 1):\n",
    "    for depth in range(1, 14):\n",
    "        model_forest = RandomForestClassifier(random_state=12345, n_estimators=est, max_depth=depth)\n",
    "        model_forest.fit(features_balance_down, target_balance_down)\n",
    "        prediction = model_forest.predict(features_valid)\n",
    "        f1 = round(f1_score(target_valid, prediction), 2)\n",
    "        prediction_proba = model_forest.predict_proba(features_valid)\n",
    "        roc_auc = round(roc_auc_score(target_valid, prediction_proba[:,1]), 2)\n",
    "        print('n_estimators - [', est, '] max_depth - [', depth, '] F1_score - [', f1, '] ROC_AUC - [', roc_auc, ']')\n",
    "        if f1 > best_f1:\n",
    "            best_f1 = f1\n",
    "        if roc_auc > best_roc_auc:\n",
    "            best_roc_auc = roc_auc\n",
    "print()\n",
    "print(\"Лучший результат F1_score - [\", best_f1, ']')\n",
    "print(\"Лучший показатель ROC_AUC - [\", best_roc_auc, ']')"
   ]
  },
  {
   "cell_type": "markdown",
   "metadata": {},
   "source": [
    "<div class=\"alert alert-info\">\n",
    "ROC_AUC: 0.73 при max_depth - 2 и n_estimators - 120\n",
    "<br>\n",
    "F1_score: 0.46\n",
    "</div>"
   ]
  },
  {
   "cell_type": "code",
   "execution_count": 42,
   "metadata": {
    "scrolled": true
   },
   "outputs": [
    {
     "name": "stdout",
     "output_type": "stream",
     "text": [
      "n_estimators - [ 1 ] max_depth - [ 1 ] F1_score - [ 0.38 ] ROC_AUC - [ 0.6 ]\n",
      "n_estimators - [ 1 ] max_depth - [ 2 ] F1_score - [ 0.42 ] ROC_AUC - [ 0.7 ]\n",
      "n_estimators - [ 1 ] max_depth - [ 3 ] F1_score - [ 0.53 ] ROC_AUC - [ 0.77 ]\n",
      "n_estimators - [ 1 ] max_depth - [ 4 ] F1_score - [ 0.55 ] ROC_AUC - [ 0.82 ]\n",
      "n_estimators - [ 1 ] max_depth - [ 5 ] F1_score - [ 0.57 ] ROC_AUC - [ 0.83 ]\n",
      "n_estimators - [ 1 ] max_depth - [ 6 ] F1_score - [ 0.52 ] ROC_AUC - [ 0.79 ]\n",
      "n_estimators - [ 1 ] max_depth - [ 7 ] F1_score - [ 0.58 ] ROC_AUC - [ 0.81 ]\n",
      "n_estimators - [ 1 ] max_depth - [ 8 ] F1_score - [ 0.56 ] ROC_AUC - [ 0.77 ]\n",
      "n_estimators - [ 1 ] max_depth - [ 9 ] F1_score - [ 0.58 ] ROC_AUC - [ 0.79 ]\n",
      "n_estimators - [ 1 ] max_depth - [ 10 ] F1_score - [ 0.54 ] ROC_AUC - [ 0.77 ]\n",
      "n_estimators - [ 1 ] max_depth - [ 11 ] F1_score - [ 0.5 ] ROC_AUC - [ 0.71 ]\n",
      "n_estimators - [ 1 ] max_depth - [ 12 ] F1_score - [ 0.53 ] ROC_AUC - [ 0.7 ]\n",
      "n_estimators - [ 1 ] max_depth - [ 13 ] F1_score - [ 0.5 ] ROC_AUC - [ 0.7 ]\n",
      "n_estimators - [ 2 ] max_depth - [ 1 ] F1_score - [ 0.38 ] ROC_AUC - [ 0.61 ]\n",
      "n_estimators - [ 2 ] max_depth - [ 2 ] F1_score - [ 0.51 ] ROC_AUC - [ 0.75 ]\n",
      "n_estimators - [ 2 ] max_depth - [ 3 ] F1_score - [ 0.55 ] ROC_AUC - [ 0.78 ]\n",
      "n_estimators - [ 2 ] max_depth - [ 4 ] F1_score - [ 0.57 ] ROC_AUC - [ 0.83 ]\n",
      "n_estimators - [ 2 ] max_depth - [ 5 ] F1_score - [ 0.58 ] ROC_AUC - [ 0.84 ]\n",
      "n_estimators - [ 2 ] max_depth - [ 6 ] F1_score - [ 0.54 ] ROC_AUC - [ 0.8 ]\n",
      "n_estimators - [ 2 ] max_depth - [ 7 ] F1_score - [ 0.58 ] ROC_AUC - [ 0.84 ]\n",
      "n_estimators - [ 2 ] max_depth - [ 8 ] F1_score - [ 0.56 ] ROC_AUC - [ 0.82 ]\n",
      "n_estimators - [ 2 ] max_depth - [ 9 ] F1_score - [ 0.57 ] ROC_AUC - [ 0.83 ]\n",
      "n_estimators - [ 2 ] max_depth - [ 10 ] F1_score - [ 0.55 ] ROC_AUC - [ 0.82 ]\n",
      "n_estimators - [ 2 ] max_depth - [ 11 ] F1_score - [ 0.52 ] ROC_AUC - [ 0.8 ]\n",
      "n_estimators - [ 2 ] max_depth - [ 12 ] F1_score - [ 0.5 ] ROC_AUC - [ 0.79 ]\n",
      "n_estimators - [ 2 ] max_depth - [ 13 ] F1_score - [ 0.5 ] ROC_AUC - [ 0.77 ]\n",
      "n_estimators - [ 3 ] max_depth - [ 1 ] F1_score - [ 0.51 ] ROC_AUC - [ 0.75 ]\n",
      "n_estimators - [ 3 ] max_depth - [ 2 ] F1_score - [ 0.53 ] ROC_AUC - [ 0.77 ]\n",
      "n_estimators - [ 3 ] max_depth - [ 3 ] F1_score - [ 0.54 ] ROC_AUC - [ 0.8 ]\n",
      "n_estimators - [ 3 ] max_depth - [ 4 ] F1_score - [ 0.58 ] ROC_AUC - [ 0.83 ]\n",
      "n_estimators - [ 3 ] max_depth - [ 5 ] F1_score - [ 0.58 ] ROC_AUC - [ 0.84 ]\n",
      "n_estimators - [ 3 ] max_depth - [ 6 ] F1_score - [ 0.56 ] ROC_AUC - [ 0.82 ]\n",
      "n_estimators - [ 3 ] max_depth - [ 7 ] F1_score - [ 0.6 ] ROC_AUC - [ 0.84 ]\n",
      "n_estimators - [ 3 ] max_depth - [ 8 ] F1_score - [ 0.58 ] ROC_AUC - [ 0.83 ]\n",
      "n_estimators - [ 3 ] max_depth - [ 9 ] F1_score - [ 0.59 ] ROC_AUC - [ 0.84 ]\n",
      "n_estimators - [ 3 ] max_depth - [ 10 ] F1_score - [ 0.59 ] ROC_AUC - [ 0.84 ]\n",
      "n_estimators - [ 3 ] max_depth - [ 11 ] F1_score - [ 0.57 ] ROC_AUC - [ 0.81 ]\n",
      "n_estimators - [ 3 ] max_depth - [ 12 ] F1_score - [ 0.58 ] ROC_AUC - [ 0.82 ]\n",
      "n_estimators - [ 3 ] max_depth - [ 13 ] F1_score - [ 0.57 ] ROC_AUC - [ 0.8 ]\n",
      "n_estimators - [ 4 ] max_depth - [ 1 ] F1_score - [ 0.49 ] ROC_AUC - [ 0.77 ]\n",
      "n_estimators - [ 4 ] max_depth - [ 2 ] F1_score - [ 0.52 ] ROC_AUC - [ 0.78 ]\n",
      "n_estimators - [ 4 ] max_depth - [ 3 ] F1_score - [ 0.54 ] ROC_AUC - [ 0.81 ]\n",
      "n_estimators - [ 4 ] max_depth - [ 4 ] F1_score - [ 0.59 ] ROC_AUC - [ 0.83 ]\n",
      "n_estimators - [ 4 ] max_depth - [ 5 ] F1_score - [ 0.58 ] ROC_AUC - [ 0.84 ]\n",
      "n_estimators - [ 4 ] max_depth - [ 6 ] F1_score - [ 0.56 ] ROC_AUC - [ 0.82 ]\n",
      "n_estimators - [ 4 ] max_depth - [ 7 ] F1_score - [ 0.6 ] ROC_AUC - [ 0.85 ]\n",
      "n_estimators - [ 4 ] max_depth - [ 8 ] F1_score - [ 0.58 ] ROC_AUC - [ 0.84 ]\n",
      "n_estimators - [ 4 ] max_depth - [ 9 ] F1_score - [ 0.61 ] ROC_AUC - [ 0.84 ]\n",
      "n_estimators - [ 4 ] max_depth - [ 10 ] F1_score - [ 0.58 ] ROC_AUC - [ 0.84 ]\n",
      "n_estimators - [ 4 ] max_depth - [ 11 ] F1_score - [ 0.56 ] ROC_AUC - [ 0.83 ]\n",
      "n_estimators - [ 4 ] max_depth - [ 12 ] F1_score - [ 0.57 ] ROC_AUC - [ 0.83 ]\n",
      "n_estimators - [ 4 ] max_depth - [ 13 ] F1_score - [ 0.57 ] ROC_AUC - [ 0.81 ]\n",
      "n_estimators - [ 5 ] max_depth - [ 1 ] F1_score - [ 0.47 ] ROC_AUC - [ 0.74 ]\n",
      "n_estimators - [ 5 ] max_depth - [ 2 ] F1_score - [ 0.52 ] ROC_AUC - [ 0.79 ]\n",
      "n_estimators - [ 5 ] max_depth - [ 3 ] F1_score - [ 0.54 ] ROC_AUC - [ 0.81 ]\n",
      "n_estimators - [ 5 ] max_depth - [ 4 ] F1_score - [ 0.61 ] ROC_AUC - [ 0.84 ]\n",
      "n_estimators - [ 5 ] max_depth - [ 5 ] F1_score - [ 0.59 ] ROC_AUC - [ 0.85 ]\n",
      "n_estimators - [ 5 ] max_depth - [ 6 ] F1_score - [ 0.57 ] ROC_AUC - [ 0.84 ]\n",
      "n_estimators - [ 5 ] max_depth - [ 7 ] F1_score - [ 0.61 ] ROC_AUC - [ 0.86 ]\n",
      "n_estimators - [ 5 ] max_depth - [ 8 ] F1_score - [ 0.59 ] ROC_AUC - [ 0.85 ]\n",
      "n_estimators - [ 5 ] max_depth - [ 9 ] F1_score - [ 0.61 ] ROC_AUC - [ 0.84 ]\n",
      "n_estimators - [ 5 ] max_depth - [ 10 ] F1_score - [ 0.6 ] ROC_AUC - [ 0.84 ]\n",
      "n_estimators - [ 5 ] max_depth - [ 11 ] F1_score - [ 0.59 ] ROC_AUC - [ 0.84 ]\n",
      "n_estimators - [ 5 ] max_depth - [ 12 ] F1_score - [ 0.61 ] ROC_AUC - [ 0.83 ]\n",
      "n_estimators - [ 5 ] max_depth - [ 13 ] F1_score - [ 0.59 ] ROC_AUC - [ 0.83 ]\n",
      "n_estimators - [ 6 ] max_depth - [ 1 ] F1_score - [ 0.43 ] ROC_AUC - [ 0.74 ]\n",
      "n_estimators - [ 6 ] max_depth - [ 2 ] F1_score - [ 0.53 ] ROC_AUC - [ 0.79 ]\n",
      "n_estimators - [ 6 ] max_depth - [ 3 ] F1_score - [ 0.54 ] ROC_AUC - [ 0.81 ]\n",
      "n_estimators - [ 6 ] max_depth - [ 4 ] F1_score - [ 0.6 ] ROC_AUC - [ 0.84 ]\n",
      "n_estimators - [ 6 ] max_depth - [ 5 ] F1_score - [ 0.59 ] ROC_AUC - [ 0.85 ]\n",
      "n_estimators - [ 6 ] max_depth - [ 6 ] F1_score - [ 0.59 ] ROC_AUC - [ 0.84 ]\n",
      "n_estimators - [ 6 ] max_depth - [ 7 ] F1_score - [ 0.6 ] ROC_AUC - [ 0.86 ]\n",
      "n_estimators - [ 6 ] max_depth - [ 8 ] F1_score - [ 0.58 ] ROC_AUC - [ 0.84 ]\n",
      "n_estimators - [ 6 ] max_depth - [ 9 ] F1_score - [ 0.61 ] ROC_AUC - [ 0.84 ]\n",
      "n_estimators - [ 6 ] max_depth - [ 10 ] F1_score - [ 0.58 ] ROC_AUC - [ 0.85 ]\n",
      "n_estimators - [ 6 ] max_depth - [ 11 ] F1_score - [ 0.6 ] ROC_AUC - [ 0.84 ]\n",
      "n_estimators - [ 6 ] max_depth - [ 12 ] F1_score - [ 0.59 ] ROC_AUC - [ 0.84 ]\n",
      "n_estimators - [ 6 ] max_depth - [ 13 ] F1_score - [ 0.59 ] ROC_AUC - [ 0.83 ]\n",
      "n_estimators - [ 7 ] max_depth - [ 1 ] F1_score - [ 0.47 ] ROC_AUC - [ 0.75 ]\n",
      "n_estimators - [ 7 ] max_depth - [ 2 ] F1_score - [ 0.55 ] ROC_AUC - [ 0.79 ]\n",
      "n_estimators - [ 7 ] max_depth - [ 3 ] F1_score - [ 0.57 ] ROC_AUC - [ 0.82 ]\n",
      "n_estimators - [ 7 ] max_depth - [ 4 ] F1_score - [ 0.6 ] ROC_AUC - [ 0.84 ]\n",
      "n_estimators - [ 7 ] max_depth - [ 5 ] F1_score - [ 0.59 ] ROC_AUC - [ 0.85 ]\n",
      "n_estimators - [ 7 ] max_depth - [ 6 ] F1_score - [ 0.59 ] ROC_AUC - [ 0.84 ]\n",
      "n_estimators - [ 7 ] max_depth - [ 7 ] F1_score - [ 0.61 ] ROC_AUC - [ 0.86 ]\n",
      "n_estimators - [ 7 ] max_depth - [ 8 ] F1_score - [ 0.59 ] ROC_AUC - [ 0.85 ]\n",
      "n_estimators - [ 7 ] max_depth - [ 9 ] F1_score - [ 0.62 ] ROC_AUC - [ 0.85 ]\n",
      "n_estimators - [ 7 ] max_depth - [ 10 ] F1_score - [ 0.6 ] ROC_AUC - [ 0.85 ]\n",
      "n_estimators - [ 7 ] max_depth - [ 11 ] F1_score - [ 0.6 ] ROC_AUC - [ 0.84 ]\n",
      "n_estimators - [ 7 ] max_depth - [ 12 ] F1_score - [ 0.58 ] ROC_AUC - [ 0.84 ]\n",
      "n_estimators - [ 7 ] max_depth - [ 13 ] F1_score - [ 0.6 ] ROC_AUC - [ 0.84 ]\n",
      "n_estimators - [ 8 ] max_depth - [ 1 ] F1_score - [ 0.48 ] ROC_AUC - [ 0.73 ]\n",
      "n_estimators - [ 8 ] max_depth - [ 2 ] F1_score - [ 0.49 ] ROC_AUC - [ 0.79 ]\n",
      "n_estimators - [ 8 ] max_depth - [ 3 ] F1_score - [ 0.57 ] ROC_AUC - [ 0.83 ]\n",
      "n_estimators - [ 8 ] max_depth - [ 4 ] F1_score - [ 0.61 ] ROC_AUC - [ 0.84 ]\n",
      "n_estimators - [ 8 ] max_depth - [ 5 ] F1_score - [ 0.6 ] ROC_AUC - [ 0.85 ]\n",
      "n_estimators - [ 8 ] max_depth - [ 6 ] F1_score - [ 0.59 ] ROC_AUC - [ 0.85 ]\n",
      "n_estimators - [ 8 ] max_depth - [ 7 ] F1_score - [ 0.61 ] ROC_AUC - [ 0.86 ]\n",
      "n_estimators - [ 8 ] max_depth - [ 8 ] F1_score - [ 0.59 ] ROC_AUC - [ 0.85 ]\n",
      "n_estimators - [ 8 ] max_depth - [ 9 ] F1_score - [ 0.62 ] ROC_AUC - [ 0.85 ]\n",
      "n_estimators - [ 8 ] max_depth - [ 10 ] F1_score - [ 0.6 ] ROC_AUC - [ 0.85 ]\n",
      "n_estimators - [ 8 ] max_depth - [ 11 ] F1_score - [ 0.61 ] ROC_AUC - [ 0.85 ]\n",
      "n_estimators - [ 8 ] max_depth - [ 12 ] F1_score - [ 0.6 ] ROC_AUC - [ 0.85 ]\n",
      "n_estimators - [ 8 ] max_depth - [ 13 ] F1_score - [ 0.6 ] ROC_AUC - [ 0.84 ]\n",
      "n_estimators - [ 9 ] max_depth - [ 1 ] F1_score - [ 0.51 ] ROC_AUC - [ 0.77 ]\n",
      "n_estimators - [ 9 ] max_depth - [ 2 ] F1_score - [ 0.55 ] ROC_AUC - [ 0.81 ]\n",
      "n_estimators - [ 9 ] max_depth - [ 3 ] F1_score - [ 0.58 ] ROC_AUC - [ 0.83 ]\n",
      "n_estimators - [ 9 ] max_depth - [ 4 ] F1_score - [ 0.61 ] ROC_AUC - [ 0.85 ]\n",
      "n_estimators - [ 9 ] max_depth - [ 5 ] F1_score - [ 0.61 ] ROC_AUC - [ 0.85 ]\n",
      "n_estimators - [ 9 ] max_depth - [ 6 ] F1_score - [ 0.59 ] ROC_AUC - [ 0.85 ]\n",
      "n_estimators - [ 9 ] max_depth - [ 7 ] F1_score - [ 0.6 ] ROC_AUC - [ 0.86 ]\n",
      "n_estimators - [ 9 ] max_depth - [ 8 ] F1_score - [ 0.59 ] ROC_AUC - [ 0.85 ]\n",
      "n_estimators - [ 9 ] max_depth - [ 9 ] F1_score - [ 0.62 ] ROC_AUC - [ 0.86 ]\n",
      "n_estimators - [ 9 ] max_depth - [ 10 ] F1_score - [ 0.61 ] ROC_AUC - [ 0.85 ]\n",
      "n_estimators - [ 9 ] max_depth - [ 11 ] F1_score - [ 0.61 ] ROC_AUC - [ 0.85 ]\n",
      "n_estimators - [ 9 ] max_depth - [ 12 ] F1_score - [ 0.6 ] ROC_AUC - [ 0.85 ]\n",
      "n_estimators - [ 9 ] max_depth - [ 13 ] F1_score - [ 0.6 ] ROC_AUC - [ 0.84 ]\n",
      "n_estimators - [ 10 ] max_depth - [ 1 ] F1_score - [ 0.5 ] ROC_AUC - [ 0.79 ]\n",
      "n_estimators - [ 10 ] max_depth - [ 2 ] F1_score - [ 0.55 ] ROC_AUC - [ 0.81 ]\n",
      "n_estimators - [ 10 ] max_depth - [ 3 ] F1_score - [ 0.58 ] ROC_AUC - [ 0.83 ]\n",
      "n_estimators - [ 10 ] max_depth - [ 4 ] F1_score - [ 0.61 ] ROC_AUC - [ 0.85 ]\n",
      "n_estimators - [ 10 ] max_depth - [ 5 ] F1_score - [ 0.61 ] ROC_AUC - [ 0.85 ]\n",
      "n_estimators - [ 10 ] max_depth - [ 6 ] F1_score - [ 0.59 ] ROC_AUC - [ 0.85 ]\n",
      "n_estimators - [ 10 ] max_depth - [ 7 ] F1_score - [ 0.61 ] ROC_AUC - [ 0.86 ]\n",
      "n_estimators - [ 10 ] max_depth - [ 8 ] F1_score - [ 0.6 ] ROC_AUC - [ 0.85 ]\n",
      "n_estimators - [ 10 ] max_depth - [ 9 ] F1_score - [ 0.62 ] ROC_AUC - [ 0.86 ]\n",
      "n_estimators - [ 10 ] max_depth - [ 10 ] F1_score - [ 0.61 ] ROC_AUC - [ 0.85 ]\n",
      "n_estimators - [ 10 ] max_depth - [ 11 ] F1_score - [ 0.63 ] ROC_AUC - [ 0.85 ]\n",
      "n_estimators - [ 10 ] max_depth - [ 12 ] F1_score - [ 0.6 ] ROC_AUC - [ 0.85 ]\n",
      "n_estimators - [ 10 ] max_depth - [ 13 ] F1_score - [ 0.59 ] ROC_AUC - [ 0.84 ]\n",
      "n_estimators - [ 11 ] max_depth - [ 1 ] F1_score - [ 0.49 ] ROC_AUC - [ 0.78 ]\n",
      "n_estimators - [ 11 ] max_depth - [ 2 ] F1_score - [ 0.55 ] ROC_AUC - [ 0.81 ]\n",
      "n_estimators - [ 11 ] max_depth - [ 3 ] F1_score - [ 0.58 ] ROC_AUC - [ 0.84 ]\n",
      "n_estimators - [ 11 ] max_depth - [ 4 ] F1_score - [ 0.6 ] ROC_AUC - [ 0.85 ]\n",
      "n_estimators - [ 11 ] max_depth - [ 5 ] F1_score - [ 0.6 ] ROC_AUC - [ 0.86 ]\n",
      "n_estimators - [ 11 ] max_depth - [ 6 ] F1_score - [ 0.59 ] ROC_AUC - [ 0.85 ]\n",
      "n_estimators - [ 11 ] max_depth - [ 7 ] F1_score - [ 0.61 ] ROC_AUC - [ 0.86 ]\n",
      "n_estimators - [ 11 ] max_depth - [ 8 ] F1_score - [ 0.61 ] ROC_AUC - [ 0.86 ]\n",
      "n_estimators - [ 11 ] max_depth - [ 9 ] F1_score - [ 0.62 ] ROC_AUC - [ 0.86 ]\n",
      "n_estimators - [ 11 ] max_depth - [ 10 ] F1_score - [ 0.61 ] ROC_AUC - [ 0.86 ]\n",
      "n_estimators - [ 11 ] max_depth - [ 11 ] F1_score - [ 0.62 ] ROC_AUC - [ 0.85 ]\n",
      "n_estimators - [ 11 ] max_depth - [ 12 ] F1_score - [ 0.61 ] ROC_AUC - [ 0.85 ]\n",
      "n_estimators - [ 11 ] max_depth - [ 13 ] F1_score - [ 0.61 ] ROC_AUC - [ 0.84 ]\n",
      "n_estimators - [ 12 ] max_depth - [ 1 ] F1_score - [ 0.49 ] ROC_AUC - [ 0.78 ]\n",
      "n_estimators - [ 12 ] max_depth - [ 2 ] F1_score - [ 0.55 ] ROC_AUC - [ 0.82 ]\n",
      "n_estimators - [ 12 ] max_depth - [ 3 ] F1_score - [ 0.57 ] ROC_AUC - [ 0.84 ]\n",
      "n_estimators - [ 12 ] max_depth - [ 4 ] F1_score - [ 0.61 ] ROC_AUC - [ 0.85 ]\n",
      "n_estimators - [ 12 ] max_depth - [ 5 ] F1_score - [ 0.6 ] ROC_AUC - [ 0.86 ]\n",
      "n_estimators - [ 12 ] max_depth - [ 6 ] F1_score - [ 0.61 ] ROC_AUC - [ 0.85 ]\n",
      "n_estimators - [ 12 ] max_depth - [ 7 ] F1_score - [ 0.61 ] ROC_AUC - [ 0.86 ]\n",
      "n_estimators - [ 12 ] max_depth - [ 8 ] F1_score - [ 0.61 ] ROC_AUC - [ 0.86 ]\n",
      "n_estimators - [ 12 ] max_depth - [ 9 ] F1_score - [ 0.62 ] ROC_AUC - [ 0.86 ]\n",
      "n_estimators - [ 12 ] max_depth - [ 10 ] F1_score - [ 0.61 ] ROC_AUC - [ 0.86 ]\n",
      "n_estimators - [ 12 ] max_depth - [ 11 ] F1_score - [ 0.62 ] ROC_AUC - [ 0.86 ]\n",
      "n_estimators - [ 12 ] max_depth - [ 12 ] F1_score - [ 0.62 ] ROC_AUC - [ 0.86 ]\n",
      "n_estimators - [ 12 ] max_depth - [ 13 ] F1_score - [ 0.61 ] ROC_AUC - [ 0.85 ]\n",
      "n_estimators - [ 13 ] max_depth - [ 1 ] F1_score - [ 0.5 ] ROC_AUC - [ 0.8 ]\n",
      "n_estimators - [ 13 ] max_depth - [ 2 ] F1_score - [ 0.57 ] ROC_AUC - [ 0.83 ]\n",
      "n_estimators - [ 13 ] max_depth - [ 3 ] F1_score - [ 0.57 ] ROC_AUC - [ 0.84 ]\n",
      "n_estimators - [ 13 ] max_depth - [ 4 ] F1_score - [ 0.6 ] ROC_AUC - [ 0.85 ]\n",
      "n_estimators - [ 13 ] max_depth - [ 5 ] F1_score - [ 0.6 ] ROC_AUC - [ 0.86 ]\n",
      "n_estimators - [ 13 ] max_depth - [ 6 ] F1_score - [ 0.6 ] ROC_AUC - [ 0.85 ]\n",
      "n_estimators - [ 13 ] max_depth - [ 7 ] F1_score - [ 0.61 ] ROC_AUC - [ 0.86 ]\n",
      "n_estimators - [ 13 ] max_depth - [ 8 ] F1_score - [ 0.6 ] ROC_AUC - [ 0.86 ]\n",
      "n_estimators - [ 13 ] max_depth - [ 9 ] F1_score - [ 0.63 ] ROC_AUC - [ 0.86 ]\n",
      "n_estimators - [ 13 ] max_depth - [ 10 ] F1_score - [ 0.6 ] ROC_AUC - [ 0.86 ]\n",
      "n_estimators - [ 13 ] max_depth - [ 11 ] F1_score - [ 0.61 ] ROC_AUC - [ 0.86 ]\n",
      "n_estimators - [ 13 ] max_depth - [ 12 ] F1_score - [ 0.6 ] ROC_AUC - [ 0.86 ]\n",
      "n_estimators - [ 13 ] max_depth - [ 13 ] F1_score - [ 0.62 ] ROC_AUC - [ 0.85 ]\n",
      "n_estimators - [ 14 ] max_depth - [ 1 ] F1_score - [ 0.5 ] ROC_AUC - [ 0.82 ]\n",
      "n_estimators - [ 14 ] max_depth - [ 2 ] F1_score - [ 0.56 ] ROC_AUC - [ 0.83 ]\n",
      "n_estimators - [ 14 ] max_depth - [ 3 ] F1_score - [ 0.57 ] ROC_AUC - [ 0.84 ]\n",
      "n_estimators - [ 14 ] max_depth - [ 4 ] F1_score - [ 0.6 ] ROC_AUC - [ 0.85 ]\n",
      "n_estimators - [ 14 ] max_depth - [ 5 ] F1_score - [ 0.6 ] ROC_AUC - [ 0.86 ]\n",
      "n_estimators - [ 14 ] max_depth - [ 6 ] F1_score - [ 0.6 ] ROC_AUC - [ 0.86 ]\n",
      "n_estimators - [ 14 ] max_depth - [ 7 ] F1_score - [ 0.61 ] ROC_AUC - [ 0.86 ]\n",
      "n_estimators - [ 14 ] max_depth - [ 8 ] F1_score - [ 0.61 ] ROC_AUC - [ 0.86 ]\n",
      "n_estimators - [ 14 ] max_depth - [ 9 ] F1_score - [ 0.62 ] ROC_AUC - [ 0.86 ]\n",
      "n_estimators - [ 14 ] max_depth - [ 10 ] F1_score - [ 0.6 ] ROC_AUC - [ 0.86 ]\n",
      "n_estimators - [ 14 ] max_depth - [ 11 ] F1_score - [ 0.62 ] ROC_AUC - [ 0.86 ]\n",
      "n_estimators - [ 14 ] max_depth - [ 12 ] F1_score - [ 0.61 ] ROC_AUC - [ 0.86 ]\n",
      "n_estimators - [ 14 ] max_depth - [ 13 ] F1_score - [ 0.61 ] ROC_AUC - [ 0.85 ]\n",
      "n_estimators - [ 15 ] max_depth - [ 1 ] F1_score - [ 0.5 ] ROC_AUC - [ 0.82 ]\n",
      "n_estimators - [ 15 ] max_depth - [ 2 ] F1_score - [ 0.56 ] ROC_AUC - [ 0.83 ]\n",
      "n_estimators - [ 15 ] max_depth - [ 3 ] F1_score - [ 0.57 ] ROC_AUC - [ 0.84 ]\n",
      "n_estimators - [ 15 ] max_depth - [ 4 ] F1_score - [ 0.6 ] ROC_AUC - [ 0.85 ]\n",
      "n_estimators - [ 15 ] max_depth - [ 5 ] F1_score - [ 0.59 ] ROC_AUC - [ 0.86 ]\n",
      "n_estimators - [ 15 ] max_depth - [ 6 ] F1_score - [ 0.6 ] ROC_AUC - [ 0.86 ]\n",
      "n_estimators - [ 15 ] max_depth - [ 7 ] F1_score - [ 0.61 ] ROC_AUC - [ 0.86 ]\n",
      "n_estimators - [ 15 ] max_depth - [ 8 ] F1_score - [ 0.61 ] ROC_AUC - [ 0.86 ]\n",
      "n_estimators - [ 15 ] max_depth - [ 9 ] F1_score - [ 0.62 ] ROC_AUC - [ 0.86 ]\n",
      "n_estimators - [ 15 ] max_depth - [ 10 ] F1_score - [ 0.6 ] ROC_AUC - [ 0.86 ]\n",
      "n_estimators - [ 15 ] max_depth - [ 11 ] F1_score - [ 0.62 ] ROC_AUC - [ 0.86 ]\n",
      "n_estimators - [ 15 ] max_depth - [ 12 ] F1_score - [ 0.61 ] ROC_AUC - [ 0.86 ]\n",
      "n_estimators - [ 15 ] max_depth - [ 13 ] F1_score - [ 0.62 ] ROC_AUC - [ 0.85 ]\n",
      "n_estimators - [ 16 ] max_depth - [ 1 ] F1_score - [ 0.55 ] ROC_AUC - [ 0.82 ]\n",
      "n_estimators - [ 16 ] max_depth - [ 2 ] F1_score - [ 0.55 ] ROC_AUC - [ 0.83 ]\n",
      "n_estimators - [ 16 ] max_depth - [ 3 ] F1_score - [ 0.57 ] ROC_AUC - [ 0.84 ]\n",
      "n_estimators - [ 16 ] max_depth - [ 4 ] F1_score - [ 0.6 ] ROC_AUC - [ 0.85 ]\n",
      "n_estimators - [ 16 ] max_depth - [ 5 ] F1_score - [ 0.59 ] ROC_AUC - [ 0.86 ]\n",
      "n_estimators - [ 16 ] max_depth - [ 6 ] F1_score - [ 0.6 ] ROC_AUC - [ 0.86 ]\n",
      "n_estimators - [ 16 ] max_depth - [ 7 ] F1_score - [ 0.61 ] ROC_AUC - [ 0.86 ]\n",
      "n_estimators - [ 16 ] max_depth - [ 8 ] F1_score - [ 0.6 ] ROC_AUC - [ 0.86 ]\n",
      "n_estimators - [ 16 ] max_depth - [ 9 ] F1_score - [ 0.61 ] ROC_AUC - [ 0.86 ]\n",
      "n_estimators - [ 16 ] max_depth - [ 10 ] F1_score - [ 0.61 ] ROC_AUC - [ 0.86 ]\n",
      "n_estimators - [ 16 ] max_depth - [ 11 ] F1_score - [ 0.61 ] ROC_AUC - [ 0.86 ]\n",
      "n_estimators - [ 16 ] max_depth - [ 12 ] F1_score - [ 0.61 ] ROC_AUC - [ 0.86 ]\n",
      "n_estimators - [ 16 ] max_depth - [ 13 ] F1_score - [ 0.61 ] ROC_AUC - [ 0.85 ]\n",
      "n_estimators - [ 17 ] max_depth - [ 1 ] F1_score - [ 0.55 ] ROC_AUC - [ 0.82 ]\n",
      "n_estimators - [ 17 ] max_depth - [ 2 ] F1_score - [ 0.55 ] ROC_AUC - [ 0.83 ]\n",
      "n_estimators - [ 17 ] max_depth - [ 3 ] F1_score - [ 0.56 ] ROC_AUC - [ 0.84 ]\n",
      "n_estimators - [ 17 ] max_depth - [ 4 ] F1_score - [ 0.6 ] ROC_AUC - [ 0.85 ]\n",
      "n_estimators - [ 17 ] max_depth - [ 5 ] F1_score - [ 0.6 ] ROC_AUC - [ 0.86 ]\n",
      "n_estimators - [ 17 ] max_depth - [ 6 ] F1_score - [ 0.6 ] ROC_AUC - [ 0.86 ]\n",
      "n_estimators - [ 17 ] max_depth - [ 7 ] F1_score - [ 0.61 ] ROC_AUC - [ 0.86 ]\n",
      "n_estimators - [ 17 ] max_depth - [ 8 ] F1_score - [ 0.6 ] ROC_AUC - [ 0.86 ]\n",
      "n_estimators - [ 17 ] max_depth - [ 9 ] F1_score - [ 0.62 ] ROC_AUC - [ 0.86 ]\n",
      "n_estimators - [ 17 ] max_depth - [ 10 ] F1_score - [ 0.6 ] ROC_AUC - [ 0.86 ]\n",
      "n_estimators - [ 17 ] max_depth - [ 11 ] F1_score - [ 0.62 ] ROC_AUC - [ 0.86 ]\n",
      "n_estimators - [ 17 ] max_depth - [ 12 ] F1_score - [ 0.61 ] ROC_AUC - [ 0.87 ]\n",
      "n_estimators - [ 17 ] max_depth - [ 13 ] F1_score - [ 0.62 ] ROC_AUC - [ 0.85 ]\n",
      "n_estimators - [ 18 ] max_depth - [ 1 ] F1_score - [ 0.51 ] ROC_AUC - [ 0.82 ]\n",
      "n_estimators - [ 18 ] max_depth - [ 2 ] F1_score - [ 0.55 ] ROC_AUC - [ 0.82 ]\n",
      "n_estimators - [ 18 ] max_depth - [ 3 ] F1_score - [ 0.58 ] ROC_AUC - [ 0.84 ]\n",
      "n_estimators - [ 18 ] max_depth - [ 4 ] F1_score - [ 0.61 ] ROC_AUC - [ 0.85 ]\n",
      "n_estimators - [ 18 ] max_depth - [ 5 ] F1_score - [ 0.6 ] ROC_AUC - [ 0.86 ]\n",
      "n_estimators - [ 18 ] max_depth - [ 6 ] F1_score - [ 0.6 ] ROC_AUC - [ 0.86 ]\n",
      "n_estimators - [ 18 ] max_depth - [ 7 ] F1_score - [ 0.61 ] ROC_AUC - [ 0.86 ]\n",
      "n_estimators - [ 18 ] max_depth - [ 8 ] F1_score - [ 0.6 ] ROC_AUC - [ 0.86 ]\n",
      "n_estimators - [ 18 ] max_depth - [ 9 ] F1_score - [ 0.62 ] ROC_AUC - [ 0.86 ]\n",
      "n_estimators - [ 18 ] max_depth - [ 10 ] F1_score - [ 0.61 ] ROC_AUC - [ 0.86 ]\n",
      "n_estimators - [ 18 ] max_depth - [ 11 ] F1_score - [ 0.62 ] ROC_AUC - [ 0.86 ]\n",
      "n_estimators - [ 18 ] max_depth - [ 12 ] F1_score - [ 0.61 ] ROC_AUC - [ 0.86 ]\n",
      "n_estimators - [ 18 ] max_depth - [ 13 ] F1_score - [ 0.61 ] ROC_AUC - [ 0.85 ]\n",
      "n_estimators - [ 19 ] max_depth - [ 1 ] F1_score - [ 0.55 ] ROC_AUC - [ 0.82 ]\n",
      "n_estimators - [ 19 ] max_depth - [ 2 ] F1_score - [ 0.55 ] ROC_AUC - [ 0.82 ]\n",
      "n_estimators - [ 19 ] max_depth - [ 3 ] F1_score - [ 0.58 ] ROC_AUC - [ 0.84 ]\n",
      "n_estimators - [ 19 ] max_depth - [ 4 ] F1_score - [ 0.6 ] ROC_AUC - [ 0.85 ]\n",
      "n_estimators - [ 19 ] max_depth - [ 5 ] F1_score - [ 0.6 ] ROC_AUC - [ 0.86 ]\n",
      "n_estimators - [ 19 ] max_depth - [ 6 ] F1_score - [ 0.6 ] ROC_AUC - [ 0.86 ]\n",
      "n_estimators - [ 19 ] max_depth - [ 7 ] F1_score - [ 0.61 ] ROC_AUC - [ 0.86 ]\n",
      "n_estimators - [ 19 ] max_depth - [ 8 ] F1_score - [ 0.6 ] ROC_AUC - [ 0.86 ]\n",
      "n_estimators - [ 19 ] max_depth - [ 9 ] F1_score - [ 0.62 ] ROC_AUC - [ 0.86 ]\n",
      "n_estimators - [ 19 ] max_depth - [ 10 ] F1_score - [ 0.61 ] ROC_AUC - [ 0.86 ]\n",
      "n_estimators - [ 19 ] max_depth - [ 11 ] F1_score - [ 0.63 ] ROC_AUC - [ 0.86 ]\n",
      "n_estimators - [ 19 ] max_depth - [ 12 ] F1_score - [ 0.62 ] ROC_AUC - [ 0.86 ]\n",
      "n_estimators - [ 19 ] max_depth - [ 13 ] F1_score - [ 0.61 ] ROC_AUC - [ 0.85 ]\n",
      "n_estimators - [ 20 ] max_depth - [ 1 ] F1_score - [ 0.55 ] ROC_AUC - [ 0.81 ]\n",
      "n_estimators - [ 20 ] max_depth - [ 2 ] F1_score - [ 0.54 ] ROC_AUC - [ 0.82 ]\n",
      "n_estimators - [ 20 ] max_depth - [ 3 ] F1_score - [ 0.58 ] ROC_AUC - [ 0.84 ]\n",
      "n_estimators - [ 20 ] max_depth - [ 4 ] F1_score - [ 0.6 ] ROC_AUC - [ 0.85 ]\n",
      "n_estimators - [ 20 ] max_depth - [ 5 ] F1_score - [ 0.6 ] ROC_AUC - [ 0.86 ]\n",
      "n_estimators - [ 20 ] max_depth - [ 6 ] F1_score - [ 0.6 ] ROC_AUC - [ 0.86 ]\n",
      "n_estimators - [ 20 ] max_depth - [ 7 ] F1_score - [ 0.61 ] ROC_AUC - [ 0.87 ]\n",
      "n_estimators - [ 20 ] max_depth - [ 8 ] F1_score - [ 0.6 ] ROC_AUC - [ 0.86 ]\n",
      "n_estimators - [ 20 ] max_depth - [ 9 ] F1_score - [ 0.62 ] ROC_AUC - [ 0.86 ]\n",
      "n_estimators - [ 20 ] max_depth - [ 10 ] F1_score - [ 0.61 ] ROC_AUC - [ 0.86 ]\n",
      "n_estimators - [ 20 ] max_depth - [ 11 ] F1_score - [ 0.62 ] ROC_AUC - [ 0.86 ]\n",
      "n_estimators - [ 20 ] max_depth - [ 12 ] F1_score - [ 0.62 ] ROC_AUC - [ 0.86 ]\n",
      "n_estimators - [ 20 ] max_depth - [ 13 ] F1_score - [ 0.61 ] ROC_AUC - [ 0.85 ]\n",
      "n_estimators - [ 21 ] max_depth - [ 1 ] F1_score - [ 0.53 ] ROC_AUC - [ 0.81 ]\n",
      "n_estimators - [ 21 ] max_depth - [ 2 ] F1_score - [ 0.54 ] ROC_AUC - [ 0.82 ]\n",
      "n_estimators - [ 21 ] max_depth - [ 3 ] F1_score - [ 0.57 ] ROC_AUC - [ 0.84 ]\n",
      "n_estimators - [ 21 ] max_depth - [ 4 ] F1_score - [ 0.59 ] ROC_AUC - [ 0.85 ]\n",
      "n_estimators - [ 21 ] max_depth - [ 5 ] F1_score - [ 0.6 ] ROC_AUC - [ 0.86 ]\n",
      "n_estimators - [ 21 ] max_depth - [ 6 ] F1_score - [ 0.6 ] ROC_AUC - [ 0.86 ]\n",
      "n_estimators - [ 21 ] max_depth - [ 7 ] F1_score - [ 0.61 ] ROC_AUC - [ 0.87 ]\n",
      "n_estimators - [ 21 ] max_depth - [ 8 ] F1_score - [ 0.6 ] ROC_AUC - [ 0.86 ]\n",
      "n_estimators - [ 21 ] max_depth - [ 9 ] F1_score - [ 0.62 ] ROC_AUC - [ 0.86 ]\n",
      "n_estimators - [ 21 ] max_depth - [ 10 ] F1_score - [ 0.61 ] ROC_AUC - [ 0.86 ]\n",
      "n_estimators - [ 21 ] max_depth - [ 11 ] F1_score - [ 0.62 ] ROC_AUC - [ 0.86 ]\n",
      "n_estimators - [ 21 ] max_depth - [ 12 ] F1_score - [ 0.62 ] ROC_AUC - [ 0.87 ]\n",
      "n_estimators - [ 21 ] max_depth - [ 13 ] F1_score - [ 0.61 ] ROC_AUC - [ 0.85 ]\n",
      "n_estimators - [ 22 ] max_depth - [ 1 ] F1_score - [ 0.54 ] ROC_AUC - [ 0.82 ]\n",
      "n_estimators - [ 22 ] max_depth - [ 2 ] F1_score - [ 0.54 ] ROC_AUC - [ 0.82 ]\n",
      "n_estimators - [ 22 ] max_depth - [ 3 ] F1_score - [ 0.57 ] ROC_AUC - [ 0.84 ]\n",
      "n_estimators - [ 22 ] max_depth - [ 4 ] F1_score - [ 0.59 ] ROC_AUC - [ 0.85 ]\n",
      "n_estimators - [ 22 ] max_depth - [ 5 ] F1_score - [ 0.6 ] ROC_AUC - [ 0.86 ]\n",
      "n_estimators - [ 22 ] max_depth - [ 6 ] F1_score - [ 0.59 ] ROC_AUC - [ 0.86 ]\n",
      "n_estimators - [ 22 ] max_depth - [ 7 ] F1_score - [ 0.61 ] ROC_AUC - [ 0.87 ]\n",
      "n_estimators - [ 22 ] max_depth - [ 8 ] F1_score - [ 0.61 ] ROC_AUC - [ 0.86 ]\n",
      "n_estimators - [ 22 ] max_depth - [ 9 ] F1_score - [ 0.61 ] ROC_AUC - [ 0.86 ]\n",
      "n_estimators - [ 22 ] max_depth - [ 10 ] F1_score - [ 0.62 ] ROC_AUC - [ 0.87 ]\n",
      "n_estimators - [ 22 ] max_depth - [ 11 ] F1_score - [ 0.62 ] ROC_AUC - [ 0.86 ]\n",
      "n_estimators - [ 22 ] max_depth - [ 12 ] F1_score - [ 0.63 ] ROC_AUC - [ 0.87 ]\n",
      "n_estimators - [ 22 ] max_depth - [ 13 ] F1_score - [ 0.61 ] ROC_AUC - [ 0.85 ]\n",
      "\n",
      "Лучший результат F1_score - [ 0.63 ]\n",
      "Лучший показатель ROC_AUC - [ 0.87 ]\n"
     ]
    }
   ],
   "source": [
    "best_f1 = 0\n",
    "best_roc_auc = 0\n",
    "for est in range(1, 23, 1):\n",
    "    for depth in range(1, 14):\n",
    "        model_forest = RandomForestClassifier(random_state=12345, n_estimators=est, max_depth=depth)\n",
    "        model_forest.fit(features_balance_up, target_balance_up)\n",
    "        prediction = model_forest.predict(features_valid)\n",
    "        f1 = round(f1_score(target_valid, prediction), 2)\n",
    "        prediction_proba = model_forest.predict_proba(features_valid)\n",
    "        roc_auc = round(roc_auc_score(target_valid, prediction_proba[:,1]), 2)\n",
    "        print('n_estimators - [', est, '] max_depth - [', depth, '] F1_score - [', f1, '] ROC_AUC - [', roc_auc, ']')\n",
    "        if f1 > best_f1:\n",
    "            best_f1 = f1\n",
    "        if roc_auc > best_roc_auc:\n",
    "            best_roc_auc = roc_auc\n",
    "print()\n",
    "print(\"Лучший результат F1_score - [\", best_f1, ']')\n",
    "print(\"Лучший показатель ROC_AUC - [\", best_roc_auc, ']')"
   ]
  },
  {
   "cell_type": "markdown",
   "metadata": {},
   "source": [
    "<div class=\"alert alert-info\">\n",
    "ROC_AUC: 0.87 при max_depth - 10 и n_estimators - 70\n",
    "<br>\n",
    "F1_score: 0.63\n",
    "</div>"
   ]
  },
  {
   "cell_type": "markdown",
   "metadata": {},
   "source": [
    "<div class=\"alert alert-info\">\n",
    "<b>Логистическая регрессия</b>\n",
    "</div>"
   ]
  },
  {
   "cell_type": "code",
   "execution_count": 32,
   "metadata": {},
   "outputs": [
    {
     "name": "stdout",
     "output_type": "stream",
     "text": [
      "F1_score: 0.5\n",
      "ROC_AUC: 0.75\n"
     ]
    }
   ],
   "source": [
    "model_log_reg = LogisticRegression().fit(features_balance_down, target_balance_down)\n",
    "prediction = model_log_reg.predict(features_valid)\n",
    "prediction_proba = model_log_reg.predict_proba(features_valid)\n",
    "roc_auc = round(roc_auc_score(target_valid, prediction_proba[:,1]), 2)\n",
    "print('F1_score:', round(f1_score(target_valid, prediction), 2))\n",
    "print('ROC_AUC:', roc_auc)"
   ]
  },
  {
   "cell_type": "code",
   "execution_count": 33,
   "metadata": {},
   "outputs": [
    {
     "name": "stdout",
     "output_type": "stream",
     "text": [
      "F1_score: 0.51\n",
      "ROC_AUC: 0.78\n"
     ]
    }
   ],
   "source": [
    "model_log_reg = LogisticRegression().fit(features_balance_up, target_balance_up)\n",
    "prediction = model_log_reg.predict(features_valid)\n",
    "prediction_proba = model_log_reg.predict_proba(features_valid)\n",
    "roc_auc = round(roc_auc_score(target_valid, prediction_proba[:,1]), 2)\n",
    "print('F1_score:', round(f1_score(target_valid, prediction), 2))\n",
    "print('ROC_AUC:', roc_auc)"
   ]
  },
  {
   "cell_type": "markdown",
   "metadata": {},
   "source": [
    "<div class=\"alert alert-info\">\n",
    "<b>Изучение метрики AUC-ROC</b>\n",
    "</div>"
   ]
  },
  {
   "cell_type": "markdown",
   "metadata": {},
   "source": [
    "<div class=\"alert alert-info\">\n",
    "Случайный лес\n",
    "</div>"
   ]
  },
  {
   "cell_type": "code",
   "execution_count": 34,
   "metadata": {},
   "outputs": [
    {
     "data": {
      "text/plain": [
       "0.85"
      ]
     },
     "execution_count": 34,
     "metadata": {},
     "output_type": "execute_result"
    }
   ],
   "source": [
    "auc_roc_check_one = model_forest.predict_proba(features_valid)[:, 1]\n",
    "auc_roc_check = roc_auc_score(target_valid, auc_roc_check_one)\n",
    "round(auc_roc_check,2)"
   ]
  },
  {
   "cell_type": "markdown",
   "metadata": {},
   "source": [
    "<div class=\"alert alert-info\">\n",
    "Древо решений\n",
    "</div>"
   ]
  },
  {
   "cell_type": "code",
   "execution_count": 35,
   "metadata": {},
   "outputs": [
    {
     "data": {
      "text/plain": [
       "0.67"
      ]
     },
     "execution_count": 35,
     "metadata": {},
     "output_type": "execute_result"
    }
   ],
   "source": [
    "auc_roc_check_two = model_tree.predict_proba(features_valid)[:, 1]\n",
    "auc_roc_check2 = roc_auc_score(target_valid, auc_roc_check_two)\n",
    "round(auc_roc_check2, 2)"
   ]
  },
  {
   "cell_type": "markdown",
   "metadata": {},
   "source": [
    "<div class=\"alert alert-info\">\n",
    "Логистическая регрессия\n",
    "</div>"
   ]
  },
  {
   "cell_type": "code",
   "execution_count": 36,
   "metadata": {},
   "outputs": [
    {
     "data": {
      "text/plain": [
       "0.78"
      ]
     },
     "execution_count": 36,
     "metadata": {},
     "output_type": "execute_result"
    }
   ],
   "source": [
    "auc_roc_check_three = model_log_reg.predict_proba(features_valid)[:, 1]\n",
    "auc_roc_check3 = roc_auc_score(target_valid, auc_roc_check_three)\n",
    "round(auc_roc_check3, 2)"
   ]
  },
  {
   "cell_type": "markdown",
   "metadata": {},
   "source": [
    "## Тестирование моделей"
   ]
  },
  {
   "cell_type": "code",
   "execution_count": 37,
   "metadata": {},
   "outputs": [
    {
     "name": "stdout",
     "output_type": "stream",
     "text": [
      "F1_score для дамми модели: 0.32\n"
     ]
    }
   ],
   "source": [
    "dummy_model = DummyClassifier(strategy='constant', constant=1)\n",
    "dummy_model.fit(features_train, target_train)\n",
    "print('F1_score для дамми модели:', round(f1_score(dummy_model.predict(features_test), target_test), 2))"
   ]
  },
  {
   "cell_type": "markdown",
   "metadata": {},
   "source": [
    "<div class=\"alert alert-info\">\n",
    "Случайный лес\n",
    "</div>"
   ]
  },
  {
   "cell_type": "code",
   "execution_count": 38,
   "metadata": {},
   "outputs": [
    {
     "name": "stdout",
     "output_type": "stream",
     "text": [
      "n_estimators - [10] max_depth - [5] F1_score - [ 0.62 ] ROC_AUC - [ 0.85 ]\n"
     ]
    }
   ],
   "source": [
    "model_forest_final = RandomForestClassifier(max_depth = 14, n_estimators = 180, random_state=1234)\n",
    "model_forest_final.fit(features_balance_up, target_balance_up)\n",
    "model_forest_final_prediction = model_forest_final.predict(features_test)\n",
    "f1 = round(f1_score(target_test, model_forest_final_prediction), 2)\n",
    "prediction_proba_final = model_forest_final.predict_proba(features_test)\n",
    "roc_auc = round(roc_auc_score(target_test, prediction_proba_final[:,1]), 2)\n",
    "print('n_estimators - [10] max_depth - [5] F1_score - [', f1, '] ROC_AUC - [', roc_auc, ']')"
   ]
  },
  {
   "cell_type": "markdown",
   "metadata": {},
   "source": [
    "<div class=\"alert alert-info\">\n",
    "Нарисуем кривую ROC_AUC\n",
    "</div>"
   ]
  },
  {
   "cell_type": "code",
   "execution_count": 39,
   "metadata": {
    "scrolled": true
   },
   "outputs": [
    {
     "data": {
      "image/png": "[encoded data removed]",
      "text/plain": [
       "<Figure size 432x288 with 1 Axes>"
      ]
     },
     "metadata": {
      "needs_background": "light"
     },
     "output_type": "display_data"
    }
   ],
   "source": [
    "fpr, tpr, thresholds = roc_curve(target_test, prediction_proba_final[:,1])\n",
    "plt.figure()\n",
    "plt.plot(fpr, tpr, label='Случайный лес (area = %0.2f)' % roc_auc)\n",
    "plt.plot([0, 1], [0, 1], 'r--')\n",
    "plt.xlim([0.0, 1.0])\n",
    "plt.ylim([0.0, 1.05])\n",
    "plt.xlabel('Частота ложной положительной классификации')\n",
    "plt.ylabel('Частота истинной положительной классификации')\n",
    "plt.title('график кривой ROC_AUC')\n",
    "plt.legend(loc=\"lower right\")\n",
    "plt.show()"
   ]
  },
  {
   "cell_type": "markdown",
   "metadata": {},
   "source": [
    "<div class=\"alert alert-info\">\n",
    "В общем итоге модель случайный лес показывает лучшие результаты, чем константная модель.\n",
    "<br>\n",
    "<br>\n",
    "f1_score: 0.62\n",
    "<br>\n",
    "<b>Почти в два раза!</b>\n",
    "<br>\n",
    "<br>\n",
    "Мы использовали библиотеку scikit-learn для обучения и оценки различных моделей классификации, таких как древо решений, случайный лес и логистическая регрессия. мы загрузили данные из csv файлика, посмотрели что там внутри есть, очистили от всяких левых значений и на его основе создали несколько выборок (с помощью функции train_test_split). Далее мы обучили модели и оценили их с помощью метрик F1_score и ROC_AUC.\n",
    "</div>"
   ]
  }
 ],
 "metadata": {
  "ExecuteTimeLog": [
   {
    "duration": 505,
    "start_time": "2023-01-15T13:10:56.101Z"
   },
   {
    "duration": 87,
    "start_time": "2023-01-15T13:11:13.770Z"
   },
   {
    "duration": 62,
    "start_time": "2023-01-15T13:11:31.280Z"
   },
   {
    "duration": 8,
    "start_time": "2023-01-15T13:11:35.462Z"
   },
   {
    "duration": 10,
    "start_time": "2023-01-15T13:11:49.491Z"
   },
   {
    "duration": 22,
    "start_time": "2023-01-15T13:11:55.882Z"
   },
   {
    "duration": 41,
    "start_time": "2023-01-15T13:12:17.944Z"
   },
   {
    "duration": 4,
    "start_time": "2023-01-15T13:12:18.295Z"
   },
   {
    "duration": 21,
    "start_time": "2023-01-15T13:12:21.732Z"
   },
   {
    "duration": 11,
    "start_time": "2023-01-15T13:12:25.233Z"
   },
   {
    "duration": 8,
    "start_time": "2023-01-15T13:13:17.128Z"
   },
   {
    "duration": 3,
    "start_time": "2023-01-15T13:13:24.093Z"
   },
   {
    "duration": 19,
    "start_time": "2023-01-15T13:13:34.432Z"
   },
   {
    "duration": 4,
    "start_time": "2023-01-15T16:14:40.818Z"
   },
   {
    "duration": 4,
    "start_time": "2023-01-15T16:15:26.308Z"
   },
   {
    "duration": 4,
    "start_time": "2023-01-15T16:15:57.303Z"
   },
   {
    "duration": 5,
    "start_time": "2023-01-15T16:19:28.890Z"
   },
   {
    "duration": 2,
    "start_time": "2023-01-15T17:08:06.706Z"
   },
   {
    "duration": 50,
    "start_time": "2023-01-15T17:08:06.710Z"
   },
   {
    "duration": 4,
    "start_time": "2023-01-15T17:08:06.762Z"
   },
   {
    "duration": 12,
    "start_time": "2023-01-15T17:08:06.768Z"
   },
   {
    "duration": 13,
    "start_time": "2023-01-15T17:08:06.782Z"
   },
   {
    "duration": 20,
    "start_time": "2023-01-15T17:08:06.797Z"
   },
   {
    "duration": 9,
    "start_time": "2023-01-15T17:08:06.819Z"
   },
   {
    "duration": 11,
    "start_time": "2023-01-15T17:09:19.783Z"
   },
   {
    "duration": 4,
    "start_time": "2023-01-15T17:10:14.212Z"
   },
   {
    "duration": 5,
    "start_time": "2023-01-15T17:10:28.463Z"
   },
   {
    "duration": 4,
    "start_time": "2023-01-15T17:10:41.331Z"
   },
   {
    "duration": 10,
    "start_time": "2023-01-15T17:11:14.563Z"
   },
   {
    "duration": 2069,
    "start_time": "2023-01-15T17:12:53.453Z"
   },
   {
    "duration": 30,
    "start_time": "2023-01-15T17:36:59.303Z"
   },
   {
    "duration": 47,
    "start_time": "2023-01-15T17:40:42.179Z"
   },
   {
    "duration": 12,
    "start_time": "2023-01-15T17:40:43.981Z"
   },
   {
    "duration": 66,
    "start_time": "2023-01-15T17:41:12.006Z"
   },
   {
    "duration": 18,
    "start_time": "2023-01-15T17:41:14.486Z"
   },
   {
    "duration": 19,
    "start_time": "2023-01-15T17:41:16.117Z"
   },
   {
    "duration": 19,
    "start_time": "2023-01-15T17:41:19.034Z"
   },
   {
    "duration": 21,
    "start_time": "2023-01-15T17:41:21.769Z"
   },
   {
    "duration": 3,
    "start_time": "2023-01-15T17:41:25.692Z"
   },
   {
    "duration": 1662,
    "start_time": "2023-01-15T17:41:26.663Z"
   },
   {
    "duration": 4,
    "start_time": "2023-01-15T17:50:27.517Z"
   },
   {
    "duration": 47,
    "start_time": "2023-01-15T17:58:08.532Z"
   },
   {
    "duration": 371,
    "start_time": "2023-01-15T17:58:14.002Z"
   },
   {
    "duration": 247,
    "start_time": "2023-01-15T17:58:14.376Z"
   },
   {
    "duration": 11,
    "start_time": "2023-01-15T17:58:14.625Z"
   },
   {
    "duration": 19,
    "start_time": "2023-01-15T17:58:14.638Z"
   },
   {
    "duration": 19,
    "start_time": "2023-01-15T17:58:14.659Z"
   },
   {
    "duration": 22,
    "start_time": "2023-01-15T17:58:14.680Z"
   },
   {
    "duration": 16,
    "start_time": "2023-01-15T17:58:14.704Z"
   },
   {
    "duration": 2191,
    "start_time": "2023-01-15T17:58:14.721Z"
   },
   {
    "duration": 4,
    "start_time": "2023-01-15T17:58:16.914Z"
   },
   {
    "duration": 15,
    "start_time": "2023-01-15T17:58:16.920Z"
   },
   {
    "duration": 3,
    "start_time": "2023-01-15T17:59:18.493Z"
   },
   {
    "duration": 5,
    "start_time": "2023-01-15T18:01:30.247Z"
   },
   {
    "duration": 65,
    "start_time": "2023-01-15T18:04:27.149Z"
   },
   {
    "duration": 4,
    "start_time": "2023-01-15T18:04:46.048Z"
   },
   {
    "duration": 78,
    "start_time": "2023-01-15T18:04:46.054Z"
   },
   {
    "duration": 14,
    "start_time": "2023-01-15T18:04:46.134Z"
   },
   {
    "duration": 36,
    "start_time": "2023-01-15T18:04:46.151Z"
   },
   {
    "duration": 27,
    "start_time": "2023-01-15T18:04:46.189Z"
   },
   {
    "duration": 60,
    "start_time": "2023-01-15T18:04:46.219Z"
   },
   {
    "duration": 9,
    "start_time": "2023-01-15T18:04:46.280Z"
   },
   {
    "duration": 2151,
    "start_time": "2023-01-15T18:04:46.291Z"
   },
   {
    "duration": 7,
    "start_time": "2023-01-15T18:04:48.444Z"
   },
   {
    "duration": 19,
    "start_time": "2023-01-15T18:04:48.454Z"
   },
   {
    "duration": 0,
    "start_time": "2023-01-15T18:04:48.475Z"
   },
   {
    "duration": 0,
    "start_time": "2023-01-15T18:04:48.477Z"
   },
   {
    "duration": 11,
    "start_time": "2023-01-15T18:04:56.227Z"
   },
   {
    "duration": 10,
    "start_time": "2023-01-15T18:07:14.826Z"
   },
   {
    "duration": 4,
    "start_time": "2023-01-15T18:10:40.054Z"
   },
   {
    "duration": 9,
    "start_time": "2023-01-15T18:11:11.065Z"
   },
   {
    "duration": 19,
    "start_time": "2023-01-15T18:11:16.055Z"
   },
   {
    "duration": 20,
    "start_time": "2023-01-15T18:11:30.915Z"
   },
   {
    "duration": 3,
    "start_time": "2023-01-15T18:11:52.013Z"
   },
   {
    "duration": 50,
    "start_time": "2023-01-15T18:11:52.018Z"
   },
   {
    "duration": 12,
    "start_time": "2023-01-15T18:11:52.070Z"
   },
   {
    "duration": 12,
    "start_time": "2023-01-15T18:11:52.084Z"
   },
   {
    "duration": 14,
    "start_time": "2023-01-15T18:11:52.098Z"
   },
   {
    "duration": 51,
    "start_time": "2023-01-15T18:11:52.114Z"
   },
   {
    "duration": 13,
    "start_time": "2023-01-15T18:11:52.168Z"
   },
   {
    "duration": 1861,
    "start_time": "2023-01-15T18:11:52.184Z"
   },
   {
    "duration": 5,
    "start_time": "2023-01-15T18:11:54.050Z"
   },
   {
    "duration": 15,
    "start_time": "2023-01-15T18:11:54.056Z"
   },
   {
    "duration": 21,
    "start_time": "2023-01-15T18:11:54.073Z"
   },
   {
    "duration": 21,
    "start_time": "2023-01-15T18:11:54.096Z"
   },
   {
    "duration": 39,
    "start_time": "2023-01-15T18:11:54.120Z"
   },
   {
    "duration": 6,
    "start_time": "2023-01-15T18:11:54.163Z"
   },
   {
    "duration": 7,
    "start_time": "2023-01-15T18:14:29.913Z"
   },
   {
    "duration": 13,
    "start_time": "2023-01-15T18:20:03.999Z"
   },
   {
    "duration": 3,
    "start_time": "2023-01-15T18:20:35.929Z"
   },
   {
    "duration": 10,
    "start_time": "2023-01-15T18:20:49.418Z"
   },
   {
    "duration": 11,
    "start_time": "2023-01-15T18:21:01.272Z"
   },
   {
    "duration": 15,
    "start_time": "2023-01-15T18:21:06.984Z"
   },
   {
    "duration": 12,
    "start_time": "2023-01-15T18:21:29.003Z"
   },
   {
    "duration": 21,
    "start_time": "2023-01-15T18:21:34.929Z"
   },
   {
    "duration": 20,
    "start_time": "2023-01-15T18:21:54.450Z"
   },
   {
    "duration": 22,
    "start_time": "2023-01-15T18:22:13.085Z"
   },
   {
    "duration": 32,
    "start_time": "2023-01-15T18:22:31.734Z"
   },
   {
    "duration": 22,
    "start_time": "2023-01-15T18:22:38.478Z"
   },
   {
    "duration": 1182,
    "start_time": "2023-01-15T18:23:02.834Z"
   },
   {
    "duration": 1194,
    "start_time": "2023-01-15T18:23:10.954Z"
   },
   {
    "duration": 3,
    "start_time": "2023-01-15T18:23:39.719Z"
   },
   {
    "duration": 66,
    "start_time": "2023-01-15T18:23:39.724Z"
   },
   {
    "duration": 16,
    "start_time": "2023-01-15T18:23:39.792Z"
   },
   {
    "duration": 15,
    "start_time": "2023-01-15T18:23:39.810Z"
   },
   {
    "duration": 36,
    "start_time": "2023-01-15T18:23:39.827Z"
   },
   {
    "duration": 44,
    "start_time": "2023-01-15T18:23:39.865Z"
   },
   {
    "duration": 32,
    "start_time": "2023-01-15T18:23:39.911Z"
   },
   {
    "duration": 1808,
    "start_time": "2023-01-15T18:23:39.945Z"
   },
   {
    "duration": 29,
    "start_time": "2023-01-15T18:23:41.755Z"
   },
   {
    "duration": 6,
    "start_time": "2023-01-15T18:23:41.786Z"
   },
   {
    "duration": 10,
    "start_time": "2023-01-15T18:23:41.794Z"
   },
   {
    "duration": 27,
    "start_time": "2023-01-15T18:23:41.806Z"
   },
   {
    "duration": 54,
    "start_time": "2023-01-15T18:23:41.835Z"
   },
   {
    "duration": 32,
    "start_time": "2023-01-15T18:23:41.891Z"
   },
   {
    "duration": 18,
    "start_time": "2023-01-15T18:23:41.925Z"
   },
   {
    "duration": 30,
    "start_time": "2023-01-15T18:24:17.086Z"
   },
   {
    "duration": 26,
    "start_time": "2023-01-15T18:24:41.401Z"
   },
   {
    "duration": 73,
    "start_time": "2023-01-15T18:24:49.047Z"
   },
   {
    "duration": 20,
    "start_time": "2023-01-15T18:24:56.178Z"
   },
   {
    "duration": 24,
    "start_time": "2023-01-15T18:25:00.976Z"
   },
   {
    "duration": 75,
    "start_time": "2023-01-15T18:25:09.780Z"
   },
   {
    "duration": 23,
    "start_time": "2023-01-15T18:25:16.852Z"
   },
   {
    "duration": 72,
    "start_time": "2023-01-15T18:25:29.726Z"
   },
   {
    "duration": 30,
    "start_time": "2023-01-15T18:25:34.305Z"
   },
   {
    "duration": 32,
    "start_time": "2023-01-15T18:25:47.418Z"
   },
   {
    "duration": 24,
    "start_time": "2023-01-15T18:25:54.217Z"
   },
   {
    "duration": 72,
    "start_time": "2023-01-15T18:26:06.677Z"
   },
   {
    "duration": 75,
    "start_time": "2023-01-15T18:26:13.634Z"
   },
   {
    "duration": 31,
    "start_time": "2023-01-15T18:26:18.989Z"
   },
   {
    "duration": 22,
    "start_time": "2023-01-15T18:26:57.306Z"
   },
   {
    "duration": 22,
    "start_time": "2023-01-15T18:27:06.233Z"
   },
   {
    "duration": 23,
    "start_time": "2023-01-15T18:27:14.879Z"
   },
   {
    "duration": 23,
    "start_time": "2023-01-15T18:27:31.869Z"
   },
   {
    "duration": 8,
    "start_time": "2023-01-15T18:34:35.729Z"
   },
   {
    "duration": 1209,
    "start_time": "2023-01-15T18:34:59.375Z"
   },
   {
    "duration": 6,
    "start_time": "2023-01-15T18:35:06.097Z"
   },
   {
    "duration": 6,
    "start_time": "2023-01-15T18:35:28.426Z"
   },
   {
    "duration": 10,
    "start_time": "2023-01-15T19:26:40.983Z"
   },
   {
    "duration": 10,
    "start_time": "2023-01-15T19:27:01.942Z"
   },
   {
    "duration": 5,
    "start_time": "2023-01-15T19:31:05.159Z"
   },
   {
    "duration": 5,
    "start_time": "2023-01-15T19:31:27.776Z"
   },
   {
    "duration": 6,
    "start_time": "2023-01-15T19:32:21.633Z"
   },
   {
    "duration": 9,
    "start_time": "2023-01-15T19:35:33.438Z"
   },
   {
    "duration": 6,
    "start_time": "2023-01-15T19:35:36.251Z"
   },
   {
    "duration": 107,
    "start_time": "2023-01-15T20:01:09.352Z"
   },
   {
    "duration": 3,
    "start_time": "2023-01-15T20:01:26.663Z"
   },
   {
    "duration": 100,
    "start_time": "2023-01-15T20:01:31.518Z"
   },
   {
    "duration": 26,
    "start_time": "2023-01-15T20:02:36.846Z"
   },
   {
    "duration": 3,
    "start_time": "2023-01-15T20:02:40.643Z"
   },
   {
    "duration": 56,
    "start_time": "2023-01-15T20:02:40.648Z"
   },
   {
    "duration": 11,
    "start_time": "2023-01-15T20:02:40.706Z"
   },
   {
    "duration": 12,
    "start_time": "2023-01-15T20:02:40.719Z"
   },
   {
    "duration": 13,
    "start_time": "2023-01-15T20:02:40.733Z"
   },
   {
    "duration": 23,
    "start_time": "2023-01-15T20:02:40.747Z"
   },
   {
    "duration": 4,
    "start_time": "2023-01-15T20:02:40.772Z"
   },
   {
    "duration": 1835,
    "start_time": "2023-01-15T20:02:40.778Z"
   },
   {
    "duration": 40,
    "start_time": "2023-01-15T20:02:42.615Z"
   },
   {
    "duration": 5,
    "start_time": "2023-01-15T20:02:42.657Z"
   },
   {
    "duration": 14,
    "start_time": "2023-01-15T20:02:42.664Z"
   },
   {
    "duration": 21,
    "start_time": "2023-01-15T20:02:42.679Z"
   },
   {
    "duration": 27,
    "start_time": "2023-01-15T20:02:42.702Z"
   },
   {
    "duration": 6,
    "start_time": "2023-01-15T20:02:42.753Z"
   },
   {
    "duration": 8,
    "start_time": "2023-01-15T20:02:42.761Z"
   },
   {
    "duration": 7,
    "start_time": "2023-01-15T20:02:42.771Z"
   },
   {
    "duration": 29,
    "start_time": "2023-01-15T20:02:42.779Z"
   },
   {
    "duration": 29,
    "start_time": "2023-01-15T20:03:08.734Z"
   },
   {
    "duration": 4,
    "start_time": "2023-01-15T20:04:03.125Z"
   },
   {
    "duration": 9,
    "start_time": "2023-01-15T20:04:05.729Z"
   },
   {
    "duration": 13,
    "start_time": "2023-01-15T20:04:23.856Z"
   },
   {
    "duration": 22,
    "start_time": "2023-01-15T20:08:57.142Z"
   },
   {
    "duration": 5,
    "start_time": "2023-01-15T20:09:24.292Z"
   },
   {
    "duration": 23,
    "start_time": "2023-01-15T20:09:31.597Z"
   },
   {
    "duration": 1027,
    "start_time": "2023-01-21T13:44:41.792Z"
   },
   {
    "duration": 184,
    "start_time": "2023-01-21T13:44:42.822Z"
   },
   {
    "duration": 11,
    "start_time": "2023-01-21T13:44:43.007Z"
   },
   {
    "duration": 11,
    "start_time": "2023-01-21T13:44:43.019Z"
   },
   {
    "duration": 16,
    "start_time": "2023-01-21T13:44:43.032Z"
   },
   {
    "duration": 26,
    "start_time": "2023-01-21T13:44:43.050Z"
   },
   {
    "duration": 6,
    "start_time": "2023-01-21T13:44:43.089Z"
   },
   {
    "duration": 2334,
    "start_time": "2023-01-21T13:44:43.098Z"
   },
   {
    "duration": 42,
    "start_time": "2023-01-21T13:44:45.434Z"
   },
   {
    "duration": 3,
    "start_time": "2023-01-21T13:44:45.478Z"
   },
   {
    "duration": 14,
    "start_time": "2023-01-21T13:44:45.483Z"
   },
   {
    "duration": 27,
    "start_time": "2023-01-21T13:44:45.498Z"
   },
   {
    "duration": 19,
    "start_time": "2023-01-21T13:44:45.547Z"
   },
   {
    "duration": 5,
    "start_time": "2023-01-21T13:44:45.568Z"
   },
   {
    "duration": 9,
    "start_time": "2023-01-21T13:44:45.575Z"
   },
   {
    "duration": 6,
    "start_time": "2023-01-21T13:44:45.586Z"
   },
   {
    "duration": 11,
    "start_time": "2023-01-21T13:44:45.593Z"
   },
   {
    "duration": 58,
    "start_time": "2023-01-21T13:44:45.605Z"
   },
   {
    "duration": 98,
    "start_time": "2023-01-21T13:57:22.315Z"
   },
   {
    "duration": 37,
    "start_time": "2023-01-21T13:57:48.075Z"
   },
   {
    "duration": 1103,
    "start_time": "2023-01-22T12:20:31.660Z"
   },
   {
    "duration": 181,
    "start_time": "2023-01-22T12:20:32.765Z"
   },
   {
    "duration": 11,
    "start_time": "2023-01-22T12:20:32.948Z"
   },
   {
    "duration": 14,
    "start_time": "2023-01-22T12:20:32.960Z"
   },
   {
    "duration": 20,
    "start_time": "2023-01-22T12:20:32.977Z"
   },
   {
    "duration": 31,
    "start_time": "2023-01-22T12:20:32.999Z"
   },
   {
    "duration": 3,
    "start_time": "2023-01-22T12:20:33.032Z"
   },
   {
    "duration": 2454,
    "start_time": "2023-01-22T12:20:33.037Z"
   },
   {
    "duration": 45,
    "start_time": "2023-01-22T12:20:35.494Z"
   },
   {
    "duration": 4,
    "start_time": "2023-01-22T12:20:35.540Z"
   },
   {
    "duration": 43,
    "start_time": "2023-01-22T12:20:35.546Z"
   },
   {
    "duration": 34,
    "start_time": "2023-01-22T12:20:35.591Z"
   },
   {
    "duration": 45,
    "start_time": "2023-01-22T12:20:35.627Z"
   },
   {
    "duration": 28,
    "start_time": "2023-01-22T12:20:35.676Z"
   },
   {
    "duration": 18,
    "start_time": "2023-01-22T12:20:35.707Z"
   },
   {
    "duration": 56,
    "start_time": "2023-01-22T12:20:35.727Z"
   },
   {
    "duration": 54,
    "start_time": "2023-01-22T12:20:35.785Z"
   },
   {
    "duration": 49,
    "start_time": "2023-01-22T12:20:35.842Z"
   },
   {
    "duration": 149,
    "start_time": "2023-01-22T12:20:35.893Z"
   },
   {
    "duration": 13,
    "start_time": "2023-01-22T13:08:04.925Z"
   },
   {
    "duration": 3,
    "start_time": "2023-01-22T13:08:22.566Z"
   },
   {
    "duration": 26,
    "start_time": "2023-01-22T13:08:27.402Z"
   },
   {
    "duration": 3,
    "start_time": "2023-01-22T13:15:06.234Z"
   },
   {
    "duration": 57,
    "start_time": "2023-01-22T13:15:06.239Z"
   },
   {
    "duration": 11,
    "start_time": "2023-01-22T13:15:06.298Z"
   },
   {
    "duration": 16,
    "start_time": "2023-01-22T13:15:06.310Z"
   },
   {
    "duration": 24,
    "start_time": "2023-01-22T13:15:06.330Z"
   },
   {
    "duration": 29,
    "start_time": "2023-01-22T13:15:06.356Z"
   },
   {
    "duration": 8,
    "start_time": "2023-01-22T13:15:06.387Z"
   },
   {
    "duration": 1998,
    "start_time": "2023-01-22T13:15:06.397Z"
   },
   {
    "duration": 44,
    "start_time": "2023-01-22T13:15:08.397Z"
   },
   {
    "duration": 4,
    "start_time": "2023-01-22T13:15:08.443Z"
   },
   {
    "duration": 14,
    "start_time": "2023-01-22T13:15:08.449Z"
   },
   {
    "duration": 19,
    "start_time": "2023-01-22T13:15:08.465Z"
   },
   {
    "duration": 51,
    "start_time": "2023-01-22T13:15:08.486Z"
   },
   {
    "duration": 6,
    "start_time": "2023-01-22T13:15:08.540Z"
   },
   {
    "duration": 8,
    "start_time": "2023-01-22T13:15:08.548Z"
   },
   {
    "duration": 7,
    "start_time": "2023-01-22T13:15:08.558Z"
   },
   {
    "duration": 27,
    "start_time": "2023-01-22T13:15:08.566Z"
   },
   {
    "duration": 27,
    "start_time": "2023-01-22T13:15:08.595Z"
   },
   {
    "duration": 31,
    "start_time": "2023-01-22T13:15:08.624Z"
   },
   {
    "duration": 10,
    "start_time": "2023-01-22T13:15:08.657Z"
   },
   {
    "duration": 23,
    "start_time": "2023-01-22T13:16:48.684Z"
   },
   {
    "duration": 3,
    "start_time": "2023-01-22T13:17:18.551Z"
   },
   {
    "duration": 5,
    "start_time": "2023-01-22T13:17:20.776Z"
   },
   {
    "duration": 51,
    "start_time": "2023-01-22T13:17:20.783Z"
   },
   {
    "duration": 14,
    "start_time": "2023-01-22T13:17:20.837Z"
   },
   {
    "duration": 23,
    "start_time": "2023-01-22T13:17:20.853Z"
   },
   {
    "duration": 16,
    "start_time": "2023-01-22T13:17:20.878Z"
   },
   {
    "duration": 37,
    "start_time": "2023-01-22T13:17:20.896Z"
   },
   {
    "duration": 6,
    "start_time": "2023-01-22T13:17:20.935Z"
   },
   {
    "duration": 2007,
    "start_time": "2023-01-22T13:17:20.943Z"
   },
   {
    "duration": 32,
    "start_time": "2023-01-22T13:17:22.952Z"
   },
   {
    "duration": 4,
    "start_time": "2023-01-22T13:17:22.986Z"
   },
   {
    "duration": 34,
    "start_time": "2023-01-22T13:17:22.992Z"
   },
   {
    "duration": 32,
    "start_time": "2023-01-22T13:17:23.029Z"
   },
   {
    "duration": 38,
    "start_time": "2023-01-22T13:17:23.063Z"
   },
   {
    "duration": 6,
    "start_time": "2023-01-22T13:17:23.104Z"
   },
   {
    "duration": 40,
    "start_time": "2023-01-22T13:17:23.112Z"
   },
   {
    "duration": 19,
    "start_time": "2023-01-22T13:17:23.154Z"
   },
   {
    "duration": 33,
    "start_time": "2023-01-22T13:17:23.175Z"
   },
   {
    "duration": 9,
    "start_time": "2023-01-22T13:17:23.209Z"
   },
   {
    "duration": 64,
    "start_time": "2023-01-22T13:17:23.221Z"
   },
   {
    "duration": 173,
    "start_time": "2023-01-22T13:17:23.287Z"
   },
   {
    "duration": 10,
    "start_time": "2023-01-22T13:22:03.678Z"
   },
   {
    "duration": 12,
    "start_time": "2023-01-22T13:22:22.952Z"
   },
   {
    "duration": 3,
    "start_time": "2023-01-22T13:22:25.471Z"
   },
   {
    "duration": 51,
    "start_time": "2023-01-22T13:22:25.477Z"
   },
   {
    "duration": 11,
    "start_time": "2023-01-22T13:22:25.529Z"
   },
   {
    "duration": 18,
    "start_time": "2023-01-22T13:22:25.542Z"
   },
   {
    "duration": 18,
    "start_time": "2023-01-22T13:22:25.564Z"
   },
   {
    "duration": 60,
    "start_time": "2023-01-22T13:22:25.584Z"
   },
   {
    "duration": 3,
    "start_time": "2023-01-22T13:22:25.646Z"
   },
   {
    "duration": 1927,
    "start_time": "2023-01-22T13:22:25.651Z"
   },
   {
    "duration": 49,
    "start_time": "2023-01-22T13:22:27.580Z"
   },
   {
    "duration": 5,
    "start_time": "2023-01-22T13:22:27.631Z"
   },
   {
    "duration": 18,
    "start_time": "2023-01-22T13:22:27.638Z"
   },
   {
    "duration": 26,
    "start_time": "2023-01-22T13:22:27.658Z"
   },
   {
    "duration": 45,
    "start_time": "2023-01-22T13:22:27.686Z"
   },
   {
    "duration": 6,
    "start_time": "2023-01-22T13:22:27.733Z"
   },
   {
    "duration": 9,
    "start_time": "2023-01-22T13:22:27.741Z"
   },
   {
    "duration": 11,
    "start_time": "2023-01-22T13:22:27.752Z"
   },
   {
    "duration": 31,
    "start_time": "2023-01-22T13:22:27.765Z"
   },
   {
    "duration": 24,
    "start_time": "2023-01-22T13:22:27.797Z"
   },
   {
    "duration": 25,
    "start_time": "2023-01-22T13:22:27.823Z"
   },
   {
    "duration": 172,
    "start_time": "2023-01-22T13:22:27.850Z"
   },
   {
    "duration": 5177,
    "start_time": "2023-01-22T13:22:28.024Z"
   },
   {
    "duration": 4592,
    "start_time": "2023-01-22T13:26:18.550Z"
   },
   {
    "duration": 249,
    "start_time": "2023-01-22T13:27:54.665Z"
   },
   {
    "duration": 466,
    "start_time": "2023-01-22T13:28:12.069Z"
   },
   {
    "duration": 4283,
    "start_time": "2023-01-22T13:36:33.150Z"
   },
   {
    "duration": 2884,
    "start_time": "2023-01-22T13:37:00.560Z"
   },
   {
    "duration": 7,
    "start_time": "2023-01-22T13:43:02.012Z"
   },
   {
    "duration": 6,
    "start_time": "2023-01-22T13:43:03.762Z"
   },
   {
    "duration": 6,
    "start_time": "2023-01-22T13:43:14.744Z"
   },
   {
    "duration": 5,
    "start_time": "2023-01-22T13:43:15.543Z"
   },
   {
    "duration": 7,
    "start_time": "2023-01-22T13:44:48.768Z"
   },
   {
    "duration": 6,
    "start_time": "2023-01-22T13:44:49.622Z"
   },
   {
    "duration": 6,
    "start_time": "2023-01-22T13:45:05.558Z"
   },
   {
    "duration": 12,
    "start_time": "2023-01-22T13:45:06.125Z"
   },
   {
    "duration": 6,
    "start_time": "2023-01-22T13:45:11.826Z"
   },
   {
    "duration": 7,
    "start_time": "2023-01-22T13:45:12.257Z"
   },
   {
    "duration": 5,
    "start_time": "2023-01-22T13:45:34.858Z"
   },
   {
    "duration": 7,
    "start_time": "2023-01-22T13:45:52.782Z"
   },
   {
    "duration": 5,
    "start_time": "2023-01-22T13:45:53.357Z"
   },
   {
    "duration": 22,
    "start_time": "2023-01-22T13:46:27.562Z"
   },
   {
    "duration": 6,
    "start_time": "2023-01-22T13:48:35.793Z"
   },
   {
    "duration": 8,
    "start_time": "2023-01-22T13:49:02.156Z"
   },
   {
    "duration": 7,
    "start_time": "2023-01-22T13:49:06.127Z"
   },
   {
    "duration": 6,
    "start_time": "2023-01-22T13:49:23.782Z"
   },
   {
    "duration": 22,
    "start_time": "2023-01-22T13:49:46.377Z"
   },
   {
    "duration": 26,
    "start_time": "2023-01-22T13:50:12.488Z"
   },
   {
    "duration": 476,
    "start_time": "2023-01-22T13:51:34.857Z"
   },
   {
    "duration": 2943,
    "start_time": "2023-01-22T13:52:07.184Z"
   },
   {
    "duration": 10,
    "start_time": "2023-01-22T13:57:51.759Z"
   },
   {
    "duration": 4,
    "start_time": "2023-01-22T13:58:08.964Z"
   },
   {
    "duration": 4,
    "start_time": "2023-01-22T13:58:12.118Z"
   },
   {
    "duration": 4,
    "start_time": "2023-01-22T13:58:14.287Z"
   },
   {
    "duration": 53,
    "start_time": "2023-01-22T13:58:14.293Z"
   },
   {
    "duration": 13,
    "start_time": "2023-01-22T13:58:14.347Z"
   },
   {
    "duration": 12,
    "start_time": "2023-01-22T13:58:14.361Z"
   },
   {
    "duration": 17,
    "start_time": "2023-01-22T13:58:14.375Z"
   },
   {
    "duration": 53,
    "start_time": "2023-01-22T13:58:14.394Z"
   },
   {
    "duration": 11,
    "start_time": "2023-01-22T13:58:14.449Z"
   },
   {
    "duration": 1929,
    "start_time": "2023-01-22T13:58:14.462Z"
   },
   {
    "duration": 42,
    "start_time": "2023-01-22T13:58:16.393Z"
   },
   {
    "duration": 5,
    "start_time": "2023-01-22T13:58:16.438Z"
   },
   {
    "duration": 31,
    "start_time": "2023-01-22T13:58:16.444Z"
   },
   {
    "duration": 20,
    "start_time": "2023-01-22T13:58:16.477Z"
   },
   {
    "duration": 30,
    "start_time": "2023-01-22T13:58:16.498Z"
   },
   {
    "duration": 5,
    "start_time": "2023-01-22T13:58:16.531Z"
   },
   {
    "duration": 9,
    "start_time": "2023-01-22T13:58:16.538Z"
   },
   {
    "duration": 8,
    "start_time": "2023-01-22T13:58:16.548Z"
   },
   {
    "duration": 25,
    "start_time": "2023-01-22T13:58:16.557Z"
   },
   {
    "duration": 41,
    "start_time": "2023-01-22T13:58:16.584Z"
   },
   {
    "duration": 37,
    "start_time": "2023-01-22T13:58:16.627Z"
   },
   {
    "duration": 470,
    "start_time": "2023-01-22T13:58:16.666Z"
   },
   {
    "duration": 2962,
    "start_time": "2023-01-22T13:58:17.137Z"
   },
   {
    "duration": 322,
    "start_time": "2023-01-22T13:58:20.101Z"
   },
   {
    "duration": 139,
    "start_time": "2023-01-22T13:58:26.689Z"
   },
   {
    "duration": 38,
    "start_time": "2023-01-22T14:02:52.902Z"
   },
   {
    "duration": 41,
    "start_time": "2023-01-22T14:03:16.601Z"
   },
   {
    "duration": 4,
    "start_time": "2023-01-22T14:04:41.168Z"
   },
   {
    "duration": 4,
    "start_time": "2023-01-22T14:05:46.933Z"
   },
   {
    "duration": 10,
    "start_time": "2023-01-22T14:05:55.493Z"
   },
   {
    "duration": 18,
    "start_time": "2023-01-22T14:06:06.798Z"
   },
   {
    "duration": 18,
    "start_time": "2023-01-22T14:06:26.185Z"
   },
   {
    "duration": 3,
    "start_time": "2023-01-22T14:06:47.490Z"
   },
   {
    "duration": 4,
    "start_time": "2023-01-22T14:06:50.021Z"
   },
   {
    "duration": 54,
    "start_time": "2023-01-22T14:06:50.027Z"
   },
   {
    "duration": 13,
    "start_time": "2023-01-22T14:06:50.082Z"
   },
   {
    "duration": 11,
    "start_time": "2023-01-22T14:06:50.097Z"
   },
   {
    "duration": 18,
    "start_time": "2023-01-22T14:06:50.110Z"
   },
   {
    "duration": 23,
    "start_time": "2023-01-22T14:06:50.130Z"
   },
   {
    "duration": 3,
    "start_time": "2023-01-22T14:06:50.155Z"
   },
   {
    "duration": 1845,
    "start_time": "2023-01-22T14:06:50.160Z"
   },
   {
    "duration": 51,
    "start_time": "2023-01-22T14:06:52.007Z"
   },
   {
    "duration": 4,
    "start_time": "2023-01-22T14:06:52.060Z"
   },
   {
    "duration": 12,
    "start_time": "2023-01-22T14:06:52.065Z"
   },
   {
    "duration": 18,
    "start_time": "2023-01-22T14:06:52.079Z"
   },
   {
    "duration": 29,
    "start_time": "2023-01-22T14:06:52.099Z"
   },
   {
    "duration": 5,
    "start_time": "2023-01-22T14:06:52.131Z"
   },
   {
    "duration": 12,
    "start_time": "2023-01-22T14:06:52.138Z"
   },
   {
    "duration": 7,
    "start_time": "2023-01-22T14:06:52.152Z"
   },
   {
    "duration": 25,
    "start_time": "2023-01-22T14:06:52.161Z"
   },
   {
    "duration": 40,
    "start_time": "2023-01-22T14:06:52.188Z"
   },
   {
    "duration": 30,
    "start_time": "2023-01-22T14:06:52.230Z"
   },
   {
    "duration": 452,
    "start_time": "2023-01-22T14:06:52.262Z"
   },
   {
    "duration": 3043,
    "start_time": "2023-01-22T14:06:52.721Z"
   },
   {
    "duration": 161,
    "start_time": "2023-01-22T14:06:55.765Z"
   },
   {
    "duration": 95,
    "start_time": "2023-01-22T14:06:55.928Z"
   },
   {
    "duration": 104,
    "start_time": "2023-01-22T14:06:56.025Z"
   },
   {
    "duration": 5,
    "start_time": "2023-01-22T14:08:26.735Z"
   },
   {
    "duration": 11,
    "start_time": "2023-01-22T14:08:42.354Z"
   },
   {
    "duration": 409,
    "start_time": "2023-01-22T14:10:28.838Z"
   },
   {
    "duration": 115,
    "start_time": "2023-01-22T14:11:40.832Z"
   },
   {
    "duration": 4443,
    "start_time": "2023-01-22T14:11:49.297Z"
   },
   {
    "duration": 6665,
    "start_time": "2023-01-22T14:12:57.994Z"
   },
   {
    "duration": 239,
    "start_time": "2023-01-22T14:13:33.663Z"
   },
   {
    "duration": 10,
    "start_time": "2023-01-22T14:24:19.334Z"
   },
   {
    "duration": 6231,
    "start_time": "2023-01-22T14:24:30.129Z"
   },
   {
    "duration": 4384,
    "start_time": "2023-01-22T14:25:06.021Z"
   },
   {
    "duration": 36,
    "start_time": "2023-01-22T14:27:56.147Z"
   },
   {
    "duration": 22,
    "start_time": "2023-01-22T14:33:07.735Z"
   },
   {
    "duration": 7,
    "start_time": "2023-01-22T14:33:08.214Z"
   },
   {
    "duration": 21,
    "start_time": "2023-01-22T14:33:09.182Z"
   },
   {
    "duration": 416,
    "start_time": "2023-01-22T14:37:15.961Z"
   },
   {
    "duration": 6483,
    "start_time": "2023-01-22T14:38:03.345Z"
   },
   {
    "duration": 561,
    "start_time": "2023-01-22T14:38:16.830Z"
   },
   {
    "duration": 455,
    "start_time": "2023-01-22T14:38:20.536Z"
   },
   {
    "duration": 780,
    "start_time": "2023-01-22T14:38:24.416Z"
   },
   {
    "duration": 689,
    "start_time": "2023-01-22T14:38:42.639Z"
   },
   {
    "duration": 718,
    "start_time": "2023-01-22T14:38:47.440Z"
   },
   {
    "duration": 6528,
    "start_time": "2023-01-22T14:39:14.616Z"
   },
   {
    "duration": 6665,
    "start_time": "2023-01-22T14:39:28.586Z"
   },
   {
    "duration": 8367,
    "start_time": "2023-01-22T14:39:39.683Z"
   },
   {
    "duration": 45,
    "start_time": "2023-01-22T14:40:02.348Z"
   },
   {
    "duration": 6627,
    "start_time": "2023-01-22T14:40:05.615Z"
   },
   {
    "duration": 7017,
    "start_time": "2023-01-22T14:40:14.834Z"
   },
   {
    "duration": 789,
    "start_time": "2023-01-22T14:40:50.416Z"
   },
   {
    "duration": 6953,
    "start_time": "2023-01-22T14:40:54.173Z"
   },
   {
    "duration": 4186,
    "start_time": "2023-01-22T14:43:13.324Z"
   },
   {
    "duration": 8285,
    "start_time": "2023-01-22T14:43:22.389Z"
   },
   {
    "duration": 206,
    "start_time": "2023-01-22T14:45:08.319Z"
   },
   {
    "duration": 1144,
    "start_time": "2023-01-22T18:48:00.245Z"
   },
   {
    "duration": 88,
    "start_time": "2023-01-22T18:48:01.391Z"
   },
   {
    "duration": 13,
    "start_time": "2023-01-22T18:48:01.481Z"
   },
   {
    "duration": 52,
    "start_time": "2023-01-22T18:48:01.496Z"
   },
   {
    "duration": 70,
    "start_time": "2023-01-22T18:48:01.550Z"
   },
   {
    "duration": 54,
    "start_time": "2023-01-22T18:48:01.622Z"
   },
   {
    "duration": 69,
    "start_time": "2023-01-22T18:48:01.677Z"
   },
   {
    "duration": 2332,
    "start_time": "2023-01-22T18:48:01.748Z"
   },
   {
    "duration": 36,
    "start_time": "2023-01-22T18:48:04.082Z"
   },
   {
    "duration": 5,
    "start_time": "2023-01-22T18:48:04.139Z"
   },
   {
    "duration": 30,
    "start_time": "2023-01-22T18:48:04.146Z"
   },
   {
    "duration": 28,
    "start_time": "2023-01-22T18:48:04.178Z"
   },
   {
    "duration": 28,
    "start_time": "2023-01-22T18:48:04.208Z"
   },
   {
    "duration": 16,
    "start_time": "2023-01-22T18:48:04.238Z"
   },
   {
    "duration": 12,
    "start_time": "2023-01-22T18:48:04.256Z"
   },
   {
    "duration": 31,
    "start_time": "2023-01-22T18:48:04.270Z"
   },
   {
    "duration": 36,
    "start_time": "2023-01-22T18:48:04.302Z"
   },
   {
    "duration": 11,
    "start_time": "2023-01-22T18:48:04.340Z"
   },
   {
    "duration": 41,
    "start_time": "2023-01-22T18:48:04.353Z"
   },
   {
    "duration": 803,
    "start_time": "2023-01-22T18:48:04.396Z"
   },
   {
    "duration": 7107,
    "start_time": "2023-01-22T18:48:05.201Z"
   },
   {
    "duration": 8768,
    "start_time": "2023-01-22T18:48:12.310Z"
   },
   {
    "duration": 263,
    "start_time": "2023-01-22T18:48:21.080Z"
   },
   {
    "duration": 94,
    "start_time": "2023-01-22T18:48:21.346Z"
   },
   {
    "duration": 35,
    "start_time": "2023-01-22T18:48:21.442Z"
   },
   {
    "duration": 26,
    "start_time": "2023-01-22T18:48:21.479Z"
   },
   {
    "duration": 27,
    "start_time": "2023-01-22T18:48:21.507Z"
   },
   {
    "duration": 435,
    "start_time": "2023-01-22T18:48:21.537Z"
   },
   {
    "duration": 4737,
    "start_time": "2023-01-22T18:48:21.974Z"
   },
   {
    "duration": 7146,
    "start_time": "2023-01-22T18:48:26.713Z"
   },
   {
    "duration": 276,
    "start_time": "2023-01-22T18:48:33.861Z"
   },
   {
    "duration": 38,
    "start_time": "2023-01-22T18:48:34.140Z"
   },
   {
    "duration": 3148,
    "start_time": "2023-01-22T18:51:19.465Z"
   },
   {
    "duration": 5748,
    "start_time": "2023-01-22T18:53:40.081Z"
   },
   {
    "duration": 3557,
    "start_time": "2023-01-22T18:54:05.859Z"
   },
   {
    "duration": 54,
    "start_time": "2023-01-22T18:54:21.216Z"
   },
   {
    "duration": 54,
    "start_time": "2023-01-22T18:55:00.702Z"
   },
   {
    "duration": 101,
    "start_time": "2023-01-22T18:55:24.256Z"
   },
   {
    "duration": 4287,
    "start_time": "2023-01-22T18:58:29.345Z"
   },
   {
    "duration": 3258,
    "start_time": "2023-01-22T18:58:38.557Z"
   },
   {
    "duration": 153,
    "start_time": "2023-01-22T19:01:08.760Z"
   },
   {
    "duration": 4,
    "start_time": "2023-01-22T19:01:34.518Z"
   },
   {
    "duration": 4,
    "start_time": "2023-01-22T19:01:38.474Z"
   },
   {
    "duration": 55,
    "start_time": "2023-01-22T19:01:38.481Z"
   },
   {
    "duration": 11,
    "start_time": "2023-01-22T19:01:38.538Z"
   },
   {
    "duration": 16,
    "start_time": "2023-01-22T19:01:38.551Z"
   },
   {
    "duration": 17,
    "start_time": "2023-01-22T19:01:38.568Z"
   },
   {
    "duration": 40,
    "start_time": "2023-01-22T19:01:38.586Z"
   },
   {
    "duration": 11,
    "start_time": "2023-01-22T19:01:38.628Z"
   },
   {
    "duration": 1857,
    "start_time": "2023-01-22T19:01:38.641Z"
   },
   {
    "duration": 41,
    "start_time": "2023-01-22T19:01:40.499Z"
   },
   {
    "duration": 4,
    "start_time": "2023-01-22T19:01:40.543Z"
   },
   {
    "duration": 32,
    "start_time": "2023-01-22T19:01:40.549Z"
   },
   {
    "duration": 19,
    "start_time": "2023-01-22T19:01:40.583Z"
   },
   {
    "duration": 18,
    "start_time": "2023-01-22T19:01:40.604Z"
   },
   {
    "duration": 18,
    "start_time": "2023-01-22T19:01:40.623Z"
   },
   {
    "duration": 9,
    "start_time": "2023-01-22T19:01:40.642Z"
   },
   {
    "duration": 9,
    "start_time": "2023-01-22T19:01:40.652Z"
   },
   {
    "duration": 23,
    "start_time": "2023-01-22T19:01:40.663Z"
   },
   {
    "duration": 7,
    "start_time": "2023-01-22T19:01:40.688Z"
   },
   {
    "duration": 43,
    "start_time": "2023-01-22T19:01:40.697Z"
   },
   {
    "duration": 760,
    "start_time": "2023-01-22T19:01:40.742Z"
   },
   {
    "duration": 6873,
    "start_time": "2023-01-22T19:01:41.504Z"
   },
   {
    "duration": 8405,
    "start_time": "2023-01-22T19:01:48.378Z"
   },
   {
    "duration": 260,
    "start_time": "2023-01-22T19:01:56.784Z"
   },
   {
    "duration": 96,
    "start_time": "2023-01-22T19:01:57.046Z"
   },
   {
    "duration": 41,
    "start_time": "2023-01-22T19:01:57.143Z"
   },
   {
    "duration": 15,
    "start_time": "2023-01-22T19:01:57.186Z"
   },
   {
    "duration": 46,
    "start_time": "2023-01-22T19:01:57.202Z"
   },
   {
    "duration": 443,
    "start_time": "2023-01-22T19:01:57.251Z"
   },
   {
    "duration": 4590,
    "start_time": "2023-01-22T19:01:57.696Z"
   },
   {
    "duration": 3258,
    "start_time": "2023-01-22T19:02:02.289Z"
   },
   {
    "duration": 55,
    "start_time": "2023-01-22T19:02:05.549Z"
   },
   {
    "duration": 52,
    "start_time": "2023-01-22T19:02:05.606Z"
   },
   {
    "duration": 187,
    "start_time": "2023-01-22T19:02:05.660Z"
   },
   {
    "duration": 8,
    "start_time": "2023-01-22T19:05:56.193Z"
   },
   {
    "duration": 11,
    "start_time": "2023-01-22T19:07:12.217Z"
   },
   {
    "duration": 1257,
    "start_time": "2023-01-23T08:26:33.752Z"
   },
   {
    "duration": 193,
    "start_time": "2023-01-23T08:26:35.011Z"
   },
   {
    "duration": 12,
    "start_time": "2023-01-23T08:26:35.205Z"
   },
   {
    "duration": 12,
    "start_time": "2023-01-23T08:26:35.219Z"
   },
   {
    "duration": 17,
    "start_time": "2023-01-23T08:26:35.234Z"
   },
   {
    "duration": 43,
    "start_time": "2023-01-23T08:26:35.252Z"
   },
   {
    "duration": 3,
    "start_time": "2023-01-23T08:26:35.297Z"
   },
   {
    "duration": 2071,
    "start_time": "2023-01-23T08:26:35.303Z"
   },
   {
    "duration": 27,
    "start_time": "2023-01-23T08:26:37.377Z"
   },
   {
    "duration": 5,
    "start_time": "2023-01-23T08:26:37.405Z"
   },
   {
    "duration": 35,
    "start_time": "2023-01-23T08:26:37.412Z"
   },
   {
    "duration": 24,
    "start_time": "2023-01-23T08:26:37.449Z"
   },
   {
    "duration": 17,
    "start_time": "2023-01-23T08:26:37.475Z"
   },
   {
    "duration": 11,
    "start_time": "2023-01-23T08:26:37.495Z"
   },
   {
    "duration": 7,
    "start_time": "2023-01-23T08:26:37.508Z"
   },
   {
    "duration": 30,
    "start_time": "2023-01-23T08:26:37.516Z"
   },
   {
    "duration": 20,
    "start_time": "2023-01-23T08:26:37.548Z"
   },
   {
    "duration": 39,
    "start_time": "2023-01-23T08:26:37.569Z"
   },
   {
    "duration": 33,
    "start_time": "2023-01-23T08:26:37.610Z"
   },
   {
    "duration": 17,
    "start_time": "2023-01-23T08:26:37.645Z"
   },
   {
    "duration": 5,
    "start_time": "2023-01-23T08:27:19.089Z"
   },
   {
    "duration": 15,
    "start_time": "2023-01-23T08:27:25.376Z"
   },
   {
    "duration": 1073,
    "start_time": "2023-01-28T07:43:20.995Z"
   },
   {
    "duration": 3,
    "start_time": "2023-01-28T08:06:26.266Z"
   },
   {
    "duration": 109,
    "start_time": "2023-01-28T08:06:43.029Z"
   },
   {
    "duration": 4,
    "start_time": "2023-01-28T08:06:47.255Z"
   },
   {
    "duration": 119,
    "start_time": "2023-01-28T08:06:47.262Z"
   },
   {
    "duration": 12,
    "start_time": "2023-01-28T08:06:47.383Z"
   },
   {
    "duration": 26,
    "start_time": "2023-01-28T08:06:47.397Z"
   },
   {
    "duration": 31,
    "start_time": "2023-01-28T08:06:47.425Z"
   },
   {
    "duration": 42,
    "start_time": "2023-01-28T08:06:47.458Z"
   },
   {
    "duration": 31,
    "start_time": "2023-01-28T08:06:47.502Z"
   },
   {
    "duration": 2758,
    "start_time": "2023-01-28T08:06:47.535Z"
   },
   {
    "duration": 29,
    "start_time": "2023-01-28T08:06:50.295Z"
   },
   {
    "duration": 17,
    "start_time": "2023-01-28T08:06:50.343Z"
   },
   {
    "duration": 44,
    "start_time": "2023-01-28T08:06:50.362Z"
   },
   {
    "duration": 45,
    "start_time": "2023-01-28T08:06:50.408Z"
   },
   {
    "duration": 58,
    "start_time": "2023-01-28T08:06:50.455Z"
   },
   {
    "duration": 61,
    "start_time": "2023-01-28T08:06:50.517Z"
   },
   {
    "duration": 51,
    "start_time": "2023-01-28T08:06:50.580Z"
   },
   {
    "duration": 45,
    "start_time": "2023-01-28T08:06:50.632Z"
   },
   {
    "duration": 29,
    "start_time": "2023-01-28T08:06:50.680Z"
   },
   {
    "duration": 30,
    "start_time": "2023-01-28T08:06:50.713Z"
   },
   {
    "duration": 88,
    "start_time": "2023-01-28T08:06:50.745Z"
   },
   {
    "duration": 882,
    "start_time": "2023-01-28T08:06:50.836Z"
   },
   {
    "duration": 7792,
    "start_time": "2023-01-28T08:06:51.720Z"
   },
   {
    "duration": 9210,
    "start_time": "2023-01-28T08:06:59.514Z"
   },
   {
    "duration": 222,
    "start_time": "2023-01-28T08:07:08.726Z"
   },
   {
    "duration": 7,
    "start_time": "2023-01-28T08:07:08.950Z"
   },
   {
    "duration": 129,
    "start_time": "2023-01-28T08:07:08.960Z"
   },
   {
    "duration": 16,
    "start_time": "2023-01-28T08:07:09.092Z"
   },
   {
    "duration": 49,
    "start_time": "2023-01-28T08:07:09.110Z"
   },
   {
    "duration": 455,
    "start_time": "2023-01-28T08:07:09.161Z"
   },
   {
    "duration": 4846,
    "start_time": "2023-01-28T08:07:09.618Z"
   },
   {
    "duration": 3320,
    "start_time": "2023-01-28T08:07:14.466Z"
   },
   {
    "duration": 67,
    "start_time": "2023-01-28T08:07:17.788Z"
   },
   {
    "duration": 90,
    "start_time": "2023-01-28T08:07:17.858Z"
   },
   {
    "duration": 103,
    "start_time": "2023-01-28T08:07:17.951Z"
   },
   {
    "duration": 22,
    "start_time": "2023-01-28T08:07:18.059Z"
   },
   {
    "duration": 56,
    "start_time": "2023-01-28T08:07:18.084Z"
   },
   {
    "duration": 3,
    "start_time": "2023-01-28T08:08:58.366Z"
   },
   {
    "duration": 7,
    "start_time": "2023-01-28T08:09:00.739Z"
   },
   {
    "duration": 3,
    "start_time": "2023-01-28T08:09:20.773Z"
   },
   {
    "duration": 6,
    "start_time": "2023-01-28T08:09:30.752Z"
   },
   {
    "duration": 4,
    "start_time": "2023-01-28T08:09:33.631Z"
   },
   {
    "duration": 6,
    "start_time": "2023-01-28T08:09:36.273Z"
   },
   {
    "duration": 54,
    "start_time": "2023-01-28T08:09:36.283Z"
   },
   {
    "duration": 18,
    "start_time": "2023-01-28T08:09:36.339Z"
   },
   {
    "duration": 12,
    "start_time": "2023-01-28T08:09:36.359Z"
   },
   {
    "duration": 12,
    "start_time": "2023-01-28T08:09:36.373Z"
   },
   {
    "duration": 22,
    "start_time": "2023-01-28T08:09:36.386Z"
   },
   {
    "duration": 30,
    "start_time": "2023-01-28T08:09:36.410Z"
   },
   {
    "duration": 1952,
    "start_time": "2023-01-28T08:09:36.444Z"
   },
   {
    "duration": 45,
    "start_time": "2023-01-28T08:09:38.398Z"
   },
   {
    "duration": 9,
    "start_time": "2023-01-28T08:09:38.445Z"
   },
   {
    "duration": 20,
    "start_time": "2023-01-28T08:09:38.457Z"
   },
   {
    "duration": 18,
    "start_time": "2023-01-28T08:09:38.479Z"
   },
   {
    "duration": 22,
    "start_time": "2023-01-28T08:09:38.498Z"
   },
   {
    "duration": 8,
    "start_time": "2023-01-28T08:09:38.539Z"
   },
   {
    "duration": 16,
    "start_time": "2023-01-28T08:09:38.550Z"
   },
   {
    "duration": 6,
    "start_time": "2023-01-28T08:09:38.568Z"
   },
   {
    "duration": 9,
    "start_time": "2023-01-28T08:09:38.575Z"
   },
   {
    "duration": 8,
    "start_time": "2023-01-28T08:09:38.585Z"
   },
   {
    "duration": 28,
    "start_time": "2023-01-28T08:09:38.595Z"
   },
   {
    "duration": 849,
    "start_time": "2023-01-28T08:09:38.624Z"
   },
   {
    "duration": 7240,
    "start_time": "2023-01-28T08:09:39.475Z"
   },
   {
    "duration": 9318,
    "start_time": "2023-01-28T08:09:46.717Z"
   },
   {
    "duration": 123,
    "start_time": "2023-01-28T08:09:56.040Z"
   },
   {
    "duration": 6,
    "start_time": "2023-01-28T08:09:56.244Z"
   },
   {
    "duration": 41,
    "start_time": "2023-01-28T08:09:56.339Z"
   },
   {
    "duration": 6,
    "start_time": "2023-01-28T08:09:56.382Z"
   },
   {
    "duration": 37,
    "start_time": "2023-01-28T08:09:56.389Z"
   },
   {
    "duration": 444,
    "start_time": "2023-01-28T08:09:56.428Z"
   },
   {
    "duration": 4934,
    "start_time": "2023-01-28T08:09:56.874Z"
   },
   {
    "duration": 3408,
    "start_time": "2023-01-28T08:10:01.811Z"
   },
   {
    "duration": 68,
    "start_time": "2023-01-28T08:10:05.221Z"
   },
   {
    "duration": 54,
    "start_time": "2023-01-28T08:10:05.291Z"
   },
   {
    "duration": 106,
    "start_time": "2023-01-28T08:10:05.347Z"
   },
   {
    "duration": 9,
    "start_time": "2023-01-28T08:10:05.457Z"
   },
   {
    "duration": 77,
    "start_time": "2023-01-28T08:10:05.467Z"
   },
   {
    "duration": 3,
    "start_time": "2023-01-28T08:14:07.363Z"
   },
   {
    "duration": 32,
    "start_time": "2023-01-28T08:16:11.445Z"
   },
   {
    "duration": 7562,
    "start_time": "2023-01-28T08:16:56.752Z"
   },
   {
    "duration": 2542,
    "start_time": "2023-01-28T08:18:17.301Z"
   },
   {
    "duration": 2359,
    "start_time": "2023-01-28T08:19:30.423Z"
   },
   {
    "duration": 2468,
    "start_time": "2023-01-28T08:19:56.226Z"
   },
   {
    "duration": 2416,
    "start_time": "2023-01-28T08:20:10.171Z"
   },
   {
    "duration": 2711,
    "start_time": "2023-01-28T08:29:10.498Z"
   },
   {
    "duration": 2676,
    "start_time": "2023-01-28T08:31:38.654Z"
   },
   {
    "duration": 2825,
    "start_time": "2023-01-28T08:32:08.526Z"
   },
   {
    "duration": 5,
    "start_time": "2023-01-28T08:48:20.564Z"
   },
   {
    "duration": 14,
    "start_time": "2023-01-28T08:48:20.944Z"
   },
   {
    "duration": 389,
    "start_time": "2023-01-28T08:52:24.227Z"
   },
   {
    "duration": 377,
    "start_time": "2023-01-28T08:52:37.340Z"
   },
   {
    "duration": 330,
    "start_time": "2023-01-28T08:55:49.747Z"
   },
   {
    "duration": 387,
    "start_time": "2023-01-28T08:55:52.370Z"
   },
   {
    "duration": 1582,
    "start_time": "2023-01-28T13:04:29.109Z"
   },
   {
    "duration": 109,
    "start_time": "2023-01-28T13:04:47.054Z"
   },
   {
    "duration": 5,
    "start_time": "2023-01-28T13:04:50.841Z"
   },
   {
    "duration": 101,
    "start_time": "2023-01-28T13:04:50.848Z"
   },
   {
    "duration": 12,
    "start_time": "2023-01-28T13:04:50.951Z"
   },
   {
    "duration": 18,
    "start_time": "2023-01-28T13:04:50.964Z"
   },
   {
    "duration": 53,
    "start_time": "2023-01-28T13:04:50.985Z"
   },
   {
    "duration": 22,
    "start_time": "2023-01-28T13:04:51.040Z"
   },
   {
    "duration": 20,
    "start_time": "2023-01-28T13:04:51.063Z"
   },
   {
    "duration": 1719,
    "start_time": "2023-01-28T13:04:51.085Z"
   },
   {
    "duration": 37,
    "start_time": "2023-01-28T13:04:52.806Z"
   },
   {
    "duration": 4,
    "start_time": "2023-01-28T13:04:52.845Z"
   },
   {
    "duration": 25,
    "start_time": "2023-01-28T13:04:52.850Z"
   },
   {
    "duration": 22,
    "start_time": "2023-01-28T13:04:52.876Z"
   },
   {
    "duration": 31,
    "start_time": "2023-01-28T13:04:52.899Z"
   },
   {
    "duration": 10,
    "start_time": "2023-01-28T13:04:52.933Z"
   },
   {
    "duration": 25,
    "start_time": "2023-01-28T13:04:52.944Z"
   },
   {
    "duration": 19,
    "start_time": "2023-01-28T13:04:52.971Z"
   },
   {
    "duration": 32,
    "start_time": "2023-01-28T13:04:52.991Z"
   },
   {
    "duration": 25,
    "start_time": "2023-01-28T13:04:53.025Z"
   },
   {
    "duration": 33,
    "start_time": "2023-01-28T13:04:53.052Z"
   },
   {
    "duration": 0,
    "start_time": "2023-01-28T13:04:53.087Z"
   },
   {
    "duration": 0,
    "start_time": "2023-01-28T13:04:53.088Z"
   },
   {
    "duration": 0,
    "start_time": "2023-01-28T13:04:53.089Z"
   },
   {
    "duration": 0,
    "start_time": "2023-01-28T13:04:53.090Z"
   },
   {
    "duration": 0,
    "start_time": "2023-01-28T13:04:53.091Z"
   },
   {
    "duration": 0,
    "start_time": "2023-01-28T13:04:53.092Z"
   },
   {
    "duration": 0,
    "start_time": "2023-01-28T13:04:53.093Z"
   },
   {
    "duration": 0,
    "start_time": "2023-01-28T13:04:53.094Z"
   },
   {
    "duration": 0,
    "start_time": "2023-01-28T13:04:53.095Z"
   },
   {
    "duration": 0,
    "start_time": "2023-01-28T13:04:53.096Z"
   },
   {
    "duration": 0,
    "start_time": "2023-01-28T13:04:53.097Z"
   },
   {
    "duration": 0,
    "start_time": "2023-01-28T13:04:53.098Z"
   },
   {
    "duration": 0,
    "start_time": "2023-01-28T13:04:53.099Z"
   },
   {
    "duration": 0,
    "start_time": "2023-01-28T13:04:53.100Z"
   },
   {
    "duration": 0,
    "start_time": "2023-01-28T13:04:53.100Z"
   },
   {
    "duration": 0,
    "start_time": "2023-01-28T13:04:53.101Z"
   },
   {
    "duration": 3,
    "start_time": "2023-01-28T13:05:10.589Z"
   },
   {
    "duration": 46,
    "start_time": "2023-01-28T13:05:55.321Z"
   },
   {
    "duration": 17,
    "start_time": "2023-01-28T13:06:07.853Z"
   },
   {
    "duration": 14,
    "start_time": "2023-01-28T13:06:13.801Z"
   },
   {
    "duration": 5,
    "start_time": "2023-01-28T13:06:21.784Z"
   },
   {
    "duration": 44,
    "start_time": "2023-01-28T13:06:21.791Z"
   },
   {
    "duration": 11,
    "start_time": "2023-01-28T13:06:21.837Z"
   },
   {
    "duration": 11,
    "start_time": "2023-01-28T13:06:21.851Z"
   },
   {
    "duration": 66,
    "start_time": "2023-01-28T13:06:21.864Z"
   },
   {
    "duration": 21,
    "start_time": "2023-01-28T13:06:21.932Z"
   },
   {
    "duration": 3,
    "start_time": "2023-01-28T13:06:21.955Z"
   },
   {
    "duration": 1777,
    "start_time": "2023-01-28T13:06:21.959Z"
   },
   {
    "duration": 26,
    "start_time": "2023-01-28T13:06:23.737Z"
   },
   {
    "duration": 5,
    "start_time": "2023-01-28T13:06:23.765Z"
   },
   {
    "duration": 26,
    "start_time": "2023-01-28T13:06:23.771Z"
   },
   {
    "duration": 30,
    "start_time": "2023-01-28T13:06:23.799Z"
   },
   {
    "duration": 19,
    "start_time": "2023-01-28T13:06:23.831Z"
   },
   {
    "duration": 8,
    "start_time": "2023-01-28T13:06:23.852Z"
   },
   {
    "duration": 36,
    "start_time": "2023-01-28T13:06:23.861Z"
   },
   {
    "duration": 12,
    "start_time": "2023-01-28T13:06:23.898Z"
   },
   {
    "duration": 26,
    "start_time": "2023-01-28T13:06:23.912Z"
   },
   {
    "duration": 10,
    "start_time": "2023-01-28T13:06:23.940Z"
   },
   {
    "duration": 21,
    "start_time": "2023-01-28T13:06:23.952Z"
   },
   {
    "duration": 0,
    "start_time": "2023-01-28T13:06:23.975Z"
   },
   {
    "duration": 0,
    "start_time": "2023-01-28T13:06:23.976Z"
   },
   {
    "duration": 0,
    "start_time": "2023-01-28T13:06:23.977Z"
   },
   {
    "duration": 0,
    "start_time": "2023-01-28T13:06:23.978Z"
   },
   {
    "duration": 0,
    "start_time": "2023-01-28T13:06:23.979Z"
   },
   {
    "duration": 0,
    "start_time": "2023-01-28T13:06:23.980Z"
   },
   {
    "duration": 0,
    "start_time": "2023-01-28T13:06:23.981Z"
   },
   {
    "duration": 0,
    "start_time": "2023-01-28T13:06:23.982Z"
   },
   {
    "duration": 0,
    "start_time": "2023-01-28T13:06:23.983Z"
   },
   {
    "duration": 0,
    "start_time": "2023-01-28T13:06:23.984Z"
   },
   {
    "duration": 0,
    "start_time": "2023-01-28T13:06:23.985Z"
   },
   {
    "duration": 0,
    "start_time": "2023-01-28T13:06:23.986Z"
   },
   {
    "duration": 0,
    "start_time": "2023-01-28T13:06:23.987Z"
   },
   {
    "duration": 0,
    "start_time": "2023-01-28T13:06:23.987Z"
   },
   {
    "duration": 0,
    "start_time": "2023-01-28T13:06:23.989Z"
   },
   {
    "duration": 0,
    "start_time": "2023-01-28T13:06:23.990Z"
   },
   {
    "duration": 13,
    "start_time": "2023-01-28T13:07:05.912Z"
   },
   {
    "duration": 10,
    "start_time": "2023-01-28T13:07:28.610Z"
   },
   {
    "duration": 23,
    "start_time": "2023-01-28T13:07:30.724Z"
   },
   {
    "duration": 771,
    "start_time": "2023-01-28T13:07:49.391Z"
   },
   {
    "duration": 2578,
    "start_time": "2023-01-28T13:08:51.840Z"
   },
   {
    "duration": 312,
    "start_time": "2023-01-28T13:09:08.616Z"
   },
   {
    "duration": 12,
    "start_time": "2023-01-28T13:09:53.553Z"
   },
   {
    "duration": 4,
    "start_time": "2023-01-28T13:09:59.216Z"
   },
   {
    "duration": 11,
    "start_time": "2023-01-28T13:09:59.503Z"
   },
   {
    "duration": 4,
    "start_time": "2023-01-28T13:10:02.191Z"
   },
   {
    "duration": 10,
    "start_time": "2023-01-28T13:10:02.476Z"
   },
   {
    "duration": 593,
    "start_time": "2023-01-28T13:10:04.817Z"
   },
   {
    "duration": 1011,
    "start_time": "2023-01-28T13:10:25.622Z"
   },
   {
    "duration": 2127,
    "start_time": "2023-01-28T13:10:50.929Z"
   },
   {
    "duration": 3382,
    "start_time": "2023-01-28T13:11:18.362Z"
   },
   {
    "duration": 295,
    "start_time": "2023-01-28T13:11:57.735Z"
   },
   {
    "duration": 289,
    "start_time": "2023-01-28T13:12:02.545Z"
   },
   {
    "duration": 294,
    "start_time": "2023-01-28T13:12:23.234Z"
   },
   {
    "duration": 185,
    "start_time": "2023-01-28T13:12:32.048Z"
   },
   {
    "duration": 22,
    "start_time": "2023-01-28T13:12:43.271Z"
   },
   {
    "duration": 9,
    "start_time": "2023-01-28T13:12:48.426Z"
   },
   {
    "duration": 14,
    "start_time": "2023-01-28T13:12:52.957Z"
   },
   {
    "duration": 5,
    "start_time": "2023-01-28T13:13:18.804Z"
   },
   {
    "duration": 68,
    "start_time": "2023-01-28T13:13:33.987Z"
   },
   {
    "duration": 143,
    "start_time": "2023-01-28T13:13:50.445Z"
   },
   {
    "duration": 59,
    "start_time": "2023-01-28T19:03:15.360Z"
   },
   {
    "duration": 1642,
    "start_time": "2023-01-28T19:03:17.810Z"
   },
   {
    "duration": 185,
    "start_time": "2023-01-28T19:03:19.455Z"
   },
   {
    "duration": 14,
    "start_time": "2023-01-28T19:03:19.641Z"
   },
   {
    "duration": 14,
    "start_time": "2023-01-28T19:03:19.657Z"
   },
   {
    "duration": 68,
    "start_time": "2023-01-28T19:03:19.672Z"
   },
   {
    "duration": 21,
    "start_time": "2023-01-28T19:03:19.742Z"
   },
   {
    "duration": 3,
    "start_time": "2023-01-28T19:03:19.765Z"
   },
   {
    "duration": 1857,
    "start_time": "2023-01-28T19:03:19.770Z"
   },
   {
    "duration": 33,
    "start_time": "2023-01-28T19:03:21.629Z"
   },
   {
    "duration": 5,
    "start_time": "2023-01-28T19:03:21.665Z"
   },
   {
    "duration": 26,
    "start_time": "2023-01-28T19:03:21.672Z"
   },
   {
    "duration": 33,
    "start_time": "2023-01-28T19:03:21.700Z"
   },
   {
    "duration": 27,
    "start_time": "2023-01-28T19:03:21.735Z"
   },
   {
    "duration": 13,
    "start_time": "2023-01-28T19:03:21.764Z"
   },
   {
    "duration": 23,
    "start_time": "2023-01-28T19:03:21.779Z"
   },
   {
    "duration": 23,
    "start_time": "2023-01-28T19:03:21.804Z"
   },
   {
    "duration": 8,
    "start_time": "2023-01-28T19:03:21.829Z"
   },
   {
    "duration": 18,
    "start_time": "2023-01-28T19:03:21.839Z"
   },
   {
    "duration": 33,
    "start_time": "2023-01-28T19:03:21.859Z"
   },
   {
    "duration": 903,
    "start_time": "2023-01-28T19:03:21.894Z"
   },
   {
    "duration": 2974,
    "start_time": "2023-01-28T19:03:22.799Z"
   },
   {
    "duration": 248,
    "start_time": "2023-01-28T19:03:25.775Z"
   },
   {
    "duration": 5,
    "start_time": "2023-01-28T19:03:26.028Z"
   },
   {
    "duration": 106,
    "start_time": "2023-01-28T19:03:26.035Z"
   },
   {
    "duration": 6,
    "start_time": "2023-01-28T19:03:26.143Z"
   },
   {
    "duration": 18,
    "start_time": "2023-01-28T19:03:26.151Z"
   },
   {
    "duration": 743,
    "start_time": "2023-01-28T19:03:26.171Z"
   },
   {
    "duration": 1066,
    "start_time": "2023-01-28T19:03:26.920Z"
   },
   {
    "duration": 103792,
    "start_time": "2023-01-28T19:03:27.988Z"
   },
   {
    "duration": 174453,
    "start_time": "2023-01-28T19:05:11.782Z"
   },
   {
    "duration": 885,
    "start_time": "2023-01-28T19:08:06.237Z"
   },
   {
    "duration": 403,
    "start_time": "2023-01-28T19:08:07.124Z"
   },
   {
    "duration": 199,
    "start_time": "2023-01-28T19:08:07.530Z"
   },
   {
    "duration": 10,
    "start_time": "2023-01-28T19:08:07.731Z"
   },
   {
    "duration": 79,
    "start_time": "2023-01-28T19:08:07.743Z"
   },
   {
    "duration": 101,
    "start_time": "2023-01-28T19:08:07.824Z"
   },
   {
    "duration": 68,
    "start_time": "2023-01-28T19:08:07.927Z"
   },
   {
    "duration": 160,
    "start_time": "2023-01-28T19:08:07.997Z"
   },
   {
    "duration": 594,
    "start_time": "2023-01-28T19:15:12.707Z"
   },
   {
    "duration": 1181,
    "start_time": "2023-01-28T19:16:06.495Z"
   },
   {
    "duration": 1614,
    "start_time": "2023-01-28T19:16:11.896Z"
   },
   {
    "duration": 1368,
    "start_time": "2023-01-28T19:16:41.632Z"
   },
   {
    "duration": 1336,
    "start_time": "2023-01-28T19:16:46.525Z"
   },
   {
    "duration": 1324,
    "start_time": "2023-01-28T19:16:51.118Z"
   },
   {
    "duration": 1609,
    "start_time": "2023-01-28T19:16:55.738Z"
   },
   {
    "duration": 697913,
    "start_time": "2023-01-28T19:17:19.010Z"
   },
   {
    "duration": 262,
    "start_time": "2023-01-28T19:30:08.482Z"
   },
   {
    "duration": 513,
    "start_time": "2023-01-28T19:30:51.369Z"
   },
   {
    "duration": 561,
    "start_time": "2023-01-28T19:31:04.996Z"
   },
   {
    "duration": 547,
    "start_time": "2023-01-28T19:31:24.750Z"
   },
   {
    "duration": 708,
    "start_time": "2023-01-28T19:31:54.563Z"
   },
   {
    "duration": 872,
    "start_time": "2023-01-28T19:32:17.625Z"
   },
   {
    "duration": 950,
    "start_time": "2023-01-28T19:32:39.070Z"
   },
   {
    "duration": 1208,
    "start_time": "2023-01-28T19:33:05.815Z"
   },
   {
    "duration": 1314,
    "start_time": "2023-01-28T19:33:24.732Z"
   },
   {
    "duration": 1363,
    "start_time": "2023-01-28T19:33:28.566Z"
   },
   {
    "duration": 1456,
    "start_time": "2023-01-28T19:33:32.539Z"
   },
   {
    "duration": 1334,
    "start_time": "2023-01-28T19:33:46.361Z"
   },
   {
    "duration": 1490,
    "start_time": "2023-01-28T19:34:05.468Z"
   },
   {
    "duration": 1461,
    "start_time": "2023-01-28T19:34:09.604Z"
   },
   {
    "duration": 1526,
    "start_time": "2023-01-28T19:34:12.239Z"
   },
   {
    "duration": 1520,
    "start_time": "2023-01-28T19:34:16.857Z"
   },
   {
    "duration": 1395,
    "start_time": "2023-01-28T19:34:21.061Z"
   },
   {
    "duration": 1670,
    "start_time": "2023-01-28T19:34:38.976Z"
   },
   {
    "duration": 1550,
    "start_time": "2023-01-28T19:35:07.212Z"
   },
   {
    "duration": 1630,
    "start_time": "2023-01-28T19:35:11.899Z"
   },
   {
    "duration": 1871,
    "start_time": "2023-01-28T19:35:24.327Z"
   },
   {
    "duration": 1548,
    "start_time": "2023-01-28T19:35:46.920Z"
   },
   {
    "duration": 1635,
    "start_time": "2023-01-28T19:35:49.787Z"
   },
   {
    "duration": 1919,
    "start_time": "2023-01-28T19:35:53.759Z"
   },
   {
    "duration": 1919,
    "start_time": "2023-01-28T19:35:59.714Z"
   },
   {
    "duration": 1809,
    "start_time": "2023-01-28T19:36:05.546Z"
   },
   {
    "duration": 1861,
    "start_time": "2023-01-28T19:36:09.887Z"
   },
   {
    "duration": 1899,
    "start_time": "2023-01-28T19:36:15.573Z"
   },
   {
    "duration": 1712,
    "start_time": "2023-01-28T19:36:32.236Z"
   },
   {
    "duration": 1878,
    "start_time": "2023-01-28T19:36:45.329Z"
   },
   {
    "duration": 1923,
    "start_time": "2023-01-28T19:36:57.899Z"
   },
   {
    "duration": 1647,
    "start_time": "2023-01-28T19:37:01.850Z"
   },
   {
    "duration": 1783,
    "start_time": "2023-01-28T19:37:05.039Z"
   },
   {
    "duration": 1911,
    "start_time": "2023-01-28T19:37:18.338Z"
   },
   {
    "duration": 1799,
    "start_time": "2023-01-28T19:37:22.158Z"
   },
   {
    "duration": 2143,
    "start_time": "2023-01-28T19:37:25.617Z"
   },
   {
    "duration": 174660,
    "start_time": "2023-01-28T19:37:49.012Z"
   },
   {
    "duration": 1591,
    "start_time": "2023-01-29T11:10:25.545Z"
   },
   {
    "duration": 97,
    "start_time": "2023-01-29T11:10:27.137Z"
   },
   {
    "duration": 13,
    "start_time": "2023-01-29T11:10:27.236Z"
   },
   {
    "duration": 13,
    "start_time": "2023-01-29T11:10:27.251Z"
   },
   {
    "duration": 64,
    "start_time": "2023-01-29T11:10:27.265Z"
   },
   {
    "duration": 21,
    "start_time": "2023-01-29T11:10:27.331Z"
   },
   {
    "duration": 3,
    "start_time": "2023-01-29T11:10:27.354Z"
   },
   {
    "duration": 1667,
    "start_time": "2023-01-29T11:10:27.359Z"
   },
   {
    "duration": 27,
    "start_time": "2023-01-29T11:10:29.028Z"
   },
   {
    "duration": 4,
    "start_time": "2023-01-29T11:10:29.057Z"
   },
   {
    "duration": 16,
    "start_time": "2023-01-29T11:10:29.062Z"
   },
   {
    "duration": 40,
    "start_time": "2023-01-29T11:10:29.080Z"
   },
   {
    "duration": 39,
    "start_time": "2023-01-29T11:10:29.121Z"
   },
   {
    "duration": 5,
    "start_time": "2023-01-29T11:10:29.165Z"
   },
   {
    "duration": 13,
    "start_time": "2023-01-29T11:10:29.172Z"
   },
   {
    "duration": 9,
    "start_time": "2023-01-29T11:10:29.187Z"
   },
   {
    "duration": 12,
    "start_time": "2023-01-29T11:10:29.197Z"
   },
   {
    "duration": 32,
    "start_time": "2023-01-29T11:10:29.211Z"
   },
   {
    "duration": 22,
    "start_time": "2023-01-29T11:10:29.244Z"
   },
   {
    "duration": 960,
    "start_time": "2023-01-29T11:10:29.268Z"
   },
   {
    "duration": 2783,
    "start_time": "2023-01-29T11:10:30.230Z"
   },
   {
    "duration": 117,
    "start_time": "2023-01-29T11:10:33.015Z"
   },
   {
    "duration": 100,
    "start_time": "2023-01-29T11:10:33.210Z"
   },
   {
    "duration": 19,
    "start_time": "2023-01-29T11:10:33.313Z"
   },
   {
    "duration": 6,
    "start_time": "2023-01-29T11:10:33.334Z"
   },
   {
    "duration": 34,
    "start_time": "2023-01-29T11:10:33.342Z"
   },
   {
    "duration": 685,
    "start_time": "2023-01-29T11:10:33.378Z"
   },
   {
    "duration": 1153,
    "start_time": "2023-01-29T11:10:34.065Z"
   },
   {
    "duration": 101870,
    "start_time": "2023-01-29T11:10:35.220Z"
   },
   {
    "duration": 182486,
    "start_time": "2023-01-29T11:12:17.092Z"
   },
   {
    "duration": 138,
    "start_time": "2023-01-29T11:15:19.580Z"
   },
   {
    "duration": 199,
    "start_time": "2023-01-29T11:15:19.720Z"
   },
   {
    "duration": 246,
    "start_time": "2023-01-29T11:15:19.921Z"
   },
   {
    "duration": 7,
    "start_time": "2023-01-29T11:15:20.169Z"
   },
   {
    "duration": 68,
    "start_time": "2023-01-29T11:15:20.178Z"
   },
   {
    "duration": 70,
    "start_time": "2023-01-29T11:15:20.247Z"
   },
   {
    "duration": 1335,
    "start_time": "2023-01-29T11:19:24.202Z"
   },
   {
    "duration": 41,
    "start_time": "2023-01-29T11:19:25.539Z"
   },
   {
    "duration": 11,
    "start_time": "2023-01-29T11:19:25.582Z"
   },
   {
    "duration": 14,
    "start_time": "2023-01-29T11:19:25.595Z"
   },
   {
    "duration": 47,
    "start_time": "2023-01-29T11:19:25.610Z"
   },
   {
    "duration": 30,
    "start_time": "2023-01-29T11:19:25.659Z"
   },
   {
    "duration": 4,
    "start_time": "2023-01-29T11:19:25.690Z"
   },
   {
    "duration": 1770,
    "start_time": "2023-01-29T11:19:25.711Z"
   },
   {
    "duration": 39,
    "start_time": "2023-01-29T11:19:27.483Z"
   },
   {
    "duration": 4,
    "start_time": "2023-01-29T11:19:27.525Z"
   },
   {
    "duration": 19,
    "start_time": "2023-01-29T11:19:27.530Z"
   },
   {
    "duration": 18,
    "start_time": "2023-01-29T11:19:27.551Z"
   },
   {
    "duration": 42,
    "start_time": "2023-01-29T11:19:27.571Z"
   },
   {
    "duration": 5,
    "start_time": "2023-01-29T11:19:27.618Z"
   },
   {
    "duration": 16,
    "start_time": "2023-01-29T11:19:27.624Z"
   },
   {
    "duration": 6,
    "start_time": "2023-01-29T11:19:27.643Z"
   },
   {
    "duration": 8,
    "start_time": "2023-01-29T11:19:27.650Z"
   },
   {
    "duration": 12,
    "start_time": "2023-01-29T11:19:27.659Z"
   },
   {
    "duration": 40,
    "start_time": "2023-01-29T11:19:27.672Z"
   },
   {
    "duration": 935,
    "start_time": "2023-01-29T11:19:27.714Z"
   },
   {
    "duration": 2710,
    "start_time": "2023-01-29T11:19:28.650Z"
   },
   {
    "duration": 156,
    "start_time": "2023-01-29T11:19:31.361Z"
   },
   {
    "duration": 97,
    "start_time": "2023-01-29T11:19:31.519Z"
   },
   {
    "duration": 105,
    "start_time": "2023-01-29T11:19:31.617Z"
   },
   {
    "duration": 5,
    "start_time": "2023-01-29T11:19:31.724Z"
   },
   {
    "duration": 30,
    "start_time": "2023-01-29T11:19:31.731Z"
   },
   {
    "duration": 665,
    "start_time": "2023-01-29T11:19:31.763Z"
   },
   {
    "duration": 1166,
    "start_time": "2023-01-29T11:19:32.431Z"
   },
   {
    "duration": 102385,
    "start_time": "2023-01-29T11:19:33.599Z"
   },
   {
    "duration": 180685,
    "start_time": "2023-01-29T11:21:15.986Z"
   },
   {
    "duration": 239,
    "start_time": "2023-01-29T11:24:16.673Z"
   },
   {
    "duration": 397,
    "start_time": "2023-01-29T11:24:16.914Z"
   },
   {
    "duration": 181,
    "start_time": "2023-01-29T11:24:17.316Z"
   },
   {
    "duration": 8,
    "start_time": "2023-01-29T11:24:17.509Z"
   },
   {
    "duration": 10,
    "start_time": "2023-01-29T11:24:17.519Z"
   },
   {
    "duration": 186,
    "start_time": "2023-01-29T11:24:17.530Z"
   },
   {
    "duration": 177465,
    "start_time": "2023-01-29T11:24:17.718Z"
   },
   {
    "duration": 149,
    "start_time": "2023-01-29T11:27:15.185Z"
   },
   {
    "duration": 1546,
    "start_time": "2023-01-29T11:28:04.224Z"
   },
   {
    "duration": 1547,
    "start_time": "2023-01-29T11:28:06.968Z"
   },
   {
    "duration": 1711,
    "start_time": "2023-01-29T11:28:12.758Z"
   },
   {
    "duration": 1823,
    "start_time": "2023-01-29T11:28:18.732Z"
   },
   {
    "duration": 1699,
    "start_time": "2023-01-29T11:28:23.440Z"
   },
   {
    "duration": 1504,
    "start_time": "2023-01-29T11:28:29.938Z"
   },
   {
    "duration": 1614,
    "start_time": "2023-01-29T11:28:34.532Z"
   },
   {
    "duration": 1636,
    "start_time": "2023-01-29T11:28:38.231Z"
   },
   {
    "duration": 1756,
    "start_time": "2023-01-29T11:28:41.634Z"
   },
   {
    "duration": 139,
    "start_time": "2023-01-29T11:28:51.283Z"
   },
   {
    "duration": 83,
    "start_time": "2023-04-16T12:39:37.206Z"
   },
   {
    "duration": 1663,
    "start_time": "2023-04-16T12:40:32.482Z"
   },
   {
    "duration": 95,
    "start_time": "2023-04-16T12:40:34.147Z"
   },
   {
    "duration": 18,
    "start_time": "2023-04-16T12:40:34.244Z"
   },
   {
    "duration": 15,
    "start_time": "2023-04-16T12:40:34.264Z"
   },
   {
    "duration": 59,
    "start_time": "2023-04-16T12:40:34.281Z"
   },
   {
    "duration": 29,
    "start_time": "2023-04-16T12:40:34.342Z"
   },
   {
    "duration": 20,
    "start_time": "2023-04-16T12:40:34.373Z"
   },
   {
    "duration": 1949,
    "start_time": "2023-04-16T12:40:34.395Z"
   },
   {
    "duration": 28,
    "start_time": "2023-04-16T12:40:36.346Z"
   },
   {
    "duration": 19,
    "start_time": "2023-04-16T12:40:36.376Z"
   },
   {
    "duration": 17,
    "start_time": "2023-04-16T12:40:36.397Z"
   },
   {
    "duration": 19,
    "start_time": "2023-04-16T12:40:36.416Z"
   },
   {
    "duration": 28,
    "start_time": "2023-04-16T12:40:36.437Z"
   },
   {
    "duration": 24,
    "start_time": "2023-04-16T12:40:36.469Z"
   },
   {
    "duration": 12,
    "start_time": "2023-04-16T12:40:36.495Z"
   },
   {
    "duration": 6,
    "start_time": "2023-04-16T12:40:36.509Z"
   },
   {
    "duration": 3,
    "start_time": "2023-04-16T12:40:36.518Z"
   },
   {
    "duration": 14,
    "start_time": "2023-04-16T12:40:36.523Z"
   },
   {
    "duration": 67,
    "start_time": "2023-04-16T12:40:36.540Z"
   },
   {
    "duration": 940,
    "start_time": "2023-04-16T12:40:36.609Z"
   },
   {
    "duration": 2850,
    "start_time": "2023-04-16T12:40:37.551Z"
   },
   {
    "duration": 195,
    "start_time": "2023-04-16T12:40:40.403Z"
   },
   {
    "duration": 92,
    "start_time": "2023-04-16T12:40:40.602Z"
   },
   {
    "duration": 16,
    "start_time": "2023-04-16T12:40:40.696Z"
   },
   {
    "duration": 5,
    "start_time": "2023-04-16T12:40:40.715Z"
   },
   {
    "duration": 17,
    "start_time": "2023-04-16T12:40:40.722Z"
   },
   {
    "duration": 1252,
    "start_time": "2023-04-16T12:40:40.741Z"
   },
   {
    "duration": 2235,
    "start_time": "2023-04-16T12:40:41.995Z"
   },
   {
    "duration": 20455,
    "start_time": "2023-04-16T12:40:44.232Z"
   },
   {
    "duration": 32292,
    "start_time": "2023-04-16T12:41:04.694Z"
   },
   {
    "duration": 710,
    "start_time": "2023-04-16T12:41:36.988Z"
   },
   {
    "duration": 495,
    "start_time": "2023-04-16T12:41:37.700Z"
   },
   {
    "duration": 111,
    "start_time": "2023-04-16T12:41:38.197Z"
   },
   {
    "duration": 10,
    "start_time": "2023-04-16T12:41:38.311Z"
   },
   {
    "duration": 71,
    "start_time": "2023-04-16T12:41:38.322Z"
   },
   {
    "duration": 8,
    "start_time": "2023-04-16T12:41:38.396Z"
   },
   {
    "duration": 1799,
    "start_time": "2023-04-16T12:41:38.405Z"
   },
   {
    "duration": 153,
    "start_time": "2023-04-16T12:41:40.205Z"
   },
   {
    "duration": 101383,
    "start_time": "2023-04-16T12:47:38.205Z"
   },
   {
    "duration": 15756,
    "start_time": "2023-04-16T12:51:23.976Z"
   },
   {
    "duration": 25508,
    "start_time": "2023-04-16T12:52:01.987Z"
   }
  ],
  "kernelspec": {
   "display_name": "Python 3 (ipykernel)",
   "language": "python",
   "name": "python3"
  },
  "language_info": {
   "codemirror_mode": {
    "name": "ipython",
    "version": 3
   },
   "file_extension": ".py",
   "mimetype": "text/x-python",
   "name": "python",
   "nbconvert_exporter": "python",
   "pygments_lexer": "ipython3",
   "version": "3.9.13"
  },
  "toc": {
   "base_numbering": 1,
   "nav_menu": {},
   "number_sections": true,
   "sideBar": true,
   "skip_h1_title": true,
   "title_cell": "Содержание",
   "title_sidebar": "Contents",
   "toc_cell": true,
   "toc_position": {
    "height": "calc(100% - 180px)",
    "left": "10px",
    "top": "150px",
    "width": "408.889px"
   },
   "toc_section_display": true,
   "toc_window_display": false
  }
 },
 "nbformat": 4,
 "nbformat_minor": 2
}
