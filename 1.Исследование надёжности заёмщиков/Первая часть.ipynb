{
 "cells": [
  {
   "cell_type": "markdown",
   "id": "6a19b8c8",
   "metadata": {
    "deletable": false,
    "editable": false,
    "id": "c81daeeb"
   },
   "source": [
    "# Исследование надежности заемщиков"
   ]
  },
  {
   "cell_type": "markdown",
   "id": "dd7cedf3",
   "metadata": {
    "deletable": false,
    "editable": false,
    "id": "-G3EJWzf62s6"
   },
   "source": [
    "Это первая часть проекта, она будет проверена автоматически. Вторую часть проверит ревьюер. "
   ]
  },
  {
   "cell_type": "markdown",
   "id": "7bde67b3",
   "metadata": {
    "deletable": false,
    "editable": false,
    "id": "744d7639"
   },
   "source": [
    "## Откройте таблицу и изучите общую информацию о данных"
   ]
  },
  {
   "cell_type": "markdown",
   "id": "9f02dfad",
   "metadata": {
    "deletable": false,
    "editable": false,
    "id": "e7a14c31",
    "tags": [
     "start_task"
    ]
   },
   "source": [
    "**Задание 1. Импортируйте библиотеку pandas. Считайте данные из csv-файла в датафрейм и сохраните в переменную `data`. Путь к файлу:**\n",
    "\n",
    "`/datasets/data.csv`"
   ]
  },
  {
   "cell_type": "code",
   "execution_count": 1,
   "id": "f50bfba2",
   "metadata": {
    "id": "7bcf75c9"
   },
   "outputs": [],
   "source": [
    "import pandas as pd"
   ]
  },
  {
   "cell_type": "code",
   "execution_count": 2,
   "id": "67dfce3b",
   "metadata": {
    "id": "4d240ee2"
   },
   "outputs": [],
   "source": [
    "data = pd.read_csv('/datasets/data.csv')# прочитайте csv-файл"
   ]
  },
  {
   "cell_type": "markdown",
   "id": "8ac35aad",
   "metadata": {
    "deletable": false,
    "editable": false,
    "id": "b8038fe3",
    "tags": [
     "start_task"
    ]
   },
   "source": [
    "**Задание 2. Выведите первые 20 строчек датафрейма `data` на экран.**"
   ]
  },
  {
   "cell_type": "code",
   "execution_count": 3,
   "id": "e12a6057",
   "metadata": {
    "id": "2a7cab99"
   },
   "outputs": [
    {
     "name": "stdout",
     "output_type": "stream",
     "text": [
      "    children  days_employed  dob_years            education  education_id  \\\n",
      "0          1   -8437.673028         42               высшее             0   \n",
      "1          1   -4024.803754         36              среднее             1   \n",
      "2          0   -5623.422610         33              Среднее             1   \n",
      "3          3   -4124.747207         32              среднее             1   \n",
      "4          0  340266.072047         53              среднее             1   \n",
      "5          0    -926.185831         27               высшее             0   \n",
      "6          0   -2879.202052         43               высшее             0   \n",
      "7          0    -152.779569         50              СРЕДНЕЕ             1   \n",
      "8          2   -6929.865299         35               ВЫСШЕЕ             0   \n",
      "9          0   -2188.756445         41              среднее             1   \n",
      "10         2   -4171.483647         36               высшее             0   \n",
      "11         0    -792.701887         40              среднее             1   \n",
      "12         0            NaN         65              среднее             1   \n",
      "13         0   -1846.641941         54  неоконченное высшее             2   \n",
      "14         0   -1844.956182         56               высшее             0   \n",
      "15         1    -972.364419         26              среднее             1   \n",
      "16         0   -1719.934226         35              среднее             1   \n",
      "17         0   -2369.999720         33               высшее             0   \n",
      "18         0  400281.136913         53              среднее             1   \n",
      "19         0  -10038.818549         48              СРЕДНЕЕ             1   \n",
      "\n",
      "       family_status  family_status_id gender income_type  debt  \\\n",
      "0    женат / замужем                 0      F   сотрудник     0   \n",
      "1    женат / замужем                 0      F   сотрудник     0   \n",
      "2    женат / замужем                 0      M   сотрудник     0   \n",
      "3    женат / замужем                 0      M   сотрудник     0   \n",
      "4   гражданский брак                 1      F   пенсионер     0   \n",
      "5   гражданский брак                 1      M   компаньон     0   \n",
      "6    женат / замужем                 0      F   компаньон     0   \n",
      "7    женат / замужем                 0      M   сотрудник     0   \n",
      "8   гражданский брак                 1      F   сотрудник     0   \n",
      "9    женат / замужем                 0      M   сотрудник     0   \n",
      "10   женат / замужем                 0      M   компаньон     0   \n",
      "11   женат / замужем                 0      F   сотрудник     0   \n",
      "12  гражданский брак                 1      M   пенсионер     0   \n",
      "13   женат / замужем                 0      F   сотрудник     0   \n",
      "14  гражданский брак                 1      F   компаньон     1   \n",
      "15   женат / замужем                 0      F   сотрудник     0   \n",
      "16   женат / замужем                 0      F   сотрудник     0   \n",
      "17  гражданский брак                 1      M   сотрудник     0   \n",
      "18    вдовец / вдова                 2      F   пенсионер     0   \n",
      "19         в разводе                 3      F   сотрудник     0   \n",
      "\n",
      "     total_income                                 purpose  \n",
      "0   253875.639453                           покупка жилья  \n",
      "1   112080.014102                 приобретение автомобиля  \n",
      "2   145885.952297                           покупка жилья  \n",
      "3   267628.550329              дополнительное образование  \n",
      "4   158616.077870                         сыграть свадьбу  \n",
      "5   255763.565419                           покупка жилья  \n",
      "6   240525.971920                       операции с жильем  \n",
      "7   135823.934197                             образование  \n",
      "8    95856.832424                   на проведение свадьбы  \n",
      "9   144425.938277                 покупка жилья для семьи  \n",
      "10  113943.491460                    покупка недвижимости  \n",
      "11   77069.234271       покупка коммерческой недвижимости  \n",
      "12            NaN                         сыграть свадьбу  \n",
      "13  130458.228857                 приобретение автомобиля  \n",
      "14  165127.911772              покупка жилой недвижимости  \n",
      "15  116820.904450  строительство собственной недвижимости  \n",
      "16  289202.704229                            недвижимость  \n",
      "17   90410.586745              строительство недвижимости  \n",
      "18   56823.777243      на покупку подержанного автомобиля  \n",
      "19  242831.107982            на покупку своего автомобиля  \n"
     ]
    }
   ],
   "source": [
    "print(data.head(20))"
   ]
  },
  {
   "cell_type": "markdown",
   "id": "20ba94d0",
   "metadata": {
    "deletable": false,
    "editable": false,
    "id": "1c12e233",
    "tags": [
     "start_task"
    ]
   },
   "source": [
    "**Задание 3. Выведите основную информацию о датафрейме с помощью метода `info()`.**"
   ]
  },
  {
   "cell_type": "code",
   "execution_count": 4,
   "id": "e0a2b8b6",
   "metadata": {
    "id": "2b757bca"
   },
   "outputs": [
    {
     "name": "stdout",
     "output_type": "stream",
     "text": [
      "<class 'pandas.core.frame.DataFrame'>\n",
      "RangeIndex: 21525 entries, 0 to 21524\n",
      "Data columns (total 12 columns):\n",
      " #   Column            Non-Null Count  Dtype  \n",
      "---  ------            --------------  -----  \n",
      " 0   children          21525 non-null  int64  \n",
      " 1   days_employed     19351 non-null  float64\n",
      " 2   dob_years         21525 non-null  int64  \n",
      " 3   education         21525 non-null  object \n",
      " 4   education_id      21525 non-null  int64  \n",
      " 5   family_status     21525 non-null  object \n",
      " 6   family_status_id  21525 non-null  int64  \n",
      " 7   gender            21525 non-null  object \n",
      " 8   income_type       21525 non-null  object \n",
      " 9   debt              21525 non-null  int64  \n",
      " 10  total_income      19351 non-null  float64\n",
      " 11  purpose           21525 non-null  object \n",
      "dtypes: float64(2), int64(5), object(5)\n",
      "memory usage: 2.0+ MB\n"
     ]
    }
   ],
   "source": [
    "data.info()"
   ]
  },
  {
   "cell_type": "markdown",
   "id": "9c402b31",
   "metadata": {
    "deletable": false,
    "editable": false,
    "id": "333ec665"
   },
   "source": [
    "## Предобработка данных"
   ]
  },
  {
   "cell_type": "markdown",
   "id": "3e55dc36",
   "metadata": {
    "deletable": false,
    "editable": false,
    "id": "02d92d53"
   },
   "source": [
    "### Удаление пропусков"
   ]
  },
  {
   "cell_type": "markdown",
   "id": "aa5115fe",
   "metadata": {
    "deletable": false,
    "editable": false,
    "id": "cd84967c",
    "tags": [
     "start_task"
    ]
   },
   "source": [
    "**Задание 4. Выведите количество пропущенных значений для каждого столбца. Используйте комбинацию двух методов.**"
   ]
  },
  {
   "cell_type": "code",
   "execution_count": 5,
   "id": "9a9738ac",
   "metadata": {
    "id": "7f9b2309"
   },
   "outputs": [
    {
     "data": {
      "text/plain": [
       "children               0\n",
       "days_employed       2174\n",
       "dob_years              0\n",
       "education              0\n",
       "education_id           0\n",
       "family_status          0\n",
       "family_status_id       0\n",
       "gender                 0\n",
       "income_type            0\n",
       "debt                   0\n",
       "total_income        2174\n",
       "purpose                0\n",
       "dtype: int64"
      ]
     },
     "execution_count": 5,
     "metadata": {},
     "output_type": "execute_result"
    }
   ],
   "source": [
    "data.isna().sum()"
   ]
  },
  {
   "cell_type": "markdown",
   "id": "dc2bd9ba",
   "metadata": {
    "deletable": false,
    "editable": false,
    "id": "db86e27b",
    "tags": [
     "start_task"
    ]
   },
   "source": [
    "**Задание 5. В двух столбцах есть пропущенные значения. Один из них — `days_employed`. Пропуски в этом столбце вы обработаете на следующем этапе. Другой столбец с пропущенными значениями — `total_income` — хранит данные о доходах. На сумму дохода сильнее всего влияет тип занятости, поэтому заполнить пропуски в этом столбце нужно медианным значением по каждому типу из столбца `income_type`. Например, у человека с типом занятости `сотрудник` пропуск в столбце `total_income` должен быть заполнен медианным доходом среди всех записей с тем же типом.**"
   ]
  },
  {
   "cell_type": "code",
   "execution_count": 6,
   "id": "5eb1f01b",
   "metadata": {
    "id": "42006a93"
   },
   "outputs": [],
   "source": [
    "temp=data.groupby(by='income_type')['total_income'].transform('median')\n",
    "data['total_income']=data['total_income'].fillna(temp)\n"
   ]
  },
  {
   "cell_type": "markdown",
   "id": "aa2d0ee1",
   "metadata": {
    "deletable": false,
    "editable": false,
    "id": "89da5ece"
   },
   "source": [
    "### Обработка аномальных значений"
   ]
  },
  {
   "cell_type": "markdown",
   "id": "d5244a6c",
   "metadata": {
    "deletable": false,
    "editable": false,
    "id": "57964554",
    "tags": [
     "start_task"
    ]
   },
   "source": [
    "**Задание 6. В данных могут встречаться артефакты (аномалии) — значения, которые не отражают действительность и появились по какой-то ошибке. Таким артефактом будет отрицательное количество дней трудового стажа в столбце `days_employed`. Для реальных данных это нормально. Обработайте значения в этом столбце: замените все отрицательные значения положительными с помощью метода `abs()`.**"
   ]
  },
  {
   "cell_type": "code",
   "execution_count": 7,
   "id": "1c484fcd",
   "metadata": {
    "id": "f6f055bf"
   },
   "outputs": [],
   "source": [
    "data['days_employed']=data['days_employed'].abs()"
   ]
  },
  {
   "cell_type": "markdown",
   "id": "d6f0ffaf",
   "metadata": {
    "deletable": false,
    "editable": false,
    "id": "6107dd2f",
    "tags": [
     "start_task"
    ]
   },
   "source": [
    "**Задание 7. Для каждого типа занятости выведите медианное значение трудового стажа `days_employed` в днях.**"
   ]
  },
  {
   "cell_type": "code",
   "execution_count": 8,
   "id": "17065f40",
   "metadata": {
    "id": "85a5faf6"
   },
   "outputs": [
    {
     "data": {
      "text/plain": [
       "income_type\n",
       "безработный        366413.652744\n",
       "в декрете            3296.759962\n",
       "госслужащий          2689.368353\n",
       "компаньон            1547.382223\n",
       "пенсионер          365213.306266\n",
       "предприниматель       520.848083\n",
       "сотрудник            1574.202821\n",
       "студент               578.751554\n",
       "Name: days_employed, dtype: float64"
      ]
     },
     "execution_count": 8,
     "metadata": {},
     "output_type": "execute_result"
    }
   ],
   "source": [
    "data.groupby(by='income_type')['days_employed'].median()"
   ]
  },
  {
   "cell_type": "markdown",
   "id": "767b13b9",
   "metadata": {
    "deletable": false,
    "editable": false,
    "id": "38d1a030"
   },
   "source": [
    "У двух типов (безработные и пенсионеры) получатся аномально большие значения. Исправить такие значения сложно, поэтому оставьте их как есть. Тем более этот столбец не понадобится вам для исследования."
   ]
  },
  {
   "cell_type": "markdown",
   "id": "1edb0580",
   "metadata": {
    "deletable": false,
    "editable": false,
    "id": "d8a9f147",
    "tags": [
     "start_task"
    ]
   },
   "source": [
    "**Задание 8. Выведите перечень уникальных значений столбца `children`.**"
   ]
  },
  {
   "cell_type": "code",
   "execution_count": 9,
   "id": "6edabea1",
   "metadata": {
    "id": "ef5056eb"
   },
   "outputs": [
    {
     "data": {
      "text/plain": [
       "array([ 1,  0,  3,  2, -1,  4, 20,  5])"
      ]
     },
     "execution_count": 9,
     "metadata": {},
     "output_type": "execute_result"
    }
   ],
   "source": [
    "pd.unique(data['children'])"
   ]
  },
  {
   "cell_type": "markdown",
   "id": "f5946e32",
   "metadata": {
    "deletable": false,
    "editable": false,
    "id": "40b9ebf2",
    "tags": [
     "start_task"
    ]
   },
   "source": [
    "**Задание 9. В столбце `children` есть два аномальных значения. Удалите строки, в которых встречаются такие аномальные значения из датафрейма `data`.**"
   ]
  },
  {
   "cell_type": "code",
   "execution_count": 10,
   "id": "620b58eb",
   "metadata": {
    "id": "3ff9801d"
   },
   "outputs": [],
   "source": [
    "data=data[(data['children'] != -1) & (data['children'] != 20)]"
   ]
  },
  {
   "cell_type": "markdown",
   "id": "9562ede3",
   "metadata": {
    "deletable": false,
    "editable": false,
    "id": "bbc4d0ce",
    "tags": [
     "start_task"
    ]
   },
   "source": [
    "**Задание 10. Ещё раз выведите перечень уникальных значений столбца `children`, чтобы убедиться, что артефакты удалены.**"
   ]
  },
  {
   "cell_type": "code",
   "execution_count": 11,
   "id": "eda4c037",
   "metadata": {
    "id": "ad4fa8b7"
   },
   "outputs": [
    {
     "data": {
      "text/plain": [
       "array([1, 0, 3, 2, 4, 5])"
      ]
     },
     "execution_count": 11,
     "metadata": {},
     "output_type": "execute_result"
    }
   ],
   "source": [
    "pd.unique(data['children'])"
   ]
  },
  {
   "cell_type": "markdown",
   "id": "131e9592",
   "metadata": {
    "deletable": false,
    "editable": false,
    "id": "75440b63"
   },
   "source": [
    "### Удаление пропусков (продолжение)"
   ]
  },
  {
   "cell_type": "markdown",
   "id": "35e2476a",
   "metadata": {
    "deletable": false,
    "editable": false,
    "id": "f4ea573f",
    "tags": [
     "start_task"
    ]
   },
   "source": [
    "**Задание 11. Заполните пропуски в столбце `days_employed` медианными значениями по каждому типу занятости `income_type`.**"
   ]
  },
  {
   "cell_type": "code",
   "execution_count": 13,
   "id": "57338221",
   "metadata": {
    "id": "af6b1a7e"
   },
   "outputs": [],
   "source": [
    "temp=data.groupby(by='income_type')['days_employed'].transform('median')\n",
    "data['days_employed']=data['days_employed'].fillna(temp)\n"
   ]
  },
  {
   "cell_type": "markdown",
   "id": "19c8a83b",
   "metadata": {
    "deletable": false,
    "editable": false,
    "id": "2753f40d",
    "tags": [
     "start_task"
    ]
   },
   "source": [
    "**Задание 12. Убедитесь, что все пропуски заполнены. Проверьте себя и ещё раз выведите количество пропущенных значений для каждого столбца с помощью двух методов.**"
   ]
  },
  {
   "cell_type": "code",
   "execution_count": 14,
   "id": "2c92c334",
   "metadata": {
    "id": "55f78bc2"
   },
   "outputs": [
    {
     "name": "stdout",
     "output_type": "stream",
     "text": [
      "<class 'pandas.core.frame.DataFrame'>\n",
      "Int64Index: 21402 entries, 0 to 21524\n",
      "Data columns (total 12 columns):\n",
      " #   Column            Non-Null Count  Dtype  \n",
      "---  ------            --------------  -----  \n",
      " 0   children          21402 non-null  int64  \n",
      " 1   days_employed     21402 non-null  float64\n",
      " 2   dob_years         21402 non-null  int64  \n",
      " 3   education         21402 non-null  object \n",
      " 4   education_id      21402 non-null  int64  \n",
      " 5   family_status     21402 non-null  object \n",
      " 6   family_status_id  21402 non-null  int64  \n",
      " 7   gender            21402 non-null  object \n",
      " 8   income_type       21402 non-null  object \n",
      " 9   debt              21402 non-null  int64  \n",
      " 10  total_income      21402 non-null  float64\n",
      " 11  purpose           21402 non-null  object \n",
      "dtypes: float64(2), int64(5), object(5)\n",
      "memory usage: 2.1+ MB\n"
     ]
    }
   ],
   "source": [
    "data.info()"
   ]
  },
  {
   "cell_type": "markdown",
   "id": "5ee8ca59",
   "metadata": {
    "deletable": false,
    "editable": false,
    "id": "ddc81e43"
   },
   "source": [
    "### Изменение типов данных"
   ]
  },
  {
   "cell_type": "markdown",
   "id": "ff9d7a73",
   "metadata": {
    "deletable": false,
    "editable": false,
    "id": "42d19d24",
    "tags": [
     "start_task"
    ]
   },
   "source": [
    "**Задание 13. Замените вещественный тип данных в столбце `total_income` на целочисленный с помощью метода `astype()`.**"
   ]
  },
  {
   "cell_type": "code",
   "execution_count": 20,
   "id": "6eaba52d",
   "metadata": {
    "id": "920b65ad"
   },
   "outputs": [],
   "source": [
    "data['total_income']=data.total_income.astype(int)\n"
   ]
  },
  {
   "cell_type": "markdown",
   "id": "d6d25d72",
   "metadata": {
    "deletable": false,
    "editable": false,
    "id": "80c420ba"
   },
   "source": [
    "### Обработка дубликатов"
   ]
  },
  {
   "cell_type": "markdown",
   "id": "0a38e2fb",
   "metadata": {
    "deletable": false,
    "editable": false,
    "tags": [
     "start_task"
    ]
   },
   "source": [
    "**Задание 14. Обработайте неявные дубликаты в столбце `education`. В этом столбце есть одни и те же значения, но записанные по-разному: с использованием заглавных и строчных букв. Приведите их к нижнему регистру. Проверьте остальные столбцы.**"
   ]
  },
  {
   "cell_type": "code",
   "execution_count": 21,
   "id": "991896f4",
   "metadata": {},
   "outputs": [],
   "source": [
    "data['education']=data.education.str.lower()"
   ]
  },
  {
   "cell_type": "markdown",
   "id": "442cdb86",
   "metadata": {
    "deletable": false,
    "editable": false,
    "id": "dc587695",
    "tags": [
     "start_task"
    ]
   },
   "source": [
    "**Задание 15. Выведите на экран количество строк-дубликатов в данных. Если такие строки присутствуют, удалите их.**"
   ]
  },
  {
   "cell_type": "code",
   "execution_count": 22,
   "id": "2a6d5fd8",
   "metadata": {
    "id": "3ee445e4"
   },
   "outputs": [
    {
     "data": {
      "text/plain": [
       "71"
      ]
     },
     "execution_count": 22,
     "metadata": {},
     "output_type": "execute_result"
    }
   ],
   "source": [
    "data.duplicated().sum()"
   ]
  },
  {
   "cell_type": "code",
   "execution_count": 24,
   "id": "41dd6695",
   "metadata": {
    "id": "8575fe05"
   },
   "outputs": [],
   "source": [
    "data.drop_duplicates(inplace=True)"
   ]
  },
  {
   "cell_type": "markdown",
   "id": "073ed48c",
   "metadata": {
    "deletable": false,
    "editable": false,
    "id": "9904cf55"
   },
   "source": [
    "### Категоризация данных"
   ]
  },
  {
   "cell_type": "markdown",
   "id": "41ff9d41",
   "metadata": {
    "deletable": false,
    "editable": false,
    "id": "72fcc8a2",
    "tags": [
     "start_task"
    ]
   },
   "source": [
    "**Задание 16. На основании диапазонов, указанных ниже, создайте в датафрейме `data` столбец `total_income_category` с категориями:**\n",
    "\n",
    "- 0–30000 — `'E'`;\n",
    "- 30001–50000 — `'D'`;\n",
    "- 50001–200000 — `'C'`;\n",
    "- 200001–1000000 — `'B'`;\n",
    "- 1000001 и выше — `'A'`.\n",
    "\n",
    "\n",
    "**Например, кредитополучателю с доходом 25000 нужно назначить категорию `'E'`, а клиенту, получающему 235000, — `'B'`. Используйте собственную функцию с именем `categorize_income()` и метод `apply()`.**"
   ]
  },
  {
   "cell_type": "code",
   "execution_count": 26,
   "id": "b5de2141",
   "metadata": {
    "id": "e1771346"
   },
   "outputs": [],
   "source": [
    "def categorize_income(inputValue):\n",
    "    if inputValue <= 30000:\n",
    "        return 'E'\n",
    "    elif 30001 <= inputValue <= 50000:\n",
    "        return 'D'\n",
    "    elif 50001 <= inputValue <= 200000:\n",
    "        return 'C'\n",
    "    elif 200001 <= inputValue <= 1000000:\n",
    "        return 'B'\n",
    "    else:\n",
    "        return 'A'"
   ]
  },
  {
   "cell_type": "code",
   "execution_count": 27,
   "id": "4d71d894",
   "metadata": {
    "id": "d5f3586d"
   },
   "outputs": [],
   "source": [
    "data['total_income_category'] = data['total_income'].apply(categorize_income)    "
   ]
  },
  {
   "cell_type": "markdown",
   "id": "b0fe98a0",
   "metadata": {
    "deletable": false,
    "editable": false,
    "id": "dde49b5c",
    "tags": [
     "start_task"
    ]
   },
   "source": [
    "**Задание 17. Выведите на экран перечень уникальных целей взятия кредита из столбца `purpose`.**"
   ]
  },
  {
   "cell_type": "code",
   "execution_count": 28,
   "id": "7bca780d",
   "metadata": {
    "id": "f67ce9b3"
   },
   "outputs": [
    {
     "data": {
      "text/plain": [
       "array(['покупка жилья', 'приобретение автомобиля',\n",
       "       'дополнительное образование', 'сыграть свадьбу',\n",
       "       'операции с жильем', 'образование', 'на проведение свадьбы',\n",
       "       'покупка жилья для семьи', 'покупка недвижимости',\n",
       "       'покупка коммерческой недвижимости', 'покупка жилой недвижимости',\n",
       "       'строительство собственной недвижимости', 'недвижимость',\n",
       "       'строительство недвижимости', 'на покупку подержанного автомобиля',\n",
       "       'на покупку своего автомобиля',\n",
       "       'операции с коммерческой недвижимостью',\n",
       "       'строительство жилой недвижимости', 'жилье',\n",
       "       'операции со своей недвижимостью', 'автомобили',\n",
       "       'заняться образованием', 'сделка с подержанным автомобилем',\n",
       "       'получение образования', 'автомобиль', 'свадьба',\n",
       "       'получение дополнительного образования', 'покупка своего жилья',\n",
       "       'операции с недвижимостью', 'получение высшего образования',\n",
       "       'свой автомобиль', 'сделка с автомобилем',\n",
       "       'профильное образование', 'высшее образование',\n",
       "       'покупка жилья для сдачи', 'на покупку автомобиля', 'ремонт жилью',\n",
       "       'заняться высшим образованием'], dtype=object)"
      ]
     },
     "execution_count": 28,
     "metadata": {},
     "output_type": "execute_result"
    }
   ],
   "source": [
    "pd.unique(data['purpose'])"
   ]
  },
  {
   "cell_type": "markdown",
   "id": "d538033b",
   "metadata": {
    "deletable": false,
    "editable": false,
    "id": "85d0aef0",
    "tags": [
     "start_task"
    ]
   },
   "source": [
    "**Задание 18. Создайте функцию, которая на основании данных из столбца `purpose` сформирует новый столбец `purpose_category`, в который войдут следующие категории:**\n",
    "\n",
    "- `'операции с автомобилем'`,\n",
    "- `'операции с недвижимостью'`,\n",
    "- `'проведение свадьбы'`,\n",
    "- `'получение образования'`.\n",
    "\n",
    "**Например, если в столбце `purpose` находится подстрока `'на покупку автомобиля'`, то в столбце `purpose_category` должна появиться строка `'операции с автомобилем'`.**\n",
    "\n",
    "**Используйте собственную функцию с именем `categorize_purpose()` и метод `apply()`. Изучите данные в столбце `purpose` и определите, какие подстроки помогут вам правильно определить категорию.**"
   ]
  }
 ],
 "metadata": {
  "ExecuteTimeLog": [
   {
    "duration": 387,
    "start_time": "2022-10-11T08:38:09.027Z"
   },
   {
    "duration": 65,
    "start_time": "2022-10-11T08:38:32.367Z"
   },
   {
    "duration": 10,
    "start_time": "2022-10-11T08:38:43.366Z"
   },
   {
    "duration": 14,
    "start_time": "2022-10-11T08:38:51.318Z"
   },
   {
    "duration": 12,
    "start_time": "2022-10-11T08:39:09.780Z"
   },
   {
    "duration": 402,
    "start_time": "2022-10-12T18:45:21.049Z"
   },
   {
    "duration": 698,
    "start_time": "2022-10-12T18:45:21.494Z"
   },
   {
    "duration": 9,
    "start_time": "2022-10-12T18:45:24.781Z"
   },
   {
    "duration": 13,
    "start_time": "2022-10-12T18:45:29.796Z"
   },
   {
    "duration": 13,
    "start_time": "2022-10-12T18:45:33.429Z"
   },
   {
    "duration": 3,
    "start_time": "2022-10-12T18:46:27.123Z"
   },
   {
    "duration": 3,
    "start_time": "2022-10-12T18:46:34.587Z"
   },
   {
    "duration": 3,
    "start_time": "2022-10-12T18:46:49.633Z"
   },
   {
    "duration": 3,
    "start_time": "2022-10-12T18:47:37.589Z"
   },
   {
    "duration": 9,
    "start_time": "2022-10-12T18:48:19.691Z"
   },
   {
    "duration": 3,
    "start_time": "2022-10-12T18:48:44.423Z"
   },
   {
    "duration": 61,
    "start_time": "2022-10-12T18:52:24.863Z"
   },
   {
    "duration": 8,
    "start_time": "2022-10-12T18:52:47.824Z"
   },
   {
    "duration": 3,
    "start_time": "2022-10-12T18:52:52.219Z"
   },
   {
    "duration": 7,
    "start_time": "2022-10-12T18:52:53.894Z"
   },
   {
    "duration": 10,
    "start_time": "2022-10-12T18:53:22.653Z"
   },
   {
    "duration": 9,
    "start_time": "2022-10-12T18:53:24.629Z"
   },
   {
    "duration": 9,
    "start_time": "2022-10-12T18:54:05.738Z"
   },
   {
    "duration": 9,
    "start_time": "2022-10-12T18:54:07.899Z"
   },
   {
    "duration": 3,
    "start_time": "2022-10-12T18:54:10.244Z"
   },
   {
    "duration": 7,
    "start_time": "2022-10-12T18:54:11.874Z"
   },
   {
    "duration": 8,
    "start_time": "2022-10-12T18:54:51.283Z"
   },
   {
    "duration": 7,
    "start_time": "2022-10-12T18:54:52.865Z"
   },
   {
    "duration": 7,
    "start_time": "2022-10-12T18:55:20.269Z"
   },
   {
    "duration": 9,
    "start_time": "2022-10-12T18:55:27.740Z"
   },
   {
    "duration": 7,
    "start_time": "2022-10-12T18:55:31.922Z"
   },
   {
    "duration": 3,
    "start_time": "2022-10-12T18:55:33.489Z"
   },
   {
    "duration": 7,
    "start_time": "2022-10-12T18:55:34.910Z"
   },
   {
    "duration": 5,
    "start_time": "2022-10-12T19:00:03.753Z"
   },
   {
    "duration": 4,
    "start_time": "2022-10-12T19:00:06.442Z"
   },
   {
    "duration": 8,
    "start_time": "2022-10-12T19:00:08.325Z"
   },
   {
    "duration": 13,
    "start_time": "2022-10-12T19:00:18.075Z"
   },
   {
    "duration": 9,
    "start_time": "2022-10-12T19:00:29.114Z"
   },
   {
    "duration": 4,
    "start_time": "2022-10-12T19:00:52.928Z"
   },
   {
    "duration": 4,
    "start_time": "2022-10-12T19:00:55.457Z"
   },
   {
    "duration": 6,
    "start_time": "2022-10-12T19:00:57.111Z"
   },
   {
    "duration": 6,
    "start_time": "2022-10-12T19:01:03.016Z"
   },
   {
    "duration": 4,
    "start_time": "2022-10-12T19:01:05.637Z"
   },
   {
    "duration": 7,
    "start_time": "2022-10-12T19:01:06.967Z"
   },
   {
    "duration": 9,
    "start_time": "2022-10-12T19:01:21.999Z"
   },
   {
    "duration": 9,
    "start_time": "2022-10-12T19:04:14.281Z"
   },
   {
    "duration": 4,
    "start_time": "2022-10-12T19:04:16.670Z"
   },
   {
    "duration": 6,
    "start_time": "2022-10-12T19:04:19.406Z"
   },
   {
    "duration": 3,
    "start_time": "2022-10-12T19:05:47.216Z"
   },
   {
    "duration": 7,
    "start_time": "2022-10-12T19:05:50.487Z"
   },
   {
    "duration": 3,
    "start_time": "2022-10-12T19:05:54.536Z"
   },
   {
    "duration": 7,
    "start_time": "2022-10-12T19:05:56.740Z"
   },
   {
    "duration": 6,
    "start_time": "2022-10-12T19:07:03.825Z"
   },
   {
    "duration": 9,
    "start_time": "2022-10-12T19:07:09.904Z"
   },
   {
    "duration": 4,
    "start_time": "2022-10-12T19:07:11.742Z"
   },
   {
    "duration": 7,
    "start_time": "2022-10-12T19:07:14.040Z"
   },
   {
    "duration": 15,
    "start_time": "2022-10-12T19:08:02.339Z"
   },
   {
    "duration": 7,
    "start_time": "2022-10-12T19:08:15.654Z"
   },
   {
    "duration": 8,
    "start_time": "2022-10-12T19:08:17.655Z"
   },
   {
    "duration": 5,
    "start_time": "2022-10-12T19:08:22.264Z"
   },
   {
    "duration": 8,
    "start_time": "2022-10-12T19:08:24.077Z"
   },
   {
    "duration": 3,
    "start_time": "2022-10-12T19:08:25.983Z"
   },
   {
    "duration": 7,
    "start_time": "2022-10-12T19:08:27.544Z"
   },
   {
    "duration": 4,
    "start_time": "2022-10-12T19:08:49.213Z"
   },
   {
    "duration": 9,
    "start_time": "2022-10-12T19:09:04.296Z"
   },
   {
    "duration": 8,
    "start_time": "2022-10-12T19:09:06.135Z"
   },
   {
    "duration": 4,
    "start_time": "2022-10-12T19:09:08.270Z"
   },
   {
    "duration": 7,
    "start_time": "2022-10-12T19:12:57.053Z"
   },
   {
    "duration": 3,
    "start_time": "2022-10-12T19:12:58.843Z"
   },
   {
    "duration": 6,
    "start_time": "2022-10-12T19:13:00.613Z"
   },
   {
    "duration": 9,
    "start_time": "2022-10-12T19:15:49.835Z"
   },
   {
    "duration": 4,
    "start_time": "2022-10-12T19:15:51.579Z"
   },
   {
    "duration": 7,
    "start_time": "2022-10-12T19:15:53.115Z"
   },
   {
    "duration": 4,
    "start_time": "2022-10-12T19:16:01.681Z"
   },
   {
    "duration": 3,
    "start_time": "2022-10-12T19:16:06.487Z"
   },
   {
    "duration": 6,
    "start_time": "2022-10-12T19:16:08.853Z"
   },
   {
    "duration": 6,
    "start_time": "2022-10-12T19:16:14.539Z"
   },
   {
    "duration": 3,
    "start_time": "2022-10-12T19:16:16.057Z"
   },
   {
    "duration": 9,
    "start_time": "2022-10-12T19:16:16.443Z"
   },
   {
    "duration": 5,
    "start_time": "2022-10-12T19:16:17.488Z"
   },
   {
    "duration": 3,
    "start_time": "2022-10-12T19:16:17.874Z"
   },
   {
    "duration": 2,
    "start_time": "2022-10-12T19:16:18.307Z"
   },
   {
    "duration": 8,
    "start_time": "2022-10-12T19:19:08.136Z"
   },
   {
    "duration": 12,
    "start_time": "2022-10-12T19:19:32.639Z"
   },
   {
    "duration": 8,
    "start_time": "2022-10-12T19:23:11.899Z"
   },
   {
    "duration": 4,
    "start_time": "2022-10-12T19:23:14.333Z"
   },
   {
    "duration": 8,
    "start_time": "2022-10-12T19:23:15.778Z"
   },
   {
    "duration": 78,
    "start_time": "2022-10-12T19:29:38.143Z"
   },
   {
    "duration": 4,
    "start_time": "2022-10-12T19:29:41.392Z"
   },
   {
    "duration": 6,
    "start_time": "2022-10-12T19:29:49.516Z"
   },
   {
    "duration": 5,
    "start_time": "2022-10-12T19:30:37.698Z"
   },
   {
    "duration": 4,
    "start_time": "2022-10-12T19:30:39.487Z"
   },
   {
    "duration": 8,
    "start_time": "2022-10-12T19:30:41.301Z"
   },
   {
    "duration": 6,
    "start_time": "2022-10-12T19:31:17.280Z"
   },
   {
    "duration": 5,
    "start_time": "2022-10-12T19:37:28.117Z"
   },
   {
    "duration": 10,
    "start_time": "2022-10-12T19:44:44.750Z"
   },
   {
    "duration": 4,
    "start_time": "2022-10-12T19:51:30.481Z"
   },
   {
    "duration": 11,
    "start_time": "2022-10-12T19:52:18.341Z"
   },
   {
    "duration": 18,
    "start_time": "2022-10-12T19:53:43.382Z"
   },
   {
    "duration": 640,
    "start_time": "2022-10-12T19:55:00.263Z"
   },
   {
    "duration": 16,
    "start_time": "2022-10-12T19:55:17.052Z"
   },
   {
    "duration": 13,
    "start_time": "2022-10-12T19:55:43.482Z"
   },
   {
    "duration": 14,
    "start_time": "2022-10-12T19:57:00.054Z"
   },
   {
    "duration": 13,
    "start_time": "2022-10-12T19:57:08.185Z"
   },
   {
    "duration": 4,
    "start_time": "2022-10-12T20:01:11.505Z"
   },
   {
    "duration": 7,
    "start_time": "2022-10-12T20:01:13.752Z"
   },
   {
    "duration": 5,
    "start_time": "2022-10-12T20:01:46.879Z"
   },
   {
    "duration": 3,
    "start_time": "2022-10-12T20:04:52.344Z"
   },
   {
    "duration": 7,
    "start_time": "2022-10-12T20:04:52.774Z"
   },
   {
    "duration": 362,
    "start_time": "2022-11-29T17:01:57.195Z"
   },
   {
    "duration": 136,
    "start_time": "2022-11-29T17:01:57.559Z"
   },
   {
    "duration": 11,
    "start_time": "2022-11-29T17:01:57.696Z"
   },
   {
    "duration": 14,
    "start_time": "2022-11-29T17:01:57.708Z"
   },
   {
    "duration": 16,
    "start_time": "2022-11-29T17:15:58.656Z"
   },
   {
    "duration": 13,
    "start_time": "2022-11-29T17:20:37.038Z"
   },
   {
    "duration": 6,
    "start_time": "2022-11-29T17:23:35.775Z"
   },
   {
    "duration": 7,
    "start_time": "2022-11-29T17:23:43.704Z"
   },
   {
    "duration": 10,
    "start_time": "2022-11-29T17:25:06.257Z"
   },
   {
    "duration": 79,
    "start_time": "2022-11-29T17:25:28.955Z"
   },
   {
    "duration": 66,
    "start_time": "2022-11-29T17:25:39.997Z"
   },
   {
    "duration": 16,
    "start_time": "2022-11-29T17:25:47.518Z"
   },
   {
    "duration": 76,
    "start_time": "2022-11-29T17:27:53.040Z"
   },
   {
    "duration": 9,
    "start_time": "2022-11-29T17:27:57.990Z"
   },
   {
    "duration": 15,
    "start_time": "2022-11-29T17:28:10.498Z"
   },
   {
    "duration": 11,
    "start_time": "2022-11-29T17:28:55.395Z"
   },
   {
    "duration": 7,
    "start_time": "2022-11-29T17:29:09.990Z"
   },
   {
    "duration": 5,
    "start_time": "2022-11-29T17:31:01.128Z"
   },
   {
    "duration": 10,
    "start_time": "2022-11-29T17:32:21.711Z"
   },
   {
    "duration": 5,
    "start_time": "2022-11-29T17:34:23.292Z"
   },
   {
    "duration": 6,
    "start_time": "2022-11-29T17:36:20.454Z"
   },
   {
    "duration": 5,
    "start_time": "2022-11-29T17:36:22.824Z"
   },
   {
    "duration": 10,
    "start_time": "2022-11-29T17:37:13.496Z"
   },
   {
    "duration": 9,
    "start_time": "2022-11-29T17:37:38.464Z"
   },
   {
    "duration": 8,
    "start_time": "2022-11-29T17:37:54.624Z"
   },
   {
    "duration": 5,
    "start_time": "2022-11-29T17:38:26.426Z"
   },
   {
    "duration": 4,
    "start_time": "2022-11-29T17:38:31.780Z"
   },
   {
    "duration": 446,
    "start_time": "2022-11-29T17:38:43.314Z"
   },
   {
    "duration": 75,
    "start_time": "2022-11-29T17:38:43.762Z"
   },
   {
    "duration": 13,
    "start_time": "2022-11-29T17:38:43.840Z"
   },
   {
    "duration": 16,
    "start_time": "2022-11-29T17:38:43.855Z"
   },
   {
    "duration": 27,
    "start_time": "2022-11-29T17:38:43.872Z"
   },
   {
    "duration": 7,
    "start_time": "2022-11-29T17:38:43.901Z"
   },
   {
    "duration": 29,
    "start_time": "2022-11-29T17:38:43.909Z"
   },
   {
    "duration": 9,
    "start_time": "2022-11-29T17:38:43.940Z"
   },
   {
    "duration": 5,
    "start_time": "2022-11-29T17:38:43.952Z"
   },
   {
    "duration": 9,
    "start_time": "2022-11-29T17:38:43.960Z"
   },
   {
    "duration": 5,
    "start_time": "2022-11-29T17:38:43.971Z"
   },
   {
    "duration": 4,
    "start_time": "2022-11-29T17:38:43.977Z"
   },
   {
    "duration": 6,
    "start_time": "2022-11-29T17:39:48.075Z"
   },
   {
    "duration": 13,
    "start_time": "2022-11-29T17:39:57.407Z"
   },
   {
    "duration": 23,
    "start_time": "2022-11-29T17:41:28.529Z"
   },
   {
    "duration": 16,
    "start_time": "2022-11-29T17:41:43.644Z"
   },
   {
    "duration": 5,
    "start_time": "2022-11-29T17:42:38.372Z"
   },
   {
    "duration": 14,
    "start_time": "2022-11-29T17:42:49.806Z"
   },
   {
    "duration": 17,
    "start_time": "2022-11-29T17:44:00.468Z"
   },
   {
    "duration": 3,
    "start_time": "2022-11-29T17:44:05.760Z"
   },
   {
    "duration": 12,
    "start_time": "2022-11-29T17:45:36.389Z"
   },
   {
    "duration": 18,
    "start_time": "2022-11-29T17:49:26.160Z"
   },
   {
    "duration": 63,
    "start_time": "2022-11-29T17:50:10.119Z"
   },
   {
    "duration": 17,
    "start_time": "2022-11-29T17:50:44.437Z"
   },
   {
    "duration": 7,
    "start_time": "2022-11-29T17:56:41.899Z"
   },
   {
    "duration": 3,
    "start_time": "2022-11-29T17:57:46.771Z"
   },
   {
    "duration": 9,
    "start_time": "2022-11-29T17:57:48.577Z"
   },
   {
    "duration": 6,
    "start_time": "2022-11-29T17:58:09.939Z"
   }
  ],
  "colab": {
   "name": "dpp_template_part1.ipynb",
   "provenance": []
  },
  "kernelspec": {
   "display_name": "Python 3 (ipykernel)",
   "language": "python",
   "name": "python3"
  },
  "language_info": {
   "codemirror_mode": {
    "name": "ipython",
    "version": 3
   },
   "file_extension": ".py",
   "mimetype": "text/x-python",
   "name": "python",
   "nbconvert_exporter": "python",
   "pygments_lexer": "ipython3",
   "version": "3.9.13"
  },
  "toc": {
   "base_numbering": 1,
   "nav_menu": {},
   "number_sections": true,
   "sideBar": true,
   "skip_h1_title": true,
   "title_cell": "Table of Contents",
   "title_sidebar": "Contents",
   "toc_cell": false,
   "toc_position": {},
   "toc_section_display": true,
   "toc_window_display": false
  }
 },
 "nbformat": 4,
 "nbformat_minor": 5
}
