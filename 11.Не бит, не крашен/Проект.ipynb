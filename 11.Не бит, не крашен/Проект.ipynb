{
 "cells": [
  {
   "cell_type": "markdown",
   "metadata": {},
   "source": [
    "# Определение стоимости автомобилей"
   ]
  },
  {
   "cell_type": "markdown",
   "metadata": {},
   "source": [
    "Сервис по продаже автомобилей с пробегом «Не бит, не крашен» разрабатывает приложение для привлечения новых клиентов. В нём можно быстро узнать рыночную стоимость своего автомобиля. В вашем распоряжении исторические данные: технические характеристики, комплектации и цены автомобилей. Вам нужно построить модель для определения стоимости. \n",
    "\n",
    "Заказчику важны:\n",
    "\n",
    "- качество предсказания;\n",
    "- скорость предсказания;\n",
    "- время обучения."
   ]
  },
  {
   "cell_type": "markdown",
   "metadata": {},
   "source": [
    "## Подготовка данных"
   ]
  },
  {
   "cell_type": "markdown",
   "metadata": {},
   "source": [
    "### Загрузим библиотеки"
   ]
  },
  {
   "cell_type": "code",
   "execution_count": 3,
   "metadata": {},
   "outputs": [],
   "source": [
    "import pandas as pd\n",
    "import numpy as np\n",
    "import matplotlib.pyplot as plt\n",
    "import time\n",
    "\n",
    "from sklearn.model_selection import train_test_split, GridSearchCV\n",
    "from sklearn.metrics import mean_squared_error\n",
    "from sklearn.preprocessing import OrdinalEncoder\n",
    "from sklearn.ensemble import RandomForestRegressor\n",
    "\n",
    "import lightgbm as lgb"
   ]
  },
  {
   "cell_type": "code",
   "execution_count": 4,
   "metadata": {},
   "outputs": [],
   "source": [
    "RANDOM_SEED = 666"
   ]
  },
  {
   "cell_type": "markdown",
   "metadata": {},
   "source": [
    "### Загрузим данные"
   ]
  },
  {
   "cell_type": "code",
   "execution_count": 6,
   "metadata": {},
   "outputs": [],
   "source": [
    "data =  pd.read_csv('datasets/autos.csv')"
   ]
  },
  {
   "cell_type": "markdown",
   "metadata": {},
   "source": [
    "### Изучим исходные данные"
   ]
  },
  {
   "cell_type": "markdown",
   "metadata": {},
   "source": [
    "Для этого воспользуемся функцией, чтобы наглядно посмотреть на возможные пустые значения в атрибутах, а также дубликаты и уникальные значения"
   ]
  },
  {
   "cell_type": "code",
   "execution_count": 8,
   "metadata": {},
   "outputs": [],
   "source": [
    "def check_df(data):\n",
    "    empty_values = data.isnull().sum()\n",
    "    duplicate_values = data.duplicated().sum()\n",
    "    distinct_values = data.nunique()\n",
    "    explore_data = pd.DataFrame({'column': empty_values.index, \n",
    "                                 'empty': empty_values.values, \n",
    "                                 'duplicated': duplicate_values, \n",
    "                                 'distinct': distinct_values.values})\n",
    "    \n",
    "    return explore_data"
   ]
  },
  {
   "cell_type": "code",
   "execution_count": 9,
   "metadata": {},
   "outputs": [],
   "source": [
    "explore_data = check_df(data)"
   ]
  },
  {
   "cell_type": "code",
   "execution_count": 10,
   "metadata": {},
   "outputs": [
    {
     "data": {
      "text/html": [
       "<div>\n",
       "<style scoped>\n",
       "    .dataframe tbody tr th:only-of-type {\n",
       "        vertical-align: middle;\n",
       "    }\n",
       "\n",
       "    .dataframe tbody tr th {\n",
       "        vertical-align: top;\n",
       "    }\n",
       "\n",
       "    .dataframe thead th {\n",
       "        text-align: right;\n",
       "    }\n",
       "</style>\n",
       "<table border=\"1\" class=\"dataframe\">\n",
       "  <thead>\n",
       "    <tr style=\"text-align: right;\">\n",
       "      <th></th>\n",
       "      <th>column</th>\n",
       "      <th>empty</th>\n",
       "      <th>duplicated</th>\n",
       "      <th>distinct</th>\n",
       "    </tr>\n",
       "  </thead>\n",
       "  <tbody>\n",
       "    <tr>\n",
       "      <th>0</th>\n",
       "      <td>DateCrawled</td>\n",
       "      <td>0</td>\n",
       "      <td>4</td>\n",
       "      <td>271174</td>\n",
       "    </tr>\n",
       "    <tr>\n",
       "      <th>1</th>\n",
       "      <td>Price</td>\n",
       "      <td>0</td>\n",
       "      <td>4</td>\n",
       "      <td>3731</td>\n",
       "    </tr>\n",
       "    <tr>\n",
       "      <th>2</th>\n",
       "      <td>VehicleType</td>\n",
       "      <td>37490</td>\n",
       "      <td>4</td>\n",
       "      <td>8</td>\n",
       "    </tr>\n",
       "    <tr>\n",
       "      <th>3</th>\n",
       "      <td>RegistrationYear</td>\n",
       "      <td>0</td>\n",
       "      <td>4</td>\n",
       "      <td>151</td>\n",
       "    </tr>\n",
       "    <tr>\n",
       "      <th>4</th>\n",
       "      <td>Gearbox</td>\n",
       "      <td>19833</td>\n",
       "      <td>4</td>\n",
       "      <td>2</td>\n",
       "    </tr>\n",
       "    <tr>\n",
       "      <th>5</th>\n",
       "      <td>Power</td>\n",
       "      <td>0</td>\n",
       "      <td>4</td>\n",
       "      <td>712</td>\n",
       "    </tr>\n",
       "    <tr>\n",
       "      <th>6</th>\n",
       "      <td>Model</td>\n",
       "      <td>19705</td>\n",
       "      <td>4</td>\n",
       "      <td>250</td>\n",
       "    </tr>\n",
       "    <tr>\n",
       "      <th>7</th>\n",
       "      <td>Kilometer</td>\n",
       "      <td>0</td>\n",
       "      <td>4</td>\n",
       "      <td>13</td>\n",
       "    </tr>\n",
       "    <tr>\n",
       "      <th>8</th>\n",
       "      <td>RegistrationMonth</td>\n",
       "      <td>0</td>\n",
       "      <td>4</td>\n",
       "      <td>13</td>\n",
       "    </tr>\n",
       "    <tr>\n",
       "      <th>9</th>\n",
       "      <td>FuelType</td>\n",
       "      <td>32895</td>\n",
       "      <td>4</td>\n",
       "      <td>7</td>\n",
       "    </tr>\n",
       "    <tr>\n",
       "      <th>10</th>\n",
       "      <td>Brand</td>\n",
       "      <td>0</td>\n",
       "      <td>4</td>\n",
       "      <td>40</td>\n",
       "    </tr>\n",
       "    <tr>\n",
       "      <th>11</th>\n",
       "      <td>Repaired</td>\n",
       "      <td>71154</td>\n",
       "      <td>4</td>\n",
       "      <td>2</td>\n",
       "    </tr>\n",
       "    <tr>\n",
       "      <th>12</th>\n",
       "      <td>DateCreated</td>\n",
       "      <td>0</td>\n",
       "      <td>4</td>\n",
       "      <td>109</td>\n",
       "    </tr>\n",
       "    <tr>\n",
       "      <th>13</th>\n",
       "      <td>NumberOfPictures</td>\n",
       "      <td>0</td>\n",
       "      <td>4</td>\n",
       "      <td>1</td>\n",
       "    </tr>\n",
       "    <tr>\n",
       "      <th>14</th>\n",
       "      <td>PostalCode</td>\n",
       "      <td>0</td>\n",
       "      <td>4</td>\n",
       "      <td>8143</td>\n",
       "    </tr>\n",
       "    <tr>\n",
       "      <th>15</th>\n",
       "      <td>LastSeen</td>\n",
       "      <td>0</td>\n",
       "      <td>4</td>\n",
       "      <td>179150</td>\n",
       "    </tr>\n",
       "  </tbody>\n",
       "</table>\n",
       "</div>"
      ],
      "text/plain": [
       "               column  empty  duplicated  distinct\n",
       "0         DateCrawled      0           4    271174\n",
       "1               Price      0           4      3731\n",
       "2         VehicleType  37490           4         8\n",
       "3    RegistrationYear      0           4       151\n",
       "4             Gearbox  19833           4         2\n",
       "5               Power      0           4       712\n",
       "6               Model  19705           4       250\n",
       "7           Kilometer      0           4        13\n",
       "8   RegistrationMonth      0           4        13\n",
       "9            FuelType  32895           4         7\n",
       "10              Brand      0           4        40\n",
       "11           Repaired  71154           4         2\n",
       "12        DateCreated      0           4       109\n",
       "13   NumberOfPictures      0           4         1\n",
       "14         PostalCode      0           4      8143\n",
       "15           LastSeen      0           4    179150"
      ]
     },
     "metadata": {},
     "output_type": "display_data"
    }
   ],
   "source": [
    "display(explore_data)"
   ]
  },
  {
   "cell_type": "markdown",
   "metadata": {},
   "source": [
    "Помимо наличия пустот в 5 колонках <b>VehicleType, Gearbox, Model, FuelType, Repaired</b> мы так же можем заметить 4 дубликата во всех строках датафрейма, посмотрим внимательнее"
   ]
  },
  {
   "cell_type": "code",
   "execution_count": 11,
   "metadata": {},
   "outputs": [],
   "source": [
    "explore_data2 = data[data.duplicated(keep=False)]"
   ]
  },
  {
   "cell_type": "code",
   "execution_count": 12,
   "metadata": {
    "scrolled": false
   },
   "outputs": [
    {
     "data": {
      "text/html": [
       "<div>\n",
       "<style scoped>\n",
       "    .dataframe tbody tr th:only-of-type {\n",
       "        vertical-align: middle;\n",
       "    }\n",
       "\n",
       "    .dataframe tbody tr th {\n",
       "        vertical-align: top;\n",
       "    }\n",
       "\n",
       "    .dataframe thead th {\n",
       "        text-align: right;\n",
       "    }\n",
       "</style>\n",
       "<table border=\"1\" class=\"dataframe\">\n",
       "  <thead>\n",
       "    <tr style=\"text-align: right;\">\n",
       "      <th></th>\n",
       "      <th>DateCrawled</th>\n",
       "      <th>Price</th>\n",
       "      <th>VehicleType</th>\n",
       "      <th>RegistrationYear</th>\n",
       "      <th>Gearbox</th>\n",
       "      <th>Power</th>\n",
       "      <th>Model</th>\n",
       "      <th>Kilometer</th>\n",
       "      <th>RegistrationMonth</th>\n",
       "      <th>FuelType</th>\n",
       "      <th>Brand</th>\n",
       "      <th>Repaired</th>\n",
       "      <th>DateCreated</th>\n",
       "      <th>NumberOfPictures</th>\n",
       "      <th>PostalCode</th>\n",
       "      <th>LastSeen</th>\n",
       "    </tr>\n",
       "  </thead>\n",
       "  <tbody>\n",
       "    <tr>\n",
       "      <th>41529</th>\n",
       "      <td>2016-03-18 18:46:15</td>\n",
       "      <td>1999</td>\n",
       "      <td>wagon</td>\n",
       "      <td>2001</td>\n",
       "      <td>manual</td>\n",
       "      <td>131</td>\n",
       "      <td>passat</td>\n",
       "      <td>150000</td>\n",
       "      <td>7</td>\n",
       "      <td>gasoline</td>\n",
       "      <td>volkswagen</td>\n",
       "      <td>no</td>\n",
       "      <td>2016-03-18 00:00:00</td>\n",
       "      <td>0</td>\n",
       "      <td>36391</td>\n",
       "      <td>2016-03-18 18:46:15</td>\n",
       "    </tr>\n",
       "    <tr>\n",
       "      <th>88087</th>\n",
       "      <td>2016-03-08 18:42:48</td>\n",
       "      <td>1799</td>\n",
       "      <td>coupe</td>\n",
       "      <td>1999</td>\n",
       "      <td>auto</td>\n",
       "      <td>193</td>\n",
       "      <td>clk</td>\n",
       "      <td>20000</td>\n",
       "      <td>7</td>\n",
       "      <td>petrol</td>\n",
       "      <td>mercedes_benz</td>\n",
       "      <td>no</td>\n",
       "      <td>2016-03-08 00:00:00</td>\n",
       "      <td>0</td>\n",
       "      <td>89518</td>\n",
       "      <td>2016-03-09 09:46:57</td>\n",
       "    </tr>\n",
       "    <tr>\n",
       "      <th>90964</th>\n",
       "      <td>2016-03-28 00:56:10</td>\n",
       "      <td>1000</td>\n",
       "      <td>small</td>\n",
       "      <td>2002</td>\n",
       "      <td>manual</td>\n",
       "      <td>83</td>\n",
       "      <td>other</td>\n",
       "      <td>150000</td>\n",
       "      <td>1</td>\n",
       "      <td>petrol</td>\n",
       "      <td>suzuki</td>\n",
       "      <td>no</td>\n",
       "      <td>2016-03-28 00:00:00</td>\n",
       "      <td>0</td>\n",
       "      <td>66589</td>\n",
       "      <td>2016-03-28 08:46:21</td>\n",
       "    </tr>\n",
       "    <tr>\n",
       "      <th>171088</th>\n",
       "      <td>2016-03-08 18:42:48</td>\n",
       "      <td>1799</td>\n",
       "      <td>coupe</td>\n",
       "      <td>1999</td>\n",
       "      <td>auto</td>\n",
       "      <td>193</td>\n",
       "      <td>clk</td>\n",
       "      <td>20000</td>\n",
       "      <td>7</td>\n",
       "      <td>petrol</td>\n",
       "      <td>mercedes_benz</td>\n",
       "      <td>no</td>\n",
       "      <td>2016-03-08 00:00:00</td>\n",
       "      <td>0</td>\n",
       "      <td>89518</td>\n",
       "      <td>2016-03-09 09:46:57</td>\n",
       "    </tr>\n",
       "    <tr>\n",
       "      <th>187735</th>\n",
       "      <td>2016-04-03 09:01:15</td>\n",
       "      <td>4699</td>\n",
       "      <td>coupe</td>\n",
       "      <td>2003</td>\n",
       "      <td>auto</td>\n",
       "      <td>218</td>\n",
       "      <td>clk</td>\n",
       "      <td>125000</td>\n",
       "      <td>6</td>\n",
       "      <td>petrol</td>\n",
       "      <td>mercedes_benz</td>\n",
       "      <td>yes</td>\n",
       "      <td>2016-04-03 00:00:00</td>\n",
       "      <td>0</td>\n",
       "      <td>75196</td>\n",
       "      <td>2016-04-07 09:44:54</td>\n",
       "    </tr>\n",
       "    <tr>\n",
       "      <th>231258</th>\n",
       "      <td>2016-03-28 00:56:10</td>\n",
       "      <td>1000</td>\n",
       "      <td>small</td>\n",
       "      <td>2002</td>\n",
       "      <td>manual</td>\n",
       "      <td>83</td>\n",
       "      <td>other</td>\n",
       "      <td>150000</td>\n",
       "      <td>1</td>\n",
       "      <td>petrol</td>\n",
       "      <td>suzuki</td>\n",
       "      <td>no</td>\n",
       "      <td>2016-03-28 00:00:00</td>\n",
       "      <td>0</td>\n",
       "      <td>66589</td>\n",
       "      <td>2016-03-28 08:46:21</td>\n",
       "    </tr>\n",
       "    <tr>\n",
       "      <th>258109</th>\n",
       "      <td>2016-04-03 09:01:15</td>\n",
       "      <td>4699</td>\n",
       "      <td>coupe</td>\n",
       "      <td>2003</td>\n",
       "      <td>auto</td>\n",
       "      <td>218</td>\n",
       "      <td>clk</td>\n",
       "      <td>125000</td>\n",
       "      <td>6</td>\n",
       "      <td>petrol</td>\n",
       "      <td>mercedes_benz</td>\n",
       "      <td>yes</td>\n",
       "      <td>2016-04-03 00:00:00</td>\n",
       "      <td>0</td>\n",
       "      <td>75196</td>\n",
       "      <td>2016-04-07 09:44:54</td>\n",
       "    </tr>\n",
       "    <tr>\n",
       "      <th>325651</th>\n",
       "      <td>2016-03-18 18:46:15</td>\n",
       "      <td>1999</td>\n",
       "      <td>wagon</td>\n",
       "      <td>2001</td>\n",
       "      <td>manual</td>\n",
       "      <td>131</td>\n",
       "      <td>passat</td>\n",
       "      <td>150000</td>\n",
       "      <td>7</td>\n",
       "      <td>gasoline</td>\n",
       "      <td>volkswagen</td>\n",
       "      <td>no</td>\n",
       "      <td>2016-03-18 00:00:00</td>\n",
       "      <td>0</td>\n",
       "      <td>36391</td>\n",
       "      <td>2016-03-18 18:46:15</td>\n",
       "    </tr>\n",
       "  </tbody>\n",
       "</table>\n",
       "</div>"
      ],
      "text/plain": [
       "                DateCrawled  Price VehicleType  RegistrationYear Gearbox  \\\n",
       "41529   2016-03-18 18:46:15   1999       wagon              2001  manual   \n",
       "88087   2016-03-08 18:42:48   1799       coupe              1999    auto   \n",
       "90964   2016-03-28 00:56:10   1000       small              2002  manual   \n",
       "171088  2016-03-08 18:42:48   1799       coupe              1999    auto   \n",
       "187735  2016-04-03 09:01:15   4699       coupe              2003    auto   \n",
       "231258  2016-03-28 00:56:10   1000       small              2002  manual   \n",
       "258109  2016-04-03 09:01:15   4699       coupe              2003    auto   \n",
       "325651  2016-03-18 18:46:15   1999       wagon              2001  manual   \n",
       "\n",
       "        Power   Model  Kilometer  RegistrationMonth  FuelType          Brand  \\\n",
       "41529     131  passat     150000                  7  gasoline     volkswagen   \n",
       "88087     193     clk      20000                  7    petrol  mercedes_benz   \n",
       "90964      83   other     150000                  1    petrol         suzuki   \n",
       "171088    193     clk      20000                  7    petrol  mercedes_benz   \n",
       "187735    218     clk     125000                  6    petrol  mercedes_benz   \n",
       "231258     83   other     150000                  1    petrol         suzuki   \n",
       "258109    218     clk     125000                  6    petrol  mercedes_benz   \n",
       "325651    131  passat     150000                  7  gasoline     volkswagen   \n",
       "\n",
       "       Repaired          DateCreated  NumberOfPictures  PostalCode  \\\n",
       "41529        no  2016-03-18 00:00:00                 0       36391   \n",
       "88087        no  2016-03-08 00:00:00                 0       89518   \n",
       "90964        no  2016-03-28 00:00:00                 0       66589   \n",
       "171088       no  2016-03-08 00:00:00                 0       89518   \n",
       "187735      yes  2016-04-03 00:00:00                 0       75196   \n",
       "231258       no  2016-03-28 00:00:00                 0       66589   \n",
       "258109      yes  2016-04-03 00:00:00                 0       75196   \n",
       "325651       no  2016-03-18 00:00:00                 0       36391   \n",
       "\n",
       "                   LastSeen  \n",
       "41529   2016-03-18 18:46:15  \n",
       "88087   2016-03-09 09:46:57  \n",
       "90964   2016-03-28 08:46:21  \n",
       "171088  2016-03-09 09:46:57  \n",
       "187735  2016-04-07 09:44:54  \n",
       "231258  2016-03-28 08:46:21  \n",
       "258109  2016-04-07 09:44:54  \n",
       "325651  2016-03-18 18:46:15  "
      ]
     },
     "metadata": {},
     "output_type": "display_data"
    }
   ],
   "source": [
    "display(explore_data2)"
   ]
  },
  {
   "cell_type": "markdown",
   "metadata": {},
   "source": [
    "не уверен, что такое количество дубликатов может сильно повлиять на качество модели, но на всякий случай уберем лишние дубликаты, но оставим одно исходное значение"
   ]
  },
  {
   "cell_type": "code",
   "execution_count": 13,
   "metadata": {},
   "outputs": [],
   "source": [
    "data = data.drop_duplicates(keep='first')"
   ]
  },
  {
   "cell_type": "markdown",
   "metadata": {},
   "source": [
    "Теперь хочется посмотреть значения категориальных столбцов"
   ]
  },
  {
   "cell_type": "code",
   "execution_count": 14,
   "metadata": {},
   "outputs": [],
   "source": [
    "def plot_column_diagram(data, column):\n",
    "    value_counts = data[column].astype(str).value_counts(dropna=False)\n",
    "    labels = value_counts.index\n",
    "    counts = value_counts.values\n",
    "    \n",
    "    fig, ax = plt.subplots()\n",
    "    \n",
    "    colors = ['red' if label == 'nan' or label == '0' else 'black' for label in labels]\n",
    "    ax.bar(labels, counts, color=colors)\n",
    "    \n",
    "    ax.set_xlabel(column)\n",
    "    ax.set_ylabel('Количество')\n",
    "    ax.set_title(f'Распределение категориальных значений столбца {column}')\n",
    "    \n",
    "    plt.xticks(rotation=90)\n",
    "    plt.show()\n",
    "    \n",
    "    unique_values = data[column].unique()\n",
    "    print(unique_values)"
   ]
  },
  {
   "cell_type": "code",
   "execution_count": 15,
   "metadata": {
    "scrolled": false
   },
   "outputs": [
    {
     "data": {
      "image/png": "[encoded data removed]",
      "text/plain": [
       "<Figure size 640x480 with 1 Axes>"
      ]
     },
     "metadata": {},
     "output_type": "display_data"
    },
    {
     "name": "stdout",
     "output_type": "stream",
     "text": [
      "[nan 'coupe' 'suv' 'small' 'sedan' 'convertible' 'bus' 'wagon' 'other']\n"
     ]
    }
   ],
   "source": [
    "plot_column_diagram(data, 'VehicleType')"
   ]
  },
  {
   "cell_type": "code",
   "execution_count": 16,
   "metadata": {
    "scrolled": true
   },
   "outputs": [
    {
     "data": {
      "image/png": "[encoded data removed]",
      "text/plain": [
       "<Figure size 640x480 with 1 Axes>"
      ]
     },
     "metadata": {},
     "output_type": "display_data"
    },
    {
     "name": "stdout",
     "output_type": "stream",
     "text": [
      "['manual' 'auto' nan]\n"
     ]
    }
   ],
   "source": [
    "plot_column_diagram(data, 'Gearbox')"
   ]
  },
  {
   "cell_type": "code",
   "execution_count": 17,
   "metadata": {
    "scrolled": true
   },
   "outputs": [
    {
     "data": {
      "image/png": "[encoded data removed]",
      "text/plain": [
       "<Figure size 640x480 with 1 Axes>"
      ]
     },
     "metadata": {},
     "output_type": "display_data"
    },
    {
     "name": "stdout",
     "output_type": "stream",
     "text": [
      "['petrol' 'gasoline' nan 'lpg' 'other' 'hybrid' 'cng' 'electric']\n"
     ]
    }
   ],
   "source": [
    "plot_column_diagram(data, 'FuelType')"
   ]
  },
  {
   "cell_type": "code",
   "execution_count": 18,
   "metadata": {
    "scrolled": false
   },
   "outputs": [
    {
     "data": {
      "image/png": "[encoded data removed]",
      "text/plain": [
       "<Figure size 640x480 with 1 Axes>"
      ]
     },
     "metadata": {},
     "output_type": "display_data"
    },
    {
     "name": "stdout",
     "output_type": "stream",
     "text": [
      "['volkswagen' 'audi' 'jeep' 'skoda' 'bmw' 'peugeot' 'ford' 'mazda'\n",
      " 'nissan' 'renault' 'mercedes_benz' 'opel' 'seat' 'citroen' 'honda' 'fiat'\n",
      " 'mini' 'smart' 'hyundai' 'sonstige_autos' 'alfa_romeo' 'subaru' 'volvo'\n",
      " 'mitsubishi' 'kia' 'suzuki' 'lancia' 'toyota' 'chevrolet' 'dacia'\n",
      " 'daihatsu' 'trabant' 'saab' 'chrysler' 'jaguar' 'daewoo' 'porsche'\n",
      " 'rover' 'land_rover' 'lada']\n"
     ]
    }
   ],
   "source": [
    "plot_column_diagram(data, 'Brand')"
   ]
  },
  {
   "cell_type": "code",
   "execution_count": 19,
   "metadata": {
    "scrolled": true
   },
   "outputs": [
    {
     "data": {
      "image/png": "[encoded data removed]",
      "text/plain": [
       "<Figure size 640x480 with 1 Axes>"
      ]
     },
     "metadata": {},
     "output_type": "display_data"
    },
    {
     "name": "stdout",
     "output_type": "stream",
     "text": [
      "[ 0  5  8  6  7 10 12 11  2  3  1  4  9]\n"
     ]
    }
   ],
   "source": [
    "plot_column_diagram(data, 'RegistrationMonth')"
   ]
  },
  {
   "cell_type": "code",
   "execution_count": 20,
   "metadata": {
    "scrolled": true
   },
   "outputs": [
    {
     "data": {
      "image/png": "[encoded data removed]",
      "text/plain": [
       "<Figure size 640x480 with 1 Axes>"
      ]
     },
     "metadata": {},
     "output_type": "display_data"
    },
    {
     "name": "stdout",
     "output_type": "stream",
     "text": [
      "['golf' nan 'grand' 'fabia' '3er' '2_reihe' 'other' 'c_max' '3_reihe'\n",
      " 'passat' 'navara' 'ka' 'polo' 'twingo' 'a_klasse' 'scirocco' '5er'\n",
      " 'meriva' 'arosa' 'c4' 'civic' 'transporter' 'punto' 'e_klasse' 'clio'\n",
      " 'kadett' 'kangoo' 'corsa' 'one' 'fortwo' '1er' 'b_klasse' 'signum'\n",
      " 'astra' 'a8' 'jetta' 'fiesta' 'c_klasse' 'micra' 'vito' 'sprinter' '156'\n",
      " 'escort' 'forester' 'xc_reihe' 'scenic' 'a4' 'a1' 'insignia' 'combo'\n",
      " 'focus' 'tt' 'a6' 'jazz' 'omega' 'slk' '7er' '80' '147' '100' 'z_reihe'\n",
      " 'sportage' 'sorento' 'v40' 'ibiza' 'mustang' 'eos' 'touran' 'getz' 'a3'\n",
      " 'almera' 'megane' 'lupo' 'r19' 'zafira' 'caddy' 'mondeo' 'cordoba' 'colt'\n",
      " 'impreza' 'vectra' 'berlingo' 'tiguan' 'i_reihe' 'espace' 'sharan'\n",
      " '6_reihe' 'panda' 'up' 'seicento' 'ceed' '5_reihe' 'yeti' 'octavia' 'mii'\n",
      " 'rx_reihe' '6er' 'modus' 'fox' 'matiz' 'beetle' 'c1' 'rio' 'touareg'\n",
      " 'logan' 'spider' 'cuore' 's_max' 'a2' 'galaxy' 'c3' 'viano' 's_klasse'\n",
      " '1_reihe' 'avensis' 'roomster' 'sl' 'kaefer' 'santa' 'cooper' 'leon'\n",
      " '4_reihe' 'a5' '500' 'laguna' 'ptcruiser' 'clk' 'primera' 'x_reihe'\n",
      " 'exeo' '159' 'transit' 'juke' 'qashqai' 'carisma' 'accord' 'corolla'\n",
      " 'lanos' 'phaeton' 'verso' 'swift' 'rav' 'picanto' 'boxster' 'kalos'\n",
      " 'superb' 'stilo' 'alhambra' 'mx_reihe' 'roadster' 'ypsilon' 'cayenne'\n",
      " 'galant' 'justy' '90' 'sirion' 'crossfire' 'agila' 'duster' 'cr_reihe'\n",
      " 'v50' 'c_reihe' 'v_klasse' 'm_klasse' 'yaris' 'c5' 'aygo' 'cc' 'carnival'\n",
      " 'fusion' '911' 'bora' 'forfour' 'm_reihe' 'cl' 'tigra' '300c' 'spark'\n",
      " 'v70' 'kuga' 'x_type' 'ducato' 's_type' 'x_trail' 'toledo' 'altea'\n",
      " 'voyager' 'calibra' 'bravo' 'antara' 'tucson' 'citigo' 'jimny' 'wrangler'\n",
      " 'lybra' 'q7' 'lancer' 'captiva' 'c2' 'discovery' 'freelander' 'sandero'\n",
      " 'note' '900' 'cherokee' 'clubman' 'samara' 'defender' '601' 'cx_reihe'\n",
      " 'legacy' 'pajero' 'auris' 'niva' 's60' 'nubira' 'vivaro' 'g_klasse'\n",
      " 'lodgy' '850' 'range_rover' 'q3' 'serie_2' 'glk' 'charade' 'croma'\n",
      " 'outlander' 'doblo' 'musa' 'move' '9000' 'v60' '145' 'aveo' '200' 'b_max'\n",
      " 'range_rover_sport' 'terios' 'rangerover' 'q5' 'range_rover_evoque'\n",
      " 'materia' 'delta' 'gl' 'kalina' 'amarok' 'elefantino' 'i3' 'kappa'\n",
      " 'serie_3' 'serie_1']\n"
     ]
    }
   ],
   "source": [
    "plot_column_diagram(data, 'Model')"
   ]
  },
  {
   "cell_type": "code",
   "execution_count": 21,
   "metadata": {},
   "outputs": [
    {
     "data": {
      "image/png": "[encoded data removed]",
      "text/plain": [
       "<Figure size 640x480 with 1 Axes>"
      ]
     },
     "metadata": {},
     "output_type": "display_data"
    },
    {
     "name": "stdout",
     "output_type": "stream",
     "text": [
      "[nan 'yes' 'no']\n"
     ]
    }
   ],
   "source": [
    "plot_column_diagram(data, 'Repaired')"
   ]
  },
  {
   "cell_type": "markdown",
   "metadata": {},
   "source": [
    "### Проведем предоработку и устранение ошибок"
   ]
  },
  {
   "cell_type": "markdown",
   "metadata": {},
   "source": [
    "Для столбца <b>VehicleType</b> мы видим, что есть пустые значения, но также есть категория other, по сути можно пустоты заполнить значением other, но мне бы хотелось выбрать немного другой подход. я хочу сгруппировать датафрейм по модели и марке и взять самые распространенные значения для <b>VehicleType</b> оттуда, но пока что мы видим, что также в столбце <b>Model</b> есть пустые значения, поэтому этот метод мы ПОКА преминить не можем, поэтому начнем с заполнения пустот <b>Model</b>"
   ]
  },
  {
   "cell_type": "markdown",
   "metadata": {},
   "source": [
    "Для столбца <b>RegistrationMonth</b>, судя по датафрейму сложно будет как-то ловко заполнить пустоты/0 корректными значениями, поэтому просто заменим 0 на медиану"
   ]
  },
  {
   "cell_type": "code",
   "execution_count": 22,
   "metadata": {},
   "outputs": [],
   "source": [
    "median_month = data[data['RegistrationMonth'] != 0]['RegistrationMonth'].median()\n",
    "data['RegistrationMonth'] = data['RegistrationMonth'].replace(0, median_month)"
   ]
  },
  {
   "cell_type": "markdown",
   "metadata": {},
   "source": [
    "Мы видим, что в столбце <b>Brand</b> нет пустот, поэтому мы можем использовать этот столбец, чтобы заполнить пустые значения столбца <b>Model</b> самым часто встречающимся значением из столбца <b>Brand</b>"
   ]
  },
  {
   "cell_type": "code",
   "execution_count": 23,
   "metadata": {},
   "outputs": [],
   "source": [
    "data['Model'] = data.groupby('Brand')['Model'].apply(lambda x: x.fillna(x.mode().iloc[0]) if not x.mode().empty else x)"
   ]
  },
  {
   "cell_type": "markdown",
   "metadata": {},
   "source": [
    "Проверим остались ли пустые значения в столбце <b>Model</b>"
   ]
  },
  {
   "cell_type": "code",
   "execution_count": 24,
   "metadata": {},
   "outputs": [],
   "source": [
    "explore_data3 = check_df(data)"
   ]
  },
  {
   "cell_type": "code",
   "execution_count": 25,
   "metadata": {},
   "outputs": [
    {
     "data": {
      "text/html": [
       "<div>\n",
       "<style scoped>\n",
       "    .dataframe tbody tr th:only-of-type {\n",
       "        vertical-align: middle;\n",
       "    }\n",
       "\n",
       "    .dataframe tbody tr th {\n",
       "        vertical-align: top;\n",
       "    }\n",
       "\n",
       "    .dataframe thead th {\n",
       "        text-align: right;\n",
       "    }\n",
       "</style>\n",
       "<table border=\"1\" class=\"dataframe\">\n",
       "  <thead>\n",
       "    <tr style=\"text-align: right;\">\n",
       "      <th></th>\n",
       "      <th>column</th>\n",
       "      <th>empty</th>\n",
       "      <th>duplicated</th>\n",
       "      <th>distinct</th>\n",
       "    </tr>\n",
       "  </thead>\n",
       "  <tbody>\n",
       "    <tr>\n",
       "      <th>0</th>\n",
       "      <td>DateCrawled</td>\n",
       "      <td>0</td>\n",
       "      <td>0</td>\n",
       "      <td>271174</td>\n",
       "    </tr>\n",
       "    <tr>\n",
       "      <th>1</th>\n",
       "      <td>Price</td>\n",
       "      <td>0</td>\n",
       "      <td>0</td>\n",
       "      <td>3731</td>\n",
       "    </tr>\n",
       "    <tr>\n",
       "      <th>2</th>\n",
       "      <td>VehicleType</td>\n",
       "      <td>37490</td>\n",
       "      <td>0</td>\n",
       "      <td>8</td>\n",
       "    </tr>\n",
       "    <tr>\n",
       "      <th>3</th>\n",
       "      <td>RegistrationYear</td>\n",
       "      <td>0</td>\n",
       "      <td>0</td>\n",
       "      <td>151</td>\n",
       "    </tr>\n",
       "    <tr>\n",
       "      <th>4</th>\n",
       "      <td>Gearbox</td>\n",
       "      <td>19833</td>\n",
       "      <td>0</td>\n",
       "      <td>2</td>\n",
       "    </tr>\n",
       "    <tr>\n",
       "      <th>5</th>\n",
       "      <td>Power</td>\n",
       "      <td>0</td>\n",
       "      <td>0</td>\n",
       "      <td>712</td>\n",
       "    </tr>\n",
       "    <tr>\n",
       "      <th>6</th>\n",
       "      <td>Model</td>\n",
       "      <td>3374</td>\n",
       "      <td>0</td>\n",
       "      <td>250</td>\n",
       "    </tr>\n",
       "    <tr>\n",
       "      <th>7</th>\n",
       "      <td>Kilometer</td>\n",
       "      <td>0</td>\n",
       "      <td>0</td>\n",
       "      <td>13</td>\n",
       "    </tr>\n",
       "    <tr>\n",
       "      <th>8</th>\n",
       "      <td>RegistrationMonth</td>\n",
       "      <td>0</td>\n",
       "      <td>0</td>\n",
       "      <td>12</td>\n",
       "    </tr>\n",
       "    <tr>\n",
       "      <th>9</th>\n",
       "      <td>FuelType</td>\n",
       "      <td>32895</td>\n",
       "      <td>0</td>\n",
       "      <td>7</td>\n",
       "    </tr>\n",
       "    <tr>\n",
       "      <th>10</th>\n",
       "      <td>Brand</td>\n",
       "      <td>0</td>\n",
       "      <td>0</td>\n",
       "      <td>40</td>\n",
       "    </tr>\n",
       "    <tr>\n",
       "      <th>11</th>\n",
       "      <td>Repaired</td>\n",
       "      <td>71154</td>\n",
       "      <td>0</td>\n",
       "      <td>2</td>\n",
       "    </tr>\n",
       "    <tr>\n",
       "      <th>12</th>\n",
       "      <td>DateCreated</td>\n",
       "      <td>0</td>\n",
       "      <td>0</td>\n",
       "      <td>109</td>\n",
       "    </tr>\n",
       "    <tr>\n",
       "      <th>13</th>\n",
       "      <td>NumberOfPictures</td>\n",
       "      <td>0</td>\n",
       "      <td>0</td>\n",
       "      <td>1</td>\n",
       "    </tr>\n",
       "    <tr>\n",
       "      <th>14</th>\n",
       "      <td>PostalCode</td>\n",
       "      <td>0</td>\n",
       "      <td>0</td>\n",
       "      <td>8143</td>\n",
       "    </tr>\n",
       "    <tr>\n",
       "      <th>15</th>\n",
       "      <td>LastSeen</td>\n",
       "      <td>0</td>\n",
       "      <td>0</td>\n",
       "      <td>179150</td>\n",
       "    </tr>\n",
       "  </tbody>\n",
       "</table>\n",
       "</div>"
      ],
      "text/plain": [
       "               column  empty  duplicated  distinct\n",
       "0         DateCrawled      0           0    271174\n",
       "1               Price      0           0      3731\n",
       "2         VehicleType  37490           0         8\n",
       "3    RegistrationYear      0           0       151\n",
       "4             Gearbox  19833           0         2\n",
       "5               Power      0           0       712\n",
       "6               Model   3374           0       250\n",
       "7           Kilometer      0           0        13\n",
       "8   RegistrationMonth      0           0        12\n",
       "9            FuelType  32895           0         7\n",
       "10              Brand      0           0        40\n",
       "11           Repaired  71154           0         2\n",
       "12        DateCreated      0           0       109\n",
       "13   NumberOfPictures      0           0         1\n",
       "14         PostalCode      0           0      8143\n",
       "15           LastSeen      0           0    179150"
      ]
     },
     "metadata": {},
     "output_type": "display_data"
    }
   ],
   "source": [
    "display(explore_data3)"
   ]
  },
  {
   "cell_type": "markdown",
   "metadata": {},
   "source": [
    "Осталось <b>3374</b> пустых значения в столбце <b>Model</b>, для них просто заполним пустоты значением <b>other</b>"
   ]
  },
  {
   "cell_type": "code",
   "execution_count": 26,
   "metadata": {},
   "outputs": [],
   "source": [
    "data['Model'] = data['Model'].fillna('other')"
   ]
  },
  {
   "cell_type": "markdown",
   "metadata": {},
   "source": [
    "Теперь у нас в столбцах <b>Model</b> и <b>Brand</b> нет пустых значений, поэтому теперь мы сможем заполнить пустоты столбца <b>VehicleType</b> путем группировки датафрейма по столбцам <b>Model</b> и <b>Brand</b> и заполнением самым распространенным значением пустот столбца <b>VehicleType</b>"
   ]
  },
  {
   "cell_type": "code",
   "execution_count": 27,
   "metadata": {},
   "outputs": [],
   "source": [
    "data.loc[:, 'VehicleType'] = data.groupby(['Model', 'Brand'])['VehicleType'].apply(lambda x: x.fillna(x.mode().iat[0]))"
   ]
  },
  {
   "cell_type": "markdown",
   "metadata": {},
   "source": [
    "Аналогичным образом поступим и в отношении столбцов <b>Gearbox</b> и <b>FuelType</b>"
   ]
  },
  {
   "cell_type": "code",
   "execution_count": 28,
   "metadata": {},
   "outputs": [],
   "source": [
    "data['Gearbox'] = data.groupby(['Brand', 'Model'])['Gearbox'].apply(lambda x: x.fillna(x.mode().iloc[0]) if not x.mode().empty else x)\n",
    "data['Gearbox'] = data['Gearbox'].fillna('other')\n",
    "\n",
    "data['FuelType'] = data.groupby(['Brand', 'Model'])['FuelType'].apply(lambda x: x.fillna(x.mode().iloc[0]) if not x.mode().empty else x)\n",
    "data['FuelType'] = data['FuelType'].fillna('other')"
   ]
  },
  {
   "cell_type": "code",
   "execution_count": 29,
   "metadata": {},
   "outputs": [],
   "source": [
    "data['Type_of_fuel'] = 'other'"
   ]
  },
  {
   "cell_type": "code",
   "execution_count": 30,
   "metadata": {},
   "outputs": [],
   "source": [
    "a_fuel = ['petrol', 'gasoline', 'lpg', 'cng']\n",
    "b_fuel = ['hybrid', 'electric']"
   ]
  },
  {
   "cell_type": "code",
   "execution_count": 31,
   "metadata": {},
   "outputs": [],
   "source": [
    "data.loc[data['FuelType'].isin(a_fuel), 'Type_of_fuel'] = 'usual'\n",
    "data.loc[data['FuelType'].isin(b_fuel), 'Type_of_fuel'] = 'eco'"
   ]
  },
  {
   "cell_type": "markdown",
   "metadata": {},
   "source": [
    "Для столбца <b>RegistrationYear</b> - там 150 уникальных значений, посмотрим что это такое"
   ]
  },
  {
   "cell_type": "code",
   "execution_count": 32,
   "metadata": {
    "scrolled": true
   },
   "outputs": [
    {
     "name": "stdout",
     "output_type": "stream",
     "text": [
      "[1993 2011 2004 2001 2008 1995 1980 2014 1998 2005 1910 2016 2007 2009\n",
      " 2002 2018 1997 1990 2017 1981 2003 1994 1991 1984 2006 1999 2012 2010\n",
      " 2000 1992 2013 1996 1985 1989 2015 1982 1976 1983 1973 1111 1969 1971\n",
      " 1987 1986 1988 1970 1965 1945 1925 1974 1979 1955 1978 1972 1968 1977\n",
      " 1961 1960 1966 1975 1963 1964 5000 1954 1958 1967 1959 9999 1956 3200\n",
      " 1000 1941 8888 1500 2200 4100 1962 1929 1957 1940 3000 2066 1949 2019\n",
      " 1937 1951 1800 1953 1234 8000 5300 9000 2900 6000 5900 5911 1933 1400\n",
      " 1950 4000 1948 1952 1200 8500 1932 1255 3700 3800 4800 1942 7000 1935\n",
      " 1936 6500 1923 2290 2500 1930 1001 9450 1944 1943 1934 1938 1688 2800\n",
      " 1253 1928 1919 5555 5600 1600 2222 1039 9996 1300 8455 1931 1915 4500\n",
      " 1920 1602 7800 9229 1947 1927 7100 8200 1946 7500 3500]\n"
     ]
    }
   ],
   "source": [
    "unique_values = data['RegistrationYear'].unique()\n",
    "print(unique_values)"
   ]
  },
  {
   "cell_type": "markdown",
   "metadata": {},
   "source": [
    "какая-то дичь"
   ]
  },
  {
   "cell_type": "code",
   "execution_count": 33,
   "metadata": {},
   "outputs": [],
   "source": [
    "data['RegistrationYear'] = pd.to_numeric(data['RegistrationYear'], errors='coerce')"
   ]
  },
  {
   "cell_type": "markdown",
   "metadata": {},
   "source": [
    "Создадим функцию, которая заменит непонятные значения на понятные, сначала найдем максимальное значение для столбца <b>DateCrawled</b> т.к. год регистрации машины не может быть позже даты скачивания анкеты"
   ]
  },
  {
   "cell_type": "code",
   "execution_count": 34,
   "metadata": {},
   "outputs": [
    {
     "data": {
      "text/plain": [
       "Timestamp('2016-04-07 14:36:58')"
      ]
     },
     "execution_count": 34,
     "metadata": {},
     "output_type": "execute_result"
    }
   ],
   "source": [
    "max_date_crawled = pd.to_datetime(data['DateCrawled'])\n",
    "max_date_crawled.max()"
   ]
  },
  {
   "cell_type": "markdown",
   "metadata": {},
   "source": [
    "Значит в функции верхняя граница будет 2016"
   ]
  },
  {
   "cell_type": "code",
   "execution_count": 35,
   "metadata": {},
   "outputs": [],
   "source": [
    "def replace_year(group):\n",
    "    median_year = int(group['RegistrationYear'].median())\n",
    "    group['RegistrationYear'] = np.where(\n",
    "        (group['RegistrationYear'] < 1950) | (group['RegistrationYear'] > 2016),\n",
    "        median_year,\n",
    "        group['RegistrationYear']\n",
    "    )\n",
    "    \n",
    "    return group"
   ]
  },
  {
   "cell_type": "markdown",
   "metadata": {},
   "source": [
    "Теперь используем созданную функцию, чтобы заменить нереальные значения на реальные"
   ]
  },
  {
   "cell_type": "code",
   "execution_count": 36,
   "metadata": {},
   "outputs": [],
   "source": [
    "data = data.groupby(['VehicleType', 'Brand', 'Model']).apply(replace_year).reset_index(drop=True)"
   ]
  },
  {
   "cell_type": "code",
   "execution_count": 37,
   "metadata": {},
   "outputs": [],
   "source": [
    "data = data.groupby(['Brand', 'Model']).apply(replace_year).reset_index(drop=True)"
   ]
  },
  {
   "cell_type": "markdown",
   "metadata": {},
   "source": [
    "Для столбца <b>Repaired</b> посмотрим корреляцию значения \"yes\" в столбце ремонт от км"
   ]
  },
  {
   "cell_type": "code",
   "execution_count": 38,
   "metadata": {},
   "outputs": [],
   "source": [
    "def plot_column_diagram(data, column, check, text):\n",
    "    if check == 'nan':\n",
    "        repaired_counts = data[data['Repaired'].isnull()][column].value_counts().sort_index()\n",
    "    else:\n",
    "        repaired_counts = data[data['Repaired'] == check][column].value_counts().sort_index()\n",
    "    \n",
    "    kilometer_labels = repaired_counts.index\n",
    "    repaired_counts_values = repaired_counts.values\n",
    "    \n",
    "    fig, ax = plt.subplots()\n",
    "    ax.bar(range(len(kilometer_labels)), repaired_counts_values, color='black')\n",
    "    \n",
    "    ax.set_xlabel('Kilometer')\n",
    "    ax.set_ylabel('Количество')\n",
    "    ax.set_title(f'Количество {text} для каждой категории км.')\n",
    "    \n",
    "    plt.xticks(range(len(kilometer_labels)), kilometer_labels, rotation=90)\n",
    "    plt.show()\n",
    "\n",
    "filtered_data = data.dropna(subset=['Repaired'])"
   ]
  },
  {
   "cell_type": "code",
   "execution_count": 39,
   "metadata": {},
   "outputs": [
    {
     "data": {
      "image/png": "[encoded data removed]",
      "text/plain": [
       "<Figure size 640x480 with 1 Axes>"
      ]
     },
     "metadata": {},
     "output_type": "display_data"
    }
   ],
   "source": [
    "plot_column_diagram(filtered_data, 'Kilometer', 'yes', 'отремонтированных тачек')"
   ]
  },
  {
   "cell_type": "markdown",
   "metadata": {},
   "source": [
    "Теперь посмотрим отдельно на км машин у которых нет значения в столбце <b>Repaired</b>"
   ]
  },
  {
   "cell_type": "code",
   "execution_count": 40,
   "metadata": {},
   "outputs": [
    {
     "data": {
      "image/png": "[encoded data removed]",
      "text/plain": [
       "<Figure size 640x480 with 1 Axes>"
      ]
     },
     "metadata": {},
     "output_type": "display_data"
    }
   ],
   "source": [
    "plot_column_diagram(data, 'Kilometer', 'nan', 'отсутствующих значений для тачек')"
   ]
  },
  {
   "cell_type": "markdown",
   "metadata": {},
   "source": [
    "Заполним все пустоты столбца <b>Repaired</b> значением \"yes\""
   ]
  },
  {
   "cell_type": "code",
   "execution_count": 41,
   "metadata": {},
   "outputs": [],
   "source": [
    "data['Repaired'] = data['Repaired'].fillna('yes')"
   ]
  },
  {
   "cell_type": "markdown",
   "metadata": {},
   "source": [
    "Теперь посмотрим на числовые признаки"
   ]
  },
  {
   "cell_type": "code",
   "execution_count": 42,
   "metadata": {},
   "outputs": [
    {
     "data": {
      "text/html": [
       "<div>\n",
       "<style scoped>\n",
       "    .dataframe tbody tr th:only-of-type {\n",
       "        vertical-align: middle;\n",
       "    }\n",
       "\n",
       "    .dataframe tbody tr th {\n",
       "        vertical-align: top;\n",
       "    }\n",
       "\n",
       "    .dataframe thead th {\n",
       "        text-align: right;\n",
       "    }\n",
       "</style>\n",
       "<table border=\"1\" class=\"dataframe\">\n",
       "  <thead>\n",
       "    <tr style=\"text-align: right;\">\n",
       "      <th></th>\n",
       "      <th>Price</th>\n",
       "      <th>RegistrationYear</th>\n",
       "      <th>Power</th>\n",
       "      <th>Kilometer</th>\n",
       "      <th>RegistrationMonth</th>\n",
       "      <th>NumberOfPictures</th>\n",
       "      <th>PostalCode</th>\n",
       "    </tr>\n",
       "  </thead>\n",
       "  <tbody>\n",
       "    <tr>\n",
       "      <th>count</th>\n",
       "      <td>354365.000000</td>\n",
       "      <td>354365.000000</td>\n",
       "      <td>354365.000000</td>\n",
       "      <td>354365.000000</td>\n",
       "      <td>354365.000000</td>\n",
       "      <td>354365.0</td>\n",
       "      <td>354365.000000</td>\n",
       "    </tr>\n",
       "    <tr>\n",
       "      <th>mean</th>\n",
       "      <td>4416.679830</td>\n",
       "      <td>2002.549261</td>\n",
       "      <td>110.093816</td>\n",
       "      <td>128211.363989</td>\n",
       "      <td>6.347083</td>\n",
       "      <td>0.0</td>\n",
       "      <td>50508.503800</td>\n",
       "    </tr>\n",
       "    <tr>\n",
       "      <th>std</th>\n",
       "      <td>4514.176349</td>\n",
       "      <td>6.719538</td>\n",
       "      <td>189.851330</td>\n",
       "      <td>37905.083858</td>\n",
       "      <td>3.170591</td>\n",
       "      <td>0.0</td>\n",
       "      <td>25783.100078</td>\n",
       "    </tr>\n",
       "    <tr>\n",
       "      <th>min</th>\n",
       "      <td>0.000000</td>\n",
       "      <td>1950.000000</td>\n",
       "      <td>0.000000</td>\n",
       "      <td>5000.000000</td>\n",
       "      <td>1.000000</td>\n",
       "      <td>0.0</td>\n",
       "      <td>1067.000000</td>\n",
       "    </tr>\n",
       "    <tr>\n",
       "      <th>25%</th>\n",
       "      <td>1050.000000</td>\n",
       "      <td>1999.000000</td>\n",
       "      <td>69.000000</td>\n",
       "      <td>125000.000000</td>\n",
       "      <td>4.000000</td>\n",
       "      <td>0.0</td>\n",
       "      <td>30165.000000</td>\n",
       "    </tr>\n",
       "    <tr>\n",
       "      <th>50%</th>\n",
       "      <td>2700.000000</td>\n",
       "      <td>2003.000000</td>\n",
       "      <td>105.000000</td>\n",
       "      <td>150000.000000</td>\n",
       "      <td>6.000000</td>\n",
       "      <td>0.0</td>\n",
       "      <td>49413.000000</td>\n",
       "    </tr>\n",
       "    <tr>\n",
       "      <th>75%</th>\n",
       "      <td>6400.000000</td>\n",
       "      <td>2007.000000</td>\n",
       "      <td>143.000000</td>\n",
       "      <td>150000.000000</td>\n",
       "      <td>9.000000</td>\n",
       "      <td>0.0</td>\n",
       "      <td>71083.000000</td>\n",
       "    </tr>\n",
       "    <tr>\n",
       "      <th>max</th>\n",
       "      <td>20000.000000</td>\n",
       "      <td>2016.000000</td>\n",
       "      <td>20000.000000</td>\n",
       "      <td>150000.000000</td>\n",
       "      <td>12.000000</td>\n",
       "      <td>0.0</td>\n",
       "      <td>99998.000000</td>\n",
       "    </tr>\n",
       "  </tbody>\n",
       "</table>\n",
       "</div>"
      ],
      "text/plain": [
       "               Price  RegistrationYear          Power      Kilometer  \\\n",
       "count  354365.000000     354365.000000  354365.000000  354365.000000   \n",
       "mean     4416.679830       2002.549261     110.093816  128211.363989   \n",
       "std      4514.176349          6.719538     189.851330   37905.083858   \n",
       "min         0.000000       1950.000000       0.000000    5000.000000   \n",
       "25%      1050.000000       1999.000000      69.000000  125000.000000   \n",
       "50%      2700.000000       2003.000000     105.000000  150000.000000   \n",
       "75%      6400.000000       2007.000000     143.000000  150000.000000   \n",
       "max     20000.000000       2016.000000   20000.000000  150000.000000   \n",
       "\n",
       "       RegistrationMonth  NumberOfPictures     PostalCode  \n",
       "count      354365.000000          354365.0  354365.000000  \n",
       "mean            6.347083               0.0   50508.503800  \n",
       "std             3.170591               0.0   25783.100078  \n",
       "min             1.000000               0.0    1067.000000  \n",
       "25%             4.000000               0.0   30165.000000  \n",
       "50%             6.000000               0.0   49413.000000  \n",
       "75%             9.000000               0.0   71083.000000  \n",
       "max            12.000000               0.0   99998.000000  "
      ]
     },
     "execution_count": 42,
     "metadata": {},
     "output_type": "execute_result"
    }
   ],
   "source": [
    "data.describe()"
   ]
  },
  {
   "cell_type": "markdown",
   "metadata": {},
   "source": [
    "Странности\n",
    "<br>\n",
    "<b>Price</b> - Минимальное значение 0\n",
    "<br>\n",
    "<b>Power</b> - Минимальное значение 0, максмальноле значение 20000\n",
    "<br>"
   ]
  },
  {
   "cell_type": "markdown",
   "metadata": {},
   "source": [
    "Уберем строки с ценой меньше 99"
   ]
  },
  {
   "cell_type": "code",
   "execution_count": 43,
   "metadata": {},
   "outputs": [],
   "source": [
    "data = data[data['Price'] > 99]"
   ]
  },
  {
   "cell_type": "markdown",
   "metadata": {},
   "source": [
    "Уберем строки с мощностью л.с. меньше 10 и больше 350"
   ]
  },
  {
   "cell_type": "code",
   "execution_count": 44,
   "metadata": {},
   "outputs": [],
   "source": [
    "data = data[(data['Power'] >= 10) & (data['Power'] <= 350)]"
   ]
  },
  {
   "cell_type": "code",
   "execution_count": 45,
   "metadata": {},
   "outputs": [
    {
     "data": {
      "text/html": [
       "<div>\n",
       "<style scoped>\n",
       "    .dataframe tbody tr th:only-of-type {\n",
       "        vertical-align: middle;\n",
       "    }\n",
       "\n",
       "    .dataframe tbody tr th {\n",
       "        vertical-align: top;\n",
       "    }\n",
       "\n",
       "    .dataframe thead th {\n",
       "        text-align: right;\n",
       "    }\n",
       "</style>\n",
       "<table border=\"1\" class=\"dataframe\">\n",
       "  <thead>\n",
       "    <tr style=\"text-align: right;\">\n",
       "      <th></th>\n",
       "      <th>Price</th>\n",
       "      <th>RegistrationYear</th>\n",
       "      <th>Power</th>\n",
       "      <th>Kilometer</th>\n",
       "      <th>RegistrationMonth</th>\n",
       "      <th>NumberOfPictures</th>\n",
       "      <th>PostalCode</th>\n",
       "    </tr>\n",
       "  </thead>\n",
       "  <tbody>\n",
       "    <tr>\n",
       "      <th>count</th>\n",
       "      <td>304642.000000</td>\n",
       "      <td>304642.000000</td>\n",
       "      <td>304642.000000</td>\n",
       "      <td>304642.000000</td>\n",
       "      <td>304642.000000</td>\n",
       "      <td>304642.0</td>\n",
       "      <td>304642.000000</td>\n",
       "    </tr>\n",
       "    <tr>\n",
       "      <th>mean</th>\n",
       "      <td>4810.095680</td>\n",
       "      <td>2002.855329</td>\n",
       "      <td>119.580783</td>\n",
       "      <td>128447.981565</td>\n",
       "      <td>6.356589</td>\n",
       "      <td>0.0</td>\n",
       "      <td>51156.540664</td>\n",
       "    </tr>\n",
       "    <tr>\n",
       "      <th>std</th>\n",
       "      <td>4565.651627</td>\n",
       "      <td>6.396341</td>\n",
       "      <td>51.573451</td>\n",
       "      <td>36655.418029</td>\n",
       "      <td>3.238608</td>\n",
       "      <td>0.0</td>\n",
       "      <td>25760.500378</td>\n",
       "    </tr>\n",
       "    <tr>\n",
       "      <th>min</th>\n",
       "      <td>100.000000</td>\n",
       "      <td>1950.000000</td>\n",
       "      <td>10.000000</td>\n",
       "      <td>5000.000000</td>\n",
       "      <td>1.000000</td>\n",
       "      <td>0.0</td>\n",
       "      <td>1067.000000</td>\n",
       "    </tr>\n",
       "    <tr>\n",
       "      <th>25%</th>\n",
       "      <td>1350.000000</td>\n",
       "      <td>1999.000000</td>\n",
       "      <td>75.000000</td>\n",
       "      <td>125000.000000</td>\n",
       "      <td>4.000000</td>\n",
       "      <td>0.0</td>\n",
       "      <td>30916.000000</td>\n",
       "    </tr>\n",
       "    <tr>\n",
       "      <th>50%</th>\n",
       "      <td>3100.000000</td>\n",
       "      <td>2003.000000</td>\n",
       "      <td>110.000000</td>\n",
       "      <td>150000.000000</td>\n",
       "      <td>6.000000</td>\n",
       "      <td>0.0</td>\n",
       "      <td>50170.000000</td>\n",
       "    </tr>\n",
       "    <tr>\n",
       "      <th>75%</th>\n",
       "      <td>6950.000000</td>\n",
       "      <td>2007.000000</td>\n",
       "      <td>150.000000</td>\n",
       "      <td>150000.000000</td>\n",
       "      <td>9.000000</td>\n",
       "      <td>0.0</td>\n",
       "      <td>71711.000000</td>\n",
       "    </tr>\n",
       "    <tr>\n",
       "      <th>max</th>\n",
       "      <td>20000.000000</td>\n",
       "      <td>2016.000000</td>\n",
       "      <td>350.000000</td>\n",
       "      <td>150000.000000</td>\n",
       "      <td>12.000000</td>\n",
       "      <td>0.0</td>\n",
       "      <td>99998.000000</td>\n",
       "    </tr>\n",
       "  </tbody>\n",
       "</table>\n",
       "</div>"
      ],
      "text/plain": [
       "               Price  RegistrationYear          Power      Kilometer  \\\n",
       "count  304642.000000     304642.000000  304642.000000  304642.000000   \n",
       "mean     4810.095680       2002.855329     119.580783  128447.981565   \n",
       "std      4565.651627          6.396341      51.573451   36655.418029   \n",
       "min       100.000000       1950.000000      10.000000    5000.000000   \n",
       "25%      1350.000000       1999.000000      75.000000  125000.000000   \n",
       "50%      3100.000000       2003.000000     110.000000  150000.000000   \n",
       "75%      6950.000000       2007.000000     150.000000  150000.000000   \n",
       "max     20000.000000       2016.000000     350.000000  150000.000000   \n",
       "\n",
       "       RegistrationMonth  NumberOfPictures     PostalCode  \n",
       "count      304642.000000          304642.0  304642.000000  \n",
       "mean            6.356589               0.0   51156.540664  \n",
       "std             3.238608               0.0   25760.500378  \n",
       "min             1.000000               0.0    1067.000000  \n",
       "25%             4.000000               0.0   30916.000000  \n",
       "50%             6.000000               0.0   50170.000000  \n",
       "75%             9.000000               0.0   71711.000000  \n",
       "max            12.000000               0.0   99998.000000  "
      ]
     },
     "execution_count": 45,
     "metadata": {},
     "output_type": "execute_result"
    }
   ],
   "source": [
    "data.describe()"
   ]
  },
  {
   "cell_type": "code",
   "execution_count": 46,
   "metadata": {},
   "outputs": [
    {
     "name": "stdout",
     "output_type": "stream",
     "text": [
      "<class 'pandas.core.frame.DataFrame'>\n",
      "Int64Index: 304642 entries, 1 to 354364\n",
      "Data columns (total 17 columns):\n",
      " #   Column             Non-Null Count   Dtype \n",
      "---  ------             --------------   ----- \n",
      " 0   DateCrawled        304642 non-null  object\n",
      " 1   Price              304642 non-null  int64 \n",
      " 2   VehicleType        304642 non-null  object\n",
      " 3   RegistrationYear   304642 non-null  int64 \n",
      " 4   Gearbox            304642 non-null  object\n",
      " 5   Power              304642 non-null  int64 \n",
      " 6   Model              304642 non-null  object\n",
      " 7   Kilometer          304642 non-null  int64 \n",
      " 8   RegistrationMonth  304642 non-null  int64 \n",
      " 9   FuelType           304642 non-null  object\n",
      " 10  Brand              304642 non-null  object\n",
      " 11  Repaired           304642 non-null  object\n",
      " 12  DateCreated        304642 non-null  object\n",
      " 13  NumberOfPictures   304642 non-null  int64 \n",
      " 14  PostalCode         304642 non-null  int64 \n",
      " 15  LastSeen           304642 non-null  object\n",
      " 16  Type_of_fuel       304642 non-null  object\n",
      "dtypes: int64(7), object(10)\n",
      "memory usage: 41.8+ MB\n"
     ]
    }
   ],
   "source": [
    "data.info()"
   ]
  },
  {
   "cell_type": "code",
   "execution_count": 47,
   "metadata": {},
   "outputs": [
    {
     "name": "stdout",
     "output_type": "stream",
     "text": [
      "['coupe' 'suv' 'small' 'sedan' 'convertible' 'bus' 'wagon' 'other']\n"
     ]
    }
   ],
   "source": [
    "unique_values = data['VehicleType'].unique()\n",
    "print(unique_values)"
   ]
  },
  {
   "cell_type": "code",
   "execution_count": 48,
   "metadata": {},
   "outputs": [
    {
     "name": "stdout",
     "output_type": "stream",
     "text": [
      "['gasoline' 'petrol' 'lpg' 'other' 'hybrid' 'cng' 'electric']\n"
     ]
    }
   ],
   "source": [
    "unique_values = data['FuelType'].unique()\n",
    "print(unique_values)"
   ]
  },
  {
   "cell_type": "markdown",
   "metadata": {},
   "source": [
    "После всех действий можно еще удалить <b>other</b>"
   ]
  },
  {
   "cell_type": "code",
   "execution_count": 49,
   "metadata": {},
   "outputs": [],
   "source": [
    "data = data[(data['VehicleType'] != 'other') & (data['FuelType'] != 'other')]"
   ]
  },
  {
   "cell_type": "markdown",
   "metadata": {},
   "source": [
    "### Подготовим данные для обучения"
   ]
  },
  {
   "cell_type": "markdown",
   "metadata": {},
   "source": [
    "Создадим новый датафрейм, без лишних столбцов"
   ]
  },
  {
   "cell_type": "code",
   "execution_count": 50,
   "metadata": {},
   "outputs": [],
   "source": [
    "columns=['Price', 'VehicleType', 'RegistrationYear', 'Gearbox',\n",
    "       'Power', 'Model', 'Kilometer', 'RegistrationMonth', 'FuelType', 'Brand',\n",
    "       'Repaired','PostalCode']"
   ]
  },
  {
   "cell_type": "code",
   "execution_count": 51,
   "metadata": {
    "scrolled": true
   },
   "outputs": [],
   "source": [
    "data_for_model = data[columns].copy()"
   ]
  },
  {
   "cell_type": "code",
   "execution_count": 52,
   "metadata": {},
   "outputs": [],
   "source": [
    "data_for_model = data_for_model.reset_index(drop=True)"
   ]
  },
  {
   "cell_type": "code",
   "execution_count": 53,
   "metadata": {},
   "outputs": [
    {
     "name": "stdout",
     "output_type": "stream",
     "text": [
      "<class 'pandas.core.frame.DataFrame'>\n",
      "RangeIndex: 302126 entries, 0 to 302125\n",
      "Data columns (total 12 columns):\n",
      " #   Column             Non-Null Count   Dtype \n",
      "---  ------             --------------   ----- \n",
      " 0   Price              302126 non-null  int64 \n",
      " 1   VehicleType        302126 non-null  object\n",
      " 2   RegistrationYear   302126 non-null  int64 \n",
      " 3   Gearbox            302126 non-null  object\n",
      " 4   Power              302126 non-null  int64 \n",
      " 5   Model              302126 non-null  object\n",
      " 6   Kilometer          302126 non-null  int64 \n",
      " 7   RegistrationMonth  302126 non-null  int64 \n",
      " 8   FuelType           302126 non-null  object\n",
      " 9   Brand              302126 non-null  object\n",
      " 10  Repaired           302126 non-null  object\n",
      " 11  PostalCode         302126 non-null  int64 \n",
      "dtypes: int64(6), object(6)\n",
      "memory usage: 27.7+ MB\n"
     ]
    }
   ],
   "source": [
    "data_for_model.info()"
   ]
  },
  {
   "cell_type": "code",
   "execution_count": 54,
   "metadata": {},
   "outputs": [
    {
     "name": "stdout",
     "output_type": "stream",
     "text": [
      "Price                0\n",
      "VehicleType          0\n",
      "RegistrationYear     0\n",
      "Gearbox              0\n",
      "Power                0\n",
      "Model                0\n",
      "Kilometer            0\n",
      "RegistrationMonth    0\n",
      "FuelType             0\n",
      "Brand                0\n",
      "Repaired             0\n",
      "PostalCode           0\n",
      "dtype: int64\n"
     ]
    }
   ],
   "source": [
    "missing_values_count = data_for_model.isnull().sum()\n",
    "print(missing_values_count)"
   ]
  },
  {
   "cell_type": "markdown",
   "metadata": {},
   "source": [
    "Разделим данные на основную выборку и целевые признаки"
   ]
  },
  {
   "cell_type": "code",
   "execution_count": 55,
   "metadata": {},
   "outputs": [],
   "source": [
    "features = data_for_model.drop(['Price'],axis=1)\n",
    "target = data_for_model['Price']"
   ]
  },
  {
   "cell_type": "markdown",
   "metadata": {},
   "source": [
    "Разделим тестовую и тренировочные выборки"
   ]
  },
  {
   "cell_type": "code",
   "execution_count": 56,
   "metadata": {},
   "outputs": [],
   "source": [
    "train_features, test_features, train_target, test_target = train_test_split(features, target, test_size=0.25, random_state=RANDOM_SEED)"
   ]
  },
  {
   "cell_type": "code",
   "execution_count": 57,
   "metadata": {
    "scrolled": false
   },
   "outputs": [
    {
     "name": "stdout",
     "output_type": "stream",
     "text": [
      "Размер тренировочной выборки: 75%\n",
      "Размер тестовой выборки: 25%\n"
     ]
    }
   ],
   "source": [
    "train_sample = train_features.shape[0]/features.shape[0]\n",
    "test_sample = test_target.shape[0]/target.shape[0]\n",
    "\n",
    "print('Размер тренировочной выборки: {:.0%}'.format(train_sample))\n",
    "print('Размер тестовой выборки: {:.0%}'.format(test_sample))"
   ]
  },
  {
   "cell_type": "markdown",
   "metadata": {},
   "source": [
    "Категориальные признаки"
   ]
  },
  {
   "cell_type": "code",
   "execution_count": 58,
   "metadata": {},
   "outputs": [],
   "source": [
    "col=['VehicleType', 'Gearbox','Model',\n",
    "       'FuelType', 'Brand', 'Repaired']"
   ]
  },
  {
   "cell_type": "code",
   "execution_count": 59,
   "metadata": {},
   "outputs": [],
   "source": [
    "encoder = OrdinalEncoder(handle_unknown='use_encoded_value', unknown_value=-1)\n",
    "\n",
    "encoder.fit(train_features[col])\n",
    "\n",
    "encoded_train_features = train_features.copy()\n",
    "encoded_train_features[col] = encoder.transform(train_features[col])\n",
    "\n",
    "encoded_test_features = test_features.copy()\n",
    "encoded_test_features[col] = encoder.transform(test_features[col])"
   ]
  },
  {
   "cell_type": "markdown",
   "metadata": {},
   "source": [
    "## Обучение моделей"
   ]
  },
  {
   "cell_type": "markdown",
   "metadata": {},
   "source": [
    "### LightGBM"
   ]
  },
  {
   "cell_type": "code",
   "execution_count": 79,
   "metadata": {},
   "outputs": [],
   "source": [
    "param_grid_lgb = {\n",
    "    'num_leaves': [10, 50, 100]\n",
    "}"
   ]
  },
  {
   "cell_type": "code",
   "execution_count": 80,
   "metadata": {},
   "outputs": [],
   "source": [
    "lgb_model = lgb.LGBMRegressor(random_state=RANDOM_SEED)"
   ]
  },
  {
   "cell_type": "code",
   "execution_count": 81,
   "metadata": {},
   "outputs": [],
   "source": [
    "grid_search_lgb = GridSearchCV(lgb_model, param_grid_lgb)"
   ]
  },
  {
   "cell_type": "code",
   "execution_count": 82,
   "metadata": {},
   "outputs": [],
   "source": [
    "start_time = time.time()\n",
    "grid_search_lgb.fit(encoded_train_features, train_target)\n",
    "training_time_lgb = time.time() - start_time"
   ]
  },
  {
   "cell_type": "code",
   "execution_count": 83,
   "metadata": {},
   "outputs": [],
   "source": [
    "best_model_lgb = grid_search_lgb.best_estimator_\n",
    "best_params_lgb = grid_search_lgb.best_params_\n",
    "cv_results_lgb = grid_search_lgb.cv_results_"
   ]
  },
  {
   "cell_type": "code",
   "execution_count": 84,
   "metadata": {},
   "outputs": [
    {
     "name": "stdout",
     "output_type": "stream",
     "text": [
      "Лучшие параметры: {'num_leaves': 100}\n"
     ]
    }
   ],
   "source": [
    "print(\"Лучшие параметры:\", best_params_lgb)"
   ]
  },
  {
   "cell_type": "code",
   "execution_count": 85,
   "metadata": {},
   "outputs": [],
   "source": [
    "start_time = time.time()\n",
    "predictions_lgb = best_model_lgb.predict(encoded_train_features)\n",
    "prediction_time_lgb = time.time() - start_time"
   ]
  },
  {
   "cell_type": "markdown",
   "metadata": {},
   "source": [
    "### Случайный лес"
   ]
  },
  {
   "cell_type": "code",
   "execution_count": 67,
   "metadata": {},
   "outputs": [],
   "source": [
    "param_grid_rf = {\n",
    "    'n_estimators': [100],\n",
    "    'max_depth': [5]\n",
    "}"
   ]
  },
  {
   "cell_type": "code",
   "execution_count": 68,
   "metadata": {},
   "outputs": [],
   "source": [
    "rf_model = RandomForestRegressor(random_state=RANDOM_SEED)"
   ]
  },
  {
   "cell_type": "code",
   "execution_count": 69,
   "metadata": {},
   "outputs": [],
   "source": [
    "grid_search_rf = GridSearchCV(rf_model, param_grid_rf)"
   ]
  },
  {
   "cell_type": "code",
   "execution_count": 70,
   "metadata": {},
   "outputs": [],
   "source": [
    "start_time = time.time()\n",
    "grid_search_rf.fit(encoded_train_features, train_target)\n",
    "training_time_rf = time.time() - start_time"
   ]
  },
  {
   "cell_type": "code",
   "execution_count": 71,
   "metadata": {},
   "outputs": [],
   "source": [
    "best_model_rf = grid_search_rf.best_estimator_\n",
    "best_params_rf = grid_search_rf.best_params_\n",
    "cv_results_rf = grid_search_rf.cv_results_"
   ]
  },
  {
   "cell_type": "code",
   "execution_count": 72,
   "metadata": {},
   "outputs": [
    {
     "name": "stdout",
     "output_type": "stream",
     "text": [
      "Лучшие параметры: {'max_depth': 5, 'n_estimators': 100}\n"
     ]
    }
   ],
   "source": [
    "print(\"Лучшие параметры:\", best_params_rf)"
   ]
  },
  {
   "cell_type": "code",
   "execution_count": 73,
   "metadata": {},
   "outputs": [],
   "source": [
    "start_time = time.time()\n",
    "predictions_rf = best_model_rf.predict(encoded_train_features)\n",
    "prediction_time_rf = time.time() - start_time"
   ]
  },
  {
   "cell_type": "markdown",
   "metadata": {},
   "source": [
    "## Анализ моделей"
   ]
  },
  {
   "cell_type": "markdown",
   "metadata": {},
   "source": [
    "### LightGBM"
   ]
  },
  {
   "cell_type": "code",
   "execution_count": 86,
   "metadata": {
    "scrolled": true
   },
   "outputs": [
    {
     "name": "stdout",
     "output_type": "stream",
     "text": [
      "Модель LightGBM:\n",
      "Время обучения: 7.24\n",
      "Скорость предсказания: 0.16\n"
     ]
    }
   ],
   "source": [
    "print(\"Модель LightGBM:\")\n",
    "print(\"Время обучения:\", round(training_time_lgb, 2))\n",
    "print(\"Скорость предсказания:\", round(prediction_time_lgb, 2))"
   ]
  },
  {
   "cell_type": "markdown",
   "metadata": {},
   "source": [
    "### Случайный лес"
   ]
  },
  {
   "cell_type": "code",
   "execution_count": 75,
   "metadata": {},
   "outputs": [
    {
     "name": "stdout",
     "output_type": "stream",
     "text": [
      "Модель RandomForest:\n",
      "Время обучения: 84.01\n",
      "Скорость предсказания на тренировочной выборке: 0.73\n"
     ]
    }
   ],
   "source": [
    "print(\"Модель RandomForest:\")\n",
    "print(\"Время обучения:\", round(training_time_rf, 2))\n",
    "print(\"Скорость предсказания на тренировочной выборке:\", round(prediction_time_rf, 2))"
   ]
  },
  {
   "cell_type": "markdown",
   "metadata": {},
   "source": [
    "### Вывод"
   ]
  },
  {
   "cell_type": "markdown",
   "metadata": {},
   "source": [
    "Сравнивая метрики, можно сделать следующие наблюдения:\n",
    "<br>\n",
    "<br>\n",
    "Модель LightGBM имеет ниже значение RMSE (1547.24), что указывает на более точные предсказания, по сравнению с RMSE модели Случайного леса (2366.22).\n",
    "<br>\n",
    "<br>\n",
    "Модель Случайного леса обучается немного дольше (84.01) по сравнению с моделью LightGBM (7.24), а также скорость предсказания у модели RandomForest (0.73) значительно медленнее, чем у модели LightGBM (0.16)."
   ]
  },
  {
   "cell_type": "markdown",
   "metadata": {},
   "source": [
    "Используем LightGBM на тестовой выборке"
   ]
  },
  {
   "cell_type": "code",
   "execution_count": 76,
   "metadata": {},
   "outputs": [],
   "source": [
    "predictions_test_lgb = best_model_lgb.predict(encoded_test_features)"
   ]
  },
  {
   "cell_type": "code",
   "execution_count": 77,
   "metadata": {},
   "outputs": [],
   "source": [
    "rmse_lgb_test = mean_squared_error(test_target, predictions_test_lgb, squared=False)"
   ]
  },
  {
   "cell_type": "code",
   "execution_count": 78,
   "metadata": {},
   "outputs": [
    {
     "name": "stdout",
     "output_type": "stream",
     "text": [
      "RMSE на тестовой выборке: 1631.67\n"
     ]
    }
   ],
   "source": [
    "print(\"RMSE на тестовой выборке:\", round(rmse_lgb_test, 2))"
   ]
  },
  {
   "cell_type": "markdown",
   "metadata": {},
   "source": [
    "Исходя из требований RMSE на тестовой выборке не должен превышать 2500. \n",
    "<br>\n",
    "Успех"
   ]
  }
 ],
 "metadata": {
  "ExecuteTimeLog": [
   {
    "duration": 426,
    "start_time": "2023-06-17T10:30:40.842Z"
   },
   {
    "duration": 2,
    "start_time": "2023-06-17T10:42:33.706Z"
   },
   {
    "duration": 3062,
    "start_time": "2023-06-17T10:42:34.547Z"
   },
   {
    "duration": 3,
    "start_time": "2023-06-17T10:46:17.049Z"
   },
   {
    "duration": 70,
    "start_time": "2023-06-17T10:46:39.636Z"
   },
   {
    "duration": 4,
    "start_time": "2023-06-17T10:47:00.614Z"
   },
   {
    "duration": 12,
    "start_time": "2023-06-17T10:47:01.029Z"
   },
   {
    "duration": 4,
    "start_time": "2023-06-17T10:47:23.457Z"
   },
   {
    "duration": 11,
    "start_time": "2023-06-17T10:47:23.914Z"
   },
   {
    "duration": 3,
    "start_time": "2023-06-17T10:47:33.790Z"
   },
   {
    "duration": 142,
    "start_time": "2023-06-17T10:47:34.057Z"
   },
   {
    "duration": 4,
    "start_time": "2023-06-17T10:48:37.606Z"
   },
   {
    "duration": 630,
    "start_time": "2023-06-17T10:48:37.906Z"
   },
   {
    "duration": 20,
    "start_time": "2023-06-17T10:48:45.826Z"
   },
   {
    "duration": 580,
    "start_time": "2023-06-17T10:55:33.832Z"
   },
   {
    "duration": 13,
    "start_time": "2023-06-17T10:55:41.518Z"
   },
   {
    "duration": 139,
    "start_time": "2023-06-17T10:59:02.942Z"
   },
   {
    "duration": 29,
    "start_time": "2023-06-17T10:59:03.214Z"
   },
   {
    "duration": 137,
    "start_time": "2023-06-17T10:59:26.406Z"
   },
   {
    "duration": 19,
    "start_time": "2023-06-17T10:59:26.638Z"
   },
   {
    "duration": 155,
    "start_time": "2023-06-17T10:59:36.259Z"
   },
   {
    "duration": 20,
    "start_time": "2023-06-17T10:59:36.530Z"
   },
   {
    "duration": 146,
    "start_time": "2023-06-17T10:59:50.623Z"
   },
   {
    "duration": 24,
    "start_time": "2023-06-17T10:59:51.041Z"
   },
   {
    "duration": 142,
    "start_time": "2023-06-17T10:59:58.153Z"
   },
   {
    "duration": 21,
    "start_time": "2023-06-17T10:59:59.114Z"
   },
   {
    "duration": 79,
    "start_time": "2023-06-17T11:00:11.534Z"
   },
   {
    "duration": 36,
    "start_time": "2023-06-17T11:00:11.849Z"
   },
   {
    "duration": 98,
    "start_time": "2023-06-17T11:00:20.958Z"
   },
   {
    "duration": 21,
    "start_time": "2023-06-17T11:00:21.358Z"
   },
   {
    "duration": 63,
    "start_time": "2023-06-17T11:00:41.021Z"
   },
   {
    "duration": 35,
    "start_time": "2023-06-17T11:00:41.443Z"
   },
   {
    "duration": 66,
    "start_time": "2023-06-17T11:00:57.590Z"
   },
   {
    "duration": 19,
    "start_time": "2023-06-17T11:00:57.944Z"
   },
   {
    "duration": 62,
    "start_time": "2023-06-17T11:09:42.024Z"
   },
   {
    "duration": 467,
    "start_time": "2023-06-17T11:09:54.379Z"
   },
   {
    "duration": 18,
    "start_time": "2023-06-17T11:09:54.848Z"
   },
   {
    "duration": 500,
    "start_time": "2023-06-17T11:10:31.443Z"
   },
   {
    "duration": 22,
    "start_time": "2023-06-17T11:10:31.945Z"
   },
   {
    "duration": 3,
    "start_time": "2023-06-17T11:11:23.729Z"
   },
   {
    "duration": 543,
    "start_time": "2023-06-17T11:11:24.222Z"
   },
   {
    "duration": 9,
    "start_time": "2023-06-17T11:11:24.767Z"
   },
   {
    "duration": 3,
    "start_time": "2023-06-17T11:11:35.910Z"
   },
   {
    "duration": 540,
    "start_time": "2023-06-17T11:11:36.137Z"
   },
   {
    "duration": 7,
    "start_time": "2023-06-17T11:11:36.679Z"
   },
   {
    "duration": 555,
    "start_time": "2023-06-17T11:14:44.675Z"
   },
   {
    "duration": 581,
    "start_time": "2023-06-17T11:14:54.521Z"
   },
   {
    "duration": 8,
    "start_time": "2023-06-17T11:14:55.476Z"
   },
   {
    "duration": 106,
    "start_time": "2023-06-17T11:16:33.022Z"
   },
   {
    "duration": 4,
    "start_time": "2023-06-17T11:27:27.773Z"
   },
   {
    "duration": 977,
    "start_time": "2023-06-17T11:27:28.150Z"
   },
   {
    "duration": 8,
    "start_time": "2023-06-17T11:27:29.129Z"
   },
   {
    "duration": 315,
    "start_time": "2023-06-17T11:32:36.725Z"
   },
   {
    "duration": 361,
    "start_time": "2023-06-17T11:32:59.774Z"
   },
   {
    "duration": 324,
    "start_time": "2023-06-17T11:33:24.701Z"
   },
   {
    "duration": 924,
    "start_time": "2023-06-17T11:33:29.766Z"
   },
   {
    "duration": 8,
    "start_time": "2023-06-17T11:33:31.111Z"
   },
   {
    "duration": 3,
    "start_time": "2023-06-17T11:33:41.776Z"
   },
   {
    "duration": 834,
    "start_time": "2023-06-17T11:33:42.716Z"
   },
   {
    "duration": 4,
    "start_time": "2023-06-17T11:33:44.652Z"
   },
   {
    "duration": 1009,
    "start_time": "2023-06-17T11:33:45.422Z"
   },
   {
    "duration": 9,
    "start_time": "2023-06-17T11:33:46.973Z"
   },
   {
    "duration": 501,
    "start_time": "2023-06-17T11:33:51.353Z"
   },
   {
    "duration": 13,
    "start_time": "2023-06-17T11:33:52.515Z"
   },
   {
    "duration": 440,
    "start_time": "2023-06-17T11:33:55.258Z"
   },
   {
    "duration": 373,
    "start_time": "2023-06-17T11:33:58.050Z"
   },
   {
    "duration": 969,
    "start_time": "2023-06-17T11:34:01.569Z"
   },
   {
    "duration": 8,
    "start_time": "2023-06-17T11:34:02.845Z"
   },
   {
    "duration": 3,
    "start_time": "2023-06-17T11:35:08.212Z"
   },
   {
    "duration": 789,
    "start_time": "2023-06-17T11:35:08.620Z"
   },
   {
    "duration": 4,
    "start_time": "2023-06-17T11:35:09.412Z"
   },
   {
    "duration": 931,
    "start_time": "2023-06-17T11:35:09.418Z"
   },
   {
    "duration": 10,
    "start_time": "2023-06-17T11:35:10.352Z"
   },
   {
    "duration": 433,
    "start_time": "2023-06-17T11:35:10.363Z"
   },
   {
    "duration": 13,
    "start_time": "2023-06-17T11:35:10.797Z"
   },
   {
    "duration": 462,
    "start_time": "2023-06-17T11:35:12.833Z"
   },
   {
    "duration": 439,
    "start_time": "2023-06-17T11:41:17.680Z"
   },
   {
    "duration": 5,
    "start_time": "2023-06-17T11:41:28.226Z"
   },
   {
    "duration": 162,
    "start_time": "2023-06-17T11:41:39.001Z"
   },
   {
    "duration": 3,
    "start_time": "2023-06-17T11:43:39.799Z"
   },
   {
    "duration": 5,
    "start_time": "2023-06-17T11:43:42.348Z"
   },
   {
    "duration": 288,
    "start_time": "2023-06-17T11:43:43.984Z"
   },
   {
    "duration": 252,
    "start_time": "2023-06-17T11:43:51.539Z"
   },
   {
    "duration": 5,
    "start_time": "2023-06-17T11:44:00.026Z"
   },
   {
    "duration": 153,
    "start_time": "2023-06-17T11:44:00.287Z"
   },
   {
    "duration": 148,
    "start_time": "2023-06-17T11:44:29.811Z"
   },
   {
    "duration": 180,
    "start_time": "2023-06-17T11:44:45.578Z"
   },
   {
    "duration": 178,
    "start_time": "2023-06-17T11:44:59.442Z"
   },
   {
    "duration": 489,
    "start_time": "2023-06-17T11:45:29.035Z"
   },
   {
    "duration": 4,
    "start_time": "2023-06-17T11:46:00.010Z"
   },
   {
    "duration": 156,
    "start_time": "2023-06-17T11:46:00.431Z"
   },
   {
    "duration": 4,
    "start_time": "2023-06-17T11:46:23.702Z"
   },
   {
    "duration": 258,
    "start_time": "2023-06-17T11:46:24.032Z"
   },
   {
    "duration": 7,
    "start_time": "2023-06-17T11:47:21.879Z"
   },
   {
    "duration": 240,
    "start_time": "2023-06-17T11:47:21.889Z"
   },
   {
    "duration": 221,
    "start_time": "2023-06-17T11:47:34.554Z"
   },
   {
    "duration": 232,
    "start_time": "2023-06-17T11:47:35.599Z"
   },
   {
    "duration": 188,
    "start_time": "2023-06-17T11:47:35.929Z"
   },
   {
    "duration": 474,
    "start_time": "2023-06-17T11:47:36.190Z"
   },
   {
    "duration": 4,
    "start_time": "2023-06-17T11:49:24.587Z"
   },
   {
    "duration": 197,
    "start_time": "2023-06-17T11:49:24.940Z"
   },
   {
    "duration": 153,
    "start_time": "2023-06-17T11:49:27.883Z"
   },
   {
    "duration": 3,
    "start_time": "2023-06-17T11:50:10.445Z"
   },
   {
    "duration": 197,
    "start_time": "2023-06-17T11:50:10.799Z"
   },
   {
    "duration": 146,
    "start_time": "2023-06-17T11:50:19.073Z"
   },
   {
    "duration": 165,
    "start_time": "2023-06-17T11:50:20.315Z"
   },
   {
    "duration": 488,
    "start_time": "2023-06-17T11:50:22.419Z"
   },
   {
    "duration": 5,
    "start_time": "2023-06-17T12:37:42.416Z"
   },
   {
    "duration": 245,
    "start_time": "2023-06-17T12:37:42.695Z"
   },
   {
    "duration": 4,
    "start_time": "2023-06-17T12:38:18.795Z"
   },
   {
    "duration": 204,
    "start_time": "2023-06-17T12:38:19.143Z"
   },
   {
    "duration": 158,
    "start_time": "2023-06-17T12:38:21.624Z"
   },
   {
    "duration": 185,
    "start_time": "2023-06-17T12:38:21.895Z"
   },
   {
    "duration": 501,
    "start_time": "2023-06-17T12:38:22.147Z"
   },
   {
    "duration": 434,
    "start_time": "2023-06-17T12:39:29.057Z"
   },
   {
    "duration": 4,
    "start_time": "2023-06-17T12:40:02.130Z"
   },
   {
    "duration": 209,
    "start_time": "2023-06-17T12:40:02.598Z"
   },
   {
    "duration": 162,
    "start_time": "2023-06-17T12:40:02.952Z"
   },
   {
    "duration": 187,
    "start_time": "2023-06-17T12:40:03.290Z"
   },
   {
    "duration": 595,
    "start_time": "2023-06-17T12:40:03.520Z"
   },
   {
    "duration": 434,
    "start_time": "2023-06-17T12:40:04.118Z"
   },
   {
    "duration": 4,
    "start_time": "2023-06-17T12:40:13.583Z"
   },
   {
    "duration": 209,
    "start_time": "2023-06-17T12:40:13.811Z"
   },
   {
    "duration": 210,
    "start_time": "2023-06-17T12:40:14.053Z"
   },
   {
    "duration": 189,
    "start_time": "2023-06-17T12:40:14.294Z"
   },
   {
    "duration": 562,
    "start_time": "2023-06-17T12:40:14.486Z"
   },
   {
    "duration": 466,
    "start_time": "2023-06-17T12:40:15.050Z"
   },
   {
    "duration": 434,
    "start_time": "2023-06-17T12:40:34.543Z"
   },
   {
    "duration": 2479,
    "start_time": "2023-06-17T12:41:02.806Z"
   },
   {
    "duration": 116,
    "start_time": "2023-06-17T12:56:08.591Z"
   },
   {
    "duration": 3,
    "start_time": "2023-06-17T12:56:23.691Z"
   },
   {
    "duration": 851,
    "start_time": "2023-06-17T12:56:24.557Z"
   },
   {
    "duration": 3,
    "start_time": "2023-06-17T12:56:25.895Z"
   },
   {
    "duration": 963,
    "start_time": "2023-06-17T12:56:26.317Z"
   },
   {
    "duration": 8,
    "start_time": "2023-06-17T12:56:27.282Z"
   },
   {
    "duration": 468,
    "start_time": "2023-06-17T12:56:27.291Z"
   },
   {
    "duration": 19,
    "start_time": "2023-06-17T12:56:27.767Z"
   },
   {
    "duration": 497,
    "start_time": "2023-06-17T12:56:27.788Z"
   },
   {
    "duration": 5,
    "start_time": "2023-06-17T12:56:28.287Z"
   },
   {
    "duration": 202,
    "start_time": "2023-06-17T12:56:28.294Z"
   },
   {
    "duration": 171,
    "start_time": "2023-06-17T12:56:28.498Z"
   },
   {
    "duration": 193,
    "start_time": "2023-06-17T12:56:28.694Z"
   },
   {
    "duration": 477,
    "start_time": "2023-06-17T12:56:28.902Z"
   },
   {
    "duration": 421,
    "start_time": "2023-06-17T12:56:29.382Z"
   },
   {
    "duration": 112,
    "start_time": "2023-06-17T12:56:30.991Z"
   },
   {
    "duration": 114,
    "start_time": "2023-06-17T12:56:49.092Z"
   },
   {
    "duration": 205,
    "start_time": "2023-06-17T12:57:05.327Z"
   },
   {
    "duration": 997,
    "start_time": "2023-06-17T12:57:10.549Z"
   },
   {
    "duration": 24,
    "start_time": "2023-06-17T12:57:11.548Z"
   },
   {
    "duration": 1146,
    "start_time": "2023-06-17T13:00:40.179Z"
   },
   {
    "duration": 12,
    "start_time": "2023-06-17T13:00:41.675Z"
   },
   {
    "duration": 28,
    "start_time": "2023-06-17T13:01:18.619Z"
   },
   {
    "duration": 1226,
    "start_time": "2023-06-17T13:01:23.097Z"
   },
   {
    "duration": 10,
    "start_time": "2023-06-17T13:01:24.326Z"
   },
   {
    "duration": 363,
    "start_time": "2023-06-17T13:06:16.735Z"
   },
   {
    "duration": 1009,
    "start_time": "2023-06-17T13:06:26.331Z"
   },
   {
    "duration": 9,
    "start_time": "2023-06-17T13:06:32.208Z"
   },
   {
    "duration": 426,
    "start_time": "2023-06-17T13:07:32.454Z"
   },
   {
    "duration": 9,
    "start_time": "2023-06-17T13:07:34.196Z"
   },
   {
    "duration": 1177,
    "start_time": "2023-06-17T13:07:47.833Z"
   },
   {
    "duration": 10,
    "start_time": "2023-06-17T13:07:49.012Z"
   },
   {
    "duration": 2,
    "start_time": "2023-06-17T13:09:27.006Z"
   },
   {
    "duration": 781,
    "start_time": "2023-06-17T13:09:27.452Z"
   },
   {
    "duration": 5,
    "start_time": "2023-06-17T13:09:28.235Z"
   },
   {
    "duration": 975,
    "start_time": "2023-06-17T13:09:28.242Z"
   },
   {
    "duration": 8,
    "start_time": "2023-06-17T13:09:29.219Z"
   },
   {
    "duration": 463,
    "start_time": "2023-06-17T13:09:29.228Z"
   },
   {
    "duration": 13,
    "start_time": "2023-06-17T13:09:29.693Z"
   },
   {
    "duration": 481,
    "start_time": "2023-06-17T13:09:29.708Z"
   },
   {
    "duration": 4,
    "start_time": "2023-06-17T13:09:30.191Z"
   },
   {
    "duration": 219,
    "start_time": "2023-06-17T13:09:30.197Z"
   },
   {
    "duration": 269,
    "start_time": "2023-06-17T13:09:30.418Z"
   },
   {
    "duration": 196,
    "start_time": "2023-06-17T13:09:30.688Z"
   },
   {
    "duration": 552,
    "start_time": "2023-06-17T13:09:30.887Z"
   },
   {
    "duration": 460,
    "start_time": "2023-06-17T13:09:31.441Z"
   },
   {
    "duration": 215,
    "start_time": "2023-06-17T13:09:31.904Z"
   },
   {
    "duration": 1021,
    "start_time": "2023-06-17T13:09:32.121Z"
   },
   {
    "duration": 29,
    "start_time": "2023-06-17T13:09:33.144Z"
   },
   {
    "duration": 26,
    "start_time": "2023-06-17T13:09:33.174Z"
   },
   {
    "duration": 331,
    "start_time": "2023-06-17T13:09:33.201Z"
   },
   {
    "duration": 879,
    "start_time": "2023-06-17T13:09:33.534Z"
   },
   {
    "duration": 980,
    "start_time": "2023-06-17T13:09:34.415Z"
   },
   {
    "duration": 8,
    "start_time": "2023-06-17T13:09:35.397Z"
   },
   {
    "duration": 133,
    "start_time": "2023-06-17T13:17:11.972Z"
   },
   {
    "duration": 6,
    "start_time": "2023-06-17T13:19:12.405Z"
   },
   {
    "duration": 6,
    "start_time": "2023-06-17T13:23:31.387Z"
   },
   {
    "duration": 4,
    "start_time": "2023-06-17T13:33:34.450Z"
   },
   {
    "duration": 9,
    "start_time": "2023-06-17T13:34:00.320Z"
   },
   {
    "duration": 5039,
    "start_time": "2023-06-17T13:34:06.415Z"
   },
   {
    "duration": 1040,
    "start_time": "2023-06-17T13:34:16.324Z"
   },
   {
    "duration": 14,
    "start_time": "2023-06-17T13:34:17.367Z"
   },
   {
    "duration": 452,
    "start_time": "2023-06-17T13:34:23.989Z"
   },
   {
    "duration": 1380,
    "start_time": "2023-06-17T13:34:54.515Z"
   },
   {
    "duration": 799,
    "start_time": "2023-06-18T05:25:22.644Z"
   },
   {
    "duration": 974,
    "start_time": "2023-06-18T05:25:23.445Z"
   },
   {
    "duration": 3,
    "start_time": "2023-06-18T05:25:24.421Z"
   },
   {
    "duration": 976,
    "start_time": "2023-06-18T05:25:24.425Z"
   },
   {
    "duration": 12,
    "start_time": "2023-06-18T05:25:25.403Z"
   },
   {
    "duration": 396,
    "start_time": "2023-06-18T05:25:25.416Z"
   },
   {
    "duration": 13,
    "start_time": "2023-06-18T05:25:25.813Z"
   },
   {
    "duration": 474,
    "start_time": "2023-06-18T05:25:25.832Z"
   },
   {
    "duration": 4,
    "start_time": "2023-06-18T05:25:26.308Z"
   },
   {
    "duration": 203,
    "start_time": "2023-06-18T05:25:26.315Z"
   },
   {
    "duration": 134,
    "start_time": "2023-06-18T05:25:26.519Z"
   },
   {
    "duration": 160,
    "start_time": "2023-06-18T05:25:26.655Z"
   },
   {
    "duration": 542,
    "start_time": "2023-06-18T05:25:26.817Z"
   },
   {
    "duration": 433,
    "start_time": "2023-06-18T05:25:27.361Z"
   },
   {
    "duration": 127,
    "start_time": "2023-06-18T05:25:27.796Z"
   },
   {
    "duration": 188,
    "start_time": "2023-06-18T05:25:27.924Z"
   },
   {
    "duration": 937,
    "start_time": "2023-06-18T05:25:28.114Z"
   },
   {
    "duration": 9,
    "start_time": "2023-06-18T05:25:29.052Z"
   },
   {
    "duration": 27,
    "start_time": "2023-06-18T05:25:29.062Z"
   },
   {
    "duration": 304,
    "start_time": "2023-06-18T05:25:55.181Z"
   },
   {
    "duration": 665,
    "start_time": "2023-06-18T05:25:57.133Z"
   },
   {
    "duration": 7,
    "start_time": "2023-06-18T05:25:59.201Z"
   },
   {
    "duration": 4,
    "start_time": "2023-06-18T05:26:02.105Z"
   },
   {
    "duration": 4122,
    "start_time": "2023-06-18T05:27:56.870Z"
   },
   {
    "duration": 7,
    "start_time": "2023-06-18T05:28:08.429Z"
   },
   {
    "duration": 3,
    "start_time": "2023-06-18T05:29:54.892Z"
   },
   {
    "duration": 3609,
    "start_time": "2023-06-18T05:29:55.922Z"
   },
   {
    "duration": 8,
    "start_time": "2023-06-18T05:30:01.515Z"
   },
   {
    "duration": 7,
    "start_time": "2023-06-18T05:30:47.939Z"
   },
   {
    "duration": 3,
    "start_time": "2023-06-18T05:31:43.580Z"
   },
   {
    "duration": 4304,
    "start_time": "2023-06-18T05:31:44.496Z"
   },
   {
    "duration": 7,
    "start_time": "2023-06-18T05:31:49.351Z"
   },
   {
    "duration": 3,
    "start_time": "2023-06-18T05:32:50.123Z"
   },
   {
    "duration": 4293,
    "start_time": "2023-06-18T05:32:54.665Z"
   },
   {
    "duration": 6,
    "start_time": "2023-06-18T05:32:59.544Z"
   },
   {
    "duration": 3,
    "start_time": "2023-06-18T05:33:03.549Z"
   },
   {
    "duration": 4325,
    "start_time": "2023-06-18T05:33:04.396Z"
   },
   {
    "duration": 6,
    "start_time": "2023-06-18T05:33:09.112Z"
   },
   {
    "duration": 12,
    "start_time": "2023-06-18T05:34:03.409Z"
   },
   {
    "duration": 13,
    "start_time": "2023-06-18T05:34:16.134Z"
   },
   {
    "duration": 2,
    "start_time": "2023-06-18T05:37:21.519Z"
   },
   {
    "duration": 718,
    "start_time": "2023-06-18T05:37:21.523Z"
   },
   {
    "duration": 3,
    "start_time": "2023-06-18T05:37:22.243Z"
   },
   {
    "duration": 906,
    "start_time": "2023-06-18T05:37:22.248Z"
   },
   {
    "duration": 8,
    "start_time": "2023-06-18T05:37:23.156Z"
   },
   {
    "duration": 395,
    "start_time": "2023-06-18T05:37:23.165Z"
   },
   {
    "duration": 15,
    "start_time": "2023-06-18T05:37:23.561Z"
   },
   {
    "duration": 460,
    "start_time": "2023-06-18T05:37:23.578Z"
   },
   {
    "duration": 6,
    "start_time": "2023-06-18T05:37:24.039Z"
   },
   {
    "duration": 192,
    "start_time": "2023-06-18T05:37:24.047Z"
   },
   {
    "duration": 139,
    "start_time": "2023-06-18T05:37:24.241Z"
   },
   {
    "duration": 170,
    "start_time": "2023-06-18T05:37:24.382Z"
   },
   {
    "duration": 514,
    "start_time": "2023-06-18T05:37:24.555Z"
   },
   {
    "duration": 433,
    "start_time": "2023-06-18T05:37:25.072Z"
   },
   {
    "duration": 120,
    "start_time": "2023-06-18T05:37:25.507Z"
   },
   {
    "duration": 190,
    "start_time": "2023-06-18T05:37:25.629Z"
   },
   {
    "duration": 935,
    "start_time": "2023-06-18T05:37:25.821Z"
   },
   {
    "duration": 7,
    "start_time": "2023-06-18T05:37:26.758Z"
   },
   {
    "duration": 28,
    "start_time": "2023-06-18T05:37:26.766Z"
   },
   {
    "duration": 310,
    "start_time": "2023-06-18T05:37:26.796Z"
   },
   {
    "duration": 764,
    "start_time": "2023-06-18T05:37:27.108Z"
   },
   {
    "duration": 6,
    "start_time": "2023-06-18T05:37:27.874Z"
   },
   {
    "duration": 4,
    "start_time": "2023-06-18T05:37:27.881Z"
   },
   {
    "duration": 15,
    "start_time": "2023-06-18T05:37:27.887Z"
   },
   {
    "duration": 3896,
    "start_time": "2023-06-18T05:37:43.971Z"
   },
   {
    "duration": 6,
    "start_time": "2023-06-18T05:37:49.818Z"
   },
   {
    "duration": 9,
    "start_time": "2023-06-18T05:39:34.642Z"
   },
   {
    "duration": 13,
    "start_time": "2023-06-18T05:39:38.218Z"
   },
   {
    "duration": 2,
    "start_time": "2023-06-18T05:43:50.976Z"
   },
   {
    "duration": 673,
    "start_time": "2023-06-18T05:43:50.980Z"
   },
   {
    "duration": 3,
    "start_time": "2023-06-18T05:43:51.654Z"
   },
   {
    "duration": 874,
    "start_time": "2023-06-18T05:43:51.659Z"
   },
   {
    "duration": 6,
    "start_time": "2023-06-18T05:43:52.536Z"
   },
   {
    "duration": 360,
    "start_time": "2023-06-18T05:43:52.543Z"
   },
   {
    "duration": 12,
    "start_time": "2023-06-18T05:43:52.905Z"
   },
   {
    "duration": 413,
    "start_time": "2023-06-18T05:43:52.918Z"
   },
   {
    "duration": 4,
    "start_time": "2023-06-18T05:43:53.333Z"
   },
   {
    "duration": 208,
    "start_time": "2023-06-18T05:43:53.338Z"
   },
   {
    "duration": 138,
    "start_time": "2023-06-18T05:43:53.547Z"
   },
   {
    "duration": 156,
    "start_time": "2023-06-18T05:43:53.687Z"
   },
   {
    "duration": 476,
    "start_time": "2023-06-18T05:43:53.845Z"
   },
   {
    "duration": 409,
    "start_time": "2023-06-18T05:43:54.323Z"
   },
   {
    "duration": 109,
    "start_time": "2023-06-18T05:43:54.733Z"
   },
   {
    "duration": 163,
    "start_time": "2023-06-18T05:43:54.844Z"
   },
   {
    "duration": 864,
    "start_time": "2023-06-18T05:43:55.008Z"
   },
   {
    "duration": 9,
    "start_time": "2023-06-18T05:43:55.873Z"
   },
   {
    "duration": 22,
    "start_time": "2023-06-18T05:43:55.883Z"
   },
   {
    "duration": 278,
    "start_time": "2023-06-18T05:43:55.907Z"
   },
   {
    "duration": 673,
    "start_time": "2023-06-18T05:43:56.187Z"
   },
   {
    "duration": 7,
    "start_time": "2023-06-18T05:43:56.861Z"
   },
   {
    "duration": 10,
    "start_time": "2023-06-18T05:43:56.870Z"
   },
   {
    "duration": 8,
    "start_time": "2023-06-18T05:43:56.882Z"
   },
   {
    "duration": 3875,
    "start_time": "2023-06-18T05:43:56.891Z"
   },
   {
    "duration": 13,
    "start_time": "2023-06-18T05:44:01.827Z"
   },
   {
    "duration": 5,
    "start_time": "2023-06-18T05:44:13.252Z"
   },
   {
    "duration": 3,
    "start_time": "2023-06-18T05:45:28.522Z"
   },
   {
    "duration": 735,
    "start_time": "2023-06-18T05:45:28.527Z"
   },
   {
    "duration": 4,
    "start_time": "2023-06-18T05:45:29.264Z"
   },
   {
    "duration": 940,
    "start_time": "2023-06-18T05:45:29.269Z"
   },
   {
    "duration": 7,
    "start_time": "2023-06-18T05:45:30.211Z"
   },
   {
    "duration": 407,
    "start_time": "2023-06-18T05:45:30.219Z"
   },
   {
    "duration": 12,
    "start_time": "2023-06-18T05:45:30.627Z"
   },
   {
    "duration": 430,
    "start_time": "2023-06-18T05:45:30.640Z"
   },
   {
    "duration": 5,
    "start_time": "2023-06-18T05:45:31.072Z"
   },
   {
    "duration": 267,
    "start_time": "2023-06-18T05:45:31.078Z"
   },
   {
    "duration": 149,
    "start_time": "2023-06-18T05:45:31.347Z"
   },
   {
    "duration": 172,
    "start_time": "2023-06-18T05:45:31.498Z"
   },
   {
    "duration": 451,
    "start_time": "2023-06-18T05:45:31.672Z"
   },
   {
    "duration": 374,
    "start_time": "2023-06-18T05:45:32.124Z"
   },
   {
    "duration": 128,
    "start_time": "2023-06-18T05:45:32.500Z"
   },
   {
    "duration": 167,
    "start_time": "2023-06-18T05:45:32.631Z"
   },
   {
    "duration": 897,
    "start_time": "2023-06-18T05:45:32.799Z"
   },
   {
    "duration": 8,
    "start_time": "2023-06-18T05:45:33.698Z"
   },
   {
    "duration": 86,
    "start_time": "2023-06-18T05:45:33.708Z"
   },
   {
    "duration": 357,
    "start_time": "2023-06-18T05:45:33.796Z"
   },
   {
    "duration": 725,
    "start_time": "2023-06-18T05:45:34.155Z"
   },
   {
    "duration": 4,
    "start_time": "2023-06-18T05:45:34.882Z"
   },
   {
    "duration": 15,
    "start_time": "2023-06-18T05:45:34.888Z"
   },
   {
    "duration": 21,
    "start_time": "2023-06-18T05:45:34.904Z"
   },
   {
    "duration": 4023,
    "start_time": "2023-06-18T05:45:34.926Z"
   },
   {
    "duration": 13,
    "start_time": "2023-06-18T05:45:39.763Z"
   },
   {
    "duration": 13,
    "start_time": "2023-06-18T05:45:57.811Z"
   },
   {
    "duration": 3,
    "start_time": "2023-06-18T05:52:09.217Z"
   },
   {
    "duration": 722,
    "start_time": "2023-06-18T05:52:09.223Z"
   },
   {
    "duration": 3,
    "start_time": "2023-06-18T05:52:09.947Z"
   },
   {
    "duration": 905,
    "start_time": "2023-06-18T05:52:09.952Z"
   },
   {
    "duration": 11,
    "start_time": "2023-06-18T05:52:10.860Z"
   },
   {
    "duration": 427,
    "start_time": "2023-06-18T05:52:10.873Z"
   },
   {
    "duration": 12,
    "start_time": "2023-06-18T05:52:11.302Z"
   },
   {
    "duration": 438,
    "start_time": "2023-06-18T05:52:11.316Z"
   },
   {
    "duration": 4,
    "start_time": "2023-06-18T05:52:11.756Z"
   },
   {
    "duration": 192,
    "start_time": "2023-06-18T05:52:11.761Z"
   },
   {
    "duration": 150,
    "start_time": "2023-06-18T05:52:11.955Z"
   },
   {
    "duration": 167,
    "start_time": "2023-06-18T05:52:12.107Z"
   },
   {
    "duration": 460,
    "start_time": "2023-06-18T05:52:12.276Z"
   },
   {
    "duration": 372,
    "start_time": "2023-06-18T05:52:12.739Z"
   },
   {
    "duration": 115,
    "start_time": "2023-06-18T05:52:13.113Z"
   },
   {
    "duration": 231,
    "start_time": "2023-06-18T05:52:13.230Z"
   },
   {
    "duration": 914,
    "start_time": "2023-06-18T05:52:13.462Z"
   },
   {
    "duration": 7,
    "start_time": "2023-06-18T05:52:14.378Z"
   },
   {
    "duration": 48,
    "start_time": "2023-06-18T05:52:14.387Z"
   },
   {
    "duration": 356,
    "start_time": "2023-06-18T05:52:14.436Z"
   },
   {
    "duration": 688,
    "start_time": "2023-06-18T05:52:14.793Z"
   },
   {
    "duration": 5,
    "start_time": "2023-06-18T05:52:15.483Z"
   },
   {
    "duration": 11,
    "start_time": "2023-06-18T05:52:15.489Z"
   },
   {
    "duration": 10,
    "start_time": "2023-06-18T05:52:15.502Z"
   },
   {
    "duration": 450,
    "start_time": "2023-06-18T05:52:15.514Z"
   },
   {
    "duration": 4,
    "start_time": "2023-06-18T05:53:05.587Z"
   },
   {
    "duration": 4406,
    "start_time": "2023-06-18T05:53:06.732Z"
   },
   {
    "duration": 13,
    "start_time": "2023-06-18T05:53:11.648Z"
   },
   {
    "duration": 6,
    "start_time": "2023-06-18T05:53:16.225Z"
   },
   {
    "duration": 2,
    "start_time": "2023-06-18T05:55:24.575Z"
   },
   {
    "duration": 797,
    "start_time": "2023-06-18T05:55:24.580Z"
   },
   {
    "duration": 4,
    "start_time": "2023-06-18T05:55:25.379Z"
   },
   {
    "duration": 1073,
    "start_time": "2023-06-18T05:55:25.384Z"
   },
   {
    "duration": 8,
    "start_time": "2023-06-18T05:55:26.459Z"
   },
   {
    "duration": 464,
    "start_time": "2023-06-18T05:55:26.469Z"
   },
   {
    "duration": 14,
    "start_time": "2023-06-18T05:55:26.934Z"
   },
   {
    "duration": 527,
    "start_time": "2023-06-18T05:55:26.950Z"
   },
   {
    "duration": 6,
    "start_time": "2023-06-18T05:55:27.479Z"
   },
   {
    "duration": 220,
    "start_time": "2023-06-18T05:55:27.486Z"
   },
   {
    "duration": 176,
    "start_time": "2023-06-18T05:55:27.708Z"
   },
   {
    "duration": 197,
    "start_time": "2023-06-18T05:55:27.886Z"
   },
   {
    "duration": 499,
    "start_time": "2023-06-18T05:55:28.085Z"
   },
   {
    "duration": 446,
    "start_time": "2023-06-18T05:55:28.586Z"
   },
   {
    "duration": 124,
    "start_time": "2023-06-18T05:55:29.034Z"
   },
   {
    "duration": 192,
    "start_time": "2023-06-18T05:55:29.159Z"
   },
   {
    "duration": 983,
    "start_time": "2023-06-18T05:55:29.353Z"
   },
   {
    "duration": 8,
    "start_time": "2023-06-18T05:55:30.337Z"
   },
   {
    "duration": 45,
    "start_time": "2023-06-18T05:55:30.347Z"
   },
   {
    "duration": 334,
    "start_time": "2023-06-18T05:55:30.394Z"
   },
   {
    "duration": 709,
    "start_time": "2023-06-18T05:55:30.731Z"
   },
   {
    "duration": 7,
    "start_time": "2023-06-18T05:55:31.442Z"
   },
   {
    "duration": 37,
    "start_time": "2023-06-18T05:55:31.451Z"
   },
   {
    "duration": 43,
    "start_time": "2023-06-18T05:55:31.490Z"
   },
   {
    "duration": 4060,
    "start_time": "2023-06-18T05:55:31.535Z"
   },
   {
    "duration": 2037,
    "start_time": "2023-06-18T05:55:37.602Z"
   },
   {
    "duration": 9,
    "start_time": "2023-06-18T05:55:40.165Z"
   },
   {
    "duration": 5,
    "start_time": "2023-06-18T05:55:47.487Z"
   },
   {
    "duration": 1046,
    "start_time": "2023-06-18T05:56:29.197Z"
   },
   {
    "duration": 7,
    "start_time": "2023-06-18T05:56:30.245Z"
   },
   {
    "duration": 57,
    "start_time": "2023-06-18T06:01:22.373Z"
   },
   {
    "duration": 3,
    "start_time": "2023-06-18T06:04:46.746Z"
   },
   {
    "duration": 703,
    "start_time": "2023-06-18T06:04:46.751Z"
   },
   {
    "duration": 3,
    "start_time": "2023-06-18T06:04:47.456Z"
   },
   {
    "duration": 906,
    "start_time": "2023-06-18T06:04:47.461Z"
   },
   {
    "duration": 6,
    "start_time": "2023-06-18T06:04:48.369Z"
   },
   {
    "duration": 381,
    "start_time": "2023-06-18T06:04:48.377Z"
   },
   {
    "duration": 12,
    "start_time": "2023-06-18T06:04:48.760Z"
   },
   {
    "duration": 413,
    "start_time": "2023-06-18T06:04:48.773Z"
   },
   {
    "duration": 3,
    "start_time": "2023-06-18T06:04:49.188Z"
   },
   {
    "duration": 241,
    "start_time": "2023-06-18T06:04:49.193Z"
   },
   {
    "duration": 139,
    "start_time": "2023-06-18T06:04:49.436Z"
   },
   {
    "duration": 160,
    "start_time": "2023-06-18T06:04:49.576Z"
   },
   {
    "duration": 444,
    "start_time": "2023-06-18T06:04:49.738Z"
   },
   {
    "duration": 360,
    "start_time": "2023-06-18T06:04:50.185Z"
   },
   {
    "duration": 121,
    "start_time": "2023-06-18T06:04:50.546Z"
   },
   {
    "duration": 164,
    "start_time": "2023-06-18T06:04:50.669Z"
   },
   {
    "duration": 906,
    "start_time": "2023-06-18T06:04:50.835Z"
   },
   {
    "duration": 10,
    "start_time": "2023-06-18T06:04:51.743Z"
   },
   {
    "duration": 54,
    "start_time": "2023-06-18T06:04:51.754Z"
   },
   {
    "duration": 296,
    "start_time": "2023-06-18T06:04:51.810Z"
   },
   {
    "duration": 713,
    "start_time": "2023-06-18T06:04:52.107Z"
   },
   {
    "duration": 9,
    "start_time": "2023-06-18T06:04:52.822Z"
   },
   {
    "duration": 23,
    "start_time": "2023-06-18T06:04:52.833Z"
   },
   {
    "duration": 70,
    "start_time": "2023-06-18T06:04:52.857Z"
   },
   {
    "duration": 11,
    "start_time": "2023-06-18T06:04:52.928Z"
   },
   {
    "duration": 3713,
    "start_time": "2023-06-18T06:04:52.941Z"
   },
   {
    "duration": 1883,
    "start_time": "2023-06-18T06:04:56.656Z"
   },
   {
    "duration": 6,
    "start_time": "2023-06-18T06:06:35.446Z"
   },
   {
    "duration": 2,
    "start_time": "2023-06-18T06:11:58.998Z"
   },
   {
    "duration": 687,
    "start_time": "2023-06-18T06:11:59.002Z"
   },
   {
    "duration": 4,
    "start_time": "2023-06-18T06:11:59.690Z"
   },
   {
    "duration": 943,
    "start_time": "2023-06-18T06:11:59.695Z"
   },
   {
    "duration": 7,
    "start_time": "2023-06-18T06:12:00.640Z"
   },
   {
    "duration": 514,
    "start_time": "2023-06-18T06:12:00.649Z"
   },
   {
    "duration": 13,
    "start_time": "2023-06-18T06:12:01.164Z"
   },
   {
    "duration": 472,
    "start_time": "2023-06-18T06:12:01.178Z"
   },
   {
    "duration": 5,
    "start_time": "2023-06-18T06:12:01.651Z"
   },
   {
    "duration": 347,
    "start_time": "2023-06-18T06:12:01.657Z"
   },
   {
    "duration": 182,
    "start_time": "2023-06-18T06:12:02.005Z"
   },
   {
    "duration": 202,
    "start_time": "2023-06-18T06:12:02.188Z"
   },
   {
    "duration": 488,
    "start_time": "2023-06-18T06:12:02.392Z"
   },
   {
    "duration": 387,
    "start_time": "2023-06-18T06:12:02.883Z"
   },
   {
    "duration": 3231,
    "start_time": "2023-06-18T06:12:03.272Z"
   },
   {
    "duration": 113,
    "start_time": "2023-06-18T06:12:06.505Z"
   },
   {
    "duration": 159,
    "start_time": "2023-06-18T06:12:06.620Z"
   },
   {
    "duration": 856,
    "start_time": "2023-06-18T06:12:06.780Z"
   },
   {
    "duration": 8,
    "start_time": "2023-06-18T06:12:07.638Z"
   },
   {
    "duration": 68,
    "start_time": "2023-06-18T06:12:07.648Z"
   },
   {
    "duration": 318,
    "start_time": "2023-06-18T06:12:07.718Z"
   },
   {
    "duration": 667,
    "start_time": "2023-06-18T06:12:08.038Z"
   },
   {
    "duration": 5,
    "start_time": "2023-06-18T06:12:08.706Z"
   },
   {
    "duration": 6,
    "start_time": "2023-06-18T06:12:08.712Z"
   },
   {
    "duration": 65,
    "start_time": "2023-06-18T06:12:08.719Z"
   },
   {
    "duration": 13,
    "start_time": "2023-06-18T06:12:08.786Z"
   },
   {
    "duration": 3858,
    "start_time": "2023-06-18T06:12:08.800Z"
   },
   {
    "duration": 2032,
    "start_time": "2023-06-18T06:12:12.660Z"
   },
   {
    "duration": 208,
    "start_time": "2023-06-18T06:16:26.261Z"
   },
   {
    "duration": 266,
    "start_time": "2023-06-18T06:22:18.076Z"
   },
   {
    "duration": 246,
    "start_time": "2023-06-18T06:25:03.262Z"
   },
   {
    "duration": 287,
    "start_time": "2023-06-18T06:25:23.015Z"
   },
   {
    "duration": 251,
    "start_time": "2023-06-18T06:27:25.181Z"
   },
   {
    "duration": 166,
    "start_time": "2023-06-18T06:28:08.458Z"
   },
   {
    "duration": 252,
    "start_time": "2023-06-18T06:28:23.763Z"
   },
   {
    "duration": 215,
    "start_time": "2023-06-18T06:28:53.695Z"
   },
   {
    "duration": 239,
    "start_time": "2023-06-18T06:28:58.307Z"
   },
   {
    "duration": 260,
    "start_time": "2023-06-18T06:29:49.425Z"
   },
   {
    "duration": 370,
    "start_time": "2023-06-18T06:30:18.457Z"
   },
   {
    "duration": 228,
    "start_time": "2023-06-18T06:34:32.973Z"
   },
   {
    "duration": 8,
    "start_time": "2023-06-18T06:34:44.793Z"
   },
   {
    "duration": 100,
    "start_time": "2023-06-18T06:34:51.787Z"
   },
   {
    "duration": 232,
    "start_time": "2023-06-18T06:35:59.268Z"
   },
   {
    "duration": 91,
    "start_time": "2023-06-18T06:36:01.915Z"
   },
   {
    "duration": 175,
    "start_time": "2023-06-18T06:37:04.930Z"
   },
   {
    "duration": 204,
    "start_time": "2023-06-18T06:37:54.098Z"
   },
   {
    "duration": 56,
    "start_time": "2023-06-18T06:38:25.277Z"
   },
   {
    "duration": 172,
    "start_time": "2023-06-18T06:38:25.863Z"
   },
   {
    "duration": 170,
    "start_time": "2023-06-18T06:38:32.723Z"
   },
   {
    "duration": 203,
    "start_time": "2023-06-18T06:39:44.781Z"
   },
   {
    "duration": 172,
    "start_time": "2023-06-18T07:00:56.272Z"
   },
   {
    "duration": 20,
    "start_time": "2023-06-18T07:02:07.068Z"
   },
   {
    "duration": 1007,
    "start_time": "2023-06-18T07:02:14.249Z"
   },
   {
    "duration": 7,
    "start_time": "2023-06-18T07:02:15.257Z"
   },
   {
    "duration": 86,
    "start_time": "2023-06-18T07:03:04.313Z"
   },
   {
    "duration": 40,
    "start_time": "2023-06-18T07:08:36.484Z"
   },
   {
    "duration": 81,
    "start_time": "2023-06-18T07:08:40.721Z"
   },
   {
    "duration": 18,
    "start_time": "2023-06-18T07:09:09.563Z"
   },
   {
    "duration": 24,
    "start_time": "2023-06-18T07:09:09.963Z"
   },
   {
    "duration": 2,
    "start_time": "2023-06-18T07:09:30.805Z"
   },
   {
    "duration": 723,
    "start_time": "2023-06-18T07:09:30.808Z"
   },
   {
    "duration": 4,
    "start_time": "2023-06-18T07:09:31.533Z"
   },
   {
    "duration": 1120,
    "start_time": "2023-06-18T07:09:31.539Z"
   },
   {
    "duration": 9,
    "start_time": "2023-06-18T07:09:32.661Z"
   },
   {
    "duration": 414,
    "start_time": "2023-06-18T07:09:32.671Z"
   },
   {
    "duration": 13,
    "start_time": "2023-06-18T07:09:33.086Z"
   },
   {
    "duration": 462,
    "start_time": "2023-06-18T07:09:33.100Z"
   },
   {
    "duration": 5,
    "start_time": "2023-06-18T07:09:33.563Z"
   },
   {
    "duration": 190,
    "start_time": "2023-06-18T07:09:33.569Z"
   },
   {
    "duration": 158,
    "start_time": "2023-06-18T07:09:33.761Z"
   },
   {
    "duration": 178,
    "start_time": "2023-06-18T07:09:33.921Z"
   },
   {
    "duration": 454,
    "start_time": "2023-06-18T07:09:34.100Z"
   },
   {
    "duration": 413,
    "start_time": "2023-06-18T07:09:34.559Z"
   },
   {
    "duration": 3085,
    "start_time": "2023-06-18T07:09:34.974Z"
   },
   {
    "duration": 166,
    "start_time": "2023-06-18T07:09:38.061Z"
   },
   {
    "duration": 127,
    "start_time": "2023-06-18T07:09:38.232Z"
   },
   {
    "duration": 164,
    "start_time": "2023-06-18T07:09:38.361Z"
   },
   {
    "duration": 1015,
    "start_time": "2023-06-18T07:09:38.526Z"
   },
   {
    "duration": 7,
    "start_time": "2023-06-18T07:09:39.543Z"
   },
   {
    "duration": 19,
    "start_time": "2023-06-18T07:09:39.552Z"
   },
   {
    "duration": 289,
    "start_time": "2023-06-18T07:09:39.573Z"
   },
   {
    "duration": 655,
    "start_time": "2023-06-18T07:09:39.864Z"
   },
   {
    "duration": 10,
    "start_time": "2023-06-18T07:09:40.521Z"
   },
   {
    "duration": 5,
    "start_time": "2023-06-18T07:09:40.533Z"
   },
   {
    "duration": 73,
    "start_time": "2023-06-18T07:09:40.539Z"
   },
   {
    "duration": 14,
    "start_time": "2023-06-18T07:09:40.614Z"
   },
   {
    "duration": 3936,
    "start_time": "2023-06-18T07:09:40.630Z"
   },
   {
    "duration": 2078,
    "start_time": "2023-06-18T07:09:44.568Z"
   },
   {
    "duration": 64,
    "start_time": "2023-06-18T07:09:46.647Z"
   },
   {
    "duration": 179,
    "start_time": "2023-06-18T07:09:46.713Z"
   },
   {
    "duration": 184,
    "start_time": "2023-06-18T07:09:46.893Z"
   },
   {
    "duration": 21,
    "start_time": "2023-06-18T07:09:47.079Z"
   },
   {
    "duration": 104,
    "start_time": "2023-06-18T07:09:47.101Z"
   },
   {
    "duration": 63,
    "start_time": "2023-06-18T07:09:47.207Z"
   },
   {
    "duration": 83,
    "start_time": "2023-06-18T07:09:52.370Z"
   },
   {
    "duration": 3,
    "start_time": "2023-06-18T07:10:57.849Z"
   },
   {
    "duration": 730,
    "start_time": "2023-06-18T07:10:57.854Z"
   },
   {
    "duration": 3,
    "start_time": "2023-06-18T07:10:58.586Z"
   },
   {
    "duration": 1013,
    "start_time": "2023-06-18T07:10:58.591Z"
   },
   {
    "duration": 7,
    "start_time": "2023-06-18T07:10:59.606Z"
   },
   {
    "duration": 417,
    "start_time": "2023-06-18T07:10:59.614Z"
   },
   {
    "duration": 13,
    "start_time": "2023-06-18T07:11:00.033Z"
   },
   {
    "duration": 481,
    "start_time": "2023-06-18T07:11:00.048Z"
   },
   {
    "duration": 4,
    "start_time": "2023-06-18T07:11:00.532Z"
   },
   {
    "duration": 230,
    "start_time": "2023-06-18T07:11:00.538Z"
   },
   {
    "duration": 158,
    "start_time": "2023-06-18T07:11:00.770Z"
   },
   {
    "duration": 183,
    "start_time": "2023-06-18T07:11:00.930Z"
   },
   {
    "duration": 522,
    "start_time": "2023-06-18T07:11:01.115Z"
   },
   {
    "duration": 399,
    "start_time": "2023-06-18T07:11:01.641Z"
   },
   {
    "duration": 3202,
    "start_time": "2023-06-18T07:11:02.042Z"
   },
   {
    "duration": 169,
    "start_time": "2023-06-18T07:11:05.246Z"
   },
   {
    "duration": 126,
    "start_time": "2023-06-18T07:11:05.416Z"
   },
   {
    "duration": 237,
    "start_time": "2023-06-18T07:11:05.544Z"
   },
   {
    "duration": 982,
    "start_time": "2023-06-18T07:11:05.783Z"
   },
   {
    "duration": 7,
    "start_time": "2023-06-18T07:11:06.767Z"
   },
   {
    "duration": 30,
    "start_time": "2023-06-18T07:11:06.776Z"
   },
   {
    "duration": 289,
    "start_time": "2023-06-18T07:11:06.807Z"
   },
   {
    "duration": 687,
    "start_time": "2023-06-18T07:11:07.098Z"
   },
   {
    "duration": 6,
    "start_time": "2023-06-18T07:11:07.787Z"
   },
   {
    "duration": 8,
    "start_time": "2023-06-18T07:11:07.795Z"
   },
   {
    "duration": 90,
    "start_time": "2023-06-18T07:11:07.804Z"
   },
   {
    "duration": 3,
    "start_time": "2023-06-18T07:11:07.895Z"
   },
   {
    "duration": 3780,
    "start_time": "2023-06-18T07:11:07.900Z"
   },
   {
    "duration": 2008,
    "start_time": "2023-06-18T07:11:11.682Z"
   },
   {
    "duration": 78,
    "start_time": "2023-06-18T07:11:13.693Z"
   },
   {
    "duration": 183,
    "start_time": "2023-06-18T07:11:13.773Z"
   },
   {
    "duration": 184,
    "start_time": "2023-06-18T07:11:13.958Z"
   },
   {
    "duration": 20,
    "start_time": "2023-06-18T07:11:14.143Z"
   },
   {
    "duration": 110,
    "start_time": "2023-06-18T07:11:14.165Z"
   },
   {
    "duration": 56,
    "start_time": "2023-06-18T07:11:14.276Z"
   },
   {
    "duration": 82,
    "start_time": "2023-06-18T07:11:14.334Z"
   },
   {
    "duration": 52,
    "start_time": "2023-06-18T07:11:21.536Z"
   },
   {
    "duration": 82,
    "start_time": "2023-06-18T07:11:21.959Z"
   },
   {
    "duration": 45,
    "start_time": "2023-06-18T07:11:26.945Z"
   },
   {
    "duration": 93,
    "start_time": "2023-06-18T07:11:27.277Z"
   },
   {
    "duration": 53,
    "start_time": "2023-06-18T07:11:32.286Z"
   },
   {
    "duration": 80,
    "start_time": "2023-06-18T07:11:32.710Z"
   },
   {
    "duration": 42,
    "start_time": "2023-06-18T07:11:42.011Z"
   },
   {
    "duration": 66,
    "start_time": "2023-06-18T07:11:42.297Z"
   },
   {
    "duration": 37,
    "start_time": "2023-06-18T07:11:47.120Z"
   },
   {
    "duration": 69,
    "start_time": "2023-06-18T07:11:47.452Z"
   },
   {
    "duration": 38,
    "start_time": "2023-06-18T07:12:06.736Z"
   },
   {
    "duration": 71,
    "start_time": "2023-06-18T07:12:06.973Z"
   },
   {
    "duration": 39,
    "start_time": "2023-06-18T07:15:47.724Z"
   },
   {
    "duration": 68,
    "start_time": "2023-06-18T07:15:48.239Z"
   },
   {
    "duration": 3,
    "start_time": "2023-06-18T07:15:57.285Z"
   },
   {
    "duration": 731,
    "start_time": "2023-06-18T07:15:57.289Z"
   },
   {
    "duration": 3,
    "start_time": "2023-06-18T07:15:58.022Z"
   },
   {
    "duration": 986,
    "start_time": "2023-06-18T07:15:58.026Z"
   },
   {
    "duration": 7,
    "start_time": "2023-06-18T07:15:59.014Z"
   },
   {
    "duration": 419,
    "start_time": "2023-06-18T07:15:59.022Z"
   },
   {
    "duration": 12,
    "start_time": "2023-06-18T07:15:59.442Z"
   },
   {
    "duration": 463,
    "start_time": "2023-06-18T07:15:59.456Z"
   },
   {
    "duration": 5,
    "start_time": "2023-06-18T07:15:59.921Z"
   },
   {
    "duration": 181,
    "start_time": "2023-06-18T07:15:59.931Z"
   },
   {
    "duration": 155,
    "start_time": "2023-06-18T07:16:00.114Z"
   },
   {
    "duration": 179,
    "start_time": "2023-06-18T07:16:00.270Z"
   },
   {
    "duration": 463,
    "start_time": "2023-06-18T07:16:00.451Z"
   },
   {
    "duration": 398,
    "start_time": "2023-06-18T07:16:00.917Z"
   },
   {
    "duration": 3069,
    "start_time": "2023-06-18T07:16:01.316Z"
   },
   {
    "duration": 169,
    "start_time": "2023-06-18T07:16:04.386Z"
   },
   {
    "duration": 156,
    "start_time": "2023-06-18T07:16:04.558Z"
   },
   {
    "duration": 175,
    "start_time": "2023-06-18T07:16:04.715Z"
   },
   {
    "duration": 1025,
    "start_time": "2023-06-18T07:16:04.892Z"
   },
   {
    "duration": 7,
    "start_time": "2023-06-18T07:16:05.918Z"
   },
   {
    "duration": 146,
    "start_time": "2023-06-18T07:16:05.926Z"
   },
   {
    "duration": 310,
    "start_time": "2023-06-18T07:16:06.073Z"
   },
   {
    "duration": 669,
    "start_time": "2023-06-18T07:16:06.384Z"
   },
   {
    "duration": 5,
    "start_time": "2023-06-18T07:16:07.055Z"
   },
   {
    "duration": 7,
    "start_time": "2023-06-18T07:16:07.061Z"
   },
   {
    "duration": 76,
    "start_time": "2023-06-18T07:16:07.070Z"
   },
   {
    "duration": 13,
    "start_time": "2023-06-18T07:16:07.147Z"
   },
   {
    "duration": 3925,
    "start_time": "2023-06-18T07:16:07.162Z"
   },
   {
    "duration": 2153,
    "start_time": "2023-06-18T07:16:11.088Z"
   },
   {
    "duration": 65,
    "start_time": "2023-06-18T07:16:13.243Z"
   },
   {
    "duration": 194,
    "start_time": "2023-06-18T07:16:13.309Z"
   },
   {
    "duration": 182,
    "start_time": "2023-06-18T07:16:13.505Z"
   },
   {
    "duration": 21,
    "start_time": "2023-06-18T07:16:13.689Z"
   },
   {
    "duration": 97,
    "start_time": "2023-06-18T07:16:13.711Z"
   },
   {
    "duration": 57,
    "start_time": "2023-06-18T07:16:13.809Z"
   },
   {
    "duration": 44,
    "start_time": "2023-06-18T07:16:13.868Z"
   },
   {
    "duration": 83,
    "start_time": "2023-06-18T07:16:13.914Z"
   },
   {
    "duration": 121,
    "start_time": "2023-06-18T07:24:48.373Z"
   },
   {
    "duration": 16,
    "start_time": "2023-06-18T07:24:56.432Z"
   },
   {
    "duration": 16,
    "start_time": "2023-06-18T07:25:14.886Z"
   },
   {
    "duration": 20,
    "start_time": "2023-06-18T07:25:21.109Z"
   },
   {
    "duration": 22,
    "start_time": "2023-06-18T07:25:29.771Z"
   },
   {
    "duration": 18,
    "start_time": "2023-06-18T07:25:49.711Z"
   },
   {
    "duration": 69,
    "start_time": "2023-06-18T07:28:13.937Z"
   },
   {
    "duration": 74,
    "start_time": "2023-06-18T07:28:19.605Z"
   },
   {
    "duration": 131,
    "start_time": "2023-06-18T07:28:28.143Z"
   },
   {
    "duration": 18,
    "start_time": "2023-06-18T07:28:34.977Z"
   },
   {
    "duration": 16,
    "start_time": "2023-06-18T07:28:35.030Z"
   },
   {
    "duration": 16,
    "start_time": "2023-06-18T07:28:37.167Z"
   },
   {
    "duration": 7,
    "start_time": "2023-06-18T07:33:22.418Z"
   },
   {
    "duration": 60,
    "start_time": "2023-06-18T07:33:24.694Z"
   },
   {
    "duration": 204,
    "start_time": "2023-06-18T07:33:24.933Z"
   },
   {
    "duration": 180,
    "start_time": "2023-06-18T07:33:32.008Z"
   },
   {
    "duration": 96,
    "start_time": "2023-06-18T07:34:01.713Z"
   },
   {
    "duration": 91,
    "start_time": "2023-06-18T07:34:43.585Z"
   },
   {
    "duration": 3,
    "start_time": "2023-06-18T07:34:51.072Z"
   },
   {
    "duration": 796,
    "start_time": "2023-06-18T07:34:51.077Z"
   },
   {
    "duration": 4,
    "start_time": "2023-06-18T07:34:51.875Z"
   },
   {
    "duration": 1145,
    "start_time": "2023-06-18T07:34:51.881Z"
   },
   {
    "duration": 7,
    "start_time": "2023-06-18T07:34:53.031Z"
   },
   {
    "duration": 489,
    "start_time": "2023-06-18T07:34:53.040Z"
   },
   {
    "duration": 13,
    "start_time": "2023-06-18T07:34:53.532Z"
   },
   {
    "duration": 503,
    "start_time": "2023-06-18T07:34:53.547Z"
   },
   {
    "duration": 4,
    "start_time": "2023-06-18T07:34:54.052Z"
   },
   {
    "duration": 207,
    "start_time": "2023-06-18T07:34:54.058Z"
   },
   {
    "duration": 176,
    "start_time": "2023-06-18T07:34:54.267Z"
   },
   {
    "duration": 302,
    "start_time": "2023-06-18T07:34:54.445Z"
   },
   {
    "duration": 503,
    "start_time": "2023-06-18T07:34:54.749Z"
   },
   {
    "duration": 376,
    "start_time": "2023-06-18T07:34:55.255Z"
   },
   {
    "duration": 2993,
    "start_time": "2023-06-18T07:34:55.632Z"
   },
   {
    "duration": 236,
    "start_time": "2023-06-18T07:34:58.627Z"
   },
   {
    "duration": 128,
    "start_time": "2023-06-18T07:34:58.865Z"
   },
   {
    "duration": 167,
    "start_time": "2023-06-18T07:34:58.994Z"
   },
   {
    "duration": 1041,
    "start_time": "2023-06-18T07:34:59.163Z"
   },
   {
    "duration": 8,
    "start_time": "2023-06-18T07:35:00.205Z"
   },
   {
    "duration": 48,
    "start_time": "2023-06-18T07:35:00.214Z"
   },
   {
    "duration": 324,
    "start_time": "2023-06-18T07:35:00.264Z"
   },
   {
    "duration": 676,
    "start_time": "2023-06-18T07:35:00.589Z"
   },
   {
    "duration": 5,
    "start_time": "2023-06-18T07:35:01.267Z"
   },
   {
    "duration": 71,
    "start_time": "2023-06-18T07:35:01.273Z"
   },
   {
    "duration": 115,
    "start_time": "2023-06-18T07:35:01.346Z"
   },
   {
    "duration": 74,
    "start_time": "2023-06-18T07:35:01.463Z"
   },
   {
    "duration": 3936,
    "start_time": "2023-06-18T07:35:01.538Z"
   },
   {
    "duration": 2020,
    "start_time": "2023-06-18T07:35:05.475Z"
   },
   {
    "duration": 82,
    "start_time": "2023-06-18T07:35:07.496Z"
   },
   {
    "duration": 186,
    "start_time": "2023-06-18T07:35:07.580Z"
   },
   {
    "duration": 102,
    "start_time": "2023-06-18T07:35:07.768Z"
   },
   {
    "duration": 20,
    "start_time": "2023-06-18T07:35:07.872Z"
   },
   {
    "duration": 100,
    "start_time": "2023-06-18T07:35:07.894Z"
   },
   {
    "duration": 59,
    "start_time": "2023-06-18T07:35:07.996Z"
   },
   {
    "duration": 49,
    "start_time": "2023-06-18T07:35:08.057Z"
   },
   {
    "duration": 84,
    "start_time": "2023-06-18T07:35:08.107Z"
   },
   {
    "duration": 129,
    "start_time": "2023-06-18T07:35:08.193Z"
   },
   {
    "duration": 16,
    "start_time": "2023-06-18T07:35:08.332Z"
   },
   {
    "duration": 27,
    "start_time": "2023-06-18T07:35:08.349Z"
   },
   {
    "duration": 80,
    "start_time": "2023-06-18T07:35:08.380Z"
   },
   {
    "duration": 84,
    "start_time": "2023-06-18T07:35:58.823Z"
   },
   {
    "duration": 2,
    "start_time": "2023-06-18T07:36:07.893Z"
   },
   {
    "duration": 717,
    "start_time": "2023-06-18T07:36:07.898Z"
   },
   {
    "duration": 3,
    "start_time": "2023-06-18T07:36:08.617Z"
   },
   {
    "duration": 1036,
    "start_time": "2023-06-18T07:36:08.621Z"
   },
   {
    "duration": 8,
    "start_time": "2023-06-18T07:36:09.659Z"
   },
   {
    "duration": 439,
    "start_time": "2023-06-18T07:36:09.668Z"
   },
   {
    "duration": 12,
    "start_time": "2023-06-18T07:36:10.109Z"
   },
   {
    "duration": 461,
    "start_time": "2023-06-18T07:36:10.131Z"
   },
   {
    "duration": 4,
    "start_time": "2023-06-18T07:36:10.594Z"
   },
   {
    "duration": 188,
    "start_time": "2023-06-18T07:36:10.599Z"
   },
   {
    "duration": 159,
    "start_time": "2023-06-18T07:36:10.789Z"
   },
   {
    "duration": 172,
    "start_time": "2023-06-18T07:36:10.949Z"
   },
   {
    "duration": 456,
    "start_time": "2023-06-18T07:36:11.123Z"
   },
   {
    "duration": 407,
    "start_time": "2023-06-18T07:36:11.581Z"
   },
   {
    "duration": 3132,
    "start_time": "2023-06-18T07:36:11.989Z"
   },
   {
    "duration": 176,
    "start_time": "2023-06-18T07:36:15.122Z"
   },
   {
    "duration": 132,
    "start_time": "2023-06-18T07:36:15.300Z"
   },
   {
    "duration": 170,
    "start_time": "2023-06-18T07:36:15.433Z"
   },
   {
    "duration": 1022,
    "start_time": "2023-06-18T07:36:15.604Z"
   },
   {
    "duration": 6,
    "start_time": "2023-06-18T07:36:16.631Z"
   },
   {
    "duration": 24,
    "start_time": "2023-06-18T07:36:16.639Z"
   },
   {
    "duration": 273,
    "start_time": "2023-06-18T07:36:16.665Z"
   },
   {
    "duration": 667,
    "start_time": "2023-06-18T07:36:16.939Z"
   },
   {
    "duration": 5,
    "start_time": "2023-06-18T07:36:17.608Z"
   },
   {
    "duration": 17,
    "start_time": "2023-06-18T07:36:17.615Z"
   },
   {
    "duration": 89,
    "start_time": "2023-06-18T07:36:17.633Z"
   },
   {
    "duration": 8,
    "start_time": "2023-06-18T07:36:17.724Z"
   },
   {
    "duration": 4138,
    "start_time": "2023-06-18T07:36:17.734Z"
   },
   {
    "duration": 2172,
    "start_time": "2023-06-18T07:36:21.874Z"
   },
   {
    "duration": 70,
    "start_time": "2023-06-18T07:36:24.048Z"
   },
   {
    "duration": 182,
    "start_time": "2023-06-18T07:36:24.119Z"
   },
   {
    "duration": 187,
    "start_time": "2023-06-18T07:36:24.303Z"
   },
   {
    "duration": 20,
    "start_time": "2023-06-18T07:36:24.491Z"
   },
   {
    "duration": 129,
    "start_time": "2023-06-18T07:36:24.513Z"
   },
   {
    "duration": 63,
    "start_time": "2023-06-18T07:36:24.645Z"
   },
   {
    "duration": 68,
    "start_time": "2023-06-18T07:36:24.710Z"
   },
   {
    "duration": 78,
    "start_time": "2023-06-18T07:36:24.779Z"
   },
   {
    "duration": 133,
    "start_time": "2023-06-18T07:36:24.859Z"
   },
   {
    "duration": 33,
    "start_time": "2023-06-18T07:36:24.994Z"
   },
   {
    "duration": 55,
    "start_time": "2023-06-18T07:36:25.029Z"
   },
   {
    "duration": 94,
    "start_time": "2023-06-18T07:36:25.088Z"
   },
   {
    "duration": 3,
    "start_time": "2023-06-18T08:32:22.889Z"
   },
   {
    "duration": 11,
    "start_time": "2023-06-18T08:32:42.931Z"
   },
   {
    "duration": 3,
    "start_time": "2023-06-18T08:36:12.010Z"
   },
   {
    "duration": 42,
    "start_time": "2023-06-18T08:36:12.525Z"
   },
   {
    "duration": 54,
    "start_time": "2023-06-18T08:36:24.610Z"
   },
   {
    "duration": 18,
    "start_time": "2023-06-18T08:36:36.304Z"
   },
   {
    "duration": 71,
    "start_time": "2023-06-18T08:37:00.603Z"
   },
   {
    "duration": 54,
    "start_time": "2023-06-18T08:37:30.417Z"
   },
   {
    "duration": 17,
    "start_time": "2023-06-18T08:37:37.328Z"
   },
   {
    "duration": 2,
    "start_time": "2023-06-18T08:37:44.910Z"
   },
   {
    "duration": 10,
    "start_time": "2023-06-18T08:37:45.702Z"
   },
   {
    "duration": 758,
    "start_time": "2023-06-18T08:38:04.224Z"
   },
   {
    "duration": 504,
    "start_time": "2023-06-18T08:38:15.193Z"
   },
   {
    "duration": 40,
    "start_time": "2023-06-18T08:38:17.815Z"
   },
   {
    "duration": 16,
    "start_time": "2023-06-18T08:38:34.474Z"
   },
   {
    "duration": 48,
    "start_time": "2023-06-18T08:38:40.856Z"
   },
   {
    "duration": 5,
    "start_time": "2023-06-18T08:38:42.152Z"
   },
   {
    "duration": 3,
    "start_time": "2023-06-18T08:39:09.119Z"
   },
   {
    "duration": 41,
    "start_time": "2023-06-18T08:39:15.438Z"
   },
   {
    "duration": 4,
    "start_time": "2023-06-18T08:39:16.093Z"
   },
   {
    "duration": 59,
    "start_time": "2023-06-18T08:50:37.050Z"
   },
   {
    "duration": 3,
    "start_time": "2023-06-18T08:51:28.611Z"
   },
   {
    "duration": 2,
    "start_time": "2023-06-18T08:51:55.640Z"
   },
   {
    "duration": 35250,
    "start_time": "2023-06-18T08:52:09.091Z"
   },
   {
    "duration": 33,
    "start_time": "2023-06-18T08:52:46.849Z"
   },
   {
    "duration": 2,
    "start_time": "2023-06-18T08:52:49.472Z"
   },
   {
    "duration": 25,
    "start_time": "2023-06-18T08:52:49.872Z"
   },
   {
    "duration": 399,
    "start_time": "2023-06-18T08:53:19.048Z"
   },
   {
    "duration": 71,
    "start_time": "2023-06-18T09:25:54.907Z"
   },
   {
    "duration": 67,
    "start_time": "2023-06-18T09:27:34.437Z"
   },
   {
    "duration": 13,
    "start_time": "2023-06-18T09:28:01.010Z"
   },
   {
    "duration": 71,
    "start_time": "2023-06-18T09:28:02.131Z"
   },
   {
    "duration": 67,
    "start_time": "2023-06-18T09:28:03.521Z"
   },
   {
    "duration": 4,
    "start_time": "2023-06-18T09:28:17.531Z"
   },
   {
    "duration": 5,
    "start_time": "2023-06-18T09:28:17.537Z"
   },
   {
    "duration": 8,
    "start_time": "2023-06-18T09:28:17.544Z"
   },
   {
    "duration": 953,
    "start_time": "2023-06-18T09:28:17.554Z"
   },
   {
    "duration": 7,
    "start_time": "2023-06-18T09:28:18.509Z"
   },
   {
    "duration": 368,
    "start_time": "2023-06-18T09:28:18.518Z"
   },
   {
    "duration": 7,
    "start_time": "2023-06-18T09:28:18.888Z"
   },
   {
    "duration": 417,
    "start_time": "2023-06-18T09:28:18.897Z"
   },
   {
    "duration": 5,
    "start_time": "2023-06-18T09:28:19.316Z"
   },
   {
    "duration": 215,
    "start_time": "2023-06-18T09:28:19.322Z"
   },
   {
    "duration": 164,
    "start_time": "2023-06-18T09:28:19.538Z"
   },
   {
    "duration": 170,
    "start_time": "2023-06-18T09:28:19.704Z"
   },
   {
    "duration": 348,
    "start_time": "2023-06-18T09:28:19.875Z"
   },
   {
    "duration": 278,
    "start_time": "2023-06-18T09:28:20.231Z"
   },
   {
    "duration": 3222,
    "start_time": "2023-06-18T09:28:20.510Z"
   },
   {
    "duration": 150,
    "start_time": "2023-06-18T09:28:23.734Z"
   },
   {
    "duration": 66,
    "start_time": "2023-06-18T09:28:23.885Z"
   },
   {
    "duration": 155,
    "start_time": "2023-06-18T09:28:23.952Z"
   },
   {
    "duration": 947,
    "start_time": "2023-06-18T09:28:24.108Z"
   },
   {
    "duration": 7,
    "start_time": "2023-06-18T09:28:25.057Z"
   },
   {
    "duration": 26,
    "start_time": "2023-06-18T09:28:25.065Z"
   },
   {
    "duration": 282,
    "start_time": "2023-06-18T09:28:25.092Z"
   },
   {
    "duration": 684,
    "start_time": "2023-06-18T09:28:25.375Z"
   },
   {
    "duration": 5,
    "start_time": "2023-06-18T09:28:26.061Z"
   },
   {
    "duration": 18,
    "start_time": "2023-06-18T09:28:26.067Z"
   },
   {
    "duration": 63,
    "start_time": "2023-06-18T09:28:26.086Z"
   },
   {
    "duration": 17,
    "start_time": "2023-06-18T09:28:26.150Z"
   },
   {
    "duration": 3710,
    "start_time": "2023-06-18T09:28:26.168Z"
   },
   {
    "duration": 1828,
    "start_time": "2023-06-18T09:28:29.880Z"
   },
   {
    "duration": 67,
    "start_time": "2023-06-18T09:28:31.710Z"
   },
   {
    "duration": 335,
    "start_time": "2023-06-18T09:28:31.779Z"
   },
   {
    "duration": 98,
    "start_time": "2023-06-18T09:28:32.116Z"
   },
   {
    "duration": 53,
    "start_time": "2023-06-18T09:28:32.216Z"
   },
   {
    "duration": 85,
    "start_time": "2023-06-18T09:28:32.271Z"
   },
   {
    "duration": 51,
    "start_time": "2023-06-18T09:28:32.357Z"
   },
   {
    "duration": 55,
    "start_time": "2023-06-18T09:28:32.409Z"
   },
   {
    "duration": 81,
    "start_time": "2023-06-18T09:28:32.466Z"
   },
   {
    "duration": 149,
    "start_time": "2023-06-18T09:28:32.549Z"
   },
   {
    "duration": 206,
    "start_time": "2023-06-18T09:28:32.700Z"
   },
   {
    "duration": 73,
    "start_time": "2023-06-18T09:28:32.907Z"
   },
   {
    "duration": 83,
    "start_time": "2023-06-18T09:28:32.984Z"
   },
   {
    "duration": 76,
    "start_time": "2023-06-18T09:28:33.069Z"
   },
   {
    "duration": 56,
    "start_time": "2023-06-18T09:28:33.147Z"
   },
   {
    "duration": 13,
    "start_time": "2023-06-18T09:28:33.205Z"
   },
   {
    "duration": 88,
    "start_time": "2023-06-18T09:28:33.220Z"
   },
   {
    "duration": 131,
    "start_time": "2023-06-18T09:28:33.310Z"
   },
   {
    "duration": 25,
    "start_time": "2023-06-18T09:28:33.442Z"
   },
   {
    "duration": 2,
    "start_time": "2023-06-18T09:28:33.470Z"
   },
   {
    "duration": 494,
    "start_time": "2023-06-18T09:28:33.474Z"
   },
   {
    "duration": 46,
    "start_time": "2023-06-18T09:28:33.970Z"
   },
   {
    "duration": 15,
    "start_time": "2023-06-18T09:28:34.018Z"
   },
   {
    "duration": 11,
    "start_time": "2023-06-18T09:28:34.035Z"
   },
   {
    "duration": 83388,
    "start_time": "2023-06-18T09:28:34.048Z"
   },
   {
    "duration": 510,
    "start_time": "2023-06-18T09:29:57.438Z"
   },
   {
    "duration": 3,
    "start_time": "2023-06-18T09:29:57.949Z"
   },
   {
    "duration": 43470,
    "start_time": "2023-06-18T09:29:58.031Z"
   },
   {
    "duration": 613,
    "start_time": "2023-06-18T09:30:41.503Z"
   },
   {
    "duration": 3,
    "start_time": "2023-06-18T09:30:42.118Z"
   },
   {
    "duration": 62,
    "start_time": "2023-06-18T09:30:42.123Z"
   },
   {
    "duration": 7,
    "start_time": "2023-06-18T09:30:42.187Z"
   },
   {
    "duration": 6,
    "start_time": "2023-06-18T09:30:42.195Z"
   },
   {
    "duration": 6,
    "start_time": "2023-06-18T09:30:42.202Z"
   },
   {
    "duration": 8,
    "start_time": "2023-06-18T09:30:42.209Z"
   },
   {
    "duration": 4,
    "start_time": "2023-06-18T09:31:18.494Z"
   },
   {
    "duration": 3,
    "start_time": "2023-06-18T09:31:22.671Z"
   },
   {
    "duration": 3,
    "start_time": "2023-06-18T09:31:42.496Z"
   },
   {
    "duration": 3,
    "start_time": "2023-06-18T09:31:54.534Z"
   },
   {
    "duration": 3,
    "start_time": "2023-06-18T09:33:14.273Z"
   },
   {
    "duration": 8,
    "start_time": "2023-06-18T09:38:12.507Z"
   },
   {
    "duration": 150,
    "start_time": "2023-06-18T09:38:19.717Z"
   },
   {
    "duration": 413,
    "start_time": "2023-06-18T09:38:30.872Z"
   },
   {
    "duration": 297,
    "start_time": "2023-06-18T09:38:41.901Z"
   },
   {
    "duration": 244,
    "start_time": "2023-06-18T09:38:52.666Z"
   },
   {
    "duration": 403,
    "start_time": "2023-06-18T09:39:07.820Z"
   },
   {
    "duration": 447,
    "start_time": "2023-06-18T09:39:14.666Z"
   },
   {
    "duration": 429,
    "start_time": "2023-06-18T09:39:46.823Z"
   },
   {
    "duration": 422,
    "start_time": "2023-06-18T09:40:10.450Z"
   },
   {
    "duration": 412,
    "start_time": "2023-06-18T09:40:48.405Z"
   },
   {
    "duration": 394,
    "start_time": "2023-06-18T09:40:57.128Z"
   },
   {
    "duration": 4,
    "start_time": "2023-06-18T09:42:05.744Z"
   },
   {
    "duration": 29,
    "start_time": "2023-06-18T09:42:05.750Z"
   },
   {
    "duration": 29,
    "start_time": "2023-06-18T09:42:05.781Z"
   },
   {
    "duration": 969,
    "start_time": "2023-06-18T09:42:05.812Z"
   },
   {
    "duration": 8,
    "start_time": "2023-06-18T09:42:06.783Z"
   },
   {
    "duration": 385,
    "start_time": "2023-06-18T09:42:06.793Z"
   },
   {
    "duration": 8,
    "start_time": "2023-06-18T09:42:07.179Z"
   },
   {
    "duration": 424,
    "start_time": "2023-06-18T09:42:07.189Z"
   },
   {
    "duration": 5,
    "start_time": "2023-06-18T09:42:07.615Z"
   },
   {
    "duration": 186,
    "start_time": "2023-06-18T09:42:07.621Z"
   },
   {
    "duration": 164,
    "start_time": "2023-06-18T09:42:07.809Z"
   },
   {
    "duration": 176,
    "start_time": "2023-06-18T09:42:07.974Z"
   },
   {
    "duration": 424,
    "start_time": "2023-06-18T09:42:08.151Z"
   },
   {
    "duration": 286,
    "start_time": "2023-06-18T09:42:08.578Z"
   },
   {
    "duration": 3067,
    "start_time": "2023-06-18T09:42:08.866Z"
   },
   {
    "duration": 143,
    "start_time": "2023-06-18T09:42:11.935Z"
   },
   {
    "duration": 63,
    "start_time": "2023-06-18T09:42:12.079Z"
   },
   {
    "duration": 244,
    "start_time": "2023-06-18T09:42:12.144Z"
   },
   {
    "duration": 913,
    "start_time": "2023-06-18T09:42:12.390Z"
   },
   {
    "duration": 8,
    "start_time": "2023-06-18T09:42:13.304Z"
   },
   {
    "duration": 26,
    "start_time": "2023-06-18T09:42:13.313Z"
   },
   {
    "duration": 261,
    "start_time": "2023-06-18T09:42:13.341Z"
   },
   {
    "duration": 602,
    "start_time": "2023-06-18T09:42:13.604Z"
   },
   {
    "duration": 4,
    "start_time": "2023-06-18T09:42:14.208Z"
   },
   {
    "duration": 9,
    "start_time": "2023-06-18T09:42:14.213Z"
   },
   {
    "duration": 56,
    "start_time": "2023-06-18T09:42:14.223Z"
   },
   {
    "duration": 6,
    "start_time": "2023-06-18T09:42:14.280Z"
   },
   {
    "duration": 3226,
    "start_time": "2023-06-18T09:42:14.287Z"
   },
   {
    "duration": 1856,
    "start_time": "2023-06-18T09:42:17.515Z"
   },
   {
    "duration": 63,
    "start_time": "2023-06-18T09:42:19.372Z"
   },
   {
    "duration": 218,
    "start_time": "2023-06-18T09:42:19.437Z"
   },
   {
    "duration": 196,
    "start_time": "2023-06-18T09:42:19.657Z"
   },
   {
    "duration": 16,
    "start_time": "2023-06-18T09:42:19.854Z"
   },
   {
    "duration": 95,
    "start_time": "2023-06-18T09:42:19.872Z"
   },
   {
    "duration": 46,
    "start_time": "2023-06-18T09:42:19.969Z"
   },
   {
    "duration": 55,
    "start_time": "2023-06-18T09:42:20.016Z"
   },
   {
    "duration": 86,
    "start_time": "2023-06-18T09:42:20.072Z"
   },
   {
    "duration": 141,
    "start_time": "2023-06-18T09:42:20.160Z"
   },
   {
    "duration": 17,
    "start_time": "2023-06-18T09:42:20.302Z"
   },
   {
    "duration": 33,
    "start_time": "2023-06-18T09:42:20.332Z"
   },
   {
    "duration": 86,
    "start_time": "2023-06-18T09:42:20.369Z"
   },
   {
    "duration": 3,
    "start_time": "2023-06-18T09:42:20.457Z"
   },
   {
    "duration": 64,
    "start_time": "2023-06-18T09:42:20.461Z"
   },
   {
    "duration": 13,
    "start_time": "2023-06-18T09:42:20.526Z"
   },
   {
    "duration": 82,
    "start_time": "2023-06-18T09:42:20.540Z"
   },
   {
    "duration": 78,
    "start_time": "2023-06-18T09:42:20.623Z"
   },
   {
    "duration": 29,
    "start_time": "2023-06-18T09:42:20.703Z"
   },
   {
    "duration": 2,
    "start_time": "2023-06-18T09:42:20.734Z"
   },
   {
    "duration": 518,
    "start_time": "2023-06-18T09:42:20.737Z"
   },
   {
    "duration": 46,
    "start_time": "2023-06-18T09:42:21.256Z"
   },
   {
    "duration": 5,
    "start_time": "2023-06-18T09:42:21.304Z"
   },
   {
    "duration": 38,
    "start_time": "2023-06-18T09:42:21.311Z"
   },
   {
    "duration": 1292,
    "start_time": "2023-06-18T09:47:40.955Z"
   },
   {
    "duration": 2,
    "start_time": "2023-06-18T09:47:43.064Z"
   },
   {
    "duration": 772,
    "start_time": "2023-06-18T09:47:43.471Z"
   },
   {
    "duration": 4,
    "start_time": "2023-06-18T09:47:44.245Z"
   },
   {
    "duration": 1067,
    "start_time": "2023-06-18T09:47:44.258Z"
   },
   {
    "duration": 13,
    "start_time": "2023-06-18T09:47:45.327Z"
   },
   {
    "duration": 468,
    "start_time": "2023-06-18T09:47:45.342Z"
   },
   {
    "duration": 21,
    "start_time": "2023-06-18T09:47:45.812Z"
   },
   {
    "duration": 480,
    "start_time": "2023-06-18T09:47:45.835Z"
   },
   {
    "duration": 5,
    "start_time": "2023-06-18T09:47:46.317Z"
   },
   {
    "duration": 235,
    "start_time": "2023-06-18T09:47:46.331Z"
   },
   {
    "duration": 176,
    "start_time": "2023-06-18T09:47:46.568Z"
   },
   {
    "duration": 173,
    "start_time": "2023-06-18T09:47:46.745Z"
   },
   {
    "duration": 515,
    "start_time": "2023-06-18T09:47:46.931Z"
   },
   {
    "duration": 383,
    "start_time": "2023-06-18T09:47:47.448Z"
   },
   {
    "duration": 2936,
    "start_time": "2023-06-18T09:47:47.833Z"
   },
   {
    "duration": 161,
    "start_time": "2023-06-18T09:47:50.771Z"
   },
   {
    "duration": 121,
    "start_time": "2023-06-18T09:47:50.934Z"
   },
   {
    "duration": 176,
    "start_time": "2023-06-18T09:47:51.056Z"
   },
   {
    "duration": 860,
    "start_time": "2023-06-18T09:47:51.234Z"
   },
   {
    "duration": 7,
    "start_time": "2023-06-18T09:47:52.096Z"
   },
   {
    "duration": 26,
    "start_time": "2023-06-18T09:47:52.105Z"
   },
   {
    "duration": 294,
    "start_time": "2023-06-18T09:47:52.133Z"
   },
   {
    "duration": 744,
    "start_time": "2023-06-18T09:47:52.432Z"
   },
   {
    "duration": 5,
    "start_time": "2023-06-18T09:47:53.178Z"
   },
   {
    "duration": 124,
    "start_time": "2023-06-18T09:47:53.184Z"
   },
   {
    "duration": 58,
    "start_time": "2023-06-18T09:47:53.422Z"
   },
   {
    "duration": 3,
    "start_time": "2023-06-18T09:47:54.055Z"
   },
   {
    "duration": 3718,
    "start_time": "2023-06-18T09:47:54.563Z"
   },
   {
    "duration": 1903,
    "start_time": "2023-06-18T09:47:58.283Z"
   },
   {
    "duration": 49,
    "start_time": "2023-06-18T09:48:00.188Z"
   },
   {
    "duration": 193,
    "start_time": "2023-06-18T09:48:00.239Z"
   },
   {
    "duration": 193,
    "start_time": "2023-06-18T09:48:00.433Z"
   },
   {
    "duration": 19,
    "start_time": "2023-06-18T09:48:04.311Z"
   },
   {
    "duration": 95,
    "start_time": "2023-06-18T09:48:04.663Z"
   },
   {
    "duration": 39,
    "start_time": "2023-06-18T09:48:05.187Z"
   },
   {
    "duration": 44,
    "start_time": "2023-06-18T09:48:05.520Z"
   },
   {
    "duration": 80,
    "start_time": "2023-06-18T09:48:05.712Z"
   },
   {
    "duration": 103,
    "start_time": "2023-06-18T09:48:05.895Z"
   },
   {
    "duration": 16,
    "start_time": "2023-06-18T09:48:06.074Z"
   },
   {
    "duration": 17,
    "start_time": "2023-06-18T09:48:06.269Z"
   },
   {
    "duration": 62,
    "start_time": "2023-06-18T09:48:06.651Z"
   },
   {
    "duration": 3,
    "start_time": "2023-06-18T09:48:07.205Z"
   },
   {
    "duration": 29,
    "start_time": "2023-06-18T09:48:07.399Z"
   },
   {
    "duration": 13,
    "start_time": "2023-06-18T09:48:07.597Z"
   },
   {
    "duration": 76,
    "start_time": "2023-06-18T09:48:07.792Z"
   },
   {
    "duration": 71,
    "start_time": "2023-06-18T09:48:07.980Z"
   },
   {
    "duration": 13,
    "start_time": "2023-06-18T09:48:08.368Z"
   },
   {
    "duration": 2,
    "start_time": "2023-06-18T09:48:08.759Z"
   },
   {
    "duration": 651,
    "start_time": "2023-06-18T09:48:08.965Z"
   },
   {
    "duration": 61,
    "start_time": "2023-06-18T09:48:09.619Z"
   },
   {
    "duration": 4,
    "start_time": "2023-06-18T09:48:09.682Z"
   },
   {
    "duration": 3,
    "start_time": "2023-06-18T09:48:10.117Z"
   },
   {
    "duration": 5523,
    "start_time": "2023-06-18T09:48:10.311Z"
   },
   {
    "duration": 510,
    "start_time": "2023-06-18T09:48:15.836Z"
   },
   {
    "duration": 2,
    "start_time": "2023-06-18T09:48:16.348Z"
   },
   {
    "duration": 42526,
    "start_time": "2023-06-18T09:48:16.352Z"
   },
   {
    "duration": 596,
    "start_time": "2023-06-18T09:48:58.880Z"
   },
   {
    "duration": 3,
    "start_time": "2023-06-18T09:48:59.478Z"
   },
   {
    "duration": 6,
    "start_time": "2023-06-18T09:48:59.482Z"
   },
   {
    "duration": 8,
    "start_time": "2023-06-18T09:48:59.489Z"
   },
   {
    "duration": 434,
    "start_time": "2023-06-18T09:48:59.498Z"
   },
   {
    "duration": 3,
    "start_time": "2023-06-18T09:48:59.935Z"
   },
   {
    "duration": 10,
    "start_time": "2023-06-18T09:48:59.940Z"
   },
   {
    "duration": 8,
    "start_time": "2023-06-18T09:48:59.951Z"
   },
   {
    "duration": 439,
    "start_time": "2023-06-18T09:48:59.960Z"
   },
   {
    "duration": 59,
    "start_time": "2023-06-19T08:01:36.956Z"
   },
   {
    "duration": 7,
    "start_time": "2023-06-19T08:21:04.716Z"
   },
   {
    "duration": 1514,
    "start_time": "2023-06-19T08:27:41.056Z"
   },
   {
    "duration": 4,
    "start_time": "2023-06-19T08:28:12.100Z"
   },
   {
    "duration": 3,
    "start_time": "2023-06-19T08:33:23.343Z"
   },
   {
    "duration": 4,
    "start_time": "2023-06-19T08:33:23.348Z"
   },
   {
    "duration": 3125,
    "start_time": "2023-06-19T08:33:23.354Z"
   },
   {
    "duration": 4,
    "start_time": "2023-06-19T08:33:26.480Z"
   },
   {
    "duration": 969,
    "start_time": "2023-06-19T08:33:26.485Z"
   },
   {
    "duration": 17,
    "start_time": "2023-06-19T08:33:27.456Z"
   },
   {
    "duration": 438,
    "start_time": "2023-06-19T08:33:27.475Z"
   },
   {
    "duration": 12,
    "start_time": "2023-06-19T08:33:27.915Z"
   },
   {
    "duration": 511,
    "start_time": "2023-06-19T08:33:27.929Z"
   },
   {
    "duration": 6,
    "start_time": "2023-06-19T08:33:28.443Z"
   },
   {
    "duration": 204,
    "start_time": "2023-06-19T08:33:28.450Z"
   },
   {
    "duration": 152,
    "start_time": "2023-06-19T08:33:28.655Z"
   },
   {
    "duration": 183,
    "start_time": "2023-06-19T08:33:28.809Z"
   },
   {
    "duration": 463,
    "start_time": "2023-06-19T08:33:28.993Z"
   },
   {
    "duration": 352,
    "start_time": "2023-06-19T08:33:29.458Z"
   },
   {
    "duration": 3120,
    "start_time": "2023-06-19T08:33:29.812Z"
   },
   {
    "duration": 181,
    "start_time": "2023-06-19T08:33:32.934Z"
   },
   {
    "duration": 125,
    "start_time": "2023-06-19T08:33:33.117Z"
   },
   {
    "duration": 184,
    "start_time": "2023-06-19T08:33:33.243Z"
   },
   {
    "duration": 963,
    "start_time": "2023-06-19T08:33:33.429Z"
   },
   {
    "duration": 7,
    "start_time": "2023-06-19T08:33:34.394Z"
   },
   {
    "duration": 20,
    "start_time": "2023-06-19T08:33:34.403Z"
   },
   {
    "duration": 303,
    "start_time": "2023-06-19T08:33:34.424Z"
   },
   {
    "duration": 688,
    "start_time": "2023-06-19T08:33:34.729Z"
   },
   {
    "duration": 4,
    "start_time": "2023-06-19T08:33:35.419Z"
   },
   {
    "duration": 9,
    "start_time": "2023-06-19T08:33:35.424Z"
   },
   {
    "duration": 46,
    "start_time": "2023-06-19T08:33:35.434Z"
   },
   {
    "duration": 6,
    "start_time": "2023-06-19T08:33:35.484Z"
   },
   {
    "duration": 16,
    "start_time": "2023-06-19T08:33:35.491Z"
   },
   {
    "duration": 69,
    "start_time": "2023-06-19T08:33:35.508Z"
   },
   {
    "duration": 4,
    "start_time": "2023-06-19T08:33:35.578Z"
   },
   {
    "duration": 3918,
    "start_time": "2023-06-19T08:33:35.584Z"
   },
   {
    "duration": 1922,
    "start_time": "2023-06-19T08:33:39.503Z"
   },
   {
    "duration": 54,
    "start_time": "2023-06-19T08:33:41.426Z"
   },
   {
    "duration": 174,
    "start_time": "2023-06-19T08:33:41.482Z"
   },
   {
    "duration": 180,
    "start_time": "2023-06-19T08:33:41.658Z"
   },
   {
    "duration": 20,
    "start_time": "2023-06-19T08:33:41.839Z"
   },
   {
    "duration": 86,
    "start_time": "2023-06-19T08:33:41.868Z"
   },
   {
    "duration": 51,
    "start_time": "2023-06-19T08:33:41.955Z"
   },
   {
    "duration": 40,
    "start_time": "2023-06-19T08:33:42.008Z"
   },
   {
    "duration": 88,
    "start_time": "2023-06-19T08:33:42.049Z"
   },
   {
    "duration": 124,
    "start_time": "2023-06-19T08:33:42.138Z"
   },
   {
    "duration": 17,
    "start_time": "2023-06-19T08:33:42.264Z"
   },
   {
    "duration": 17,
    "start_time": "2023-06-19T08:33:42.282Z"
   },
   {
    "duration": 88,
    "start_time": "2023-06-19T08:33:42.300Z"
   },
   {
    "duration": 2,
    "start_time": "2023-06-19T08:33:42.390Z"
   },
   {
    "duration": 31,
    "start_time": "2023-06-19T08:33:42.394Z"
   },
   {
    "duration": 12,
    "start_time": "2023-06-19T08:33:42.427Z"
   },
   {
    "duration": 79,
    "start_time": "2023-06-19T08:33:42.441Z"
   },
   {
    "duration": 77,
    "start_time": "2023-06-19T08:33:42.522Z"
   },
   {
    "duration": 14,
    "start_time": "2023-06-19T08:33:42.601Z"
   },
   {
    "duration": 81,
    "start_time": "2023-06-19T08:33:42.616Z"
   },
   {
    "duration": 0,
    "start_time": "2023-06-19T08:33:42.698Z"
   },
   {
    "duration": 0,
    "start_time": "2023-06-19T08:33:42.699Z"
   },
   {
    "duration": 0,
    "start_time": "2023-06-19T08:33:42.700Z"
   },
   {
    "duration": 0,
    "start_time": "2023-06-19T08:33:42.701Z"
   },
   {
    "duration": 0,
    "start_time": "2023-06-19T08:33:42.702Z"
   },
   {
    "duration": 0,
    "start_time": "2023-06-19T08:33:42.703Z"
   },
   {
    "duration": 0,
    "start_time": "2023-06-19T08:33:42.704Z"
   },
   {
    "duration": 0,
    "start_time": "2023-06-19T08:33:42.705Z"
   },
   {
    "duration": 0,
    "start_time": "2023-06-19T08:33:42.706Z"
   },
   {
    "duration": 0,
    "start_time": "2023-06-19T08:33:42.706Z"
   },
   {
    "duration": 0,
    "start_time": "2023-06-19T08:33:42.708Z"
   },
   {
    "duration": 0,
    "start_time": "2023-06-19T08:33:42.708Z"
   },
   {
    "duration": 0,
    "start_time": "2023-06-19T08:33:42.709Z"
   },
   {
    "duration": 0,
    "start_time": "2023-06-19T08:33:42.710Z"
   },
   {
    "duration": 0,
    "start_time": "2023-06-19T08:33:42.711Z"
   },
   {
    "duration": 0,
    "start_time": "2023-06-19T08:33:42.712Z"
   },
   {
    "duration": 0,
    "start_time": "2023-06-19T08:33:42.713Z"
   },
   {
    "duration": 0,
    "start_time": "2023-06-19T08:33:42.713Z"
   },
   {
    "duration": 0,
    "start_time": "2023-06-19T08:33:42.714Z"
   },
   {
    "duration": 0,
    "start_time": "2023-06-19T08:33:42.715Z"
   },
   {
    "duration": 0,
    "start_time": "2023-06-19T08:33:42.716Z"
   },
   {
    "duration": 0,
    "start_time": "2023-06-19T08:33:42.717Z"
   },
   {
    "duration": 0,
    "start_time": "2023-06-19T08:33:42.718Z"
   },
   {
    "duration": 0,
    "start_time": "2023-06-19T08:33:42.719Z"
   },
   {
    "duration": 0,
    "start_time": "2023-06-19T08:33:42.720Z"
   },
   {
    "duration": 0,
    "start_time": "2023-06-19T08:33:42.721Z"
   },
   {
    "duration": 0,
    "start_time": "2023-06-19T08:33:42.722Z"
   },
   {
    "duration": 71,
    "start_time": "2023-06-19T08:34:43.673Z"
   },
   {
    "duration": 4,
    "start_time": "2023-06-19T08:34:45.040Z"
   },
   {
    "duration": 3,
    "start_time": "2023-06-19T08:34:46.742Z"
   },
   {
    "duration": 856,
    "start_time": "2023-06-19T08:34:49.206Z"
   },
   {
    "duration": 3,
    "start_time": "2023-06-19T08:34:53.419Z"
   },
   {
    "duration": 3,
    "start_time": "2023-06-19T08:34:53.873Z"
   },
   {
    "duration": 3,
    "start_time": "2023-06-19T08:34:54.265Z"
   },
   {
    "duration": 3156,
    "start_time": "2023-06-19T08:34:54.642Z"
   },
   {
    "duration": 2,
    "start_time": "2023-06-19T08:35:01.494Z"
   },
   {
    "duration": 3,
    "start_time": "2023-06-19T08:35:02.135Z"
   },
   {
    "duration": 9,
    "start_time": "2023-06-19T08:35:06.461Z"
   },
   {
    "duration": 3,
    "start_time": "2023-06-19T08:35:20.402Z"
   },
   {
    "duration": 3,
    "start_time": "2023-06-19T08:35:20.593Z"
   },
   {
    "duration": 2,
    "start_time": "2023-06-19T08:35:20.740Z"
   },
   {
    "duration": 2708,
    "start_time": "2023-06-19T08:35:20.909Z"
   },
   {
    "duration": 0,
    "start_time": "2023-06-19T08:35:23.619Z"
   },
   {
    "duration": 0,
    "start_time": "2023-06-19T08:35:23.621Z"
   },
   {
    "duration": 3,
    "start_time": "2023-06-19T08:35:27.953Z"
   },
   {
    "duration": 4,
    "start_time": "2023-06-19T08:35:28.324Z"
   },
   {
    "duration": 8,
    "start_time": "2023-06-19T08:35:28.700Z"
   },
   {
    "duration": 3,
    "start_time": "2023-06-19T08:49:03.021Z"
   },
   {
    "duration": 10,
    "start_time": "2023-06-19T08:49:03.026Z"
   },
   {
    "duration": 722,
    "start_time": "2023-06-19T08:49:03.037Z"
   },
   {
    "duration": 3,
    "start_time": "2023-06-19T08:49:03.761Z"
   },
   {
    "duration": 967,
    "start_time": "2023-06-19T08:49:03.765Z"
   },
   {
    "duration": 7,
    "start_time": "2023-06-19T08:49:04.734Z"
   },
   {
    "duration": 415,
    "start_time": "2023-06-19T08:49:04.742Z"
   },
   {
    "duration": 14,
    "start_time": "2023-06-19T08:49:05.158Z"
   },
   {
    "duration": 414,
    "start_time": "2023-06-19T08:49:05.174Z"
   },
   {
    "duration": 5,
    "start_time": "2023-06-19T08:49:05.589Z"
   },
   {
    "duration": 203,
    "start_time": "2023-06-19T08:49:05.595Z"
   },
   {
    "duration": 161,
    "start_time": "2023-06-19T08:49:05.800Z"
   },
   {
    "duration": 181,
    "start_time": "2023-06-19T08:49:05.962Z"
   },
   {
    "duration": 459,
    "start_time": "2023-06-19T08:49:06.144Z"
   },
   {
    "duration": 348,
    "start_time": "2023-06-19T08:49:06.605Z"
   },
   {
    "duration": 3117,
    "start_time": "2023-06-19T08:49:06.955Z"
   },
   {
    "duration": 162,
    "start_time": "2023-06-19T08:49:10.073Z"
   },
   {
    "duration": 126,
    "start_time": "2023-06-19T08:49:10.237Z"
   },
   {
    "duration": 164,
    "start_time": "2023-06-19T08:49:10.365Z"
   },
   {
    "duration": 925,
    "start_time": "2023-06-19T08:49:10.531Z"
   },
   {
    "duration": 7,
    "start_time": "2023-06-19T08:49:11.457Z"
   },
   {
    "duration": 18,
    "start_time": "2023-06-19T08:49:11.467Z"
   },
   {
    "duration": 289,
    "start_time": "2023-06-19T08:49:11.487Z"
   },
   {
    "duration": 672,
    "start_time": "2023-06-19T08:49:11.781Z"
   },
   {
    "duration": 3,
    "start_time": "2023-06-19T08:49:12.455Z"
   },
   {
    "duration": 3,
    "start_time": "2023-06-19T08:49:12.468Z"
   },
   {
    "duration": 39,
    "start_time": "2023-06-19T08:49:12.472Z"
   },
   {
    "duration": 6,
    "start_time": "2023-06-19T08:49:12.513Z"
   },
   {
    "duration": 19,
    "start_time": "2023-06-19T08:49:12.521Z"
   },
   {
    "duration": 79,
    "start_time": "2023-06-19T08:49:12.542Z"
   },
   {
    "duration": 8,
    "start_time": "2023-06-19T08:49:12.622Z"
   },
   {
    "duration": 4401,
    "start_time": "2023-06-19T08:49:12.631Z"
   },
   {
    "duration": 1993,
    "start_time": "2023-06-19T08:49:17.034Z"
   },
   {
    "duration": 67,
    "start_time": "2023-06-19T08:49:19.029Z"
   },
   {
    "duration": 168,
    "start_time": "2023-06-19T08:49:19.097Z"
   },
   {
    "duration": 175,
    "start_time": "2023-06-19T08:49:19.268Z"
   },
   {
    "duration": 26,
    "start_time": "2023-06-19T08:49:19.444Z"
   },
   {
    "duration": 92,
    "start_time": "2023-06-19T08:49:19.471Z"
   },
   {
    "duration": 47,
    "start_time": "2023-06-19T08:49:19.565Z"
   },
   {
    "duration": 43,
    "start_time": "2023-06-19T08:49:19.614Z"
   },
   {
    "duration": 74,
    "start_time": "2023-06-19T08:49:19.668Z"
   },
   {
    "duration": 136,
    "start_time": "2023-06-19T08:49:19.744Z"
   },
   {
    "duration": 16,
    "start_time": "2023-06-19T08:49:19.882Z"
   },
   {
    "duration": 23,
    "start_time": "2023-06-19T08:49:19.900Z"
   },
   {
    "duration": 84,
    "start_time": "2023-06-19T08:49:19.924Z"
   },
   {
    "duration": 3,
    "start_time": "2023-06-19T08:49:20.009Z"
   },
   {
    "duration": 53,
    "start_time": "2023-06-19T08:49:20.014Z"
   },
   {
    "duration": 13,
    "start_time": "2023-06-19T08:49:20.068Z"
   },
   {
    "duration": 74,
    "start_time": "2023-06-19T08:49:20.083Z"
   },
   {
    "duration": 64,
    "start_time": "2023-06-19T08:49:20.167Z"
   },
   {
    "duration": 16,
    "start_time": "2023-06-19T08:49:20.232Z"
   },
   {
    "duration": 73,
    "start_time": "2023-06-19T08:49:20.250Z"
   },
   {
    "duration": 4,
    "start_time": "2023-06-19T08:49:20.324Z"
   },
   {
    "duration": 15,
    "start_time": "2023-06-19T08:49:20.330Z"
   },
   {
    "duration": 833,
    "start_time": "2023-06-19T08:49:20.346Z"
   },
   {
    "duration": 3,
    "start_time": "2023-06-19T08:49:21.180Z"
   },
   {
    "duration": 20,
    "start_time": "2023-06-19T08:49:21.184Z"
   },
   {
    "duration": 1312,
    "start_time": "2023-06-19T09:17:57.931Z"
   },
   {
    "duration": 2,
    "start_time": "2023-06-19T09:17:59.245Z"
   },
   {
    "duration": 789,
    "start_time": "2023-06-19T09:17:59.248Z"
   },
   {
    "duration": 3,
    "start_time": "2023-06-19T09:18:00.039Z"
   },
   {
    "duration": 1123,
    "start_time": "2023-06-19T09:18:00.044Z"
   },
   {
    "duration": 18,
    "start_time": "2023-06-19T09:18:01.170Z"
   },
   {
    "duration": 505,
    "start_time": "2023-06-19T09:18:01.190Z"
   },
   {
    "duration": 13,
    "start_time": "2023-06-19T09:18:01.697Z"
   },
   {
    "duration": 549,
    "start_time": "2023-06-19T09:18:01.712Z"
   },
   {
    "duration": 8,
    "start_time": "2023-06-19T09:18:02.264Z"
   },
   {
    "duration": 267,
    "start_time": "2023-06-19T09:18:02.274Z"
   },
   {
    "duration": 166,
    "start_time": "2023-06-19T09:18:02.543Z"
   },
   {
    "duration": 197,
    "start_time": "2023-06-19T09:18:02.711Z"
   },
   {
    "duration": 597,
    "start_time": "2023-06-19T09:18:02.910Z"
   },
   {
    "duration": 403,
    "start_time": "2023-06-19T09:18:03.509Z"
   },
   {
    "duration": 3269,
    "start_time": "2023-06-19T09:18:03.913Z"
   },
   {
    "duration": 185,
    "start_time": "2023-06-19T09:18:07.184Z"
   },
   {
    "duration": 135,
    "start_time": "2023-06-19T09:18:07.371Z"
   },
   {
    "duration": 204,
    "start_time": "2023-06-19T09:18:07.507Z"
   },
   {
    "duration": 996,
    "start_time": "2023-06-19T09:18:07.713Z"
   },
   {
    "duration": 8,
    "start_time": "2023-06-19T09:18:08.711Z"
   },
   {
    "duration": 28,
    "start_time": "2023-06-19T09:18:08.720Z"
   },
   {
    "duration": 309,
    "start_time": "2023-06-19T09:18:08.749Z"
   },
   {
    "duration": 843,
    "start_time": "2023-06-19T09:18:09.060Z"
   },
   {
    "duration": 4,
    "start_time": "2023-06-19T09:18:09.905Z"
   },
   {
    "duration": 7,
    "start_time": "2023-06-19T09:18:09.910Z"
   },
   {
    "duration": 34,
    "start_time": "2023-06-19T09:18:09.918Z"
   },
   {
    "duration": 7,
    "start_time": "2023-06-19T09:18:09.956Z"
   },
   {
    "duration": 19,
    "start_time": "2023-06-19T09:18:09.964Z"
   },
   {
    "duration": 56,
    "start_time": "2023-06-19T09:18:09.984Z"
   },
   {
    "duration": 14,
    "start_time": "2023-06-19T09:18:10.042Z"
   },
   {
    "duration": 4487,
    "start_time": "2023-06-19T09:18:10.058Z"
   },
   {
    "duration": 2137,
    "start_time": "2023-06-19T09:18:14.546Z"
   },
   {
    "duration": 47,
    "start_time": "2023-06-19T09:18:16.685Z"
   },
   {
    "duration": 189,
    "start_time": "2023-06-19T09:18:16.734Z"
   },
   {
    "duration": 205,
    "start_time": "2023-06-19T09:18:16.925Z"
   },
   {
    "duration": 20,
    "start_time": "2023-06-19T09:18:17.132Z"
   },
   {
    "duration": 106,
    "start_time": "2023-06-19T09:18:17.153Z"
   },
   {
    "duration": 57,
    "start_time": "2023-06-19T09:18:17.261Z"
   },
   {
    "duration": 62,
    "start_time": "2023-06-19T09:18:17.320Z"
   },
   {
    "duration": 86,
    "start_time": "2023-06-19T09:18:17.383Z"
   },
   {
    "duration": 133,
    "start_time": "2023-06-19T09:18:17.471Z"
   },
   {
    "duration": 17,
    "start_time": "2023-06-19T09:18:17.606Z"
   },
   {
    "duration": 24,
    "start_time": "2023-06-19T09:18:17.625Z"
   },
   {
    "duration": 80,
    "start_time": "2023-06-19T09:18:17.651Z"
   },
   {
    "duration": 3,
    "start_time": "2023-06-19T09:18:17.734Z"
   },
   {
    "duration": 47,
    "start_time": "2023-06-19T09:18:17.738Z"
   },
   {
    "duration": 13,
    "start_time": "2023-06-19T09:18:17.787Z"
   },
   {
    "duration": 90,
    "start_time": "2023-06-19T09:18:17.802Z"
   },
   {
    "duration": 65,
    "start_time": "2023-06-19T09:18:17.894Z"
   },
   {
    "duration": 24,
    "start_time": "2023-06-19T09:18:17.961Z"
   },
   {
    "duration": 68,
    "start_time": "2023-06-19T09:18:17.987Z"
   },
   {
    "duration": 11,
    "start_time": "2023-06-19T09:18:18.067Z"
   },
   {
    "duration": 16,
    "start_time": "2023-06-19T09:18:18.080Z"
   },
   {
    "duration": 967,
    "start_time": "2023-06-19T09:18:18.098Z"
   },
   {
    "duration": 16,
    "start_time": "2023-06-19T09:18:19.067Z"
   },
   {
    "duration": 10,
    "start_time": "2023-06-19T09:18:19.085Z"
   },
   {
    "duration": 14,
    "start_time": "2023-06-19T09:18:19.096Z"
   },
   {
    "duration": 138569,
    "start_time": "2023-06-19T09:18:19.111Z"
   },
   {
    "duration": 3,
    "start_time": "2023-06-19T09:20:37.681Z"
   },
   {
    "duration": 83,
    "start_time": "2023-06-19T09:20:37.685Z"
   },
   {
    "duration": 2010,
    "start_time": "2023-06-19T09:20:37.770Z"
   },
   {
    "duration": 4,
    "start_time": "2023-06-19T09:20:39.782Z"
   },
   {
    "duration": 8,
    "start_time": "2023-06-19T09:20:39.787Z"
   },
   {
    "duration": 5,
    "start_time": "2023-06-19T09:21:02.913Z"
   },
   {
    "duration": 4,
    "start_time": "2023-06-19T09:21:19.297Z"
   },
   {
    "duration": 3,
    "start_time": "2023-06-19T09:23:58.707Z"
   },
   {
    "duration": 3,
    "start_time": "2023-06-19T09:23:59.055Z"
   },
   {
    "duration": 2,
    "start_time": "2023-06-19T09:23:59.409Z"
   },
   {
    "duration": 1293,
    "start_time": "2023-06-19T09:32:56.120Z"
   },
   {
    "duration": 3,
    "start_time": "2023-06-19T09:32:58.475Z"
   },
   {
    "duration": 758,
    "start_time": "2023-06-19T09:32:59.555Z"
   },
   {
    "duration": 4,
    "start_time": "2023-06-19T09:33:00.314Z"
   },
   {
    "duration": 1053,
    "start_time": "2023-06-19T09:33:00.329Z"
   },
   {
    "duration": 12,
    "start_time": "2023-06-19T09:33:01.385Z"
   },
   {
    "duration": 487,
    "start_time": "2023-06-19T09:33:01.399Z"
   },
   {
    "duration": 13,
    "start_time": "2023-06-19T09:33:01.888Z"
   },
   {
    "duration": 493,
    "start_time": "2023-06-19T09:33:01.902Z"
   },
   {
    "duration": 4,
    "start_time": "2023-06-19T09:33:02.397Z"
   },
   {
    "duration": 216,
    "start_time": "2023-06-19T09:33:02.403Z"
   },
   {
    "duration": 164,
    "start_time": "2023-06-19T09:33:02.621Z"
   },
   {
    "duration": 193,
    "start_time": "2023-06-19T09:33:02.787Z"
   },
   {
    "duration": 546,
    "start_time": "2023-06-19T09:33:02.982Z"
   },
   {
    "duration": 356,
    "start_time": "2023-06-19T09:33:03.530Z"
   },
   {
    "duration": 3057,
    "start_time": "2023-06-19T09:33:03.887Z"
   },
   {
    "duration": 172,
    "start_time": "2023-06-19T09:33:06.946Z"
   },
   {
    "duration": 136,
    "start_time": "2023-06-19T09:33:07.120Z"
   },
   {
    "duration": 189,
    "start_time": "2023-06-19T09:33:07.258Z"
   },
   {
    "duration": 912,
    "start_time": "2023-06-19T09:33:07.449Z"
   },
   {
    "duration": 8,
    "start_time": "2023-06-19T09:33:08.362Z"
   },
   {
    "duration": 19,
    "start_time": "2023-06-19T09:33:08.372Z"
   },
   {
    "duration": 298,
    "start_time": "2023-06-19T09:33:08.392Z"
   },
   {
    "duration": 774,
    "start_time": "2023-06-19T09:33:08.691Z"
   },
   {
    "duration": 4,
    "start_time": "2023-06-19T09:33:09.468Z"
   },
   {
    "duration": 9,
    "start_time": "2023-06-19T09:33:09.473Z"
   },
   {
    "duration": 35,
    "start_time": "2023-06-19T09:33:09.483Z"
   },
   {
    "duration": 5,
    "start_time": "2023-06-19T09:33:09.520Z"
   },
   {
    "duration": 4,
    "start_time": "2023-06-19T09:33:09.526Z"
   },
   {
    "duration": 69,
    "start_time": "2023-06-19T09:33:09.531Z"
   },
   {
    "duration": 6,
    "start_time": "2023-06-19T09:33:09.601Z"
   },
   {
    "duration": 4072,
    "start_time": "2023-06-19T09:33:09.608Z"
   },
   {
    "duration": 2152,
    "start_time": "2023-06-19T09:33:13.682Z"
   },
   {
    "duration": 56,
    "start_time": "2023-06-19T09:33:15.836Z"
   },
   {
    "duration": 175,
    "start_time": "2023-06-19T09:33:15.893Z"
   },
   {
    "duration": 176,
    "start_time": "2023-06-19T09:33:16.069Z"
   },
   {
    "duration": 28,
    "start_time": "2023-06-19T09:33:16.247Z"
   },
   {
    "duration": 103,
    "start_time": "2023-06-19T09:33:16.277Z"
   },
   {
    "duration": 43,
    "start_time": "2023-06-19T09:33:16.382Z"
   },
   {
    "duration": 62,
    "start_time": "2023-06-19T09:33:16.427Z"
   },
   {
    "duration": 85,
    "start_time": "2023-06-19T09:33:16.491Z"
   },
   {
    "duration": 121,
    "start_time": "2023-06-19T09:33:16.577Z"
   },
   {
    "duration": 18,
    "start_time": "2023-06-19T09:33:16.700Z"
   },
   {
    "duration": 17,
    "start_time": "2023-06-19T09:33:16.720Z"
   },
   {
    "duration": 83,
    "start_time": "2023-06-19T09:33:16.738Z"
   },
   {
    "duration": 3,
    "start_time": "2023-06-19T09:33:16.823Z"
   },
   {
    "duration": 27,
    "start_time": "2023-06-19T09:33:16.827Z"
   },
   {
    "duration": 14,
    "start_time": "2023-06-19T09:33:16.867Z"
   },
   {
    "duration": 75,
    "start_time": "2023-06-19T09:33:16.882Z"
   },
   {
    "duration": 65,
    "start_time": "2023-06-19T09:33:16.968Z"
   },
   {
    "duration": 14,
    "start_time": "2023-06-19T09:33:17.035Z"
   },
   {
    "duration": 68,
    "start_time": "2023-06-19T09:33:17.067Z"
   },
   {
    "duration": 4,
    "start_time": "2023-06-19T09:33:17.136Z"
   },
   {
    "duration": 9,
    "start_time": "2023-06-19T09:33:17.142Z"
   },
   {
    "duration": 862,
    "start_time": "2023-06-19T09:33:17.167Z"
   },
   {
    "duration": 2,
    "start_time": "2023-06-19T09:33:18.192Z"
   },
   {
    "duration": 4,
    "start_time": "2023-06-19T09:33:18.197Z"
   },
   {
    "duration": 3,
    "start_time": "2023-06-19T09:33:18.296Z"
   },
   {
    "duration": 117481,
    "start_time": "2023-06-19T09:33:18.489Z"
   },
   {
    "duration": 2,
    "start_time": "2023-06-19T09:35:15.972Z"
   },
   {
    "duration": 19,
    "start_time": "2023-06-19T09:35:15.975Z"
   },
   {
    "duration": 1984,
    "start_time": "2023-06-19T09:35:15.996Z"
   },
   {
    "duration": 4,
    "start_time": "2023-06-19T09:35:17.982Z"
   },
   {
    "duration": 7,
    "start_time": "2023-06-19T09:35:17.988Z"
   },
   {
    "duration": 8,
    "start_time": "2023-06-19T09:35:17.996Z"
   },
   {
    "duration": 11,
    "start_time": "2023-06-19T09:35:18.005Z"
   },
   {
    "duration": 64,
    "start_time": "2023-06-19T09:35:18.017Z"
   },
   {
    "duration": 44,
    "start_time": "2023-06-19T09:35:18.083Z"
   },
   {
    "duration": 23,
    "start_time": "2023-06-19T09:35:18.128Z"
   },
   {
    "duration": 60,
    "start_time": "2023-06-19T09:35:18.153Z"
   },
   {
    "duration": 1293,
    "start_time": "2023-06-19T09:44:02.601Z"
   },
   {
    "duration": 3,
    "start_time": "2023-06-19T09:44:03.895Z"
   },
   {
    "duration": 816,
    "start_time": "2023-06-19T09:44:03.899Z"
   },
   {
    "duration": 3,
    "start_time": "2023-06-19T09:44:04.717Z"
   },
   {
    "duration": 1011,
    "start_time": "2023-06-19T09:44:04.721Z"
   },
   {
    "duration": 12,
    "start_time": "2023-06-19T09:44:05.733Z"
   },
   {
    "duration": 461,
    "start_time": "2023-06-19T09:44:05.746Z"
   },
   {
    "duration": 12,
    "start_time": "2023-06-19T09:44:06.208Z"
   },
   {
    "duration": 508,
    "start_time": "2023-06-19T09:44:06.221Z"
   },
   {
    "duration": 5,
    "start_time": "2023-06-19T09:44:06.731Z"
   },
   {
    "duration": 195,
    "start_time": "2023-06-19T09:44:06.737Z"
   },
   {
    "duration": 154,
    "start_time": "2023-06-19T09:44:06.933Z"
   },
   {
    "duration": 191,
    "start_time": "2023-06-19T09:44:07.088Z"
   },
   {
    "duration": 525,
    "start_time": "2023-06-19T09:44:07.280Z"
   },
   {
    "duration": 371,
    "start_time": "2023-06-19T09:44:07.807Z"
   },
   {
    "duration": 2999,
    "start_time": "2023-06-19T09:44:08.179Z"
   },
   {
    "duration": 173,
    "start_time": "2023-06-19T09:44:11.179Z"
   },
   {
    "duration": 134,
    "start_time": "2023-06-19T09:44:11.353Z"
   },
   {
    "duration": 198,
    "start_time": "2023-06-19T09:44:11.489Z"
   },
   {
    "duration": 949,
    "start_time": "2023-06-19T09:44:11.688Z"
   },
   {
    "duration": 9,
    "start_time": "2023-06-19T09:44:12.638Z"
   },
   {
    "duration": 28,
    "start_time": "2023-06-19T09:44:12.649Z"
   },
   {
    "duration": 306,
    "start_time": "2023-06-19T09:44:12.679Z"
   },
   {
    "duration": 907,
    "start_time": "2023-06-19T09:44:12.987Z"
   },
   {
    "duration": 5,
    "start_time": "2023-06-19T09:44:13.896Z"
   },
   {
    "duration": 11,
    "start_time": "2023-06-19T09:44:13.903Z"
   },
   {
    "duration": 35,
    "start_time": "2023-06-19T09:44:13.916Z"
   },
   {
    "duration": 12,
    "start_time": "2023-06-19T09:44:13.957Z"
   },
   {
    "duration": 5,
    "start_time": "2023-06-19T09:44:13.972Z"
   },
   {
    "duration": 98,
    "start_time": "2023-06-19T09:44:13.979Z"
   },
   {
    "duration": 4,
    "start_time": "2023-06-19T09:44:14.080Z"
   },
   {
    "duration": 4067,
    "start_time": "2023-06-19T09:44:14.086Z"
   },
   {
    "duration": 1946,
    "start_time": "2023-06-19T09:44:18.155Z"
   },
   {
    "duration": 50,
    "start_time": "2023-06-19T09:44:20.103Z"
   },
   {
    "duration": 182,
    "start_time": "2023-06-19T09:44:20.154Z"
   },
   {
    "duration": 213,
    "start_time": "2023-06-19T09:44:20.337Z"
   },
   {
    "duration": 26,
    "start_time": "2023-06-19T09:44:20.552Z"
   },
   {
    "duration": 98,
    "start_time": "2023-06-19T09:44:20.579Z"
   },
   {
    "duration": 44,
    "start_time": "2023-06-19T09:44:20.680Z"
   },
   {
    "duration": 61,
    "start_time": "2023-06-19T09:44:20.726Z"
   },
   {
    "duration": 103,
    "start_time": "2023-06-19T09:44:20.789Z"
   },
   {
    "duration": 122,
    "start_time": "2023-06-19T09:44:20.894Z"
   },
   {
    "duration": 17,
    "start_time": "2023-06-19T09:44:21.018Z"
   },
   {
    "duration": 33,
    "start_time": "2023-06-19T09:44:21.037Z"
   },
   {
    "duration": 85,
    "start_time": "2023-06-19T09:44:21.072Z"
   },
   {
    "duration": 3,
    "start_time": "2023-06-19T09:44:21.168Z"
   },
   {
    "duration": 54,
    "start_time": "2023-06-19T09:44:21.172Z"
   },
   {
    "duration": 12,
    "start_time": "2023-06-19T09:44:21.228Z"
   },
   {
    "duration": 75,
    "start_time": "2023-06-19T09:44:21.241Z"
   },
   {
    "duration": 70,
    "start_time": "2023-06-19T09:44:21.318Z"
   },
   {
    "duration": 13,
    "start_time": "2023-06-19T09:44:21.390Z"
   },
   {
    "duration": 81,
    "start_time": "2023-06-19T09:44:21.405Z"
   },
   {
    "duration": 4,
    "start_time": "2023-06-19T09:44:21.488Z"
   },
   {
    "duration": 13,
    "start_time": "2023-06-19T09:44:21.493Z"
   },
   {
    "duration": 894,
    "start_time": "2023-06-19T09:44:21.508Z"
   },
   {
    "duration": 2,
    "start_time": "2023-06-19T09:44:22.404Z"
   },
   {
    "duration": 15,
    "start_time": "2023-06-19T09:44:22.408Z"
   },
   {
    "duration": 5,
    "start_time": "2023-06-19T09:44:22.425Z"
   },
   {
    "duration": 110041,
    "start_time": "2023-06-19T09:44:22.432Z"
   },
   {
    "duration": 3,
    "start_time": "2023-06-19T09:46:12.475Z"
   },
   {
    "duration": 11,
    "start_time": "2023-06-19T09:46:12.479Z"
   },
   {
    "duration": 2285,
    "start_time": "2023-06-19T09:46:12.492Z"
   },
   {
    "duration": 4,
    "start_time": "2023-06-19T09:46:14.779Z"
   },
   {
    "duration": 7,
    "start_time": "2023-06-19T09:46:14.784Z"
   },
   {
    "duration": 5,
    "start_time": "2023-06-19T09:46:14.792Z"
   },
   {
    "duration": 4,
    "start_time": "2023-06-19T09:46:14.798Z"
   },
   {
    "duration": 7,
    "start_time": "2023-06-19T09:46:14.803Z"
   },
   {
    "duration": 5,
    "start_time": "2023-06-19T09:46:14.811Z"
   },
   {
    "duration": 3,
    "start_time": "2023-06-19T09:46:14.869Z"
   },
   {
    "duration": 6,
    "start_time": "2023-06-19T09:46:14.873Z"
   },
   {
    "duration": 113514,
    "start_time": "2023-06-19T09:46:14.880Z"
   },
   {
    "duration": 103,
    "start_time": "2023-06-19T09:48:08.396Z"
   },
   {
    "duration": 0,
    "start_time": "2023-06-19T09:48:08.501Z"
   },
   {
    "duration": 0,
    "start_time": "2023-06-19T09:48:08.502Z"
   },
   {
    "duration": 0,
    "start_time": "2023-06-19T09:48:08.503Z"
   },
   {
    "duration": 2,
    "start_time": "2023-06-19T09:48:49.322Z"
   },
   {
    "duration": 3,
    "start_time": "2023-06-19T09:48:50.160Z"
   },
   {
    "duration": 8,
    "start_time": "2023-06-19T09:48:54.244Z"
   },
   {
    "duration": 11,
    "start_time": "2023-06-19T09:48:55.019Z"
   },
   {
    "duration": 11,
    "start_time": "2023-06-19T09:49:38.895Z"
   },
   {
    "duration": 719,
    "start_time": "2023-06-19T09:50:36.922Z"
   },
   {
    "duration": 4,
    "start_time": "2023-06-19T09:50:39.611Z"
   },
   {
    "duration": 4,
    "start_time": "2023-06-19T09:50:40.355Z"
   },
   {
    "duration": 69,
    "start_time": "2023-06-20T08:14:08.727Z"
   },
   {
    "duration": 2249,
    "start_time": "2023-06-20T08:47:05.333Z"
   },
   {
    "duration": 6,
    "start_time": "2023-06-20T08:47:07.584Z"
   },
   {
    "duration": 4443,
    "start_time": "2023-06-20T08:47:07.592Z"
   },
   {
    "duration": 4,
    "start_time": "2023-06-20T08:47:12.038Z"
   },
   {
    "duration": 1600,
    "start_time": "2023-06-20T08:47:12.044Z"
   },
   {
    "duration": 13,
    "start_time": "2023-06-20T08:47:13.646Z"
   },
   {
    "duration": 702,
    "start_time": "2023-06-20T08:47:13.661Z"
   },
   {
    "duration": 43,
    "start_time": "2023-06-20T08:47:14.366Z"
   },
   {
    "duration": 814,
    "start_time": "2023-06-20T08:47:14.411Z"
   },
   {
    "duration": 5,
    "start_time": "2023-06-20T08:47:15.231Z"
   },
   {
    "duration": 328,
    "start_time": "2023-06-20T08:47:15.237Z"
   },
   {
    "duration": 268,
    "start_time": "2023-06-20T08:47:15.568Z"
   },
   {
    "duration": 300,
    "start_time": "2023-06-20T08:47:15.838Z"
   },
   {
    "duration": 732,
    "start_time": "2023-06-20T08:47:16.140Z"
   },
   {
    "duration": 571,
    "start_time": "2023-06-20T08:47:16.874Z"
   },
   {
    "duration": 4305,
    "start_time": "2023-06-20T08:47:17.447Z"
   },
   {
    "duration": 270,
    "start_time": "2023-06-20T08:47:21.754Z"
   },
   {
    "duration": 164,
    "start_time": "2023-06-20T08:47:22.025Z"
   },
   {
    "duration": 336,
    "start_time": "2023-06-20T08:47:22.191Z"
   },
   {
    "duration": 1435,
    "start_time": "2023-06-20T08:47:22.529Z"
   },
   {
    "duration": 31,
    "start_time": "2023-06-20T08:47:23.967Z"
   },
   {
    "duration": 41,
    "start_time": "2023-06-20T08:47:24.002Z"
   },
   {
    "duration": 628,
    "start_time": "2023-06-20T08:47:24.045Z"
   },
   {
    "duration": 1267,
    "start_time": "2023-06-20T08:47:24.675Z"
   },
   {
    "duration": 5,
    "start_time": "2023-06-20T08:47:25.945Z"
   },
   {
    "duration": 12,
    "start_time": "2023-06-20T08:47:25.952Z"
   },
   {
    "duration": 82,
    "start_time": "2023-06-20T08:47:25.966Z"
   },
   {
    "duration": 9,
    "start_time": "2023-06-20T08:47:26.054Z"
   },
   {
    "duration": 17,
    "start_time": "2023-06-20T08:47:26.064Z"
   },
   {
    "duration": 81,
    "start_time": "2023-06-20T08:47:26.085Z"
   },
   {
    "duration": 6,
    "start_time": "2023-06-20T08:47:26.167Z"
   },
   {
    "duration": 5276,
    "start_time": "2023-06-20T08:47:26.175Z"
   },
   {
    "duration": 2516,
    "start_time": "2023-06-20T08:47:31.452Z"
   },
   {
    "duration": 89,
    "start_time": "2023-06-20T08:47:33.973Z"
   },
   {
    "duration": 287,
    "start_time": "2023-06-20T08:47:34.064Z"
   },
   {
    "duration": 309,
    "start_time": "2023-06-20T08:47:34.353Z"
   },
   {
    "duration": 42,
    "start_time": "2023-06-20T08:47:34.665Z"
   },
   {
    "duration": 122,
    "start_time": "2023-06-20T08:47:34.710Z"
   },
   {
    "duration": 52,
    "start_time": "2023-06-20T08:47:34.834Z"
   },
   {
    "duration": 74,
    "start_time": "2023-06-20T08:47:34.887Z"
   },
   {
    "duration": 116,
    "start_time": "2023-06-20T08:47:34.962Z"
   },
   {
    "duration": 196,
    "start_time": "2023-06-20T08:47:35.083Z"
   },
   {
    "duration": 34,
    "start_time": "2023-06-20T08:47:35.282Z"
   },
   {
    "duration": 28,
    "start_time": "2023-06-20T08:47:35.318Z"
   },
   {
    "duration": 116,
    "start_time": "2023-06-20T08:47:35.348Z"
   },
   {
    "duration": 7,
    "start_time": "2023-06-20T08:47:35.466Z"
   },
   {
    "duration": 45,
    "start_time": "2023-06-20T08:47:35.475Z"
   },
   {
    "duration": 14,
    "start_time": "2023-06-20T08:47:35.526Z"
   },
   {
    "duration": 120,
    "start_time": "2023-06-20T08:47:35.541Z"
   },
   {
    "duration": 114,
    "start_time": "2023-06-20T08:47:35.662Z"
   },
   {
    "duration": 22,
    "start_time": "2023-06-20T08:47:35.783Z"
   },
   {
    "duration": 129,
    "start_time": "2023-06-20T08:47:35.807Z"
   },
   {
    "duration": 6,
    "start_time": "2023-06-20T08:47:35.938Z"
   },
   {
    "duration": 17,
    "start_time": "2023-06-20T08:47:35.947Z"
   },
   {
    "duration": 1286,
    "start_time": "2023-06-20T08:47:35.967Z"
   },
   {
    "duration": 3,
    "start_time": "2023-06-20T08:47:37.255Z"
   },
   {
    "duration": 17,
    "start_time": "2023-06-20T08:47:37.260Z"
   },
   {
    "duration": 3,
    "start_time": "2023-06-20T08:47:37.280Z"
   },
   {
    "duration": 1477,
    "start_time": "2023-06-20T09:41:05.319Z"
   },
   {
    "duration": 3,
    "start_time": "2023-06-20T09:41:08.913Z"
   },
   {
    "duration": 3604,
    "start_time": "2023-06-20T09:41:09.240Z"
   },
   {
    "duration": 4,
    "start_time": "2023-06-20T09:41:12.846Z"
   },
   {
    "duration": 1266,
    "start_time": "2023-06-20T09:41:12.851Z"
   },
   {
    "duration": 17,
    "start_time": "2023-06-20T09:41:14.119Z"
   },
   {
    "duration": 683,
    "start_time": "2023-06-20T09:41:14.139Z"
   },
   {
    "duration": 16,
    "start_time": "2023-06-20T09:41:14.825Z"
   },
   {
    "duration": 694,
    "start_time": "2023-06-20T09:41:14.843Z"
   },
   {
    "duration": 10,
    "start_time": "2023-06-20T09:41:15.538Z"
   },
   {
    "duration": 279,
    "start_time": "2023-06-20T09:41:15.550Z"
   },
   {
    "duration": 216,
    "start_time": "2023-06-20T09:41:15.832Z"
   },
   {
    "duration": 245,
    "start_time": "2023-06-20T09:41:16.049Z"
   },
   {
    "duration": 631,
    "start_time": "2023-06-20T09:41:16.295Z"
   },
   {
    "duration": 526,
    "start_time": "2023-06-20T09:41:16.928Z"
   },
   {
    "duration": 3596,
    "start_time": "2023-06-20T09:41:17.456Z"
   },
   {
    "duration": 205,
    "start_time": "2023-06-20T09:41:21.054Z"
   },
   {
    "duration": 160,
    "start_time": "2023-06-20T09:41:21.261Z"
   },
   {
    "duration": 223,
    "start_time": "2023-06-20T09:41:21.423Z"
   },
   {
    "duration": 1199,
    "start_time": "2023-06-20T09:41:21.648Z"
   },
   {
    "duration": 9,
    "start_time": "2023-06-20T09:41:22.849Z"
   },
   {
    "duration": 37,
    "start_time": "2023-06-20T09:41:22.871Z"
   },
   {
    "duration": 351,
    "start_time": "2023-06-20T09:41:22.911Z"
   },
   {
    "duration": 1041,
    "start_time": "2023-06-20T09:41:23.264Z"
   },
   {
    "duration": 6,
    "start_time": "2023-06-20T09:41:24.311Z"
   },
   {
    "duration": 6,
    "start_time": "2023-06-20T09:41:24.321Z"
   },
   {
    "duration": 50,
    "start_time": "2023-06-20T09:41:24.329Z"
   },
   {
    "duration": 8,
    "start_time": "2023-06-20T09:41:24.386Z"
   },
   {
    "duration": 7,
    "start_time": "2023-06-20T09:41:24.395Z"
   },
   {
    "duration": 92,
    "start_time": "2023-06-20T09:41:24.407Z"
   },
   {
    "duration": 4,
    "start_time": "2023-06-20T09:41:24.501Z"
   },
   {
    "duration": 4621,
    "start_time": "2023-06-20T09:41:24.507Z"
   },
   {
    "duration": 2285,
    "start_time": "2023-06-20T09:41:29.130Z"
   },
   {
    "duration": 58,
    "start_time": "2023-06-20T09:41:31.421Z"
   },
   {
    "duration": 262,
    "start_time": "2023-06-20T09:41:31.483Z"
   },
   {
    "duration": 220,
    "start_time": "2023-06-20T09:41:31.747Z"
   },
   {
    "duration": 39,
    "start_time": "2023-06-20T09:41:31.979Z"
   },
   {
    "duration": 114,
    "start_time": "2023-06-20T09:41:32.020Z"
   },
   {
    "duration": 70,
    "start_time": "2023-06-20T09:41:32.136Z"
   },
   {
    "duration": 54,
    "start_time": "2023-06-20T09:41:32.208Z"
   },
   {
    "duration": 87,
    "start_time": "2023-06-20T09:41:32.264Z"
   },
   {
    "duration": 184,
    "start_time": "2023-06-20T09:41:32.352Z"
   },
   {
    "duration": 34,
    "start_time": "2023-06-20T09:41:32.538Z"
   },
   {
    "duration": 38,
    "start_time": "2023-06-20T09:41:32.575Z"
   },
   {
    "duration": 90,
    "start_time": "2023-06-20T09:41:32.621Z"
   },
   {
    "duration": 8,
    "start_time": "2023-06-20T09:41:32.714Z"
   },
   {
    "duration": 46,
    "start_time": "2023-06-20T09:41:32.724Z"
   },
   {
    "duration": 25,
    "start_time": "2023-06-20T09:41:32.779Z"
   },
   {
    "duration": 93,
    "start_time": "2023-06-20T09:41:32.808Z"
   },
   {
    "duration": 72,
    "start_time": "2023-06-20T09:41:32.903Z"
   },
   {
    "duration": 33,
    "start_time": "2023-06-20T09:41:32.977Z"
   },
   {
    "duration": 83,
    "start_time": "2023-06-20T09:41:33.013Z"
   },
   {
    "duration": 5,
    "start_time": "2023-06-20T09:41:33.098Z"
   },
   {
    "duration": 15,
    "start_time": "2023-06-20T09:41:33.105Z"
   },
   {
    "duration": 1160,
    "start_time": "2023-06-20T09:41:33.123Z"
   },
   {
    "duration": 3,
    "start_time": "2023-06-20T09:41:34.285Z"
   },
   {
    "duration": 12,
    "start_time": "2023-06-20T09:41:34.289Z"
   },
   {
    "duration": 14,
    "start_time": "2023-06-20T09:41:34.303Z"
   },
   {
    "duration": 1654,
    "start_time": "2023-06-20T10:32:29.108Z"
   },
   {
    "duration": 4,
    "start_time": "2023-06-20T10:32:31.820Z"
   },
   {
    "duration": 964,
    "start_time": "2023-06-20T10:32:31.863Z"
   },
   {
    "duration": 5,
    "start_time": "2023-06-20T10:32:32.830Z"
   },
   {
    "duration": 1394,
    "start_time": "2023-06-20T10:32:32.836Z"
   },
   {
    "duration": 18,
    "start_time": "2023-06-20T10:32:34.233Z"
   },
   {
    "duration": 576,
    "start_time": "2023-06-20T10:32:34.253Z"
   },
   {
    "duration": 12,
    "start_time": "2023-06-20T10:32:34.831Z"
   },
   {
    "duration": 606,
    "start_time": "2023-06-20T10:32:34.845Z"
   },
   {
    "duration": 5,
    "start_time": "2023-06-20T10:32:35.453Z"
   },
   {
    "duration": 271,
    "start_time": "2023-06-20T10:32:35.459Z"
   },
   {
    "duration": 206,
    "start_time": "2023-06-20T10:32:35.732Z"
   },
   {
    "duration": 236,
    "start_time": "2023-06-20T10:32:35.940Z"
   },
   {
    "duration": 656,
    "start_time": "2023-06-20T10:32:36.185Z"
   },
   {
    "duration": 572,
    "start_time": "2023-06-20T10:32:36.843Z"
   },
   {
    "duration": 3603,
    "start_time": "2023-06-20T10:32:37.419Z"
   },
   {
    "duration": 210,
    "start_time": "2023-06-20T10:32:41.023Z"
   },
   {
    "duration": 141,
    "start_time": "2023-06-20T10:32:41.235Z"
   },
   {
    "duration": 218,
    "start_time": "2023-06-20T10:32:41.384Z"
   },
   {
    "duration": 1079,
    "start_time": "2023-06-20T10:32:41.603Z"
   },
   {
    "duration": 9,
    "start_time": "2023-06-20T10:32:42.684Z"
   },
   {
    "duration": 26,
    "start_time": "2023-06-20T10:32:42.697Z"
   },
   {
    "duration": 361,
    "start_time": "2023-06-20T10:32:42.725Z"
   },
   {
    "duration": 942,
    "start_time": "2023-06-20T10:32:43.093Z"
   },
   {
    "duration": 6,
    "start_time": "2023-06-20T10:32:44.037Z"
   },
   {
    "duration": 5,
    "start_time": "2023-06-20T10:32:44.045Z"
   },
   {
    "duration": 49,
    "start_time": "2023-06-20T10:32:44.074Z"
   },
   {
    "duration": 7,
    "start_time": "2023-06-20T10:32:44.125Z"
   },
   {
    "duration": 4,
    "start_time": "2023-06-20T10:32:44.134Z"
   },
   {
    "duration": 109,
    "start_time": "2023-06-20T10:32:44.143Z"
   },
   {
    "duration": 4,
    "start_time": "2023-06-20T10:32:44.254Z"
   },
   {
    "duration": 4592,
    "start_time": "2023-06-20T10:32:44.260Z"
   },
   {
    "duration": 2080,
    "start_time": "2023-06-20T10:32:48.854Z"
   },
   {
    "duration": 68,
    "start_time": "2023-06-20T10:32:50.936Z"
   },
   {
    "duration": 202,
    "start_time": "2023-06-20T10:32:51.007Z"
   },
   {
    "duration": 205,
    "start_time": "2023-06-20T10:32:51.211Z"
   },
   {
    "duration": 30,
    "start_time": "2023-06-20T10:32:51.418Z"
   },
   {
    "duration": 108,
    "start_time": "2023-06-20T10:32:51.450Z"
   },
   {
    "duration": 51,
    "start_time": "2023-06-20T10:32:51.559Z"
   },
   {
    "duration": 65,
    "start_time": "2023-06-20T10:32:51.612Z"
   },
   {
    "duration": 80,
    "start_time": "2023-06-20T10:32:51.679Z"
   },
   {
    "duration": 171,
    "start_time": "2023-06-20T10:32:51.761Z"
   },
   {
    "duration": 16,
    "start_time": "2023-06-20T10:32:51.934Z"
   },
   {
    "duration": 54,
    "start_time": "2023-06-20T10:32:51.952Z"
   },
   {
    "duration": 110,
    "start_time": "2023-06-20T10:32:52.008Z"
   },
   {
    "duration": 3,
    "start_time": "2023-06-20T10:32:52.120Z"
   },
   {
    "duration": 34,
    "start_time": "2023-06-20T10:32:52.124Z"
   },
   {
    "duration": 16,
    "start_time": "2023-06-20T10:32:52.169Z"
   },
   {
    "duration": 103,
    "start_time": "2023-06-20T10:32:52.190Z"
   },
   {
    "duration": 81,
    "start_time": "2023-06-20T10:32:52.304Z"
   },
   {
    "duration": 21,
    "start_time": "2023-06-20T10:32:52.394Z"
   },
   {
    "duration": 72,
    "start_time": "2023-06-20T10:32:52.416Z"
   },
   {
    "duration": 10,
    "start_time": "2023-06-20T10:32:52.497Z"
   },
   {
    "duration": 3,
    "start_time": "2023-06-20T10:32:52.509Z"
   },
   {
    "duration": 994,
    "start_time": "2023-06-20T10:32:52.513Z"
   },
   {
    "duration": 3,
    "start_time": "2023-06-20T10:32:53.508Z"
   },
   {
    "duration": 5,
    "start_time": "2023-06-20T10:32:53.512Z"
   },
   {
    "duration": 11,
    "start_time": "2023-06-20T10:32:53.519Z"
   },
   {
    "duration": 1541,
    "start_time": "2023-06-20T10:40:58.602Z"
   },
   {
    "duration": 3,
    "start_time": "2023-06-20T10:41:00.145Z"
   },
   {
    "duration": 966,
    "start_time": "2023-06-20T10:41:00.150Z"
   },
   {
    "duration": 4,
    "start_time": "2023-06-20T10:41:01.121Z"
   },
   {
    "duration": 1344,
    "start_time": "2023-06-20T10:41:01.129Z"
   },
   {
    "duration": 30,
    "start_time": "2023-06-20T10:41:02.481Z"
   },
   {
    "duration": 601,
    "start_time": "2023-06-20T10:41:02.513Z"
   },
   {
    "duration": 22,
    "start_time": "2023-06-20T10:41:03.120Z"
   },
   {
    "duration": 569,
    "start_time": "2023-06-20T10:41:03.144Z"
   },
   {
    "duration": 4,
    "start_time": "2023-06-20T10:41:03.715Z"
   },
   {
    "duration": 240,
    "start_time": "2023-06-20T10:41:03.721Z"
   },
   {
    "duration": 262,
    "start_time": "2023-06-20T10:41:03.963Z"
   },
   {
    "duration": 272,
    "start_time": "2023-06-20T10:41:04.226Z"
   },
   {
    "duration": 698,
    "start_time": "2023-06-20T10:41:04.511Z"
   },
   {
    "duration": 415,
    "start_time": "2023-06-20T10:41:05.211Z"
   },
   {
    "duration": 3462,
    "start_time": "2023-06-20T10:41:05.628Z"
   },
   {
    "duration": 205,
    "start_time": "2023-06-20T10:41:09.094Z"
   },
   {
    "duration": 145,
    "start_time": "2023-06-20T10:41:09.301Z"
   },
   {
    "duration": 204,
    "start_time": "2023-06-20T10:41:09.448Z"
   },
   {
    "duration": 1148,
    "start_time": "2023-06-20T10:41:09.654Z"
   },
   {
    "duration": 11,
    "start_time": "2023-06-20T10:41:10.806Z"
   },
   {
    "duration": 26,
    "start_time": "2023-06-20T10:41:10.818Z"
   },
   {
    "duration": 375,
    "start_time": "2023-06-20T10:41:10.846Z"
   },
   {
    "duration": 944,
    "start_time": "2023-06-20T10:41:11.223Z"
   },
   {
    "duration": 6,
    "start_time": "2023-06-20T10:41:12.171Z"
   },
   {
    "duration": 7,
    "start_time": "2023-06-20T10:41:12.186Z"
   },
   {
    "duration": 48,
    "start_time": "2023-06-20T10:41:12.194Z"
   },
   {
    "duration": 7,
    "start_time": "2023-06-20T10:41:12.244Z"
   },
   {
    "duration": 4,
    "start_time": "2023-06-20T10:41:12.253Z"
   },
   {
    "duration": 135,
    "start_time": "2023-06-20T10:41:12.272Z"
   },
   {
    "duration": 10,
    "start_time": "2023-06-20T10:41:12.411Z"
   },
   {
    "duration": 4607,
    "start_time": "2023-06-20T10:41:12.422Z"
   },
   {
    "duration": 2232,
    "start_time": "2023-06-20T10:41:17.030Z"
   },
   {
    "duration": 72,
    "start_time": "2023-06-20T10:41:19.263Z"
   },
   {
    "duration": 192,
    "start_time": "2023-06-20T10:41:19.337Z"
   },
   {
    "duration": 205,
    "start_time": "2023-06-20T10:41:19.531Z"
   },
   {
    "duration": 34,
    "start_time": "2023-06-20T10:41:19.737Z"
   },
   {
    "duration": 93,
    "start_time": "2023-06-20T10:41:19.790Z"
   },
   {
    "duration": 47,
    "start_time": "2023-06-20T10:41:19.884Z"
   },
   {
    "duration": 62,
    "start_time": "2023-06-20T10:41:19.932Z"
   },
   {
    "duration": 90,
    "start_time": "2023-06-20T10:41:20.000Z"
   },
   {
    "duration": 149,
    "start_time": "2023-06-20T10:41:20.092Z"
   },
   {
    "duration": 35,
    "start_time": "2023-06-20T10:41:20.242Z"
   },
   {
    "duration": 33,
    "start_time": "2023-06-20T10:41:20.279Z"
   },
   {
    "duration": 78,
    "start_time": "2023-06-20T10:41:20.314Z"
   },
   {
    "duration": 7,
    "start_time": "2023-06-20T10:41:20.397Z"
   },
   {
    "duration": 34,
    "start_time": "2023-06-20T10:41:20.405Z"
   },
   {
    "duration": 14,
    "start_time": "2023-06-20T10:41:20.440Z"
   },
   {
    "duration": 98,
    "start_time": "2023-06-20T10:41:20.455Z"
   },
   {
    "duration": 88,
    "start_time": "2023-06-20T10:41:20.554Z"
   },
   {
    "duration": 32,
    "start_time": "2023-06-20T10:41:20.644Z"
   },
   {
    "duration": 75,
    "start_time": "2023-06-20T10:41:20.685Z"
   },
   {
    "duration": 4,
    "start_time": "2023-06-20T10:41:20.762Z"
   },
   {
    "duration": 13,
    "start_time": "2023-06-20T10:41:20.768Z"
   },
   {
    "duration": 1047,
    "start_time": "2023-06-20T10:41:20.783Z"
   },
   {
    "duration": 8,
    "start_time": "2023-06-20T10:41:21.832Z"
   },
   {
    "duration": 18,
    "start_time": "2023-06-20T10:41:21.842Z"
   },
   {
    "duration": 5,
    "start_time": "2023-06-20T10:41:21.862Z"
   }
  ],
  "kernelspec": {
   "display_name": "Python 3 (ipykernel)",
   "language": "python",
   "name": "python3"
  },
  "language_info": {
   "codemirror_mode": {
    "name": "ipython",
    "version": 3
   },
   "file_extension": ".py",
   "mimetype": "text/x-python",
   "name": "python",
   "nbconvert_exporter": "python",
   "pygments_lexer": "ipython3",
   "version": "3.9.13"
  },
  "toc": {
   "base_numbering": 1,
   "nav_menu": {},
   "number_sections": true,
   "sideBar": true,
   "skip_h1_title": true,
   "title_cell": "Table of Contents",
   "title_sidebar": "Contents",
   "toc_cell": false,
   "toc_position": {},
   "toc_section_display": true,
   "toc_window_display": false
  }
 },
 "nbformat": 4,
 "nbformat_minor": 2
}
