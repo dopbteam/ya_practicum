{
 "cells": [
  {
   "cell_type": "markdown",
   "id": "d35da94f",
   "metadata": {},
   "source": [
    "# Импорт библиотек"
   ]
  },
  {
   "cell_type": "code",
   "execution_count": 1,
   "id": "806c2904",
   "metadata": {},
   "outputs": [
    {
     "name": "stdout",
     "output_type": "stream",
     "text": [
      "Requirement already satisfied: pysrt in d:\\soft\\anaconda\\lib\\site-packages (1.1.2)\n",
      "Requirement already satisfied: chardet in d:\\soft\\anaconda\\lib\\site-packages (from pysrt) (4.0.0)\n",
      "Requirement already satisfied: spacy in d:\\soft\\anaconda\\lib\\site-packages (3.5.4)\n",
      "Requirement already satisfied: cymem<2.1.0,>=2.0.2 in d:\\soft\\anaconda\\lib\\site-packages (from spacy) (2.0.7)\n",
      "Requirement already satisfied: requests<3.0.0,>=2.13.0 in d:\\soft\\anaconda\\lib\\site-packages (from spacy) (2.28.1)\n",
      "Requirement already satisfied: srsly<3.0.0,>=2.4.3 in d:\\soft\\anaconda\\lib\\site-packages (from spacy) (2.4.6)\n",
      "Requirement already satisfied: jinja2 in d:\\soft\\anaconda\\lib\\site-packages (from spacy) (2.11.3)\n",
      "Requirement already satisfied: packaging>=20.0 in d:\\soft\\anaconda\\lib\\site-packages (from spacy) (21.3)\n",
      "Requirement already satisfied: murmurhash<1.1.0,>=0.28.0 in d:\\soft\\anaconda\\lib\\site-packages (from spacy) (1.0.9)\n",
      "Requirement already satisfied: pydantic!=1.8,!=1.8.1,<1.11.0,>=1.7.4 in d:\\soft\\anaconda\\lib\\site-packages (from spacy) (1.10.10)\n",
      "Requirement already satisfied: wasabi<1.2.0,>=0.9.1 in d:\\soft\\anaconda\\lib\\site-packages (from spacy) (1.1.2)\n",
      "Requirement already satisfied: tqdm<5.0.0,>=4.38.0 in d:\\soft\\anaconda\\lib\\site-packages (from spacy) (4.64.1)\n",
      "Requirement already satisfied: smart-open<7.0.0,>=5.2.1 in d:\\soft\\anaconda\\lib\\site-packages (from spacy) (5.2.1)\n",
      "Requirement already satisfied: numpy>=1.15.0 in d:\\soft\\anaconda\\lib\\site-packages (from spacy) (1.21.5)\n",
      "Requirement already satisfied: pathy>=0.10.0 in d:\\soft\\anaconda\\lib\\site-packages (from spacy) (0.10.2)\n",
      "Requirement already satisfied: setuptools in d:\\soft\\anaconda\\lib\\site-packages (from spacy) (63.4.1)\n",
      "Requirement already satisfied: typer<0.10.0,>=0.3.0 in d:\\soft\\anaconda\\lib\\site-packages (from spacy) (0.9.0)\n",
      "Requirement already satisfied: spacy-legacy<3.1.0,>=3.0.11 in d:\\soft\\anaconda\\lib\\site-packages (from spacy) (3.0.12)\n",
      "Requirement already satisfied: langcodes<4.0.0,>=3.2.0 in d:\\soft\\anaconda\\lib\\site-packages (from spacy) (3.3.0)\n",
      "Requirement already satisfied: preshed<3.1.0,>=3.0.2 in d:\\soft\\anaconda\\lib\\site-packages (from spacy) (3.0.8)\n",
      "Requirement already satisfied: spacy-loggers<2.0.0,>=1.0.0 in d:\\soft\\anaconda\\lib\\site-packages (from spacy) (1.0.4)\n",
      "Requirement already satisfied: thinc<8.2.0,>=8.1.8 in d:\\soft\\anaconda\\lib\\site-packages (from spacy) (8.1.10)\n",
      "Requirement already satisfied: catalogue<2.1.0,>=2.0.6 in d:\\soft\\anaconda\\lib\\site-packages (from spacy) (2.0.8)\n",
      "Requirement already satisfied: pyparsing!=3.0.5,>=2.0.2 in d:\\soft\\anaconda\\lib\\site-packages (from packaging>=20.0->spacy) (3.0.9)\n",
      "Requirement already satisfied: typing-extensions>=4.2.0 in d:\\soft\\anaconda\\lib\\site-packages (from pydantic!=1.8,!=1.8.1,<1.11.0,>=1.7.4->spacy) (4.3.0)\n",
      "Requirement already satisfied: charset-normalizer<3,>=2 in d:\\soft\\anaconda\\lib\\site-packages (from requests<3.0.0,>=2.13.0->spacy) (2.0.4)\n",
      "Requirement already satisfied: idna<4,>=2.5 in d:\\soft\\anaconda\\lib\\site-packages (from requests<3.0.0,>=2.13.0->spacy) (3.3)\n",
      "Requirement already satisfied: certifi>=2017.4.17 in d:\\soft\\anaconda\\lib\\site-packages (from requests<3.0.0,>=2.13.0->spacy) (2022.9.14)\n",
      "Requirement already satisfied: urllib3<1.27,>=1.21.1 in d:\\soft\\anaconda\\lib\\site-packages (from requests<3.0.0,>=2.13.0->spacy) (1.26.11)\n",
      "Requirement already satisfied: blis<0.8.0,>=0.7.8 in d:\\soft\\anaconda\\lib\\site-packages (from thinc<8.2.0,>=8.1.8->spacy) (0.7.9)\n",
      "Requirement already satisfied: confection<1.0.0,>=0.0.1 in d:\\soft\\anaconda\\lib\\site-packages (from thinc<8.2.0,>=8.1.8->spacy) (0.1.0)\n",
      "Requirement already satisfied: colorama in d:\\soft\\anaconda\\lib\\site-packages (from tqdm<5.0.0,>=4.38.0->spacy) (0.4.6)\n",
      "Requirement already satisfied: click<9.0.0,>=7.1.1 in d:\\soft\\anaconda\\lib\\site-packages (from typer<0.10.0,>=0.3.0->spacy) (8.0.4)\n",
      "Requirement already satisfied: MarkupSafe>=0.23 in d:\\soft\\anaconda\\lib\\site-packages (from jinja2->spacy) (2.0.1)\n"
     ]
    }
   ],
   "source": [
    "# установим недостающие пакеты\n",
    "!pip install pysrt\n",
    "!pip install spacy\n",
    "\n",
    "import os\n",
    "import numpy as np\n",
    "import pandas as pd\n",
    "import pysrt\n",
    "import spacy\n",
    "import re\n",
    "from joblib import dump, load\n",
    "import matplotlib.pyplot as plt\n",
    "\n",
    "# импортируем библиотеки sklearn\n",
    "from sklearn.datasets import load_files  \n",
    "from sklearn.model_selection import train_test_split\n",
    "from sklearn.feature_extraction.text import CountVectorizer\n",
    "from sklearn.pipeline import Pipeline\n",
    "from sklearn.naive_bayes import MultinomialNB\n",
    "from sklearn.model_selection import GridSearchCV\n",
    "from sklearn.metrics import classification_report, f1_score, confusion_matrix, ConfusionMatrixDisplay\n",
    "from sklearn.compose import ColumnTransformer"
   ]
  },
  {
   "cell_type": "code",
   "execution_count": 2,
   "id": "316dbd95",
   "metadata": {},
   "outputs": [],
   "source": [
    "RANDOM_SEED = 666"
   ]
  },
  {
   "cell_type": "markdown",
   "id": "9c15036e",
   "metadata": {},
   "source": [
    "# Загрузка данных"
   ]
  },
  {
   "cell_type": "code",
   "execution_count": 3,
   "id": "08e2881c",
   "metadata": {},
   "outputs": [],
   "source": [
    "df = pd.read_excel('data/movies_labels.xlsx', index_col='id')"
   ]
  },
  {
   "cell_type": "code",
   "execution_count": 4,
   "id": "ede90ce9",
   "metadata": {},
   "outputs": [
    {
     "data": {
      "text/plain": [
       "array(['B1', 'B2', 'A2/A2+', 'C1', 'B1, B2', 'A2/A2+, B1', 'A2'],\n",
       "      dtype=object)"
      ]
     },
     "execution_count": 4,
     "metadata": {},
     "output_type": "execute_result"
    }
   ],
   "source": [
    "df['Level'].unique()"
   ]
  },
  {
   "cell_type": "markdown",
   "id": "1aca8d13",
   "metadata": {},
   "source": [
    "# Словарь для замены меток классов"
   ]
  },
  {
   "cell_type": "code",
   "execution_count": 5,
   "id": "50bcc8e4",
   "metadata": {},
   "outputs": [],
   "source": [
    "label_dict = {'A2': 1,\n",
    "              'A2/A2+': 1,\n",
    "              'B1': 2,\n",
    "              'A2/A2+, B1': 2,\n",
    "              'B2': 3,\n",
    "              'B1, B2': 3,\n",
    "              'C1': 4}"
   ]
  },
  {
   "cell_type": "code",
   "execution_count": 6,
   "id": "25ba9383",
   "metadata": {},
   "outputs": [],
   "source": [
    "df = df.replace(label_dict)"
   ]
  },
  {
   "cell_type": "markdown",
   "id": "6619d5c7",
   "metadata": {},
   "source": [
    "# Удалим дубликаты"
   ]
  },
  {
   "cell_type": "code",
   "execution_count": 7,
   "id": "6b05667b",
   "metadata": {},
   "outputs": [],
   "source": [
    "df = df.drop_duplicates()"
   ]
  },
  {
   "cell_type": "markdown",
   "id": "49d0ae4e",
   "metadata": {},
   "source": [
    "# Работаем с субтитрами"
   ]
  },
  {
   "cell_type": "code",
   "execution_count": 8,
   "id": "9d6eafc4",
   "metadata": {},
   "outputs": [],
   "source": [
    "films_name = os.listdir(path='./data/Subtitles')"
   ]
  },
  {
   "cell_type": "code",
   "execution_count": 9,
   "id": "9238616f",
   "metadata": {},
   "outputs": [],
   "source": [
    "films_filtr = set(films_name) & set(df['Movie'] + '.srt')"
   ]
  },
  {
   "cell_type": "markdown",
   "id": "4d773f02",
   "metadata": {},
   "source": [
    "# Загрузка словаря oxford"
   ]
  },
  {
   "cell_type": "code",
   "execution_count": 10,
   "id": "06d85e70",
   "metadata": {},
   "outputs": [],
   "source": [
    "oxford = load_files('data/Oxford/Classic Oxford/', shuffle=False, encoding='utf-8-sig')"
   ]
  },
  {
   "cell_type": "markdown",
   "id": "397af7f0",
   "metadata": {},
   "source": [
    "# Создание функций для работы с субтитрами"
   ]
  },
  {
   "cell_type": "code",
   "execution_count": 11,
   "id": "5cd85f73",
   "metadata": {},
   "outputs": [],
   "source": [
    "HTML = r'<.*?>'\n",
    "TAG = r'{.*?}'\n",
    "COMMENTS = r'[\\(\\[][A-Za-z ]+[\\)\\]]'\n",
    "LETTERS = r'[^a-zA-Z\\.,!? ]'\n",
    "SPACES = r'([ ])\\1+'\n",
    "DOTS = r'[\\.]+'"
   ]
  },
  {
   "cell_type": "markdown",
   "id": "e6588ca6",
   "metadata": {},
   "source": [
    "Функция для очистки субтитров"
   ]
  },
  {
   "cell_type": "code",
   "execution_count": 12,
   "id": "90e45579",
   "metadata": {},
   "outputs": [],
   "source": [
    "def clean_subs(subs):\n",
    "    subs = subs[1:] # Удаление первого рекламного субтитра\n",
    "    txt = re.sub(HTML, ' ', subs.text) # Замена HTML-тегов на пробел\n",
    "    txt = re.sub(COMMENTS, ' ', txt) # Замена комментариев в скобках на пробел\n",
    "    txt = re.sub(LETTERS, ' ', txt) # Замена всех символов, кроме букв, на пробел\n",
    "    txt = re.sub(DOTS, r'.', txt) # Замена многоточия на точку\n",
    "    txt = re.sub(SPACES, r'\\1', txt) # Замена повторяющихся пробелов на один пробел\n",
    "    txt = re.sub('www', '', txt) # Замена оставшихся www на пустую строку\n",
    "    txt = txt.lstrip() # Обрезка пробелов слева\n",
    "    txt = txt.encode('ascii', 'ignore').decode() # Удаление всех символов, не являющихся ASCII-символами   \n",
    "    txt = txt.lower() # Приведение текста к нижнему регистру\n",
    "    return txt"
   ]
  },
  {
   "cell_type": "code",
   "execution_count": 13,
   "id": "da1c2785",
   "metadata": {},
   "outputs": [],
   "source": [
    "def lemma_count(lemmas, oxf, cat):\n",
    "    func_dict = {'A1': 0,\n",
    "                 'A2': 1,\n",
    "                 'B1': 2,\n",
    "                 'B2': 3,\n",
    "                 'C1': 4}\n",
    "    level = func_dict[cat]\n",
    "    oxf_word_list = oxf[level].split()\n",
    "    words = [lemma for lemma in lemmas if lemma in oxf_word_list]\n",
    "\n",
    "    return len(set(words))"
   ]
  },
  {
   "cell_type": "markdown",
   "id": "916b9093",
   "metadata": {},
   "source": [
    "Функция для подсчета пунктуации в тексте"
   ]
  },
  {
   "cell_type": "code",
   "execution_count": 14,
   "id": "f02ba3a6",
   "metadata": {},
   "outputs": [],
   "source": [
    "def count_punctuation(text):\n",
    "    if isinstance(text, float) or pd.isna(text):\n",
    "        return 0\n",
    "    punctuation = ['.', ',', '!', '?', ';', ':']\n",
    "    count = 0\n",
    "    for char in text:\n",
    "        if char in punctuation:\n",
    "            count += 1\n",
    "    return count"
   ]
  },
  {
   "cell_type": "markdown",
   "id": "9af1fe87",
   "metadata": {},
   "source": [
    "# Обработка субтитров"
   ]
  },
  {
   "cell_type": "code",
   "execution_count": 15,
   "id": "a1fed7d6",
   "metadata": {},
   "outputs": [],
   "source": [
    "for film in films_filtr:\n",
    "    try: \n",
    "        subs = pysrt.open(f'data/Subtitles/{film}')\n",
    "    except:\n",
    "        subs = pysrt.open(f'data/Subtitles/{film}', encoding='iso-8859-1')\n",
    "        \n",
    "    # Очистка текста субтитров\n",
    "    cln_subs = clean_subs(subs)\n",
    "    \n",
    "    # Запись очищенного текста субтитров в DataFrame\n",
    "    df.loc[df['Movie'] == film[:-4], 'subs'] = cln_subs\n",
    "    \n",
    "    # Лемматизация текста субтитров\n",
    "    nlp = spacy.load('en_core_web_sm')\n",
    "    doc = nlp(cln_subs)\n",
    "    lemma_list = [token.lemma_ for token in doc]\n",
    "    \n",
    "    # Запись количества уникальных лемм для каждого уровня в DataFrame\n",
    "    for lvl in ['A1', 'A2', 'B1', 'B2', 'C1']:\n",
    "        df.loc[df['Movie'] == film[:-4], lvl+'_lemma_cnt'] = lemma_count(lemma_list, oxford.data, lvl)"
   ]
  },
  {
   "cell_type": "markdown",
   "id": "f8a490bf",
   "metadata": {},
   "source": [
    "Признак с пунктуацией"
   ]
  },
  {
   "cell_type": "code",
   "execution_count": 16,
   "id": "40e39c82",
   "metadata": {},
   "outputs": [],
   "source": [
    "df['punctuation_cnt'] = df['subs'].apply(count_punctuation)"
   ]
  },
  {
   "cell_type": "markdown",
   "id": "63fbd9c2",
   "metadata": {},
   "source": [
    "Фильтрация"
   ]
  },
  {
   "cell_type": "code",
   "execution_count": 17,
   "id": "7bf45ca9",
   "metadata": {},
   "outputs": [],
   "source": [
    "df.dropna(inplace=True)"
   ]
  },
  {
   "cell_type": "markdown",
   "id": "7055366e",
   "metadata": {},
   "source": [
    "# Разделение на обучающую и тестовую выборки"
   ]
  },
  {
   "cell_type": "code",
   "execution_count": 18,
   "id": "ba512c15",
   "metadata": {},
   "outputs": [],
   "source": [
    "df_train, df_test = train_test_split(df, random_state=RANDOM_SEED, test_size=.2, stratify=df['Level'])"
   ]
  },
  {
   "cell_type": "code",
   "execution_count": 19,
   "id": "6c9954ca",
   "metadata": {},
   "outputs": [],
   "source": [
    "X_train = df_train.drop(['Level', 'Movie'], axis=1)"
   ]
  },
  {
   "cell_type": "code",
   "execution_count": 20,
   "id": "ccc1ff05",
   "metadata": {},
   "outputs": [],
   "source": [
    "y_train = df_train['Level']"
   ]
  },
  {
   "cell_type": "code",
   "execution_count": 21,
   "id": "571d40a1",
   "metadata": {},
   "outputs": [],
   "source": [
    "X_test = df_test.drop(['Level', 'Movie'], axis=1)"
   ]
  },
  {
   "cell_type": "code",
   "execution_count": 22,
   "id": "9dc43e9b",
   "metadata": {},
   "outputs": [],
   "source": [
    "y_test = df_test['Level']"
   ]
  },
  {
   "cell_type": "markdown",
   "id": "a3023965",
   "metadata": {},
   "source": [
    "# Векторизация текстовых данных"
   ]
  },
  {
   "cell_type": "code",
   "execution_count": 23,
   "id": "4a3e44aa",
   "metadata": {},
   "outputs": [],
   "source": [
    "vect = CountVectorizer(min_df=4).fit(X_train['subs'])"
   ]
  },
  {
   "cell_type": "code",
   "execution_count": 24,
   "id": "8cd13fb8",
   "metadata": {},
   "outputs": [],
   "source": [
    "X_train_vect = vect.transform(X_train['subs'])"
   ]
  },
  {
   "cell_type": "code",
   "execution_count": 25,
   "id": "1f4f6f65",
   "metadata": {},
   "outputs": [],
   "source": [
    "X_test_vect = vect.transform(X_test['subs'])"
   ]
  },
  {
   "cell_type": "code",
   "execution_count": 26,
   "id": "a11e119a",
   "metadata": {},
   "outputs": [],
   "source": [
    "feature_names = vect.get_feature_names_out()"
   ]
  },
  {
   "cell_type": "code",
   "execution_count": 27,
   "id": "d9522ebd",
   "metadata": {},
   "outputs": [
    {
     "name": "stdout",
     "output_type": "stream",
     "text": [
      "Количество признаков: 6155\n",
      "Первые 20 признаков:\n",
      "['aah' 'ab' 'abandon' 'abandoned' 'abilities' 'ability' 'able' 'aboard'\n",
      " 'about' 'above' 'abroad' 'absence' 'absolute' 'absolutely' 'absorbed'\n",
      " 'absurd' 'abuse' 'academic' 'academy' 'accent']\n",
      "Признаки с 2000 по 2060:\n",
      "['fetch' 'few' 'fi' 'fianc' 'fiction' 'field' 'fields' 'fifteen' 'fifth'\n",
      " 'fifty' 'fight' 'fighter' 'fighting' 'fights' 'figure' 'figured'\n",
      " 'figures' 'file' 'filed' 'files' 'filing' 'fill' 'filled' 'filling'\n",
      " 'film' 'films' 'filthy' 'final' 'finally' 'finals' 'financial' 'find'\n",
      " 'finding' 'finds' 'fine' 'finest' 'finger' 'fingers' 'finish' 'finished'\n",
      " 'finishing' 'fire' 'fired' 'fireplace' 'fires' 'fireworks' 'firing'\n",
      " 'firm' 'first' 'fish' 'fishing' 'fist' 'fit' 'fits' 'fitting' 'five'\n",
      " 'fix' 'fixed' 'fixing' 'flag']\n",
      "Каждый 100-й признак:\n",
      "['aah' 'aggressive' 'answers' 'association' 'banner' 'benefits' 'bong'\n",
      " 'brother' 'canada' 'change' 'claiming' 'committee' 'cooperate' 'cubs'\n",
      " 'deepest' 'differences' 'dorm' 'east' 'environment' 'eyed' 'fetch'\n",
      " 'follows' 'fuel' 'goat' 'guess' 'hears' 'honored' 'immediately' 'into'\n",
      " 'jules' 'lands' 'lift' 'lovers' 'mary' 'milady' 'mouths' 'nickel' 'one'\n",
      " 'palace' 'performance' 'player' 'presentation' 'publishing' 'rd' 'rented'\n",
      " 'ripped' 'safety' 'seattle' 'shaved' 'sistine' 'soft' 'sprung'\n",
      " 'strangers' 'surprises' 'technically' 'throat' 'towns' 'tv' 'vanished'\n",
      " 'warn' 'whore' 'wrapping']\n"
     ]
    }
   ],
   "source": [
    "print('Количество признаков: {}'.format(len(feature_names)))\n",
    "print('Первые 20 признаков:\\n{}'.format(feature_names[:20]))\n",
    "print('Признаки с 2000 по 2060:\\n{}'.format(feature_names[2000:2060]))\n",
    "print('Каждый 100-й признак:\\n{}'.format(feature_names[::100]))"
   ]
  },
  {
   "cell_type": "markdown",
   "id": "3bac1657",
   "metadata": {},
   "source": [
    "# Функция для отображения матрицы ошибок"
   ]
  },
  {
   "cell_type": "code",
   "execution_count": 28,
   "id": "78ad268c",
   "metadata": {},
   "outputs": [],
   "source": [
    "def plot_confusion_matrix(y_test, y_preds, classes, cmap='Blues'):\n",
    "    fig, ax = plt.subplots(figsize=(16, 10))\n",
    "    cm = confusion_matrix(y_test, y_preds)\n",
    "    cmp = ConfusionMatrixDisplay(cm, display_labels=classes)\n",
    "    cmp.plot(ax=ax, cmap=cmap)\n",
    "    ax.set_xlabel('Predicted Label')\n",
    "    ax.set_ylabel('True Label')\n",
    "    ax.set_title('Confusion Matrix')\n",
    "    plt.show()"
   ]
  },
  {
   "cell_type": "markdown",
   "id": "1f2d0253",
   "metadata": {},
   "source": [
    "# Построение модели с использованием мультиномиального наивного Байеса"
   ]
  },
  {
   "cell_type": "code",
   "execution_count": 29,
   "id": "d115a785",
   "metadata": {},
   "outputs": [],
   "source": [
    "model = MultinomialNB()"
   ]
  },
  {
   "cell_type": "code",
   "execution_count": 30,
   "id": "2ddeccd4",
   "metadata": {},
   "outputs": [
    {
     "data": {
      "text/plain": [
       "MultinomialNB()"
      ]
     },
     "execution_count": 30,
     "metadata": {},
     "output_type": "execute_result"
    }
   ],
   "source": [
    "model.fit(X_train_vect, y_train)"
   ]
  },
  {
   "cell_type": "code",
   "execution_count": 31,
   "id": "3b3147b3",
   "metadata": {},
   "outputs": [],
   "source": [
    "y_preds = model.predict(X_test_vect)"
   ]
  },
  {
   "cell_type": "markdown",
   "id": "a666a467",
   "metadata": {},
   "source": [
    "# Оценка качества модели"
   ]
  },
  {
   "cell_type": "code",
   "execution_count": 32,
   "id": "bdf92ea9",
   "metadata": {},
   "outputs": [],
   "source": [
    "f1 = f1_score(y_test, y_preds, average='weighted')"
   ]
  },
  {
   "cell_type": "code",
   "execution_count": 33,
   "id": "2b0c42e7",
   "metadata": {},
   "outputs": [
    {
     "name": "stdout",
     "output_type": "stream",
     "text": [
      "F1 Score: 0.37107438016528926\n",
      "              precision    recall  f1-score   support\n",
      "\n",
      "           1       1.00      0.20      0.33         5\n",
      "           2       0.43      0.75      0.55         8\n",
      "           3       0.29      0.25      0.27         8\n",
      "           4       0.00      0.00      0.00         1\n",
      "\n",
      "    accuracy                           0.41        22\n",
      "   macro avg       0.43      0.30      0.29        22\n",
      "weighted avg       0.49      0.41      0.37        22\n",
      "\n"
     ]
    },
    {
     "name": "stderr",
     "output_type": "stream",
     "text": [
      "D:\\Soft\\Anaconda\\lib\\site-packages\\sklearn\\metrics\\_classification.py:1318: UndefinedMetricWarning: Precision and F-score are ill-defined and being set to 0.0 in labels with no predicted samples. Use `zero_division` parameter to control this behavior.\n",
      "  _warn_prf(average, modifier, msg_start, len(result))\n",
      "D:\\Soft\\Anaconda\\lib\\site-packages\\sklearn\\metrics\\_classification.py:1318: UndefinedMetricWarning: Precision and F-score are ill-defined and being set to 0.0 in labels with no predicted samples. Use `zero_division` parameter to control this behavior.\n",
      "  _warn_prf(average, modifier, msg_start, len(result))\n",
      "D:\\Soft\\Anaconda\\lib\\site-packages\\sklearn\\metrics\\_classification.py:1318: UndefinedMetricWarning: Precision and F-score are ill-defined and being set to 0.0 in labels with no predicted samples. Use `zero_division` parameter to control this behavior.\n",
      "  _warn_prf(average, modifier, msg_start, len(result))\n"
     ]
    }
   ],
   "source": [
    "print('F1 Score:', f1)\n",
    "print(classification_report(y_test, y_preds))"
   ]
  },
  {
   "cell_type": "code",
   "execution_count": 34,
   "id": "aeb48add",
   "metadata": {},
   "outputs": [],
   "source": [
    "unique_classes = np.unique(np.concatenate((y_test, y_preds)))"
   ]
  },
  {
   "cell_type": "code",
   "execution_count": 35,
   "id": "dd2ffbc7",
   "metadata": {
    "scrolled": false
   },
   "outputs": [
    {
     "data": {
      "image/png": "[encoded data removed]",
      "text/plain": [
       "<Figure size 1600x1000 with 2 Axes>"
      ]
     },
     "metadata": {},
     "output_type": "display_data"
    }
   ],
   "source": [
    "plot_confusion_matrix(y_test, y_preds, unique_classes, cmap='Greens')"
   ]
  },
  {
   "cell_type": "markdown",
   "id": "96f0531a",
   "metadata": {},
   "source": [
    "# Обучение модели на полном наборе данных и сохранение модели и данных"
   ]
  },
  {
   "cell_type": "code",
   "execution_count": 36,
   "id": "d3bdaa53",
   "metadata": {},
   "outputs": [],
   "source": [
    "X_full = pd.concat([X_train, X_test])"
   ]
  },
  {
   "cell_type": "code",
   "execution_count": 37,
   "id": "e9e0bff6",
   "metadata": {},
   "outputs": [],
   "source": [
    "y_full = pd.concat([y_train, y_test])"
   ]
  },
  {
   "cell_type": "code",
   "execution_count": 38,
   "id": "2e780da8",
   "metadata": {},
   "outputs": [],
   "source": [
    "preprocessor = ColumnTransformer(\n",
    "    transformers=[\n",
    "        ('text', vect, 'subs'),\n",
    "        ('num', 'passthrough', ['A1_lemma_cnt', 'A2_lemma_cnt', 'B1_lemma_cnt', 'B2_lemma_cnt', 'C1_lemma_cnt', 'punctuation_cnt'])\n",
    "    ])"
   ]
  },
  {
   "cell_type": "code",
   "execution_count": 39,
   "id": "4ee059ed",
   "metadata": {},
   "outputs": [],
   "source": [
    "pipe = Pipeline([\n",
    "    ('preprocessor', preprocessor),\n",
    "    ('classifier', MultinomialNB())\n",
    "])"
   ]
  },
  {
   "cell_type": "code",
   "execution_count": 40,
   "id": "5b51ac54",
   "metadata": {},
   "outputs": [],
   "source": [
    "param_grid = {\n",
    "    'preprocessor__text__min_df': [2, 3, 4],\n",
    "    'classifier__alpha': [0.1, 0.5, 1.0]\n",
    "}"
   ]
  },
  {
   "cell_type": "code",
   "execution_count": 41,
   "id": "6f08da7a",
   "metadata": {},
   "outputs": [],
   "source": [
    "grid = GridSearchCV(pipe, param_grid, cv=5, scoring='f1_weighted')"
   ]
  },
  {
   "cell_type": "code",
   "execution_count": 42,
   "id": "cd91ae9f",
   "metadata": {},
   "outputs": [
    {
     "data": {
      "text/plain": [
       "GridSearchCV(cv=5,\n",
       "             estimator=Pipeline(steps=[('preprocessor',\n",
       "                                        ColumnTransformer(transformers=[('text',\n",
       "                                                                         CountVectorizer(min_df=4),\n",
       "                                                                         'subs'),\n",
       "                                                                        ('num',\n",
       "                                                                         'passthrough',\n",
       "                                                                         ['A1_lemma_cnt',\n",
       "                                                                          'A2_lemma_cnt',\n",
       "                                                                          'B1_lemma_cnt',\n",
       "                                                                          'B2_lemma_cnt',\n",
       "                                                                          'C1_lemma_cnt',\n",
       "                                                                          'punctuation_cnt'])])),\n",
       "                                       ('classifier', MultinomialNB())]),\n",
       "             param_grid={'classifier__alpha': [0.1, 0.5, 1.0],\n",
       "                         'preprocessor__text__min_df': [2, 3, 4]},\n",
       "             scoring='f1_weighted')"
      ]
     },
     "execution_count": 42,
     "metadata": {},
     "output_type": "execute_result"
    }
   ],
   "source": [
    "grid.fit(X_full, y_full)"
   ]
  },
  {
   "cell_type": "code",
   "execution_count": 43,
   "id": "5476aa3d",
   "metadata": {},
   "outputs": [
    {
     "name": "stdout",
     "output_type": "stream",
     "text": [
      "Best Parameters: {'classifier__alpha': 0.5, 'preprocessor__text__min_df': 4}\n",
      "Best Score: 0.4556825808473309\n"
     ]
    }
   ],
   "source": [
    "print('Best Parameters:', grid.best_params_)\n",
    "print('Best Score:', grid.best_score_)"
   ]
  },
  {
   "cell_type": "code",
   "execution_count": 44,
   "id": "3fb1dbc3",
   "metadata": {},
   "outputs": [
    {
     "data": {
      "text/plain": [
       "['./oxford/classic_oxford.joblib']"
      ]
     },
     "execution_count": 44,
     "metadata": {},
     "output_type": "execute_result"
    }
   ],
   "source": [
    "dump(grid, './models/model_bayesNB.joblib')\n",
    "dump(oxford.data, './oxford/classic_oxford.joblib')"
   ]
  }
 ],
 "metadata": {
  "kernelspec": {
   "display_name": "Python 3 (ipykernel)",
   "language": "python",
   "name": "python3"
  },
  "language_info": {
   "codemirror_mode": {
    "name": "ipython",
    "version": 3
   },
   "file_extension": ".py",
   "mimetype": "text/x-python",
   "name": "python",
   "nbconvert_exporter": "python",
   "pygments_lexer": "ipython3",
   "version": "3.9.13"
  }
 },
 "nbformat": 4,
 "nbformat_minor": 5
}
