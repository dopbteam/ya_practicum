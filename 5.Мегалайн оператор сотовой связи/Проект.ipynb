{
 "cells": [
  {
   "cell_type": "markdown",
   "metadata": {},
   "source": [
    "# Рекомендация тарифов"
   ]
  },
  {
   "cell_type": "markdown",
   "metadata": {},
   "source": [
    "В вашем распоряжении данные о поведении клиентов, которые уже перешли на эти тарифы (из проекта курса «Статистический анализ данных»). Нужно построить модель для задачи классификации, которая выберет подходящий тариф. Предобработка данных не понадобится — вы её уже сделали.\n",
    "\n",
    "Постройте модель с максимально большим значением *accuracy*. Чтобы сдать проект успешно, нужно довести долю правильных ответов по крайней мере до 0.75. Проверьте *accuracy* на тестовой выборке самостоятельно."
   ]
  },
  {
   "cell_type": "markdown",
   "metadata": {},
   "source": [
    "<div class=\"alert alert-info\">\n",
    "<b>Описание проекта</b>\n",
    "<br>\n",
    "Оператор мобильной связи «Мегалайн» выяснил: многие клиенты пользуются архивными тарифами. Они хотят построить систему, способную проанализировать поведение клиентов и предложить пользователям новый тариф: «Смарт» или «Ультра».\n",
    "</div>"
   ]
  },
  {
   "cell_type": "markdown",
   "metadata": {},
   "source": [
    "## Откройте и изучите файл"
   ]
  },
  {
   "cell_type": "markdown",
   "metadata": {},
   "source": [
    "<div class=\"alert alert-info\">\n",
    "Импортируем библиотеки\n",
    "</div>"
   ]
  },
  {
   "cell_type": "code",
   "execution_count": 1,
   "metadata": {},
   "outputs": [],
   "source": [
    "import pandas as pd\n",
    "from sklearn.model_selection import train_test_split\n",
    "from sklearn.tree import DecisionTreeClassifier\n",
    "from sklearn.metrics import accuracy_score\n",
    "from sklearn.ensemble import RandomForestClassifier\n",
    "from sklearn.linear_model import LogisticRegression\n",
    "from sklearn.dummy import DummyClassifier"
   ]
  },
  {
   "cell_type": "markdown",
   "metadata": {},
   "source": [
    "<div class=\"alert alert-info\">\n",
    "Откроем датасет и посмотрим на представленные данные\n",
    "</div>"
   ]
  },
  {
   "cell_type": "code",
   "execution_count": 2,
   "metadata": {},
   "outputs": [],
   "source": [
    "data = pd.read_csv('/datasets/users_behavior.csv')"
   ]
  },
  {
   "cell_type": "code",
   "execution_count": 3,
   "metadata": {
    "scrolled": false
   },
   "outputs": [
    {
     "data": {
      "text/html": [
       "<div>\n",
       "<style scoped>\n",
       "    .dataframe tbody tr th:only-of-type {\n",
       "        vertical-align: middle;\n",
       "    }\n",
       "\n",
       "    .dataframe tbody tr th {\n",
       "        vertical-align: top;\n",
       "    }\n",
       "\n",
       "    .dataframe thead th {\n",
       "        text-align: right;\n",
       "    }\n",
       "</style>\n",
       "<table border=\"1\" class=\"dataframe\">\n",
       "  <thead>\n",
       "    <tr style=\"text-align: right;\">\n",
       "      <th></th>\n",
       "      <th>calls</th>\n",
       "      <th>minutes</th>\n",
       "      <th>messages</th>\n",
       "      <th>mb_used</th>\n",
       "      <th>is_ultra</th>\n",
       "    </tr>\n",
       "  </thead>\n",
       "  <tbody>\n",
       "    <tr>\n",
       "      <th>0</th>\n",
       "      <td>40.0</td>\n",
       "      <td>311.90</td>\n",
       "      <td>83.0</td>\n",
       "      <td>19915.42</td>\n",
       "      <td>0</td>\n",
       "    </tr>\n",
       "    <tr>\n",
       "      <th>1</th>\n",
       "      <td>85.0</td>\n",
       "      <td>516.75</td>\n",
       "      <td>56.0</td>\n",
       "      <td>22696.96</td>\n",
       "      <td>0</td>\n",
       "    </tr>\n",
       "    <tr>\n",
       "      <th>2</th>\n",
       "      <td>77.0</td>\n",
       "      <td>467.66</td>\n",
       "      <td>86.0</td>\n",
       "      <td>21060.45</td>\n",
       "      <td>0</td>\n",
       "    </tr>\n",
       "    <tr>\n",
       "      <th>3</th>\n",
       "      <td>106.0</td>\n",
       "      <td>745.53</td>\n",
       "      <td>81.0</td>\n",
       "      <td>8437.39</td>\n",
       "      <td>1</td>\n",
       "    </tr>\n",
       "    <tr>\n",
       "      <th>4</th>\n",
       "      <td>66.0</td>\n",
       "      <td>418.74</td>\n",
       "      <td>1.0</td>\n",
       "      <td>14502.75</td>\n",
       "      <td>0</td>\n",
       "    </tr>\n",
       "    <tr>\n",
       "      <th>...</th>\n",
       "      <td>...</td>\n",
       "      <td>...</td>\n",
       "      <td>...</td>\n",
       "      <td>...</td>\n",
       "      <td>...</td>\n",
       "    </tr>\n",
       "    <tr>\n",
       "      <th>3209</th>\n",
       "      <td>122.0</td>\n",
       "      <td>910.98</td>\n",
       "      <td>20.0</td>\n",
       "      <td>35124.90</td>\n",
       "      <td>1</td>\n",
       "    </tr>\n",
       "    <tr>\n",
       "      <th>3210</th>\n",
       "      <td>25.0</td>\n",
       "      <td>190.36</td>\n",
       "      <td>0.0</td>\n",
       "      <td>3275.61</td>\n",
       "      <td>0</td>\n",
       "    </tr>\n",
       "    <tr>\n",
       "      <th>3211</th>\n",
       "      <td>97.0</td>\n",
       "      <td>634.44</td>\n",
       "      <td>70.0</td>\n",
       "      <td>13974.06</td>\n",
       "      <td>0</td>\n",
       "    </tr>\n",
       "    <tr>\n",
       "      <th>3212</th>\n",
       "      <td>64.0</td>\n",
       "      <td>462.32</td>\n",
       "      <td>90.0</td>\n",
       "      <td>31239.78</td>\n",
       "      <td>0</td>\n",
       "    </tr>\n",
       "    <tr>\n",
       "      <th>3213</th>\n",
       "      <td>80.0</td>\n",
       "      <td>566.09</td>\n",
       "      <td>6.0</td>\n",
       "      <td>29480.52</td>\n",
       "      <td>1</td>\n",
       "    </tr>\n",
       "  </tbody>\n",
       "</table>\n",
       "<p>3214 rows × 5 columns</p>\n",
       "</div>"
      ],
      "text/plain": [
       "      calls  minutes  messages   mb_used  is_ultra\n",
       "0      40.0   311.90      83.0  19915.42         0\n",
       "1      85.0   516.75      56.0  22696.96         0\n",
       "2      77.0   467.66      86.0  21060.45         0\n",
       "3     106.0   745.53      81.0   8437.39         1\n",
       "4      66.0   418.74       1.0  14502.75         0\n",
       "...     ...      ...       ...       ...       ...\n",
       "3209  122.0   910.98      20.0  35124.90         1\n",
       "3210   25.0   190.36       0.0   3275.61         0\n",
       "3211   97.0   634.44      70.0  13974.06         0\n",
       "3212   64.0   462.32      90.0  31239.78         0\n",
       "3213   80.0   566.09       6.0  29480.52         1\n",
       "\n",
       "[3214 rows x 5 columns]"
      ]
     },
     "metadata": {},
     "output_type": "display_data"
    }
   ],
   "source": [
    "display(data)"
   ]
  },
  {
   "cell_type": "code",
   "execution_count": 4,
   "metadata": {
    "scrolled": false
   },
   "outputs": [
    {
     "name": "stdout",
     "output_type": "stream",
     "text": [
      "<class 'pandas.core.frame.DataFrame'>\n",
      "RangeIndex: 3214 entries, 0 to 3213\n",
      "Data columns (total 5 columns):\n",
      " #   Column    Non-Null Count  Dtype  \n",
      "---  ------    --------------  -----  \n",
      " 0   calls     3214 non-null   float64\n",
      " 1   minutes   3214 non-null   float64\n",
      " 2   messages  3214 non-null   float64\n",
      " 3   mb_used   3214 non-null   float64\n",
      " 4   is_ultra  3214 non-null   int64  \n",
      "dtypes: float64(4), int64(1)\n",
      "memory usage: 125.7 KB\n"
     ]
    }
   ],
   "source": [
    "data.info()"
   ]
  },
  {
   "cell_type": "markdown",
   "metadata": {},
   "source": [
    "<div class=\"alert alert-info\">\n",
    "Во всех столбцах значения с плавающей запятой, а в столбце <b>is_ultra</b> целые числа, данный столбец указывает каким тарифом пользовался абонент в течение месяца («Ультра» — 1, «Смарт» — 0).\n",
    "<br>\n",
    "Внимательно посмотрим на значения в представленном датасете\n",
    "</div>"
   ]
  },
  {
   "cell_type": "code",
   "execution_count": 5,
   "metadata": {},
   "outputs": [
    {
     "data": {
      "text/html": [
       "<div>\n",
       "<style scoped>\n",
       "    .dataframe tbody tr th:only-of-type {\n",
       "        vertical-align: middle;\n",
       "    }\n",
       "\n",
       "    .dataframe tbody tr th {\n",
       "        vertical-align: top;\n",
       "    }\n",
       "\n",
       "    .dataframe thead th {\n",
       "        text-align: right;\n",
       "    }\n",
       "</style>\n",
       "<table border=\"1\" class=\"dataframe\">\n",
       "  <thead>\n",
       "    <tr style=\"text-align: right;\">\n",
       "      <th></th>\n",
       "      <th>calls</th>\n",
       "      <th>minutes</th>\n",
       "      <th>messages</th>\n",
       "      <th>mb_used</th>\n",
       "      <th>is_ultra</th>\n",
       "    </tr>\n",
       "  </thead>\n",
       "  <tbody>\n",
       "    <tr>\n",
       "      <th>count</th>\n",
       "      <td>3214.000000</td>\n",
       "      <td>3214.000000</td>\n",
       "      <td>3214.000000</td>\n",
       "      <td>3214.000000</td>\n",
       "      <td>3214.000000</td>\n",
       "    </tr>\n",
       "    <tr>\n",
       "      <th>mean</th>\n",
       "      <td>63.038892</td>\n",
       "      <td>438.208787</td>\n",
       "      <td>38.281269</td>\n",
       "      <td>17207.673836</td>\n",
       "      <td>0.306472</td>\n",
       "    </tr>\n",
       "    <tr>\n",
       "      <th>std</th>\n",
       "      <td>33.236368</td>\n",
       "      <td>234.569872</td>\n",
       "      <td>36.148326</td>\n",
       "      <td>7570.968246</td>\n",
       "      <td>0.461100</td>\n",
       "    </tr>\n",
       "    <tr>\n",
       "      <th>min</th>\n",
       "      <td>0.000000</td>\n",
       "      <td>0.000000</td>\n",
       "      <td>0.000000</td>\n",
       "      <td>0.000000</td>\n",
       "      <td>0.000000</td>\n",
       "    </tr>\n",
       "    <tr>\n",
       "      <th>25%</th>\n",
       "      <td>40.000000</td>\n",
       "      <td>274.575000</td>\n",
       "      <td>9.000000</td>\n",
       "      <td>12491.902500</td>\n",
       "      <td>0.000000</td>\n",
       "    </tr>\n",
       "    <tr>\n",
       "      <th>50%</th>\n",
       "      <td>62.000000</td>\n",
       "      <td>430.600000</td>\n",
       "      <td>30.000000</td>\n",
       "      <td>16943.235000</td>\n",
       "      <td>0.000000</td>\n",
       "    </tr>\n",
       "    <tr>\n",
       "      <th>75%</th>\n",
       "      <td>82.000000</td>\n",
       "      <td>571.927500</td>\n",
       "      <td>57.000000</td>\n",
       "      <td>21424.700000</td>\n",
       "      <td>1.000000</td>\n",
       "    </tr>\n",
       "    <tr>\n",
       "      <th>max</th>\n",
       "      <td>244.000000</td>\n",
       "      <td>1632.060000</td>\n",
       "      <td>224.000000</td>\n",
       "      <td>49745.730000</td>\n",
       "      <td>1.000000</td>\n",
       "    </tr>\n",
       "  </tbody>\n",
       "</table>\n",
       "</div>"
      ],
      "text/plain": [
       "             calls      minutes     messages       mb_used     is_ultra\n",
       "count  3214.000000  3214.000000  3214.000000   3214.000000  3214.000000\n",
       "mean     63.038892   438.208787    38.281269  17207.673836     0.306472\n",
       "std      33.236368   234.569872    36.148326   7570.968246     0.461100\n",
       "min       0.000000     0.000000     0.000000      0.000000     0.000000\n",
       "25%      40.000000   274.575000     9.000000  12491.902500     0.000000\n",
       "50%      62.000000   430.600000    30.000000  16943.235000     0.000000\n",
       "75%      82.000000   571.927500    57.000000  21424.700000     1.000000\n",
       "max     244.000000  1632.060000   224.000000  49745.730000     1.000000"
      ]
     },
     "execution_count": 5,
     "metadata": {},
     "output_type": "execute_result"
    }
   ],
   "source": [
    "data.describe()"
   ]
  },
  {
   "cell_type": "markdown",
   "metadata": {},
   "source": [
    "<div class=\"alert alert-info\">\n",
    "максимальное значение в столбце <b>is_ultra</b> 1, а минимальное 0\n",
    "<br>\n",
    "В инфе было написано, что предоработка данных уже была осуществлена, но на всякий случай проверим на наличие дубликатов в датасете\n",
    "</div>"
   ]
  },
  {
   "cell_type": "code",
   "execution_count": 6,
   "metadata": {},
   "outputs": [
    {
     "name": "stdout",
     "output_type": "stream",
     "text": [
      "Количество дубликатов: 0\n"
     ]
    }
   ],
   "source": [
    "print('Количество дубликатов:', data.duplicated().sum())"
   ]
  },
  {
   "cell_type": "markdown",
   "metadata": {},
   "source": [
    "<div class=\"alert alert-info\">\n",
    "Отлично, дубликатов нет, посмотрим на общее распределение значений в каждом столбце\n",
    "</div>"
   ]
  },
  {
   "cell_type": "code",
   "execution_count": 7,
   "metadata": {
    "scrolled": false
   },
   "outputs": [
    {
     "data": {
      "image/png": "[encoded data removed]",
      "text/plain": [
       "<Figure size 720x720 with 6 Axes>"
      ]
     },
     "metadata": {
      "needs_background": "light"
     },
     "output_type": "display_data"
    }
   ],
   "source": [
    "data.hist(figsize=(10, 10), bins = 50, color='black');"
   ]
  },
  {
   "cell_type": "markdown",
   "metadata": {},
   "source": [
    "<div class=\"alert alert-info\">\n",
    "<b>сalls</b> — количество звонков,\n",
    "<br>\n",
    "<b>minutes</b> — суммарная длительность звонков в минутах,\n",
    "<br>\n",
    "<b>messages</b> — количество sms-сообщений,\n",
    "<br>\n",
    "<b>mb_used</b> — израсходованный интернет-трафик в Мб,\n",
    "<br>\n",
    "<b>is_ultra</b> — каким тарифом пользовался в течение месяца («Ультра» — 1, «Смарт» — 0).\n",
    "<br>\n",
    "<br>\n",
    "<b>Цели:</b> Нам необходимо построить модель, которая будет определять каким пользователям стоит перейти на тариф \"Ультра\"\n",
    "</div>"
   ]
  },
  {
   "cell_type": "markdown",
   "metadata": {},
   "source": [
    "## Разбейте данные на выборки"
   ]
  },
  {
   "cell_type": "markdown",
   "metadata": {},
   "source": [
    "<div class=\"alert alert-info\">\n",
    "Разделим данные на несколько частей.\n",
    "<br>\n",
    "Сначала разделим данные в соотношении 60 к 40\n",
    "<br>\n",
    "А затем разделим 40 пополам на проверочную часть и валидационную\n",
    "<br>\n",
    "<b>Первая</b> - обучающая часть (для обучения модели, назовем ее <b>data_train</b>)\n",
    "<br>\n",
    "<b>Вторая</b> - проверочная часть (для проверки на обучаемость модели, назовем ее <b>data_valid</b>) \n",
    "<br>\n",
    "<b>Третья</b> - валидационная часть (для проверки точности/качества модели <b>data_test</b>)\n",
    "<br>\n",
    "<br>\n",
    "<b>random_state</b> - это параметр, который отвечает за то, чтобы разделение данных происходило рандомно\n",
    "</div>"
   ]
  },
  {
   "cell_type": "code",
   "execution_count": 8,
   "metadata": {},
   "outputs": [],
   "source": [
    "data_train, data_valid = train_test_split(data, test_size=0.4, random_state=1)"
   ]
  },
  {
   "cell_type": "code",
   "execution_count": 9,
   "metadata": {},
   "outputs": [],
   "source": [
    "data_valid, data_test = train_test_split(data_valid, test_size=0.5, random_state=1)"
   ]
  },
  {
   "cell_type": "markdown",
   "metadata": {},
   "source": [
    "<div class=\"alert alert-info\">\n",
    "Разбили исходные данные на следующие выборки:\n",
    "</div>"
   ]
  },
  {
   "cell_type": "code",
   "execution_count": 10,
   "metadata": {},
   "outputs": [
    {
     "name": "stdout",
     "output_type": "stream",
     "text": [
      "Исходные данные (3214, 5)\n",
      "\n",
      "Train: (1928, 5)  -  60%\n",
      "Valid: (643, 5)  -  20%\n",
      "Test: (643, 5)  -  20%\n"
     ]
    }
   ],
   "source": [
    "print('Исходные данные', data.shape)\n",
    "print('')\n",
    "print('Train:', data_train.shape, ' - ', \"{:.0%}\".format(data_train.shape[0] / data.shape[0]))\n",
    "print('Valid:', data_valid.shape, ' - ', \"{:.0%}\".format(data_valid.shape[0] / data.shape[0]))\n",
    "print('Test:', data_test.shape, ' - ', \"{:.0%}\".format(data_test.shape[0] / data.shape[0]))"
   ]
  },
  {
   "cell_type": "markdown",
   "metadata": {},
   "source": [
    "## Исследуйте модели"
   ]
  },
  {
   "cell_type": "markdown",
   "metadata": {},
   "source": [
    "<div class=\"alert alert-info\">\n",
    "<b>Иссдедуем модели</b>\n",
    "<br>\n",
    "Для этого будем использовать несколько разных способов:\n",
    "<br>\n",
    "<br>\n",
    "<b>-Древо решений</b> (посмотрим в разрезе разных показателей depth)\n",
    "<br>\n",
    "<b>-Случайный лес</b> (посмотрим в разрезе разных показателей depth)\n",
    "<br>\n",
    "<b>-Логистическая регрессия</b>\n",
    "<br>\n",
    "<br>\n",
    "Целевой признак - столбец <b>is_ultra</b>\n",
    "<br>\n",
    "запихнем все в соответствующие переменные\n",
    "</div>"
   ]
  },
  {
   "cell_type": "code",
   "execution_count": 11,
   "metadata": {},
   "outputs": [],
   "source": [
    "features_train = data_train.drop(['is_ultra'], axis=1)\n",
    "target_train = data_train['is_ultra']\n",
    "\n",
    "features_valid = data_valid.drop(['is_ultra'], axis=1)\n",
    "target_valid = data_valid['is_ultra']\n",
    "\n",
    "features_test = data_test.drop(['is_ultra'], axis=1)\n",
    "target_test = data_test['is_ultra']"
   ]
  },
  {
   "cell_type": "markdown",
   "metadata": {},
   "source": [
    "<div class=\"alert alert-info\">\n",
    "<b>Древо решений</b>\n",
    "</div>"
   ]
  },
  {
   "cell_type": "markdown",
   "metadata": {},
   "source": [
    "<div class=\"alert alert-info\">\n",
    "Проверим циклом показатель точности при различной глубине\n",
    "</div>"
   ]
  },
  {
   "cell_type": "code",
   "execution_count": 12,
   "metadata": {
    "scrolled": true
   },
   "outputs": [
    {
     "name": "stdout",
     "output_type": "stream",
     "text": [
      "При глубине [ 1 ] точность: 0.71851\n",
      "При глубине [ 2 ] точность: 0.75583\n",
      "При глубине [ 3 ] точность: 0.77138\n",
      "При глубине [ 4 ] точность: 0.76672\n",
      "При глубине [ 5 ] точность: 0.76983\n",
      "При глубине [ 6 ] точность: 0.76827\n",
      "При глубине [ 7 ] точность: 0.77916\n",
      "При глубине [ 8 ] точность: 0.78383\n",
      "При глубине [ 9 ] точность: 0.79471\n",
      "При глубине [ 10 ] точность: 0.78227\n",
      "При глубине [ 11 ] точность: 0.78849\n",
      "При глубине [ 12 ] точность: 0.78538\n",
      "При глубине [ 13 ] точность: 0.78849\n",
      "При глубине [ 14 ] точность: 0.77138\n",
      "При глубине [ 15 ] точность: 0.77449\n",
      "При глубине [ 16 ] точность: 0.78227\n",
      "При глубине [ 17 ] точность: 0.76827\n",
      "При глубине [ 18 ] точность: 0.75272\n",
      "При глубине [ 19 ] точность: 0.74184\n",
      "При глубине [ 20 ] точность: 0.74650\n",
      "При глубине [ 21 ] точность: 0.73250\n",
      "При глубине [ 22 ] точность: 0.75117\n",
      "При глубине [ 23 ] точность: 0.73872\n",
      "При глубине [ 24 ] точность: 0.73406\n",
      "При глубине [ 25 ] точность: 0.73561\n",
      "При глубине [ 26 ] точность: 0.74184\n",
      "При глубине [ 27 ] точность: 0.74806\n",
      "При глубине [ 28 ] точность: 0.75117\n",
      "При глубине [ 29 ] точность: 0.75117\n",
      "При глубине [ 30 ] точность: 0.75117\n",
      "При глубине [ 31 ] точность: 0.75117\n",
      "При глубине [ 32 ] точность: 0.75117\n",
      "При глубине [ 33 ] точность: 0.75117\n",
      "При глубине [ 34 ] точность: 0.75117\n",
      "При глубине [ 35 ] точность: 0.75117\n",
      "При глубине [ 36 ] точность: 0.75117\n",
      "При глубине [ 37 ] точность: 0.75117\n",
      "При глубине [ 38 ] точность: 0.75117\n",
      "При глубине [ 39 ] точность: 0.75117\n",
      "При глубине [ 40 ] точность: 0.75117\n",
      "При глубине [ 41 ] точность: 0.75117\n",
      "При глубине [ 42 ] точность: 0.75117\n",
      "При глубине [ 43 ] точность: 0.75117\n",
      "При глубине [ 44 ] точность: 0.75117\n",
      "При глубине [ 45 ] точность: 0.75117\n",
      "При глубине [ 46 ] точность: 0.75117\n",
      "При глубине [ 47 ] точность: 0.75117\n",
      "При глубине [ 48 ] точность: 0.75117\n",
      "При глубине [ 49 ] точность: 0.75117\n",
      "При глубине [ 50 ] точность: 0.75117\n",
      "При глубине [ 51 ] точность: 0.75117\n",
      "При глубине [ 52 ] точность: 0.75117\n",
      "При глубине [ 53 ] точность: 0.75117\n",
      "При глубине [ 54 ] точность: 0.75117\n",
      "При глубине [ 55 ] точность: 0.75117\n",
      "При глубине [ 56 ] точность: 0.75117\n",
      "При глубине [ 57 ] точность: 0.75117\n",
      "При глубине [ 58 ] точность: 0.75117\n",
      "При глубине [ 59 ] точность: 0.75117\n",
      "При глубине [ 60 ] точность: 0.75117\n",
      "При глубине [ 61 ] точность: 0.75117\n",
      "При глубине [ 62 ] точность: 0.75117\n",
      "При глубине [ 63 ] точность: 0.75117\n",
      "При глубине [ 64 ] точность: 0.75117\n",
      "При глубине [ 65 ] точность: 0.75117\n",
      "При глубине [ 66 ] точность: 0.75117\n",
      "При глубине [ 67 ] точность: 0.75117\n",
      "При глубине [ 68 ] точность: 0.75117\n",
      "При глубине [ 69 ] точность: 0.75117\n",
      "При глубине [ 70 ] точность: 0.75117\n",
      "При глубине [ 71 ] точность: 0.75117\n",
      "При глубине [ 72 ] точность: 0.75117\n",
      "При глубине [ 73 ] точность: 0.75117\n",
      "При глубине [ 74 ] точность: 0.75117\n",
      "При глубине [ 75 ] точность: 0.75117\n",
      "При глубине [ 76 ] точность: 0.75117\n",
      "При глубине [ 77 ] точность: 0.75117\n",
      "При глубине [ 78 ] точность: 0.75117\n",
      "При глубине [ 79 ] точность: 0.75117\n",
      "При глубине [ 80 ] точность: 0.75117\n",
      "При глубине [ 81 ] точность: 0.75117\n",
      "При глубине [ 82 ] точность: 0.75117\n",
      "При глубине [ 83 ] точность: 0.75117\n",
      "При глубине [ 84 ] точность: 0.75117\n",
      "При глубине [ 85 ] точность: 0.75117\n",
      "При глубине [ 86 ] точность: 0.75117\n",
      "При глубине [ 87 ] точность: 0.75117\n",
      "При глубине [ 88 ] точность: 0.75117\n",
      "При глубине [ 89 ] точность: 0.75117\n",
      "При глубине [ 90 ] точность: 0.75117\n",
      "При глубине [ 91 ] точность: 0.75117\n",
      "При глубине [ 92 ] точность: 0.75117\n",
      "При глубине [ 93 ] точность: 0.75117\n",
      "При глубине [ 94 ] точность: 0.75117\n",
      "При глубине [ 95 ] точность: 0.75117\n",
      "При глубине [ 96 ] точность: 0.75117\n",
      "При глубине [ 97 ] точность: 0.75117\n",
      "При глубине [ 98 ] точность: 0.75117\n",
      "При глубине [ 99 ] точность: 0.75117\n",
      "При глубине [ 100 ] точность: 0.75117\n"
     ]
    }
   ],
   "source": [
    "for depth in range(1, 101, 1):\n",
    "    model_dt = DecisionTreeClassifier(random_state=12345, max_depth=depth)\n",
    "    model_dt.fit(features_train, target_train)\n",
    "    prediction_dt = model_dt.predict(features_valid)\n",
    "    accuracy_dt = accuracy_score(target_valid, prediction_dt)\n",
    "    print('При глубине [', depth, '] точность:','{:.5f}'.format(accuracy_dt))"
   ]
  },
  {
   "cell_type": "markdown",
   "metadata": {},
   "source": [
    "<div class=\"alert alert-info\">\n",
    "Самый высокий показатель точности - <b>0.79471</b>, при глубине - <b>9</b>\n",
    "</div>"
   ]
  },
  {
   "cell_type": "markdown",
   "metadata": {},
   "source": [
    "<div class=\"alert alert-info\">\n",
    "<b>Случайный лес</b>\n",
    "</div>"
   ]
  },
  {
   "cell_type": "code",
   "execution_count": 13,
   "metadata": {
    "scrolled": false
   },
   "outputs": [
    {
     "name": "stdout",
     "output_type": "stream",
     "text": [
      "n_estimators [ 10 ] точность: 0.78072\n",
      "n_estimators [ 20 ] точность: 0.78694\n",
      "n_estimators [ 30 ] точность: 0.79938\n",
      "n_estimators [ 40 ] точность: 0.80404\n",
      "n_estimators [ 50 ] точность: 0.80249\n",
      "n_estimators [ 60 ] точность: 0.80249\n",
      "n_estimators [ 70 ] точность: 0.79782\n",
      "n_estimators [ 80 ] точность: 0.80093\n",
      "n_estimators [ 90 ] точность: 0.80715\n",
      "n_estimators [ 100 ] точность: 0.80560\n",
      "n_estimators [ 110 ] точность: 0.80093\n",
      "n_estimators [ 120 ] точность: 0.79782\n",
      "n_estimators [ 130 ] точность: 0.79938\n",
      "n_estimators [ 140 ] точность: 0.79938\n",
      "n_estimators [ 150 ] точность: 0.79627\n",
      "n_estimators [ 160 ] точность: 0.79782\n",
      "n_estimators [ 170 ] точность: 0.79782\n",
      "n_estimators [ 180 ] точность: 0.79627\n",
      "n_estimators [ 190 ] точность: 0.79627\n",
      "n_estimators [ 200 ] точность: 0.79471\n",
      "n_estimators [ 210 ] точность: 0.79627\n",
      "n_estimators [ 220 ] точность: 0.79316\n",
      "n_estimators [ 230 ] точность: 0.79471\n",
      "n_estimators [ 240 ] точность: 0.79471\n",
      "n_estimators [ 250 ] точность: 0.79471\n",
      "n_estimators [ 260 ] точность: 0.79471\n",
      "n_estimators [ 270 ] точность: 0.79316\n",
      "n_estimators [ 280 ] точность: 0.79316\n",
      "n_estimators [ 290 ] точность: 0.79471\n",
      "n_estimators [ 300 ] точность: 0.79627\n"
     ]
    }
   ],
   "source": [
    "for each in range(10, 310, 10):\n",
    "    model_rf = RandomForestClassifier(n_estimators=each, max_depth=12, random_state=1)\n",
    "    model_rf.fit(features_train, target_train)\n",
    "    prediction_rf = model_rf.predict(features_valid)\n",
    "    accuracy_rf = accuracy_score(target_valid, prediction_rf)\n",
    "    print('n_estimators [', each, '] точность:','{:.5f}'.format(accuracy_rf))"
   ]
  },
  {
   "cell_type": "markdown",
   "metadata": {},
   "source": [
    "<div class=\"alert alert-info\">\n",
    "Самый высокий показатель точности - <b>0.80715</b>, при глубине - <b>12</b> и n_estimators - <b>90</b>\n",
    "</div>"
   ]
  },
  {
   "cell_type": "markdown",
   "metadata": {},
   "source": [
    "<div class=\"alert alert-info\">\n",
    "<b>Логистическая регрессия</b>\n",
    "</div>"
   ]
  },
  {
   "cell_type": "code",
   "execution_count": 14,
   "metadata": {},
   "outputs": [
    {
     "name": "stdout",
     "output_type": "stream",
     "text": [
      "Точность: 0.72006\n"
     ]
    }
   ],
   "source": [
    "model_lr =  LogisticRegression()\n",
    "model_lr.fit(features_train, target_train)\n",
    "prediction_lr = model_lr.predict(features_valid)\n",
    "accuracy_lr = accuracy_score(target_valid, prediction_lr)\n",
    "print('Точность:','{:.5f}'.format(accuracy_lr))"
   ]
  },
  {
   "cell_type": "markdown",
   "metadata": {},
   "source": [
    "<div class=\"alert alert-info\">\n",
    "<b>Вывод</b>\n",
    "<br>\n",
    "Использовали три разных способа изучения моделей обучения\n",
    "<br>\n",
    "Получили следующие результаты:\n",
    "<br>\n",
    "<b>Древо решений</b> - самый высокий показатель точности - <b>0.79471</b>, при глубине - <b>9</b>\n",
    "<br>\n",
    "<br>\n",
    "<b>Случайный лес</b> - самый высокий показатель точности - <b>0.80715</b>, при глубине - <b>12</b> и n_estimators - <b>89</b>\n",
    "<br>\n",
    "<br>\n",
    "<b>Логистическая регрессия</b> - самый высокий показатель точности - <b>0.72006</b>\n",
    "</div>"
   ]
  },
  {
   "cell_type": "markdown",
   "metadata": {},
   "source": [
    "<div class=\"alert alert-info\">\n",
    "Случайный лес it is\n",
    "</div>"
   ]
  },
  {
   "cell_type": "markdown",
   "metadata": {},
   "source": [
    "## Проверьте модель на тестовой выборке"
   ]
  },
  {
   "cell_type": "markdown",
   "metadata": {},
   "source": [
    "<div class=\"alert alert-info\">\n",
    "Зададим выбранные параметры для случайного леса и проверим на тестовой выборке\n",
    "</div>"
   ]
  },
  {
   "cell_type": "code",
   "execution_count": 15,
   "metadata": {},
   "outputs": [
    {
     "name": "stdout",
     "output_type": "stream",
     "text": [
      "Точность = 0.80404\n"
     ]
    }
   ],
   "source": [
    "model_final = RandomForestClassifier(random_state=12345, n_estimators=89, max_depth=12)\n",
    "model_final.fit(features_train, target_train)\n",
    "prediction_final = model_final.predict(features_test)\n",
    "accuracy_final = accuracy_score(target_test, prediction_final)\n",
    "print('Точность =','{:.5f}'.format(accuracy_final))"
   ]
  },
  {
   "cell_type": "markdown",
   "metadata": {},
   "source": [
    "<div class=\"alert alert-info\">\n",
    "<b>Вывод</b>\n",
    "<br>\n",
    "Ну по идее вышло круто, точность получилась очень близкой к нашей тестовой\n",
    "</div>"
   ]
  },
  {
   "cell_type": "markdown",
   "metadata": {},
   "source": [
    "## (бонус) Проверьте модели на адекватность"
   ]
  },
  {
   "cell_type": "code",
   "execution_count": 16,
   "metadata": {},
   "outputs": [
    {
     "name": "stdout",
     "output_type": "stream",
     "text": [
      "Точность = 0.66407\n"
     ]
    }
   ],
   "source": [
    "adeq = DummyClassifier(strategy=\"most_frequent\", random_state=0)\n",
    "adeq.fit(features_valid, target_valid)\n",
    "print('Точность =','{:.5f}'.format(adeq.score(features_valid, target_valid)))"
   ]
  },
  {
   "cell_type": "markdown",
   "metadata": {},
   "source": [
    "<div class=\"alert alert-info\">\n",
    "<b>Вывод</b>\n",
    "<br>\n",
    "По изначальному условию нужно довести долю правильных ответов по крайней мере до 0.75, а в нашем проекте получилось 0.80!\n",
    "<br>\n",
    "Надеюсь получилось корректно\n",
    "</div>"
   ]
  }
 ],
 "metadata": {
  "ExecuteTimeLog": [
   {
    "duration": 404,
    "start_time": "2022-12-25T18:52:20.839Z"
   },
   {
    "duration": 110,
    "start_time": "2022-12-25T18:55:28.415Z"
   },
   {
    "duration": 28,
    "start_time": "2022-12-25T18:56:16.066Z"
   },
   {
    "duration": 21,
    "start_time": "2022-12-25T18:56:25.576Z"
   },
   {
    "duration": 16,
    "start_time": "2022-12-25T19:00:13.110Z"
   },
   {
    "duration": 15,
    "start_time": "2022-12-25T19:00:25.287Z"
   },
   {
    "duration": 2,
    "start_time": "2022-12-25T19:00:28.965Z"
   },
   {
    "duration": 29,
    "start_time": "2022-12-25T19:00:29.322Z"
   },
   {
    "duration": 15,
    "start_time": "2022-12-25T19:00:29.580Z"
   },
   {
    "duration": 21,
    "start_time": "2022-12-25T19:00:35.829Z"
   },
   {
    "duration": 67,
    "start_time": "2022-12-25T19:00:42.932Z"
   },
   {
    "duration": 4,
    "start_time": "2022-12-25T19:00:52.655Z"
   },
   {
    "duration": 15,
    "start_time": "2022-12-25T19:01:00.880Z"
   },
   {
    "duration": 13,
    "start_time": "2022-12-25T19:01:07.133Z"
   },
   {
    "duration": 2,
    "start_time": "2022-12-25T19:03:55.266Z"
   },
   {
    "duration": 42,
    "start_time": "2022-12-26T19:27:52.589Z"
   },
   {
    "duration": 399,
    "start_time": "2022-12-26T19:27:55.720Z"
   },
   {
    "duration": 62,
    "start_time": "2022-12-26T19:27:56.121Z"
   },
   {
    "duration": 19,
    "start_time": "2022-12-26T19:27:56.367Z"
   },
   {
    "duration": 11,
    "start_time": "2022-12-26T19:27:56.883Z"
   },
   {
    "duration": 6,
    "start_time": "2022-12-26T19:45:00.843Z"
   },
   {
    "duration": 1004,
    "start_time": "2022-12-26T19:45:51.353Z"
   },
   {
    "duration": 534,
    "start_time": "2022-12-26T19:46:02.880Z"
   },
   {
    "duration": 493,
    "start_time": "2022-12-26T19:46:33.024Z"
   },
   {
    "duration": 745,
    "start_time": "2022-12-26T19:46:37.337Z"
   },
   {
    "duration": 32,
    "start_time": "2022-12-26T19:47:13.857Z"
   },
   {
    "duration": 6,
    "start_time": "2022-12-26T19:49:02.999Z"
   },
   {
    "duration": 783,
    "start_time": "2022-12-26T19:49:26.675Z"
   },
   {
    "duration": 33,
    "start_time": "2022-12-26T20:01:26.028Z"
   },
   {
    "duration": 739,
    "start_time": "2022-12-26T20:01:55.902Z"
   },
   {
    "duration": 26,
    "start_time": "2022-12-26T20:01:56.848Z"
   },
   {
    "duration": 15,
    "start_time": "2022-12-26T20:01:57.021Z"
   },
   {
    "duration": 10,
    "start_time": "2022-12-26T20:01:59.016Z"
   },
   {
    "duration": 21,
    "start_time": "2022-12-26T20:01:59.378Z"
   },
   {
    "duration": 5,
    "start_time": "2022-12-26T20:01:59.763Z"
   },
   {
    "duration": 734,
    "start_time": "2022-12-26T20:02:00.379Z"
   },
   {
    "duration": 7,
    "start_time": "2022-12-26T20:02:02.363Z"
   },
   {
    "duration": 5,
    "start_time": "2022-12-26T20:02:55.484Z"
   },
   {
    "duration": 4,
    "start_time": "2022-12-26T20:03:00.338Z"
   },
   {
    "duration": 5,
    "start_time": "2022-12-26T20:09:20.454Z"
   },
   {
    "duration": 4,
    "start_time": "2022-12-26T20:09:20.686Z"
   },
   {
    "duration": 5,
    "start_time": "2022-12-26T20:10:33.065Z"
   },
   {
    "duration": 4,
    "start_time": "2022-12-26T20:10:33.260Z"
   },
   {
    "duration": 37,
    "start_time": "2022-12-26T20:11:56.920Z"
   },
   {
    "duration": 4,
    "start_time": "2022-12-26T20:12:06.545Z"
   },
   {
    "duration": 846,
    "start_time": "2022-12-26T20:18:43.339Z"
   },
   {
    "duration": 1058,
    "start_time": "2022-12-30T09:52:35.875Z"
   },
   {
    "duration": 2,
    "start_time": "2022-12-30T09:56:41.368Z"
   },
   {
    "duration": 91,
    "start_time": "2022-12-30T09:58:02.894Z"
   },
   {
    "duration": 10,
    "start_time": "2022-12-30T10:08:20.686Z"
   },
   {
    "duration": 15,
    "start_time": "2022-12-30T10:08:34.418Z"
   },
   {
    "duration": 3,
    "start_time": "2022-12-30T10:08:42.255Z"
   },
   {
    "duration": 134,
    "start_time": "2022-12-30T10:08:42.261Z"
   },
   {
    "duration": 26,
    "start_time": "2022-12-30T10:08:42.398Z"
   },
   {
    "duration": 15,
    "start_time": "2022-12-30T10:08:42.426Z"
   },
   {
    "duration": 33,
    "start_time": "2022-12-30T10:08:42.444Z"
   },
   {
    "duration": 23,
    "start_time": "2022-12-30T10:08:42.479Z"
   },
   {
    "duration": 1314,
    "start_time": "2022-12-30T10:08:42.503Z"
   },
   {
    "duration": 7,
    "start_time": "2022-12-30T10:08:43.819Z"
   },
   {
    "duration": 13,
    "start_time": "2022-12-30T10:08:43.828Z"
   },
   {
    "duration": 10,
    "start_time": "2022-12-30T10:08:43.844Z"
   },
   {
    "duration": 29,
    "start_time": "2022-12-30T10:08:43.856Z"
   },
   {
    "duration": 48,
    "start_time": "2022-12-30T10:08:43.887Z"
   },
   {
    "duration": 6,
    "start_time": "2022-12-30T10:08:52.699Z"
   },
   {
    "duration": 70,
    "start_time": "2023-01-03T09:27:20.008Z"
   },
   {
    "duration": 1079,
    "start_time": "2023-01-03T09:27:31.801Z"
   },
   {
    "duration": 113,
    "start_time": "2023-01-03T09:27:32.881Z"
   },
   {
    "duration": 20,
    "start_time": "2023-01-03T09:27:32.996Z"
   },
   {
    "duration": 11,
    "start_time": "2023-01-03T09:27:33.017Z"
   },
   {
    "duration": 19,
    "start_time": "2023-01-03T09:27:33.030Z"
   },
   {
    "duration": 5,
    "start_time": "2023-01-03T09:27:33.051Z"
   },
   {
    "duration": 1155,
    "start_time": "2023-01-03T09:27:33.057Z"
   },
   {
    "duration": 5,
    "start_time": "2023-01-03T09:27:34.214Z"
   },
   {
    "duration": 7,
    "start_time": "2023-01-03T09:27:34.220Z"
   },
   {
    "duration": 7,
    "start_time": "2023-01-03T09:27:34.228Z"
   },
   {
    "duration": 5,
    "start_time": "2023-01-03T09:27:34.236Z"
   },
   {
    "duration": 90,
    "start_time": "2023-01-03T09:27:34.243Z"
   },
   {
    "duration": 13,
    "start_time": "2023-01-03T09:32:57.567Z"
   },
   {
    "duration": 15,
    "start_time": "2023-01-03T09:33:41.759Z"
   },
   {
    "duration": 402,
    "start_time": "2023-01-03T09:33:50.632Z"
   },
   {
    "duration": 203,
    "start_time": "2023-01-03T09:34:57.946Z"
   },
   {
    "duration": 124,
    "start_time": "2023-01-03T09:36:08.613Z"
   },
   {
    "duration": 44,
    "start_time": "2023-01-03T09:36:20.141Z"
   },
   {
    "duration": 807,
    "start_time": "2023-01-03T09:36:24.933Z"
   },
   {
    "duration": 799,
    "start_time": "2023-01-03T09:36:51.220Z"
   },
   {
    "duration": 832,
    "start_time": "2023-01-03T09:37:32.040Z"
   },
   {
    "duration": 797,
    "start_time": "2023-01-03T09:37:43.551Z"
   },
   {
    "duration": 784,
    "start_time": "2023-01-03T09:37:50.745Z"
   },
   {
    "duration": 6,
    "start_time": "2023-01-03T09:42:10.293Z"
   },
   {
    "duration": 3,
    "start_time": "2023-01-03T09:42:12.728Z"
   },
   {
    "duration": 501,
    "start_time": "2023-01-03T09:42:13.335Z"
   },
   {
    "duration": 262,
    "start_time": "2023-01-03T09:42:30.360Z"
   },
   {
    "duration": 244,
    "start_time": "2023-01-03T09:42:49.751Z"
   },
   {
    "duration": 250,
    "start_time": "2023-01-03T09:43:04.423Z"
   },
   {
    "duration": 259,
    "start_time": "2023-01-03T09:43:14.442Z"
   },
   {
    "duration": 250,
    "start_time": "2023-01-03T09:44:09.024Z"
   },
   {
    "duration": 285,
    "start_time": "2023-01-03T09:44:16.215Z"
   },
   {
    "duration": 1028,
    "start_time": "2023-01-03T09:46:17.565Z"
   },
   {
    "duration": 256,
    "start_time": "2023-01-03T09:46:25.138Z"
   },
   {
    "duration": 10,
    "start_time": "2023-01-03T10:50:51.966Z"
   },
   {
    "duration": 16,
    "start_time": "2023-01-03T13:27:21.502Z"
   },
   {
    "duration": 13504,
    "start_time": "2023-01-03T13:27:39.626Z"
   },
   {
    "duration": 13762,
    "start_time": "2023-01-03T13:28:54.380Z"
   },
   {
    "duration": 1589,
    "start_time": "2023-01-03T13:29:28.917Z"
   },
   {
    "duration": 1959,
    "start_time": "2023-01-03T13:30:36.259Z"
   },
   {
    "duration": 875,
    "start_time": "2023-01-03T13:31:57.664Z"
   },
   {
    "duration": 911,
    "start_time": "2023-01-03T13:32:03.828Z"
   },
   {
    "duration": 1819,
    "start_time": "2023-01-03T13:32:08.079Z"
   },
   {
    "duration": 1729,
    "start_time": "2023-01-03T13:32:38.031Z"
   },
   {
    "duration": 1792,
    "start_time": "2023-01-03T13:32:47.695Z"
   },
   {
    "duration": 1419,
    "start_time": "2023-01-03T13:32:53.386Z"
   },
   {
    "duration": 2204,
    "start_time": "2023-01-03T13:32:57.638Z"
   },
   {
    "duration": 1091,
    "start_time": "2023-01-04T09:28:40.065Z"
   },
   {
    "duration": 118,
    "start_time": "2023-01-04T09:28:41.158Z"
   },
   {
    "duration": 18,
    "start_time": "2023-01-04T09:28:41.277Z"
   },
   {
    "duration": 10,
    "start_time": "2023-01-04T09:28:41.296Z"
   },
   {
    "duration": 19,
    "start_time": "2023-01-04T09:28:41.308Z"
   },
   {
    "duration": 5,
    "start_time": "2023-01-04T09:28:41.329Z"
   },
   {
    "duration": 1136,
    "start_time": "2023-01-04T09:28:41.335Z"
   },
   {
    "duration": 5,
    "start_time": "2023-01-04T09:28:42.473Z"
   },
   {
    "duration": 8,
    "start_time": "2023-01-04T09:28:42.479Z"
   },
   {
    "duration": 14,
    "start_time": "2023-01-04T09:28:42.489Z"
   },
   {
    "duration": 5,
    "start_time": "2023-01-04T09:28:42.504Z"
   },
   {
    "duration": 273,
    "start_time": "2023-01-04T09:28:42.511Z"
   },
   {
    "duration": 1885,
    "start_time": "2023-01-04T09:28:42.785Z"
   },
   {
    "duration": 1890,
    "start_time": "2023-01-04T09:30:31.647Z"
   },
   {
    "duration": 1542,
    "start_time": "2023-01-04T09:32:49.577Z"
   },
   {
    "duration": 14043,
    "start_time": "2023-01-04T09:32:59.167Z"
   },
   {
    "duration": 1008,
    "start_time": "2023-01-04T09:35:58.994Z"
   },
   {
    "duration": 3,
    "start_time": "2023-01-04T09:37:58.949Z"
   },
   {
    "duration": 1023,
    "start_time": "2023-01-04T09:38:57.031Z"
   },
   {
    "duration": 29,
    "start_time": "2023-01-04T09:40:28.747Z"
   },
   {
    "duration": 29,
    "start_time": "2023-01-04T09:42:04.800Z"
   },
   {
    "duration": 7748,
    "start_time": "2023-01-04T09:47:23.268Z"
   },
   {
    "duration": 8554,
    "start_time": "2023-01-04T09:47:37.935Z"
   },
   {
    "duration": 9800,
    "start_time": "2023-01-04T09:47:53.550Z"
   },
   {
    "duration": 10566,
    "start_time": "2023-01-04T09:48:07.734Z"
   },
   {
    "duration": 11406,
    "start_time": "2023-01-04T09:48:21.022Z"
   },
   {
    "duration": 11749,
    "start_time": "2023-01-04T09:48:39.257Z"
   },
   {
    "duration": 12930,
    "start_time": "2023-01-04T09:48:55.300Z"
   },
   {
    "duration": 13951,
    "start_time": "2023-01-04T09:49:15.359Z"
   },
   {
    "duration": 15303,
    "start_time": "2023-01-04T09:49:42.276Z"
   },
   {
    "duration": 15995,
    "start_time": "2023-01-04T09:50:20.451Z"
   },
   {
    "duration": 16682,
    "start_time": "2023-01-04T09:53:38.607Z"
   },
   {
    "duration": 16723,
    "start_time": "2023-01-04T09:54:53.910Z"
   },
   {
    "duration": 17240,
    "start_time": "2023-01-04T09:55:20.187Z"
   },
   {
    "duration": 18061,
    "start_time": "2023-01-04T09:55:45.060Z"
   },
   {
    "duration": 19279,
    "start_time": "2023-01-04T09:56:24.471Z"
   },
   {
    "duration": 16543,
    "start_time": "2023-01-04T09:56:48.668Z"
   },
   {
    "duration": 17021,
    "start_time": "2023-01-04T09:57:14.368Z"
   },
   {
    "duration": 298,
    "start_time": "2023-01-04T10:02:25.694Z"
   },
   {
    "duration": 327,
    "start_time": "2023-01-04T10:02:54.751Z"
   },
   {
    "duration": 282,
    "start_time": "2023-01-04T10:03:06.540Z"
   },
   {
    "duration": 32,
    "start_time": "2023-01-04T10:03:41.799Z"
   },
   {
    "duration": 17963,
    "start_time": "2023-01-04T10:04:40.295Z"
   },
   {
    "duration": 1326,
    "start_time": "2023-01-04T10:05:54.448Z"
   },
   {
    "duration": 4,
    "start_time": "2023-01-04T10:09:27.624Z"
   },
   {
    "duration": 8,
    "start_time": "2023-01-04T10:09:42.356Z"
   },
   {
    "duration": 4,
    "start_time": "2023-01-04T10:10:46.772Z"
   },
   {
    "duration": 5,
    "start_time": "2023-01-04T10:10:49.770Z"
   },
   {
    "duration": 5,
    "start_time": "2023-01-04T10:11:04.865Z"
   },
   {
    "duration": 4,
    "start_time": "2023-01-04T10:11:33.443Z"
   },
   {
    "duration": 356,
    "start_time": "2023-01-04T10:11:33.912Z"
   },
   {
    "duration": 362,
    "start_time": "2023-01-04T10:11:41.472Z"
   },
   {
    "duration": 6,
    "start_time": "2023-01-04T10:13:05.155Z"
   },
   {
    "duration": 4,
    "start_time": "2023-01-04T10:13:17.991Z"
   },
   {
    "duration": 35,
    "start_time": "2023-01-04T10:13:17.997Z"
   },
   {
    "duration": 14,
    "start_time": "2023-01-04T10:13:18.033Z"
   },
   {
    "duration": 19,
    "start_time": "2023-01-04T10:13:18.049Z"
   },
   {
    "duration": 36,
    "start_time": "2023-01-04T10:13:18.069Z"
   },
   {
    "duration": 17,
    "start_time": "2023-01-04T10:13:18.107Z"
   },
   {
    "duration": 892,
    "start_time": "2023-01-04T10:13:18.126Z"
   },
   {
    "duration": 6,
    "start_time": "2023-01-04T10:13:19.020Z"
   },
   {
    "duration": 19,
    "start_time": "2023-01-04T10:13:19.027Z"
   },
   {
    "duration": 30,
    "start_time": "2023-01-04T10:13:19.048Z"
   },
   {
    "duration": 1148,
    "start_time": "2023-01-04T10:13:19.080Z"
   },
   {
    "duration": 16694,
    "start_time": "2023-01-04T10:13:20.229Z"
   },
   {
    "duration": 33,
    "start_time": "2023-01-04T10:13:36.924Z"
   },
   {
    "duration": 308,
    "start_time": "2023-01-04T10:13:36.958Z"
   },
   {
    "duration": 6,
    "start_time": "2023-01-04T10:13:37.268Z"
   },
   {
    "duration": 42,
    "start_time": "2023-01-04T10:16:56.223Z"
   },
   {
    "duration": 47,
    "start_time": "2023-01-04T10:16:59.715Z"
   },
   {
    "duration": 2431,
    "start_time": "2023-01-04T13:21:35.315Z"
   },
   {
    "duration": 68,
    "start_time": "2023-01-04T13:21:37.748Z"
   },
   {
    "duration": 32,
    "start_time": "2023-01-04T13:21:37.818Z"
   },
   {
    "duration": 64,
    "start_time": "2023-01-04T13:21:37.852Z"
   },
   {
    "duration": 50,
    "start_time": "2023-01-04T13:21:37.919Z"
   },
   {
    "duration": 49,
    "start_time": "2023-01-04T13:21:37.971Z"
   },
   {
    "duration": 2498,
    "start_time": "2023-01-04T13:21:38.022Z"
   },
   {
    "duration": 6,
    "start_time": "2023-01-04T13:21:40.523Z"
   },
   {
    "duration": 13,
    "start_time": "2023-01-04T13:21:40.531Z"
   },
   {
    "duration": 8,
    "start_time": "2023-01-04T13:21:40.546Z"
   },
   {
    "duration": 2662,
    "start_time": "2023-01-04T13:21:40.556Z"
   },
   {
    "duration": 24778,
    "start_time": "2023-01-04T13:21:43.220Z"
   },
   {
    "duration": 50,
    "start_time": "2023-01-04T13:22:08.000Z"
   },
   {
    "duration": 335,
    "start_time": "2023-01-04T13:22:08.053Z"
   },
   {
    "duration": 5,
    "start_time": "2023-01-04T13:22:08.390Z"
   },
   {
    "duration": 57,
    "start_time": "2023-01-04T14:33:25.086Z"
   },
   {
    "duration": 1238,
    "start_time": "2023-01-04T14:33:29.175Z"
   },
   {
    "duration": 64,
    "start_time": "2023-01-04T14:33:30.416Z"
   },
   {
    "duration": 21,
    "start_time": "2023-01-04T14:33:30.482Z"
   },
   {
    "duration": 24,
    "start_time": "2023-01-04T14:33:30.504Z"
   },
   {
    "duration": 53,
    "start_time": "2023-01-04T14:33:30.531Z"
   },
   {
    "duration": 7,
    "start_time": "2023-01-04T14:33:30.586Z"
   },
   {
    "duration": 1428,
    "start_time": "2023-01-04T14:33:30.594Z"
   },
   {
    "duration": 6,
    "start_time": "2023-01-04T14:33:32.024Z"
   },
   {
    "duration": 20,
    "start_time": "2023-01-04T14:33:32.032Z"
   },
   {
    "duration": 76,
    "start_time": "2023-01-04T14:33:32.054Z"
   },
   {
    "duration": 0,
    "start_time": "2023-01-04T14:33:32.132Z"
   },
   {
    "duration": 0,
    "start_time": "2023-01-04T14:33:32.134Z"
   },
   {
    "duration": 0,
    "start_time": "2023-01-04T14:33:32.152Z"
   },
   {
    "duration": 0,
    "start_time": "2023-01-04T14:33:32.153Z"
   },
   {
    "duration": 0,
    "start_time": "2023-01-04T14:33:32.154Z"
   },
   {
    "duration": 0,
    "start_time": "2023-01-04T14:33:32.156Z"
   },
   {
    "duration": 9,
    "start_time": "2023-01-04T14:33:42.366Z"
   },
   {
    "duration": 4,
    "start_time": "2023-01-04T14:33:48.000Z"
   },
   {
    "duration": 4,
    "start_time": "2023-01-04T14:34:22.264Z"
   },
   {
    "duration": 5,
    "start_time": "2023-01-04T14:34:50.232Z"
   },
   {
    "duration": 6,
    "start_time": "2023-01-04T14:35:16.977Z"
   },
   {
    "duration": 6,
    "start_time": "2023-01-04T14:35:30.215Z"
   },
   {
    "duration": 93,
    "start_time": "2023-01-04T14:35:49.518Z"
   },
   {
    "duration": 116,
    "start_time": "2023-01-04T14:37:36.320Z"
   },
   {
    "duration": 5,
    "start_time": "2023-01-04T14:37:46.659Z"
   },
   {
    "duration": 5,
    "start_time": "2023-01-04T14:37:50.979Z"
   },
   {
    "duration": 6,
    "start_time": "2023-01-04T14:38:03.098Z"
   },
   {
    "duration": 6,
    "start_time": "2023-01-04T14:38:17.637Z"
   },
   {
    "duration": 76,
    "start_time": "2023-01-04T14:38:59.285Z"
   },
   {
    "duration": 74,
    "start_time": "2023-01-04T14:39:04.791Z"
   },
   {
    "duration": 6,
    "start_time": "2023-01-04T14:40:22.774Z"
   },
   {
    "duration": 8,
    "start_time": "2023-01-04T14:40:49.152Z"
   },
   {
    "duration": 6,
    "start_time": "2023-01-04T14:41:00.130Z"
   },
   {
    "duration": 6,
    "start_time": "2023-01-04T14:42:01.989Z"
   },
   {
    "duration": 11,
    "start_time": "2023-01-04T14:42:42.090Z"
   },
   {
    "duration": 4,
    "start_time": "2023-01-04T14:42:45.903Z"
   },
   {
    "duration": 36,
    "start_time": "2023-01-04T14:42:45.909Z"
   },
   {
    "duration": 15,
    "start_time": "2023-01-04T14:42:45.947Z"
   },
   {
    "duration": 16,
    "start_time": "2023-01-04T14:42:45.964Z"
   },
   {
    "duration": 25,
    "start_time": "2023-01-04T14:42:45.982Z"
   },
   {
    "duration": 5,
    "start_time": "2023-01-04T14:42:46.009Z"
   },
   {
    "duration": 888,
    "start_time": "2023-01-04T14:42:46.016Z"
   },
   {
    "duration": 5,
    "start_time": "2023-01-04T14:42:46.906Z"
   },
   {
    "duration": 13,
    "start_time": "2023-01-04T14:42:46.913Z"
   },
   {
    "duration": 25,
    "start_time": "2023-01-04T14:42:46.928Z"
   },
   {
    "duration": 7,
    "start_time": "2023-01-04T14:42:46.955Z"
   },
   {
    "duration": 1501,
    "start_time": "2023-01-04T14:42:46.964Z"
   },
   {
    "duration": 16395,
    "start_time": "2023-01-04T14:42:48.467Z"
   },
   {
    "duration": 36,
    "start_time": "2023-01-04T14:43:04.865Z"
   },
   {
    "duration": 400,
    "start_time": "2023-01-04T14:43:04.903Z"
   },
   {
    "duration": 6,
    "start_time": "2023-01-04T14:43:05.304Z"
   },
   {
    "duration": 17547,
    "start_time": "2023-01-04T14:43:26.462Z"
   },
   {
    "duration": 6,
    "start_time": "2023-01-04T14:48:36.275Z"
   },
   {
    "duration": 1750,
    "start_time": "2023-01-04T15:36:38.439Z"
   },
   {
    "duration": 33,
    "start_time": "2023-01-04T15:36:40.191Z"
   },
   {
    "duration": 18,
    "start_time": "2023-01-04T15:36:40.226Z"
   },
   {
    "duration": 9,
    "start_time": "2023-01-04T15:36:40.246Z"
   },
   {
    "duration": 20,
    "start_time": "2023-01-04T15:36:40.256Z"
   },
   {
    "duration": 6,
    "start_time": "2023-01-04T15:36:40.277Z"
   },
   {
    "duration": 1006,
    "start_time": "2023-01-04T15:36:40.285Z"
   },
   {
    "duration": 4,
    "start_time": "2023-01-04T15:36:41.293Z"
   },
   {
    "duration": 8,
    "start_time": "2023-01-04T15:36:41.299Z"
   },
   {
    "duration": 6,
    "start_time": "2023-01-04T15:36:41.315Z"
   },
   {
    "duration": 8,
    "start_time": "2023-01-04T15:36:41.323Z"
   },
   {
    "duration": 1051,
    "start_time": "2023-01-04T15:36:41.332Z"
   },
   {
    "duration": 14752,
    "start_time": "2023-01-04T15:36:42.384Z"
   },
   {
    "duration": 29,
    "start_time": "2023-01-04T15:36:57.138Z"
   },
   {
    "duration": 312,
    "start_time": "2023-01-04T15:36:57.169Z"
   },
   {
    "duration": 5,
    "start_time": "2023-01-04T15:36:57.482Z"
   }
  ],
  "kernelspec": {
   "display_name": "Python 3 (ipykernel)",
   "language": "python",
   "name": "python3"
  },
  "language_info": {
   "codemirror_mode": {
    "name": "ipython",
    "version": 3
   },
   "file_extension": ".py",
   "mimetype": "text/x-python",
   "name": "python",
   "nbconvert_exporter": "python",
   "pygments_lexer": "ipython3",
   "version": "3.9.13"
  },
  "toc": {
   "base_numbering": 1,
   "nav_menu": {},
   "number_sections": true,
   "sideBar": true,
   "skip_h1_title": true,
   "title_cell": "Table of Contents",
   "title_sidebar": "Contents",
   "toc_cell": false,
   "toc_position": {
    "height": "calc(100% - 180px)",
    "left": "10px",
    "top": "150px",
    "width": "165px"
   },
   "toc_section_display": true,
   "toc_window_display": true
  }
 },
 "nbformat": 4,
 "nbformat_minor": 2
}
