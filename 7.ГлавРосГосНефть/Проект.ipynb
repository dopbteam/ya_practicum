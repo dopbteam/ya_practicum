{
 "cells": [
  {
   "cell_type": "markdown",
   "metadata": {},
   "source": [
    "# Выбор локации для скважины"
   ]
  },
  {
   "cell_type": "markdown",
   "metadata": {},
   "source": [
    "Допустим, вы работаете в добывающей компании «ГлавРосГосНефть». Нужно решить, где бурить новую скважину.\n",
    "\n",
    "Вам предоставлены пробы нефти в трёх регионах: в каждом 10 000 месторождений, где измерили качество нефти и объём её запасов. Постройте модель машинного обучения, которая поможет определить регион, где добыча принесёт наибольшую прибыль. Проанализируйте возможную прибыль и риски техникой *Bootstrap.*\n",
    "\n",
    "Шаги для выбора локации:\n",
    "\n",
    "- В избранном регионе ищут месторождения, для каждого определяют значения признаков;\n",
    "- Строят модель и оценивают объём запасов;\n",
    "- Выбирают месторождения с самым высокими оценками значений. Количество месторождений зависит от бюджета компании и стоимости разработки одной скважины;\n",
    "- Прибыль равна суммарной прибыли отобранных месторождений."
   ]
  },
  {
   "cell_type": "markdown",
   "metadata": {},
   "source": [
    "## Загрузка и подготовка данных"
   ]
  },
  {
   "cell_type": "markdown",
   "metadata": {},
   "source": [
    "### Загружаем библиотеки"
   ]
  },
  {
   "cell_type": "code",
   "execution_count": 1,
   "metadata": {},
   "outputs": [],
   "source": [
    "import warnings\n",
    "import numpy as np\n",
    "import pandas as pd\n",
    "import seaborn as sns\n",
    "import matplotlib.pyplot as plt\n",
    "\n",
    "from scipy import stats as st\n",
    "from tqdm.notebook import tqdm\n",
    "\n",
    "from sklearn.linear_model import LinearRegression\n",
    "from sklearn.metrics import mean_squared_error\n",
    "from sklearn.model_selection import train_test_split\n",
    "from sklearn.preprocessing import StandardScaler\n",
    "\n",
    "warnings.filterwarnings('ignore')"
   ]
  },
  {
   "cell_type": "markdown",
   "metadata": {},
   "source": [
    "### Загружаем данные"
   ]
  },
  {
   "cell_type": "code",
   "execution_count": 2,
   "metadata": {},
   "outputs": [],
   "source": [
    "data_one = pd.read_csv('/datasets/geo_data_0.csv')\n",
    "data_two = pd.read_csv('/datasets/geo_data_1.csv')\n",
    "data_three = pd.read_csv('/datasets/geo_data_2.csv')"
   ]
  },
  {
   "cell_type": "markdown",
   "metadata": {},
   "source": [
    "### Проводим исследование входных данных"
   ]
  },
  {
   "cell_type": "markdown",
   "metadata": {},
   "source": [
    "Напишем небольшую функцию, которая поможет посмотреть основную инфу о входных данных"
   ]
  },
  {
   "cell_type": "code",
   "execution_count": 3,
   "metadata": {},
   "outputs": [],
   "source": [
    "def analyze_dataset(data, name):\n",
    "    print(name, 'состоит из: ', data.shape[0], 'строк и ', data.shape[1], 'столбцов\\nКоличество дубликатов:', data.duplicated().sum())\n",
    "    print()\n",
    "    print(data.info())\n",
    "    print()\n",
    "    display(data.describe(include='all').transpose())\n",
    "    print()\n",
    "    display(data.head(10))\n",
    "    print()\n",
    "    data.hist(figsize=(10, 10), bins = 50, color='black');\n",
    "    plt.show()\n",
    "    #data['product'] = (data['product'] - data['product'].mean()) / data['product'].std()\n",
    "    #data = data.drop(columns='product')\n",
    "    corr = data.corr()\n",
    "    sns.heatmap(corr, annot=True)\n",
    "    plt.show()"
   ]
  },
  {
   "cell_type": "markdown",
   "metadata": {},
   "source": [
    "Посмотрим данные первого региона"
   ]
  },
  {
   "cell_type": "code",
   "execution_count": 4,
   "metadata": {
    "scrolled": true
   },
   "outputs": [
    {
     "name": "stdout",
     "output_type": "stream",
     "text": [
      "Первый регион состоит из:  100000 строк и  5 столбцов\n",
      "Количество дубликатов: 0\n",
      "\n",
      "<class 'pandas.core.frame.DataFrame'>\n",
      "RangeIndex: 100000 entries, 0 to 99999\n",
      "Data columns (total 5 columns):\n",
      " #   Column   Non-Null Count   Dtype  \n",
      "---  ------   --------------   -----  \n",
      " 0   id       100000 non-null  object \n",
      " 1   f0       100000 non-null  float64\n",
      " 2   f1       100000 non-null  float64\n",
      " 3   f2       100000 non-null  float64\n",
      " 4   product  100000 non-null  float64\n",
      "dtypes: float64(4), object(1)\n",
      "memory usage: 3.8+ MB\n",
      "None\n",
      "\n"
     ]
    },
    {
     "data": {
      "text/html": [
       "<div>\n",
       "<style scoped>\n",
       "    .dataframe tbody tr th:only-of-type {\n",
       "        vertical-align: middle;\n",
       "    }\n",
       "\n",
       "    .dataframe tbody tr th {\n",
       "        vertical-align: top;\n",
       "    }\n",
       "\n",
       "    .dataframe thead th {\n",
       "        text-align: right;\n",
       "    }\n",
       "</style>\n",
       "<table border=\"1\" class=\"dataframe\">\n",
       "  <thead>\n",
       "    <tr style=\"text-align: right;\">\n",
       "      <th></th>\n",
       "      <th>count</th>\n",
       "      <th>unique</th>\n",
       "      <th>top</th>\n",
       "      <th>freq</th>\n",
       "      <th>mean</th>\n",
       "      <th>std</th>\n",
       "      <th>min</th>\n",
       "      <th>25%</th>\n",
       "      <th>50%</th>\n",
       "      <th>75%</th>\n",
       "      <th>max</th>\n",
       "    </tr>\n",
       "  </thead>\n",
       "  <tbody>\n",
       "    <tr>\n",
       "      <th>id</th>\n",
       "      <td>100000</td>\n",
       "      <td>99990</td>\n",
       "      <td>TtcGQ</td>\n",
       "      <td>2</td>\n",
       "      <td>NaN</td>\n",
       "      <td>NaN</td>\n",
       "      <td>NaN</td>\n",
       "      <td>NaN</td>\n",
       "      <td>NaN</td>\n",
       "      <td>NaN</td>\n",
       "      <td>NaN</td>\n",
       "    </tr>\n",
       "    <tr>\n",
       "      <th>f0</th>\n",
       "      <td>100000.0</td>\n",
       "      <td>NaN</td>\n",
       "      <td>NaN</td>\n",
       "      <td>NaN</td>\n",
       "      <td>0.500419</td>\n",
       "      <td>0.871832</td>\n",
       "      <td>-1.408605</td>\n",
       "      <td>-0.07258</td>\n",
       "      <td>0.50236</td>\n",
       "      <td>1.073581</td>\n",
       "      <td>2.362331</td>\n",
       "    </tr>\n",
       "    <tr>\n",
       "      <th>f1</th>\n",
       "      <td>100000.0</td>\n",
       "      <td>NaN</td>\n",
       "      <td>NaN</td>\n",
       "      <td>NaN</td>\n",
       "      <td>0.250143</td>\n",
       "      <td>0.504433</td>\n",
       "      <td>-0.848218</td>\n",
       "      <td>-0.200881</td>\n",
       "      <td>0.250252</td>\n",
       "      <td>0.700646</td>\n",
       "      <td>1.343769</td>\n",
       "    </tr>\n",
       "    <tr>\n",
       "      <th>f2</th>\n",
       "      <td>100000.0</td>\n",
       "      <td>NaN</td>\n",
       "      <td>NaN</td>\n",
       "      <td>NaN</td>\n",
       "      <td>2.502647</td>\n",
       "      <td>3.248248</td>\n",
       "      <td>-12.088328</td>\n",
       "      <td>0.287748</td>\n",
       "      <td>2.515969</td>\n",
       "      <td>4.715088</td>\n",
       "      <td>16.00379</td>\n",
       "    </tr>\n",
       "    <tr>\n",
       "      <th>product</th>\n",
       "      <td>100000.0</td>\n",
       "      <td>NaN</td>\n",
       "      <td>NaN</td>\n",
       "      <td>NaN</td>\n",
       "      <td>92.5</td>\n",
       "      <td>44.288691</td>\n",
       "      <td>0.0</td>\n",
       "      <td>56.497507</td>\n",
       "      <td>91.849972</td>\n",
       "      <td>128.564089</td>\n",
       "      <td>185.364347</td>\n",
       "    </tr>\n",
       "  </tbody>\n",
       "</table>\n",
       "</div>"
      ],
      "text/plain": [
       "            count unique    top freq      mean        std        min  \\\n",
       "id         100000  99990  TtcGQ    2       NaN        NaN        NaN   \n",
       "f0       100000.0    NaN    NaN  NaN  0.500419   0.871832  -1.408605   \n",
       "f1       100000.0    NaN    NaN  NaN  0.250143   0.504433  -0.848218   \n",
       "f2       100000.0    NaN    NaN  NaN  2.502647   3.248248 -12.088328   \n",
       "product  100000.0    NaN    NaN  NaN      92.5  44.288691        0.0   \n",
       "\n",
       "               25%        50%         75%         max  \n",
       "id             NaN        NaN         NaN         NaN  \n",
       "f0        -0.07258    0.50236    1.073581    2.362331  \n",
       "f1       -0.200881   0.250252    0.700646    1.343769  \n",
       "f2        0.287748   2.515969    4.715088    16.00379  \n",
       "product  56.497507  91.849972  128.564089  185.364347  "
      ]
     },
     "metadata": {},
     "output_type": "display_data"
    },
    {
     "name": "stdout",
     "output_type": "stream",
     "text": [
      "\n"
     ]
    },
    {
     "data": {
      "text/html": [
       "<div>\n",
       "<style scoped>\n",
       "    .dataframe tbody tr th:only-of-type {\n",
       "        vertical-align: middle;\n",
       "    }\n",
       "\n",
       "    .dataframe tbody tr th {\n",
       "        vertical-align: top;\n",
       "    }\n",
       "\n",
       "    .dataframe thead th {\n",
       "        text-align: right;\n",
       "    }\n",
       "</style>\n",
       "<table border=\"1\" class=\"dataframe\">\n",
       "  <thead>\n",
       "    <tr style=\"text-align: right;\">\n",
       "      <th></th>\n",
       "      <th>id</th>\n",
       "      <th>f0</th>\n",
       "      <th>f1</th>\n",
       "      <th>f2</th>\n",
       "      <th>product</th>\n",
       "    </tr>\n",
       "  </thead>\n",
       "  <tbody>\n",
       "    <tr>\n",
       "      <th>0</th>\n",
       "      <td>txEyH</td>\n",
       "      <td>0.705745</td>\n",
       "      <td>-0.497823</td>\n",
       "      <td>1.221170</td>\n",
       "      <td>105.280062</td>\n",
       "    </tr>\n",
       "    <tr>\n",
       "      <th>1</th>\n",
       "      <td>2acmU</td>\n",
       "      <td>1.334711</td>\n",
       "      <td>-0.340164</td>\n",
       "      <td>4.365080</td>\n",
       "      <td>73.037750</td>\n",
       "    </tr>\n",
       "    <tr>\n",
       "      <th>2</th>\n",
       "      <td>409Wp</td>\n",
       "      <td>1.022732</td>\n",
       "      <td>0.151990</td>\n",
       "      <td>1.419926</td>\n",
       "      <td>85.265647</td>\n",
       "    </tr>\n",
       "    <tr>\n",
       "      <th>3</th>\n",
       "      <td>iJLyR</td>\n",
       "      <td>-0.032172</td>\n",
       "      <td>0.139033</td>\n",
       "      <td>2.978566</td>\n",
       "      <td>168.620776</td>\n",
       "    </tr>\n",
       "    <tr>\n",
       "      <th>4</th>\n",
       "      <td>Xdl7t</td>\n",
       "      <td>1.988431</td>\n",
       "      <td>0.155413</td>\n",
       "      <td>4.751769</td>\n",
       "      <td>154.036647</td>\n",
       "    </tr>\n",
       "    <tr>\n",
       "      <th>5</th>\n",
       "      <td>wX4Hy</td>\n",
       "      <td>0.969570</td>\n",
       "      <td>0.489775</td>\n",
       "      <td>-0.735383</td>\n",
       "      <td>64.741541</td>\n",
       "    </tr>\n",
       "    <tr>\n",
       "      <th>6</th>\n",
       "      <td>tL6pL</td>\n",
       "      <td>0.645075</td>\n",
       "      <td>0.530656</td>\n",
       "      <td>1.780266</td>\n",
       "      <td>49.055285</td>\n",
       "    </tr>\n",
       "    <tr>\n",
       "      <th>7</th>\n",
       "      <td>BYPU6</td>\n",
       "      <td>-0.400648</td>\n",
       "      <td>0.808337</td>\n",
       "      <td>-5.624670</td>\n",
       "      <td>72.943292</td>\n",
       "    </tr>\n",
       "    <tr>\n",
       "      <th>8</th>\n",
       "      <td>j9Oui</td>\n",
       "      <td>0.643105</td>\n",
       "      <td>-0.551583</td>\n",
       "      <td>2.372141</td>\n",
       "      <td>113.356160</td>\n",
       "    </tr>\n",
       "    <tr>\n",
       "      <th>9</th>\n",
       "      <td>OLuZU</td>\n",
       "      <td>2.173381</td>\n",
       "      <td>0.563698</td>\n",
       "      <td>9.441852</td>\n",
       "      <td>127.910945</td>\n",
       "    </tr>\n",
       "  </tbody>\n",
       "</table>\n",
       "</div>"
      ],
      "text/plain": [
       "      id        f0        f1        f2     product\n",
       "0  txEyH  0.705745 -0.497823  1.221170  105.280062\n",
       "1  2acmU  1.334711 -0.340164  4.365080   73.037750\n",
       "2  409Wp  1.022732  0.151990  1.419926   85.265647\n",
       "3  iJLyR -0.032172  0.139033  2.978566  168.620776\n",
       "4  Xdl7t  1.988431  0.155413  4.751769  154.036647\n",
       "5  wX4Hy  0.969570  0.489775 -0.735383   64.741541\n",
       "6  tL6pL  0.645075  0.530656  1.780266   49.055285\n",
       "7  BYPU6 -0.400648  0.808337 -5.624670   72.943292\n",
       "8  j9Oui  0.643105 -0.551583  2.372141  113.356160\n",
       "9  OLuZU  2.173381  0.563698  9.441852  127.910945"
      ]
     },
     "metadata": {},
     "output_type": "display_data"
    },
    {
     "name": "stdout",
     "output_type": "stream",
     "text": [
      "\n"
     ]
    },
    {
     "data": {
      "image/png": "[encoded data removed]",
      "text/plain": [
       "<Figure size 720x720 with 4 Axes>"
      ]
     },
     "metadata": {
      "needs_background": "light"
     },
     "output_type": "display_data"
    },
    {
     "data": {
      "image/png": "[encoded data removed]",
      "text/plain": [
       "<Figure size 432x288 with 2 Axes>"
      ]
     },
     "metadata": {
      "needs_background": "light"
     },
     "output_type": "display_data"
    }
   ],
   "source": [
    "analyze_dataset(data_one, 'Первый регион')"
   ]
  },
  {
   "cell_type": "markdown",
   "metadata": {},
   "source": [
    "Посмотрим данные второго региона"
   ]
  },
  {
   "cell_type": "code",
   "execution_count": 5,
   "metadata": {
    "scrolled": true
   },
   "outputs": [
    {
     "name": "stdout",
     "output_type": "stream",
     "text": [
      "Второй регион состоит из:  100000 строк и  5 столбцов\n",
      "Количество дубликатов: 0\n",
      "\n",
      "<class 'pandas.core.frame.DataFrame'>\n",
      "RangeIndex: 100000 entries, 0 to 99999\n",
      "Data columns (total 5 columns):\n",
      " #   Column   Non-Null Count   Dtype  \n",
      "---  ------   --------------   -----  \n",
      " 0   id       100000 non-null  object \n",
      " 1   f0       100000 non-null  float64\n",
      " 2   f1       100000 non-null  float64\n",
      " 3   f2       100000 non-null  float64\n",
      " 4   product  100000 non-null  float64\n",
      "dtypes: float64(4), object(1)\n",
      "memory usage: 3.8+ MB\n",
      "None\n",
      "\n"
     ]
    },
    {
     "data": {
      "text/html": [
       "<div>\n",
       "<style scoped>\n",
       "    .dataframe tbody tr th:only-of-type {\n",
       "        vertical-align: middle;\n",
       "    }\n",
       "\n",
       "    .dataframe tbody tr th {\n",
       "        vertical-align: top;\n",
       "    }\n",
       "\n",
       "    .dataframe thead th {\n",
       "        text-align: right;\n",
       "    }\n",
       "</style>\n",
       "<table border=\"1\" class=\"dataframe\">\n",
       "  <thead>\n",
       "    <tr style=\"text-align: right;\">\n",
       "      <th></th>\n",
       "      <th>count</th>\n",
       "      <th>unique</th>\n",
       "      <th>top</th>\n",
       "      <th>freq</th>\n",
       "      <th>mean</th>\n",
       "      <th>std</th>\n",
       "      <th>min</th>\n",
       "      <th>25%</th>\n",
       "      <th>50%</th>\n",
       "      <th>75%</th>\n",
       "      <th>max</th>\n",
       "    </tr>\n",
       "  </thead>\n",
       "  <tbody>\n",
       "    <tr>\n",
       "      <th>id</th>\n",
       "      <td>100000</td>\n",
       "      <td>99996</td>\n",
       "      <td>LHZR0</td>\n",
       "      <td>2</td>\n",
       "      <td>NaN</td>\n",
       "      <td>NaN</td>\n",
       "      <td>NaN</td>\n",
       "      <td>NaN</td>\n",
       "      <td>NaN</td>\n",
       "      <td>NaN</td>\n",
       "      <td>NaN</td>\n",
       "    </tr>\n",
       "    <tr>\n",
       "      <th>f0</th>\n",
       "      <td>100000.0</td>\n",
       "      <td>NaN</td>\n",
       "      <td>NaN</td>\n",
       "      <td>NaN</td>\n",
       "      <td>1.141296</td>\n",
       "      <td>8.965932</td>\n",
       "      <td>-31.609576</td>\n",
       "      <td>-6.298551</td>\n",
       "      <td>1.153055</td>\n",
       "      <td>8.621015</td>\n",
       "      <td>29.421755</td>\n",
       "    </tr>\n",
       "    <tr>\n",
       "      <th>f1</th>\n",
       "      <td>100000.0</td>\n",
       "      <td>NaN</td>\n",
       "      <td>NaN</td>\n",
       "      <td>NaN</td>\n",
       "      <td>-4.796579</td>\n",
       "      <td>5.119872</td>\n",
       "      <td>-26.358598</td>\n",
       "      <td>-8.267985</td>\n",
       "      <td>-4.813172</td>\n",
       "      <td>-1.332816</td>\n",
       "      <td>18.734063</td>\n",
       "    </tr>\n",
       "    <tr>\n",
       "      <th>f2</th>\n",
       "      <td>100000.0</td>\n",
       "      <td>NaN</td>\n",
       "      <td>NaN</td>\n",
       "      <td>NaN</td>\n",
       "      <td>2.494541</td>\n",
       "      <td>1.703572</td>\n",
       "      <td>-0.018144</td>\n",
       "      <td>1.000021</td>\n",
       "      <td>2.011479</td>\n",
       "      <td>3.999904</td>\n",
       "      <td>5.019721</td>\n",
       "    </tr>\n",
       "    <tr>\n",
       "      <th>product</th>\n",
       "      <td>100000.0</td>\n",
       "      <td>NaN</td>\n",
       "      <td>NaN</td>\n",
       "      <td>NaN</td>\n",
       "      <td>68.825</td>\n",
       "      <td>45.944423</td>\n",
       "      <td>0.0</td>\n",
       "      <td>26.953261</td>\n",
       "      <td>57.085625</td>\n",
       "      <td>107.813044</td>\n",
       "      <td>137.945408</td>\n",
       "    </tr>\n",
       "  </tbody>\n",
       "</table>\n",
       "</div>"
      ],
      "text/plain": [
       "            count unique    top freq      mean        std        min  \\\n",
       "id         100000  99996  LHZR0    2       NaN        NaN        NaN   \n",
       "f0       100000.0    NaN    NaN  NaN  1.141296   8.965932 -31.609576   \n",
       "f1       100000.0    NaN    NaN  NaN -4.796579   5.119872 -26.358598   \n",
       "f2       100000.0    NaN    NaN  NaN  2.494541   1.703572  -0.018144   \n",
       "product  100000.0    NaN    NaN  NaN    68.825  45.944423        0.0   \n",
       "\n",
       "               25%        50%         75%         max  \n",
       "id             NaN        NaN         NaN         NaN  \n",
       "f0       -6.298551   1.153055    8.621015   29.421755  \n",
       "f1       -8.267985  -4.813172   -1.332816   18.734063  \n",
       "f2        1.000021   2.011479    3.999904    5.019721  \n",
       "product  26.953261  57.085625  107.813044  137.945408  "
      ]
     },
     "metadata": {},
     "output_type": "display_data"
    },
    {
     "name": "stdout",
     "output_type": "stream",
     "text": [
      "\n"
     ]
    },
    {
     "data": {
      "text/html": [
       "<div>\n",
       "<style scoped>\n",
       "    .dataframe tbody tr th:only-of-type {\n",
       "        vertical-align: middle;\n",
       "    }\n",
       "\n",
       "    .dataframe tbody tr th {\n",
       "        vertical-align: top;\n",
       "    }\n",
       "\n",
       "    .dataframe thead th {\n",
       "        text-align: right;\n",
       "    }\n",
       "</style>\n",
       "<table border=\"1\" class=\"dataframe\">\n",
       "  <thead>\n",
       "    <tr style=\"text-align: right;\">\n",
       "      <th></th>\n",
       "      <th>id</th>\n",
       "      <th>f0</th>\n",
       "      <th>f1</th>\n",
       "      <th>f2</th>\n",
       "      <th>product</th>\n",
       "    </tr>\n",
       "  </thead>\n",
       "  <tbody>\n",
       "    <tr>\n",
       "      <th>0</th>\n",
       "      <td>kBEdx</td>\n",
       "      <td>-15.001348</td>\n",
       "      <td>-8.276000</td>\n",
       "      <td>-0.005876</td>\n",
       "      <td>3.179103</td>\n",
       "    </tr>\n",
       "    <tr>\n",
       "      <th>1</th>\n",
       "      <td>62mP7</td>\n",
       "      <td>14.272088</td>\n",
       "      <td>-3.475083</td>\n",
       "      <td>0.999183</td>\n",
       "      <td>26.953261</td>\n",
       "    </tr>\n",
       "    <tr>\n",
       "      <th>2</th>\n",
       "      <td>vyE1P</td>\n",
       "      <td>6.263187</td>\n",
       "      <td>-5.948386</td>\n",
       "      <td>5.001160</td>\n",
       "      <td>134.766305</td>\n",
       "    </tr>\n",
       "    <tr>\n",
       "      <th>3</th>\n",
       "      <td>KcrkZ</td>\n",
       "      <td>-13.081196</td>\n",
       "      <td>-11.506057</td>\n",
       "      <td>4.999415</td>\n",
       "      <td>137.945408</td>\n",
       "    </tr>\n",
       "    <tr>\n",
       "      <th>4</th>\n",
       "      <td>AHL4O</td>\n",
       "      <td>12.702195</td>\n",
       "      <td>-8.147433</td>\n",
       "      <td>5.004363</td>\n",
       "      <td>134.766305</td>\n",
       "    </tr>\n",
       "    <tr>\n",
       "      <th>5</th>\n",
       "      <td>HHckp</td>\n",
       "      <td>-3.327590</td>\n",
       "      <td>-2.205276</td>\n",
       "      <td>3.003647</td>\n",
       "      <td>84.038886</td>\n",
       "    </tr>\n",
       "    <tr>\n",
       "      <th>6</th>\n",
       "      <td>h5Ujo</td>\n",
       "      <td>-11.142655</td>\n",
       "      <td>-10.133399</td>\n",
       "      <td>4.002382</td>\n",
       "      <td>110.992147</td>\n",
       "    </tr>\n",
       "    <tr>\n",
       "      <th>7</th>\n",
       "      <td>muH9x</td>\n",
       "      <td>4.234715</td>\n",
       "      <td>-0.001354</td>\n",
       "      <td>2.004588</td>\n",
       "      <td>53.906522</td>\n",
       "    </tr>\n",
       "    <tr>\n",
       "      <th>8</th>\n",
       "      <td>YiRkx</td>\n",
       "      <td>13.355129</td>\n",
       "      <td>-0.332068</td>\n",
       "      <td>4.998647</td>\n",
       "      <td>134.766305</td>\n",
       "    </tr>\n",
       "    <tr>\n",
       "      <th>9</th>\n",
       "      <td>jG6Gi</td>\n",
       "      <td>1.069227</td>\n",
       "      <td>-11.025667</td>\n",
       "      <td>4.997844</td>\n",
       "      <td>137.945408</td>\n",
       "    </tr>\n",
       "  </tbody>\n",
       "</table>\n",
       "</div>"
      ],
      "text/plain": [
       "      id         f0         f1        f2     product\n",
       "0  kBEdx -15.001348  -8.276000 -0.005876    3.179103\n",
       "1  62mP7  14.272088  -3.475083  0.999183   26.953261\n",
       "2  vyE1P   6.263187  -5.948386  5.001160  134.766305\n",
       "3  KcrkZ -13.081196 -11.506057  4.999415  137.945408\n",
       "4  AHL4O  12.702195  -8.147433  5.004363  134.766305\n",
       "5  HHckp  -3.327590  -2.205276  3.003647   84.038886\n",
       "6  h5Ujo -11.142655 -10.133399  4.002382  110.992147\n",
       "7  muH9x   4.234715  -0.001354  2.004588   53.906522\n",
       "8  YiRkx  13.355129  -0.332068  4.998647  134.766305\n",
       "9  jG6Gi   1.069227 -11.025667  4.997844  137.945408"
      ]
     },
     "metadata": {},
     "output_type": "display_data"
    },
    {
     "name": "stdout",
     "output_type": "stream",
     "text": [
      "\n"
     ]
    },
    {
     "data": {
      "image/png": "[encoded data removed]",
      "text/plain": [
       "<Figure size 720x720 with 4 Axes>"
      ]
     },
     "metadata": {
      "needs_background": "light"
     },
     "output_type": "display_data"
    },
    {
     "data": {
      "image/png": "[encoded data removed]",
      "text/plain": [
       "<Figure size 432x288 with 2 Axes>"
      ]
     },
     "metadata": {
      "needs_background": "light"
     },
     "output_type": "display_data"
    }
   ],
   "source": [
    "analyze_dataset(data_two, 'Второй регион')"
   ]
  },
  {
   "cell_type": "markdown",
   "metadata": {},
   "source": [
    "Посмотрим данные третьего региона"
   ]
  },
  {
   "cell_type": "code",
   "execution_count": 6,
   "metadata": {
    "scrolled": true
   },
   "outputs": [
    {
     "name": "stdout",
     "output_type": "stream",
     "text": [
      "Третий регион состоит из:  100000 строк и  5 столбцов\n",
      "Количество дубликатов: 0\n",
      "\n",
      "<class 'pandas.core.frame.DataFrame'>\n",
      "RangeIndex: 100000 entries, 0 to 99999\n",
      "Data columns (total 5 columns):\n",
      " #   Column   Non-Null Count   Dtype  \n",
      "---  ------   --------------   -----  \n",
      " 0   id       100000 non-null  object \n",
      " 1   f0       100000 non-null  float64\n",
      " 2   f1       100000 non-null  float64\n",
      " 3   f2       100000 non-null  float64\n",
      " 4   product  100000 non-null  float64\n",
      "dtypes: float64(4), object(1)\n",
      "memory usage: 3.8+ MB\n",
      "None\n",
      "\n"
     ]
    },
    {
     "data": {
      "text/html": [
       "<div>\n",
       "<style scoped>\n",
       "    .dataframe tbody tr th:only-of-type {\n",
       "        vertical-align: middle;\n",
       "    }\n",
       "\n",
       "    .dataframe tbody tr th {\n",
       "        vertical-align: top;\n",
       "    }\n",
       "\n",
       "    .dataframe thead th {\n",
       "        text-align: right;\n",
       "    }\n",
       "</style>\n",
       "<table border=\"1\" class=\"dataframe\">\n",
       "  <thead>\n",
       "    <tr style=\"text-align: right;\">\n",
       "      <th></th>\n",
       "      <th>count</th>\n",
       "      <th>unique</th>\n",
       "      <th>top</th>\n",
       "      <th>freq</th>\n",
       "      <th>mean</th>\n",
       "      <th>std</th>\n",
       "      <th>min</th>\n",
       "      <th>25%</th>\n",
       "      <th>50%</th>\n",
       "      <th>75%</th>\n",
       "      <th>max</th>\n",
       "    </tr>\n",
       "  </thead>\n",
       "  <tbody>\n",
       "    <tr>\n",
       "      <th>id</th>\n",
       "      <td>100000</td>\n",
       "      <td>99996</td>\n",
       "      <td>KUPhW</td>\n",
       "      <td>2</td>\n",
       "      <td>NaN</td>\n",
       "      <td>NaN</td>\n",
       "      <td>NaN</td>\n",
       "      <td>NaN</td>\n",
       "      <td>NaN</td>\n",
       "      <td>NaN</td>\n",
       "      <td>NaN</td>\n",
       "    </tr>\n",
       "    <tr>\n",
       "      <th>f0</th>\n",
       "      <td>100000.0</td>\n",
       "      <td>NaN</td>\n",
       "      <td>NaN</td>\n",
       "      <td>NaN</td>\n",
       "      <td>0.002023</td>\n",
       "      <td>1.732045</td>\n",
       "      <td>-8.760004</td>\n",
       "      <td>-1.162288</td>\n",
       "      <td>0.009424</td>\n",
       "      <td>1.158535</td>\n",
       "      <td>7.238262</td>\n",
       "    </tr>\n",
       "    <tr>\n",
       "      <th>f1</th>\n",
       "      <td>100000.0</td>\n",
       "      <td>NaN</td>\n",
       "      <td>NaN</td>\n",
       "      <td>NaN</td>\n",
       "      <td>-0.002081</td>\n",
       "      <td>1.730417</td>\n",
       "      <td>-7.08402</td>\n",
       "      <td>-1.17482</td>\n",
       "      <td>-0.009482</td>\n",
       "      <td>1.163678</td>\n",
       "      <td>7.844801</td>\n",
       "    </tr>\n",
       "    <tr>\n",
       "      <th>f2</th>\n",
       "      <td>100000.0</td>\n",
       "      <td>NaN</td>\n",
       "      <td>NaN</td>\n",
       "      <td>NaN</td>\n",
       "      <td>2.495128</td>\n",
       "      <td>3.473445</td>\n",
       "      <td>-11.970335</td>\n",
       "      <td>0.130359</td>\n",
       "      <td>2.484236</td>\n",
       "      <td>4.858794</td>\n",
       "      <td>16.739402</td>\n",
       "    </tr>\n",
       "    <tr>\n",
       "      <th>product</th>\n",
       "      <td>100000.0</td>\n",
       "      <td>NaN</td>\n",
       "      <td>NaN</td>\n",
       "      <td>NaN</td>\n",
       "      <td>95.0</td>\n",
       "      <td>44.749921</td>\n",
       "      <td>0.0</td>\n",
       "      <td>59.450441</td>\n",
       "      <td>94.925613</td>\n",
       "      <td>130.595027</td>\n",
       "      <td>190.029838</td>\n",
       "    </tr>\n",
       "  </tbody>\n",
       "</table>\n",
       "</div>"
      ],
      "text/plain": [
       "            count unique    top freq      mean        std        min  \\\n",
       "id         100000  99996  KUPhW    2       NaN        NaN        NaN   \n",
       "f0       100000.0    NaN    NaN  NaN  0.002023   1.732045  -8.760004   \n",
       "f1       100000.0    NaN    NaN  NaN -0.002081   1.730417   -7.08402   \n",
       "f2       100000.0    NaN    NaN  NaN  2.495128   3.473445 -11.970335   \n",
       "product  100000.0    NaN    NaN  NaN      95.0  44.749921        0.0   \n",
       "\n",
       "               25%        50%         75%         max  \n",
       "id             NaN        NaN         NaN         NaN  \n",
       "f0       -1.162288   0.009424    1.158535    7.238262  \n",
       "f1        -1.17482  -0.009482    1.163678    7.844801  \n",
       "f2        0.130359   2.484236    4.858794   16.739402  \n",
       "product  59.450441  94.925613  130.595027  190.029838  "
      ]
     },
     "metadata": {},
     "output_type": "display_data"
    },
    {
     "name": "stdout",
     "output_type": "stream",
     "text": [
      "\n"
     ]
    },
    {
     "data": {
      "text/html": [
       "<div>\n",
       "<style scoped>\n",
       "    .dataframe tbody tr th:only-of-type {\n",
       "        vertical-align: middle;\n",
       "    }\n",
       "\n",
       "    .dataframe tbody tr th {\n",
       "        vertical-align: top;\n",
       "    }\n",
       "\n",
       "    .dataframe thead th {\n",
       "        text-align: right;\n",
       "    }\n",
       "</style>\n",
       "<table border=\"1\" class=\"dataframe\">\n",
       "  <thead>\n",
       "    <tr style=\"text-align: right;\">\n",
       "      <th></th>\n",
       "      <th>id</th>\n",
       "      <th>f0</th>\n",
       "      <th>f1</th>\n",
       "      <th>f2</th>\n",
       "      <th>product</th>\n",
       "    </tr>\n",
       "  </thead>\n",
       "  <tbody>\n",
       "    <tr>\n",
       "      <th>0</th>\n",
       "      <td>fwXo0</td>\n",
       "      <td>-1.146987</td>\n",
       "      <td>0.963328</td>\n",
       "      <td>-0.828965</td>\n",
       "      <td>27.758673</td>\n",
       "    </tr>\n",
       "    <tr>\n",
       "      <th>1</th>\n",
       "      <td>WJtFt</td>\n",
       "      <td>0.262778</td>\n",
       "      <td>0.269839</td>\n",
       "      <td>-2.530187</td>\n",
       "      <td>56.069697</td>\n",
       "    </tr>\n",
       "    <tr>\n",
       "      <th>2</th>\n",
       "      <td>ovLUW</td>\n",
       "      <td>0.194587</td>\n",
       "      <td>0.289035</td>\n",
       "      <td>-5.586433</td>\n",
       "      <td>62.871910</td>\n",
       "    </tr>\n",
       "    <tr>\n",
       "      <th>3</th>\n",
       "      <td>q6cA6</td>\n",
       "      <td>2.236060</td>\n",
       "      <td>-0.553760</td>\n",
       "      <td>0.930038</td>\n",
       "      <td>114.572842</td>\n",
       "    </tr>\n",
       "    <tr>\n",
       "      <th>4</th>\n",
       "      <td>WPMUX</td>\n",
       "      <td>-0.515993</td>\n",
       "      <td>1.716266</td>\n",
       "      <td>5.899011</td>\n",
       "      <td>149.600746</td>\n",
       "    </tr>\n",
       "    <tr>\n",
       "      <th>5</th>\n",
       "      <td>LzZXx</td>\n",
       "      <td>-0.758092</td>\n",
       "      <td>0.710691</td>\n",
       "      <td>2.585887</td>\n",
       "      <td>90.222465</td>\n",
       "    </tr>\n",
       "    <tr>\n",
       "      <th>6</th>\n",
       "      <td>WBHRv</td>\n",
       "      <td>-0.574891</td>\n",
       "      <td>0.317727</td>\n",
       "      <td>1.773745</td>\n",
       "      <td>45.641478</td>\n",
       "    </tr>\n",
       "    <tr>\n",
       "      <th>7</th>\n",
       "      <td>XO8fn</td>\n",
       "      <td>-1.906649</td>\n",
       "      <td>-2.458350</td>\n",
       "      <td>-0.177097</td>\n",
       "      <td>72.480640</td>\n",
       "    </tr>\n",
       "    <tr>\n",
       "      <th>8</th>\n",
       "      <td>ybmQ5</td>\n",
       "      <td>1.776292</td>\n",
       "      <td>-0.279356</td>\n",
       "      <td>3.004156</td>\n",
       "      <td>106.616832</td>\n",
       "    </tr>\n",
       "    <tr>\n",
       "      <th>9</th>\n",
       "      <td>OilcN</td>\n",
       "      <td>-1.214452</td>\n",
       "      <td>-0.439314</td>\n",
       "      <td>5.922514</td>\n",
       "      <td>52.954532</td>\n",
       "    </tr>\n",
       "  </tbody>\n",
       "</table>\n",
       "</div>"
      ],
      "text/plain": [
       "      id        f0        f1        f2     product\n",
       "0  fwXo0 -1.146987  0.963328 -0.828965   27.758673\n",
       "1  WJtFt  0.262778  0.269839 -2.530187   56.069697\n",
       "2  ovLUW  0.194587  0.289035 -5.586433   62.871910\n",
       "3  q6cA6  2.236060 -0.553760  0.930038  114.572842\n",
       "4  WPMUX -0.515993  1.716266  5.899011  149.600746\n",
       "5  LzZXx -0.758092  0.710691  2.585887   90.222465\n",
       "6  WBHRv -0.574891  0.317727  1.773745   45.641478\n",
       "7  XO8fn -1.906649 -2.458350 -0.177097   72.480640\n",
       "8  ybmQ5  1.776292 -0.279356  3.004156  106.616832\n",
       "9  OilcN -1.214452 -0.439314  5.922514   52.954532"
      ]
     },
     "metadata": {},
     "output_type": "display_data"
    },
    {
     "name": "stdout",
     "output_type": "stream",
     "text": [
      "\n"
     ]
    },
    {
     "data": {
      "image/png": "[encoded data removed]",
      "text/plain": [
       "<Figure size 720x720 with 4 Axes>"
      ]
     },
     "metadata": {
      "needs_background": "light"
     },
     "output_type": "display_data"
    },
    {
     "data": {
      "image/png": "[encoded data removed]",
      "text/plain": [
       "<Figure size 432x288 with 2 Axes>"
      ]
     },
     "metadata": {
      "needs_background": "light"
     },
     "output_type": "display_data"
    }
   ],
   "source": [
    "analyze_dataset(data_three, 'Третий регион')"
   ]
  },
  {
   "cell_type": "markdown",
   "metadata": {},
   "source": [
    "### Выводы"
   ]
  },
  {
   "cell_type": "markdown",
   "metadata": {},
   "source": [
    "Исходя из полученной информации можно сделать следующие выводы:\n",
    "<br>\n",
    "1. Данные всех трех выборок структурированы одинаково, имеют идентичное количество строк и столбцов\n",
    "2. В данных отсутствуют пропуски и дубликаты\n",
    "3. Нам не требуется применять порядковое кодирование т.к. признаки уже являются численными\n",
    "<br>\n",
    "<br>\n",
    "id — уникальный идентификатор скважины;\n",
    "<br>\n",
    "f0, f1, f2 — три признака точек (неважно, что они означают, но сами признаки значимы);\n",
    "<br>\n",
    "product — объём запасов в скважине (тыс. баррелей)."
   ]
  },
  {
   "cell_type": "markdown",
   "metadata": {},
   "source": [
    "## Обучение и проверка модели"
   ]
  },
  {
   "cell_type": "markdown",
   "metadata": {},
   "source": [
    "### Разобьем данные на обучающую и валидационную выборки в соотношении 75:25"
   ]
  },
  {
   "cell_type": "markdown",
   "metadata": {},
   "source": [
    "Будем использовать встроенную функцию <b>train_test_split</b> модуля <b>sklearn.model_selection</b> для разделения данных каждого региона на обучающую и валидационную выборки в соотношении 75:25"
   ]
  },
  {
   "cell_type": "code",
   "execution_count": 7,
   "metadata": {},
   "outputs": [],
   "source": [
    "def split_data(data):\n",
    "    data_train, data_valid = train_test_split(data, test_size=.25, random_state=12345)\n",
    "    \n",
    "    features_train = data_train.drop(['id', 'product'], axis = 1)\n",
    "    target_train = data_train['product']\n",
    "    features_valid = data_valid.drop(['id', 'product'], axis = 1)\n",
    "    target_valid = data_valid['product']\n",
    "    \n",
    "    numeric = ['f0', 'f1', 'f2']\n",
    "    scaler = StandardScaler()\n",
    "    scaler.fit(features_train[numeric])\n",
    "    features_train[numeric] = scaler.transform(features_train[numeric])\n",
    "    features_valid[numeric] = scaler.transform(features_valid[numeric])\n",
    "    \n",
    "    print('Исходные данные', data.shape)\n",
    "    print('')\n",
    "    print('Train:', data_train.shape, ' - ', \"{:.0%}\".format(data_train.shape[0] / data.shape[0]))\n",
    "    print('Valid:', data_valid.shape, ' - ', \"{:.0%}\".format(data_valid.shape[0] / data.shape[0]))\n",
    "    \n",
    "    return features_train, target_train, features_valid, target_valid"
   ]
  },
  {
   "cell_type": "markdown",
   "metadata": {},
   "source": [
    "#### Первый регион"
   ]
  },
  {
   "cell_type": "code",
   "execution_count": 8,
   "metadata": {},
   "outputs": [],
   "source": [
    "#data_one_train, data_one_valid = train_test_split(data_one, test_size=.25, random_state=12345)"
   ]
  },
  {
   "cell_type": "markdown",
   "metadata": {},
   "source": [
    "Проверим как разделились данные"
   ]
  },
  {
   "cell_type": "code",
   "execution_count": 9,
   "metadata": {
    "scrolled": true
   },
   "outputs": [],
   "source": [
    "#print('Исходные данные', data_one.shape)\n",
    "#print('')\n",
    "#print('Train:', data_one_train.shape, ' - ', \"{:.0%}\".format(data_one_train.shape[0] / data_one.shape[0]))\n",
    "#print('Valid:', data_one_valid.shape, ' - ', \"{:.0%}\".format(data_one_valid.shape[0] / data_one.shape[0]))"
   ]
  },
  {
   "cell_type": "markdown",
   "metadata": {},
   "source": [
    "Выделим целевой признак и признаки для обучения для первого региона.\n",
    "<br>\n",
    "<br>\n",
    "<b>product</b> является целевый признаком\n",
    "<br>\n",
    "<b>id</b> является лишним, поэтому от него избавимся"
   ]
  },
  {
   "cell_type": "code",
   "execution_count": 10,
   "metadata": {},
   "outputs": [],
   "source": [
    "#features_one_train = data_one_train.drop(['id', 'product'], axis = 1)\n",
    "#target_one_train = data_one_train['product']\n",
    "#features_one_valid = data_one_valid.drop(['id', 'product'], axis = 1)\n",
    "#target_one_valid = data_one_valid['product']"
   ]
  },
  {
   "cell_type": "markdown",
   "metadata": {},
   "source": [
    "<div class=\"alert alert-info\">\n",
    "Воспользуемся функцией\n",
    "</div>"
   ]
  },
  {
   "cell_type": "code",
   "execution_count": 11,
   "metadata": {},
   "outputs": [
    {
     "name": "stdout",
     "output_type": "stream",
     "text": [
      "Исходные данные (100000, 5)\n",
      "\n",
      "Train: (75000, 5)  -  75%\n",
      "Valid: (25000, 5)  -  25%\n"
     ]
    }
   ],
   "source": [
    "features_one_train, target_one_train, features_one_valid, target_one_valid = split_data(data_one)"
   ]
  },
  {
   "cell_type": "markdown",
   "metadata": {},
   "source": [
    "#### Второй регион"
   ]
  },
  {
   "cell_type": "code",
   "execution_count": 12,
   "metadata": {},
   "outputs": [],
   "source": [
    "#data_two_train, data_two_valid = train_test_split(data_two, test_size=.25, random_state=12345)"
   ]
  },
  {
   "cell_type": "markdown",
   "metadata": {},
   "source": [
    "Проверим как разделились данные"
   ]
  },
  {
   "cell_type": "code",
   "execution_count": 13,
   "metadata": {
    "scrolled": true
   },
   "outputs": [],
   "source": [
    "#print('Исходные данные', data_two.shape)\n",
    "#print('')\n",
    "#print('Train:', data_two_train.shape, ' - ', \"{:.0%}\".format(data_two_train.shape[0] / data_two.shape[0]))\n",
    "#print('Valid:', data_two_valid.shape, ' - ', \"{:.0%}\".format(data_two_valid.shape[0] / data_two.shape[0]))"
   ]
  },
  {
   "cell_type": "markdown",
   "metadata": {},
   "source": [
    "Выделим целевой признак и признаки для обучения для второго региона.\n",
    "<br>\n",
    "<br>\n",
    "<b>product</b> является целевый признаком\n",
    "<br>\n",
    "<b>id</b> является лишним, поэтому от него избавимся"
   ]
  },
  {
   "cell_type": "code",
   "execution_count": 14,
   "metadata": {},
   "outputs": [],
   "source": [
    "#features_two_train = data_two_train.drop(['id', 'product'], axis = 1)\n",
    "#target_two_train = data_two_train['product']\n",
    "#features_two_valid = data_two_valid.drop(['id', 'product'], axis = 1)\n",
    "#target_two_valid = data_two_valid['product']"
   ]
  },
  {
   "cell_type": "markdown",
   "metadata": {},
   "source": [
    "<div class=\"alert alert-info\">\n",
    "Воспользуемся функцией\n",
    "</div>"
   ]
  },
  {
   "cell_type": "code",
   "execution_count": 15,
   "metadata": {},
   "outputs": [
    {
     "name": "stdout",
     "output_type": "stream",
     "text": [
      "Исходные данные (100000, 5)\n",
      "\n",
      "Train: (75000, 5)  -  75%\n",
      "Valid: (25000, 5)  -  25%\n"
     ]
    }
   ],
   "source": [
    "features_two_train, target_two_train, features_two_valid, target_two_valid = split_data(data_two)"
   ]
  },
  {
   "cell_type": "markdown",
   "metadata": {},
   "source": [
    "#### Третий регион"
   ]
  },
  {
   "cell_type": "code",
   "execution_count": 16,
   "metadata": {},
   "outputs": [],
   "source": [
    "#data_three_train, data_three_valid = train_test_split(data_three, test_size=.25, random_state=12345)"
   ]
  },
  {
   "cell_type": "markdown",
   "metadata": {},
   "source": [
    "Проверим как разделились данные"
   ]
  },
  {
   "cell_type": "code",
   "execution_count": 17,
   "metadata": {
    "scrolled": true
   },
   "outputs": [],
   "source": [
    "#print('Исходные данные', data_three.shape)\n",
    "#print('')\n",
    "#print('Train:', data_three_train.shape, ' - ', \"{:.0%}\".format(data_three_train.shape[0] / data_three.shape[0]))\n",
    "#print('Valid:', data_three_valid.shape, ' - ', \"{:.0%}\".format(data_three_valid.shape[0] / data_three.shape[0]))"
   ]
  },
  {
   "cell_type": "markdown",
   "metadata": {},
   "source": [
    "Выделим целевой признак и признаки для обучения для третьего региона.\n",
    "<br>\n",
    "<br>\n",
    "<b>product</b> является целевый признаком\n",
    "<br>\n",
    "<b>id</b> является лишним, поэтому от него избавимся"
   ]
  },
  {
   "cell_type": "code",
   "execution_count": 18,
   "metadata": {},
   "outputs": [],
   "source": [
    "#features_three_train = data_three_train.drop(['id', 'product'], axis = 1)\n",
    "#target_three_train = data_three_train['product']\n",
    "#features_three_valid = data_three_valid.drop(['id', 'product'], axis = 1)\n",
    "#target_three_valid = data_three_valid['product']"
   ]
  },
  {
   "cell_type": "markdown",
   "metadata": {},
   "source": [
    "<div class=\"alert alert-info\">\n",
    "Воспользуемся функцией\n",
    "</div>"
   ]
  },
  {
   "cell_type": "code",
   "execution_count": 19,
   "metadata": {},
   "outputs": [
    {
     "name": "stdout",
     "output_type": "stream",
     "text": [
      "Исходные данные (100000, 5)\n",
      "\n",
      "Train: (75000, 5)  -  75%\n",
      "Valid: (25000, 5)  -  25%\n"
     ]
    }
   ],
   "source": [
    "features_three_train, target_three_train, features_three_valid, target_three_valid = split_data(data_three)"
   ]
  },
  {
   "cell_type": "markdown",
   "metadata": {},
   "source": [
    "### Обучим модель и сделаем предсказания на валидационной выборке."
   ]
  },
  {
   "cell_type": "markdown",
   "metadata": {},
   "source": [
    "Для обучения модели подходит только линейная регрессия (остальные — недостаточно предсказуемые).\n",
    "<br>\n",
    "Обучим модели"
   ]
  },
  {
   "cell_type": "markdown",
   "metadata": {},
   "source": [
    "#### Первый регион"
   ]
  },
  {
   "cell_type": "code",
   "execution_count": 20,
   "metadata": {},
   "outputs": [
    {
     "data": {
      "text/plain": [
       "LinearRegression()"
      ]
     },
     "execution_count": 20,
     "metadata": {},
     "output_type": "execute_result"
    }
   ],
   "source": [
    "model_one = LinearRegression()\n",
    "model_one.fit(features_one_train, target_one_train)"
   ]
  },
  {
   "cell_type": "markdown",
   "metadata": {},
   "source": [
    "#### Второй регион"
   ]
  },
  {
   "cell_type": "code",
   "execution_count": 21,
   "metadata": {},
   "outputs": [
    {
     "data": {
      "text/plain": [
       "LinearRegression()"
      ]
     },
     "execution_count": 21,
     "metadata": {},
     "output_type": "execute_result"
    }
   ],
   "source": [
    "model_two = LinearRegression()\n",
    "model_two.fit(features_two_train, target_two_train)"
   ]
  },
  {
   "cell_type": "markdown",
   "metadata": {},
   "source": [
    "#### Третий регион"
   ]
  },
  {
   "cell_type": "code",
   "execution_count": 22,
   "metadata": {},
   "outputs": [
    {
     "data": {
      "text/plain": [
       "LinearRegression()"
      ]
     },
     "execution_count": 22,
     "metadata": {},
     "output_type": "execute_result"
    }
   ],
   "source": [
    "model_three = LinearRegression()\n",
    "model_three.fit(features_three_train, target_three_train)"
   ]
  },
  {
   "cell_type": "markdown",
   "metadata": {},
   "source": [
    "### Сохраним предсказания и правильные ответы на валидационной выборке."
   ]
  },
  {
   "cell_type": "markdown",
   "metadata": {},
   "source": [
    "#### Первый регион"
   ]
  },
  {
   "cell_type": "code",
   "execution_count": 23,
   "metadata": {},
   "outputs": [],
   "source": [
    "predictions_one_valid = model_one.predict(features_one_valid)"
   ]
  },
  {
   "cell_type": "markdown",
   "metadata": {},
   "source": [
    "#### Второй регион"
   ]
  },
  {
   "cell_type": "code",
   "execution_count": 24,
   "metadata": {},
   "outputs": [],
   "source": [
    "predictions_two_valid = model_two.predict(features_two_valid)"
   ]
  },
  {
   "cell_type": "markdown",
   "metadata": {},
   "source": [
    "#### Третий регион"
   ]
  },
  {
   "cell_type": "code",
   "execution_count": 25,
   "metadata": {},
   "outputs": [],
   "source": [
    "predictions_three_valid = model_three.predict(features_three_valid)"
   ]
  },
  {
   "cell_type": "markdown",
   "metadata": {},
   "source": [
    "### Напечатаем на экране средний запас предсказанного сырья и RMSE модели."
   ]
  },
  {
   "cell_type": "markdown",
   "metadata": {},
   "source": [
    "#### Первый регион"
   ]
  },
  {
   "cell_type": "markdown",
   "metadata": {},
   "source": [
    "Расчитаем средний квадратичный корень ошибки (RMSE) для первого региона"
   ]
  },
  {
   "cell_type": "code",
   "execution_count": 26,
   "metadata": {},
   "outputs": [
    {
     "name": "stdout",
     "output_type": "stream",
     "text": [
      "RMSE:  37.58\n"
     ]
    }
   ],
   "source": [
    "RMSE_one = mean_squared_error(target_one_valid, predictions_one_valid)**0.5\n",
    "print('RMSE: ', round(RMSE_one, 2))"
   ]
  },
  {
   "cell_type": "markdown",
   "metadata": {},
   "source": [
    "Расчитаем средний запас предсказанного сырья для первого региона"
   ]
  },
  {
   "cell_type": "code",
   "execution_count": 27,
   "metadata": {},
   "outputs": [
    {
     "name": "stdout",
     "output_type": "stream",
     "text": [
      "Средний запас предсказанного сырья: 92.59\n"
     ]
    }
   ],
   "source": [
    "predictions_one_mean = round(predictions_one_valid.mean(), 2)\n",
    "print('Средний запас предсказанного сырья:', predictions_one_mean)"
   ]
  },
  {
   "cell_type": "markdown",
   "metadata": {},
   "source": [
    "#### Второй регион"
   ]
  },
  {
   "cell_type": "markdown",
   "metadata": {},
   "source": [
    "Расчитаем средний квадратичный корень ошибки (RMSE) для второго региона"
   ]
  },
  {
   "cell_type": "code",
   "execution_count": 28,
   "metadata": {},
   "outputs": [
    {
     "name": "stdout",
     "output_type": "stream",
     "text": [
      "RMSE:  0.89\n"
     ]
    }
   ],
   "source": [
    "RMSE_two = mean_squared_error(target_two_valid, predictions_two_valid)**0.5\n",
    "print('RMSE: ', round(RMSE_two, 2))"
   ]
  },
  {
   "cell_type": "markdown",
   "metadata": {},
   "source": [
    "Расчитаем средний запас предсказанного сырья для второго региона"
   ]
  },
  {
   "cell_type": "code",
   "execution_count": 29,
   "metadata": {},
   "outputs": [
    {
     "name": "stdout",
     "output_type": "stream",
     "text": [
      "Средний запас предсказанного сырья: 68.73\n"
     ]
    }
   ],
   "source": [
    "predictions_two_mean = round(predictions_two_valid.mean(), 2)\n",
    "print('Средний запас предсказанного сырья:', predictions_two_mean)"
   ]
  },
  {
   "cell_type": "markdown",
   "metadata": {},
   "source": [
    "#### Третий регион"
   ]
  },
  {
   "cell_type": "markdown",
   "metadata": {},
   "source": [
    "Расчитаем средний квадратичный корень ошибки (RMSE) для третьего региона"
   ]
  },
  {
   "cell_type": "code",
   "execution_count": 30,
   "metadata": {},
   "outputs": [
    {
     "name": "stdout",
     "output_type": "stream",
     "text": [
      "RMSE:  40.03\n"
     ]
    }
   ],
   "source": [
    "RMSE_three = mean_squared_error(target_three_valid, predictions_three_valid)**0.5\n",
    "print('RMSE: ', round(RMSE_three, 2))"
   ]
  },
  {
   "cell_type": "markdown",
   "metadata": {},
   "source": [
    "Расчитаем средний запас предсказанного сырья для третьего региона"
   ]
  },
  {
   "cell_type": "code",
   "execution_count": 31,
   "metadata": {},
   "outputs": [
    {
     "name": "stdout",
     "output_type": "stream",
     "text": [
      "Средний запас предсказанного сырья: 94.97\n"
     ]
    }
   ],
   "source": [
    "predictions_three_mean = round(predictions_three_valid.mean(), 2)\n",
    "print('Средний запас предсказанного сырья:', predictions_three_mean)"
   ]
  },
  {
   "cell_type": "markdown",
   "metadata": {},
   "source": [
    "### Вывод"
   ]
  },
  {
   "cell_type": "markdown",
   "metadata": {},
   "source": [
    "\n",
    "\n",
    "\n",
    "<ul>\n",
    "  <li>Для каждого региона обучили модель методом логистической регрессии</li>\n",
    "  <li>Посчитали метрику RMSE, которой проверяем качество предсказанной модели</li>\n",
    "  <li>Посчитали средний запас предсказанного сырья</li>\n",
    "<br>\n",
    "    <li><b>[Регион 1]</b> RMSE: <b>37.58</b>, Средний запас сырья: <b>92.59</b></li>\n",
    "    <li><b>[Регион 2]</b> RMSE: <b>0.89</b>, Средний запас сырья: <b>68.73</b></li>\n",
    "    <li><b>[Регион 3]</b> RMSE: <b>40.03</b>, Средний запас сырья: <b>94.97</b></li>\n",
    "</ul>"
   ]
  },
  {
   "cell_type": "markdown",
   "metadata": {},
   "source": [
    "## Подготовка к расчёту прибыли"
   ]
  },
  {
   "cell_type": "markdown",
   "metadata": {},
   "source": [
    "### Все ключевые значения для расчётов сохраним в отдельных переменных."
   ]
  },
  {
   "cell_type": "code",
   "execution_count": 32,
   "metadata": {},
   "outputs": [
    {
     "name": "stdout",
     "output_type": "stream",
     "text": [
      "Всего точек исследований: 500\n"
     ]
    }
   ],
   "source": [
    "TOTAL_POINTS = 500\n",
    "print('Всего точек исследований:', TOTAL_POINTS)"
   ]
  },
  {
   "cell_type": "code",
   "execution_count": 33,
   "metadata": {},
   "outputs": [
    {
     "name": "stdout",
     "output_type": "stream",
     "text": [
      "Лучшие точки исследований: 200\n"
     ]
    }
   ],
   "source": [
    "BEST_POINTS = 200\n",
    "print('Лучшие точки исследований:', BEST_POINTS)"
   ]
  },
  {
   "cell_type": "code",
   "execution_count": 34,
   "metadata": {},
   "outputs": [
    {
     "name": "stdout",
     "output_type": "stream",
     "text": [
      "Бюджет на разработку скважин в регионе: 10000000000\n"
     ]
    }
   ],
   "source": [
    "BUDGET = 10000000000\n",
    "print('Бюджет на разработку скважин в регионе:', BUDGET)"
   ]
  },
  {
   "cell_type": "code",
   "execution_count": 35,
   "metadata": {},
   "outputs": [
    {
     "name": "stdout",
     "output_type": "stream",
     "text": [
      "Доход за 1 баррель: 450\n"
     ]
    }
   ],
   "source": [
    "ONE_BARREL = 450\n",
    "print('Доход за 1 баррель:', ONE_BARREL)"
   ]
  },
  {
   "cell_type": "code",
   "execution_count": 36,
   "metadata": {
    "scrolled": true
   },
   "outputs": [
    {
     "name": "stdout",
     "output_type": "stream",
     "text": [
      "Доход с каждой единицы продукта: 450000\n"
     ]
    }
   ],
   "source": [
    "UNIT_INCOME = ONE_BARREL * 1000\n",
    "print('Доход с каждой единицы продукта:', UNIT_INCOME)"
   ]
  },
  {
   "cell_type": "code",
   "execution_count": 37,
   "metadata": {},
   "outputs": [
    {
     "name": "stdout",
     "output_type": "stream",
     "text": [
      "максимальный процент убытков: 2.5%\n"
     ]
    }
   ],
   "source": [
    "LOSS_CHANCE = 0.025\n",
    "print('максимальный процент убытков:', '{:.1%}'.format(LOSS_CHANCE))"
   ]
  },
  {
   "cell_type": "markdown",
   "metadata": {},
   "source": [
    "### Рассчитаем достаточный объём сырья для безубыточной разработки новой скважины. Сравним полученный объём сырья со средним запасом в каждом регионе. "
   ]
  },
  {
   "cell_type": "code",
   "execution_count": 38,
   "metadata": {
    "scrolled": true
   },
   "outputs": [
    {
     "name": "stdout",
     "output_type": "stream",
     "text": [
      "Достаточный объём сырья для безубыточной разработки новой скважины: 111.11\n"
     ]
    }
   ],
   "source": [
    "NET_PROFIT_STUFF = BUDGET / UNIT_INCOME / BEST_POINTS\n",
    "print('Достаточный объём сырья для безубыточной разработки новой скважины:', round(NET_PROFIT_STUFF, 2))"
   ]
  },
  {
   "cell_type": "markdown",
   "metadata": {},
   "source": [
    "Сравним с полученным объемом сырья в каждом из регионов:"
   ]
  },
  {
   "cell_type": "code",
   "execution_count": 39,
   "metadata": {
    "scrolled": false
   },
   "outputs": [
    {
     "data": {
      "image/png": "[encoded data removed]",
      "text/plain": [
       "<Figure size 720x576 with 1 Axes>"
      ]
     },
     "metadata": {
      "needs_background": "light"
     },
     "output_type": "display_data"
    }
   ],
   "source": [
    "values = [NET_PROFIT_STUFF, predictions_one_mean, predictions_two_mean, predictions_three_mean]\n",
    "labels = ['Достаточный объем', 'Первый регион', 'Второй регион', 'Третий регион']\n",
    "\n",
    "fig, ax = plt.subplots(figsize=(10,8))\n",
    "\n",
    "plt.bar(labels[0], values[0], color='green')\n",
    "plt.bar(labels[1:], values[1:], color='darkgrey')\n",
    "\n",
    "for i in range(len(labels)):\n",
    "    ax.text(x = labels[i], y = values[i], s = f\"{values[i]:.2f}\", ha = 'center', va='bottom')\n",
    "\n",
    "plt.ylabel('Объемы сырья в тыс.баррелей')\n",
    "plt.title('Сравнение объемов сырья в каждом из регионов')\n",
    "\n",
    "plt.ylim(top=max(values)*1.2)\n",
    "\n",
    "plt.show()"
   ]
  },
  {
   "cell_type": "code",
   "execution_count": 40,
   "metadata": {},
   "outputs": [
    {
     "name": "stdout",
     "output_type": "stream",
     "text": [
      "Разница объема сырья в Первом регионе составляет: -18.52 т.б. (-16.67%)\n",
      "Разница объема сырья во Втором регионе составляет: -42.38 т.б. (-38.14%)\n",
      "Разница объема сырья в Третьем регионе составляет: -16.14 т.б. (-14.53%)\n"
     ]
    }
   ],
   "source": [
    "print('Разница объема сырья в Первом регионе составляет:', round(predictions_one_mean-NET_PROFIT_STUFF, 2), 'т.б. ({:.2%})'.format(predictions_one_mean/NET_PROFIT_STUFF-1))\n",
    "print('Разница объема сырья во Втором регионе составляет:', round(predictions_two_mean-NET_PROFIT_STUFF, 2), 'т.б. ({:.2%})'.format(predictions_two_mean/NET_PROFIT_STUFF-1))\n",
    "print('Разница объема сырья в Третьем регионе составляет:', round(predictions_three_mean-NET_PROFIT_STUFF, 2), 'т.б. ({:.2%})'.format(predictions_three_mean/NET_PROFIT_STUFF-1))"
   ]
  },
  {
   "cell_type": "markdown",
   "metadata": {},
   "source": [
    "### Выводы"
   ]
  },
  {
   "cell_type": "markdown",
   "metadata": {},
   "source": [
    "Запасов сырья в каждом из регионов недостаточно, чтобы окупить затраты на разработку"
   ]
  },
  {
   "cell_type": "markdown",
   "metadata": {},
   "source": [
    "## Напишем функцию для расчёта прибыли по выбранным скважинам и предсказаниям модели"
   ]
  },
  {
   "cell_type": "markdown",
   "metadata": {},
   "source": [
    "### Выберем скважины с максимальными значениями предсказаний"
   ]
  },
  {
   "cell_type": "code",
   "execution_count": 41,
   "metadata": {
    "scrolled": true
   },
   "outputs": [],
   "source": [
    "region_one_top_200 = sorted(predictions_one_valid, reverse=True)[:BEST_POINTS]\n",
    "region_two_top_200 = sorted(predictions_two_valid, reverse=True)[:BEST_POINTS]\n",
    "region_three_top_200 = sorted(predictions_three_valid, reverse=True)[:BEST_POINTS]"
   ]
  },
  {
   "cell_type": "markdown",
   "metadata": {},
   "source": [
    "### Просуммируйте целевое значение объёма сырья, соответствующее этим предсказаниям"
   ]
  },
  {
   "cell_type": "code",
   "execution_count": 42,
   "metadata": {},
   "outputs": [
    {
     "name": "stdout",
     "output_type": "stream",
     "text": [
      "Объем сырья 200 лучших скважин Первого региона составляет: 31102.33\n",
      "Объем сырья 200 лучших скважин Второго региона составляет: 27746.03\n",
      "Объем сырья 200 лучших скважин Третьего региона составляет: 29603.9\n"
     ]
    }
   ],
   "source": [
    "print(f\"Объем сырья 200 лучших скважин Первого региона составляет: {round(sum(region_one_top_200), 2)}\")\n",
    "print(f\"Объем сырья 200 лучших скважин Второго региона составляет: {round(sum(region_two_top_200), 2)}\")\n",
    "print(f\"Объем сырья 200 лучших скважин Третьего региона составляет: {round(sum(region_three_top_200), 2)}\")\n"
   ]
  },
  {
   "cell_type": "markdown",
   "metadata": {},
   "source": [
    "### Рассчитайте прибыль для полученного объёма сырья"
   ]
  },
  {
   "cell_type": "code",
   "execution_count": 43,
   "metadata": {},
   "outputs": [],
   "source": [
    "def net_profit_gainz(prediction, target, count):\n",
    "    best_spots = sum(sorted(prediction, reverse=True)[:count])\n",
    "    net_profit = (best_spots * UNIT_INCOME) - BUDGET\n",
    "    print('Чистая прибыль составит %.2f'%(net_profit))"
   ]
  },
  {
   "cell_type": "markdown",
   "metadata": {},
   "source": [
    "Прибыль для первого региона"
   ]
  },
  {
   "cell_type": "code",
   "execution_count": 44,
   "metadata": {},
   "outputs": [
    {
     "name": "stdout",
     "output_type": "stream",
     "text": [
      "Чистая прибыль составит 3996048877.47\n"
     ]
    }
   ],
   "source": [
    "net_profit_gainz(predictions_one_valid, target_one_valid, BEST_POINTS)"
   ]
  },
  {
   "cell_type": "markdown",
   "metadata": {},
   "source": [
    "Прибыль для второго региона"
   ]
  },
  {
   "cell_type": "code",
   "execution_count": 45,
   "metadata": {},
   "outputs": [
    {
     "name": "stdout",
     "output_type": "stream",
     "text": [
      "Чистая прибыль составит 2485712051.97\n"
     ]
    }
   ],
   "source": [
    "net_profit_gainz(predictions_two_valid, target_two_valid, BEST_POINTS)"
   ]
  },
  {
   "cell_type": "markdown",
   "metadata": {},
   "source": [
    "Прибыль для третьего региона"
   ]
  },
  {
   "cell_type": "code",
   "execution_count": 46,
   "metadata": {},
   "outputs": [
    {
     "name": "stdout",
     "output_type": "stream",
     "text": [
      "Чистая прибыль составит 3321754396.24\n"
     ]
    }
   ],
   "source": [
    "net_profit_gainz(predictions_three_valid, target_three_valid, BEST_POINTS)"
   ]
  },
  {
   "cell_type": "markdown",
   "metadata": {},
   "source": [
    "## Посчитаем риски и прибыль для каждого региона"
   ]
  },
  {
   "cell_type": "markdown",
   "metadata": {},
   "source": [
    "### Применим технику Bootstrap с 1000 выборок, чтобы найти распределение прибыли"
   ]
  },
  {
   "cell_type": "code",
   "execution_count": 47,
   "metadata": {},
   "outputs": [],
   "source": [
    "def net_profit_gainz_two(predict, target, count):\n",
    "    probs_sorted = pd.Series(predict).sort_values(ascending=False)\n",
    "    selected_points = target[probs_sorted.index][:count]\n",
    "    product = selected_points.sum()\n",
    "    revenue = product * UNIT_INCOME\n",
    "    return revenue - BUDGET"
   ]
  },
  {
   "cell_type": "markdown",
   "metadata": {},
   "source": [
    "<div class=\"alert alert-info\">\n",
    "Старая версия бутстрэп\n",
    "</div>"
   ]
  },
  {
   "cell_type": "code",
   "execution_count": 48,
   "metadata": {},
   "outputs": [],
   "source": [
    "def bootstap_1000(target,predict):\n",
    "    values = []\n",
    "    count=0\n",
    "    state = np.random.RandomState(12345)\n",
    "    predict_e = pd.Series(predict, index=target.index)\n",
    "    for i in tqdm(range(1000)):\n",
    "        target_subsample = target.sample(n=TOTAL_POINTS,replace=True, random_state=state)\n",
    "        probs_subsample = predict_e[target_subsample.index]\n",
    "        values.append(net_profit_gainz_two(probs_subsample,target_subsample, BEST_POINTS))  \n",
    "        \n",
    "    for i in values:\n",
    "        if i < 0:\n",
    "            count +=1\n",
    "\n",
    "    values = pd.Series(values)\n",
    "    mean = values.mean()\n",
    "\n",
    "    print(\"Средняя прибыль: {:.2f} млн.руб\".format(mean/1000))\n",
    "    print ('Риск убытка: {:.1%}'.format(count/1000))"
   ]
  },
  {
   "cell_type": "markdown",
   "metadata": {},
   "source": [
    "<div class=\"alert alert-info\">\n",
    "Новая версия. будем использовать новую\n",
    "</div>"
   ]
  },
  {
   "cell_type": "code",
   "execution_count": 49,
   "metadata": {},
   "outputs": [],
   "source": [
    "def bootstrap_try_two(target, predict, num_resamples=1000):\n",
    "    state = np.random.RandomState(12345)\n",
    "    predict_e = pd.Series(predict, index=target.index)\n",
    "    values = []\n",
    "    \n",
    "    for i in range(num_resamples):\n",
    "        target_subsample = target.sample(n=TOTAL_POINTS, replace=True, random_state=state)\n",
    "        probs_subsample = predict_e[target_subsample.index]\n",
    "        values.append(net_profit_gainz_two(probs_subsample, target_subsample, BEST_POINTS))  \n",
    "    \n",
    "    values = pd.Series(values)\n",
    "    mean = values.mean()\n",
    "    count = sum([1 for i in values if i < 0])\n",
    "\n",
    "    low_95 = values.quantile(0.025)\n",
    "    high_95 = values.quantile(0.975)\n",
    "\n",
    "    print(\"Средняя прибыль: {:.2f} млн.руб\".format(mean/1000))\n",
    "    print('Риск убытка: {:.1%}'.format(count/1000))\n",
    "    print(\"95%-ый доверительный интервал: от {:.2f} млн.руб до {:.2f} млн.руб\". format((low_95/1000),(high_95/1000)))"
   ]
  },
  {
   "cell_type": "markdown",
   "metadata": {},
   "source": [
    "Для первого региона"
   ]
  },
  {
   "cell_type": "code",
   "execution_count": 50,
   "metadata": {
    "scrolled": true
   },
   "outputs": [
    {
     "name": "stdout",
     "output_type": "stream",
     "text": [
      "Средняя прибыль: 425938.53 млн.руб\n",
      "Риск убытка: 6.0%\n",
      "95%-ый доверительный интервал: от -102090.09 млн.руб до 947976.35 млн.руб\n"
     ]
    }
   ],
   "source": [
    "bootstrap_try_two(target_one_valid,predictions_one_valid);"
   ]
  },
  {
   "cell_type": "markdown",
   "metadata": {},
   "source": [
    "Для второго региона"
   ]
  },
  {
   "cell_type": "code",
   "execution_count": 51,
   "metadata": {},
   "outputs": [
    {
     "name": "stdout",
     "output_type": "stream",
     "text": [
      "Средняя прибыль: 515222.77 млн.руб\n",
      "Риск убытка: 1.0%\n",
      "95%-ый доверительный интервал: от 68873.23 млн.руб до 931547.59 млн.руб\n"
     ]
    }
   ],
   "source": [
    "bootstrap_try_two(target_two_valid,predictions_two_valid);"
   ]
  },
  {
   "cell_type": "markdown",
   "metadata": {},
   "source": [
    "Для третьего региона"
   ]
  },
  {
   "cell_type": "code",
   "execution_count": 52,
   "metadata": {},
   "outputs": [
    {
     "name": "stdout",
     "output_type": "stream",
     "text": [
      "Средняя прибыль: 435008.36 млн.руб\n",
      "Риск убытка: 6.4%\n",
      "95%-ый доверительный интервал: от -128880.55 млн.руб до 969706.95 млн.руб\n"
     ]
    }
   ],
   "source": [
    "bootstrap_try_two(target_three_valid,predictions_three_valid);"
   ]
  },
  {
   "cell_type": "markdown",
   "metadata": {},
   "source": [
    "### Найдем среднюю прибыль, 95%-й доверительный интервал и риск убытков. Убыток — это отрицательная прибыль"
   ]
  },
  {
   "cell_type": "code",
   "execution_count": 53,
   "metadata": {},
   "outputs": [],
   "source": [
    "def bootstrap_confidence_interval(target, predict, num_resamples=1000):\n",
    "    state = np.random.RandomState(12345)\n",
    "    predict_e = pd.Series(predict, index=target.index)\n",
    "    values = []\n",
    "    \n",
    "    for i in range(num_resamples):\n",
    "        target_subsample = target.sample(n=TOTAL_POINTS, replace=True, random_state=state)\n",
    "        probs_subsample = predict_e[target_subsample.index]\n",
    "        values.append(net_profit_gainz_two(probs_subsample, target_subsample, BEST_POINTS))  \n",
    "        \n",
    "    values = pd.Series(values)\n",
    "    mean = values.mean()\n",
    "    #confidence_interval = st.t.interval(0.95, len(values)-1, values.mean(), values.sem())\n",
    "    low_95 = values.quantile(0.025)\n",
    "    high_95 = values.quantile(0.975)\n",
    "    \n",
    "    print(\"95%-ый доверительный интервал: от {:.2f} млн.руб до {:.2f} млн.руб\". format((low_95/1000),(high_95/1000)))"
   ]
  },
  {
   "cell_type": "markdown",
   "metadata": {},
   "source": [
    "Для первого региона"
   ]
  },
  {
   "cell_type": "code",
   "execution_count": 54,
   "metadata": {},
   "outputs": [
    {
     "name": "stdout",
     "output_type": "stream",
     "text": [
      "95%-ый доверительный интервал: от -102090.09 млн.руб до 947976.35 млн.руб\n"
     ]
    }
   ],
   "source": [
    "bootstrap_confidence_interval(target_one_valid,predictions_one_valid)"
   ]
  },
  {
   "cell_type": "markdown",
   "metadata": {},
   "source": [
    "Для второго региона"
   ]
  },
  {
   "cell_type": "code",
   "execution_count": 55,
   "metadata": {},
   "outputs": [
    {
     "name": "stdout",
     "output_type": "stream",
     "text": [
      "95%-ый доверительный интервал: от 68873.23 млн.руб до 931547.59 млн.руб\n"
     ]
    }
   ],
   "source": [
    "bootstrap_confidence_interval(target_two_valid,predictions_two_valid)"
   ]
  },
  {
   "cell_type": "markdown",
   "metadata": {},
   "source": [
    "Для третьего региона"
   ]
  },
  {
   "cell_type": "code",
   "execution_count": 56,
   "metadata": {},
   "outputs": [
    {
     "name": "stdout",
     "output_type": "stream",
     "text": [
      "95%-ый доверительный интервал: от -128880.55 млн.руб до 969706.95 млн.руб\n"
     ]
    }
   ],
   "source": [
    "bootstrap_confidence_interval(target_three_valid,predictions_three_valid)"
   ]
  },
  {
   "cell_type": "markdown",
   "metadata": {},
   "source": [
    "### Вывод"
   ]
  },
  {
   "cell_type": "markdown",
   "metadata": {},
   "source": [
    "Нам были представлены датасеты геологический изысканий трех различных регионов.\n",
    "<br>\n",
    "мы проанализировали данные на входе, не нашли никаких ошибок или дубликатов, поняли, что представленные датасеты имеют одну структуру и один объем данных.\n",
    "<br>\n",
    "Мы использовали функцию <b>train_test_split</b> библиотеки scikit-learn для разделения каждого из представленных датасетов на обучающую и валидационную выборки.\n",
    "<br>\n",
    "Для каждой обучающей выборки мы удалили столбцы 'id' и 'product' и, согласно условию, использовали модель логистической регрессии для обучения моделей.\n",
    "<br>\n",
    "Затем мы проверили качество обученных моделей метрикой RMSE, вычислили среднее значение предсказанных значений.\n",
    "<br>\n",
    "<br>\n",
    "Исходя из полученных результатов, регион с наибольшей средней прибылью и низким риском убытков (меньше 2.5%) является регионом номер два и этот регион является наиболее перспективным выбором для разработки нефтяных скважин."
   ]
  }
 ],
 "metadata": {
  "ExecuteTimeLog": [
   {
    "duration": 441,
    "start_time": "2023-01-30T11:04:53.066Z"
   },
   {
    "duration": 1264,
    "start_time": "2023-01-30T11:06:26.569Z"
   },
   {
    "duration": 4,
    "start_time": "2023-01-30T11:39:51.947Z"
   },
   {
    "duration": 182,
    "start_time": "2023-01-30T11:40:22.270Z"
   },
   {
    "duration": 4,
    "start_time": "2023-01-30T11:40:48.110Z"
   },
   {
    "duration": 178,
    "start_time": "2023-01-30T11:40:48.695Z"
   },
   {
    "duration": 10,
    "start_time": "2023-01-30T11:41:08.881Z"
   },
   {
    "duration": 158,
    "start_time": "2023-01-30T11:41:09.166Z"
   },
   {
    "duration": 4,
    "start_time": "2023-01-30T11:41:30.142Z"
   },
   {
    "duration": 225,
    "start_time": "2023-01-30T11:41:31.234Z"
   },
   {
    "duration": 5,
    "start_time": "2023-01-30T11:41:53.125Z"
   },
   {
    "duration": 249,
    "start_time": "2023-01-30T11:41:53.612Z"
   },
   {
    "duration": 5,
    "start_time": "2023-01-30T11:42:00.926Z"
   },
   {
    "duration": 181,
    "start_time": "2023-01-30T11:42:01.418Z"
   },
   {
    "duration": 4,
    "start_time": "2023-01-30T11:42:15.702Z"
   },
   {
    "duration": 174,
    "start_time": "2023-01-30T11:42:16.075Z"
   },
   {
    "duration": 57,
    "start_time": "2023-01-30T11:42:38.686Z"
   },
   {
    "duration": 174,
    "start_time": "2023-01-30T11:42:39.156Z"
   },
   {
    "duration": 4,
    "start_time": "2023-01-30T11:43:12.874Z"
   },
   {
    "duration": 241,
    "start_time": "2023-01-30T11:43:13.314Z"
   },
   {
    "duration": 5,
    "start_time": "2023-01-30T11:44:33.197Z"
   },
   {
    "duration": 1422,
    "start_time": "2023-01-30T11:44:33.735Z"
   },
   {
    "duration": 15,
    "start_time": "2023-01-30T11:45:01.727Z"
   },
   {
    "duration": 474,
    "start_time": "2023-01-30T11:48:28.098Z"
   },
   {
    "duration": 7,
    "start_time": "2023-01-30T11:48:29.406Z"
   },
   {
    "duration": 954,
    "start_time": "2023-01-30T11:48:33.765Z"
   },
   {
    "duration": 1030,
    "start_time": "2023-01-30T11:48:41.658Z"
   },
   {
    "duration": 1238,
    "start_time": "2023-01-30T11:49:29.081Z"
   },
   {
    "duration": 5,
    "start_time": "2023-01-30T11:57:47.738Z"
   },
   {
    "duration": 80,
    "start_time": "2023-01-30T11:58:01.645Z"
   },
   {
    "duration": 3,
    "start_time": "2023-01-30T11:58:24.200Z"
   },
   {
    "duration": 6,
    "start_time": "2023-01-30T11:58:28.802Z"
   },
   {
    "duration": 11,
    "start_time": "2023-01-30T11:58:29.201Z"
   },
   {
    "duration": 6,
    "start_time": "2023-01-30T12:01:27.506Z"
   },
   {
    "duration": 10,
    "start_time": "2023-01-30T12:01:27.953Z"
   },
   {
    "duration": 4,
    "start_time": "2023-01-30T12:01:43.472Z"
   },
   {
    "duration": 406,
    "start_time": "2023-01-30T12:01:43.478Z"
   },
   {
    "duration": 4,
    "start_time": "2023-01-30T12:01:43.886Z"
   },
   {
    "duration": 938,
    "start_time": "2023-01-30T12:01:43.892Z"
   },
   {
    "duration": 970,
    "start_time": "2023-01-30T12:01:44.832Z"
   },
   {
    "duration": 1079,
    "start_time": "2023-01-30T12:01:45.805Z"
   },
   {
    "duration": 5,
    "start_time": "2023-01-30T12:01:46.886Z"
   },
   {
    "duration": 121,
    "start_time": "2023-01-30T12:01:46.893Z"
   },
   {
    "duration": 3,
    "start_time": "2023-01-30T12:04:06.418Z"
   },
   {
    "duration": 5,
    "start_time": "2023-01-30T12:04:09.269Z"
   },
   {
    "duration": 7334,
    "start_time": "2023-01-30T12:04:09.672Z"
   },
   {
    "duration": 4,
    "start_time": "2023-01-30T12:05:07.959Z"
   },
   {
    "duration": 7500,
    "start_time": "2023-01-30T12:05:08.682Z"
   },
   {
    "duration": 5713,
    "start_time": "2023-01-30T12:11:13.046Z"
   },
   {
    "duration": 5,
    "start_time": "2023-01-30T12:12:06.726Z"
   },
   {
    "duration": 4033,
    "start_time": "2023-01-30T12:12:07.618Z"
   },
   {
    "duration": 3,
    "start_time": "2023-01-30T12:14:12.488Z"
   },
   {
    "duration": 3,
    "start_time": "2023-01-30T12:14:16.961Z"
   },
   {
    "duration": 442,
    "start_time": "2023-01-30T12:14:16.966Z"
   },
   {
    "duration": 5,
    "start_time": "2023-01-30T12:14:17.410Z"
   },
   {
    "duration": 1104,
    "start_time": "2023-01-30T12:14:17.417Z"
   },
   {
    "duration": 960,
    "start_time": "2023-01-30T12:14:18.524Z"
   },
   {
    "duration": 1145,
    "start_time": "2023-01-30T12:14:19.486Z"
   },
   {
    "duration": 376,
    "start_time": "2023-01-30T12:55:28.186Z"
   },
   {
    "duration": 1308,
    "start_time": "2023-01-31T11:20:05.390Z"
   },
   {
    "duration": 96,
    "start_time": "2023-01-31T12:39:02.986Z"
   },
   {
    "duration": 3,
    "start_time": "2023-01-31T12:39:06.469Z"
   },
   {
    "duration": 1487,
    "start_time": "2023-01-31T12:39:06.475Z"
   },
   {
    "duration": 4,
    "start_time": "2023-01-31T12:39:07.964Z"
   },
   {
    "duration": 1265,
    "start_time": "2023-01-31T12:39:07.970Z"
   },
   {
    "duration": 966,
    "start_time": "2023-01-31T12:39:09.237Z"
   },
   {
    "duration": 827,
    "start_time": "2023-01-31T12:39:10.204Z"
   },
   {
    "duration": 21,
    "start_time": "2023-01-31T12:39:11.033Z"
   },
   {
    "duration": 6,
    "start_time": "2023-01-31T12:39:11.056Z"
   },
   {
    "duration": 38,
    "start_time": "2023-01-31T12:39:11.065Z"
   },
   {
    "duration": 5,
    "start_time": "2023-01-31T12:43:18.186Z"
   },
   {
    "duration": 30,
    "start_time": "2023-01-31T12:43:41.508Z"
   },
   {
    "duration": 18,
    "start_time": "2023-01-31T12:43:45.255Z"
   },
   {
    "duration": 6,
    "start_time": "2023-01-31T12:43:45.829Z"
   },
   {
    "duration": 11,
    "start_time": "2023-01-31T13:01:07.797Z"
   },
   {
    "duration": 24,
    "start_time": "2023-01-31T13:01:23.841Z"
   },
   {
    "duration": 3,
    "start_time": "2023-01-31T13:01:29.270Z"
   },
   {
    "duration": 7,
    "start_time": "2023-01-31T13:10:10.031Z"
   },
   {
    "duration": 8,
    "start_time": "2023-01-31T13:12:00.333Z"
   },
   {
    "duration": 6,
    "start_time": "2023-01-31T13:12:29.268Z"
   },
   {
    "duration": 10,
    "start_time": "2023-01-31T13:12:59.511Z"
   },
   {
    "duration": 21,
    "start_time": "2023-01-31T13:15:45.315Z"
   },
   {
    "duration": 15,
    "start_time": "2023-01-31T13:16:22.502Z"
   },
   {
    "duration": 4,
    "start_time": "2023-01-31T13:16:27.947Z"
   },
   {
    "duration": 537,
    "start_time": "2023-01-31T13:16:27.954Z"
   },
   {
    "duration": 8,
    "start_time": "2023-01-31T13:16:28.494Z"
   },
   {
    "duration": 1271,
    "start_time": "2023-01-31T13:16:28.506Z"
   },
   {
    "duration": 970,
    "start_time": "2023-01-31T13:16:29.779Z"
   },
   {
    "duration": 980,
    "start_time": "2023-01-31T13:16:30.751Z"
   },
   {
    "duration": 33,
    "start_time": "2023-01-31T13:16:31.733Z"
   },
   {
    "duration": 22,
    "start_time": "2023-01-31T13:16:31.769Z"
   },
   {
    "duration": 32,
    "start_time": "2023-01-31T13:16:31.793Z"
   },
   {
    "duration": 83,
    "start_time": "2023-01-31T13:16:31.829Z"
   },
   {
    "duration": 88,
    "start_time": "2023-01-31T13:16:31.914Z"
   },
   {
    "duration": 56,
    "start_time": "2023-01-31T13:16:32.004Z"
   },
   {
    "duration": 33,
    "start_time": "2023-01-31T13:16:32.062Z"
   },
   {
    "duration": 7,
    "start_time": "2023-01-31T13:16:32.097Z"
   },
   {
    "duration": 28,
    "start_time": "2023-01-31T13:16:32.106Z"
   },
   {
    "duration": 33,
    "start_time": "2023-01-31T13:16:32.136Z"
   },
   {
    "duration": 129,
    "start_time": "2023-01-31T13:16:32.173Z"
   },
   {
    "duration": 25,
    "start_time": "2023-01-31T13:17:03.268Z"
   },
   {
    "duration": 5,
    "start_time": "2023-01-31T13:18:21.004Z"
   },
   {
    "duration": 11,
    "start_time": "2023-01-31T13:20:52.429Z"
   },
   {
    "duration": 6,
    "start_time": "2023-01-31T13:20:53.067Z"
   },
   {
    "duration": 5,
    "start_time": "2023-01-31T13:20:53.684Z"
   },
   {
    "duration": 9,
    "start_time": "2023-01-31T14:08:28.173Z"
   },
   {
    "duration": 3,
    "start_time": "2023-01-31T14:08:49.956Z"
   },
   {
    "duration": 3,
    "start_time": "2023-01-31T14:08:52.592Z"
   },
   {
    "duration": 372,
    "start_time": "2023-01-31T14:08:52.597Z"
   },
   {
    "duration": 5,
    "start_time": "2023-01-31T14:08:52.971Z"
   },
   {
    "duration": 917,
    "start_time": "2023-01-31T14:08:52.977Z"
   },
   {
    "duration": 868,
    "start_time": "2023-01-31T14:08:53.896Z"
   },
   {
    "duration": 841,
    "start_time": "2023-01-31T14:08:54.766Z"
   },
   {
    "duration": 20,
    "start_time": "2023-01-31T14:08:55.609Z"
   },
   {
    "duration": 8,
    "start_time": "2023-01-31T14:08:55.631Z"
   },
   {
    "duration": 13,
    "start_time": "2023-01-31T14:08:55.641Z"
   },
   {
    "duration": 40,
    "start_time": "2023-01-31T14:08:55.656Z"
   },
   {
    "duration": 5,
    "start_time": "2023-01-31T14:08:55.698Z"
   },
   {
    "duration": 14,
    "start_time": "2023-01-31T14:08:55.705Z"
   },
   {
    "duration": 31,
    "start_time": "2023-01-31T14:08:55.720Z"
   },
   {
    "duration": 9,
    "start_time": "2023-01-31T14:08:55.753Z"
   },
   {
    "duration": 26,
    "start_time": "2023-01-31T14:08:55.764Z"
   },
   {
    "duration": 25,
    "start_time": "2023-01-31T14:08:55.791Z"
   },
   {
    "duration": 32,
    "start_time": "2023-01-31T14:08:55.818Z"
   },
   {
    "duration": 15,
    "start_time": "2023-01-31T14:08:55.852Z"
   },
   {
    "duration": 23,
    "start_time": "2023-01-31T14:08:55.868Z"
   },
   {
    "duration": 105,
    "start_time": "2023-01-31T14:08:55.894Z"
   },
   {
    "duration": 96,
    "start_time": "2023-01-31T14:08:56.001Z"
   },
   {
    "duration": 101,
    "start_time": "2023-01-31T14:08:56.100Z"
   },
   {
    "duration": 3,
    "start_time": "2023-01-31T19:17:45.081Z"
   },
   {
    "duration": 5,
    "start_time": "2023-01-31T19:17:52.328Z"
   },
   {
    "duration": 6,
    "start_time": "2023-01-31T19:18:00.749Z"
   },
   {
    "duration": 4,
    "start_time": "2023-01-31T19:18:19.288Z"
   },
   {
    "duration": 5,
    "start_time": "2023-01-31T19:19:09.847Z"
   },
   {
    "duration": 4,
    "start_time": "2023-01-31T19:19:22.591Z"
   },
   {
    "duration": 5,
    "start_time": "2023-01-31T19:19:44.545Z"
   },
   {
    "duration": 5,
    "start_time": "2023-01-31T19:20:09.461Z"
   },
   {
    "duration": 7,
    "start_time": "2023-01-31T19:24:52.635Z"
   },
   {
    "duration": 4,
    "start_time": "2023-01-31T19:26:37.823Z"
   },
   {
    "duration": 5,
    "start_time": "2023-01-31T19:26:42.035Z"
   },
   {
    "duration": 4,
    "start_time": "2023-01-31T19:29:37.952Z"
   },
   {
    "duration": 3,
    "start_time": "2023-01-31T19:29:58.030Z"
   },
   {
    "duration": 4,
    "start_time": "2023-01-31T19:30:34.409Z"
   },
   {
    "duration": 5,
    "start_time": "2023-01-31T19:30:37.305Z"
   },
   {
    "duration": 3,
    "start_time": "2023-01-31T19:36:59.061Z"
   },
   {
    "duration": 3,
    "start_time": "2023-01-31T19:37:18.292Z"
   },
   {
    "duration": 3,
    "start_time": "2023-01-31T19:37:30.856Z"
   },
   {
    "duration": 3,
    "start_time": "2023-01-31T19:43:34.918Z"
   },
   {
    "duration": 3,
    "start_time": "2023-01-31T19:43:42.593Z"
   },
   {
    "duration": 2,
    "start_time": "2023-01-31T19:43:47.643Z"
   },
   {
    "duration": 3,
    "start_time": "2023-01-31T19:43:51.991Z"
   },
   {
    "duration": 3,
    "start_time": "2023-01-31T19:43:55.489Z"
   },
   {
    "duration": 2,
    "start_time": "2023-01-31T19:47:31.588Z"
   },
   {
    "duration": 3,
    "start_time": "2023-01-31T19:47:53.815Z"
   },
   {
    "duration": 3,
    "start_time": "2023-01-31T19:47:59.156Z"
   },
   {
    "duration": 4,
    "start_time": "2023-01-31T19:48:27.241Z"
   },
   {
    "duration": 3,
    "start_time": "2023-01-31T19:48:53.524Z"
   },
   {
    "duration": 4,
    "start_time": "2023-01-31T19:49:40.229Z"
   },
   {
    "duration": 3,
    "start_time": "2023-01-31T19:50:21.254Z"
   },
   {
    "duration": 3,
    "start_time": "2023-01-31T19:51:12.421Z"
   },
   {
    "duration": 3,
    "start_time": "2023-01-31T19:51:46.252Z"
   },
   {
    "duration": 4,
    "start_time": "2023-01-31T19:53:28.285Z"
   },
   {
    "duration": 3,
    "start_time": "2023-01-31T19:53:28.495Z"
   },
   {
    "duration": 4,
    "start_time": "2023-01-31T19:53:28.756Z"
   },
   {
    "duration": 3,
    "start_time": "2023-01-31T19:53:28.994Z"
   },
   {
    "duration": 4,
    "start_time": "2023-01-31T19:53:29.486Z"
   },
   {
    "duration": 3,
    "start_time": "2023-01-31T20:08:41.742Z"
   },
   {
    "duration": 4,
    "start_time": "2023-01-31T20:09:33.023Z"
   },
   {
    "duration": 5,
    "start_time": "2023-01-31T20:09:36.643Z"
   },
   {
    "duration": 11,
    "start_time": "2023-01-31T20:09:43.609Z"
   },
   {
    "duration": 3,
    "start_time": "2023-01-31T20:09:47.078Z"
   },
   {
    "duration": 4,
    "start_time": "2023-01-31T20:09:53.316Z"
   },
   {
    "duration": 3,
    "start_time": "2023-01-31T20:10:10.920Z"
   },
   {
    "duration": 4,
    "start_time": "2023-01-31T20:10:17.428Z"
   },
   {
    "duration": 4,
    "start_time": "2023-01-31T20:10:42.389Z"
   },
   {
    "duration": 8,
    "start_time": "2023-01-31T20:10:48.912Z"
   },
   {
    "duration": 3,
    "start_time": "2023-01-31T20:10:55.657Z"
   },
   {
    "duration": 3,
    "start_time": "2023-01-31T20:11:02.065Z"
   },
   {
    "duration": 3,
    "start_time": "2023-01-31T20:11:15.287Z"
   },
   {
    "duration": 3,
    "start_time": "2023-01-31T20:11:20.382Z"
   },
   {
    "duration": 6,
    "start_time": "2023-01-31T20:11:26.789Z"
   },
   {
    "duration": 78,
    "start_time": "2023-01-31T20:11:48.643Z"
   },
   {
    "duration": 3,
    "start_time": "2023-01-31T20:11:52.677Z"
   },
   {
    "duration": 3,
    "start_time": "2023-01-31T20:12:05.185Z"
   },
   {
    "duration": 4,
    "start_time": "2023-01-31T20:12:08.255Z"
   },
   {
    "duration": 4,
    "start_time": "2023-01-31T20:12:11.806Z"
   },
   {
    "duration": 3,
    "start_time": "2023-01-31T20:12:15.319Z"
   },
   {
    "duration": 10,
    "start_time": "2023-01-31T20:12:19.315Z"
   },
   {
    "duration": 3,
    "start_time": "2023-01-31T20:12:21.713Z"
   },
   {
    "duration": 4,
    "start_time": "2023-01-31T20:12:32.000Z"
   },
   {
    "duration": 4,
    "start_time": "2023-01-31T20:12:40.285Z"
   },
   {
    "duration": 4,
    "start_time": "2023-01-31T20:12:43.550Z"
   },
   {
    "duration": 3,
    "start_time": "2023-01-31T20:12:46.548Z"
   },
   {
    "duration": 4,
    "start_time": "2023-01-31T20:13:19.381Z"
   },
   {
    "duration": 4,
    "start_time": "2023-01-31T20:13:42.920Z"
   },
   {
    "duration": 4,
    "start_time": "2023-01-31T20:15:23.058Z"
   },
   {
    "duration": 46,
    "start_time": "2023-02-01T18:01:26.979Z"
   },
   {
    "duration": 1049,
    "start_time": "2023-02-01T18:01:31.325Z"
   },
   {
    "duration": 1631,
    "start_time": "2023-02-01T18:01:32.380Z"
   },
   {
    "duration": 4,
    "start_time": "2023-02-01T18:01:34.013Z"
   },
   {
    "duration": 1317,
    "start_time": "2023-02-01T18:01:34.020Z"
   },
   {
    "duration": 941,
    "start_time": "2023-02-01T18:01:35.338Z"
   },
   {
    "duration": 831,
    "start_time": "2023-02-01T18:01:36.282Z"
   },
   {
    "duration": 16,
    "start_time": "2023-02-01T18:01:37.114Z"
   },
   {
    "duration": 5,
    "start_time": "2023-02-01T18:01:37.131Z"
   },
   {
    "duration": 13,
    "start_time": "2023-02-01T18:01:37.137Z"
   },
   {
    "duration": 49,
    "start_time": "2023-02-01T18:01:37.153Z"
   },
   {
    "duration": 5,
    "start_time": "2023-02-01T18:01:37.204Z"
   },
   {
    "duration": 14,
    "start_time": "2023-02-01T18:01:37.211Z"
   },
   {
    "duration": 20,
    "start_time": "2023-02-01T18:01:37.227Z"
   },
   {
    "duration": 5,
    "start_time": "2023-02-01T18:01:37.248Z"
   },
   {
    "duration": 7,
    "start_time": "2023-02-01T18:01:37.255Z"
   },
   {
    "duration": 29,
    "start_time": "2023-02-01T18:01:37.263Z"
   },
   {
    "duration": 184,
    "start_time": "2023-02-01T18:01:37.295Z"
   },
   {
    "duration": 12,
    "start_time": "2023-02-01T18:01:37.481Z"
   },
   {
    "duration": 9,
    "start_time": "2023-02-01T18:01:37.495Z"
   },
   {
    "duration": 99,
    "start_time": "2023-02-01T18:01:37.575Z"
   },
   {
    "duration": 96,
    "start_time": "2023-02-01T18:01:37.680Z"
   },
   {
    "duration": 194,
    "start_time": "2023-02-01T18:01:37.782Z"
   },
   {
    "duration": 10,
    "start_time": "2023-02-01T18:01:37.979Z"
   },
   {
    "duration": 6,
    "start_time": "2023-02-01T18:01:37.991Z"
   },
   {
    "duration": 17,
    "start_time": "2023-02-01T18:01:37.999Z"
   },
   {
    "duration": 10,
    "start_time": "2023-02-01T18:01:38.017Z"
   },
   {
    "duration": 6,
    "start_time": "2023-02-01T18:01:38.028Z"
   },
   {
    "duration": 4,
    "start_time": "2023-02-01T18:01:38.037Z"
   },
   {
    "duration": 5,
    "start_time": "2023-02-01T18:01:38.042Z"
   },
   {
    "duration": 5,
    "start_time": "2023-02-01T18:01:38.048Z"
   },
   {
    "duration": 31,
    "start_time": "2023-02-01T18:01:38.054Z"
   },
   {
    "duration": 23,
    "start_time": "2023-02-01T18:01:38.087Z"
   },
   {
    "duration": 10,
    "start_time": "2023-02-01T18:01:38.111Z"
   },
   {
    "duration": 86,
    "start_time": "2023-02-01T18:01:38.122Z"
   },
   {
    "duration": 4,
    "start_time": "2023-02-01T18:01:43.977Z"
   },
   {
    "duration": 3,
    "start_time": "2023-02-01T18:02:18.085Z"
   },
   {
    "duration": 4,
    "start_time": "2023-02-01T18:02:33.216Z"
   },
   {
    "duration": 4,
    "start_time": "2023-02-01T18:02:33.846Z"
   },
   {
    "duration": 4,
    "start_time": "2023-02-01T18:02:34.153Z"
   },
   {
    "duration": 3,
    "start_time": "2023-02-01T18:02:34.508Z"
   },
   {
    "duration": 5,
    "start_time": "2023-02-01T18:02:35.493Z"
   },
   {
    "duration": 4,
    "start_time": "2023-02-01T18:02:42.491Z"
   },
   {
    "duration": 3,
    "start_time": "2023-02-01T18:07:30.734Z"
   },
   {
    "duration": 121,
    "start_time": "2023-02-01T18:08:27.277Z"
   },
   {
    "duration": 124,
    "start_time": "2023-02-01T18:10:32.362Z"
   },
   {
    "duration": 135,
    "start_time": "2023-02-01T18:10:34.867Z"
   },
   {
    "duration": 275,
    "start_time": "2023-02-01T18:11:24.740Z"
   },
   {
    "duration": 128,
    "start_time": "2023-02-01T18:12:17.708Z"
   },
   {
    "duration": 149,
    "start_time": "2023-02-01T18:13:43.547Z"
   },
   {
    "duration": 116,
    "start_time": "2023-02-01T18:14:24.075Z"
   },
   {
    "duration": 146,
    "start_time": "2023-02-01T18:15:10.158Z"
   },
   {
    "duration": 173,
    "start_time": "2023-02-01T18:15:14.951Z"
   },
   {
    "duration": 137,
    "start_time": "2023-02-01T18:15:22.513Z"
   },
   {
    "duration": 129,
    "start_time": "2023-02-01T18:15:28.092Z"
   },
   {
    "duration": 138,
    "start_time": "2023-02-01T18:15:31.798Z"
   },
   {
    "duration": 142,
    "start_time": "2023-02-01T18:17:22.150Z"
   },
   {
    "duration": 139,
    "start_time": "2023-02-01T18:18:13.814Z"
   },
   {
    "duration": 139,
    "start_time": "2023-02-01T18:18:28.083Z"
   },
   {
    "duration": 235,
    "start_time": "2023-02-01T18:18:51.383Z"
   },
   {
    "duration": 174,
    "start_time": "2023-02-01T18:19:23.245Z"
   },
   {
    "duration": 153,
    "start_time": "2023-02-01T18:19:26.380Z"
   },
   {
    "duration": 4,
    "start_time": "2023-02-01T18:51:33.926Z"
   },
   {
    "duration": 4,
    "start_time": "2023-02-01T18:52:50.445Z"
   },
   {
    "duration": 4,
    "start_time": "2023-02-01T18:53:24.014Z"
   },
   {
    "duration": 7,
    "start_time": "2023-02-01T18:53:28.178Z"
   },
   {
    "duration": 4,
    "start_time": "2023-02-01T18:56:48.526Z"
   },
   {
    "duration": 6,
    "start_time": "2023-02-01T18:57:00.243Z"
   },
   {
    "duration": 5,
    "start_time": "2023-02-01T18:57:10.354Z"
   },
   {
    "duration": 6,
    "start_time": "2023-02-01T18:57:25.048Z"
   },
   {
    "duration": 4,
    "start_time": "2023-02-01T18:57:30.749Z"
   },
   {
    "duration": 6,
    "start_time": "2023-02-01T18:57:36.405Z"
   },
   {
    "duration": 5,
    "start_time": "2023-02-01T18:58:18.551Z"
   },
   {
    "duration": 7,
    "start_time": "2023-02-01T18:58:38.857Z"
   },
   {
    "duration": 6,
    "start_time": "2023-02-01T18:58:55.097Z"
   },
   {
    "duration": 6,
    "start_time": "2023-02-01T18:59:34.977Z"
   },
   {
    "duration": 5,
    "start_time": "2023-02-01T19:14:26.782Z"
   },
   {
    "duration": 4,
    "start_time": "2023-02-01T19:14:43.455Z"
   },
   {
    "duration": 14,
    "start_time": "2023-02-01T19:18:23.618Z"
   },
   {
    "duration": 18,
    "start_time": "2023-02-01T19:19:02.534Z"
   },
   {
    "duration": 32,
    "start_time": "2023-02-01T19:19:14.988Z"
   },
   {
    "duration": 9,
    "start_time": "2023-02-01T19:20:35.843Z"
   },
   {
    "duration": 3,
    "start_time": "2023-02-01T19:22:21.537Z"
   },
   {
    "duration": 46,
    "start_time": "2023-02-01T19:23:03.563Z"
   },
   {
    "duration": 5,
    "start_time": "2023-02-01T19:23:18.716Z"
   },
   {
    "duration": 5,
    "start_time": "2023-02-01T19:24:23.738Z"
   },
   {
    "duration": 3,
    "start_time": "2023-02-01T19:24:41.829Z"
   },
   {
    "duration": 4,
    "start_time": "2023-02-01T19:24:55.841Z"
   },
   {
    "duration": 3,
    "start_time": "2023-02-01T19:33:07.656Z"
   },
   {
    "duration": 27,
    "start_time": "2023-02-01T19:33:51.787Z"
   },
   {
    "duration": 4,
    "start_time": "2023-02-01T19:34:08.740Z"
   },
   {
    "duration": 16,
    "start_time": "2023-02-01T19:34:10.229Z"
   },
   {
    "duration": 4,
    "start_time": "2023-02-01T19:34:44.813Z"
   },
   {
    "duration": 15,
    "start_time": "2023-02-01T19:34:45.323Z"
   },
   {
    "duration": 83,
    "start_time": "2023-02-01T19:35:48.950Z"
   },
   {
    "duration": 42,
    "start_time": "2023-02-01T19:36:05.714Z"
   },
   {
    "duration": 42,
    "start_time": "2023-02-01T19:36:16.317Z"
   },
   {
    "duration": 54,
    "start_time": "2023-02-01T19:36:22.639Z"
   },
   {
    "duration": 3,
    "start_time": "2023-02-01T19:38:34.295Z"
   },
   {
    "duration": 37,
    "start_time": "2023-02-01T19:38:34.887Z"
   },
   {
    "duration": 4,
    "start_time": "2023-02-01T19:38:44.310Z"
   },
   {
    "duration": 23,
    "start_time": "2023-02-01T19:38:45.043Z"
   },
   {
    "duration": 5,
    "start_time": "2023-02-01T19:38:51.099Z"
   },
   {
    "duration": 13,
    "start_time": "2023-02-01T19:38:51.515Z"
   },
   {
    "duration": 4,
    "start_time": "2023-02-01T19:40:56.356Z"
   },
   {
    "duration": 29,
    "start_time": "2023-02-01T19:40:56.642Z"
   },
   {
    "duration": 5,
    "start_time": "2023-02-01T19:42:54.738Z"
   },
   {
    "duration": 14,
    "start_time": "2023-02-01T19:42:55.223Z"
   },
   {
    "duration": 4,
    "start_time": "2023-02-01T19:43:20.834Z"
   },
   {
    "duration": 30,
    "start_time": "2023-02-01T19:43:21.761Z"
   },
   {
    "duration": 26,
    "start_time": "2023-02-01T19:44:11.721Z"
   },
   {
    "duration": 14,
    "start_time": "2023-02-01T19:44:34.019Z"
   },
   {
    "duration": 17,
    "start_time": "2023-02-01T19:44:42.420Z"
   },
   {
    "duration": 12,
    "start_time": "2023-02-01T20:02:05.902Z"
   },
   {
    "duration": 12,
    "start_time": "2023-02-01T20:02:09.218Z"
   },
   {
    "duration": 23,
    "start_time": "2023-02-01T20:02:35.080Z"
   },
   {
    "duration": 7,
    "start_time": "2023-02-01T20:12:19.882Z"
   },
   {
    "duration": 4,
    "start_time": "2023-02-01T20:15:40.792Z"
   },
   {
    "duration": 11,
    "start_time": "2023-02-01T20:18:12.624Z"
   },
   {
    "duration": 5,
    "start_time": "2023-02-01T20:18:47.004Z"
   },
   {
    "duration": 18,
    "start_time": "2023-02-01T20:18:47.265Z"
   },
   {
    "duration": 2,
    "start_time": "2023-02-01T20:19:13.136Z"
   },
   {
    "duration": 13,
    "start_time": "2023-02-01T20:19:15.664Z"
   },
   {
    "duration": 398,
    "start_time": "2023-02-01T20:19:15.680Z"
   },
   {
    "duration": 4,
    "start_time": "2023-02-01T20:19:16.080Z"
   },
   {
    "duration": 827,
    "start_time": "2023-02-01T20:19:16.085Z"
   },
   {
    "duration": 835,
    "start_time": "2023-02-01T20:19:16.915Z"
   },
   {
    "duration": 946,
    "start_time": "2023-02-01T20:19:17.751Z"
   },
   {
    "duration": 21,
    "start_time": "2023-02-01T20:19:18.699Z"
   },
   {
    "duration": 5,
    "start_time": "2023-02-01T20:19:18.721Z"
   },
   {
    "duration": 11,
    "start_time": "2023-02-01T20:19:18.728Z"
   },
   {
    "duration": 44,
    "start_time": "2023-02-01T20:19:18.740Z"
   },
   {
    "duration": 4,
    "start_time": "2023-02-01T20:19:18.786Z"
   },
   {
    "duration": 7,
    "start_time": "2023-02-01T20:19:18.792Z"
   },
   {
    "duration": 19,
    "start_time": "2023-02-01T20:19:18.801Z"
   },
   {
    "duration": 6,
    "start_time": "2023-02-01T20:19:18.822Z"
   },
   {
    "duration": 9,
    "start_time": "2023-02-01T20:19:18.843Z"
   },
   {
    "duration": 33,
    "start_time": "2023-02-01T20:19:18.855Z"
   },
   {
    "duration": 16,
    "start_time": "2023-02-01T20:19:18.889Z"
   },
   {
    "duration": 14,
    "start_time": "2023-02-01T20:19:18.906Z"
   },
   {
    "duration": 6,
    "start_time": "2023-02-01T20:19:18.921Z"
   },
   {
    "duration": 11,
    "start_time": "2023-02-01T20:19:18.966Z"
   },
   {
    "duration": 202,
    "start_time": "2023-02-01T20:19:18.978Z"
   },
   {
    "duration": 8,
    "start_time": "2023-02-01T20:19:19.182Z"
   },
   {
    "duration": 5,
    "start_time": "2023-02-01T20:19:19.276Z"
   },
   {
    "duration": 103,
    "start_time": "2023-02-01T20:19:19.283Z"
   },
   {
    "duration": 4,
    "start_time": "2023-02-01T20:19:19.388Z"
   },
   {
    "duration": 7,
    "start_time": "2023-02-01T20:19:19.393Z"
   },
   {
    "duration": 5,
    "start_time": "2023-02-01T20:19:19.401Z"
   },
   {
    "duration": 4,
    "start_time": "2023-02-01T20:19:19.407Z"
   },
   {
    "duration": 4,
    "start_time": "2023-02-01T20:19:19.413Z"
   },
   {
    "duration": 6,
    "start_time": "2023-02-01T20:19:19.418Z"
   },
   {
    "duration": 9,
    "start_time": "2023-02-01T20:19:19.425Z"
   },
   {
    "duration": 6,
    "start_time": "2023-02-01T20:19:19.435Z"
   },
   {
    "duration": 5,
    "start_time": "2023-02-01T20:19:19.442Z"
   },
   {
    "duration": 7,
    "start_time": "2023-02-01T20:19:19.449Z"
   },
   {
    "duration": 159,
    "start_time": "2023-02-01T20:19:19.467Z"
   },
   {
    "duration": 4,
    "start_time": "2023-02-01T20:19:19.628Z"
   },
   {
    "duration": 52,
    "start_time": "2023-02-01T20:19:19.635Z"
   },
   {
    "duration": 4,
    "start_time": "2023-02-01T20:19:19.689Z"
   },
   {
    "duration": 24,
    "start_time": "2023-02-01T20:19:19.695Z"
   },
   {
    "duration": 38,
    "start_time": "2023-02-01T20:19:19.721Z"
   },
   {
    "duration": 42,
    "start_time": "2023-02-01T20:19:19.761Z"
   },
   {
    "duration": 32,
    "start_time": "2023-02-01T20:19:19.805Z"
   },
   {
    "duration": 38,
    "start_time": "2023-02-01T20:19:19.838Z"
   },
   {
    "duration": 25,
    "start_time": "2023-02-01T20:19:19.877Z"
   },
   {
    "duration": 9,
    "start_time": "2023-02-01T20:20:48.177Z"
   },
   {
    "duration": 4,
    "start_time": "2023-02-01T20:20:48.534Z"
   },
   {
    "duration": 3,
    "start_time": "2023-02-01T20:21:05.100Z"
   },
   {
    "duration": 9,
    "start_time": "2023-02-01T20:21:05.429Z"
   },
   {
    "duration": 4,
    "start_time": "2023-02-01T20:21:40.750Z"
   },
   {
    "duration": 5,
    "start_time": "2023-02-01T20:21:41.655Z"
   },
   {
    "duration": 14,
    "start_time": "2023-02-01T20:21:42.143Z"
   },
   {
    "duration": 4,
    "start_time": "2023-02-01T20:22:44.389Z"
   },
   {
    "duration": 886,
    "start_time": "2023-02-01T20:22:45.063Z"
   },
   {
    "duration": 4,
    "start_time": "2023-02-01T20:32:00.208Z"
   },
   {
    "duration": 4,
    "start_time": "2023-02-01T20:32:18.001Z"
   },
   {
    "duration": 4,
    "start_time": "2023-02-01T20:32:33.836Z"
   },
   {
    "duration": 4,
    "start_time": "2023-02-01T20:32:44.029Z"
   },
   {
    "duration": 16,
    "start_time": "2023-02-01T20:33:12.848Z"
   },
   {
    "duration": 3,
    "start_time": "2023-02-01T20:33:31.819Z"
   },
   {
    "duration": 397,
    "start_time": "2023-02-01T20:33:31.824Z"
   },
   {
    "duration": 4,
    "start_time": "2023-02-01T20:33:32.222Z"
   },
   {
    "duration": 762,
    "start_time": "2023-02-01T20:33:32.228Z"
   },
   {
    "duration": 942,
    "start_time": "2023-02-01T20:33:32.992Z"
   },
   {
    "duration": 814,
    "start_time": "2023-02-01T20:33:33.935Z"
   },
   {
    "duration": 33,
    "start_time": "2023-02-01T20:33:34.750Z"
   },
   {
    "duration": 4,
    "start_time": "2023-02-01T20:33:34.785Z"
   },
   {
    "duration": 9,
    "start_time": "2023-02-01T20:33:34.791Z"
   },
   {
    "duration": 23,
    "start_time": "2023-02-01T20:33:34.802Z"
   },
   {
    "duration": 5,
    "start_time": "2023-02-01T20:33:34.828Z"
   },
   {
    "duration": 12,
    "start_time": "2023-02-01T20:33:34.835Z"
   },
   {
    "duration": 28,
    "start_time": "2023-02-01T20:33:34.866Z"
   },
   {
    "duration": 6,
    "start_time": "2023-02-01T20:33:34.898Z"
   },
   {
    "duration": 12,
    "start_time": "2023-02-01T20:33:34.906Z"
   },
   {
    "duration": 16,
    "start_time": "2023-02-01T20:33:34.919Z"
   },
   {
    "duration": 41,
    "start_time": "2023-02-01T20:33:34.937Z"
   },
   {
    "duration": 13,
    "start_time": "2023-02-01T20:33:34.982Z"
   },
   {
    "duration": 12,
    "start_time": "2023-02-01T20:33:34.997Z"
   },
   {
    "duration": 173,
    "start_time": "2023-02-01T20:33:35.011Z"
   },
   {
    "duration": 11,
    "start_time": "2023-02-01T20:33:35.187Z"
   },
   {
    "duration": 8,
    "start_time": "2023-02-01T20:33:35.274Z"
   },
   {
    "duration": 92,
    "start_time": "2023-02-01T20:33:35.286Z"
   },
   {
    "duration": 8,
    "start_time": "2023-02-01T20:33:35.381Z"
   },
   {
    "duration": 7,
    "start_time": "2023-02-01T20:33:35.390Z"
   },
   {
    "duration": 6,
    "start_time": "2023-02-01T20:33:35.398Z"
   },
   {
    "duration": 5,
    "start_time": "2023-02-01T20:33:35.405Z"
   },
   {
    "duration": 7,
    "start_time": "2023-02-01T20:33:35.412Z"
   },
   {
    "duration": 8,
    "start_time": "2023-02-01T20:33:35.420Z"
   },
   {
    "duration": 9,
    "start_time": "2023-02-01T20:33:35.429Z"
   },
   {
    "duration": 9,
    "start_time": "2023-02-01T20:33:35.439Z"
   },
   {
    "duration": 26,
    "start_time": "2023-02-01T20:33:35.449Z"
   },
   {
    "duration": 6,
    "start_time": "2023-02-01T20:33:35.477Z"
   },
   {
    "duration": 8,
    "start_time": "2023-02-01T20:33:35.485Z"
   },
   {
    "duration": 157,
    "start_time": "2023-02-01T20:33:35.494Z"
   },
   {
    "duration": 5,
    "start_time": "2023-02-01T20:33:35.653Z"
   },
   {
    "duration": 41,
    "start_time": "2023-02-01T20:33:35.674Z"
   },
   {
    "duration": 6,
    "start_time": "2023-02-01T20:33:35.717Z"
   },
   {
    "duration": 5,
    "start_time": "2023-02-01T20:33:35.724Z"
   },
   {
    "duration": 16,
    "start_time": "2023-02-01T20:33:35.731Z"
   },
   {
    "duration": 28,
    "start_time": "2023-02-01T20:33:35.750Z"
   },
   {
    "duration": 18,
    "start_time": "2023-02-01T20:33:35.782Z"
   },
   {
    "duration": 6,
    "start_time": "2023-02-01T20:33:35.802Z"
   },
   {
    "duration": 7,
    "start_time": "2023-02-01T20:33:35.810Z"
   },
   {
    "duration": 7,
    "start_time": "2023-02-01T20:33:35.819Z"
   },
   {
    "duration": 19,
    "start_time": "2023-02-01T20:33:35.828Z"
   },
   {
    "duration": 3,
    "start_time": "2023-02-01T20:35:23.389Z"
   },
   {
    "duration": 8,
    "start_time": "2023-02-01T20:35:28.137Z"
   },
   {
    "duration": 15,
    "start_time": "2023-02-01T20:35:31.785Z"
   },
   {
    "duration": 10,
    "start_time": "2023-02-01T20:42:28.999Z"
   },
   {
    "duration": 3,
    "start_time": "2023-02-01T20:42:44.588Z"
   },
   {
    "duration": 20,
    "start_time": "2023-02-01T20:42:44.916Z"
   },
   {
    "duration": 3,
    "start_time": "2023-02-01T20:42:59.537Z"
   },
   {
    "duration": 4,
    "start_time": "2023-02-01T20:43:06.133Z"
   },
   {
    "duration": 3,
    "start_time": "2023-02-01T20:43:07.026Z"
   },
   {
    "duration": 3,
    "start_time": "2023-02-01T20:43:07.548Z"
   },
   {
    "duration": 17,
    "start_time": "2023-02-01T20:43:08.092Z"
   },
   {
    "duration": 8,
    "start_time": "2023-02-01T20:44:26.732Z"
   },
   {
    "duration": 14,
    "start_time": "2023-02-01T20:44:27.966Z"
   },
   {
    "duration": 12,
    "start_time": "2023-02-01T20:44:28.250Z"
   },
   {
    "duration": 3,
    "start_time": "2023-02-01T20:55:11.098Z"
   },
   {
    "duration": 6,
    "start_time": "2023-02-01T20:55:40.881Z"
   },
   {
    "duration": 1551,
    "start_time": "2023-02-01T20:56:00.540Z"
   },
   {
    "duration": 3,
    "start_time": "2023-02-01T20:57:52.086Z"
   },
   {
    "duration": 3,
    "start_time": "2023-02-01T20:57:54.361Z"
   },
   {
    "duration": 413,
    "start_time": "2023-02-01T20:57:54.366Z"
   },
   {
    "duration": 17,
    "start_time": "2023-02-01T20:57:54.782Z"
   },
   {
    "duration": 1025,
    "start_time": "2023-02-01T20:57:54.802Z"
   },
   {
    "duration": 829,
    "start_time": "2023-02-01T20:57:55.828Z"
   },
   {
    "duration": 881,
    "start_time": "2023-02-01T20:57:56.666Z"
   },
   {
    "duration": 38,
    "start_time": "2023-02-01T20:57:57.549Z"
   },
   {
    "duration": 6,
    "start_time": "2023-02-01T20:57:57.588Z"
   },
   {
    "duration": 7,
    "start_time": "2023-02-01T20:57:57.597Z"
   },
   {
    "duration": 24,
    "start_time": "2023-02-01T20:57:57.605Z"
   },
   {
    "duration": 7,
    "start_time": "2023-02-01T20:57:57.630Z"
   },
   {
    "duration": 7,
    "start_time": "2023-02-01T20:57:57.638Z"
   },
   {
    "duration": 29,
    "start_time": "2023-02-01T20:57:57.673Z"
   },
   {
    "duration": 5,
    "start_time": "2023-02-01T20:57:57.703Z"
   },
   {
    "duration": 8,
    "start_time": "2023-02-01T20:57:57.709Z"
   },
   {
    "duration": 13,
    "start_time": "2023-02-01T20:57:57.719Z"
   },
   {
    "duration": 10,
    "start_time": "2023-02-01T20:57:57.733Z"
   },
   {
    "duration": 38,
    "start_time": "2023-02-01T20:57:57.745Z"
   },
   {
    "duration": 87,
    "start_time": "2023-02-01T20:57:57.785Z"
   },
   {
    "duration": 115,
    "start_time": "2023-02-01T20:57:57.874Z"
   },
   {
    "duration": 206,
    "start_time": "2023-02-01T20:57:57.991Z"
   },
   {
    "duration": 171,
    "start_time": "2023-02-01T20:57:58.200Z"
   },
   {
    "duration": 25,
    "start_time": "2023-02-01T20:57:58.372Z"
   },
   {
    "duration": 6,
    "start_time": "2023-02-01T20:57:58.401Z"
   },
   {
    "duration": 6,
    "start_time": "2023-02-01T20:57:58.408Z"
   },
   {
    "duration": 5,
    "start_time": "2023-02-01T20:57:58.416Z"
   },
   {
    "duration": 7,
    "start_time": "2023-02-01T20:57:58.423Z"
   },
   {
    "duration": 4,
    "start_time": "2023-02-01T20:57:58.432Z"
   },
   {
    "duration": 7,
    "start_time": "2023-02-01T20:57:58.438Z"
   },
   {
    "duration": 25,
    "start_time": "2023-02-01T20:57:58.447Z"
   },
   {
    "duration": 10,
    "start_time": "2023-02-01T20:57:58.479Z"
   },
   {
    "duration": 13,
    "start_time": "2023-02-01T20:57:58.491Z"
   },
   {
    "duration": 5,
    "start_time": "2023-02-01T20:57:58.506Z"
   },
   {
    "duration": 5,
    "start_time": "2023-02-01T20:57:58.513Z"
   },
   {
    "duration": 179,
    "start_time": "2023-02-01T20:57:58.519Z"
   },
   {
    "duration": 5,
    "start_time": "2023-02-01T20:57:58.700Z"
   },
   {
    "duration": 41,
    "start_time": "2023-02-01T20:57:58.707Z"
   },
   {
    "duration": 25,
    "start_time": "2023-02-01T20:57:58.749Z"
   },
   {
    "duration": 16,
    "start_time": "2023-02-01T20:57:58.776Z"
   },
   {
    "duration": 19,
    "start_time": "2023-02-01T20:57:58.793Z"
   },
   {
    "duration": 19,
    "start_time": "2023-02-01T20:57:58.813Z"
   },
   {
    "duration": 17,
    "start_time": "2023-02-01T20:57:58.834Z"
   },
   {
    "duration": 8,
    "start_time": "2023-02-01T20:57:58.852Z"
   },
   {
    "duration": 22,
    "start_time": "2023-02-01T20:57:58.861Z"
   },
   {
    "duration": 1579,
    "start_time": "2023-02-01T20:57:58.884Z"
   },
   {
    "duration": 4,
    "start_time": "2023-02-01T20:58:53.438Z"
   },
   {
    "duration": 3,
    "start_time": "2023-02-01T20:58:56.634Z"
   },
   {
    "duration": 440,
    "start_time": "2023-02-01T20:58:56.639Z"
   },
   {
    "duration": 5,
    "start_time": "2023-02-01T20:58:57.081Z"
   },
   {
    "duration": 1008,
    "start_time": "2023-02-01T20:58:57.088Z"
   },
   {
    "duration": 915,
    "start_time": "2023-02-01T20:58:58.097Z"
   },
   {
    "duration": 977,
    "start_time": "2023-02-01T20:58:59.014Z"
   },
   {
    "duration": 31,
    "start_time": "2023-02-01T20:58:59.993Z"
   },
   {
    "duration": 5,
    "start_time": "2023-02-01T20:59:00.026Z"
   },
   {
    "duration": 12,
    "start_time": "2023-02-01T20:59:00.034Z"
   },
   {
    "duration": 61,
    "start_time": "2023-02-01T20:59:00.048Z"
   },
   {
    "duration": 6,
    "start_time": "2023-02-01T20:59:00.111Z"
   },
   {
    "duration": 15,
    "start_time": "2023-02-01T20:59:00.119Z"
   },
   {
    "duration": 28,
    "start_time": "2023-02-01T20:59:00.136Z"
   },
   {
    "duration": 18,
    "start_time": "2023-02-01T20:59:00.166Z"
   },
   {
    "duration": 12,
    "start_time": "2023-02-01T20:59:00.187Z"
   },
   {
    "duration": 17,
    "start_time": "2023-02-01T20:59:00.200Z"
   },
   {
    "duration": 11,
    "start_time": "2023-02-01T20:59:00.219Z"
   },
   {
    "duration": 25,
    "start_time": "2023-02-01T20:59:00.232Z"
   },
   {
    "duration": 30,
    "start_time": "2023-02-01T20:59:00.258Z"
   },
   {
    "duration": 209,
    "start_time": "2023-02-01T20:59:00.290Z"
   },
   {
    "duration": 189,
    "start_time": "2023-02-01T20:59:00.501Z"
   },
   {
    "duration": 84,
    "start_time": "2023-02-01T20:59:00.698Z"
   },
   {
    "duration": 91,
    "start_time": "2023-02-01T20:59:00.791Z"
   },
   {
    "duration": 6,
    "start_time": "2023-02-01T20:59:00.886Z"
   },
   {
    "duration": 16,
    "start_time": "2023-02-01T20:59:00.894Z"
   },
   {
    "duration": 21,
    "start_time": "2023-02-01T20:59:00.912Z"
   },
   {
    "duration": 22,
    "start_time": "2023-02-01T20:59:00.935Z"
   },
   {
    "duration": 26,
    "start_time": "2023-02-01T20:59:00.959Z"
   },
   {
    "duration": 21,
    "start_time": "2023-02-01T20:59:00.987Z"
   },
   {
    "duration": 23,
    "start_time": "2023-02-01T20:59:01.010Z"
   },
   {
    "duration": 20,
    "start_time": "2023-02-01T20:59:01.035Z"
   },
   {
    "duration": 27,
    "start_time": "2023-02-01T20:59:01.057Z"
   },
   {
    "duration": 20,
    "start_time": "2023-02-01T20:59:01.086Z"
   },
   {
    "duration": 12,
    "start_time": "2023-02-01T20:59:01.108Z"
   },
   {
    "duration": 177,
    "start_time": "2023-02-01T20:59:01.122Z"
   },
   {
    "duration": 5,
    "start_time": "2023-02-01T20:59:01.301Z"
   },
   {
    "duration": 245,
    "start_time": "2023-02-01T20:59:01.308Z"
   },
   {
    "duration": 46,
    "start_time": "2023-02-01T20:59:01.555Z"
   },
   {
    "duration": 84,
    "start_time": "2023-02-01T20:59:01.603Z"
   },
   {
    "duration": 45,
    "start_time": "2023-02-01T20:59:01.688Z"
   },
   {
    "duration": 27,
    "start_time": "2023-02-01T20:59:01.735Z"
   },
   {
    "duration": 47,
    "start_time": "2023-02-01T20:59:01.763Z"
   },
   {
    "duration": 35,
    "start_time": "2023-02-01T20:59:01.812Z"
   },
   {
    "duration": 38,
    "start_time": "2023-02-01T20:59:01.849Z"
   },
   {
    "duration": 1693,
    "start_time": "2023-02-01T20:59:01.889Z"
   },
   {
    "duration": 1604,
    "start_time": "2023-02-01T20:59:08.045Z"
   },
   {
    "duration": 5,
    "start_time": "2023-02-01T21:02:25.222Z"
   },
   {
    "duration": 5,
    "start_time": "2023-02-01T21:02:48.017Z"
   },
   {
    "duration": 4,
    "start_time": "2023-02-01T21:02:54.326Z"
   },
   {
    "duration": 1685,
    "start_time": "2023-02-01T21:02:54.631Z"
   },
   {
    "duration": 9,
    "start_time": "2023-02-01T21:03:14.329Z"
   },
   {
    "duration": 4,
    "start_time": "2023-02-01T21:03:17.250Z"
   },
   {
    "duration": 12,
    "start_time": "2023-02-01T21:03:17.629Z"
   },
   {
    "duration": 4,
    "start_time": "2023-02-01T21:03:21.491Z"
   },
   {
    "duration": 4,
    "start_time": "2023-02-01T21:03:21.799Z"
   },
   {
    "duration": 16,
    "start_time": "2023-02-01T21:03:30.216Z"
   },
   {
    "duration": 5,
    "start_time": "2023-02-01T21:03:45.034Z"
   },
   {
    "duration": 1472,
    "start_time": "2023-02-01T21:03:45.617Z"
   },
   {
    "duration": 117,
    "start_time": "2023-02-01T21:06:12.066Z"
   },
   {
    "duration": 2017,
    "start_time": "2023-02-01T21:06:12.512Z"
   },
   {
    "duration": 3,
    "start_time": "2023-02-01T21:06:19.623Z"
   },
   {
    "duration": 502,
    "start_time": "2023-02-01T21:06:19.627Z"
   },
   {
    "duration": 4,
    "start_time": "2023-02-01T21:06:20.131Z"
   },
   {
    "duration": 891,
    "start_time": "2023-02-01T21:06:20.139Z"
   },
   {
    "duration": 1055,
    "start_time": "2023-02-01T21:06:21.032Z"
   },
   {
    "duration": 938,
    "start_time": "2023-02-01T21:06:22.090Z"
   },
   {
    "duration": 22,
    "start_time": "2023-02-01T21:06:23.030Z"
   },
   {
    "duration": 18,
    "start_time": "2023-02-01T21:06:23.054Z"
   },
   {
    "duration": 21,
    "start_time": "2023-02-01T21:06:23.074Z"
   },
   {
    "duration": 29,
    "start_time": "2023-02-01T21:06:23.096Z"
   },
   {
    "duration": 6,
    "start_time": "2023-02-01T21:06:23.127Z"
   },
   {
    "duration": 19,
    "start_time": "2023-02-01T21:06:23.135Z"
   },
   {
    "duration": 32,
    "start_time": "2023-02-01T21:06:23.156Z"
   },
   {
    "duration": 14,
    "start_time": "2023-02-01T21:06:23.191Z"
   },
   {
    "duration": 11,
    "start_time": "2023-02-01T21:06:23.208Z"
   },
   {
    "duration": 15,
    "start_time": "2023-02-01T21:06:23.221Z"
   },
   {
    "duration": 12,
    "start_time": "2023-02-01T21:06:23.238Z"
   },
   {
    "duration": 20,
    "start_time": "2023-02-01T21:06:23.275Z"
   },
   {
    "duration": 19,
    "start_time": "2023-02-01T21:06:23.297Z"
   },
   {
    "duration": 115,
    "start_time": "2023-02-01T21:06:23.371Z"
   },
   {
    "duration": 205,
    "start_time": "2023-02-01T21:06:23.488Z"
   },
   {
    "duration": 200,
    "start_time": "2023-02-01T21:06:23.695Z"
   },
   {
    "duration": 7,
    "start_time": "2023-02-01T21:06:23.896Z"
   },
   {
    "duration": 6,
    "start_time": "2023-02-01T21:06:23.908Z"
   },
   {
    "duration": 6,
    "start_time": "2023-02-01T21:06:23.916Z"
   },
   {
    "duration": 8,
    "start_time": "2023-02-01T21:06:23.925Z"
   },
   {
    "duration": 9,
    "start_time": "2023-02-01T21:06:23.935Z"
   },
   {
    "duration": 8,
    "start_time": "2023-02-01T21:06:23.946Z"
   },
   {
    "duration": 27,
    "start_time": "2023-02-01T21:06:23.956Z"
   },
   {
    "duration": 4,
    "start_time": "2023-02-01T21:06:23.986Z"
   },
   {
    "duration": 9,
    "start_time": "2023-02-01T21:06:23.992Z"
   },
   {
    "duration": 6,
    "start_time": "2023-02-01T21:06:24.004Z"
   },
   {
    "duration": 9,
    "start_time": "2023-02-01T21:06:24.012Z"
   },
   {
    "duration": 9,
    "start_time": "2023-02-01T21:06:24.023Z"
   },
   {
    "duration": 188,
    "start_time": "2023-02-01T21:06:24.034Z"
   },
   {
    "duration": 6,
    "start_time": "2023-02-01T21:06:24.224Z"
   },
   {
    "duration": 72,
    "start_time": "2023-02-01T21:06:24.232Z"
   },
   {
    "duration": 5,
    "start_time": "2023-02-01T21:06:24.307Z"
   },
   {
    "duration": 7,
    "start_time": "2023-02-01T21:06:24.313Z"
   },
   {
    "duration": 16,
    "start_time": "2023-02-01T21:06:24.322Z"
   },
   {
    "duration": 47,
    "start_time": "2023-02-01T21:06:24.340Z"
   },
   {
    "duration": 16,
    "start_time": "2023-02-01T21:06:24.388Z"
   },
   {
    "duration": 7,
    "start_time": "2023-02-01T21:06:24.406Z"
   },
   {
    "duration": 81,
    "start_time": "2023-02-01T21:06:24.414Z"
   },
   {
    "duration": 1,
    "start_time": "2023-02-01T21:06:24.496Z"
   },
   {
    "duration": 0,
    "start_time": "2023-02-01T21:06:24.498Z"
   },
   {
    "duration": 0,
    "start_time": "2023-02-01T21:06:24.499Z"
   },
   {
    "duration": 6,
    "start_time": "2023-02-01T21:06:48.750Z"
   },
   {
    "duration": 95,
    "start_time": "2023-02-01T21:06:50.354Z"
   },
   {
    "duration": 7,
    "start_time": "2023-02-01T21:06:57.928Z"
   },
   {
    "duration": 139,
    "start_time": "2023-02-01T21:06:58.696Z"
   },
   {
    "duration": 4,
    "start_time": "2023-02-01T21:07:55.891Z"
   },
   {
    "duration": 92,
    "start_time": "2023-02-01T21:07:56.382Z"
   },
   {
    "duration": 6,
    "start_time": "2023-02-01T21:09:00.910Z"
   },
   {
    "duration": 1539,
    "start_time": "2023-02-01T21:09:01.539Z"
   },
   {
    "duration": 8,
    "start_time": "2023-02-01T21:35:50.093Z"
   },
   {
    "duration": 5,
    "start_time": "2023-02-01T21:35:50.483Z"
   },
   {
    "duration": 44,
    "start_time": "2023-02-01T21:35:52.110Z"
   },
   {
    "duration": 5,
    "start_time": "2023-02-01T21:35:55.362Z"
   },
   {
    "duration": 7,
    "start_time": "2023-02-01T21:35:56.438Z"
   },
   {
    "duration": 1431,
    "start_time": "2023-02-01T21:36:36.422Z"
   },
   {
    "duration": 1461,
    "start_time": "2023-02-01T21:36:37.855Z"
   },
   {
    "duration": 4,
    "start_time": "2023-02-01T21:36:39.318Z"
   },
   {
    "duration": 814,
    "start_time": "2023-02-01T21:36:39.324Z"
   },
   {
    "duration": 888,
    "start_time": "2023-02-01T21:36:40.140Z"
   },
   {
    "duration": 820,
    "start_time": "2023-02-01T21:36:41.030Z"
   },
   {
    "duration": 18,
    "start_time": "2023-02-01T21:36:41.853Z"
   },
   {
    "duration": 18,
    "start_time": "2023-02-01T21:36:41.873Z"
   },
   {
    "duration": 19,
    "start_time": "2023-02-01T21:36:41.892Z"
   },
   {
    "duration": 28,
    "start_time": "2023-02-01T21:36:41.913Z"
   },
   {
    "duration": 12,
    "start_time": "2023-02-01T21:36:41.943Z"
   },
   {
    "duration": 35,
    "start_time": "2023-02-01T21:36:41.957Z"
   },
   {
    "duration": 31,
    "start_time": "2023-02-01T21:36:41.993Z"
   },
   {
    "duration": 8,
    "start_time": "2023-02-01T21:36:42.025Z"
   },
   {
    "duration": 27,
    "start_time": "2023-02-01T21:36:42.035Z"
   },
   {
    "duration": 30,
    "start_time": "2023-02-01T21:36:42.064Z"
   },
   {
    "duration": 191,
    "start_time": "2023-02-01T21:36:42.100Z"
   },
   {
    "duration": 15,
    "start_time": "2023-02-01T21:36:42.293Z"
   },
   {
    "duration": 24,
    "start_time": "2023-02-01T21:36:42.309Z"
   },
   {
    "duration": 166,
    "start_time": "2023-02-01T21:36:42.335Z"
   },
   {
    "duration": 86,
    "start_time": "2023-02-01T21:36:42.509Z"
   },
   {
    "duration": 97,
    "start_time": "2023-02-01T21:36:42.600Z"
   },
   {
    "duration": 93,
    "start_time": "2023-02-01T21:36:42.700Z"
   },
   {
    "duration": 10,
    "start_time": "2023-02-01T21:36:42.795Z"
   },
   {
    "duration": 5,
    "start_time": "2023-02-01T21:36:42.807Z"
   },
   {
    "duration": 10,
    "start_time": "2023-02-01T21:36:42.814Z"
   },
   {
    "duration": 9,
    "start_time": "2023-02-01T21:36:42.825Z"
   },
   {
    "duration": 13,
    "start_time": "2023-02-01T21:36:42.838Z"
   },
   {
    "duration": 15,
    "start_time": "2023-02-01T21:36:42.853Z"
   },
   {
    "duration": 6,
    "start_time": "2023-02-01T21:36:42.870Z"
   },
   {
    "duration": 16,
    "start_time": "2023-02-01T21:36:42.877Z"
   },
   {
    "duration": 18,
    "start_time": "2023-02-01T21:36:42.895Z"
   },
   {
    "duration": 22,
    "start_time": "2023-02-01T21:36:42.915Z"
   },
   {
    "duration": 17,
    "start_time": "2023-02-01T21:36:42.939Z"
   },
   {
    "duration": 158,
    "start_time": "2023-02-01T21:36:42.958Z"
   },
   {
    "duration": 5,
    "start_time": "2023-02-01T21:36:43.118Z"
   },
   {
    "duration": 37,
    "start_time": "2023-02-01T21:36:43.125Z"
   },
   {
    "duration": 18,
    "start_time": "2023-02-01T21:36:43.164Z"
   },
   {
    "duration": 12,
    "start_time": "2023-02-01T21:36:43.183Z"
   },
   {
    "duration": 19,
    "start_time": "2023-02-01T21:36:43.196Z"
   },
   {
    "duration": 16,
    "start_time": "2023-02-01T21:36:43.217Z"
   },
   {
    "duration": 30,
    "start_time": "2023-02-01T21:36:43.234Z"
   },
   {
    "duration": 21,
    "start_time": "2023-02-01T21:36:43.266Z"
   },
   {
    "duration": 10,
    "start_time": "2023-02-01T21:36:43.288Z"
   },
   {
    "duration": 115,
    "start_time": "2023-02-01T21:36:43.300Z"
   },
   {
    "duration": 0,
    "start_time": "2023-02-01T21:36:43.417Z"
   },
   {
    "duration": 0,
    "start_time": "2023-02-01T21:36:43.419Z"
   },
   {
    "duration": 0,
    "start_time": "2023-02-01T21:36:43.420Z"
   },
   {
    "duration": 0,
    "start_time": "2023-02-01T21:36:43.422Z"
   },
   {
    "duration": 0,
    "start_time": "2023-02-01T21:36:43.423Z"
   },
   {
    "duration": 0,
    "start_time": "2023-02-01T21:36:43.424Z"
   },
   {
    "duration": 2,
    "start_time": "2023-02-01T21:37:09.651Z"
   },
   {
    "duration": 3,
    "start_time": "2023-02-01T21:37:11.917Z"
   },
   {
    "duration": 414,
    "start_time": "2023-02-01T21:37:11.923Z"
   },
   {
    "duration": 6,
    "start_time": "2023-02-01T21:37:12.339Z"
   },
   {
    "duration": 940,
    "start_time": "2023-02-01T21:37:12.347Z"
   },
   {
    "duration": 884,
    "start_time": "2023-02-01T21:37:13.291Z"
   },
   {
    "duration": 821,
    "start_time": "2023-02-01T21:37:14.177Z"
   },
   {
    "duration": 22,
    "start_time": "2023-02-01T21:37:15.000Z"
   },
   {
    "duration": 40,
    "start_time": "2023-02-01T21:37:15.024Z"
   },
   {
    "duration": 10,
    "start_time": "2023-02-01T21:37:15.065Z"
   },
   {
    "duration": 46,
    "start_time": "2023-02-01T21:37:15.077Z"
   },
   {
    "duration": 4,
    "start_time": "2023-02-01T21:37:15.125Z"
   },
   {
    "duration": 7,
    "start_time": "2023-02-01T21:37:15.131Z"
   },
   {
    "duration": 20,
    "start_time": "2023-02-01T21:37:15.139Z"
   },
   {
    "duration": 5,
    "start_time": "2023-02-01T21:37:15.161Z"
   },
   {
    "duration": 23,
    "start_time": "2023-02-01T21:37:15.168Z"
   },
   {
    "duration": 21,
    "start_time": "2023-02-01T21:37:15.192Z"
   },
   {
    "duration": 12,
    "start_time": "2023-02-01T21:37:15.214Z"
   },
   {
    "duration": 10,
    "start_time": "2023-02-01T21:37:15.227Z"
   },
   {
    "duration": 61,
    "start_time": "2023-02-01T21:37:15.238Z"
   },
   {
    "duration": 8,
    "start_time": "2023-02-01T21:37:15.304Z"
   },
   {
    "duration": 135,
    "start_time": "2023-02-01T21:37:15.392Z"
   },
   {
    "duration": 66,
    "start_time": "2023-02-01T21:37:15.529Z"
   },
   {
    "duration": 111,
    "start_time": "2023-02-01T21:37:15.597Z"
   },
   {
    "duration": 6,
    "start_time": "2023-02-01T21:37:15.711Z"
   },
   {
    "duration": 7,
    "start_time": "2023-02-01T21:37:15.718Z"
   },
   {
    "duration": 10,
    "start_time": "2023-02-01T21:37:15.726Z"
   },
   {
    "duration": 6,
    "start_time": "2023-02-01T21:37:15.738Z"
   },
   {
    "duration": 5,
    "start_time": "2023-02-01T21:37:15.745Z"
   },
   {
    "duration": 7,
    "start_time": "2023-02-01T21:37:15.751Z"
   },
   {
    "duration": 6,
    "start_time": "2023-02-01T21:37:15.760Z"
   },
   {
    "duration": 5,
    "start_time": "2023-02-01T21:37:15.767Z"
   },
   {
    "duration": 5,
    "start_time": "2023-02-01T21:37:15.773Z"
   },
   {
    "duration": 3,
    "start_time": "2023-02-01T21:37:15.792Z"
   },
   {
    "duration": 25,
    "start_time": "2023-02-01T21:37:15.797Z"
   },
   {
    "duration": 162,
    "start_time": "2023-02-01T21:37:15.824Z"
   },
   {
    "duration": 11,
    "start_time": "2023-02-01T21:37:15.988Z"
   },
   {
    "duration": 46,
    "start_time": "2023-02-01T21:37:16.004Z"
   },
   {
    "duration": 7,
    "start_time": "2023-02-01T21:37:16.052Z"
   },
   {
    "duration": 10,
    "start_time": "2023-02-01T21:37:16.060Z"
   },
   {
    "duration": 18,
    "start_time": "2023-02-01T21:37:16.071Z"
   },
   {
    "duration": 21,
    "start_time": "2023-02-01T21:37:16.102Z"
   },
   {
    "duration": 14,
    "start_time": "2023-02-01T21:37:16.127Z"
   },
   {
    "duration": 5,
    "start_time": "2023-02-01T21:37:16.143Z"
   },
   {
    "duration": 7,
    "start_time": "2023-02-01T21:37:16.149Z"
   },
   {
    "duration": 14,
    "start_time": "2023-02-01T21:37:16.158Z"
   },
   {
    "duration": 0,
    "start_time": "2023-02-01T21:37:16.174Z"
   },
   {
    "duration": 0,
    "start_time": "2023-02-01T21:37:16.175Z"
   },
   {
    "duration": 0,
    "start_time": "2023-02-01T21:37:16.176Z"
   },
   {
    "duration": 0,
    "start_time": "2023-02-01T21:37:16.177Z"
   },
   {
    "duration": 0,
    "start_time": "2023-02-01T21:37:16.177Z"
   },
   {
    "duration": 0,
    "start_time": "2023-02-01T21:37:16.178Z"
   },
   {
    "duration": 40,
    "start_time": "2023-02-01T21:37:44.631Z"
   },
   {
    "duration": 7,
    "start_time": "2023-02-01T21:37:46.609Z"
   },
   {
    "duration": 434,
    "start_time": "2023-02-01T21:37:46.618Z"
   },
   {
    "duration": 5,
    "start_time": "2023-02-01T21:37:47.054Z"
   },
   {
    "duration": 924,
    "start_time": "2023-02-01T21:37:47.061Z"
   },
   {
    "duration": 833,
    "start_time": "2023-02-01T21:37:47.987Z"
   },
   {
    "duration": 1020,
    "start_time": "2023-02-01T21:37:48.822Z"
   },
   {
    "duration": 30,
    "start_time": "2023-02-01T21:37:49.846Z"
   },
   {
    "duration": 16,
    "start_time": "2023-02-01T21:37:49.878Z"
   },
   {
    "duration": 23,
    "start_time": "2023-02-01T21:37:49.897Z"
   },
   {
    "duration": 37,
    "start_time": "2023-02-01T21:37:49.924Z"
   },
   {
    "duration": 7,
    "start_time": "2023-02-01T21:37:49.964Z"
   },
   {
    "duration": 10,
    "start_time": "2023-02-01T21:37:49.973Z"
   },
   {
    "duration": 32,
    "start_time": "2023-02-01T21:37:49.985Z"
   },
   {
    "duration": 7,
    "start_time": "2023-02-01T21:37:50.019Z"
   },
   {
    "duration": 36,
    "start_time": "2023-02-01T21:37:50.028Z"
   },
   {
    "duration": 25,
    "start_time": "2023-02-01T21:37:50.065Z"
   },
   {
    "duration": 10,
    "start_time": "2023-02-01T21:37:50.092Z"
   },
   {
    "duration": 14,
    "start_time": "2023-02-01T21:37:50.103Z"
   },
   {
    "duration": 75,
    "start_time": "2023-02-01T21:37:50.119Z"
   },
   {
    "duration": 101,
    "start_time": "2023-02-01T21:37:50.196Z"
   },
   {
    "duration": 215,
    "start_time": "2023-02-01T21:37:50.304Z"
   },
   {
    "duration": 75,
    "start_time": "2023-02-01T21:37:50.521Z"
   },
   {
    "duration": 91,
    "start_time": "2023-02-01T21:37:50.603Z"
   },
   {
    "duration": 10,
    "start_time": "2023-02-01T21:37:50.695Z"
   },
   {
    "duration": 18,
    "start_time": "2023-02-01T21:37:50.707Z"
   },
   {
    "duration": 12,
    "start_time": "2023-02-01T21:37:50.727Z"
   },
   {
    "duration": 11,
    "start_time": "2023-02-01T21:37:50.740Z"
   },
   {
    "duration": 7,
    "start_time": "2023-02-01T21:37:50.756Z"
   },
   {
    "duration": 12,
    "start_time": "2023-02-01T21:37:50.765Z"
   },
   {
    "duration": 11,
    "start_time": "2023-02-01T21:37:50.779Z"
   },
   {
    "duration": 12,
    "start_time": "2023-02-01T21:37:50.792Z"
   },
   {
    "duration": 11,
    "start_time": "2023-02-01T21:37:50.806Z"
   },
   {
    "duration": 13,
    "start_time": "2023-02-01T21:37:50.820Z"
   },
   {
    "duration": 15,
    "start_time": "2023-02-01T21:37:50.836Z"
   },
   {
    "duration": 175,
    "start_time": "2023-02-01T21:37:50.853Z"
   },
   {
    "duration": 6,
    "start_time": "2023-02-01T21:37:51.030Z"
   },
   {
    "duration": 65,
    "start_time": "2023-02-01T21:37:51.038Z"
   },
   {
    "duration": 12,
    "start_time": "2023-02-01T21:37:51.105Z"
   },
   {
    "duration": 22,
    "start_time": "2023-02-01T21:37:51.119Z"
   },
   {
    "duration": 32,
    "start_time": "2023-02-01T21:37:51.143Z"
   },
   {
    "duration": 38,
    "start_time": "2023-02-01T21:37:51.177Z"
   },
   {
    "duration": 36,
    "start_time": "2023-02-01T21:37:51.218Z"
   },
   {
    "duration": 23,
    "start_time": "2023-02-01T21:37:51.257Z"
   },
   {
    "duration": 11,
    "start_time": "2023-02-01T21:37:51.282Z"
   },
   {
    "duration": 1769,
    "start_time": "2023-02-01T21:37:51.294Z"
   },
   {
    "duration": 1651,
    "start_time": "2023-02-01T21:37:53.065Z"
   },
   {
    "duration": 1450,
    "start_time": "2023-02-01T21:37:54.718Z"
   },
   {
    "duration": 5,
    "start_time": "2023-02-01T21:37:56.169Z"
   },
   {
    "duration": 1448,
    "start_time": "2023-02-01T21:37:56.175Z"
   },
   {
    "duration": 0,
    "start_time": "2023-02-01T21:37:57.625Z"
   },
   {
    "duration": 0,
    "start_time": "2023-02-01T21:37:57.626Z"
   },
   {
    "duration": 4,
    "start_time": "2023-02-01T21:38:11.442Z"
   },
   {
    "duration": 4,
    "start_time": "2023-02-01T21:38:13.609Z"
   },
   {
    "duration": 412,
    "start_time": "2023-02-01T21:38:13.615Z"
   },
   {
    "duration": 4,
    "start_time": "2023-02-01T21:38:14.029Z"
   },
   {
    "duration": 860,
    "start_time": "2023-02-01T21:38:14.035Z"
   },
   {
    "duration": 911,
    "start_time": "2023-02-01T21:38:14.898Z"
   },
   {
    "duration": 1047,
    "start_time": "2023-02-01T21:38:15.811Z"
   },
   {
    "duration": 31,
    "start_time": "2023-02-01T21:38:16.860Z"
   },
   {
    "duration": 7,
    "start_time": "2023-02-01T21:38:16.895Z"
   },
   {
    "duration": 24,
    "start_time": "2023-02-01T21:38:16.904Z"
   },
   {
    "duration": 38,
    "start_time": "2023-02-01T21:38:16.930Z"
   },
   {
    "duration": 6,
    "start_time": "2023-02-01T21:38:16.971Z"
   },
   {
    "duration": 10,
    "start_time": "2023-02-01T21:38:16.979Z"
   },
   {
    "duration": 46,
    "start_time": "2023-02-01T21:38:16.991Z"
   },
   {
    "duration": 6,
    "start_time": "2023-02-01T21:38:17.040Z"
   },
   {
    "duration": 9,
    "start_time": "2023-02-01T21:38:17.048Z"
   },
   {
    "duration": 12,
    "start_time": "2023-02-01T21:38:17.058Z"
   },
   {
    "duration": 14,
    "start_time": "2023-02-01T21:38:17.072Z"
   },
   {
    "duration": 19,
    "start_time": "2023-02-01T21:38:17.088Z"
   },
   {
    "duration": 20,
    "start_time": "2023-02-01T21:38:17.109Z"
   },
   {
    "duration": 8,
    "start_time": "2023-02-01T21:38:17.131Z"
   },
   {
    "duration": 18,
    "start_time": "2023-02-01T21:38:17.193Z"
   },
   {
    "duration": 81,
    "start_time": "2023-02-01T21:38:17.214Z"
   },
   {
    "duration": 103,
    "start_time": "2023-02-01T21:38:17.301Z"
   },
   {
    "duration": 18,
    "start_time": "2023-02-01T21:38:17.406Z"
   },
   {
    "duration": 8,
    "start_time": "2023-02-01T21:38:17.426Z"
   },
   {
    "duration": 8,
    "start_time": "2023-02-01T21:38:17.436Z"
   },
   {
    "duration": 9,
    "start_time": "2023-02-01T21:38:17.446Z"
   },
   {
    "duration": 7,
    "start_time": "2023-02-01T21:38:17.456Z"
   },
   {
    "duration": 5,
    "start_time": "2023-02-01T21:38:17.465Z"
   },
   {
    "duration": 8,
    "start_time": "2023-02-01T21:38:17.472Z"
   },
   {
    "duration": 6,
    "start_time": "2023-02-01T21:38:17.481Z"
   },
   {
    "duration": 18,
    "start_time": "2023-02-01T21:38:17.491Z"
   },
   {
    "duration": 5,
    "start_time": "2023-02-01T21:38:17.511Z"
   },
   {
    "duration": 6,
    "start_time": "2023-02-01T21:38:17.518Z"
   },
   {
    "duration": 174,
    "start_time": "2023-02-01T21:38:17.525Z"
   },
   {
    "duration": 7,
    "start_time": "2023-02-01T21:38:17.701Z"
   },
   {
    "duration": 42,
    "start_time": "2023-02-01T21:38:17.711Z"
   },
   {
    "duration": 10,
    "start_time": "2023-02-01T21:38:17.754Z"
   },
   {
    "duration": 9,
    "start_time": "2023-02-01T21:38:17.766Z"
   },
   {
    "duration": 52,
    "start_time": "2023-02-01T21:38:17.776Z"
   },
   {
    "duration": 23,
    "start_time": "2023-02-01T21:38:17.833Z"
   },
   {
    "duration": 19,
    "start_time": "2023-02-01T21:38:17.858Z"
   },
   {
    "duration": 5,
    "start_time": "2023-02-01T21:38:17.879Z"
   },
   {
    "duration": 24,
    "start_time": "2023-02-01T21:38:17.885Z"
   },
   {
    "duration": 1623,
    "start_time": "2023-02-01T21:38:17.910Z"
   },
   {
    "duration": 1644,
    "start_time": "2023-02-01T21:38:19.535Z"
   },
   {
    "duration": 1687,
    "start_time": "2023-02-01T21:38:21.180Z"
   },
   {
    "duration": 6,
    "start_time": "2023-02-01T21:38:22.869Z"
   },
   {
    "duration": 1521,
    "start_time": "2023-02-01T21:38:22.876Z"
   },
   {
    "duration": 1514,
    "start_time": "2023-02-01T21:38:24.399Z"
   },
   {
    "duration": 1493,
    "start_time": "2023-02-01T21:38:25.915Z"
   },
   {
    "duration": 1117,
    "start_time": "2023-02-02T10:35:10.745Z"
   },
   {
    "duration": 347,
    "start_time": "2023-02-02T10:35:11.864Z"
   },
   {
    "duration": 5,
    "start_time": "2023-02-02T10:35:12.212Z"
   },
   {
    "duration": 757,
    "start_time": "2023-02-02T10:35:12.219Z"
   },
   {
    "duration": 921,
    "start_time": "2023-02-02T10:35:12.978Z"
   },
   {
    "duration": 766,
    "start_time": "2023-02-02T10:35:13.901Z"
   },
   {
    "duration": 24,
    "start_time": "2023-02-02T10:35:14.668Z"
   },
   {
    "duration": 6,
    "start_time": "2023-02-02T10:35:14.693Z"
   },
   {
    "duration": 8,
    "start_time": "2023-02-02T10:35:14.700Z"
   },
   {
    "duration": 20,
    "start_time": "2023-02-02T10:35:14.711Z"
   },
   {
    "duration": 5,
    "start_time": "2023-02-02T10:35:14.732Z"
   },
   {
    "duration": 7,
    "start_time": "2023-02-02T10:35:14.739Z"
   },
   {
    "duration": 43,
    "start_time": "2023-02-02T10:35:14.748Z"
   },
   {
    "duration": 5,
    "start_time": "2023-02-02T10:35:14.793Z"
   },
   {
    "duration": 12,
    "start_time": "2023-02-02T10:35:14.800Z"
   },
   {
    "duration": 31,
    "start_time": "2023-02-02T10:35:14.814Z"
   },
   {
    "duration": 20,
    "start_time": "2023-02-02T10:35:14.846Z"
   },
   {
    "duration": 33,
    "start_time": "2023-02-02T10:35:14.868Z"
   },
   {
    "duration": 10,
    "start_time": "2023-02-02T10:35:14.903Z"
   },
   {
    "duration": 183,
    "start_time": "2023-02-02T10:35:14.914Z"
   },
   {
    "duration": 198,
    "start_time": "2023-02-02T10:35:15.100Z"
   },
   {
    "duration": 94,
    "start_time": "2023-02-02T10:35:15.300Z"
   },
   {
    "duration": 101,
    "start_time": "2023-02-02T10:35:15.397Z"
   },
   {
    "duration": 7,
    "start_time": "2023-02-02T10:35:15.499Z"
   },
   {
    "duration": 5,
    "start_time": "2023-02-02T10:35:15.508Z"
   },
   {
    "duration": 5,
    "start_time": "2023-02-02T10:35:15.515Z"
   },
   {
    "duration": 5,
    "start_time": "2023-02-02T10:35:15.522Z"
   },
   {
    "duration": 4,
    "start_time": "2023-02-02T10:35:15.530Z"
   },
   {
    "duration": 7,
    "start_time": "2023-02-02T10:35:15.535Z"
   },
   {
    "duration": 13,
    "start_time": "2023-02-02T10:35:15.543Z"
   },
   {
    "duration": 6,
    "start_time": "2023-02-02T10:35:15.558Z"
   },
   {
    "duration": 8,
    "start_time": "2023-02-02T10:35:15.566Z"
   },
   {
    "duration": 3,
    "start_time": "2023-02-02T10:35:15.592Z"
   },
   {
    "duration": 6,
    "start_time": "2023-02-02T10:35:15.596Z"
   },
   {
    "duration": 154,
    "start_time": "2023-02-02T10:35:15.604Z"
   },
   {
    "duration": 5,
    "start_time": "2023-02-02T10:35:15.760Z"
   },
   {
    "duration": 73,
    "start_time": "2023-02-02T10:35:15.767Z"
   },
   {
    "duration": 16,
    "start_time": "2023-02-02T10:35:15.842Z"
   },
   {
    "duration": 15,
    "start_time": "2023-02-02T10:35:15.859Z"
   },
   {
    "duration": 20,
    "start_time": "2023-02-02T10:35:15.876Z"
   },
   {
    "duration": 25,
    "start_time": "2023-02-02T10:35:15.898Z"
   },
   {
    "duration": 17,
    "start_time": "2023-02-02T10:35:15.925Z"
   },
   {
    "duration": 6,
    "start_time": "2023-02-02T10:35:15.944Z"
   },
   {
    "duration": 10,
    "start_time": "2023-02-02T10:35:15.952Z"
   },
   {
    "duration": 1446,
    "start_time": "2023-02-02T10:35:15.964Z"
   },
   {
    "duration": 1353,
    "start_time": "2023-02-02T10:35:17.411Z"
   },
   {
    "duration": 1319,
    "start_time": "2023-02-02T10:35:18.766Z"
   },
   {
    "duration": 4,
    "start_time": "2023-02-02T10:35:20.092Z"
   },
   {
    "duration": 1241,
    "start_time": "2023-02-02T10:35:20.098Z"
   },
   {
    "duration": 1232,
    "start_time": "2023-02-02T10:35:21.340Z"
   },
   {
    "duration": 1237,
    "start_time": "2023-02-02T10:35:22.574Z"
   },
   {
    "duration": 6,
    "start_time": "2023-02-02T11:04:53.024Z"
   },
   {
    "duration": 1530,
    "start_time": "2023-02-02T16:32:19.256Z"
   },
   {
    "duration": 4,
    "start_time": "2023-02-02T16:34:34.576Z"
   },
   {
    "duration": 4,
    "start_time": "2023-02-02T16:35:20.668Z"
   },
   {
    "duration": 111,
    "start_time": "2023-02-02T16:35:24.424Z"
   },
   {
    "duration": 4,
    "start_time": "2023-02-02T16:35:30.357Z"
   },
   {
    "duration": 2105,
    "start_time": "2023-02-02T16:35:30.363Z"
   },
   {
    "duration": 4,
    "start_time": "2023-02-02T16:35:32.470Z"
   },
   {
    "duration": 822,
    "start_time": "2023-02-02T16:35:32.476Z"
   },
   {
    "duration": 956,
    "start_time": "2023-02-02T16:35:33.300Z"
   },
   {
    "duration": 862,
    "start_time": "2023-02-02T16:35:34.258Z"
   },
   {
    "duration": 17,
    "start_time": "2023-02-02T16:35:35.122Z"
   },
   {
    "duration": 5,
    "start_time": "2023-02-02T16:35:35.148Z"
   },
   {
    "duration": 16,
    "start_time": "2023-02-02T16:35:35.156Z"
   },
   {
    "duration": 36,
    "start_time": "2023-02-02T16:35:35.174Z"
   },
   {
    "duration": 7,
    "start_time": "2023-02-02T16:35:35.212Z"
   },
   {
    "duration": 28,
    "start_time": "2023-02-02T16:35:35.221Z"
   },
   {
    "duration": 27,
    "start_time": "2023-02-02T16:35:35.251Z"
   },
   {
    "duration": 5,
    "start_time": "2023-02-02T16:35:35.280Z"
   },
   {
    "duration": 17,
    "start_time": "2023-02-02T16:35:35.287Z"
   },
   {
    "duration": 29,
    "start_time": "2023-02-02T16:35:35.306Z"
   },
   {
    "duration": 11,
    "start_time": "2023-02-02T16:35:35.337Z"
   },
   {
    "duration": 17,
    "start_time": "2023-02-02T16:35:35.350Z"
   },
   {
    "duration": 9,
    "start_time": "2023-02-02T16:35:35.369Z"
   },
   {
    "duration": 171,
    "start_time": "2023-02-02T16:35:35.380Z"
   },
   {
    "duration": 99,
    "start_time": "2023-02-02T16:35:35.553Z"
   },
   {
    "duration": 95,
    "start_time": "2023-02-02T16:35:35.655Z"
   },
   {
    "duration": 105,
    "start_time": "2023-02-02T16:35:35.752Z"
   },
   {
    "duration": 5,
    "start_time": "2023-02-02T16:35:35.861Z"
   },
   {
    "duration": 10,
    "start_time": "2023-02-02T16:35:35.868Z"
   },
   {
    "duration": 13,
    "start_time": "2023-02-02T16:35:35.879Z"
   },
   {
    "duration": 6,
    "start_time": "2023-02-02T16:35:35.894Z"
   },
   {
    "duration": 8,
    "start_time": "2023-02-02T16:35:35.902Z"
   },
   {
    "duration": 22,
    "start_time": "2023-02-02T16:35:35.912Z"
   },
   {
    "duration": 11,
    "start_time": "2023-02-02T16:35:35.936Z"
   },
   {
    "duration": 6,
    "start_time": "2023-02-02T16:35:35.950Z"
   },
   {
    "duration": 6,
    "start_time": "2023-02-02T16:35:35.957Z"
   },
   {
    "duration": 6,
    "start_time": "2023-02-02T16:35:35.964Z"
   },
   {
    "duration": 8,
    "start_time": "2023-02-02T16:35:35.972Z"
   },
   {
    "duration": 180,
    "start_time": "2023-02-02T16:35:35.981Z"
   },
   {
    "duration": 5,
    "start_time": "2023-02-02T16:35:36.163Z"
   },
   {
    "duration": 52,
    "start_time": "2023-02-02T16:35:36.170Z"
   },
   {
    "duration": 9,
    "start_time": "2023-02-02T16:35:36.224Z"
   },
   {
    "duration": 7,
    "start_time": "2023-02-02T16:35:36.249Z"
   },
   {
    "duration": 23,
    "start_time": "2023-02-02T16:35:36.258Z"
   },
   {
    "duration": 39,
    "start_time": "2023-02-02T16:35:36.283Z"
   },
   {
    "duration": 72,
    "start_time": "2023-02-02T16:35:36.324Z"
   },
   {
    "duration": 10,
    "start_time": "2023-02-02T16:35:36.398Z"
   },
   {
    "duration": 48,
    "start_time": "2023-02-02T16:35:36.411Z"
   },
   {
    "duration": 1547,
    "start_time": "2023-02-02T16:35:36.462Z"
   },
   {
    "duration": 1552,
    "start_time": "2023-02-02T16:35:38.011Z"
   },
   {
    "duration": 1520,
    "start_time": "2023-02-02T16:35:39.564Z"
   },
   {
    "duration": 5,
    "start_time": "2023-02-02T16:35:41.085Z"
   },
   {
    "duration": 1342,
    "start_time": "2023-02-02T16:35:41.091Z"
   },
   {
    "duration": 1454,
    "start_time": "2023-02-02T16:35:42.434Z"
   },
   {
    "duration": 1334,
    "start_time": "2023-02-02T16:35:43.890Z"
   },
   {
    "duration": 4,
    "start_time": "2023-02-02T16:36:12.106Z"
   },
   {
    "duration": 986,
    "start_time": "2023-02-02T16:36:15.313Z"
   },
   {
    "duration": 5,
    "start_time": "2023-02-02T16:36:31.990Z"
   },
   {
    "duration": 37,
    "start_time": "2023-02-02T16:39:46.887Z"
   },
   {
    "duration": 7,
    "start_time": "2023-02-02T16:41:35.845Z"
   },
   {
    "duration": 879,
    "start_time": "2023-02-02T16:41:38.272Z"
   },
   {
    "duration": 5,
    "start_time": "2023-02-02T16:41:59.645Z"
   },
   {
    "duration": 1219,
    "start_time": "2023-02-02T16:42:01.851Z"
   },
   {
    "duration": 4,
    "start_time": "2023-02-02T16:42:40.745Z"
   },
   {
    "duration": 1199,
    "start_time": "2023-02-02T16:42:46.129Z"
   },
   {
    "duration": 4,
    "start_time": "2023-02-02T16:43:04.512Z"
   },
   {
    "duration": 5,
    "start_time": "2023-02-02T16:45:10.615Z"
   },
   {
    "duration": 1302,
    "start_time": "2023-02-02T16:45:13.143Z"
   },
   {
    "duration": 7,
    "start_time": "2023-02-02T16:45:47.440Z"
   },
   {
    "duration": 935,
    "start_time": "2023-02-02T16:45:49.690Z"
   },
   {
    "duration": 5,
    "start_time": "2023-02-02T16:46:16.780Z"
   },
   {
    "duration": 906,
    "start_time": "2023-02-02T16:46:19.676Z"
   },
   {
    "duration": 8,
    "start_time": "2023-02-02T16:46:34.800Z"
   },
   {
    "duration": 904,
    "start_time": "2023-02-02T16:46:36.889Z"
   },
   {
    "duration": 4,
    "start_time": "2023-02-02T16:46:40.871Z"
   },
   {
    "duration": 423,
    "start_time": "2023-02-02T16:46:40.877Z"
   },
   {
    "duration": 7,
    "start_time": "2023-02-02T16:46:41.302Z"
   },
   {
    "duration": 980,
    "start_time": "2023-02-02T16:46:41.311Z"
   },
   {
    "duration": 0,
    "start_time": "2023-02-02T16:46:42.294Z"
   },
   {
    "duration": 0,
    "start_time": "2023-02-02T16:46:42.295Z"
   },
   {
    "duration": 0,
    "start_time": "2023-02-02T16:46:42.297Z"
   },
   {
    "duration": 0,
    "start_time": "2023-02-02T16:46:42.298Z"
   },
   {
    "duration": 0,
    "start_time": "2023-02-02T16:46:42.298Z"
   },
   {
    "duration": 1,
    "start_time": "2023-02-02T16:46:42.299Z"
   },
   {
    "duration": 0,
    "start_time": "2023-02-02T16:46:42.301Z"
   },
   {
    "duration": 0,
    "start_time": "2023-02-02T16:46:42.302Z"
   },
   {
    "duration": 0,
    "start_time": "2023-02-02T16:46:42.303Z"
   },
   {
    "duration": 0,
    "start_time": "2023-02-02T16:46:42.304Z"
   },
   {
    "duration": 0,
    "start_time": "2023-02-02T16:46:42.305Z"
   },
   {
    "duration": 0,
    "start_time": "2023-02-02T16:46:42.306Z"
   },
   {
    "duration": 0,
    "start_time": "2023-02-02T16:46:42.308Z"
   },
   {
    "duration": 0,
    "start_time": "2023-02-02T16:46:42.309Z"
   },
   {
    "duration": 0,
    "start_time": "2023-02-02T16:46:42.310Z"
   },
   {
    "duration": 0,
    "start_time": "2023-02-02T16:46:42.311Z"
   },
   {
    "duration": 0,
    "start_time": "2023-02-02T16:46:42.314Z"
   },
   {
    "duration": 0,
    "start_time": "2023-02-02T16:46:42.315Z"
   },
   {
    "duration": 0,
    "start_time": "2023-02-02T16:46:42.348Z"
   },
   {
    "duration": 0,
    "start_time": "2023-02-02T16:46:42.350Z"
   },
   {
    "duration": 0,
    "start_time": "2023-02-02T16:46:42.351Z"
   },
   {
    "duration": 0,
    "start_time": "2023-02-02T16:46:42.352Z"
   },
   {
    "duration": 0,
    "start_time": "2023-02-02T16:46:42.354Z"
   },
   {
    "duration": 0,
    "start_time": "2023-02-02T16:46:42.355Z"
   },
   {
    "duration": 0,
    "start_time": "2023-02-02T16:46:42.357Z"
   },
   {
    "duration": 0,
    "start_time": "2023-02-02T16:46:42.358Z"
   },
   {
    "duration": 0,
    "start_time": "2023-02-02T16:46:42.359Z"
   },
   {
    "duration": 0,
    "start_time": "2023-02-02T16:46:42.361Z"
   },
   {
    "duration": 0,
    "start_time": "2023-02-02T16:46:42.362Z"
   },
   {
    "duration": 0,
    "start_time": "2023-02-02T16:46:42.364Z"
   },
   {
    "duration": 0,
    "start_time": "2023-02-02T16:46:42.365Z"
   },
   {
    "duration": 0,
    "start_time": "2023-02-02T16:46:42.366Z"
   },
   {
    "duration": 0,
    "start_time": "2023-02-02T16:46:42.368Z"
   },
   {
    "duration": 1,
    "start_time": "2023-02-02T16:46:42.369Z"
   },
   {
    "duration": 0,
    "start_time": "2023-02-02T16:46:42.371Z"
   },
   {
    "duration": 0,
    "start_time": "2023-02-02T16:46:42.372Z"
   },
   {
    "duration": 0,
    "start_time": "2023-02-02T16:46:42.374Z"
   },
   {
    "duration": 0,
    "start_time": "2023-02-02T16:46:42.375Z"
   },
   {
    "duration": 0,
    "start_time": "2023-02-02T16:46:42.377Z"
   },
   {
    "duration": 0,
    "start_time": "2023-02-02T16:46:42.378Z"
   },
   {
    "duration": 0,
    "start_time": "2023-02-02T16:46:42.380Z"
   },
   {
    "duration": 0,
    "start_time": "2023-02-02T16:46:42.381Z"
   },
   {
    "duration": 0,
    "start_time": "2023-02-02T16:46:42.383Z"
   },
   {
    "duration": 0,
    "start_time": "2023-02-02T16:46:42.384Z"
   },
   {
    "duration": 0,
    "start_time": "2023-02-02T16:46:42.385Z"
   },
   {
    "duration": 0,
    "start_time": "2023-02-02T16:46:42.449Z"
   },
   {
    "duration": 0,
    "start_time": "2023-02-02T16:46:42.450Z"
   },
   {
    "duration": 6,
    "start_time": "2023-02-02T16:47:18.863Z"
   },
   {
    "duration": 1167,
    "start_time": "2023-02-02T16:47:20.585Z"
   },
   {
    "duration": 5,
    "start_time": "2023-02-02T16:48:23.899Z"
   },
   {
    "duration": 1528,
    "start_time": "2023-02-02T16:48:26.606Z"
   },
   {
    "duration": 8,
    "start_time": "2023-02-02T16:50:13.661Z"
   },
   {
    "duration": 1216,
    "start_time": "2023-02-02T16:50:16.491Z"
   },
   {
    "duration": 1294,
    "start_time": "2023-02-02T16:53:48.389Z"
   },
   {
    "duration": 1255,
    "start_time": "2023-02-02T16:53:53.728Z"
   },
   {
    "duration": 5,
    "start_time": "2023-02-02T17:03:18.401Z"
   },
   {
    "duration": 9,
    "start_time": "2023-02-02T17:04:43.896Z"
   },
   {
    "duration": 5,
    "start_time": "2023-02-02T17:04:57.034Z"
   },
   {
    "duration": 391,
    "start_time": "2023-02-02T17:04:57.041Z"
   },
   {
    "duration": 7,
    "start_time": "2023-02-02T17:04:57.434Z"
   },
   {
    "duration": 1203,
    "start_time": "2023-02-02T17:04:57.443Z"
   },
   {
    "duration": 1270,
    "start_time": "2023-02-02T17:04:58.648Z"
   },
   {
    "duration": 1200,
    "start_time": "2023-02-02T17:04:59.920Z"
   },
   {
    "duration": 6,
    "start_time": "2023-02-02T17:05:01.122Z"
   },
   {
    "duration": 16,
    "start_time": "2023-02-02T17:05:01.130Z"
   },
   {
    "duration": 22,
    "start_time": "2023-02-02T17:05:01.148Z"
   },
   {
    "duration": 13,
    "start_time": "2023-02-02T17:05:01.172Z"
   },
   {
    "duration": 26,
    "start_time": "2023-02-02T17:05:01.186Z"
   },
   {
    "duration": 0,
    "start_time": "2023-02-02T17:05:01.214Z"
   },
   {
    "duration": 0,
    "start_time": "2023-02-02T17:05:01.215Z"
   },
   {
    "duration": 0,
    "start_time": "2023-02-02T17:05:01.216Z"
   },
   {
    "duration": 0,
    "start_time": "2023-02-02T17:05:01.218Z"
   },
   {
    "duration": 0,
    "start_time": "2023-02-02T17:05:01.219Z"
   },
   {
    "duration": 0,
    "start_time": "2023-02-02T17:05:01.219Z"
   },
   {
    "duration": 0,
    "start_time": "2023-02-02T17:05:01.220Z"
   },
   {
    "duration": 0,
    "start_time": "2023-02-02T17:05:01.221Z"
   },
   {
    "duration": 0,
    "start_time": "2023-02-02T17:05:01.222Z"
   },
   {
    "duration": 0,
    "start_time": "2023-02-02T17:05:01.223Z"
   },
   {
    "duration": 0,
    "start_time": "2023-02-02T17:05:01.224Z"
   },
   {
    "duration": 0,
    "start_time": "2023-02-02T17:05:01.225Z"
   },
   {
    "duration": 0,
    "start_time": "2023-02-02T17:05:01.226Z"
   },
   {
    "duration": 0,
    "start_time": "2023-02-02T17:05:01.227Z"
   },
   {
    "duration": 0,
    "start_time": "2023-02-02T17:05:01.228Z"
   },
   {
    "duration": 0,
    "start_time": "2023-02-02T17:05:01.230Z"
   },
   {
    "duration": 0,
    "start_time": "2023-02-02T17:05:01.230Z"
   },
   {
    "duration": 0,
    "start_time": "2023-02-02T17:05:01.231Z"
   },
   {
    "duration": 0,
    "start_time": "2023-02-02T17:05:01.232Z"
   },
   {
    "duration": 0,
    "start_time": "2023-02-02T17:05:01.233Z"
   },
   {
    "duration": 0,
    "start_time": "2023-02-02T17:05:01.234Z"
   },
   {
    "duration": 0,
    "start_time": "2023-02-02T17:05:01.235Z"
   },
   {
    "duration": 0,
    "start_time": "2023-02-02T17:05:01.236Z"
   },
   {
    "duration": 0,
    "start_time": "2023-02-02T17:05:01.237Z"
   },
   {
    "duration": 0,
    "start_time": "2023-02-02T17:05:01.238Z"
   },
   {
    "duration": 0,
    "start_time": "2023-02-02T17:05:01.248Z"
   },
   {
    "duration": 0,
    "start_time": "2023-02-02T17:05:01.249Z"
   },
   {
    "duration": 0,
    "start_time": "2023-02-02T17:05:01.250Z"
   },
   {
    "duration": 0,
    "start_time": "2023-02-02T17:05:01.252Z"
   },
   {
    "duration": 0,
    "start_time": "2023-02-02T17:05:01.252Z"
   },
   {
    "duration": 0,
    "start_time": "2023-02-02T17:05:01.253Z"
   },
   {
    "duration": 0,
    "start_time": "2023-02-02T17:05:01.254Z"
   },
   {
    "duration": 0,
    "start_time": "2023-02-02T17:05:01.255Z"
   },
   {
    "duration": 0,
    "start_time": "2023-02-02T17:05:01.256Z"
   },
   {
    "duration": 0,
    "start_time": "2023-02-02T17:05:01.257Z"
   },
   {
    "duration": 0,
    "start_time": "2023-02-02T17:05:01.258Z"
   },
   {
    "duration": 0,
    "start_time": "2023-02-02T17:05:01.259Z"
   },
   {
    "duration": 0,
    "start_time": "2023-02-02T17:05:01.260Z"
   },
   {
    "duration": 0,
    "start_time": "2023-02-02T17:05:01.261Z"
   },
   {
    "duration": 0,
    "start_time": "2023-02-02T17:05:01.262Z"
   },
   {
    "duration": 0,
    "start_time": "2023-02-02T17:05:01.263Z"
   },
   {
    "duration": 0,
    "start_time": "2023-02-02T17:05:01.264Z"
   },
   {
    "duration": 28,
    "start_time": "2023-02-02T17:05:40.256Z"
   },
   {
    "duration": 8,
    "start_time": "2023-02-02T17:05:56.510Z"
   },
   {
    "duration": 25,
    "start_time": "2023-02-02T17:05:59.360Z"
   },
   {
    "duration": 29,
    "start_time": "2023-02-02T17:07:28.506Z"
   },
   {
    "duration": 3,
    "start_time": "2023-02-02T17:07:47.050Z"
   },
   {
    "duration": 3,
    "start_time": "2023-02-02T17:07:51.583Z"
   },
   {
    "duration": 22,
    "start_time": "2023-02-02T17:08:16.048Z"
   },
   {
    "duration": 5,
    "start_time": "2023-02-02T17:13:01.534Z"
   },
   {
    "duration": 6,
    "start_time": "2023-02-02T17:13:21.116Z"
   },
   {
    "duration": 25,
    "start_time": "2023-02-02T17:13:25.419Z"
   },
   {
    "duration": 28,
    "start_time": "2023-02-02T17:13:35.850Z"
   },
   {
    "duration": 22,
    "start_time": "2023-02-02T17:13:38.491Z"
   },
   {
    "duration": 11,
    "start_time": "2023-02-02T17:15:33.733Z"
   },
   {
    "duration": 11,
    "start_time": "2023-02-02T17:15:35.269Z"
   },
   {
    "duration": 11,
    "start_time": "2023-02-02T17:15:36.117Z"
   },
   {
    "duration": 108,
    "start_time": "2023-02-02T17:15:38.545Z"
   },
   {
    "duration": 5,
    "start_time": "2023-02-02T17:15:39.460Z"
   },
   {
    "duration": 5,
    "start_time": "2023-02-02T17:15:40.354Z"
   },
   {
    "duration": 4,
    "start_time": "2023-02-02T17:15:45.002Z"
   },
   {
    "duration": 3,
    "start_time": "2023-02-02T17:15:48.521Z"
   },
   {
    "duration": 4,
    "start_time": "2023-02-02T17:15:54.583Z"
   },
   {
    "duration": 4,
    "start_time": "2023-02-02T17:15:56.512Z"
   },
   {
    "duration": 5,
    "start_time": "2023-02-02T17:16:01.038Z"
   },
   {
    "duration": 4,
    "start_time": "2023-02-02T17:16:03.251Z"
   },
   {
    "duration": 4,
    "start_time": "2023-02-02T17:16:41.506Z"
   },
   {
    "duration": 427,
    "start_time": "2023-02-02T17:16:41.512Z"
   },
   {
    "duration": 5,
    "start_time": "2023-02-02T17:16:41.941Z"
   },
   {
    "duration": 1287,
    "start_time": "2023-02-02T17:16:41.948Z"
   },
   {
    "duration": 1327,
    "start_time": "2023-02-02T17:16:43.237Z"
   },
   {
    "duration": 1294,
    "start_time": "2023-02-02T17:16:44.566Z"
   },
   {
    "duration": 6,
    "start_time": "2023-02-02T17:16:45.861Z"
   },
   {
    "duration": 8,
    "start_time": "2023-02-02T17:16:45.868Z"
   },
   {
    "duration": 12,
    "start_time": "2023-02-02T17:16:45.877Z"
   },
   {
    "duration": 15,
    "start_time": "2023-02-02T17:16:45.891Z"
   },
   {
    "duration": 32,
    "start_time": "2023-02-02T17:16:45.907Z"
   },
   {
    "duration": 2,
    "start_time": "2023-02-02T17:16:45.941Z"
   },
   {
    "duration": 15,
    "start_time": "2023-02-02T17:16:45.944Z"
   },
   {
    "duration": 10,
    "start_time": "2023-02-02T17:16:45.961Z"
   },
   {
    "duration": 25,
    "start_time": "2023-02-02T17:16:45.973Z"
   },
   {
    "duration": 2,
    "start_time": "2023-02-02T17:16:46.000Z"
   },
   {
    "duration": 12,
    "start_time": "2023-02-02T17:16:46.004Z"
   },
   {
    "duration": 20,
    "start_time": "2023-02-02T17:16:46.018Z"
   },
   {
    "duration": 27,
    "start_time": "2023-02-02T17:16:46.040Z"
   },
   {
    "duration": 11,
    "start_time": "2023-02-02T17:16:46.069Z"
   },
   {
    "duration": 18,
    "start_time": "2023-02-02T17:16:46.081Z"
   },
   {
    "duration": 13,
    "start_time": "2023-02-02T17:16:46.101Z"
   },
   {
    "duration": 44,
    "start_time": "2023-02-02T17:16:46.116Z"
   },
   {
    "duration": 99,
    "start_time": "2023-02-02T17:16:46.162Z"
   },
   {
    "duration": 201,
    "start_time": "2023-02-02T17:16:46.263Z"
   },
   {
    "duration": 199,
    "start_time": "2023-02-02T17:16:46.466Z"
   },
   {
    "duration": 4,
    "start_time": "2023-02-02T17:16:46.667Z"
   },
   {
    "duration": 6,
    "start_time": "2023-02-02T17:16:46.675Z"
   },
   {
    "duration": 12,
    "start_time": "2023-02-02T17:16:46.682Z"
   },
   {
    "duration": 8,
    "start_time": "2023-02-02T17:16:46.695Z"
   },
   {
    "duration": 10,
    "start_time": "2023-02-02T17:16:46.704Z"
   },
   {
    "duration": 5,
    "start_time": "2023-02-02T17:16:46.715Z"
   },
   {
    "duration": 6,
    "start_time": "2023-02-02T17:16:46.721Z"
   },
   {
    "duration": 21,
    "start_time": "2023-02-02T17:16:46.728Z"
   },
   {
    "duration": 7,
    "start_time": "2023-02-02T17:16:46.750Z"
   },
   {
    "duration": 8,
    "start_time": "2023-02-02T17:16:46.759Z"
   },
   {
    "duration": 9,
    "start_time": "2023-02-02T17:16:46.768Z"
   },
   {
    "duration": 9,
    "start_time": "2023-02-02T17:16:46.778Z"
   },
   {
    "duration": 177,
    "start_time": "2023-02-02T17:16:46.788Z"
   },
   {
    "duration": 6,
    "start_time": "2023-02-02T17:16:46.966Z"
   },
   {
    "duration": 485,
    "start_time": "2023-02-02T17:16:46.974Z"
   },
   {
    "duration": 13,
    "start_time": "2023-02-02T17:16:47.462Z"
   },
   {
    "duration": 0,
    "start_time": "2023-02-02T17:16:47.477Z"
   },
   {
    "duration": 0,
    "start_time": "2023-02-02T17:16:47.479Z"
   },
   {
    "duration": 0,
    "start_time": "2023-02-02T17:16:47.480Z"
   },
   {
    "duration": 0,
    "start_time": "2023-02-02T17:16:47.482Z"
   },
   {
    "duration": 0,
    "start_time": "2023-02-02T17:16:47.484Z"
   },
   {
    "duration": 0,
    "start_time": "2023-02-02T17:16:47.485Z"
   },
   {
    "duration": 0,
    "start_time": "2023-02-02T17:16:47.486Z"
   },
   {
    "duration": 0,
    "start_time": "2023-02-02T17:16:47.487Z"
   },
   {
    "duration": 0,
    "start_time": "2023-02-02T17:16:47.488Z"
   },
   {
    "duration": 0,
    "start_time": "2023-02-02T17:16:47.489Z"
   },
   {
    "duration": 0,
    "start_time": "2023-02-02T17:16:47.491Z"
   },
   {
    "duration": 0,
    "start_time": "2023-02-02T17:16:47.492Z"
   },
   {
    "duration": 0,
    "start_time": "2023-02-02T17:16:47.494Z"
   },
   {
    "duration": 3,
    "start_time": "2023-02-02T17:18:03.357Z"
   },
   {
    "duration": 5,
    "start_time": "2023-02-02T17:18:23.438Z"
   },
   {
    "duration": 4,
    "start_time": "2023-02-02T17:18:27.653Z"
   },
   {
    "duration": 404,
    "start_time": "2023-02-02T17:18:27.659Z"
   },
   {
    "duration": 6,
    "start_time": "2023-02-02T17:18:28.065Z"
   },
   {
    "duration": 1290,
    "start_time": "2023-02-02T17:18:28.074Z"
   },
   {
    "duration": 1343,
    "start_time": "2023-02-02T17:18:29.367Z"
   },
   {
    "duration": 1183,
    "start_time": "2023-02-02T17:18:30.712Z"
   },
   {
    "duration": 5,
    "start_time": "2023-02-02T17:18:31.897Z"
   },
   {
    "duration": 18,
    "start_time": "2023-02-02T17:18:31.904Z"
   },
   {
    "duration": 10,
    "start_time": "2023-02-02T17:18:31.925Z"
   },
   {
    "duration": 5,
    "start_time": "2023-02-02T17:18:31.937Z"
   },
   {
    "duration": 23,
    "start_time": "2023-02-02T17:18:31.944Z"
   },
   {
    "duration": 2,
    "start_time": "2023-02-02T17:18:31.969Z"
   },
   {
    "duration": 8,
    "start_time": "2023-02-02T17:18:31.973Z"
   },
   {
    "duration": 8,
    "start_time": "2023-02-02T17:18:31.982Z"
   },
   {
    "duration": 27,
    "start_time": "2023-02-02T17:18:31.992Z"
   },
   {
    "duration": 3,
    "start_time": "2023-02-02T17:18:32.020Z"
   },
   {
    "duration": 6,
    "start_time": "2023-02-02T17:18:32.024Z"
   },
   {
    "duration": 6,
    "start_time": "2023-02-02T17:18:32.031Z"
   },
   {
    "duration": 20,
    "start_time": "2023-02-02T17:18:32.049Z"
   },
   {
    "duration": 10,
    "start_time": "2023-02-02T17:18:32.071Z"
   },
   {
    "duration": 10,
    "start_time": "2023-02-02T17:18:32.083Z"
   },
   {
    "duration": 12,
    "start_time": "2023-02-02T17:18:32.094Z"
   },
   {
    "duration": 5,
    "start_time": "2023-02-02T17:18:32.107Z"
   },
   {
    "duration": 101,
    "start_time": "2023-02-02T17:18:32.152Z"
   },
   {
    "duration": 99,
    "start_time": "2023-02-02T17:18:32.256Z"
   },
   {
    "duration": 95,
    "start_time": "2023-02-02T17:18:32.359Z"
   },
   {
    "duration": 6,
    "start_time": "2023-02-02T17:18:32.456Z"
   },
   {
    "duration": 86,
    "start_time": "2023-02-02T17:18:32.465Z"
   },
   {
    "duration": 5,
    "start_time": "2023-02-02T17:18:32.553Z"
   },
   {
    "duration": 7,
    "start_time": "2023-02-02T17:18:32.559Z"
   },
   {
    "duration": 5,
    "start_time": "2023-02-02T17:18:32.568Z"
   },
   {
    "duration": 10,
    "start_time": "2023-02-02T17:18:32.575Z"
   },
   {
    "duration": 15,
    "start_time": "2023-02-02T17:18:32.586Z"
   },
   {
    "duration": 6,
    "start_time": "2023-02-02T17:18:32.604Z"
   },
   {
    "duration": 8,
    "start_time": "2023-02-02T17:18:32.612Z"
   },
   {
    "duration": 27,
    "start_time": "2023-02-02T17:18:32.622Z"
   },
   {
    "duration": 4,
    "start_time": "2023-02-02T17:18:32.650Z"
   },
   {
    "duration": 9,
    "start_time": "2023-02-02T17:18:32.656Z"
   },
   {
    "duration": 178,
    "start_time": "2023-02-02T17:18:32.666Z"
   },
   {
    "duration": 6,
    "start_time": "2023-02-02T17:18:32.846Z"
   },
   {
    "duration": 491,
    "start_time": "2023-02-02T17:18:32.854Z"
   },
   {
    "duration": 36,
    "start_time": "2023-02-02T17:18:33.348Z"
   },
   {
    "duration": 0,
    "start_time": "2023-02-02T17:18:33.386Z"
   },
   {
    "duration": 0,
    "start_time": "2023-02-02T17:18:33.387Z"
   },
   {
    "duration": 0,
    "start_time": "2023-02-02T17:18:33.389Z"
   },
   {
    "duration": 0,
    "start_time": "2023-02-02T17:18:33.390Z"
   },
   {
    "duration": 0,
    "start_time": "2023-02-02T17:18:33.392Z"
   },
   {
    "duration": 0,
    "start_time": "2023-02-02T17:18:33.393Z"
   },
   {
    "duration": 0,
    "start_time": "2023-02-02T17:18:33.394Z"
   },
   {
    "duration": 0,
    "start_time": "2023-02-02T17:18:33.395Z"
   },
   {
    "duration": 0,
    "start_time": "2023-02-02T17:18:33.397Z"
   },
   {
    "duration": 0,
    "start_time": "2023-02-02T17:18:33.398Z"
   },
   {
    "duration": 0,
    "start_time": "2023-02-02T17:18:33.399Z"
   },
   {
    "duration": 0,
    "start_time": "2023-02-02T17:18:33.400Z"
   },
   {
    "duration": 0,
    "start_time": "2023-02-02T17:18:33.401Z"
   },
   {
    "duration": 4,
    "start_time": "2023-02-02T17:27:46.117Z"
   },
   {
    "duration": 4,
    "start_time": "2023-02-02T17:27:50.048Z"
   },
   {
    "duration": 371,
    "start_time": "2023-02-02T17:27:50.054Z"
   },
   {
    "duration": 5,
    "start_time": "2023-02-02T17:27:50.427Z"
   },
   {
    "duration": 1321,
    "start_time": "2023-02-02T17:27:50.433Z"
   },
   {
    "duration": 1176,
    "start_time": "2023-02-02T17:27:51.757Z"
   },
   {
    "duration": 1314,
    "start_time": "2023-02-02T17:27:52.935Z"
   },
   {
    "duration": 6,
    "start_time": "2023-02-02T17:27:54.250Z"
   },
   {
    "duration": 18,
    "start_time": "2023-02-02T17:27:54.258Z"
   },
   {
    "duration": 8,
    "start_time": "2023-02-02T17:27:54.277Z"
   },
   {
    "duration": 10,
    "start_time": "2023-02-02T17:27:54.287Z"
   },
   {
    "duration": 29,
    "start_time": "2023-02-02T17:27:54.300Z"
   },
   {
    "duration": 2,
    "start_time": "2023-02-02T17:27:54.331Z"
   },
   {
    "duration": 5,
    "start_time": "2023-02-02T17:27:54.336Z"
   },
   {
    "duration": 12,
    "start_time": "2023-02-02T17:27:54.342Z"
   },
   {
    "duration": 26,
    "start_time": "2023-02-02T17:27:54.355Z"
   },
   {
    "duration": 3,
    "start_time": "2023-02-02T17:27:54.383Z"
   },
   {
    "duration": 5,
    "start_time": "2023-02-02T17:27:54.388Z"
   },
   {
    "duration": 5,
    "start_time": "2023-02-02T17:27:54.394Z"
   },
   {
    "duration": 32,
    "start_time": "2023-02-02T17:27:54.401Z"
   },
   {
    "duration": 9,
    "start_time": "2023-02-02T17:27:54.448Z"
   },
   {
    "duration": 10,
    "start_time": "2023-02-02T17:27:54.458Z"
   },
   {
    "duration": 10,
    "start_time": "2023-02-02T17:27:54.469Z"
   },
   {
    "duration": 4,
    "start_time": "2023-02-02T17:27:54.480Z"
   },
   {
    "duration": 68,
    "start_time": "2023-02-02T17:27:54.486Z"
   },
   {
    "duration": 94,
    "start_time": "2023-02-02T17:27:54.555Z"
   },
   {
    "duration": 10,
    "start_time": "2023-02-02T17:27:54.651Z"
   },
   {
    "duration": 87,
    "start_time": "2023-02-02T17:27:54.662Z"
   },
   {
    "duration": 3,
    "start_time": "2023-02-02T17:27:54.751Z"
   },
   {
    "duration": 8,
    "start_time": "2023-02-02T17:27:54.757Z"
   },
   {
    "duration": 5,
    "start_time": "2023-02-02T17:27:54.767Z"
   },
   {
    "duration": 4,
    "start_time": "2023-02-02T17:27:54.773Z"
   },
   {
    "duration": 11,
    "start_time": "2023-02-02T17:27:54.778Z"
   },
   {
    "duration": 5,
    "start_time": "2023-02-02T17:27:54.790Z"
   },
   {
    "duration": 8,
    "start_time": "2023-02-02T17:27:54.797Z"
   },
   {
    "duration": 5,
    "start_time": "2023-02-02T17:27:54.807Z"
   },
   {
    "duration": 35,
    "start_time": "2023-02-02T17:27:54.814Z"
   },
   {
    "duration": 5,
    "start_time": "2023-02-02T17:27:54.851Z"
   },
   {
    "duration": 8,
    "start_time": "2023-02-02T17:27:54.858Z"
   },
   {
    "duration": 156,
    "start_time": "2023-02-02T17:27:54.868Z"
   },
   {
    "duration": 5,
    "start_time": "2023-02-02T17:27:55.025Z"
   },
   {
    "duration": 450,
    "start_time": "2023-02-02T17:27:55.031Z"
   },
   {
    "duration": 12,
    "start_time": "2023-02-02T17:27:55.483Z"
   },
   {
    "duration": 0,
    "start_time": "2023-02-02T17:27:55.497Z"
   },
   {
    "duration": 0,
    "start_time": "2023-02-02T17:27:55.498Z"
   },
   {
    "duration": 0,
    "start_time": "2023-02-02T17:27:55.500Z"
   },
   {
    "duration": 0,
    "start_time": "2023-02-02T17:27:55.500Z"
   },
   {
    "duration": 0,
    "start_time": "2023-02-02T17:27:55.502Z"
   },
   {
    "duration": 0,
    "start_time": "2023-02-02T17:27:55.503Z"
   },
   {
    "duration": 0,
    "start_time": "2023-02-02T17:27:55.504Z"
   },
   {
    "duration": 0,
    "start_time": "2023-02-02T17:27:55.505Z"
   },
   {
    "duration": 0,
    "start_time": "2023-02-02T17:27:55.506Z"
   },
   {
    "duration": 0,
    "start_time": "2023-02-02T17:27:55.507Z"
   },
   {
    "duration": 0,
    "start_time": "2023-02-02T17:27:55.508Z"
   },
   {
    "duration": 0,
    "start_time": "2023-02-02T17:27:55.509Z"
   },
   {
    "duration": 0,
    "start_time": "2023-02-02T17:27:55.509Z"
   },
   {
    "duration": 4,
    "start_time": "2023-02-02T17:29:19.248Z"
   },
   {
    "duration": 19,
    "start_time": "2023-02-02T17:29:23.915Z"
   },
   {
    "duration": 21,
    "start_time": "2023-02-02T17:29:26.948Z"
   },
   {
    "duration": 154,
    "start_time": "2023-02-02T17:35:08.875Z"
   },
   {
    "duration": 4,
    "start_time": "2023-02-02T17:35:11.813Z"
   },
   {
    "duration": 393,
    "start_time": "2023-02-02T17:35:11.818Z"
   },
   {
    "duration": 5,
    "start_time": "2023-02-02T17:35:12.212Z"
   },
   {
    "duration": 1220,
    "start_time": "2023-02-02T17:35:12.219Z"
   },
   {
    "duration": 1424,
    "start_time": "2023-02-02T17:35:13.441Z"
   },
   {
    "duration": 1276,
    "start_time": "2023-02-02T17:35:14.866Z"
   },
   {
    "duration": 6,
    "start_time": "2023-02-02T17:35:16.148Z"
   },
   {
    "duration": 19,
    "start_time": "2023-02-02T17:35:16.156Z"
   },
   {
    "duration": 9,
    "start_time": "2023-02-02T17:35:16.178Z"
   },
   {
    "duration": 17,
    "start_time": "2023-02-02T17:35:16.189Z"
   },
   {
    "duration": 61,
    "start_time": "2023-02-02T17:35:16.207Z"
   },
   {
    "duration": 3,
    "start_time": "2023-02-02T17:35:16.270Z"
   },
   {
    "duration": 6,
    "start_time": "2023-02-02T17:35:16.276Z"
   },
   {
    "duration": 20,
    "start_time": "2023-02-02T17:35:16.284Z"
   },
   {
    "duration": 41,
    "start_time": "2023-02-02T17:35:16.306Z"
   },
   {
    "duration": 3,
    "start_time": "2023-02-02T17:35:16.349Z"
   },
   {
    "duration": 15,
    "start_time": "2023-02-02T17:35:16.354Z"
   },
   {
    "duration": 11,
    "start_time": "2023-02-02T17:35:16.370Z"
   },
   {
    "duration": 28,
    "start_time": "2023-02-02T17:35:16.383Z"
   },
   {
    "duration": 12,
    "start_time": "2023-02-02T17:35:16.414Z"
   },
   {
    "duration": 28,
    "start_time": "2023-02-02T17:35:16.428Z"
   },
   {
    "duration": 12,
    "start_time": "2023-02-02T17:35:16.458Z"
   },
   {
    "duration": 75,
    "start_time": "2023-02-02T17:35:16.473Z"
   },
   {
    "duration": 102,
    "start_time": "2023-02-02T17:35:16.554Z"
   },
   {
    "duration": 12,
    "start_time": "2023-02-02T17:35:16.659Z"
   },
   {
    "duration": 176,
    "start_time": "2023-02-02T17:35:16.673Z"
   },
   {
    "duration": 11,
    "start_time": "2023-02-02T17:35:16.850Z"
   },
   {
    "duration": 14,
    "start_time": "2023-02-02T17:35:16.863Z"
   },
   {
    "duration": 8,
    "start_time": "2023-02-02T17:35:16.878Z"
   },
   {
    "duration": 9,
    "start_time": "2023-02-02T17:35:16.887Z"
   },
   {
    "duration": 15,
    "start_time": "2023-02-02T17:35:16.897Z"
   },
   {
    "duration": 11,
    "start_time": "2023-02-02T17:35:16.913Z"
   },
   {
    "duration": 22,
    "start_time": "2023-02-02T17:35:16.926Z"
   },
   {
    "duration": 19,
    "start_time": "2023-02-02T17:35:16.950Z"
   },
   {
    "duration": 16,
    "start_time": "2023-02-02T17:35:16.970Z"
   },
   {
    "duration": 5,
    "start_time": "2023-02-02T17:35:16.988Z"
   },
   {
    "duration": 8,
    "start_time": "2023-02-02T17:35:16.994Z"
   },
   {
    "duration": 6,
    "start_time": "2023-02-02T17:35:17.004Z"
   },
   {
    "duration": 164,
    "start_time": "2023-02-02T17:35:17.011Z"
   },
   {
    "duration": 5,
    "start_time": "2023-02-02T17:35:17.177Z"
   },
   {
    "duration": 41,
    "start_time": "2023-02-02T17:35:17.184Z"
   },
   {
    "duration": 12,
    "start_time": "2023-02-02T17:35:17.227Z"
   },
   {
    "duration": 20,
    "start_time": "2023-02-02T17:35:17.241Z"
   },
   {
    "duration": 19,
    "start_time": "2023-02-02T17:35:17.263Z"
   },
   {
    "duration": 19,
    "start_time": "2023-02-02T17:35:17.284Z"
   },
   {
    "duration": 20,
    "start_time": "2023-02-02T17:35:17.305Z"
   },
   {
    "duration": 8,
    "start_time": "2023-02-02T17:35:17.327Z"
   },
   {
    "duration": 7,
    "start_time": "2023-02-02T17:35:17.336Z"
   },
   {
    "duration": 1447,
    "start_time": "2023-02-02T17:35:17.344Z"
   },
   {
    "duration": 1506,
    "start_time": "2023-02-02T17:35:18.792Z"
   },
   {
    "duration": 1472,
    "start_time": "2023-02-02T17:35:20.300Z"
   },
   {
    "duration": 7,
    "start_time": "2023-02-02T17:35:21.775Z"
   },
   {
    "duration": 1343,
    "start_time": "2023-02-02T17:35:21.785Z"
   },
   {
    "duration": 1387,
    "start_time": "2023-02-02T17:35:23.130Z"
   },
   {
    "duration": 1340,
    "start_time": "2023-02-02T17:35:24.519Z"
   },
   {
    "duration": 5,
    "start_time": "2023-02-02T18:14:09.314Z"
   },
   {
    "duration": 14,
    "start_time": "2023-02-02T18:14:41.194Z"
   },
   {
    "duration": 14,
    "start_time": "2023-02-02T18:36:04.771Z"
   },
   {
    "duration": 5,
    "start_time": "2023-02-02T18:36:07.253Z"
   },
   {
    "duration": 1430,
    "start_time": "2023-02-02T18:36:09.160Z"
   },
   {
    "duration": 5,
    "start_time": "2023-02-02T18:38:28.888Z"
   },
   {
    "duration": 1338,
    "start_time": "2023-02-02T18:38:31.371Z"
   },
   {
    "duration": 4,
    "start_time": "2023-02-02T18:40:13.460Z"
   },
   {
    "duration": 1377,
    "start_time": "2023-02-03T11:43:52.012Z"
   },
   {
    "duration": 347,
    "start_time": "2023-02-03T11:43:53.391Z"
   },
   {
    "duration": 4,
    "start_time": "2023-02-03T11:43:53.740Z"
   },
   {
    "duration": 1159,
    "start_time": "2023-02-03T11:43:53.746Z"
   },
   {
    "duration": 1191,
    "start_time": "2023-02-03T11:43:54.906Z"
   },
   {
    "duration": 1209,
    "start_time": "2023-02-03T11:43:56.098Z"
   },
   {
    "duration": 5,
    "start_time": "2023-02-03T11:43:57.309Z"
   },
   {
    "duration": 5,
    "start_time": "2023-02-03T11:43:57.316Z"
   },
   {
    "duration": 6,
    "start_time": "2023-02-03T11:43:57.322Z"
   },
   {
    "duration": 5,
    "start_time": "2023-02-03T11:43:57.330Z"
   },
   {
    "duration": 21,
    "start_time": "2023-02-03T11:43:57.337Z"
   },
   {
    "duration": 2,
    "start_time": "2023-02-03T11:43:57.360Z"
   },
   {
    "duration": 4,
    "start_time": "2023-02-03T11:43:57.364Z"
   },
   {
    "duration": 4,
    "start_time": "2023-02-03T11:43:57.370Z"
   },
   {
    "duration": 46,
    "start_time": "2023-02-03T11:43:57.376Z"
   },
   {
    "duration": 3,
    "start_time": "2023-02-03T11:43:57.423Z"
   },
   {
    "duration": 5,
    "start_time": "2023-02-03T11:43:57.427Z"
   },
   {
    "duration": 6,
    "start_time": "2023-02-03T11:43:57.433Z"
   },
   {
    "duration": 24,
    "start_time": "2023-02-03T11:43:57.440Z"
   },
   {
    "duration": 13,
    "start_time": "2023-02-03T11:43:57.466Z"
   },
   {
    "duration": 31,
    "start_time": "2023-02-03T11:43:57.481Z"
   },
   {
    "duration": 15,
    "start_time": "2023-02-03T11:43:57.514Z"
   },
   {
    "duration": 6,
    "start_time": "2023-02-03T11:43:57.531Z"
   },
   {
    "duration": 66,
    "start_time": "2023-02-03T11:43:57.539Z"
   },
   {
    "duration": 100,
    "start_time": "2023-02-03T11:43:57.607Z"
   },
   {
    "duration": 106,
    "start_time": "2023-02-03T11:43:57.709Z"
   },
   {
    "duration": 93,
    "start_time": "2023-02-03T11:43:57.817Z"
   },
   {
    "duration": 6,
    "start_time": "2023-02-03T11:43:57.913Z"
   },
   {
    "duration": 5,
    "start_time": "2023-02-03T11:43:57.920Z"
   },
   {
    "duration": 6,
    "start_time": "2023-02-03T11:43:57.927Z"
   },
   {
    "duration": 5,
    "start_time": "2023-02-03T11:43:57.934Z"
   },
   {
    "duration": 4,
    "start_time": "2023-02-03T11:43:57.941Z"
   },
   {
    "duration": 8,
    "start_time": "2023-02-03T11:43:57.947Z"
   },
   {
    "duration": 6,
    "start_time": "2023-02-03T11:43:57.956Z"
   },
   {
    "duration": 6,
    "start_time": "2023-02-03T11:43:57.963Z"
   },
   {
    "duration": 37,
    "start_time": "2023-02-03T11:43:57.970Z"
   },
   {
    "duration": 4,
    "start_time": "2023-02-03T11:43:58.009Z"
   },
   {
    "duration": 6,
    "start_time": "2023-02-03T11:43:58.015Z"
   },
   {
    "duration": 157,
    "start_time": "2023-02-03T11:43:58.022Z"
   },
   {
    "duration": 5,
    "start_time": "2023-02-03T11:43:58.180Z"
   },
   {
    "duration": 47,
    "start_time": "2023-02-03T11:43:58.187Z"
   },
   {
    "duration": 6,
    "start_time": "2023-02-03T11:43:58.236Z"
   },
   {
    "duration": 6,
    "start_time": "2023-02-03T11:43:58.243Z"
   },
   {
    "duration": 16,
    "start_time": "2023-02-03T11:43:58.251Z"
   },
   {
    "duration": 34,
    "start_time": "2023-02-03T11:43:58.269Z"
   },
   {
    "duration": 14,
    "start_time": "2023-02-03T11:43:58.305Z"
   },
   {
    "duration": 6,
    "start_time": "2023-02-03T11:43:58.320Z"
   },
   {
    "duration": 5,
    "start_time": "2023-02-03T11:43:58.328Z"
   },
   {
    "duration": 1519,
    "start_time": "2023-02-03T11:43:58.335Z"
   },
   {
    "duration": 1470,
    "start_time": "2023-02-03T11:43:59.855Z"
   },
   {
    "duration": 1460,
    "start_time": "2023-02-03T11:44:01.327Z"
   },
   {
    "duration": 5,
    "start_time": "2023-02-03T11:44:02.789Z"
   },
   {
    "duration": 1318,
    "start_time": "2023-02-03T11:44:02.804Z"
   },
   {
    "duration": 1322,
    "start_time": "2023-02-03T11:44:04.123Z"
   },
   {
    "duration": 1288,
    "start_time": "2023-02-03T11:44:05.448Z"
   },
   {
    "duration": 5,
    "start_time": "2023-02-03T11:47:54.579Z"
   },
   {
    "duration": 1143,
    "start_time": "2023-02-03T11:47:58.202Z"
   },
   {
    "duration": 5,
    "start_time": "2023-02-03T11:48:12.295Z"
   },
   {
    "duration": 1190,
    "start_time": "2023-02-03T11:48:15.999Z"
   },
   {
    "duration": 5,
    "start_time": "2023-02-03T11:48:40.862Z"
   },
   {
    "duration": 1188,
    "start_time": "2023-02-03T11:48:44.510Z"
   },
   {
    "duration": 1022,
    "start_time": "2023-02-03T11:52:19.167Z"
   },
   {
    "duration": 4,
    "start_time": "2023-02-03T11:52:24.105Z"
   },
   {
    "duration": 1206,
    "start_time": "2023-02-03T11:52:28.261Z"
   },
   {
    "duration": 8,
    "start_time": "2023-02-03T12:07:13.295Z"
   },
   {
    "duration": 8,
    "start_time": "2023-02-03T12:07:22.207Z"
   },
   {
    "duration": 1673,
    "start_time": "2023-02-03T14:09:15.899Z"
   },
   {
    "duration": 4,
    "start_time": "2023-02-03T14:13:18.782Z"
   },
   {
    "duration": 117,
    "start_time": "2023-02-03T14:13:21.567Z"
   },
   {
    "duration": 4,
    "start_time": "2023-02-03T14:13:24.250Z"
   },
   {
    "duration": 813,
    "start_time": "2023-02-03T14:13:24.256Z"
   },
   {
    "duration": 6,
    "start_time": "2023-02-03T14:13:25.073Z"
   },
   {
    "duration": 1072,
    "start_time": "2023-02-03T14:13:25.080Z"
   },
   {
    "duration": 1122,
    "start_time": "2023-02-03T14:13:26.154Z"
   },
   {
    "duration": 1013,
    "start_time": "2023-02-03T14:13:27.278Z"
   },
   {
    "duration": 5,
    "start_time": "2023-02-03T14:13:28.292Z"
   },
   {
    "duration": 12,
    "start_time": "2023-02-03T14:13:28.298Z"
   },
   {
    "duration": 6,
    "start_time": "2023-02-03T14:13:28.310Z"
   },
   {
    "duration": 3,
    "start_time": "2023-02-03T14:13:28.318Z"
   },
   {
    "duration": 18,
    "start_time": "2023-02-03T14:13:28.323Z"
   },
   {
    "duration": 2,
    "start_time": "2023-02-03T14:13:28.342Z"
   },
   {
    "duration": 4,
    "start_time": "2023-02-03T14:13:28.346Z"
   },
   {
    "duration": 4,
    "start_time": "2023-02-03T14:13:28.351Z"
   },
   {
    "duration": 19,
    "start_time": "2023-02-03T14:13:28.356Z"
   },
   {
    "duration": 2,
    "start_time": "2023-02-03T14:13:28.376Z"
   },
   {
    "duration": 31,
    "start_time": "2023-02-03T14:13:28.379Z"
   },
   {
    "duration": 5,
    "start_time": "2023-02-03T14:13:28.411Z"
   },
   {
    "duration": 20,
    "start_time": "2023-02-03T14:13:28.417Z"
   },
   {
    "duration": 13,
    "start_time": "2023-02-03T14:13:28.438Z"
   },
   {
    "duration": 158,
    "start_time": "2023-02-03T14:13:28.452Z"
   },
   {
    "duration": 11,
    "start_time": "2023-02-03T14:13:28.612Z"
   },
   {
    "duration": 4,
    "start_time": "2023-02-03T14:13:28.624Z"
   },
   {
    "duration": 180,
    "start_time": "2023-02-03T14:13:28.630Z"
   },
   {
    "duration": 103,
    "start_time": "2023-02-03T14:13:28.812Z"
   },
   {
    "duration": 98,
    "start_time": "2023-02-03T14:13:28.917Z"
   },
   {
    "duration": 98,
    "start_time": "2023-02-03T14:13:29.017Z"
   },
   {
    "duration": 5,
    "start_time": "2023-02-03T14:13:29.117Z"
   },
   {
    "duration": 4,
    "start_time": "2023-02-03T14:13:29.125Z"
   },
   {
    "duration": 5,
    "start_time": "2023-02-03T14:13:29.130Z"
   },
   {
    "duration": 11,
    "start_time": "2023-02-03T14:13:29.137Z"
   },
   {
    "duration": 13,
    "start_time": "2023-02-03T14:13:29.150Z"
   },
   {
    "duration": 3,
    "start_time": "2023-02-03T14:13:29.165Z"
   },
   {
    "duration": 5,
    "start_time": "2023-02-03T14:13:29.170Z"
   },
   {
    "duration": 7,
    "start_time": "2023-02-03T14:13:29.176Z"
   },
   {
    "duration": 26,
    "start_time": "2023-02-03T14:13:29.185Z"
   },
   {
    "duration": 6,
    "start_time": "2023-02-03T14:13:29.212Z"
   },
   {
    "duration": 4,
    "start_time": "2023-02-03T14:13:29.219Z"
   },
   {
    "duration": 171,
    "start_time": "2023-02-03T14:13:29.225Z"
   },
   {
    "duration": 5,
    "start_time": "2023-02-03T14:13:29.398Z"
   },
   {
    "duration": 39,
    "start_time": "2023-02-03T14:13:29.410Z"
   },
   {
    "duration": 7,
    "start_time": "2023-02-03T14:13:29.451Z"
   },
   {
    "duration": 5,
    "start_time": "2023-02-03T14:13:29.459Z"
   },
   {
    "duration": 19,
    "start_time": "2023-02-03T14:13:29.465Z"
   },
   {
    "duration": 29,
    "start_time": "2023-02-03T14:13:29.485Z"
   },
   {
    "duration": 17,
    "start_time": "2023-02-03T14:13:29.516Z"
   },
   {
    "duration": 4,
    "start_time": "2023-02-03T14:13:29.535Z"
   },
   {
    "duration": 5,
    "start_time": "2023-02-03T14:13:29.540Z"
   },
   {
    "duration": 1370,
    "start_time": "2023-02-03T14:13:29.546Z"
   },
   {
    "duration": 1258,
    "start_time": "2023-02-03T14:13:30.918Z"
   },
   {
    "duration": 1301,
    "start_time": "2023-02-03T14:13:32.177Z"
   },
   {
    "duration": 4,
    "start_time": "2023-02-03T14:13:33.480Z"
   },
   {
    "duration": 1157,
    "start_time": "2023-02-03T14:13:33.486Z"
   },
   {
    "duration": 1143,
    "start_time": "2023-02-03T14:13:34.644Z"
   },
   {
    "duration": 1218,
    "start_time": "2023-02-03T14:13:35.789Z"
   },
   {
    "duration": 1034,
    "start_time": "2023-02-03T14:14:47.165Z"
   },
   {
    "duration": 1010,
    "start_time": "2023-02-03T14:14:53.789Z"
   },
   {
    "duration": 9,
    "start_time": "2023-02-04T07:36:24.421Z"
   },
   {
    "duration": 44,
    "start_time": "2023-02-04T07:36:27.526Z"
   },
   {
    "duration": 1508,
    "start_time": "2023-02-04T07:36:30.057Z"
   },
   {
    "duration": 1667,
    "start_time": "2023-02-04T07:36:31.567Z"
   },
   {
    "duration": 5,
    "start_time": "2023-02-04T07:36:33.235Z"
   },
   {
    "duration": 1271,
    "start_time": "2023-02-04T07:36:33.242Z"
   },
   {
    "duration": 1256,
    "start_time": "2023-02-04T07:36:34.516Z"
   },
   {
    "duration": 1178,
    "start_time": "2023-02-04T07:36:35.774Z"
   },
   {
    "duration": 6,
    "start_time": "2023-02-04T07:36:36.954Z"
   },
   {
    "duration": 26,
    "start_time": "2023-02-04T07:36:36.962Z"
   },
   {
    "duration": 18,
    "start_time": "2023-02-04T07:36:36.990Z"
   },
   {
    "duration": 13,
    "start_time": "2023-02-04T07:36:37.010Z"
   },
   {
    "duration": 45,
    "start_time": "2023-02-04T07:36:37.024Z"
   },
   {
    "duration": 2,
    "start_time": "2023-02-04T07:36:37.071Z"
   },
   {
    "duration": 33,
    "start_time": "2023-02-04T07:36:37.075Z"
   },
   {
    "duration": 26,
    "start_time": "2023-02-04T07:36:37.111Z"
   },
   {
    "duration": 28,
    "start_time": "2023-02-04T07:36:37.139Z"
   },
   {
    "duration": 3,
    "start_time": "2023-02-04T07:36:37.169Z"
   },
   {
    "duration": 6,
    "start_time": "2023-02-04T07:36:37.174Z"
   },
   {
    "duration": 6,
    "start_time": "2023-02-04T07:36:37.181Z"
   },
   {
    "duration": 31,
    "start_time": "2023-02-04T07:36:37.189Z"
   },
   {
    "duration": 27,
    "start_time": "2023-02-04T07:36:37.222Z"
   },
   {
    "duration": 196,
    "start_time": "2023-02-04T07:36:37.251Z"
   },
   {
    "duration": 18,
    "start_time": "2023-02-04T07:36:37.449Z"
   },
   {
    "duration": 12,
    "start_time": "2023-02-04T07:36:37.469Z"
   },
   {
    "duration": 158,
    "start_time": "2023-02-04T07:36:37.484Z"
   },
   {
    "duration": 95,
    "start_time": "2023-02-04T07:36:37.644Z"
   },
   {
    "duration": 103,
    "start_time": "2023-02-04T07:36:37.741Z"
   },
   {
    "duration": 92,
    "start_time": "2023-02-04T07:36:37.846Z"
   },
   {
    "duration": 18,
    "start_time": "2023-02-04T07:36:37.940Z"
   },
   {
    "duration": 7,
    "start_time": "2023-02-04T07:36:37.960Z"
   },
   {
    "duration": 11,
    "start_time": "2023-02-04T07:36:37.969Z"
   },
   {
    "duration": 9,
    "start_time": "2023-02-04T07:36:37.982Z"
   },
   {
    "duration": 6,
    "start_time": "2023-02-04T07:36:37.992Z"
   },
   {
    "duration": 10,
    "start_time": "2023-02-04T07:36:38.000Z"
   },
   {
    "duration": 15,
    "start_time": "2023-02-04T07:36:38.011Z"
   },
   {
    "duration": 12,
    "start_time": "2023-02-04T07:36:38.028Z"
   },
   {
    "duration": 18,
    "start_time": "2023-02-04T07:36:38.041Z"
   },
   {
    "duration": 12,
    "start_time": "2023-02-04T07:36:38.063Z"
   },
   {
    "duration": 10,
    "start_time": "2023-02-04T07:36:38.077Z"
   },
   {
    "duration": 182,
    "start_time": "2023-02-04T07:36:38.089Z"
   },
   {
    "duration": 5,
    "start_time": "2023-02-04T07:36:38.273Z"
   },
   {
    "duration": 48,
    "start_time": "2023-02-04T07:36:38.282Z"
   },
   {
    "duration": 14,
    "start_time": "2023-02-04T07:36:38.333Z"
   },
   {
    "duration": 13,
    "start_time": "2023-02-04T07:36:38.349Z"
   },
   {
    "duration": 32,
    "start_time": "2023-02-04T07:36:38.364Z"
   },
   {
    "duration": 26,
    "start_time": "2023-02-04T07:36:38.398Z"
   },
   {
    "duration": 21,
    "start_time": "2023-02-04T07:36:38.426Z"
   },
   {
    "duration": 10,
    "start_time": "2023-02-04T07:36:38.449Z"
   },
   {
    "duration": 9,
    "start_time": "2023-02-04T07:36:38.461Z"
   },
   {
    "duration": 1655,
    "start_time": "2023-02-04T07:36:38.472Z"
   },
   {
    "duration": 1490,
    "start_time": "2023-02-04T07:36:40.129Z"
   },
   {
    "duration": 1593,
    "start_time": "2023-02-04T07:36:41.621Z"
   },
   {
    "duration": 5,
    "start_time": "2023-02-04T07:36:43.216Z"
   },
   {
    "duration": 1428,
    "start_time": "2023-02-04T07:36:43.237Z"
   },
   {
    "duration": 1394,
    "start_time": "2023-02-04T07:36:44.666Z"
   },
   {
    "duration": 1542,
    "start_time": "2023-02-04T07:36:46.061Z"
   },
   {
    "duration": 3,
    "start_time": "2023-02-04T07:40:08.085Z"
   },
   {
    "duration": 6,
    "start_time": "2023-02-04T07:40:13.187Z"
   },
   {
    "duration": 37,
    "start_time": "2023-02-04T07:40:23.019Z"
   },
   {
    "duration": 32,
    "start_time": "2023-02-04T07:40:28.633Z"
   },
   {
    "duration": 32,
    "start_time": "2023-02-04T07:40:32.014Z"
   },
   {
    "duration": 11,
    "start_time": "2023-02-04T07:41:16.604Z"
   },
   {
    "duration": 11,
    "start_time": "2023-02-04T07:41:18.512Z"
   },
   {
    "duration": 12,
    "start_time": "2023-02-04T07:41:20.117Z"
   },
   {
    "duration": 6,
    "start_time": "2023-02-04T07:41:24.120Z"
   },
   {
    "duration": 5,
    "start_time": "2023-02-04T07:41:25.755Z"
   },
   {
    "duration": 5,
    "start_time": "2023-02-04T07:41:26.273Z"
   },
   {
    "duration": 5,
    "start_time": "2023-02-04T07:41:28.011Z"
   },
   {
    "duration": 3,
    "start_time": "2023-02-04T07:41:30.816Z"
   },
   {
    "duration": 6,
    "start_time": "2023-02-04T07:41:32.518Z"
   },
   {
    "duration": 3,
    "start_time": "2023-02-04T07:41:34.169Z"
   },
   {
    "duration": 5,
    "start_time": "2023-02-04T07:41:36.086Z"
   },
   {
    "duration": 4,
    "start_time": "2023-02-04T07:41:37.980Z"
   },
   {
    "duration": 5,
    "start_time": "2023-02-04T07:41:52.332Z"
   },
   {
    "duration": 4,
    "start_time": "2023-02-04T07:42:16.561Z"
   },
   {
    "duration": 16,
    "start_time": "2023-02-04T07:42:25.219Z"
   },
   {
    "duration": 15,
    "start_time": "2023-02-04T07:42:26.512Z"
   },
   {
    "duration": 16,
    "start_time": "2023-02-04T07:42:27.127Z"
   },
   {
    "duration": 5,
    "start_time": "2023-02-04T07:43:10.155Z"
   },
   {
    "duration": 5,
    "start_time": "2023-02-04T07:46:35.359Z"
   },
   {
    "duration": 5,
    "start_time": "2023-02-04T07:46:35.776Z"
   },
   {
    "duration": 77,
    "start_time": "2023-02-04T07:48:31.577Z"
   },
   {
    "duration": 6,
    "start_time": "2023-02-04T07:48:48.832Z"
   },
   {
    "duration": 1467,
    "start_time": "2023-02-04T07:48:52.188Z"
   },
   {
    "duration": 1426,
    "start_time": "2023-02-04T07:49:08.463Z"
   },
   {
    "duration": 1409,
    "start_time": "2023-02-04T07:49:16.228Z"
   },
   {
    "duration": 1544,
    "start_time": "2023-02-04T15:04:05.129Z"
   },
   {
    "duration": 901,
    "start_time": "2023-02-04T15:04:06.675Z"
   },
   {
    "duration": 4,
    "start_time": "2023-02-04T15:04:07.578Z"
   },
   {
    "duration": 1161,
    "start_time": "2023-02-04T15:04:07.584Z"
   },
   {
    "duration": 1196,
    "start_time": "2023-02-04T15:04:08.746Z"
   },
   {
    "duration": 1149,
    "start_time": "2023-02-04T15:04:09.944Z"
   },
   {
    "duration": 5,
    "start_time": "2023-02-04T15:04:11.095Z"
   },
   {
    "duration": 14,
    "start_time": "2023-02-04T15:04:11.102Z"
   },
   {
    "duration": 12,
    "start_time": "2023-02-04T15:04:11.117Z"
   },
   {
    "duration": 17,
    "start_time": "2023-02-04T15:04:11.132Z"
   },
   {
    "duration": 36,
    "start_time": "2023-02-04T15:04:11.151Z"
   },
   {
    "duration": 2,
    "start_time": "2023-02-04T15:04:11.188Z"
   },
   {
    "duration": 6,
    "start_time": "2023-02-04T15:04:11.192Z"
   },
   {
    "duration": 9,
    "start_time": "2023-02-04T15:04:11.200Z"
   },
   {
    "duration": 35,
    "start_time": "2023-02-04T15:04:11.210Z"
   },
   {
    "duration": 2,
    "start_time": "2023-02-04T15:04:11.247Z"
   },
   {
    "duration": 5,
    "start_time": "2023-02-04T15:04:11.251Z"
   },
   {
    "duration": 9,
    "start_time": "2023-02-04T15:04:11.257Z"
   },
   {
    "duration": 37,
    "start_time": "2023-02-04T15:04:11.267Z"
   },
   {
    "duration": 12,
    "start_time": "2023-02-04T15:04:11.305Z"
   },
   {
    "duration": 108,
    "start_time": "2023-02-04T15:04:11.394Z"
   },
   {
    "duration": 9,
    "start_time": "2023-02-04T15:04:11.504Z"
   },
   {
    "duration": 6,
    "start_time": "2023-02-04T15:04:11.515Z"
   },
   {
    "duration": 81,
    "start_time": "2023-02-04T15:04:11.523Z"
   },
   {
    "duration": 101,
    "start_time": "2023-02-04T15:04:11.695Z"
   },
   {
    "duration": 99,
    "start_time": "2023-02-04T15:04:11.798Z"
   },
   {
    "duration": 96,
    "start_time": "2023-02-04T15:04:11.899Z"
   },
   {
    "duration": 12,
    "start_time": "2023-02-04T15:04:11.999Z"
   },
   {
    "duration": 65,
    "start_time": "2023-02-04T15:04:12.012Z"
   },
   {
    "duration": 11,
    "start_time": "2023-02-04T15:04:12.079Z"
   },
   {
    "duration": 4,
    "start_time": "2023-02-04T15:04:12.091Z"
   },
   {
    "duration": 5,
    "start_time": "2023-02-04T15:04:12.096Z"
   },
   {
    "duration": 8,
    "start_time": "2023-02-04T15:04:12.102Z"
   },
   {
    "duration": 7,
    "start_time": "2023-02-04T15:04:12.111Z"
   },
   {
    "duration": 5,
    "start_time": "2023-02-04T15:04:12.119Z"
   },
   {
    "duration": 4,
    "start_time": "2023-02-04T15:04:12.126Z"
   },
   {
    "duration": 7,
    "start_time": "2023-02-04T15:04:12.132Z"
   },
   {
    "duration": 11,
    "start_time": "2023-02-04T15:04:12.140Z"
   },
   {
    "duration": 177,
    "start_time": "2023-02-04T15:04:12.152Z"
   },
   {
    "duration": 6,
    "start_time": "2023-02-04T15:04:12.331Z"
   },
   {
    "duration": 56,
    "start_time": "2023-02-04T15:04:12.338Z"
   },
   {
    "duration": 3,
    "start_time": "2023-02-04T15:04:12.396Z"
   },
   {
    "duration": 11,
    "start_time": "2023-02-04T15:04:12.401Z"
   },
   {
    "duration": 16,
    "start_time": "2023-02-04T15:04:12.413Z"
   },
   {
    "duration": 20,
    "start_time": "2023-02-04T15:04:12.431Z"
   },
   {
    "duration": 15,
    "start_time": "2023-02-04T15:04:12.453Z"
   },
   {
    "duration": 9,
    "start_time": "2023-02-04T15:04:12.469Z"
   },
   {
    "duration": 6,
    "start_time": "2023-02-04T15:04:12.480Z"
   },
   {
    "duration": 6,
    "start_time": "2023-02-04T15:04:12.488Z"
   },
   {
    "duration": 1449,
    "start_time": "2023-02-04T15:04:12.496Z"
   },
   {
    "duration": 1396,
    "start_time": "2023-02-04T15:04:13.947Z"
   },
   {
    "duration": 1360,
    "start_time": "2023-02-04T15:04:15.345Z"
   },
   {
    "duration": 5,
    "start_time": "2023-02-04T15:04:16.706Z"
   },
   {
    "duration": 1250,
    "start_time": "2023-02-04T15:04:16.712Z"
   },
   {
    "duration": 1258,
    "start_time": "2023-02-04T15:04:17.963Z"
   },
   {
    "duration": 1294,
    "start_time": "2023-02-04T15:04:19.223Z"
   }
  ],
  "kernelspec": {
   "display_name": "Python 3 (ipykernel)",
   "language": "python",
   "name": "python3"
  },
  "language_info": {
   "codemirror_mode": {
    "name": "ipython",
    "version": 3
   },
   "file_extension": ".py",
   "mimetype": "text/x-python",
   "name": "python",
   "nbconvert_exporter": "python",
   "pygments_lexer": "ipython3",
   "version": "3.9.13"
  },
  "toc": {
   "base_numbering": 1,
   "nav_menu": {},
   "number_sections": true,
   "sideBar": true,
   "skip_h1_title": true,
   "title_cell": "Table of Contents",
   "title_sidebar": "Contents",
   "toc_cell": false,
   "toc_position": {},
   "toc_section_display": true,
   "toc_window_display": false
  }
 },
 "nbformat": 4,
 "nbformat_minor": 2
}
