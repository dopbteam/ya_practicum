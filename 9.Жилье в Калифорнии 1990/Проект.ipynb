{
 "cells": [
  {
   "cell_type": "markdown",
   "id": "GEqQaHzsZ_bA",
   "metadata": {
    "id": "GEqQaHzsZ_bA"
   },
   "source": [
    "## Предсказание стоимости жилья\n",
    "\n",
    "В проекте вам нужно обучить модель линейной регрессии на данных о жилье в Калифорнии в 1990 году. На основе данных нужно предсказать медианную стоимость дома в жилом массиве. Обучите модель и сделайте предсказания на тестовой выборке. Для оценки качества модели используйте метрики RMSE, MAE и R2."
   ]
  },
  {
   "cell_type": "markdown",
   "id": "53871372",
   "metadata": {
    "id": "53871372"
   },
   "source": [
    "# Подготовка данных"
   ]
  },
  {
   "cell_type": "markdown",
   "id": "2fd0c03c",
   "metadata": {},
   "source": [
    "Загружаем библиотеки"
   ]
  },
  {
   "cell_type": "code",
   "execution_count": 165,
   "id": "df92e3ec",
   "metadata": {
    "id": "df92e3ec"
   },
   "outputs": [],
   "source": [
    "import pandas as pd\n",
    "\n",
    "from typing import List\n",
    "\n",
    "from pyspark.sql import SparkSession\n",
    "from pyspark.sql.functions import isnan, when, count, col, udf, collect_list# approxQuantile\n",
    "from pyspark.sql.types import DoubleType\n",
    "import pyspark.sql.functions as F\n",
    "from pyspark.ml.feature import OneHotEncoder, StringIndexer, StandardScaler, VectorAssembler\n",
    "from pyspark.ml.regression import LinearRegression\n",
    "from pyspark.ml.evaluation import RegressionEvaluator\n",
    "from pyspark.ml import Pipeline\n",
    "from pyspark.sql.window import Window"
   ]
  },
  {
   "cell_type": "code",
   "execution_count": 166,
   "id": "54f8cb18",
   "metadata": {},
   "outputs": [],
   "source": [
    "SSEED = 3434"
   ]
  },
  {
   "cell_type": "markdown",
   "id": "88e76187",
   "metadata": {},
   "source": [
    "Инициализируем spark сессию"
   ]
  },
  {
   "cell_type": "code",
   "execution_count": 167,
   "id": "20be1559",
   "metadata": {},
   "outputs": [],
   "source": [
    "spark = SparkSession.builder \\\n",
    "                    .master(\"local\") \\\n",
    "                    .appName(\"asdasd\") \\\n",
    "                    .getOrCreate()"
   ]
  },
  {
   "cell_type": "markdown",
   "id": "dd4801d3",
   "metadata": {},
   "source": [
    "Загрузим данные"
   ]
  },
  {
   "cell_type": "code",
   "execution_count": 168,
   "id": "7dbb3469",
   "metadata": {},
   "outputs": [],
   "source": [
    "data = spark.read.csv('/datasets/housing.csv', header=True, inferSchema=True)"
   ]
  },
  {
   "cell_type": "markdown",
   "id": "0ce3904f",
   "metadata": {},
   "source": [
    "Посмотрим на общее количество строк"
   ]
  },
  {
   "cell_type": "code",
   "execution_count": 169,
   "id": "ed7ecc4f",
   "metadata": {},
   "outputs": [
    {
     "name": "stdout",
     "output_type": "stream",
     "text": [
      "Всего строк: 20640\n"
     ]
    }
   ],
   "source": [
    "row_count = data.count()\n",
    "print(\"Всего строк:\", row_count)"
   ]
  },
  {
   "cell_type": "markdown",
   "id": "3225bbbb",
   "metadata": {},
   "source": [
    "Посмотрим на атрибуты и их типы"
   ]
  },
  {
   "cell_type": "code",
   "execution_count": 170,
   "id": "327b4a39",
   "metadata": {},
   "outputs": [
    {
     "name": "stdout",
     "output_type": "stream",
     "text": [
      "[('longitude', 'double'), ('latitude', 'double'), ('housing_median_age', 'double'), ('total_rooms', 'double'), ('total_bedrooms', 'double'), ('population', 'double'), ('households', 'double'), ('median_income', 'double'), ('median_house_value', 'double'), ('ocean_proximity', 'string')]\n"
     ]
    }
   ],
   "source": [
    "print(data.dtypes)"
   ]
  },
  {
   "cell_type": "code",
   "execution_count": 171,
   "id": "28d586c5",
   "metadata": {},
   "outputs": [
    {
     "name": "stdout",
     "output_type": "stream",
     "text": [
      "root\n",
      " |-- longitude: double (nullable = true)\n",
      " |-- latitude: double (nullable = true)\n",
      " |-- housing_median_age: double (nullable = true)\n",
      " |-- total_rooms: double (nullable = true)\n",
      " |-- total_bedrooms: double (nullable = true)\n",
      " |-- population: double (nullable = true)\n",
      " |-- households: double (nullable = true)\n",
      " |-- median_income: double (nullable = true)\n",
      " |-- median_house_value: double (nullable = true)\n",
      " |-- ocean_proximity: string (nullable = true)\n",
      "\n"
     ]
    }
   ],
   "source": [
    "data.printSchema()"
   ]
  },
  {
   "cell_type": "code",
   "execution_count": 172,
   "id": "98ea5ed1",
   "metadata": {},
   "outputs": [
    {
     "name": "stdout",
     "output_type": "stream",
     "text": [
      "               column    type\n",
      "0           longitude  double\n",
      "1            latitude  double\n",
      "2  housing_median_age  double\n",
      "3         total_rooms  double\n",
      "4      total_bedrooms  double\n",
      "5          population  double\n",
      "6          households  double\n",
      "7       median_income  double\n",
      "8  median_house_value  double\n",
      "9     ocean_proximity  string\n"
     ]
    }
   ],
   "source": [
    "print(pd.DataFrame(data.dtypes, columns=['column', 'type']))"
   ]
  },
  {
   "cell_type": "markdown",
   "id": "3415d5fc",
   "metadata": {},
   "source": [
    "Посмотрим на сами данные"
   ]
  },
  {
   "cell_type": "code",
   "execution_count": 173,
   "id": "dd5b0c45",
   "metadata": {},
   "outputs": [
    {
     "data": {
      "text/html": [
       "<div>\n",
       "<style scoped>\n",
       "    .dataframe tbody tr th:only-of-type {\n",
       "        vertical-align: middle;\n",
       "    }\n",
       "\n",
       "    .dataframe tbody tr th {\n",
       "        vertical-align: top;\n",
       "    }\n",
       "\n",
       "    .dataframe thead th {\n",
       "        text-align: right;\n",
       "    }\n",
       "</style>\n",
       "<table border=\"1\" class=\"dataframe\">\n",
       "  <thead>\n",
       "    <tr style=\"text-align: right;\">\n",
       "      <th></th>\n",
       "      <th>longitude</th>\n",
       "      <th>latitude</th>\n",
       "      <th>housing_median_age</th>\n",
       "      <th>total_rooms</th>\n",
       "      <th>total_bedrooms</th>\n",
       "      <th>population</th>\n",
       "      <th>households</th>\n",
       "      <th>median_income</th>\n",
       "      <th>median_house_value</th>\n",
       "      <th>ocean_proximity</th>\n",
       "    </tr>\n",
       "  </thead>\n",
       "  <tbody>\n",
       "    <tr>\n",
       "      <th>0</th>\n",
       "      <td>-122.23</td>\n",
       "      <td>37.88</td>\n",
       "      <td>41.0</td>\n",
       "      <td>880.0</td>\n",
       "      <td>129.0</td>\n",
       "      <td>322.0</td>\n",
       "      <td>126.0</td>\n",
       "      <td>8.3252</td>\n",
       "      <td>452600.0</td>\n",
       "      <td>NEAR BAY</td>\n",
       "    </tr>\n",
       "    <tr>\n",
       "      <th>1</th>\n",
       "      <td>-122.22</td>\n",
       "      <td>37.86</td>\n",
       "      <td>21.0</td>\n",
       "      <td>7099.0</td>\n",
       "      <td>1106.0</td>\n",
       "      <td>2401.0</td>\n",
       "      <td>1138.0</td>\n",
       "      <td>8.3014</td>\n",
       "      <td>358500.0</td>\n",
       "      <td>NEAR BAY</td>\n",
       "    </tr>\n",
       "    <tr>\n",
       "      <th>2</th>\n",
       "      <td>-122.24</td>\n",
       "      <td>37.85</td>\n",
       "      <td>52.0</td>\n",
       "      <td>1467.0</td>\n",
       "      <td>190.0</td>\n",
       "      <td>496.0</td>\n",
       "      <td>177.0</td>\n",
       "      <td>7.2574</td>\n",
       "      <td>352100.0</td>\n",
       "      <td>NEAR BAY</td>\n",
       "    </tr>\n",
       "    <tr>\n",
       "      <th>3</th>\n",
       "      <td>-122.25</td>\n",
       "      <td>37.85</td>\n",
       "      <td>52.0</td>\n",
       "      <td>1274.0</td>\n",
       "      <td>235.0</td>\n",
       "      <td>558.0</td>\n",
       "      <td>219.0</td>\n",
       "      <td>5.6431</td>\n",
       "      <td>341300.0</td>\n",
       "      <td>NEAR BAY</td>\n",
       "    </tr>\n",
       "    <tr>\n",
       "      <th>4</th>\n",
       "      <td>-122.25</td>\n",
       "      <td>37.85</td>\n",
       "      <td>52.0</td>\n",
       "      <td>1627.0</td>\n",
       "      <td>280.0</td>\n",
       "      <td>565.0</td>\n",
       "      <td>259.0</td>\n",
       "      <td>3.8462</td>\n",
       "      <td>342200.0</td>\n",
       "      <td>NEAR BAY</td>\n",
       "    </tr>\n",
       "  </tbody>\n",
       "</table>\n",
       "</div>"
      ],
      "text/plain": [
       "   longitude  latitude  housing_median_age  total_rooms  total_bedrooms  \\\n",
       "0    -122.23     37.88                41.0        880.0           129.0   \n",
       "1    -122.22     37.86                21.0       7099.0          1106.0   \n",
       "2    -122.24     37.85                52.0       1467.0           190.0   \n",
       "3    -122.25     37.85                52.0       1274.0           235.0   \n",
       "4    -122.25     37.85                52.0       1627.0           280.0   \n",
       "\n",
       "   population  households  median_income  median_house_value ocean_proximity  \n",
       "0       322.0       126.0         8.3252            452600.0        NEAR BAY  \n",
       "1      2401.0      1138.0         8.3014            358500.0        NEAR BAY  \n",
       "2       496.0       177.0         7.2574            352100.0        NEAR BAY  \n",
       "3       558.0       219.0         5.6431            341300.0        NEAR BAY  \n",
       "4       565.0       259.0         3.8462            342200.0        NEAR BAY  "
      ]
     },
     "metadata": {},
     "output_type": "display_data"
    }
   ],
   "source": [
    "display(data.limit(5).toPandas())"
   ]
  },
  {
   "cell_type": "markdown",
   "id": "8c0d30e4",
   "metadata": {},
   "source": [
    "Проверим на наличие пустых значений"
   ]
  },
  {
   "cell_type": "code",
   "execution_count": 174,
   "id": "fdd865f7",
   "metadata": {},
   "outputs": [
    {
     "name": "stdout",
     "output_type": "stream",
     "text": [
      "Доля пустых значений: 0.10%\n",
      "\n",
      "Наименование столбца      Количество пустых значений\n",
      "longitude                 0\n",
      "latitude                  0\n",
      "housing_median_age        0\n",
      "total_rooms               0\n",
      "total_bedrooms            207\n",
      "population                0\n",
      "households                0\n",
      "median_income             0\n",
      "median_house_value        0\n",
      "ocean_proximity           0\n"
     ]
    }
   ],
   "source": [
    "null_counts = data.select([count(when(isnan(c) | col(c).isNull(), c)).alias(c) for c in data.columns]).collect()[0]\n",
    "\n",
    "percent_empty = (sum(null_counts) / (row_count * len(data.columns))) * 100\n",
    "\n",
    "print(\"Доля пустых значений: {:.2f}%\".format(percent_empty))\n",
    "print('')\n",
    "print(\"{:<25} {}\".format(\"Наименование столбца\", \"Количество пустых значений\"))\n",
    "for col_name, null_count in zip(data.columns, null_counts):\n",
    "    print(\"{:<25} {}\".format(col_name, null_count))"
   ]
  },
  {
   "cell_type": "markdown",
   "id": "106dbcab",
   "metadata": {},
   "source": [
    "Вывод: пустые значения есть только в столбце <b>total_bedrooms</b>\n",
    "<br>\n",
    "С одной стороны можно заполнить все пропуски просто медианой, но с другой стороны по данным видно, что есть категориальный признак <b>ocean_proximity</b>, поэтому можно для начала проверить этот признак и посмотреть % пустых значений в каждой из категории. если будет прослеживаться корреляция, то можно будет заполнить столбец <b>total_bedrooms</b> медианой каждой из категорий, а не просто общей медианой. Конечно количество пустот (<b>0.10%</b>) здесь особо и не делает погоду"
   ]
  },
  {
   "cell_type": "markdown",
   "id": "05170eba",
   "metadata": {},
   "source": [
    "Посмотрим на пустоты при группировке категориального признака"
   ]
  },
  {
   "cell_type": "code",
   "execution_count": 175,
   "id": "65880105",
   "metadata": {},
   "outputs": [
    {
     "name": "stderr",
     "output_type": "stream",
     "text": [
      "                                                                                \r"
     ]
    },
    {
     "data": {
      "text/html": [
       "<div>\n",
       "<style scoped>\n",
       "    .dataframe tbody tr th:only-of-type {\n",
       "        vertical-align: middle;\n",
       "    }\n",
       "\n",
       "    .dataframe tbody tr th {\n",
       "        vertical-align: top;\n",
       "    }\n",
       "\n",
       "    .dataframe thead th {\n",
       "        text-align: right;\n",
       "    }\n",
       "</style>\n",
       "<table border=\"1\" class=\"dataframe\">\n",
       "  <thead>\n",
       "    <tr style=\"text-align: right;\">\n",
       "      <th></th>\n",
       "      <th>ocean_proximity</th>\n",
       "      <th>Количество пустых значений</th>\n",
       "      <th>count</th>\n",
       "      <th>Доля</th>\n",
       "    </tr>\n",
       "  </thead>\n",
       "  <tbody>\n",
       "    <tr>\n",
       "      <th>0</th>\n",
       "      <td>ISLAND</td>\n",
       "      <td>0</td>\n",
       "      <td>5</td>\n",
       "      <td>0.000000</td>\n",
       "    </tr>\n",
       "    <tr>\n",
       "      <th>1</th>\n",
       "      <td>NEAR OCEAN</td>\n",
       "      <td>30</td>\n",
       "      <td>2658</td>\n",
       "      <td>1.128668</td>\n",
       "    </tr>\n",
       "    <tr>\n",
       "      <th>2</th>\n",
       "      <td>NEAR BAY</td>\n",
       "      <td>20</td>\n",
       "      <td>2290</td>\n",
       "      <td>0.873362</td>\n",
       "    </tr>\n",
       "    <tr>\n",
       "      <th>3</th>\n",
       "      <td>&lt;1H OCEAN</td>\n",
       "      <td>102</td>\n",
       "      <td>9136</td>\n",
       "      <td>1.116462</td>\n",
       "    </tr>\n",
       "    <tr>\n",
       "      <th>4</th>\n",
       "      <td>INLAND</td>\n",
       "      <td>55</td>\n",
       "      <td>6551</td>\n",
       "      <td>0.839566</td>\n",
       "    </tr>\n",
       "  </tbody>\n",
       "</table>\n",
       "</div>"
      ],
      "text/plain": [
       "  ocean_proximity  Количество пустых значений  count      Доля\n",
       "0          ISLAND                           0      5  0.000000\n",
       "1      NEAR OCEAN                          30   2658  1.128668\n",
       "2        NEAR BAY                          20   2290  0.873362\n",
       "3       <1H OCEAN                         102   9136  1.116462\n",
       "4          INLAND                          55   6551  0.839566"
      ]
     },
     "metadata": {},
     "output_type": "display_data"
    }
   ],
   "source": [
    "missing_values_count = data.groupBy('ocean_proximity').agg(count(when(isnan('total_bedrooms') | col('total_bedrooms').isNull(), 'total_bedrooms')).alias('Количество пустых значений'))\n",
    "total_count = data.groupBy('ocean_proximity').count()\n",
    "missing_values_percentage = missing_values_count.join(total_count, 'ocean_proximity') \\\n",
    "    .withColumn('Доля', (col('Количество пустых значений') / col('count')) * 100)\n",
    "\n",
    "display(missing_values_percentage.toPandas())"
   ]
  },
  {
   "cell_type": "markdown",
   "id": "fe357b3f",
   "metadata": {},
   "source": [
    "Посчитаем медиану для каждой из категорий\n",
    "<br>\n",
    "update\n",
    "<br>\n",
    "судя по всему ни median, ни approxQuantile у нас здесь нет. делать кастомную функцию под пустые значения, которые составляют .10% от общего количества данных это конечно сомнительное удовольствие, но что поделать"
   ]
  },
  {
   "cell_type": "code",
   "execution_count": 176,
   "id": "679cdd88",
   "metadata": {},
   "outputs": [],
   "source": [
    "def median(values: List[float]) -> float:\n",
    "\n",
    "    sorted_values = sorted(values)\n",
    "    n = len(sorted_values)\n",
    "    if n % 2 == 0:\n",
    "        return (sorted_values[n // 2 - 1] + sorted_values[n // 2]) / 2\n",
    "    else:\n",
    "        return sorted_values[n // 2]\n",
    "\n",
    "median_udf = udf(median, DoubleType())"
   ]
  },
  {
   "cell_type": "markdown",
   "id": "70bbba97",
   "metadata": {},
   "source": [
    "Заполним пустоты в <b>total_bedrooms</b> медианным значением"
   ]
  },
  {
   "cell_type": "code",
   "execution_count": 178,
   "id": "87c09402",
   "metadata": {},
   "outputs": [],
   "source": [
    "data = data.withColumn('total_bedrooms', when(col('total_bedrooms').isNull(),\n",
    "                                              median_udf(collect_list('total_bedrooms').over(Window.partitionBy('ocean_proximity')))).otherwise(col('total_bedrooms')))"
   ]
  },
  {
   "cell_type": "markdown",
   "id": "4c86d159",
   "metadata": {},
   "source": [
    "Посмотрим на пустые значения еще раз"
   ]
  },
  {
   "cell_type": "code",
   "execution_count": 179,
   "id": "1c74c20d",
   "metadata": {},
   "outputs": [
    {
     "name": "stderr",
     "output_type": "stream",
     "text": [
      "[Stage 13:=====================================================>(199 + 1) / 200]\r"
     ]
    },
    {
     "name": "stdout",
     "output_type": "stream",
     "text": [
      "Доля пустых значений: 0.00%\n",
      "\n",
      "Наименование столбца      Количество пустых значений\n",
      "longitude                 0\n",
      "latitude                  0\n",
      "housing_median_age        0\n",
      "total_rooms               0\n",
      "total_bedrooms            0\n",
      "population                0\n",
      "households                0\n",
      "median_income             0\n",
      "median_house_value        0\n",
      "ocean_proximity           0\n"
     ]
    },
    {
     "name": "stderr",
     "output_type": "stream",
     "text": [
      "                                                                                \r"
     ]
    }
   ],
   "source": [
    "null_counts = data.select([count(when(isnan(c) | col(c).isNull(), c)).alias(c) for c in data.columns]).collect()[0]\n",
    "\n",
    "percent_empty = (sum(null_counts) / (row_count * len(data.columns))) * 100\n",
    "\n",
    "print(\"Доля пустых значений: {:.2f}%\".format(percent_empty))\n",
    "print('')\n",
    "print(\"{:<25} {}\".format(\"Наименование столбца\", \"Количество пустых значений\"))\n",
    "for col_name, null_count in zip(data.columns, null_counts):\n",
    "    print(\"{:<25} {}\".format(col_name, null_count))"
   ]
  },
  {
   "cell_type": "markdown",
   "id": "eece7e97",
   "metadata": {},
   "source": [
    "Преобразуйте колонку с категориальными значениями техникой One hot encoding.\n",
    "<br>\n",
    "StringIndexer для перевода в числовой формат\n",
    "<br>\n",
    "<font color='purple'><b>update 1</b> Сначала разделим на выборки, а потом уже кодирование</font>"
   ]
  },
  {
   "cell_type": "code",
   "execution_count": 180,
   "id": "2f79a9cb",
   "metadata": {},
   "outputs": [],
   "source": [
    "train_all, test_all = data.randomSplit([0.8, 0.2], seed=SSEED)"
   ]
  },
  {
   "cell_type": "code",
   "execution_count": 181,
   "id": "708d5a39",
   "metadata": {},
   "outputs": [],
   "source": [
    "indexer = StringIndexer(inputCol=\"ocean_proximity\", outputCol=\"ocean_proximity_idx\")\n",
    "#data_ohe = indexer.fit(train_all).transform(train_all)"
   ]
  },
  {
   "cell_type": "markdown",
   "id": "b124f690",
   "metadata": {},
   "source": [
    "собственно сам ohe"
   ]
  },
  {
   "cell_type": "code",
   "execution_count": 182,
   "id": "6252d1c4",
   "metadata": {},
   "outputs": [],
   "source": [
    "encoder = OneHotEncoder(inputCols=[\"ocean_proximity_idx\"], outputCols=[\"ocean_proximity_vec\"])"
   ]
  },
  {
   "cell_type": "markdown",
   "id": "987559d4",
   "metadata": {},
   "source": [
    "теперь числовые признаки"
   ]
  },
  {
   "cell_type": "code",
   "execution_count": 183,
   "id": "393fe2c4",
   "metadata": {},
   "outputs": [],
   "source": [
    "assembler_all = VectorAssembler(inputCols=[\"longitude\", \"latitude\", \"housing_median_age\", \"total_rooms\", \"total_bedrooms\", \"population\", \"households\", \"median_income\", \"ocean_proximity_vec\"], outputCol='features_all')"
   ]
  },
  {
   "cell_type": "code",
   "execution_count": 184,
   "id": "656ebe95",
   "metadata": {},
   "outputs": [],
   "source": [
    "num_cols = [\"longitude\", \"latitude\", \"housing_median_age\", \"total_rooms\", \"total_bedrooms\", \"population\", \"households\", \"median_income\"]"
   ]
  },
  {
   "cell_type": "code",
   "execution_count": 185,
   "id": "61811b5c",
   "metadata": {},
   "outputs": [],
   "source": [
    "num_assembler = VectorAssembler(inputCols=num_cols, outputCol=\"num_features\")"
   ]
  },
  {
   "cell_type": "code",
   "execution_count": 186,
   "id": "49dd9dbb",
   "metadata": {},
   "outputs": [],
   "source": [
    "scaler = StandardScaler(inputCol=\"num_features\", outputCol=\"scaled_num_features\")"
   ]
  },
  {
   "cell_type": "markdown",
   "id": "90b79fe0",
   "metadata": {},
   "source": [
    "Разделение на выборки 80\\20"
   ]
  },
  {
   "cell_type": "markdown",
   "id": "9f0a82f3",
   "metadata": {
    "id": "9f0a82f3"
   },
   "source": [
    "# Обучение моделей"
   ]
  },
  {
   "cell_type": "markdown",
   "id": "e5445c89",
   "metadata": {},
   "source": [
    "<b>Построение модели на всех данных</b>"
   ]
  },
  {
   "cell_type": "markdown",
   "id": "685a8968",
   "metadata": {},
   "source": [
    "Инициализируем модель"
   ]
  },
  {
   "cell_type": "code",
   "execution_count": 188,
   "id": "bddb08c4",
   "metadata": {
    "id": "bddb08c4"
   },
   "outputs": [],
   "source": [
    "lr_all = LinearRegression(featuresCol='features_all', labelCol='median_house_value')"
   ]
  },
  {
   "cell_type": "code",
   "execution_count": 189,
   "id": "50ac2472",
   "metadata": {},
   "outputs": [],
   "source": [
    "pipeline_all = Pipeline(stages=[indexer, encoder, num_assembler, scaler, assembler_all, lr_all])"
   ]
  },
  {
   "cell_type": "markdown",
   "id": "6d8f61e6",
   "metadata": {},
   "source": [
    "Обучим"
   ]
  },
  {
   "cell_type": "code",
   "execution_count": null,
   "id": "b3105ca2",
   "metadata": {},
   "outputs": [
    {
     "name": "stderr",
     "output_type": "stream",
     "text": [
      "23/05/08 21:50:12 WARN Instrumentation: [e92c20b0] regParam is zero, which might cause numerical instability and overfitting.\n",
      "[Stage 28:===========================>                          (102 + 1) / 200]\r"
     ]
    }
   ],
   "source": [
    "lr_model_all = pipeline_all.fit(train_all)"
   ]
  },
  {
   "cell_type": "markdown",
   "id": "ddbc9230",
   "metadata": {},
   "source": [
    "Получим предсказания"
   ]
  },
  {
   "cell_type": "code",
   "execution_count": null,
   "id": "0f44a440",
   "metadata": {},
   "outputs": [],
   "source": [
    "predictions_all = lr_model_all.transform(test_all)"
   ]
  },
  {
   "cell_type": "markdown",
   "id": "4dc58c45",
   "metadata": {},
   "source": [
    "Оценим по метрикам RMSE, MAE и R2"
   ]
  },
  {
   "cell_type": "code",
   "execution_count": 192,
   "id": "66b91903",
   "metadata": {},
   "outputs": [
    {
     "name": "stderr",
     "output_type": "stream",
     "text": [
      "[Stage 37:====================================================> (195 + 1) / 200]\r"
     ]
    },
    {
     "name": "stdout",
     "output_type": "stream",
     "text": [
      "Модель на всех данных\n",
      "RMSE: 70131.70\n",
      "MAE: 50447.24\n",
      "R2: 0.64\n"
     ]
    },
    {
     "name": "stderr",
     "output_type": "stream",
     "text": [
      "                                                                                \r"
     ]
    }
   ],
   "source": [
    "evaluator = RegressionEvaluator(labelCol='median_house_value', predictionCol='prediction', metricName='rmse')\n",
    "rmse_all = evaluator.evaluate(predictions_all)\n",
    "mae_all = evaluator.setMetricName('mae').evaluate(predictions_all)\n",
    "r2_all = evaluator.setMetricName('r2').evaluate(predictions_all)\n",
    "\n",
    "print(\"Модель на всех данных\")\n",
    "print(\"RMSE: {:.2f}\".format(rmse_all))\n",
    "print(\"MAE: {:.2f}\".format(mae_all))\n",
    "print(\"R2: {:.2f}\".format(r2_all))"
   ]
  },
  {
   "cell_type": "markdown",
   "id": "d93b5117",
   "metadata": {},
   "source": [
    "<b>Построение модели на числовых данных</b>"
   ]
  },
  {
   "cell_type": "markdown",
   "id": "2911fbf4",
   "metadata": {},
   "source": [
    "Инициализируем модель"
   ]
  },
  {
   "cell_type": "code",
   "execution_count": 196,
   "id": "80bff312",
   "metadata": {},
   "outputs": [],
   "source": [
    "lr_numeric = LinearRegression(featuresCol='scaled_num_features', labelCol='median_house_value')\n",
    "pipeline_num = Pipeline(stages=[num_assembler, scaler, lr_numeric])"
   ]
  },
  {
   "cell_type": "markdown",
   "id": "54b2a897",
   "metadata": {},
   "source": [
    "Обучим"
   ]
  },
  {
   "cell_type": "code",
   "execution_count": 197,
   "id": "79efbca8",
   "metadata": {},
   "outputs": [
    {
     "name": "stderr",
     "output_type": "stream",
     "text": [
      "23/05/08 21:57:32 WARN Instrumentation: [9330ac4c] regParam is zero, which might cause numerical instability and overfitting.\n",
      "                                                                                \r"
     ]
    }
   ],
   "source": [
    "lr_model_numeric = pipeline_num.fit(train_all)"
   ]
  },
  {
   "cell_type": "markdown",
   "id": "280fd7d8",
   "metadata": {},
   "source": [
    "Получим предсказания"
   ]
  },
  {
   "cell_type": "code",
   "execution_count": 198,
   "id": "7d5c28f2",
   "metadata": {},
   "outputs": [],
   "source": [
    "predictions_numeric = lr_model_numeric.transform(test_all)"
   ]
  },
  {
   "cell_type": "markdown",
   "id": "bb14a268",
   "metadata": {},
   "source": [
    "Оценим по метрикам RMSE, MAE и R2"
   ]
  },
  {
   "cell_type": "code",
   "execution_count": 199,
   "id": "81ac7477",
   "metadata": {
    "scrolled": true
   },
   "outputs": [
    {
     "name": "stderr",
     "output_type": "stream",
     "text": [
      "[Stage 58:====================================================> (193 + 1) / 200]\r"
     ]
    },
    {
     "name": "stdout",
     "output_type": "stream",
     "text": [
      "Модель на числовых данных\n",
      "RMSE: 0.63\n",
      "MAE: 51550.12\n",
      "R2: 0.63\n"
     ]
    },
    {
     "name": "stderr",
     "output_type": "stream",
     "text": [
      "                                                                                \r"
     ]
    }
   ],
   "source": [
    "rmse_numeric = evaluator.evaluate(predictions_numeric)\n",
    "mae_numeric = evaluator.setMetricName('mae').evaluate(predictions_numeric)\n",
    "r2_numeric = evaluator.setMetricName('r2').evaluate(predictions_numeric)\n",
    "\n",
    "print(\"Модель на числовых данных\")\n",
    "print(\"RMSE: {:.2f}\".format(rmse_numeric))\n",
    "print(\"MAE: {:.2f}\".format(mae_numeric))\n",
    "print(\"R2: {:.2f}\".format(r2_numeric))"
   ]
  },
  {
   "cell_type": "code",
   "execution_count": 200,
   "id": "e72dc73e",
   "metadata": {},
   "outputs": [],
   "source": [
    "spark.stop()"
   ]
  },
  {
   "cell_type": "markdown",
   "id": "757fd103",
   "metadata": {
    "id": "757fd103"
   },
   "source": [
    "# Анализ результатов"
   ]
  },
  {
   "cell_type": "markdown",
   "id": "4b9151e4",
   "metadata": {},
   "source": [
    "Нами было проведено сравнение двух моделей линейной регрессии для предсказания стоимости жилья.\n",
    "<br>\n",
    "Первая модель использовала все признаки, включая категориальный признак \"ocean_proximity\", который был закодирован методом ohe, а вторая модель использовала только числовые признаки.\n",
    "<br>\n",
    "Результаты показали, что модель на всех признаках имеет лучшие показатели, чем модель на числовых признаках. Значение метрики RMSE для первой модели составило 70131.70, а для второй - 0.63. Однако модель на числовых признаках также имеет хорошие показатели с точки зрения метрик MAE и R2, что говорит о том, что числовые признаки имеют высокую корреляцию с целевой переменной.\n",
    "<br>\n",
    "Таким образом, можно заключить, что включение категориального признака \"ocean_proximity\" в модель улучшает ее предсказательную способность"
   ]
  }
 ],
 "metadata": {
  "ExecuteTimeLog": [
   {
    "duration": 486,
    "start_time": "2023-05-02T06:09:42.796Z"
   },
   {
    "duration": 21797,
    "start_time": "2023-05-02T06:11:18.189Z"
   },
   {
    "duration": 12917,
    "start_time": "2023-05-02T06:11:43.056Z"
   },
   {
    "duration": 51,
    "start_time": "2023-05-02T06:12:08.503Z"
   },
   {
    "duration": 5,
    "start_time": "2023-05-02T06:12:37.604Z"
   },
   {
    "duration": 78,
    "start_time": "2023-05-02T06:13:10.801Z"
   },
   {
    "duration": 297,
    "start_time": "2023-05-02T06:13:20.902Z"
   },
   {
    "duration": 16,
    "start_time": "2023-05-02T06:13:22.989Z"
   },
   {
    "duration": 11,
    "start_time": "2023-05-02T06:14:58.808Z"
   },
   {
    "duration": 4,
    "start_time": "2023-05-02T06:18:09.603Z"
   },
   {
    "duration": 2658,
    "start_time": "2023-05-02T06:18:37.153Z"
   },
   {
    "duration": 1263,
    "start_time": "2023-05-02T06:20:10.900Z"
   },
   {
    "duration": 5,
    "start_time": "2023-05-02T06:20:23.728Z"
   },
   {
    "duration": 5,
    "start_time": "2023-05-02T06:20:44.649Z"
   },
   {
    "duration": 381,
    "start_time": "2023-05-02T06:23:05.834Z"
   },
   {
    "duration": 225,
    "start_time": "2023-05-02T06:24:17.801Z"
   },
   {
    "duration": 75,
    "start_time": "2023-05-02T06:34:24.151Z"
   },
   {
    "duration": 515,
    "start_time": "2023-05-02T06:34:27.390Z"
   },
   {
    "duration": 302,
    "start_time": "2023-05-02T06:34:41.001Z"
   },
   {
    "duration": 935,
    "start_time": "2023-05-02T06:40:39.666Z"
   },
   {
    "duration": 716,
    "start_time": "2023-05-02T06:41:51.054Z"
   },
   {
    "duration": 752,
    "start_time": "2023-05-02T06:44:15.759Z"
   },
   {
    "duration": 673,
    "start_time": "2023-05-02T06:44:32.935Z"
   },
   {
    "duration": 10520,
    "start_time": "2023-05-02T06:47:55.878Z"
   },
   {
    "duration": 5212,
    "start_time": "2023-05-02T06:49:20.357Z"
   },
   {
    "duration": 4003,
    "start_time": "2023-05-02T06:50:35.994Z"
   },
   {
    "duration": 4,
    "start_time": "2023-05-02T06:58:24.693Z"
   },
   {
    "duration": 15,
    "start_time": "2023-05-02T06:58:39.380Z"
   },
   {
    "duration": 500,
    "start_time": "2023-05-02T06:59:10.728Z"
   },
   {
    "duration": 0,
    "start_time": "2023-05-02T06:59:11.230Z"
   },
   {
    "duration": 0,
    "start_time": "2023-05-02T06:59:11.232Z"
   },
   {
    "duration": 0,
    "start_time": "2023-05-02T06:59:11.233Z"
   },
   {
    "duration": 0,
    "start_time": "2023-05-02T06:59:11.234Z"
   },
   {
    "duration": 0,
    "start_time": "2023-05-02T06:59:11.235Z"
   },
   {
    "duration": 0,
    "start_time": "2023-05-02T06:59:11.236Z"
   },
   {
    "duration": 0,
    "start_time": "2023-05-02T06:59:11.237Z"
   },
   {
    "duration": 0,
    "start_time": "2023-05-02T06:59:11.238Z"
   },
   {
    "duration": 0,
    "start_time": "2023-05-02T06:59:11.240Z"
   },
   {
    "duration": 0,
    "start_time": "2023-05-02T06:59:11.241Z"
   },
   {
    "duration": 0,
    "start_time": "2023-05-02T06:59:11.242Z"
   },
   {
    "duration": 0,
    "start_time": "2023-05-02T06:59:11.262Z"
   },
   {
    "duration": 14,
    "start_time": "2023-05-02T06:59:41.784Z"
   },
   {
    "duration": 293,
    "start_time": "2023-05-02T07:01:38.007Z"
   },
   {
    "duration": 16286,
    "start_time": "2023-05-02T07:02:07.922Z"
   },
   {
    "duration": 719,
    "start_time": "2023-05-02T07:46:33.682Z"
   },
   {
    "duration": 15642,
    "start_time": "2023-05-02T07:46:35.319Z"
   },
   {
    "duration": 9439,
    "start_time": "2023-05-02T07:46:50.963Z"
   },
   {
    "duration": 1290,
    "start_time": "2023-05-02T07:47:00.403Z"
   },
   {
    "duration": 90,
    "start_time": "2023-05-02T07:47:01.695Z"
   },
   {
    "duration": 5,
    "start_time": "2023-05-02T07:47:01.788Z"
   },
   {
    "duration": 87,
    "start_time": "2023-05-02T07:47:01.795Z"
   },
   {
    "duration": 509,
    "start_time": "2023-05-02T07:47:01.884Z"
   },
   {
    "duration": 205,
    "start_time": "2023-05-02T07:47:02.395Z"
   },
   {
    "duration": 0,
    "start_time": "2023-05-02T07:47:02.603Z"
   },
   {
    "duration": 0,
    "start_time": "2023-05-02T07:47:02.664Z"
   },
   {
    "duration": 0,
    "start_time": "2023-05-02T07:47:02.666Z"
   },
   {
    "duration": 0,
    "start_time": "2023-05-02T07:47:02.667Z"
   },
   {
    "duration": 8,
    "start_time": "2023-05-02T07:48:12.414Z"
   },
   {
    "duration": 4,
    "start_time": "2023-05-02T07:48:41.632Z"
   },
   {
    "duration": 3,
    "start_time": "2023-05-02T07:49:40.777Z"
   },
   {
    "duration": 1749,
    "start_time": "2023-05-02T07:49:43.637Z"
   },
   {
    "duration": 10586,
    "start_time": "2023-05-02T07:49:50.811Z"
   },
   {
    "duration": 76,
    "start_time": "2023-05-02T07:50:01.399Z"
   },
   {
    "duration": 16,
    "start_time": "2023-05-02T07:50:45.917Z"
   },
   {
    "duration": 664,
    "start_time": "2023-05-02T07:51:17.644Z"
   },
   {
    "duration": 19,
    "start_time": "2023-05-02T07:51:34.814Z"
   },
   {
    "duration": 8,
    "start_time": "2023-05-02T07:51:42.420Z"
   },
   {
    "duration": 16,
    "start_time": "2023-05-02T07:52:14.745Z"
   },
   {
    "duration": 4,
    "start_time": "2023-05-02T07:53:04.612Z"
   },
   {
    "duration": 753,
    "start_time": "2023-05-05T14:17:08.097Z"
   },
   {
    "duration": 24348,
    "start_time": "2023-05-05T14:17:08.855Z"
   },
   {
    "duration": 12373,
    "start_time": "2023-05-05T14:17:33.205Z"
   },
   {
    "duration": 1434,
    "start_time": "2023-05-05T14:17:45.580Z"
   },
   {
    "duration": 98,
    "start_time": "2023-05-05T14:17:47.017Z"
   },
   {
    "duration": 8,
    "start_time": "2023-05-05T14:17:47.117Z"
   },
   {
    "duration": 63,
    "start_time": "2023-05-05T14:17:47.127Z"
   },
   {
    "duration": 692,
    "start_time": "2023-05-05T14:17:47.192Z"
   },
   {
    "duration": 2369,
    "start_time": "2023-05-05T14:17:47.886Z"
   },
   {
    "duration": 13022,
    "start_time": "2023-05-05T14:17:50.256Z"
   },
   {
    "duration": 128,
    "start_time": "2023-05-05T14:18:09.523Z"
   },
   {
    "duration": 5,
    "start_time": "2023-05-05T14:25:34.353Z"
   },
   {
    "duration": 4,
    "start_time": "2023-05-05T14:25:43.422Z"
   },
   {
    "duration": 12,
    "start_time": "2023-05-05T14:28:09.351Z"
   },
   {
    "duration": 10,
    "start_time": "2023-05-05T14:28:12.478Z"
   },
   {
    "duration": 3,
    "start_time": "2023-05-05T14:28:37.294Z"
   },
   {
    "duration": 13,
    "start_time": "2023-05-05T14:28:42.357Z"
   },
   {
    "duration": 3,
    "start_time": "2023-05-05T14:29:11.168Z"
   },
   {
    "duration": 5,
    "start_time": "2023-05-05T14:29:15.148Z"
   },
   {
    "duration": 12,
    "start_time": "2023-05-05T14:29:16.168Z"
   },
   {
    "duration": 4,
    "start_time": "2023-05-05T14:30:09.219Z"
   },
   {
    "duration": 5,
    "start_time": "2023-05-05T14:30:13.217Z"
   },
   {
    "duration": 22,
    "start_time": "2023-05-05T14:30:13.732Z"
   },
   {
    "duration": 14,
    "start_time": "2023-05-05T14:30:24.859Z"
   },
   {
    "duration": 8,
    "start_time": "2023-05-05T14:30:30.796Z"
   },
   {
    "duration": 5,
    "start_time": "2023-05-05T14:30:57.050Z"
   },
   {
    "duration": 4,
    "start_time": "2023-05-05T14:31:01.325Z"
   },
   {
    "duration": 149,
    "start_time": "2023-05-05T14:31:01.588Z"
   },
   {
    "duration": 10,
    "start_time": "2023-05-05T14:31:04.208Z"
   },
   {
    "duration": 2931,
    "start_time": "2023-05-05T14:31:20.255Z"
   },
   {
    "duration": 9,
    "start_time": "2023-05-05T14:31:50.462Z"
   },
   {
    "duration": 72895,
    "start_time": "2023-05-05T14:49:11.880Z"
   },
   {
    "duration": 9,
    "start_time": "2023-05-05T14:51:32.465Z"
   },
   {
    "duration": 64,
    "start_time": "2023-05-05T14:51:32.476Z"
   },
   {
    "duration": 921,
    "start_time": "2023-05-05T14:51:32.543Z"
   },
   {
    "duration": 374,
    "start_time": "2023-05-05T14:51:33.466Z"
   },
   {
    "duration": 14,
    "start_time": "2023-05-05T14:51:33.842Z"
   },
   {
    "duration": 26,
    "start_time": "2023-05-05T14:51:33.858Z"
   },
   {
    "duration": 12,
    "start_time": "2023-05-05T14:51:33.934Z"
   },
   {
    "duration": 226,
    "start_time": "2023-05-05T14:51:33.956Z"
   },
   {
    "duration": 1904,
    "start_time": "2023-05-05T14:51:34.238Z"
   },
   {
    "duration": 5909,
    "start_time": "2023-05-05T14:51:36.144Z"
   },
   {
    "duration": 9,
    "start_time": "2023-05-05T14:51:42.055Z"
   },
   {
    "duration": 175,
    "start_time": "2023-05-05T14:51:42.070Z"
   },
   {
    "duration": 64304,
    "start_time": "2023-05-05T14:51:42.248Z"
   },
   {
    "duration": 497,
    "start_time": "2023-05-05T15:07:46.700Z"
   },
   {
    "duration": 4,
    "start_time": "2023-05-05T15:08:27.085Z"
   },
   {
    "duration": 8,
    "start_time": "2023-05-05T15:09:41.929Z"
   },
   {
    "duration": 2038,
    "start_time": "2023-05-05T15:11:36.857Z"
   },
   {
    "duration": 397,
    "start_time": "2023-05-05T15:11:55.393Z"
   },
   {
    "duration": 188,
    "start_time": "2023-05-05T15:11:57.368Z"
   },
   {
    "duration": 364,
    "start_time": "2023-05-05T15:12:17.120Z"
   },
   {
    "duration": 215,
    "start_time": "2023-05-05T15:12:18.156Z"
   },
   {
    "duration": 9,
    "start_time": "2023-05-05T15:12:36.733Z"
   },
   {
    "duration": 1058,
    "start_time": "2023-05-05T15:15:42.429Z"
   },
   {
    "duration": 8294,
    "start_time": "2023-05-05T15:15:55.268Z"
   },
   {
    "duration": 5,
    "start_time": "2023-05-05T15:42:07.302Z"
   },
   {
    "duration": 8,
    "start_time": "2023-05-05T15:42:07.309Z"
   },
   {
    "duration": 475,
    "start_time": "2023-05-05T15:42:07.319Z"
   },
   {
    "duration": 171,
    "start_time": "2023-05-05T15:42:07.796Z"
   },
   {
    "duration": 9,
    "start_time": "2023-05-05T15:42:07.971Z"
   },
   {
    "duration": 31,
    "start_time": "2023-05-05T15:42:07.984Z"
   },
   {
    "duration": 11,
    "start_time": "2023-05-05T15:42:08.017Z"
   },
   {
    "duration": 175,
    "start_time": "2023-05-05T15:42:08.031Z"
   },
   {
    "duration": 864,
    "start_time": "2023-05-05T15:42:08.209Z"
   },
   {
    "duration": 5015,
    "start_time": "2023-05-05T15:42:09.075Z"
   },
   {
    "duration": 5,
    "start_time": "2023-05-05T15:42:14.092Z"
   },
   {
    "duration": 179,
    "start_time": "2023-05-05T15:42:14.099Z"
   },
   {
    "duration": 72277,
    "start_time": "2023-05-05T15:42:14.282Z"
   },
   {
    "duration": 502,
    "start_time": "2023-05-05T15:43:26.570Z"
   },
   {
    "duration": 90,
    "start_time": "2023-05-05T15:43:27.073Z"
   },
   {
    "duration": 141,
    "start_time": "2023-05-05T15:43:27.164Z"
   },
   {
    "duration": 961,
    "start_time": "2023-05-05T15:43:41.015Z"
   },
   {
    "duration": 739,
    "start_time": "2023-05-07T13:54:54.976Z"
   },
   {
    "duration": 15561,
    "start_time": "2023-05-07T13:54:55.716Z"
   },
   {
    "duration": 9103,
    "start_time": "2023-05-07T13:55:11.279Z"
   },
   {
    "duration": 1212,
    "start_time": "2023-05-07T13:55:20.441Z"
   },
   {
    "duration": 99,
    "start_time": "2023-05-07T13:55:21.656Z"
   },
   {
    "duration": 5,
    "start_time": "2023-05-07T13:55:21.757Z"
   },
   {
    "duration": 27,
    "start_time": "2023-05-07T13:55:21.763Z"
   },
   {
    "duration": 560,
    "start_time": "2023-05-07T13:55:21.791Z"
   },
   {
    "duration": 1699,
    "start_time": "2023-05-07T13:55:22.354Z"
   },
   {
    "duration": 10494,
    "start_time": "2023-05-07T13:55:24.055Z"
   },
   {
    "duration": 4,
    "start_time": "2023-05-07T13:55:34.551Z"
   },
   {
    "duration": 202,
    "start_time": "2023-05-07T13:55:34.556Z"
   },
   {
    "duration": 57991,
    "start_time": "2023-05-07T13:55:34.760Z"
   },
   {
    "duration": 1796,
    "start_time": "2023-05-07T13:56:32.754Z"
   },
   {
    "duration": 490,
    "start_time": "2023-05-07T13:56:34.552Z"
   },
   {
    "duration": 112,
    "start_time": "2023-05-07T13:56:35.044Z"
   },
   {
    "duration": 1704,
    "start_time": "2023-05-07T13:56:35.158Z"
   },
   {
    "duration": 3,
    "start_time": "2023-05-07T14:06:47.100Z"
   },
   {
    "duration": 24,
    "start_time": "2023-05-07T14:07:04.537Z"
   },
   {
    "duration": 144,
    "start_time": "2023-05-07T14:08:39.358Z"
   },
   {
    "duration": 234,
    "start_time": "2023-05-07T14:08:40.558Z"
   },
   {
    "duration": 11,
    "start_time": "2023-05-07T14:08:55.993Z"
   },
   {
    "duration": 175920,
    "start_time": "2023-05-07T14:08:57.343Z"
   },
   {
    "duration": 21,
    "start_time": "2023-05-07T14:11:56.090Z"
   },
   {
    "duration": 164160,
    "start_time": "2023-05-07T14:12:40.405Z"
   },
   {
    "duration": 9,
    "start_time": "2023-05-07T14:22:59.691Z"
   },
   {
    "duration": 25,
    "start_time": "2023-05-07T14:23:00.698Z"
   },
   {
    "duration": 12,
    "start_time": "2023-05-07T14:23:01.498Z"
   },
   {
    "duration": 7,
    "start_time": "2023-05-07T14:23:02.505Z"
   },
   {
    "duration": 163328,
    "start_time": "2023-05-07T14:23:03.701Z"
   },
   {
    "duration": 21,
    "start_time": "2023-05-07T14:25:50.318Z"
   },
   {
    "duration": 161945,
    "start_time": "2023-05-07T14:25:51.049Z"
   },
   {
    "duration": 651,
    "start_time": "2023-05-07T14:28:57.371Z"
   },
   {
    "duration": 49,
    "start_time": "2023-05-08T19:38:31.245Z"
   },
   {
    "duration": 761,
    "start_time": "2023-05-08T19:38:37.687Z"
   },
   {
    "duration": 3,
    "start_time": "2023-05-08T19:38:38.450Z"
   },
   {
    "duration": 17290,
    "start_time": "2023-05-08T19:38:38.455Z"
   },
   {
    "duration": 11299,
    "start_time": "2023-05-08T19:38:55.747Z"
   },
   {
    "duration": 1602,
    "start_time": "2023-05-08T19:39:07.049Z"
   },
   {
    "duration": 92,
    "start_time": "2023-05-08T19:39:08.653Z"
   },
   {
    "duration": 7,
    "start_time": "2023-05-08T19:39:08.747Z"
   },
   {
    "duration": 81,
    "start_time": "2023-05-08T19:39:08.755Z"
   },
   {
    "duration": 627,
    "start_time": "2023-05-08T19:39:08.838Z"
   },
   {
    "duration": 2180,
    "start_time": "2023-05-08T19:39:09.467Z"
   },
   {
    "duration": 12816,
    "start_time": "2023-05-08T19:39:11.651Z"
   },
   {
    "duration": 4,
    "start_time": "2023-05-08T19:39:24.469Z"
   },
   {
    "duration": 975,
    "start_time": "2023-05-08T19:39:24.475Z"
   },
   {
    "duration": 182,
    "start_time": "2023-05-08T19:39:25.453Z"
   },
   {
    "duration": 74011,
    "start_time": "2023-05-08T19:39:25.644Z"
   },
   {
    "duration": 44,
    "start_time": "2023-05-08T19:40:42.879Z"
   },
   {
    "duration": 64,
    "start_time": "2023-05-08T19:40:43.555Z"
   },
   {
    "duration": 188,
    "start_time": "2023-05-08T19:40:45.363Z"
   },
   {
    "duration": 5,
    "start_time": "2023-05-08T19:41:06.789Z"
   },
   {
    "duration": 25,
    "start_time": "2023-05-08T19:41:14.024Z"
   },
   {
    "duration": 160,
    "start_time": "2023-05-08T19:41:47.460Z"
   },
   {
    "duration": 9,
    "start_time": "2023-05-08T19:42:45.286Z"
   },
   {
    "duration": 12,
    "start_time": "2023-05-08T19:57:13.035Z"
   },
   {
    "duration": 13,
    "start_time": "2023-05-08T19:57:13.050Z"
   },
   {
    "duration": 7,
    "start_time": "2023-05-08T19:57:13.065Z"
   },
   {
    "duration": 785,
    "start_time": "2023-05-08T19:57:13.076Z"
   },
   {
    "duration": 375,
    "start_time": "2023-05-08T19:57:13.862Z"
   },
   {
    "duration": 10,
    "start_time": "2023-05-08T19:57:14.240Z"
   },
   {
    "duration": 7,
    "start_time": "2023-05-08T19:57:14.252Z"
   },
   {
    "duration": 67,
    "start_time": "2023-05-08T19:57:14.261Z"
   },
   {
    "duration": 214,
    "start_time": "2023-05-08T19:57:14.329Z"
   },
   {
    "duration": 1087,
    "start_time": "2023-05-08T19:57:14.547Z"
   },
   {
    "duration": 5189,
    "start_time": "2023-05-08T19:57:15.636Z"
   },
   {
    "duration": 7,
    "start_time": "2023-05-08T19:57:20.830Z"
   },
   {
    "duration": 610,
    "start_time": "2023-05-08T19:57:20.844Z"
   },
   {
    "duration": 73,
    "start_time": "2023-05-08T19:57:21.455Z"
   },
   {
    "duration": 65517,
    "start_time": "2023-05-08T19:57:21.530Z"
   },
   {
    "duration": 15,
    "start_time": "2023-05-08T19:58:27.048Z"
   },
   {
    "duration": 9,
    "start_time": "2023-05-08T19:58:27.065Z"
   },
   {
    "duration": 60,
    "start_time": "2023-05-08T19:58:27.076Z"
   },
   {
    "duration": 2,
    "start_time": "2023-05-08T19:58:27.138Z"
   },
   {
    "duration": 9,
    "start_time": "2023-05-08T19:58:27.142Z"
   },
   {
    "duration": 4,
    "start_time": "2023-05-08T19:58:27.152Z"
   },
   {
    "duration": 10,
    "start_time": "2023-05-08T19:58:27.158Z"
   },
   {
    "duration": 0,
    "start_time": "2023-05-08T19:58:27.177Z"
   },
   {
    "duration": 0,
    "start_time": "2023-05-08T19:58:27.178Z"
   },
   {
    "duration": 0,
    "start_time": "2023-05-08T19:58:27.180Z"
   },
   {
    "duration": 0,
    "start_time": "2023-05-08T19:58:27.215Z"
   },
   {
    "duration": 0,
    "start_time": "2023-05-08T19:58:27.221Z"
   },
   {
    "duration": 0,
    "start_time": "2023-05-08T19:58:27.222Z"
   },
   {
    "duration": 0,
    "start_time": "2023-05-08T19:58:27.223Z"
   },
   {
    "duration": 0,
    "start_time": "2023-05-08T19:58:27.224Z"
   },
   {
    "duration": 0,
    "start_time": "2023-05-08T19:58:27.225Z"
   },
   {
    "duration": 0,
    "start_time": "2023-05-08T19:58:27.226Z"
   },
   {
    "duration": 75775,
    "start_time": "2023-05-08T19:58:40.050Z"
   },
   {
    "duration": 72310,
    "start_time": "2023-05-08T20:31:09.048Z"
   },
   {
    "duration": 6,
    "start_time": "2023-05-08T20:32:57.291Z"
   },
   {
    "duration": 5,
    "start_time": "2023-05-08T20:32:57.299Z"
   },
   {
    "duration": 17,
    "start_time": "2023-05-08T20:32:57.306Z"
   },
   {
    "duration": 512,
    "start_time": "2023-05-08T20:32:57.336Z"
   },
   {
    "duration": 204,
    "start_time": "2023-05-08T20:32:57.850Z"
   },
   {
    "duration": 5,
    "start_time": "2023-05-08T20:32:58.056Z"
   },
   {
    "duration": 5,
    "start_time": "2023-05-08T20:32:58.062Z"
   },
   {
    "duration": 8,
    "start_time": "2023-05-08T20:32:58.069Z"
   },
   {
    "duration": 132,
    "start_time": "2023-05-08T20:32:58.116Z"
   },
   {
    "duration": 598,
    "start_time": "2023-05-08T20:32:58.250Z"
   },
   {
    "duration": 4298,
    "start_time": "2023-05-08T20:32:58.850Z"
   },
   {
    "duration": 5,
    "start_time": "2023-05-08T20:33:03.149Z"
   },
   {
    "duration": 374,
    "start_time": "2023-05-08T20:33:03.156Z"
   },
   {
    "duration": 91,
    "start_time": "2023-05-08T20:33:03.533Z"
   },
   {
    "duration": 58805,
    "start_time": "2023-05-08T20:33:03.632Z"
   },
   {
    "duration": 11,
    "start_time": "2023-05-08T20:34:02.439Z"
   },
   {
    "duration": 69,
    "start_time": "2023-05-08T20:34:02.452Z"
   },
   {
    "duration": 11,
    "start_time": "2023-05-08T20:34:02.523Z"
   },
   {
    "duration": 20,
    "start_time": "2023-05-08T20:34:02.535Z"
   },
   {
    "duration": 15,
    "start_time": "2023-05-08T20:34:02.557Z"
   },
   {
    "duration": 18,
    "start_time": "2023-05-08T20:34:02.573Z"
   },
   {
    "duration": 38,
    "start_time": "2023-05-08T20:34:02.593Z"
   },
   {
    "duration": 16,
    "start_time": "2023-05-08T20:34:02.633Z"
   },
   {
    "duration": 43,
    "start_time": "2023-05-08T20:34:02.650Z"
   },
   {
    "duration": 60535,
    "start_time": "2023-05-08T20:34:27.871Z"
   },
   {
    "duration": 4,
    "start_time": "2023-05-08T20:38:09.376Z"
   },
   {
    "duration": 6,
    "start_time": "2023-05-08T20:40:29.199Z"
   },
   {
    "duration": 23,
    "start_time": "2023-05-08T20:40:29.208Z"
   },
   {
    "duration": 10,
    "start_time": "2023-05-08T20:40:29.233Z"
   },
   {
    "duration": 350,
    "start_time": "2023-05-08T20:40:29.245Z"
   },
   {
    "duration": 89,
    "start_time": "2023-05-08T20:40:29.598Z"
   },
   {
    "duration": 5,
    "start_time": "2023-05-08T20:40:29.689Z"
   },
   {
    "duration": 10,
    "start_time": "2023-05-08T20:40:29.711Z"
   },
   {
    "duration": 14,
    "start_time": "2023-05-08T20:40:29.723Z"
   },
   {
    "duration": 132,
    "start_time": "2023-05-08T20:40:29.739Z"
   },
   {
    "duration": 756,
    "start_time": "2023-05-08T20:40:29.874Z"
   },
   {
    "duration": 3630,
    "start_time": "2023-05-08T20:40:30.634Z"
   },
   {
    "duration": 5,
    "start_time": "2023-05-08T20:40:34.267Z"
   },
   {
    "duration": 291,
    "start_time": "2023-05-08T20:40:34.274Z"
   },
   {
    "duration": 83,
    "start_time": "2023-05-08T20:40:34.568Z"
   },
   {
    "duration": 59840,
    "start_time": "2023-05-08T20:40:34.652Z"
   },
   {
    "duration": 31,
    "start_time": "2023-05-08T20:41:34.514Z"
   },
   {
    "duration": 7,
    "start_time": "2023-05-08T20:41:34.547Z"
   },
   {
    "duration": 10,
    "start_time": "2023-05-08T20:41:34.556Z"
   },
   {
    "duration": 6,
    "start_time": "2023-05-08T20:41:34.568Z"
   },
   {
    "duration": 43,
    "start_time": "2023-05-08T20:41:34.576Z"
   },
   {
    "duration": 9,
    "start_time": "2023-05-08T20:41:34.624Z"
   },
   {
    "duration": 12,
    "start_time": "2023-05-08T20:41:34.637Z"
   },
   {
    "duration": 2,
    "start_time": "2023-05-08T20:41:34.651Z"
   },
   {
    "duration": 3,
    "start_time": "2023-05-08T20:41:34.655Z"
   },
   {
    "duration": 69462,
    "start_time": "2023-05-08T20:42:30.790Z"
   },
   {
    "duration": 8,
    "start_time": "2023-05-08T20:43:48.269Z"
   },
   {
    "duration": 39,
    "start_time": "2023-05-08T20:45:36.634Z"
   },
   {
    "duration": 33,
    "start_time": "2023-05-08T20:45:49.504Z"
   },
   {
    "duration": 6,
    "start_time": "2023-05-08T20:48:54.197Z"
   },
   {
    "duration": 30,
    "start_time": "2023-05-08T20:48:54.206Z"
   },
   {
    "duration": 5,
    "start_time": "2023-05-08T20:48:54.248Z"
   },
   {
    "duration": 379,
    "start_time": "2023-05-08T20:48:54.256Z"
   },
   {
    "duration": 99,
    "start_time": "2023-05-08T20:48:54.638Z"
   },
   {
    "duration": 16,
    "start_time": "2023-05-08T20:48:54.739Z"
   },
   {
    "duration": 8,
    "start_time": "2023-05-08T20:48:54.757Z"
   },
   {
    "duration": 37,
    "start_time": "2023-05-08T20:48:54.766Z"
   },
   {
    "duration": 119,
    "start_time": "2023-05-08T20:48:54.806Z"
   },
   {
    "duration": 649,
    "start_time": "2023-05-08T20:48:54.931Z"
   },
   {
    "duration": 2925,
    "start_time": "2023-05-08T20:48:55.616Z"
   },
   {
    "duration": 5,
    "start_time": "2023-05-08T20:48:58.544Z"
   },
   {
    "duration": 308,
    "start_time": "2023-05-08T20:48:58.551Z"
   },
   {
    "duration": 107,
    "start_time": "2023-05-08T20:48:58.863Z"
   },
   {
    "duration": 63403,
    "start_time": "2023-05-08T20:48:58.972Z"
   },
   {
    "duration": 12,
    "start_time": "2023-05-08T20:50:02.377Z"
   },
   {
    "duration": 74,
    "start_time": "2023-05-08T20:50:02.391Z"
   },
   {
    "duration": 34,
    "start_time": "2023-05-08T20:50:02.468Z"
   },
   {
    "duration": 24,
    "start_time": "2023-05-08T20:50:02.504Z"
   },
   {
    "duration": 39,
    "start_time": "2023-05-08T20:50:02.530Z"
   },
   {
    "duration": 52,
    "start_time": "2023-05-08T20:50:02.571Z"
   },
   {
    "duration": 39,
    "start_time": "2023-05-08T20:50:02.625Z"
   },
   {
    "duration": 31,
    "start_time": "2023-05-08T20:50:02.666Z"
   },
   {
    "duration": 45,
    "start_time": "2023-05-08T20:50:02.699Z"
   },
   {
    "duration": 307658,
    "start_time": "2023-05-08T20:50:13.479Z"
   },
   {
    "duration": 170,
    "start_time": "2023-05-08T20:56:22.804Z"
   },
   {
    "duration": 22,
    "start_time": "2023-05-08T20:56:25.862Z"
   },
   {
    "duration": 128,
    "start_time": "2023-05-08T20:57:15.580Z"
   },
   {
    "duration": 119,
    "start_time": "2023-05-08T21:00:47.191Z"
   },
   {
    "duration": 7,
    "start_time": "2023-05-08T21:05:13.032Z"
   },
   {
    "duration": 7,
    "start_time": "2023-05-08T21:05:13.043Z"
   },
   {
    "duration": 7,
    "start_time": "2023-05-08T21:05:13.057Z"
   },
   {
    "duration": 673,
    "start_time": "2023-05-08T21:05:13.067Z"
   },
   {
    "duration": 277,
    "start_time": "2023-05-08T21:05:13.743Z"
   },
   {
    "duration": 21,
    "start_time": "2023-05-08T21:05:14.022Z"
   },
   {
    "duration": 16,
    "start_time": "2023-05-08T21:05:14.045Z"
   },
   {
    "duration": 24,
    "start_time": "2023-05-08T21:05:14.118Z"
   },
   {
    "duration": 270,
    "start_time": "2023-05-08T21:05:14.146Z"
   },
   {
    "duration": 724,
    "start_time": "2023-05-08T21:05:14.419Z"
   },
   {
    "duration": 2722,
    "start_time": "2023-05-08T21:05:15.145Z"
   },
   {
    "duration": 10,
    "start_time": "2023-05-08T21:05:17.869Z"
   },
   {
    "duration": 368,
    "start_time": "2023-05-08T21:05:17.883Z"
   },
   {
    "duration": 90,
    "start_time": "2023-05-08T21:05:18.256Z"
   },
   {
    "duration": 66326,
    "start_time": "2023-05-08T21:05:18.348Z"
   },
   {
    "duration": 20,
    "start_time": "2023-05-08T21:06:24.719Z"
   },
   {
    "duration": 15,
    "start_time": "2023-05-08T21:06:24.746Z"
   },
   {
    "duration": 8,
    "start_time": "2023-05-08T21:06:24.763Z"
   },
   {
    "duration": 10,
    "start_time": "2023-05-08T21:06:24.773Z"
   },
   {
    "duration": 75,
    "start_time": "2023-05-08T21:06:24.785Z"
   },
   {
    "duration": 0,
    "start_time": "2023-05-08T21:06:24.861Z"
   },
   {
    "duration": 0,
    "start_time": "2023-05-08T21:06:24.864Z"
   },
   {
    "duration": 0,
    "start_time": "2023-05-08T21:06:24.866Z"
   },
   {
    "duration": 0,
    "start_time": "2023-05-08T21:06:24.867Z"
   },
   {
    "duration": 6,
    "start_time": "2023-05-08T21:08:35.836Z"
   },
   {
    "duration": 19,
    "start_time": "2023-05-08T21:08:41.741Z"
   },
   {
    "duration": 10,
    "start_time": "2023-05-08T21:08:42.656Z"
   },
   {
    "duration": 4,
    "start_time": "2023-05-08T21:08:43.253Z"
   },
   {
    "duration": 5,
    "start_time": "2023-05-08T21:08:44.251Z"
   },
   {
    "duration": 2,
    "start_time": "2023-05-08T21:08:45.455Z"
   },
   {
    "duration": 380932,
    "start_time": "2023-05-08T21:08:46.439Z"
   },
   {
    "duration": 118,
    "start_time": "2023-05-08T21:15:19.754Z"
   },
   {
    "duration": 229113,
    "start_time": "2023-05-08T21:15:22.392Z"
   },
   {
    "duration": 15,
    "start_time": "2023-05-08T21:37:34.236Z"
   },
   {
    "duration": 291988,
    "start_time": "2023-05-08T21:37:35.181Z"
   },
   {
    "duration": 56,
    "start_time": "2023-05-08T21:42:32.088Z"
   },
   {
    "duration": 217808,
    "start_time": "2023-05-08T21:42:33.537Z"
   },
   {
    "duration": 851,
    "start_time": "2023-05-08T21:46:23.509Z"
   },
   {
    "duration": 5,
    "start_time": "2023-05-08T21:46:45.636Z"
   },
   {
    "duration": 11,
    "start_time": "2023-05-08T21:46:45.643Z"
   },
   {
    "duration": 460,
    "start_time": "2023-05-08T21:46:45.655Z"
   },
   {
    "duration": 309,
    "start_time": "2023-05-08T21:46:46.131Z"
   },
   {
    "duration": 129,
    "start_time": "2023-05-08T21:46:46.446Z"
   },
   {
    "duration": 8,
    "start_time": "2023-05-08T21:46:46.577Z"
   },
   {
    "duration": 36,
    "start_time": "2023-05-08T21:46:46.587Z"
   },
   {
    "duration": 15,
    "start_time": "2023-05-08T21:46:46.624Z"
   },
   {
    "duration": 146,
    "start_time": "2023-05-08T21:46:46.641Z"
   },
   {
    "duration": 377,
    "start_time": "2023-05-08T21:46:46.789Z"
   },
   {
    "duration": 3257,
    "start_time": "2023-05-08T21:46:47.168Z"
   },
   {
    "duration": 11,
    "start_time": "2023-05-08T21:46:50.429Z"
   },
   {
    "duration": 377,
    "start_time": "2023-05-08T21:46:50.446Z"
   },
   {
    "duration": 117,
    "start_time": "2023-05-08T21:46:50.830Z"
   },
   {
    "duration": 66109,
    "start_time": "2023-05-08T21:46:50.949Z"
   },
   {
    "duration": 20,
    "start_time": "2023-05-08T21:47:57.060Z"
   },
   {
    "duration": 28,
    "start_time": "2023-05-08T21:47:57.127Z"
   },
   {
    "duration": 8,
    "start_time": "2023-05-08T21:47:57.157Z"
   },
   {
    "duration": 7,
    "start_time": "2023-05-08T21:47:57.167Z"
   },
   {
    "duration": 3,
    "start_time": "2023-05-08T21:47:57.175Z"
   },
   {
    "duration": 8,
    "start_time": "2023-05-08T21:47:57.180Z"
   },
   {
    "duration": 6,
    "start_time": "2023-05-08T21:47:57.190Z"
   },
   {
    "duration": 20,
    "start_time": "2023-05-08T21:47:57.198Z"
   },
   {
    "duration": 15,
    "start_time": "2023-05-08T21:47:57.224Z"
   },
   {
    "duration": 6,
    "start_time": "2023-05-08T21:47:57.242Z"
   },
   {
    "duration": 186417,
    "start_time": "2023-05-08T21:53:21.440Z"
   },
   {
    "duration": 3,
    "start_time": "2023-05-08T21:56:27.859Z"
   },
   {
    "duration": 9,
    "start_time": "2023-05-08T21:56:27.864Z"
   },
   {
    "duration": 10,
    "start_time": "2023-05-08T21:56:27.875Z"
   },
   {
    "duration": 14,
    "start_time": "2023-05-08T21:56:27.887Z"
   },
   {
    "duration": 255726,
    "start_time": "2023-05-08T21:56:27.902Z"
   },
   {
    "duration": 101,
    "start_time": "2023-05-08T22:00:43.631Z"
   },
   {
    "duration": 182841,
    "start_time": "2023-05-08T22:00:43.734Z"
   },
   {
    "duration": 1000,
    "start_time": "2023-05-08T22:03:46.577Z"
   }
  ],
  "colab": {
   "name": "PySparkSprint.ipynb",
   "provenance": []
  },
  "kernelspec": {
   "display_name": "Python 3 (ipykernel)",
   "language": "python",
   "name": "python3"
  },
  "language_info": {
   "codemirror_mode": {
    "name": "ipython",
    "version": 3
   },
   "file_extension": ".py",
   "mimetype": "text/x-python",
   "name": "python",
   "nbconvert_exporter": "python",
   "pygments_lexer": "ipython3",
   "version": "3.9.13"
  },
  "toc": {
   "base_numbering": 1,
   "nav_menu": {},
   "number_sections": true,
   "sideBar": true,
   "skip_h1_title": true,
   "title_cell": "Table of Contents",
   "title_sidebar": "Contents",
   "toc_cell": false,
   "toc_position": {},
   "toc_section_display": true,
   "toc_window_display": false
  }
 },
 "nbformat": 4,
 "nbformat_minor": 5
}
