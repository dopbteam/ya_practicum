{
 "cells": [
  {
   "cell_type": "markdown",
   "metadata": {
    "toc": true
   },
   "source": [
    "<h1>Содержание<span class=\"tocSkip\"></span></h1>\n",
    "<div class=\"toc\"><ul class=\"toc-item\"><li><span><a href=\"#Подготовка\" data-toc-modified-id=\"Подготовка-1\"><span class=\"toc-item-num\">1&nbsp;&nbsp;</span>Подготовка</a></span></li><li><span><a href=\"#Обучение\" data-toc-modified-id=\"Обучение-2\"><span class=\"toc-item-num\">2&nbsp;&nbsp;</span>Обучение</a></span><ul class=\"toc-item\"><li><span><a href=\"#LightGBM\" data-toc-modified-id=\"LightGBM-2.1\"><span class=\"toc-item-num\">2.1&nbsp;&nbsp;</span>LightGBM</a></span></li><li><span><a href=\"#Древо-решений\" data-toc-modified-id=\"Древо-решений-2.2\"><span class=\"toc-item-num\">2.2&nbsp;&nbsp;</span>Древо решений</a></span></li><li><span><a href=\"#LogisticRegression\" data-toc-modified-id=\"LogisticRegression-2.3\"><span class=\"toc-item-num\">2.3&nbsp;&nbsp;</span>LogisticRegression</a></span></li></ul></li><li><span><a href=\"#Выводы\" data-toc-modified-id=\"Выводы-3\"><span class=\"toc-item-num\">3&nbsp;&nbsp;</span>Выводы</a></span><ul class=\"toc-item\"><li><span><a href=\"#LightGBM\" data-toc-modified-id=\"LightGBM-3.1\"><span class=\"toc-item-num\">3.1&nbsp;&nbsp;</span>LightGBM</a></span></li><li><span><a href=\"#Древо-решений\" data-toc-modified-id=\"Древо-решений-3.2\"><span class=\"toc-item-num\">3.2&nbsp;&nbsp;</span>Древо решений</a></span></li><li><span><a href=\"#LogisticRegression\" data-toc-modified-id=\"LogisticRegression-3.3\"><span class=\"toc-item-num\">3.3&nbsp;&nbsp;</span>LogisticRegression</a></span></li></ul></li><li><span><a href=\"#Чек-лист-проверки\" data-toc-modified-id=\"Чек-лист-проверки-4\"><span class=\"toc-item-num\">4&nbsp;&nbsp;</span>Чек-лист проверки</a></span></li></ul></div>"
   ]
  },
  {
   "cell_type": "markdown",
   "metadata": {},
   "source": [
    "# Проект для «Викишоп»"
   ]
  },
  {
   "cell_type": "markdown",
   "metadata": {},
   "source": [
    "Интернет-магазин «Викишоп» запускает новый сервис. Теперь пользователи могут редактировать и дополнять описания товаров, как в вики-сообществах. То есть клиенты предлагают свои правки и комментируют изменения других. Магазину нужен инструмент, который будет искать токсичные комментарии и отправлять их на модерацию. \n",
    "\n",
    "Обучите модель классифицировать комментарии на позитивные и негативные. В вашем распоряжении набор данных с разметкой о токсичности правок.\n",
    "\n",
    "Постройте модель со значением метрики качества *F1* не меньше 0.75. \n",
    "\n",
    "**Инструкция по выполнению проекта**\n",
    "\n",
    "1. Загрузите и подготовьте данные.\n",
    "2. Обучите разные модели. \n",
    "3. Сделайте выводы.\n",
    "\n",
    "Для выполнения проекта применять *BERT* необязательно, но вы можете попробовать.\n",
    "\n",
    "**Описание данных**\n",
    "\n",
    "Данные находятся в файле `toxic_comments.csv`. Столбец *text* в нём содержит текст комментария, а *toxic* — целевой признак."
   ]
  },
  {
   "cell_type": "markdown",
   "metadata": {},
   "source": [
    "## Подготовка"
   ]
  },
  {
   "cell_type": "markdown",
   "metadata": {},
   "source": [
    "Загрузим библиотеки"
   ]
  },
  {
   "cell_type": "code",
   "execution_count": 43,
   "metadata": {},
   "outputs": [
    {
     "name": "stderr",
     "output_type": "stream",
     "text": [
      "[nltk_data] Downloading package stopwords to /home/jovyan/nltk_data...\n",
      "[nltk_data]   Package stopwords is already up-to-date!\n",
      "[nltk_data] Downloading package punkt to /home/jovyan/nltk_data...\n",
      "[nltk_data]   Package punkt is already up-to-date!\n",
      "[nltk_data] Downloading package wordnet to /home/jovyan/nltk_data...\n",
      "[nltk_data]   Package wordnet is already up-to-date!\n",
      "[nltk_data] Downloading package omw-1.4 to /home/jovyan/nltk_data...\n",
      "[nltk_data]   Package omw-1.4 is already up-to-date!\n",
      "[nltk_data] Downloading package averaged_perceptron_tagger to\n",
      "[nltk_data]     /home/jovyan/nltk_data...\n",
      "[nltk_data]   Package averaged_perceptron_tagger is already up-to-\n",
      "[nltk_data]       date!\n"
     ]
    }
   ],
   "source": [
    "import pandas as pd\n",
    "import re\n",
    "\n",
    "import nltk\n",
    "from nltk.stem import WordNetLemmatizer\n",
    "from nltk.corpus import stopwords, wordnet\n",
    "\n",
    "nltk.download('stopwords')\n",
    "nltk.download('punkt')\n",
    "nltk.download('wordnet')\n",
    "nltk.download('omw-1.4')\n",
    "nltk.download('averaged_perceptron_tagger')\n",
    "\n",
    "from sklearn.feature_extraction.text import TfidfVectorizer\n",
    "from sklearn.model_selection import train_test_split, cross_val_score, GridSearchCV\n",
    "from sklearn.metrics import f1_score, confusion_matrix\n",
    "\n",
    "from lightgbm import LGBMClassifier\n",
    "from sklearn.linear_model import LogisticRegression\n",
    "from sklearn.tree import DecisionTreeClassifier"
   ]
  },
  {
   "cell_type": "code",
   "execution_count": 44,
   "metadata": {},
   "outputs": [],
   "source": [
    "SEED = 666"
   ]
  },
  {
   "cell_type": "markdown",
   "metadata": {},
   "source": [
    "Загрузим данные"
   ]
  },
  {
   "cell_type": "code",
   "execution_count": 45,
   "metadata": {},
   "outputs": [],
   "source": [
    "df = pd.read_csv('/datasets/toxic_comments.csv')"
   ]
  },
  {
   "cell_type": "markdown",
   "metadata": {},
   "source": [
    "Посмотрим на данные"
   ]
  },
  {
   "cell_type": "code",
   "execution_count": 46,
   "metadata": {},
   "outputs": [
    {
     "data": {
      "text/html": [
       "<div>\n",
       "<style scoped>\n",
       "    .dataframe tbody tr th:only-of-type {\n",
       "        vertical-align: middle;\n",
       "    }\n",
       "\n",
       "    .dataframe tbody tr th {\n",
       "        vertical-align: top;\n",
       "    }\n",
       "\n",
       "    .dataframe thead th {\n",
       "        text-align: right;\n",
       "    }\n",
       "</style>\n",
       "<table border=\"1\" class=\"dataframe\">\n",
       "  <thead>\n",
       "    <tr style=\"text-align: right;\">\n",
       "      <th></th>\n",
       "      <th>Unnamed: 0</th>\n",
       "      <th>text</th>\n",
       "      <th>toxic</th>\n",
       "    </tr>\n",
       "  </thead>\n",
       "  <tbody>\n",
       "    <tr>\n",
       "      <th>0</th>\n",
       "      <td>0</td>\n",
       "      <td>Explanation\\nWhy the edits made under my usern...</td>\n",
       "      <td>0</td>\n",
       "    </tr>\n",
       "    <tr>\n",
       "      <th>1</th>\n",
       "      <td>1</td>\n",
       "      <td>D'aww! He matches this background colour I'm s...</td>\n",
       "      <td>0</td>\n",
       "    </tr>\n",
       "    <tr>\n",
       "      <th>2</th>\n",
       "      <td>2</td>\n",
       "      <td>Hey man, I'm really not trying to edit war. It...</td>\n",
       "      <td>0</td>\n",
       "    </tr>\n",
       "    <tr>\n",
       "      <th>3</th>\n",
       "      <td>3</td>\n",
       "      <td>\"\\nMore\\nI can't make any real suggestions on ...</td>\n",
       "      <td>0</td>\n",
       "    </tr>\n",
       "    <tr>\n",
       "      <th>4</th>\n",
       "      <td>4</td>\n",
       "      <td>You, sir, are my hero. Any chance you remember...</td>\n",
       "      <td>0</td>\n",
       "    </tr>\n",
       "    <tr>\n",
       "      <th>5</th>\n",
       "      <td>5</td>\n",
       "      <td>\"\\n\\nCongratulations from me as well, use the ...</td>\n",
       "      <td>0</td>\n",
       "    </tr>\n",
       "    <tr>\n",
       "      <th>6</th>\n",
       "      <td>6</td>\n",
       "      <td>COCKSUCKER BEFORE YOU PISS AROUND ON MY WORK</td>\n",
       "      <td>1</td>\n",
       "    </tr>\n",
       "    <tr>\n",
       "      <th>7</th>\n",
       "      <td>7</td>\n",
       "      <td>Your vandalism to the Matt Shirvington article...</td>\n",
       "      <td>0</td>\n",
       "    </tr>\n",
       "    <tr>\n",
       "      <th>8</th>\n",
       "      <td>8</td>\n",
       "      <td>Sorry if the word 'nonsense' was offensive to ...</td>\n",
       "      <td>0</td>\n",
       "    </tr>\n",
       "    <tr>\n",
       "      <th>9</th>\n",
       "      <td>9</td>\n",
       "      <td>alignment on this subject and which are contra...</td>\n",
       "      <td>0</td>\n",
       "    </tr>\n",
       "  </tbody>\n",
       "</table>\n",
       "</div>"
      ],
      "text/plain": [
       "   Unnamed: 0                                               text  toxic\n",
       "0           0  Explanation\\nWhy the edits made under my usern...      0\n",
       "1           1  D'aww! He matches this background colour I'm s...      0\n",
       "2           2  Hey man, I'm really not trying to edit war. It...      0\n",
       "3           3  \"\\nMore\\nI can't make any real suggestions on ...      0\n",
       "4           4  You, sir, are my hero. Any chance you remember...      0\n",
       "5           5  \"\\n\\nCongratulations from me as well, use the ...      0\n",
       "6           6       COCKSUCKER BEFORE YOU PISS AROUND ON MY WORK      1\n",
       "7           7  Your vandalism to the Matt Shirvington article...      0\n",
       "8           8  Sorry if the word 'nonsense' was offensive to ...      0\n",
       "9           9  alignment on this subject and which are contra...      0"
      ]
     },
     "metadata": {},
     "output_type": "display_data"
    }
   ],
   "source": [
    "display(df.head(10))"
   ]
  },
  {
   "cell_type": "code",
   "execution_count": 47,
   "metadata": {
    "scrolled": true
   },
   "outputs": [
    {
     "name": "stdout",
     "output_type": "stream",
     "text": [
      "<class 'pandas.core.frame.DataFrame'>\n",
      "RangeIndex: 159292 entries, 0 to 159291\n",
      "Data columns (total 3 columns):\n",
      " #   Column      Non-Null Count   Dtype \n",
      "---  ------      --------------   ----- \n",
      " 0   Unnamed: 0  159292 non-null  int64 \n",
      " 1   text        159292 non-null  object\n",
      " 2   toxic       159292 non-null  int64 \n",
      "dtypes: int64(2), object(1)\n",
      "memory usage: 3.6+ MB\n"
     ]
    }
   ],
   "source": [
    "df.info()"
   ]
  },
  {
   "cell_type": "markdown",
   "metadata": {},
   "source": [
    "Уберем лишний столбец unnamed"
   ]
  },
  {
   "cell_type": "code",
   "execution_count": 48,
   "metadata": {},
   "outputs": [],
   "source": [
    "df = df.drop(['Unnamed: 0'], axis=1)"
   ]
  },
  {
   "cell_type": "markdown",
   "metadata": {},
   "source": [
    "Посмотрим соотношение в целевом признаке"
   ]
  },
  {
   "cell_type": "code",
   "execution_count": 49,
   "metadata": {},
   "outputs": [
    {
     "data": {
      "text/plain": [
       "0    143106\n",
       "1     16186\n",
       "Name: toxic, dtype: int64"
      ]
     },
     "metadata": {},
     "output_type": "display_data"
    }
   ],
   "source": [
    "display(df['toxic'].value_counts())"
   ]
  },
  {
   "cell_type": "markdown",
   "metadata": {},
   "source": [
    "Функция очищения постов"
   ]
  },
  {
   "cell_type": "code",
   "execution_count": 50,
   "metadata": {},
   "outputs": [],
   "source": [
    "def clear_text(text):\n",
    "    \n",
    "    text = text.lower()\n",
    "    text = re.sub(r'[^a-zA-Z]', ' ', text)   \n",
    "    text = ' '.join(text.split())\n",
    "    \n",
    "    return text"
   ]
  },
  {
   "cell_type": "markdown",
   "metadata": {},
   "source": [
    "Применяем функцию"
   ]
  },
  {
   "cell_type": "code",
   "execution_count": 51,
   "metadata": {},
   "outputs": [],
   "source": [
    "df['text'] = df['text'].apply(clear_text) "
   ]
  },
  {
   "cell_type": "code",
   "execution_count": 52,
   "metadata": {},
   "outputs": [],
   "source": [
    "wlm = WordNetLemmatizer()"
   ]
  },
  {
   "cell_type": "code",
   "execution_count": 53,
   "metadata": {},
   "outputs": [],
   "source": [
    "pos_tag_map = {\n",
    "    'N': wordnet.NOUN,\n",
    "    'V': wordnet.VERB,\n",
    "    'R': wordnet.ADV,\n",
    "    'J': wordnet.ADJ\n",
    "}"
   ]
  },
  {
   "cell_type": "code",
   "execution_count": 54,
   "metadata": {},
   "outputs": [],
   "source": [
    "def get_wordnet_pos(tag):\n",
    "    return pos_tag_map.get(tag[0].upper(), wordnet.NOUN)"
   ]
  },
  {
   "cell_type": "code",
   "execution_count": 55,
   "metadata": {},
   "outputs": [],
   "source": [
    "def lemmatize_text(text):\n",
    "    \n",
    "    words = nltk.word_tokenize(text)\n",
    "    pos_tags = nltk.pos_tag(words)\n",
    "    \n",
    "    lemmatized_words = [wlm.lemmatize(word, get_wordnet_pos(tag)) for word, tag in pos_tags]\n",
    "    \n",
    "    return ' '.join(lemmatized_words)"
   ]
  },
  {
   "cell_type": "code",
   "execution_count": 56,
   "metadata": {},
   "outputs": [],
   "source": [
    "df['lemmatised'] = df['text'].apply(lemmatize_text)"
   ]
  },
  {
   "cell_type": "code",
   "execution_count": 57,
   "metadata": {},
   "outputs": [
    {
     "data": {
      "text/html": [
       "<div>\n",
       "<style scoped>\n",
       "    .dataframe tbody tr th:only-of-type {\n",
       "        vertical-align: middle;\n",
       "    }\n",
       "\n",
       "    .dataframe tbody tr th {\n",
       "        vertical-align: top;\n",
       "    }\n",
       "\n",
       "    .dataframe thead th {\n",
       "        text-align: right;\n",
       "    }\n",
       "</style>\n",
       "<table border=\"1\" class=\"dataframe\">\n",
       "  <thead>\n",
       "    <tr style=\"text-align: right;\">\n",
       "      <th></th>\n",
       "      <th>text</th>\n",
       "      <th>toxic</th>\n",
       "      <th>lemmatised</th>\n",
       "    </tr>\n",
       "  </thead>\n",
       "  <tbody>\n",
       "    <tr>\n",
       "      <th>0</th>\n",
       "      <td>explanation why the edits made under my userna...</td>\n",
       "      <td>0</td>\n",
       "      <td>explanation why the edits make under my userna...</td>\n",
       "    </tr>\n",
       "    <tr>\n",
       "      <th>1</th>\n",
       "      <td>d aww he matches this background colour i m se...</td>\n",
       "      <td>0</td>\n",
       "      <td>d aww he match this background colour i m seem...</td>\n",
       "    </tr>\n",
       "    <tr>\n",
       "      <th>2</th>\n",
       "      <td>hey man i m really not trying to edit war it s...</td>\n",
       "      <td>0</td>\n",
       "      <td>hey man i m really not try to edit war it s ju...</td>\n",
       "    </tr>\n",
       "    <tr>\n",
       "      <th>3</th>\n",
       "      <td>more i can t make any real suggestions on impr...</td>\n",
       "      <td>0</td>\n",
       "      <td>more i can t make any real suggestion on impro...</td>\n",
       "    </tr>\n",
       "    <tr>\n",
       "      <th>4</th>\n",
       "      <td>you sir are my hero any chance you remember wh...</td>\n",
       "      <td>0</td>\n",
       "      <td>you sir be my hero any chance you remember wha...</td>\n",
       "    </tr>\n",
       "    <tr>\n",
       "      <th>...</th>\n",
       "      <td>...</td>\n",
       "      <td>...</td>\n",
       "      <td>...</td>\n",
       "    </tr>\n",
       "    <tr>\n",
       "      <th>159287</th>\n",
       "      <td>and for the second time of asking when your vi...</td>\n",
       "      <td>0</td>\n",
       "      <td>and for the second time of ask when your view ...</td>\n",
       "    </tr>\n",
       "    <tr>\n",
       "      <th>159288</th>\n",
       "      <td>you should be ashamed of yourself that is a ho...</td>\n",
       "      <td>0</td>\n",
       "      <td>you should be ashamed of yourself that be a ho...</td>\n",
       "    </tr>\n",
       "    <tr>\n",
       "      <th>159289</th>\n",
       "      <td>spitzer umm theres no actual article for prost...</td>\n",
       "      <td>0</td>\n",
       "      <td>spitzer umm theres no actual article for prost...</td>\n",
       "    </tr>\n",
       "    <tr>\n",
       "      <th>159290</th>\n",
       "      <td>and it looks like it was actually you who put ...</td>\n",
       "      <td>0</td>\n",
       "      <td>and it look like it be actually you who put on...</td>\n",
       "    </tr>\n",
       "    <tr>\n",
       "      <th>159291</th>\n",
       "      <td>and i really don t think you understand i came...</td>\n",
       "      <td>0</td>\n",
       "      <td>and i really don t think you understand i come...</td>\n",
       "    </tr>\n",
       "  </tbody>\n",
       "</table>\n",
       "<p>159292 rows × 3 columns</p>\n",
       "</div>"
      ],
      "text/plain": [
       "                                                     text  toxic  \\\n",
       "0       explanation why the edits made under my userna...      0   \n",
       "1       d aww he matches this background colour i m se...      0   \n",
       "2       hey man i m really not trying to edit war it s...      0   \n",
       "3       more i can t make any real suggestions on impr...      0   \n",
       "4       you sir are my hero any chance you remember wh...      0   \n",
       "...                                                   ...    ...   \n",
       "159287  and for the second time of asking when your vi...      0   \n",
       "159288  you should be ashamed of yourself that is a ho...      0   \n",
       "159289  spitzer umm theres no actual article for prost...      0   \n",
       "159290  and it looks like it was actually you who put ...      0   \n",
       "159291  and i really don t think you understand i came...      0   \n",
       "\n",
       "                                               lemmatised  \n",
       "0       explanation why the edits make under my userna...  \n",
       "1       d aww he match this background colour i m seem...  \n",
       "2       hey man i m really not try to edit war it s ju...  \n",
       "3       more i can t make any real suggestion on impro...  \n",
       "4       you sir be my hero any chance you remember wha...  \n",
       "...                                                   ...  \n",
       "159287  and for the second time of ask when your view ...  \n",
       "159288  you should be ashamed of yourself that be a ho...  \n",
       "159289  spitzer umm theres no actual article for prost...  \n",
       "159290  and it look like it be actually you who put on...  \n",
       "159291  and i really don t think you understand i come...  \n",
       "\n",
       "[159292 rows x 3 columns]"
      ]
     },
     "execution_count": 57,
     "metadata": {},
     "output_type": "execute_result"
    }
   ],
   "source": [
    "df"
   ]
  },
  {
   "cell_type": "code",
   "execution_count": 58,
   "metadata": {},
   "outputs": [],
   "source": [
    "df = df.drop(['text'], axis=1)"
   ]
  },
  {
   "cell_type": "markdown",
   "metadata": {},
   "source": [
    "Создадим корпус из лематизированных и очищеных тексов"
   ]
  },
  {
   "cell_type": "code",
   "execution_count": 59,
   "metadata": {},
   "outputs": [],
   "source": [
    "corpus = df['lemmatised'].values"
   ]
  },
  {
   "cell_type": "markdown",
   "metadata": {},
   "source": [
    "Разобьем выборки"
   ]
  },
  {
   "cell_type": "code",
   "execution_count": 60,
   "metadata": {},
   "outputs": [],
   "source": [
    "features = corpus\n",
    "target = df['toxic'].values\n",
    "\n",
    "train_features, test_features, train_target, test_target = train_test_split(features, target, test_size=0.2, random_state=SEED)"
   ]
  },
  {
   "cell_type": "code",
   "execution_count": 61,
   "metadata": {},
   "outputs": [],
   "source": [
    "stopwordss = set(stopwords.words('english'))\n",
    "\n",
    "count_tf_idf = TfidfVectorizer(stop_words = stopwordss)\n",
    "train_features = count_tf_idf.fit_transform(train_features)"
   ]
  },
  {
   "cell_type": "code",
   "execution_count": 62,
   "metadata": {},
   "outputs": [],
   "source": [
    "test_features = count_tf_idf.transform(test_features)"
   ]
  },
  {
   "cell_type": "markdown",
   "metadata": {},
   "source": [
    "## Обучение"
   ]
  },
  {
   "cell_type": "markdown",
   "metadata": {},
   "source": [
    "### LightGBM"
   ]
  },
  {
   "cell_type": "code",
   "execution_count": 63,
   "metadata": {},
   "outputs": [],
   "source": [
    "LightGBM_model = LGBMClassifier()"
   ]
  },
  {
   "cell_type": "markdown",
   "metadata": {},
   "source": [
    "подбор параметров"
   ]
  },
  {
   "cell_type": "code",
   "execution_count": 64,
   "metadata": {},
   "outputs": [],
   "source": [
    "hyperparams = [{'max_depth' : [1],# 2, 5, 10],\n",
    "                'learning_rate':[0.1],# 0.2, 0.3],\n",
    "                'n_estimators' : [500], #100, 200, 500],\n",
    "                'random_state':[SEED]}]"
   ]
  },
  {
   "cell_type": "code",
   "execution_count": 65,
   "metadata": {},
   "outputs": [],
   "source": [
    "clf = GridSearchCV(LightGBM_model, hyperparams, scoring='f1',cv=3)"
   ]
  },
  {
   "cell_type": "code",
   "execution_count": 66,
   "metadata": {},
   "outputs": [
    {
     "data": {
      "text/plain": [
       "GridSearchCV(cv=3, estimator=LGBMClassifier(),\n",
       "             param_grid=[{'learning_rate': [0.1], 'max_depth': [1],\n",
       "                          'n_estimators': [500], 'random_state': [666]}],\n",
       "             scoring='f1')"
      ]
     },
     "execution_count": 66,
     "metadata": {},
     "output_type": "execute_result"
    }
   ],
   "source": [
    "clf.fit(train_features, train_target)"
   ]
  },
  {
   "cell_type": "code",
   "execution_count": 67,
   "metadata": {
    "scrolled": false
   },
   "outputs": [
    {
     "name": "stdout",
     "output_type": "stream",
     "text": [
      "{'learning_rate': 0.1, 'max_depth': 1, 'n_estimators': 500, 'random_state': 666}\n",
      "\n",
      "F1: 0.6191364534769429\n"
     ]
    }
   ],
   "source": [
    "LGBM_best_params = clf.best_params_\n",
    "print(LGBM_best_params)\n",
    "print()\n",
    "print('F1:', clf.best_score_)"
   ]
  },
  {
   "cell_type": "markdown",
   "metadata": {},
   "source": [
    "{'learning_rate': 0.1, 'max_depth': 1, 'n_estimators': 500, 'random_state': 666}\n",
    "\n",
    "F1: 0.3483369671298225"
   ]
  },
  {
   "cell_type": "markdown",
   "metadata": {},
   "source": [
    "### Древо решений"
   ]
  },
  {
   "cell_type": "code",
   "execution_count": 68,
   "metadata": {},
   "outputs": [],
   "source": [
    "classificator = DecisionTreeClassifier()"
   ]
  },
  {
   "cell_type": "code",
   "execution_count": 69,
   "metadata": {},
   "outputs": [],
   "source": [
    "hyperparams = [{'max_depth':[x for x in range(50,100,2)],\n",
    "                'random_state':[SEED]}]"
   ]
  },
  {
   "cell_type": "code",
   "execution_count": 70,
   "metadata": {},
   "outputs": [],
   "source": [
    "clf = GridSearchCV(classificator, hyperparams, scoring='f1',cv=3)"
   ]
  },
  {
   "cell_type": "code",
   "execution_count": 71,
   "metadata": {},
   "outputs": [
    {
     "data": {
      "text/plain": [
       "GridSearchCV(cv=3, estimator=DecisionTreeClassifier(),\n",
       "             param_grid=[{'max_depth': [50, 52, 54, 56, 58, 60, 62, 64, 66, 68,\n",
       "                                        70, 72, 74, 76, 78, 80, 82, 84, 86, 88,\n",
       "                                        90, 92, 94, 96, 98],\n",
       "                          'random_state': [666]}],\n",
       "             scoring='f1')"
      ]
     },
     "execution_count": 71,
     "metadata": {},
     "output_type": "execute_result"
    }
   ],
   "source": [
    "clf.fit(train_features, train_target)"
   ]
  },
  {
   "cell_type": "code",
   "execution_count": 72,
   "metadata": {},
   "outputs": [],
   "source": [
    "DTC_best_params = clf.best_params_"
   ]
  },
  {
   "cell_type": "code",
   "execution_count": 73,
   "metadata": {},
   "outputs": [
    {
     "name": "stdout",
     "output_type": "stream",
     "text": [
      "0.705156 for {'max_depth': 50, 'random_state': 666}\n",
      "0.704926 for {'max_depth': 52, 'random_state': 666}\n",
      "0.706928 for {'max_depth': 54, 'random_state': 666}\n",
      "0.707551 for {'max_depth': 56, 'random_state': 666}\n",
      "0.711923 for {'max_depth': 58, 'random_state': 666}\n",
      "0.711353 for {'max_depth': 60, 'random_state': 666}\n",
      "0.713031 for {'max_depth': 62, 'random_state': 666}\n",
      "0.713149 for {'max_depth': 64, 'random_state': 666}\n",
      "0.712236 for {'max_depth': 66, 'random_state': 666}\n",
      "0.712163 for {'max_depth': 68, 'random_state': 666}\n",
      "0.714754 for {'max_depth': 70, 'random_state': 666}\n",
      "0.714461 for {'max_depth': 72, 'random_state': 666}\n",
      "0.715219 for {'max_depth': 74, 'random_state': 666}\n",
      "0.717355 for {'max_depth': 76, 'random_state': 666}\n",
      "0.716880 for {'max_depth': 78, 'random_state': 666}\n",
      "0.719879 for {'max_depth': 80, 'random_state': 666}\n",
      "0.718294 for {'max_depth': 82, 'random_state': 666}\n",
      "0.718306 for {'max_depth': 84, 'random_state': 666}\n",
      "0.721060 for {'max_depth': 86, 'random_state': 666}\n",
      "0.718588 for {'max_depth': 88, 'random_state': 666}\n",
      "0.719779 for {'max_depth': 90, 'random_state': 666}\n",
      "0.719752 for {'max_depth': 92, 'random_state': 666}\n",
      "0.719910 for {'max_depth': 94, 'random_state': 666}\n",
      "0.721506 for {'max_depth': 96, 'random_state': 666}\n",
      "0.720166 for {'max_depth': 98, 'random_state': 666}\n",
      "\n"
     ]
    }
   ],
   "source": [
    "means = clf.cv_results_['mean_test_score']\n",
    "stds = clf.cv_results_['std_test_score']\n",
    "for mean, std, params in zip(means, stds, clf.cv_results_['params']):\n",
    "    print(\"%0.6f for %r\"% (mean, params))\n",
    "print()\n",
    "\n",
    "cv_f1_DTC = max(means)"
   ]
  },
  {
   "cell_type": "markdown",
   "metadata": {},
   "source": [
    "### LogisticRegression"
   ]
  },
  {
   "cell_type": "code",
   "execution_count": 74,
   "metadata": {},
   "outputs": [],
   "source": [
    "lr_model = LogisticRegression()"
   ]
  },
  {
   "cell_type": "code",
   "execution_count": 75,
   "metadata": {},
   "outputs": [],
   "source": [
    "hyperparams = [{'C':[10],   # так же подбирал [0.1, 1, 3]\n",
    "                'class_weight':['balanced']}]"
   ]
  },
  {
   "cell_type": "code",
   "execution_count": 76,
   "metadata": {},
   "outputs": [],
   "source": [
    "clf = GridSearchCV(lr_model, hyperparams, scoring='f1',cv=3)"
   ]
  },
  {
   "cell_type": "code",
   "execution_count": 77,
   "metadata": {},
   "outputs": [
    {
     "name": "stderr",
     "output_type": "stream",
     "text": [
      "/opt/conda/lib/python3.9/site-packages/sklearn/linear_model/_logistic.py:763: ConvergenceWarning: lbfgs failed to converge (status=1):\n",
      "STOP: TOTAL NO. of ITERATIONS REACHED LIMIT.\n",
      "\n",
      "Increase the number of iterations (max_iter) or scale the data as shown in:\n",
      "    https://scikit-learn.org/stable/modules/preprocessing.html\n",
      "Please also refer to the documentation for alternative solver options:\n",
      "    https://scikit-learn.org/stable/modules/linear_model.html#logistic-regression\n",
      "  n_iter_i = _check_optimize_result(\n",
      "/opt/conda/lib/python3.9/site-packages/sklearn/linear_model/_logistic.py:763: ConvergenceWarning: lbfgs failed to converge (status=1):\n",
      "STOP: TOTAL NO. of ITERATIONS REACHED LIMIT.\n",
      "\n",
      "Increase the number of iterations (max_iter) or scale the data as shown in:\n",
      "    https://scikit-learn.org/stable/modules/preprocessing.html\n",
      "Please also refer to the documentation for alternative solver options:\n",
      "    https://scikit-learn.org/stable/modules/linear_model.html#logistic-regression\n",
      "  n_iter_i = _check_optimize_result(\n",
      "/opt/conda/lib/python3.9/site-packages/sklearn/linear_model/_logistic.py:763: ConvergenceWarning: lbfgs failed to converge (status=1):\n",
      "STOP: TOTAL NO. of ITERATIONS REACHED LIMIT.\n",
      "\n",
      "Increase the number of iterations (max_iter) or scale the data as shown in:\n",
      "    https://scikit-learn.org/stable/modules/preprocessing.html\n",
      "Please also refer to the documentation for alternative solver options:\n",
      "    https://scikit-learn.org/stable/modules/linear_model.html#logistic-regression\n",
      "  n_iter_i = _check_optimize_result(\n",
      "/opt/conda/lib/python3.9/site-packages/sklearn/linear_model/_logistic.py:763: ConvergenceWarning: lbfgs failed to converge (status=1):\n",
      "STOP: TOTAL NO. of ITERATIONS REACHED LIMIT.\n",
      "\n",
      "Increase the number of iterations (max_iter) or scale the data as shown in:\n",
      "    https://scikit-learn.org/stable/modules/preprocessing.html\n",
      "Please also refer to the documentation for alternative solver options:\n",
      "    https://scikit-learn.org/stable/modules/linear_model.html#logistic-regression\n",
      "  n_iter_i = _check_optimize_result(\n"
     ]
    },
    {
     "data": {
      "text/plain": [
       "GridSearchCV(cv=3, estimator=LogisticRegression(),\n",
       "             param_grid=[{'C': [10], 'class_weight': ['balanced']}],\n",
       "             scoring='f1')"
      ]
     },
     "execution_count": 77,
     "metadata": {},
     "output_type": "execute_result"
    }
   ],
   "source": [
    "clf.fit(train_features, train_target)"
   ]
  },
  {
   "cell_type": "code",
   "execution_count": 78,
   "metadata": {},
   "outputs": [
    {
     "name": "stdout",
     "output_type": "stream",
     "text": [
      "Лучшие параметры модели:\n",
      "\n",
      "{'C': 10, 'class_weight': 'balanced'}\n",
      "\n",
      "F1: 0.7591129500382627\n"
     ]
    }
   ],
   "source": [
    "print(\"Лучшие параметры модели:\")\n",
    "print()\n",
    "LR_best_params = clf.best_params_\n",
    "print(LR_best_params)\n",
    "print()\n",
    "print('F1:', clf.best_score_)"
   ]
  },
  {
   "cell_type": "markdown",
   "metadata": {},
   "source": [
    "## Выводы"
   ]
  },
  {
   "cell_type": "markdown",
   "metadata": {},
   "source": [
    "### LightGBM"
   ]
  },
  {
   "cell_type": "code",
   "execution_count": 79,
   "metadata": {},
   "outputs": [],
   "source": [
    "LightGBM_model = LGBMClassifier()"
   ]
  },
  {
   "cell_type": "code",
   "execution_count": 80,
   "metadata": {},
   "outputs": [
    {
     "data": {
      "text/plain": [
       "LGBMClassifier()"
      ]
     },
     "execution_count": 80,
     "metadata": {},
     "output_type": "execute_result"
    }
   ],
   "source": [
    "LightGBM_model.fit(train_features, train_target)"
   ]
  },
  {
   "cell_type": "code",
   "execution_count": 81,
   "metadata": {},
   "outputs": [],
   "source": [
    "prediction = LightGBM_model.predict(test_features)"
   ]
  },
  {
   "cell_type": "code",
   "execution_count": 82,
   "metadata": {},
   "outputs": [],
   "source": [
    "f1 = f1_score(test_target, prediction)"
   ]
  },
  {
   "cell_type": "code",
   "execution_count": 83,
   "metadata": {},
   "outputs": [
    {
     "name": "stdout",
     "output_type": "stream",
     "text": [
      "F1: 0.7351212343864805\n",
      "\n",
      "Матрица ошибок\n",
      "[[28416   244]\n",
      " [ 1198  2001]]\n",
      "\n"
     ]
    }
   ],
   "source": [
    "print('F1:', f1)\n",
    "print()\n",
    "print('Матрица ошибок')\n",
    "print(confusion_matrix(test_target, prediction))\n",
    "print()"
   ]
  },
  {
   "cell_type": "markdown",
   "metadata": {},
   "source": [
    "### Древо решений"
   ]
  },
  {
   "cell_type": "code",
   "execution_count": 84,
   "metadata": {},
   "outputs": [],
   "source": [
    "classificator = DecisionTreeClassifier()"
   ]
  },
  {
   "cell_type": "code",
   "execution_count": 85,
   "metadata": {},
   "outputs": [
    {
     "data": {
      "text/plain": [
       "DecisionTreeClassifier(max_depth=96, random_state=666)"
      ]
     },
     "execution_count": 85,
     "metadata": {},
     "output_type": "execute_result"
    }
   ],
   "source": [
    "classificator.set_params(**DTC_best_params)"
   ]
  },
  {
   "cell_type": "code",
   "execution_count": 86,
   "metadata": {},
   "outputs": [
    {
     "data": {
      "text/plain": [
       "DecisionTreeClassifier(max_depth=96, random_state=666)"
      ]
     },
     "execution_count": 86,
     "metadata": {},
     "output_type": "execute_result"
    }
   ],
   "source": [
    "classificator.fit(train_features, train_target)"
   ]
  },
  {
   "cell_type": "code",
   "execution_count": 87,
   "metadata": {},
   "outputs": [],
   "source": [
    "target_predict = classificator.predict(test_features)"
   ]
  },
  {
   "cell_type": "code",
   "execution_count": 88,
   "metadata": {},
   "outputs": [],
   "source": [
    "valid_f1_DTC = f1_score(test_target, target_predict)"
   ]
  },
  {
   "cell_type": "code",
   "execution_count": 89,
   "metadata": {},
   "outputs": [
    {
     "name": "stdout",
     "output_type": "stream",
     "text": [
      "F1 регрессии: 0.7215058231446254\n",
      "\n",
      "Матрица ошибок\n",
      "[[28124   536]\n",
      " [ 1131  2068]]\n",
      "\n"
     ]
    }
   ],
   "source": [
    "print('F1 регрессии:', cv_f1_DTC)\n",
    "print()\n",
    "print('Матрица ошибок')\n",
    "print(confusion_matrix(test_target, target_predict))\n",
    "print()"
   ]
  },
  {
   "cell_type": "markdown",
   "metadata": {},
   "source": [
    "### LogisticRegression"
   ]
  },
  {
   "cell_type": "code",
   "execution_count": 90,
   "metadata": {},
   "outputs": [],
   "source": [
    "lr_model = LogisticRegression()"
   ]
  },
  {
   "cell_type": "code",
   "execution_count": 91,
   "metadata": {},
   "outputs": [
    {
     "data": {
      "text/plain": [
       "LogisticRegression(C=10, class_weight='balanced')"
      ]
     },
     "execution_count": 91,
     "metadata": {},
     "output_type": "execute_result"
    }
   ],
   "source": [
    "lr_model.set_params(**LR_best_params)"
   ]
  },
  {
   "cell_type": "code",
   "execution_count": 92,
   "metadata": {},
   "outputs": [
    {
     "name": "stderr",
     "output_type": "stream",
     "text": [
      "/opt/conda/lib/python3.9/site-packages/sklearn/linear_model/_logistic.py:763: ConvergenceWarning: lbfgs failed to converge (status=1):\n",
      "STOP: TOTAL NO. of ITERATIONS REACHED LIMIT.\n",
      "\n",
      "Increase the number of iterations (max_iter) or scale the data as shown in:\n",
      "    https://scikit-learn.org/stable/modules/preprocessing.html\n",
      "Please also refer to the documentation for alternative solver options:\n",
      "    https://scikit-learn.org/stable/modules/linear_model.html#logistic-regression\n",
      "  n_iter_i = _check_optimize_result(\n"
     ]
    },
    {
     "data": {
      "text/plain": [
       "LogisticRegression(C=10, class_weight='balanced')"
      ]
     },
     "execution_count": 92,
     "metadata": {},
     "output_type": "execute_result"
    }
   ],
   "source": [
    "lr_model.fit(train_features, train_target)"
   ]
  },
  {
   "cell_type": "code",
   "execution_count": 93,
   "metadata": {},
   "outputs": [],
   "source": [
    "prediction = lr_model.predict(test_features)"
   ]
  },
  {
   "cell_type": "code",
   "execution_count": 94,
   "metadata": {},
   "outputs": [],
   "source": [
    "f1 = f1_score(test_target, prediction)"
   ]
  },
  {
   "cell_type": "code",
   "execution_count": 95,
   "metadata": {},
   "outputs": [
    {
     "name": "stdout",
     "output_type": "stream",
     "text": [
      "F1 регрессии: 0.7540425531914894\n",
      "\n",
      "Матрица ошибок\n",
      "[[27467  1193]\n",
      " [  541  2658]]\n",
      "\n"
     ]
    }
   ],
   "source": [
    "print('F1 регрессии:', f1)\n",
    "print()\n",
    "print('Матрица ошибок')\n",
    "print(confusion_matrix(test_target, prediction))\n",
    "print()"
   ]
  },
  {
   "cell_type": "markdown",
   "metadata": {},
   "source": [
    "# Вывод"
   ]
  },
  {
   "cell_type": "markdown",
   "metadata": {},
   "source": [
    "Из рассмотренных моделей только Линейная показывает приемлемый уровень точности в соответствии с метрикой F1."
   ]
  }
 ],
 "metadata": {
  "ExecuteTimeLog": [
   {
    "duration": 455,
    "start_time": "2023-09-23T13:34:26.871Z"
   },
   {
    "duration": 2456,
    "start_time": "2023-09-23T13:34:27.327Z"
   },
   {
    "duration": 35,
    "start_time": "2023-09-23T13:34:39.101Z"
   },
   {
    "duration": 6,
    "start_time": "2023-09-23T13:34:46.869Z"
   },
   {
    "duration": 2,
    "start_time": "2023-09-23T13:36:38.362Z"
   },
   {
    "duration": 915,
    "start_time": "2023-09-23T13:36:38.578Z"
   },
   {
    "duration": 36,
    "start_time": "2023-09-23T13:36:39.495Z"
   },
   {
    "duration": 30,
    "start_time": "2023-09-23T13:36:39.532Z"
   },
   {
    "duration": 9,
    "start_time": "2023-09-23T13:36:39.564Z"
   },
   {
    "duration": 3,
    "start_time": "2023-09-23T13:36:52.130Z"
   },
   {
    "duration": 7,
    "start_time": "2023-09-23T13:38:53.866Z"
   },
   {
    "duration": 8,
    "start_time": "2023-09-23T13:38:57.737Z"
   },
   {
    "duration": 3,
    "start_time": "2023-09-23T13:39:04.316Z"
   },
   {
    "duration": 976,
    "start_time": "2023-09-23T13:39:05.170Z"
   },
   {
    "duration": 7,
    "start_time": "2023-09-23T13:39:06.148Z"
   },
   {
    "duration": 60,
    "start_time": "2023-09-23T13:39:06.157Z"
   },
   {
    "duration": 16,
    "start_time": "2023-09-23T13:39:06.575Z"
   },
   {
    "duration": 6,
    "start_time": "2023-09-23T13:39:06.975Z"
   },
   {
    "duration": 3,
    "start_time": "2023-09-23T13:39:07.490Z"
   },
   {
    "duration": 461,
    "start_time": "2023-09-23T13:40:53.931Z"
   },
   {
    "duration": 2,
    "start_time": "2023-09-23T13:41:15.007Z"
   },
   {
    "duration": 3,
    "start_time": "2023-09-23T13:41:17.580Z"
   },
   {
    "duration": 4214,
    "start_time": "2023-09-23T13:41:18.173Z"
   },
   {
    "duration": 1603,
    "start_time": "2023-09-23T13:43:22.581Z"
   },
   {
    "duration": 3,
    "start_time": "2023-09-23T13:43:39.071Z"
   },
   {
    "duration": 3,
    "start_time": "2023-09-23T13:44:29.717Z"
   },
   {
    "duration": 83597,
    "start_time": "2023-09-23T13:44:30.002Z"
   },
   {
    "duration": 24,
    "start_time": "2023-09-23T13:45:53.601Z"
   },
   {
    "duration": 31,
    "start_time": "2023-09-23T13:46:15.689Z"
   },
   {
    "duration": 3,
    "start_time": "2023-09-23T13:46:51.232Z"
   },
   {
    "duration": 2,
    "start_time": "2023-09-23T13:55:11.855Z"
   },
   {
    "duration": 3,
    "start_time": "2023-09-23T13:57:00.224Z"
   },
   {
    "duration": 161,
    "start_time": "2023-09-23T14:15:17.447Z"
   },
   {
    "duration": 91,
    "start_time": "2023-09-23T14:15:22.041Z"
   },
   {
    "duration": 4,
    "start_time": "2023-09-23T14:15:40.541Z"
   },
   {
    "duration": 3,
    "start_time": "2023-09-23T14:15:42.559Z"
   },
   {
    "duration": 991,
    "start_time": "2023-09-23T14:15:43.099Z"
   },
   {
    "duration": 8,
    "start_time": "2023-09-23T14:15:44.092Z"
   },
   {
    "duration": 50,
    "start_time": "2023-09-23T14:15:44.102Z"
   },
   {
    "duration": 13,
    "start_time": "2023-09-23T14:15:44.154Z"
   },
   {
    "duration": 22,
    "start_time": "2023-09-23T14:15:44.169Z"
   },
   {
    "duration": 3,
    "start_time": "2023-09-23T14:15:44.194Z"
   },
   {
    "duration": 4903,
    "start_time": "2023-09-23T14:15:44.199Z"
   },
   {
    "duration": 3,
    "start_time": "2023-09-23T14:15:49.104Z"
   },
   {
    "duration": 40,
    "start_time": "2023-09-23T14:15:49.109Z"
   },
   {
    "duration": 87870,
    "start_time": "2023-09-23T14:15:49.153Z"
   },
   {
    "duration": 12,
    "start_time": "2023-09-23T14:17:17.025Z"
   },
   {
    "duration": 39,
    "start_time": "2023-09-23T14:17:17.038Z"
   },
   {
    "duration": 3,
    "start_time": "2023-09-23T14:17:17.079Z"
   },
   {
    "duration": 29,
    "start_time": "2023-09-23T14:17:17.083Z"
   },
   {
    "duration": 19,
    "start_time": "2023-09-23T14:17:17.123Z"
   },
   {
    "duration": 0,
    "start_time": "2023-09-23T14:17:17.143Z"
   },
   {
    "duration": 0,
    "start_time": "2023-09-23T14:17:17.145Z"
   },
   {
    "duration": 142,
    "start_time": "2023-09-23T14:23:57.703Z"
   },
   {
    "duration": 8,
    "start_time": "2023-09-23T14:24:20.328Z"
   },
   {
    "duration": 5639,
    "start_time": "2023-09-23T14:24:23.640Z"
   },
   {
    "duration": 1342,
    "start_time": "2023-09-23T14:24:29.282Z"
   },
   {
    "duration": 2,
    "start_time": "2023-09-23T14:24:32.137Z"
   },
   {
    "duration": 3,
    "start_time": "2023-09-23T14:24:32.891Z"
   },
   {
    "duration": 3,
    "start_time": "2023-09-23T14:24:33.267Z"
   },
   {
    "duration": 3247074,
    "start_time": "2023-09-23T14:24:34.012Z"
   },
   {
    "duration": 0,
    "start_time": "2023-09-23T15:18:41.088Z"
   },
   {
    "duration": 4,
    "start_time": "2023-09-23T15:18:47.162Z"
   },
   {
    "duration": 46,
    "start_time": "2023-09-23T15:18:47.167Z"
   },
   {
    "duration": 892,
    "start_time": "2023-09-23T15:18:47.215Z"
   },
   {
    "duration": 8,
    "start_time": "2023-09-23T15:18:48.108Z"
   },
   {
    "duration": 49,
    "start_time": "2023-09-23T15:18:48.125Z"
   },
   {
    "duration": 28,
    "start_time": "2023-09-23T15:18:48.177Z"
   },
   {
    "duration": 32,
    "start_time": "2023-09-23T15:18:48.207Z"
   },
   {
    "duration": 4,
    "start_time": "2023-09-23T15:18:48.241Z"
   },
   {
    "duration": 4522,
    "start_time": "2023-09-23T15:18:48.246Z"
   },
   {
    "duration": 3,
    "start_time": "2023-09-23T15:18:52.770Z"
   },
   {
    "duration": 63,
    "start_time": "2023-09-23T15:18:52.775Z"
   },
   {
    "duration": 88537,
    "start_time": "2023-09-23T15:18:52.841Z"
   },
   {
    "duration": 11,
    "start_time": "2023-09-23T15:20:21.380Z"
   },
   {
    "duration": 38,
    "start_time": "2023-09-23T15:20:21.393Z"
   },
   {
    "duration": 3,
    "start_time": "2023-09-23T15:20:21.433Z"
   },
   {
    "duration": 28,
    "start_time": "2023-09-23T15:20:21.438Z"
   },
   {
    "duration": 6359,
    "start_time": "2023-09-23T15:20:21.468Z"
   },
   {
    "duration": 1580,
    "start_time": "2023-09-23T15:20:27.830Z"
   },
   {
    "duration": 3,
    "start_time": "2023-09-23T15:20:29.412Z"
   },
   {
    "duration": 15,
    "start_time": "2023-09-23T15:20:29.417Z"
   },
   {
    "duration": 6,
    "start_time": "2023-09-23T15:20:29.434Z"
   },
   {
    "duration": 1770,
    "start_time": "2023-09-23T19:23:30.169Z"
   },
   {
    "duration": 4,
    "start_time": "2023-09-23T19:23:31.941Z"
   },
   {
    "duration": 1116,
    "start_time": "2023-09-23T19:23:31.947Z"
   },
   {
    "duration": 18,
    "start_time": "2023-09-23T19:23:33.065Z"
   },
   {
    "duration": 60,
    "start_time": "2023-09-23T19:23:33.086Z"
   },
   {
    "duration": 16,
    "start_time": "2023-09-23T19:23:33.148Z"
   },
   {
    "duration": 14,
    "start_time": "2023-09-23T19:23:33.166Z"
   },
   {
    "duration": 4,
    "start_time": "2023-09-23T19:23:33.182Z"
   },
   {
    "duration": 4801,
    "start_time": "2023-09-23T19:23:33.188Z"
   },
   {
    "duration": 3,
    "start_time": "2023-09-23T19:23:37.991Z"
   },
   {
    "duration": 52,
    "start_time": "2023-09-23T19:23:37.996Z"
   },
   {
    "duration": 97073,
    "start_time": "2023-09-23T19:23:38.051Z"
   },
   {
    "duration": 17,
    "start_time": "2023-09-23T19:25:15.126Z"
   },
   {
    "duration": 61,
    "start_time": "2023-09-23T19:25:15.149Z"
   },
   {
    "duration": 23,
    "start_time": "2023-09-23T19:25:15.211Z"
   },
   {
    "duration": 51,
    "start_time": "2023-09-23T19:25:15.236Z"
   },
   {
    "duration": 6579,
    "start_time": "2023-09-23T19:25:15.288Z"
   },
   {
    "duration": 1530,
    "start_time": "2023-09-23T19:25:21.869Z"
   },
   {
    "duration": 3,
    "start_time": "2023-09-23T19:25:23.401Z"
   },
   {
    "duration": 44,
    "start_time": "2023-09-23T19:25:23.405Z"
   },
   {
    "duration": 34,
    "start_time": "2023-09-23T19:25:23.452Z"
   },
   {
    "duration": 37677515,
    "start_time": "2023-09-23T19:25:23.488Z"
   },
   {
    "duration": 0,
    "start_time": "2023-09-24T05:53:21.005Z"
   },
   {
    "duration": 1404,
    "start_time": "2023-09-24T05:53:36.472Z"
   },
   {
    "duration": 3,
    "start_time": "2023-09-24T05:53:37.878Z"
   },
   {
    "duration": 1038,
    "start_time": "2023-09-24T05:53:37.883Z"
   },
   {
    "duration": 20,
    "start_time": "2023-09-24T05:53:38.925Z"
   },
   {
    "duration": 34,
    "start_time": "2023-09-24T05:53:38.947Z"
   },
   {
    "duration": 13,
    "start_time": "2023-09-24T05:53:38.983Z"
   },
   {
    "duration": 42,
    "start_time": "2023-09-24T05:53:38.998Z"
   },
   {
    "duration": 4,
    "start_time": "2023-09-24T05:53:39.042Z"
   },
   {
    "duration": 4406,
    "start_time": "2023-09-24T05:53:39.048Z"
   },
   {
    "duration": 3,
    "start_time": "2023-09-24T05:53:43.455Z"
   },
   {
    "duration": 5,
    "start_time": "2023-09-24T05:53:43.460Z"
   },
   {
    "duration": 85424,
    "start_time": "2023-09-24T05:53:43.466Z"
   },
   {
    "duration": 12,
    "start_time": "2023-09-24T05:55:08.892Z"
   },
   {
    "duration": 45,
    "start_time": "2023-09-24T05:55:08.907Z"
   },
   {
    "duration": 3,
    "start_time": "2023-09-24T05:55:08.954Z"
   },
   {
    "duration": 27,
    "start_time": "2023-09-24T05:55:08.959Z"
   },
   {
    "duration": 5886,
    "start_time": "2023-09-24T05:55:08.988Z"
   },
   {
    "duration": 1441,
    "start_time": "2023-09-24T05:55:14.876Z"
   },
   {
    "duration": 10,
    "start_time": "2023-09-24T05:55:16.318Z"
   },
   {
    "duration": 12,
    "start_time": "2023-09-24T05:55:16.332Z"
   },
   {
    "duration": 11,
    "start_time": "2023-09-24T05:55:16.346Z"
   },
   {
    "duration": 1645,
    "start_time": "2023-09-24T05:59:33.052Z"
   },
   {
    "duration": 3,
    "start_time": "2023-09-24T05:59:34.699Z"
   },
   {
    "duration": 1188,
    "start_time": "2023-09-24T05:59:34.704Z"
   },
   {
    "duration": 35,
    "start_time": "2023-09-24T05:59:35.895Z"
   },
   {
    "duration": 49,
    "start_time": "2023-09-24T05:59:35.932Z"
   },
   {
    "duration": 16,
    "start_time": "2023-09-24T05:59:35.984Z"
   },
   {
    "duration": 8,
    "start_time": "2023-09-24T05:59:36.002Z"
   },
   {
    "duration": 5,
    "start_time": "2023-09-24T05:59:36.027Z"
   },
   {
    "duration": 5652,
    "start_time": "2023-09-24T05:59:36.033Z"
   },
   {
    "duration": 3,
    "start_time": "2023-09-24T05:59:41.686Z"
   },
   {
    "duration": 8,
    "start_time": "2023-09-24T05:59:41.691Z"
   },
   {
    "duration": 100696,
    "start_time": "2023-09-24T05:59:41.700Z"
   },
   {
    "duration": 11,
    "start_time": "2023-09-24T06:01:22.398Z"
   },
   {
    "duration": 75,
    "start_time": "2023-09-24T06:01:22.411Z"
   },
   {
    "duration": 3,
    "start_time": "2023-09-24T06:01:22.488Z"
   },
   {
    "duration": 74,
    "start_time": "2023-09-24T06:01:22.493Z"
   },
   {
    "duration": 6564,
    "start_time": "2023-09-24T06:01:22.569Z"
   },
   {
    "duration": 1567,
    "start_time": "2023-09-24T06:01:29.135Z"
   },
   {
    "duration": 2,
    "start_time": "2023-09-24T06:01:30.704Z"
   },
   {
    "duration": 100,
    "start_time": "2023-09-24T06:01:30.708Z"
   },
   {
    "duration": 52,
    "start_time": "2023-09-24T06:01:30.810Z"
   },
   {
    "duration": 1710,
    "start_time": "2023-09-24T06:23:38.683Z"
   },
   {
    "duration": 3,
    "start_time": "2023-09-24T06:23:40.395Z"
   },
   {
    "duration": 1088,
    "start_time": "2023-09-24T06:23:40.400Z"
   },
   {
    "duration": 19,
    "start_time": "2023-09-24T06:23:41.489Z"
   },
   {
    "duration": 62,
    "start_time": "2023-09-24T06:23:41.511Z"
   },
   {
    "duration": 32,
    "start_time": "2023-09-24T06:23:41.575Z"
   },
   {
    "duration": 24,
    "start_time": "2023-09-24T06:23:41.610Z"
   },
   {
    "duration": 9,
    "start_time": "2023-09-24T06:23:41.636Z"
   },
   {
    "duration": 4731,
    "start_time": "2023-09-24T06:23:41.646Z"
   },
   {
    "duration": 3,
    "start_time": "2023-09-24T06:23:46.379Z"
   },
   {
    "duration": 29,
    "start_time": "2023-09-24T06:23:46.383Z"
   },
   {
    "duration": 100339,
    "start_time": "2023-09-24T06:23:46.414Z"
   },
   {
    "duration": 25,
    "start_time": "2023-09-24T06:25:26.755Z"
   },
   {
    "duration": 429,
    "start_time": "2023-09-24T06:25:26.787Z"
   },
   {
    "duration": 151,
    "start_time": "2023-09-24T06:25:27.218Z"
   },
   {
    "duration": 176,
    "start_time": "2023-09-24T06:25:27.370Z"
   },
   {
    "duration": 7566,
    "start_time": "2023-09-24T06:25:27.548Z"
   },
   {
    "duration": 1705,
    "start_time": "2023-09-24T06:25:35.115Z"
   },
   {
    "duration": 4,
    "start_time": "2023-09-24T06:25:36.827Z"
   },
   {
    "duration": 46,
    "start_time": "2023-09-24T06:25:36.833Z"
   },
   {
    "duration": 39,
    "start_time": "2023-09-24T06:25:36.881Z"
   },
   {
    "duration": 4198,
    "start_time": "2023-09-24T06:27:55.648Z"
   },
   {
    "duration": 2,
    "start_time": "2023-09-24T06:27:59.848Z"
   },
   {
    "duration": 1055,
    "start_time": "2023-09-24T06:27:59.852Z"
   },
   {
    "duration": 27,
    "start_time": "2023-09-24T06:28:00.910Z"
   },
   {
    "duration": 127,
    "start_time": "2023-09-24T06:28:00.940Z"
   },
   {
    "duration": 122,
    "start_time": "2023-09-24T06:28:01.069Z"
   },
   {
    "duration": 312,
    "start_time": "2023-09-24T06:28:01.193Z"
   },
   {
    "duration": 568,
    "start_time": "2023-09-24T06:28:01.507Z"
   },
   {
    "duration": 4632,
    "start_time": "2023-09-24T06:28:02.077Z"
   },
   {
    "duration": 2,
    "start_time": "2023-09-24T06:28:06.711Z"
   },
   {
    "duration": 78,
    "start_time": "2023-09-24T06:28:06.715Z"
   },
   {
    "duration": 88514,
    "start_time": "2023-09-24T06:28:06.795Z"
   },
   {
    "duration": 25,
    "start_time": "2023-09-24T06:29:35.311Z"
   },
   {
    "duration": 74,
    "start_time": "2023-09-24T06:29:35.339Z"
   },
   {
    "duration": 18,
    "start_time": "2023-09-24T06:29:35.415Z"
   },
   {
    "duration": 75,
    "start_time": "2023-09-24T06:29:35.438Z"
   },
   {
    "duration": 5928,
    "start_time": "2023-09-24T06:29:35.516Z"
   },
   {
    "duration": 1401,
    "start_time": "2023-09-24T06:29:41.446Z"
   },
   {
    "duration": 3,
    "start_time": "2023-09-24T06:29:42.849Z"
   },
   {
    "duration": 32,
    "start_time": "2023-09-24T06:29:42.853Z"
   },
   {
    "duration": 16,
    "start_time": "2023-09-24T06:29:42.887Z"
   },
   {
    "duration": 2861248,
    "start_time": "2023-09-24T06:29:42.905Z"
   },
   {
    "duration": 3,
    "start_time": "2023-09-24T07:17:24.155Z"
   },
   {
    "duration": 3268,
    "start_time": "2023-09-24T13:19:52.262Z"
   },
   {
    "duration": 2,
    "start_time": "2023-09-24T13:19:55.532Z"
   },
   {
    "duration": 2920,
    "start_time": "2023-09-24T13:19:55.536Z"
   },
   {
    "duration": 16,
    "start_time": "2023-09-24T13:19:58.458Z"
   },
   {
    "duration": 39,
    "start_time": "2023-09-24T13:19:58.475Z"
   },
   {
    "duration": 17,
    "start_time": "2023-09-24T13:19:58.515Z"
   },
   {
    "duration": 16,
    "start_time": "2023-09-24T13:19:58.533Z"
   },
   {
    "duration": 10,
    "start_time": "2023-09-24T13:19:58.550Z"
   },
   {
    "duration": 4266,
    "start_time": "2023-09-24T13:19:58.561Z"
   },
   {
    "duration": 2,
    "start_time": "2023-09-24T13:20:02.829Z"
   },
   {
    "duration": 63,
    "start_time": "2023-09-24T13:20:02.833Z"
   },
   {
    "duration": 80375,
    "start_time": "2023-09-24T13:20:02.898Z"
   },
   {
    "duration": 13,
    "start_time": "2023-09-24T13:21:23.275Z"
   },
   {
    "duration": 85,
    "start_time": "2023-09-24T13:21:23.290Z"
   },
   {
    "duration": 4,
    "start_time": "2023-09-24T13:21:23.377Z"
   },
   {
    "duration": 56,
    "start_time": "2023-09-24T13:21:23.383Z"
   },
   {
    "duration": 5561,
    "start_time": "2023-09-24T13:21:23.440Z"
   },
   {
    "duration": 1324,
    "start_time": "2023-09-24T13:21:29.003Z"
   },
   {
    "duration": 2985,
    "start_time": "2023-09-24T13:26:54.777Z"
   },
   {
    "duration": 3,
    "start_time": "2023-09-24T13:26:57.765Z"
   },
   {
    "duration": 2608,
    "start_time": "2023-09-24T13:26:57.769Z"
   },
   {
    "duration": 19,
    "start_time": "2023-09-24T13:27:00.379Z"
   },
   {
    "duration": 105,
    "start_time": "2023-09-24T13:27:00.401Z"
   },
   {
    "duration": 52,
    "start_time": "2023-09-24T13:27:00.508Z"
   },
   {
    "duration": 44,
    "start_time": "2023-09-24T13:27:00.562Z"
   },
   {
    "duration": 55,
    "start_time": "2023-09-24T13:27:00.607Z"
   },
   {
    "duration": 4272,
    "start_time": "2023-09-24T13:27:00.664Z"
   },
   {
    "duration": 3,
    "start_time": "2023-09-24T13:27:04.937Z"
   },
   {
    "duration": 54,
    "start_time": "2023-09-24T13:27:04.942Z"
   },
   {
    "duration": 80697,
    "start_time": "2023-09-24T13:27:04.998Z"
   },
   {
    "duration": 11,
    "start_time": "2023-09-24T13:28:25.697Z"
   },
   {
    "duration": 42,
    "start_time": "2023-09-24T13:28:25.723Z"
   },
   {
    "duration": 4,
    "start_time": "2023-09-24T13:28:25.767Z"
   },
   {
    "duration": 26,
    "start_time": "2023-09-24T13:28:25.773Z"
   },
   {
    "duration": 6221,
    "start_time": "2023-09-24T13:28:25.801Z"
   },
   {
    "duration": 1292,
    "start_time": "2023-09-24T13:28:32.024Z"
   },
   {
    "duration": 3362,
    "start_time": "2023-09-24T13:32:03.214Z"
   },
   {
    "duration": 3,
    "start_time": "2023-09-24T13:32:06.579Z"
   },
   {
    "duration": 2429,
    "start_time": "2023-09-24T13:32:06.583Z"
   },
   {
    "duration": 17,
    "start_time": "2023-09-24T13:32:09.014Z"
   },
   {
    "duration": 48,
    "start_time": "2023-09-24T13:32:09.033Z"
   },
   {
    "duration": 20,
    "start_time": "2023-09-24T13:32:09.083Z"
   },
   {
    "duration": 27,
    "start_time": "2023-09-24T13:32:09.105Z"
   },
   {
    "duration": 17,
    "start_time": "2023-09-24T13:32:09.133Z"
   },
   {
    "duration": 4253,
    "start_time": "2023-09-24T13:32:09.152Z"
   },
   {
    "duration": 3,
    "start_time": "2023-09-24T13:32:13.407Z"
   },
   {
    "duration": 71,
    "start_time": "2023-09-24T13:32:13.411Z"
   },
   {
    "duration": 80909,
    "start_time": "2023-09-24T13:32:13.484Z"
   },
   {
    "duration": 13,
    "start_time": "2023-09-24T13:33:34.395Z"
   },
   {
    "duration": 32,
    "start_time": "2023-09-24T13:33:34.423Z"
   },
   {
    "duration": 3,
    "start_time": "2023-09-24T13:33:34.457Z"
   },
   {
    "duration": 34,
    "start_time": "2023-09-24T13:33:34.462Z"
   },
   {
    "duration": 5505,
    "start_time": "2023-09-24T13:33:34.498Z"
   },
   {
    "duration": 1305,
    "start_time": "2023-09-24T13:33:40.004Z"
   },
   {
    "duration": 55,
    "start_time": "2023-09-24T14:04:44.277Z"
   },
   {
    "duration": 3759,
    "start_time": "2023-09-24T14:04:51.561Z"
   },
   {
    "duration": 5,
    "start_time": "2023-09-24T14:04:55.322Z"
   },
   {
    "duration": 2603,
    "start_time": "2023-09-24T14:04:55.329Z"
   },
   {
    "duration": 20,
    "start_time": "2023-09-24T14:04:57.934Z"
   },
   {
    "duration": 35,
    "start_time": "2023-09-24T14:04:57.957Z"
   },
   {
    "duration": 24,
    "start_time": "2023-09-24T14:04:57.994Z"
   },
   {
    "duration": 24,
    "start_time": "2023-09-24T14:04:58.021Z"
   },
   {
    "duration": 12,
    "start_time": "2023-09-24T14:04:58.046Z"
   },
   {
    "duration": 4259,
    "start_time": "2023-09-24T14:04:58.059Z"
   },
   {
    "duration": 3,
    "start_time": "2023-09-24T14:05:02.323Z"
   },
   {
    "duration": 26,
    "start_time": "2023-09-24T14:05:02.328Z"
   },
   {
    "duration": 83068,
    "start_time": "2023-09-24T14:05:02.356Z"
   },
   {
    "duration": 12,
    "start_time": "2023-09-24T14:06:25.425Z"
   },
   {
    "duration": 48,
    "start_time": "2023-09-24T14:06:25.440Z"
   },
   {
    "duration": 3,
    "start_time": "2023-09-24T14:06:25.490Z"
   },
   {
    "duration": 29,
    "start_time": "2023-09-24T14:06:25.495Z"
   },
   {
    "duration": 5908,
    "start_time": "2023-09-24T14:06:25.526Z"
   },
   {
    "duration": 1374,
    "start_time": "2023-09-24T14:06:31.436Z"
   },
   {
    "duration": 3225,
    "start_time": "2023-09-24T14:12:34.816Z"
   },
   {
    "duration": 3,
    "start_time": "2023-09-24T14:12:38.044Z"
   },
   {
    "duration": 2438,
    "start_time": "2023-09-24T14:12:38.049Z"
   },
   {
    "duration": 19,
    "start_time": "2023-09-24T14:12:40.489Z"
   },
   {
    "duration": 35,
    "start_time": "2023-09-24T14:12:40.511Z"
   },
   {
    "duration": 13,
    "start_time": "2023-09-24T14:12:40.548Z"
   },
   {
    "duration": 17,
    "start_time": "2023-09-24T14:12:40.563Z"
   },
   {
    "duration": 8,
    "start_time": "2023-09-24T14:12:40.582Z"
   },
   {
    "duration": 4236,
    "start_time": "2023-09-24T14:12:40.592Z"
   },
   {
    "duration": 3,
    "start_time": "2023-09-24T14:12:44.830Z"
   },
   {
    "duration": 8,
    "start_time": "2023-09-24T14:12:44.835Z"
   },
   {
    "duration": 84249,
    "start_time": "2023-09-24T14:12:44.844Z"
   },
   {
    "duration": 11,
    "start_time": "2023-09-24T14:14:09.095Z"
   },
   {
    "duration": 35,
    "start_time": "2023-09-24T14:14:09.109Z"
   },
   {
    "duration": 3,
    "start_time": "2023-09-24T14:14:09.146Z"
   },
   {
    "duration": 23,
    "start_time": "2023-09-24T14:14:09.150Z"
   },
   {
    "duration": 5680,
    "start_time": "2023-09-24T14:14:09.175Z"
   },
   {
    "duration": 1397,
    "start_time": "2023-09-24T14:14:14.857Z"
   },
   {
    "duration": 3,
    "start_time": "2023-09-24T14:14:16.256Z"
   },
   {
    "duration": 15,
    "start_time": "2023-09-24T14:14:16.260Z"
   },
   {
    "duration": 121,
    "start_time": "2023-09-24T14:14:16.277Z"
   },
   {
    "duration": 2134835,
    "start_time": "2023-09-24T14:14:16.401Z"
   },
   {
    "duration": 3,
    "start_time": "2023-09-24T14:49:51.239Z"
   },
   {
    "duration": 2854,
    "start_time": "2023-09-24T18:27:44.334Z"
   },
   {
    "duration": 3,
    "start_time": "2023-09-24T18:27:47.191Z"
   },
   {
    "duration": 2395,
    "start_time": "2023-09-24T18:27:47.195Z"
   },
   {
    "duration": 16,
    "start_time": "2023-09-24T18:27:49.592Z"
   },
   {
    "duration": 50,
    "start_time": "2023-09-24T18:27:49.611Z"
   },
   {
    "duration": 52,
    "start_time": "2023-09-24T18:27:49.663Z"
   },
   {
    "duration": 35,
    "start_time": "2023-09-24T18:27:49.718Z"
   },
   {
    "duration": 18,
    "start_time": "2023-09-24T18:27:49.755Z"
   },
   {
    "duration": 4219,
    "start_time": "2023-09-24T18:27:49.776Z"
   },
   {
    "duration": 2,
    "start_time": "2023-09-24T18:27:53.998Z"
   },
   {
    "duration": 29,
    "start_time": "2023-09-24T18:27:54.002Z"
   },
   {
    "duration": 81283,
    "start_time": "2023-09-24T18:27:54.033Z"
   },
   {
    "duration": 15,
    "start_time": "2023-09-24T18:29:15.318Z"
   },
   {
    "duration": 28,
    "start_time": "2023-09-24T18:29:15.335Z"
   },
   {
    "duration": 3,
    "start_time": "2023-09-24T18:29:15.365Z"
   },
   {
    "duration": 29,
    "start_time": "2023-09-24T18:29:15.370Z"
   },
   {
    "duration": 5592,
    "start_time": "2023-09-24T18:29:15.401Z"
   },
   {
    "duration": 1301,
    "start_time": "2023-09-24T18:29:20.995Z"
   },
   {
    "duration": 2,
    "start_time": "2023-09-24T18:29:22.298Z"
   },
   {
    "duration": 10,
    "start_time": "2023-09-24T18:29:22.302Z"
   },
   {
    "duration": 25,
    "start_time": "2023-09-24T18:29:22.313Z"
   },
   {
    "duration": 1088794,
    "start_time": "2023-09-24T18:29:22.339Z"
   },
   {
    "duration": 4,
    "start_time": "2023-09-24T18:47:31.135Z"
   },
   {
    "duration": 157,
    "start_time": "2023-09-24T18:47:31.140Z"
   },
   {
    "duration": 0,
    "start_time": "2023-09-24T18:47:31.300Z"
   },
   {
    "duration": 0,
    "start_time": "2023-09-24T18:47:31.302Z"
   },
   {
    "duration": 0,
    "start_time": "2023-09-24T18:47:31.303Z"
   },
   {
    "duration": 0,
    "start_time": "2023-09-24T18:47:31.305Z"
   },
   {
    "duration": 0,
    "start_time": "2023-09-24T18:47:31.306Z"
   },
   {
    "duration": 0,
    "start_time": "2023-09-24T18:47:31.308Z"
   },
   {
    "duration": 0,
    "start_time": "2023-09-24T18:47:31.309Z"
   },
   {
    "duration": 0,
    "start_time": "2023-09-24T18:47:31.324Z"
   },
   {
    "duration": 0,
    "start_time": "2023-09-24T18:47:31.326Z"
   },
   {
    "duration": 0,
    "start_time": "2023-09-24T18:47:31.328Z"
   },
   {
    "duration": 0,
    "start_time": "2023-09-24T18:47:31.330Z"
   },
   {
    "duration": 0,
    "start_time": "2023-09-24T18:47:31.332Z"
   },
   {
    "duration": 0,
    "start_time": "2023-09-24T18:47:31.333Z"
   },
   {
    "duration": 0,
    "start_time": "2023-09-24T18:47:31.334Z"
   },
   {
    "duration": 0,
    "start_time": "2023-09-24T18:47:31.335Z"
   },
   {
    "duration": 0,
    "start_time": "2023-09-24T18:47:31.336Z"
   },
   {
    "duration": 0,
    "start_time": "2023-09-24T18:47:31.337Z"
   },
   {
    "duration": 0,
    "start_time": "2023-09-24T18:47:31.338Z"
   },
   {
    "duration": 0,
    "start_time": "2023-09-24T18:47:31.340Z"
   },
   {
    "duration": 0,
    "start_time": "2023-09-24T18:47:31.341Z"
   },
   {
    "duration": 0,
    "start_time": "2023-09-24T18:47:31.343Z"
   },
   {
    "duration": 0,
    "start_time": "2023-09-24T18:47:31.344Z"
   },
   {
    "duration": 0,
    "start_time": "2023-09-24T18:47:31.345Z"
   },
   {
    "duration": 0,
    "start_time": "2023-09-24T18:47:31.347Z"
   },
   {
    "duration": 0,
    "start_time": "2023-09-24T18:47:31.348Z"
   },
   {
    "duration": 0,
    "start_time": "2023-09-24T18:47:31.350Z"
   },
   {
    "duration": 0,
    "start_time": "2023-09-24T18:47:31.351Z"
   },
   {
    "duration": 0,
    "start_time": "2023-09-24T18:47:31.352Z"
   },
   {
    "duration": 27,
    "start_time": "2023-09-24T18:51:47.230Z"
   },
   {
    "duration": 3,
    "start_time": "2023-09-24T18:52:03.450Z"
   },
   {
    "duration": 4,
    "start_time": "2023-09-24T18:52:03.456Z"
   },
   {
    "duration": 8,
    "start_time": "2023-09-24T18:52:03.461Z"
   },
   {
    "duration": 2647589,
    "start_time": "2023-09-24T18:52:03.471Z"
   },
   {
    "duration": 3,
    "start_time": "2023-09-24T19:36:11.062Z"
   },
   {
    "duration": 42,
    "start_time": "2023-09-24T19:36:11.067Z"
   },
   {
    "duration": 53,
    "start_time": "2023-09-24T19:36:11.111Z"
   },
   {
    "duration": 41,
    "start_time": "2023-09-24T19:36:11.165Z"
   },
   {
    "duration": 36,
    "start_time": "2023-09-24T19:36:11.207Z"
   },
   {
    "duration": 197884,
    "start_time": "2023-09-24T19:36:11.245Z"
   },
   {
    "duration": 5,
    "start_time": "2023-09-24T19:39:29.140Z"
   },
   {
    "duration": 51,
    "start_time": "2023-09-24T19:39:29.148Z"
   },
   {
    "duration": 31,
    "start_time": "2023-09-24T19:39:29.201Z"
   },
   {
    "duration": 0,
    "start_time": "2023-09-24T19:39:29.237Z"
   },
   {
    "duration": 0,
    "start_time": "2023-09-24T19:39:29.238Z"
   },
   {
    "duration": 0,
    "start_time": "2023-09-24T19:39:29.240Z"
   },
   {
    "duration": 0,
    "start_time": "2023-09-24T19:39:29.241Z"
   },
   {
    "duration": 0,
    "start_time": "2023-09-24T19:39:29.242Z"
   },
   {
    "duration": 0,
    "start_time": "2023-09-24T19:39:29.243Z"
   },
   {
    "duration": 0,
    "start_time": "2023-09-24T19:39:29.244Z"
   },
   {
    "duration": 0,
    "start_time": "2023-09-24T19:39:29.245Z"
   },
   {
    "duration": 0,
    "start_time": "2023-09-24T19:39:29.247Z"
   },
   {
    "duration": 0,
    "start_time": "2023-09-24T19:39:29.248Z"
   },
   {
    "duration": 0,
    "start_time": "2023-09-24T19:39:29.249Z"
   },
   {
    "duration": 0,
    "start_time": "2023-09-24T19:39:29.250Z"
   },
   {
    "duration": 0,
    "start_time": "2023-09-24T19:39:29.251Z"
   },
   {
    "duration": 0,
    "start_time": "2023-09-24T19:39:29.253Z"
   },
   {
    "duration": 0,
    "start_time": "2023-09-24T19:39:29.253Z"
   },
   {
    "duration": 0,
    "start_time": "2023-09-24T19:39:29.254Z"
   },
   {
    "duration": 52705,
    "start_time": "2023-09-24T19:42:39.539Z"
   },
   {
    "duration": 10,
    "start_time": "2023-09-24T19:43:32.323Z"
   },
   {
    "duration": 24,
    "start_time": "2023-09-24T19:43:32.335Z"
   },
   {
    "duration": 37,
    "start_time": "2023-09-24T19:43:32.362Z"
   },
   {
    "duration": 12,
    "start_time": "2023-09-24T19:43:32.401Z"
   },
   {
    "duration": 24,
    "start_time": "2023-09-24T19:43:32.416Z"
   },
   {
    "duration": 56309,
    "start_time": "2023-09-24T19:43:32.442Z"
   },
   {
    "duration": 29,
    "start_time": "2023-09-24T19:44:28.753Z"
   },
   {
    "duration": 12,
    "start_time": "2023-09-24T19:44:28.784Z"
   },
   {
    "duration": 69,
    "start_time": "2023-09-24T19:44:28.799Z"
   },
   {
    "duration": 2,
    "start_time": "2023-09-24T19:44:28.870Z"
   },
   {
    "duration": 21,
    "start_time": "2023-09-24T19:44:28.873Z"
   },
   {
    "duration": 52147,
    "start_time": "2023-09-24T19:44:28.896Z"
   },
   {
    "duration": 9,
    "start_time": "2023-09-24T19:45:21.124Z"
   },
   {
    "duration": 15,
    "start_time": "2023-09-24T19:45:21.135Z"
   },
   {
    "duration": 23,
    "start_time": "2023-09-24T19:45:21.152Z"
   },
   {
    "duration": 3201,
    "start_time": "2023-09-30T07:42:41.629Z"
   },
   {
    "duration": 2,
    "start_time": "2023-09-30T07:42:48.590Z"
   },
   {
    "duration": 2590,
    "start_time": "2023-09-30T07:42:49.851Z"
   },
   {
    "duration": 15,
    "start_time": "2023-09-30T07:42:52.443Z"
   },
   {
    "duration": 50,
    "start_time": "2023-09-30T07:42:52.459Z"
   },
   {
    "duration": 22,
    "start_time": "2023-09-30T07:42:52.512Z"
   },
   {
    "duration": 7,
    "start_time": "2023-09-30T07:42:53.812Z"
   },
   {
    "duration": 3,
    "start_time": "2023-09-30T07:42:54.828Z"
   },
   {
    "duration": 4738,
    "start_time": "2023-09-30T07:42:55.797Z"
   },
   {
    "duration": 3,
    "start_time": "2023-09-30T07:43:00.537Z"
   },
   {
    "duration": 479,
    "start_time": "2023-09-30T07:43:00.547Z"
   },
   {
    "duration": 0,
    "start_time": "2023-09-30T07:43:01.028Z"
   },
   {
    "duration": 0,
    "start_time": "2023-09-30T07:43:01.029Z"
   },
   {
    "duration": 0,
    "start_time": "2023-09-30T07:43:01.030Z"
   },
   {
    "duration": 0,
    "start_time": "2023-09-30T07:43:01.031Z"
   },
   {
    "duration": 10,
    "start_time": "2023-09-30T07:43:15.600Z"
   },
   {
    "duration": 9,
    "start_time": "2023-09-30T07:43:24.183Z"
   },
   {
    "duration": 61,
    "start_time": "2023-09-30T07:43:44.752Z"
   },
   {
    "duration": 3,
    "start_time": "2023-09-30T07:43:47.056Z"
   },
   {
    "duration": 924,
    "start_time": "2023-09-30T07:43:47.372Z"
   },
   {
    "duration": 8,
    "start_time": "2023-09-30T07:43:48.298Z"
   },
   {
    "duration": 53,
    "start_time": "2023-09-30T07:43:48.308Z"
   },
   {
    "duration": 12,
    "start_time": "2023-09-30T07:43:48.412Z"
   },
   {
    "duration": 6,
    "start_time": "2023-09-30T07:43:48.796Z"
   },
   {
    "duration": 4,
    "start_time": "2023-09-30T07:43:49.374Z"
   },
   {
    "duration": 4667,
    "start_time": "2023-09-30T07:43:50.043Z"
   },
   {
    "duration": 3,
    "start_time": "2023-09-30T07:43:54.712Z"
   },
   {
    "duration": 1301,
    "start_time": "2023-09-30T07:43:54.716Z"
   },
   {
    "duration": 3,
    "start_time": "2023-09-30T07:43:56.019Z"
   },
   {
    "duration": 14,
    "start_time": "2023-09-30T07:43:56.024Z"
   },
   {
    "duration": 461,
    "start_time": "2023-09-30T07:43:56.040Z"
   },
   {
    "duration": 0,
    "start_time": "2023-09-30T07:43:56.502Z"
   },
   {
    "duration": 297,
    "start_time": "2023-09-30T07:44:13.738Z"
   },
   {
    "duration": 3,
    "start_time": "2023-09-30T07:44:14.376Z"
   },
   {
    "duration": 928,
    "start_time": "2023-09-30T07:44:14.760Z"
   },
   {
    "duration": 7,
    "start_time": "2023-09-30T07:44:15.690Z"
   },
   {
    "duration": 55,
    "start_time": "2023-09-30T07:44:15.699Z"
   },
   {
    "duration": 13,
    "start_time": "2023-09-30T07:44:15.823Z"
   },
   {
    "duration": 7,
    "start_time": "2023-09-30T07:44:16.185Z"
   },
   {
    "duration": 3,
    "start_time": "2023-09-30T07:44:16.738Z"
   },
   {
    "duration": 4676,
    "start_time": "2023-09-30T07:44:17.293Z"
   },
   {
    "duration": 2,
    "start_time": "2023-09-30T07:44:21.971Z"
   },
   {
    "duration": 21,
    "start_time": "2023-09-30T07:44:21.975Z"
   },
   {
    "duration": 6,
    "start_time": "2023-09-30T07:44:21.998Z"
   },
   {
    "duration": 14,
    "start_time": "2023-09-30T07:44:22.005Z"
   },
   {
    "duration": 560428,
    "start_time": "2023-09-30T07:44:22.021Z"
   },
   {
    "duration": 11,
    "start_time": "2023-09-30T07:53:42.451Z"
   },
   {
    "duration": 12,
    "start_time": "2023-09-30T07:58:00.930Z"
   },
   {
    "duration": 2,
    "start_time": "2023-09-30T07:58:02.029Z"
   },
   {
    "duration": 936,
    "start_time": "2023-09-30T07:58:02.758Z"
   },
   {
    "duration": 8,
    "start_time": "2023-09-30T07:58:03.739Z"
   },
   {
    "duration": 31,
    "start_time": "2023-09-30T07:58:04.073Z"
   },
   {
    "duration": 14,
    "start_time": "2023-09-30T07:58:05.471Z"
   },
   {
    "duration": 7,
    "start_time": "2023-09-30T07:58:06.116Z"
   },
   {
    "duration": 4,
    "start_time": "2023-09-30T07:58:07.270Z"
   },
   {
    "duration": 4602,
    "start_time": "2023-09-30T07:58:08.378Z"
   },
   {
    "duration": 2,
    "start_time": "2023-09-30T07:58:12.983Z"
   },
   {
    "duration": 32,
    "start_time": "2023-09-30T07:58:12.987Z"
   },
   {
    "duration": 23,
    "start_time": "2023-09-30T07:58:13.021Z"
   },
   {
    "duration": 25,
    "start_time": "2023-09-30T07:58:13.046Z"
   },
   {
    "duration": 564242,
    "start_time": "2023-09-30T07:58:13.073Z"
   },
   {
    "duration": 13,
    "start_time": "2023-09-30T08:07:37.316Z"
   },
   {
    "duration": 31,
    "start_time": "2023-09-30T08:13:19.841Z"
   },
   {
    "duration": 3,
    "start_time": "2023-09-30T08:13:22.400Z"
   },
   {
    "duration": 20,
    "start_time": "2023-09-30T08:13:23.175Z"
   },
   {
    "duration": 6024,
    "start_time": "2023-09-30T08:13:23.697Z"
   },
   {
    "duration": 1368,
    "start_time": "2023-09-30T08:13:29.723Z"
   },
   {
    "duration": 3,
    "start_time": "2023-09-30T08:13:31.093Z"
   },
   {
    "duration": 98,
    "start_time": "2023-09-30T08:13:31.098Z"
   },
   {
    "duration": 53,
    "start_time": "2023-09-30T08:13:31.197Z"
   },
   {
    "duration": 406119,
    "start_time": "2023-09-30T08:13:31.252Z"
   },
   {
    "duration": 3,
    "start_time": "2023-09-30T08:20:17.373Z"
   },
   {
    "duration": 14,
    "start_time": "2023-09-30T08:20:17.379Z"
   },
   {
    "duration": 27,
    "start_time": "2023-09-30T08:20:17.395Z"
   },
   {
    "duration": 18,
    "start_time": "2023-09-30T08:20:17.426Z"
   },
   {
    "duration": 2818414,
    "start_time": "2023-09-30T08:20:17.446Z"
   },
   {
    "duration": 3,
    "start_time": "2023-09-30T09:07:15.862Z"
   },
   {
    "duration": 48,
    "start_time": "2023-09-30T09:07:15.867Z"
   },
   {
    "duration": 46,
    "start_time": "2023-09-30T09:07:15.917Z"
   },
   {
    "duration": 26,
    "start_time": "2023-09-30T09:07:15.965Z"
   },
   {
    "duration": 15,
    "start_time": "2023-09-30T09:07:15.993Z"
   },
   {
    "duration": 199350,
    "start_time": "2023-09-30T09:07:16.010Z"
   },
   {
    "duration": 7,
    "start_time": "2023-09-30T09:10:35.362Z"
   },
   {
    "duration": 87,
    "start_time": "2023-09-30T09:10:35.371Z"
   },
   {
    "duration": 204099,
    "start_time": "2023-09-30T09:10:35.460Z"
   },
   {
    "duration": 2826,
    "start_time": "2023-09-30T09:13:59.561Z"
   },
   {
    "duration": 61,
    "start_time": "2023-09-30T09:14:02.390Z"
   },
   {
    "duration": 27,
    "start_time": "2023-09-30T09:14:02.453Z"
   },
   {
    "duration": 132,
    "start_time": "2023-09-30T09:14:02.482Z"
   },
   {
    "duration": 140,
    "start_time": "2023-09-30T09:14:02.616Z"
   },
   {
    "duration": 58583,
    "start_time": "2023-09-30T09:14:02.757Z"
   },
   {
    "duration": 28,
    "start_time": "2023-09-30T09:15:01.347Z"
   },
   {
    "duration": 368,
    "start_time": "2023-09-30T09:15:01.378Z"
   },
   {
    "duration": 440,
    "start_time": "2023-09-30T09:15:01.747Z"
   },
   {
    "duration": 51,
    "start_time": "2023-09-30T09:15:02.188Z"
   },
   {
    "duration": 116,
    "start_time": "2023-09-30T09:15:02.241Z"
   },
   {
    "duration": 49496,
    "start_time": "2023-09-30T09:15:02.359Z"
   },
   {
    "duration": 94,
    "start_time": "2023-09-30T09:15:51.857Z"
   },
   {
    "duration": 37,
    "start_time": "2023-09-30T09:15:51.953Z"
   },
   {
    "duration": 84,
    "start_time": "2023-09-30T09:15:51.991Z"
   }
  ],
  "kernelspec": {
   "display_name": "Python 3 (ipykernel)",
   "language": "python",
   "name": "python3"
  },
  "language_info": {
   "codemirror_mode": {
    "name": "ipython",
    "version": 3
   },
   "file_extension": ".py",
   "mimetype": "text/x-python",
   "name": "python",
   "nbconvert_exporter": "python",
   "pygments_lexer": "ipython3",
   "version": "3.11.5"
  },
  "toc": {
   "base_numbering": 1,
   "nav_menu": {},
   "number_sections": true,
   "sideBar": true,
   "skip_h1_title": true,
   "title_cell": "Содержание",
   "title_sidebar": "Contents",
   "toc_cell": true,
   "toc_position": {
    "height": "calc(100% - 180px)",
    "left": "10px",
    "top": "150px",
    "width": "302.391px"
   },
   "toc_section_display": true,
   "toc_window_display": false
  }
 },
 "nbformat": 4,
 "nbformat_minor": 2
}
