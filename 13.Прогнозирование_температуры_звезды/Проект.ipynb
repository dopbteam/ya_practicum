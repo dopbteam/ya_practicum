{
 "cells": [
  {
   "cell_type": "markdown",
   "id": "0f7559ae",
   "metadata": {},
   "source": [
    "<h1>Прогнозирование температуры звезды</h1>\n",
    "<br>\n",
    "Вам пришла задача от обсерватории «Небо на ладони»: придумать, как с помощью нейросети определять температуру на поверхности обнаруженных звёзд. Обычно для расчёта температуры учёные пользуются следующими методами:\n",
    "<br>\n",
    "<br>\n",
    "<li>\n",
    "Закон смещения Вина.\n",
    "</li>\n",
    "<li>\n",
    "Закон Стефана-Больцмана.\n",
    "</li>\n",
    "<li>\n",
    "Спектральный анализ.\n",
    "</li>\n",
    "<br>\n",
    "Каждый из них имеет плюсы и минусы. Обсерватория хочет внедрить технологии машинного обучения для предсказания температуры звёзд, надеясь, что этот метод будет наиболее точным и удобным.\n",
    "<br>\n",
    "<br>\n",
    "В базе обсерватории есть характеристики уже изученных 240 звёзд.\n",
    "<br>\n",
    "<h2>Характеристики</h2>\n",
    "<br>\n",
    "<li>\n",
    "    Относительная светимость <code>L/Lo</code> — светимость звезды относительно Солнца.\n",
    "</li>\n",
    "<li>\n",
    "Относительный радиус <code>R/Ro</code> — радиус звезды относительно радиуса Солнца.\n",
    "</li>\n",
    "<li>\n",
    "Абсолютная звёздная величина <code>Mv</code> — физическая величина, характеризующая блеск звезды.\n",
    "</li>\n",
    "<li>\n",
    "Звёздный цвет (<code>white</code>, <code>red</code>, <code>blue</code>, <code>yellow</code>, <code>yellow-orange</code> и др.) — цвет звезды, который определяют на основе спектрального анализа.\n",
    "</li>\n",
    "<li>\n",
    "Тип звезды.\n",
    "<table>\n",
    "  <tr>\n",
    "    <th>Тип звезды</th>\n",
    "    <th>Номер, соответствующий типу</th>\n",
    "  </tr>\n",
    "  <tr>\n",
    "    <td>Коричневый карлик</td>\n",
    "    <td>0</td>\n",
    "  </tr>\n",
    "  <tr>\n",
    "    <td>Красный карлик</td>\n",
    "    <td>1</td>\n",
    "  </tr>\n",
    "  <tr>\n",
    "    <td>Белый карлик</td>\n",
    "    <td>2</td>\n",
    "  </tr>\n",
    "  <tr>\n",
    "    <td>Звёзды главной последовательности</td>\n",
    "    <td>3</td>\n",
    "  </tr>\n",
    "  <tr>\n",
    "    <td>Сверхгигант</td>\n",
    "    <td>4</td>\n",
    "  </tr>\n",
    "  <tr>\n",
    "    <td>Гипергигант</td>\n",
    "    <td>5</td>\n",
    "  </tr>\n",
    "</table>\n",
    "\n",
    "</li>\n",
    "<li>\n",
    "Абсолютная температура T(K) — температура на поверхности звезды в Кельвинах.\n",
    "</li>\n",
    "<br>\n",
    "В этом самостоятельном проекте вам необходимо разработать нейронную сеть, которая поможет предсказывать абсолютную температуру на поверхности звезды.\n",
    "<br>\n",
    "<br>\n",
    "<code>💡 Справочная информация:\n",
    "Светимость Солнца (англ. <em>Average Luminosity of Sun</em>)\n",
    "L<sub>0</sub> = 3.828 × 10<sup>26</sup> Вт\n",
    "Радиус Солнца (англ. <em>Average Radius of Sun</em>)\n",
    "R<sub>0</sub> = 6.9551 × 10<sup>8</sup> М\n",
    "</code>"
   ]
  },
  {
   "cell_type": "markdown",
   "id": "corresponding-armstrong",
   "metadata": {
    "ExecuteTime": {
     "end_time": "2022-05-05T04:58:05.692448Z",
     "start_time": "2022-05-05T04:58:05.688565Z"
    }
   },
   "source": [
    "## Загрузка данных"
   ]
  },
  {
   "cell_type": "markdown",
   "id": "32f380cc",
   "metadata": {},
   "source": [
    "Загружаем нужные библиотеки"
   ]
  },
  {
   "cell_type": "code",
   "execution_count": 1,
   "id": "spectacular-folder",
   "metadata": {},
   "outputs": [
    {
     "name": "stdout",
     "output_type": "stream",
     "text": [
      "Requirement already satisfied: scikit-learn in /opt/conda/lib/python3.9/site-packages (0.24.1)\n",
      "Collecting skorch\n",
      "  Downloading skorch-0.14.0-py3-none-any.whl (221 kB)\n",
      "\u001b[K     |████████████████████████████████| 221 kB 2.1 MB/s eta 0:00:01\n",
      "\u001b[?25hRequirement already satisfied: threadpoolctl>=2.0.0 in /opt/conda/lib/python3.9/site-packages (from scikit-learn) (3.1.0)\n",
      "Requirement already satisfied: numpy>=1.13.3 in /opt/conda/lib/python3.9/site-packages (from scikit-learn) (1.21.1)\n",
      "Requirement already satisfied: scipy>=0.19.1 in /opt/conda/lib/python3.9/site-packages (from scikit-learn) (1.9.1)\n",
      "Requirement already satisfied: joblib>=0.11 in /opt/conda/lib/python3.9/site-packages (from scikit-learn) (1.1.0)\n",
      "Requirement already satisfied: tqdm>=4.14.0 in /opt/conda/lib/python3.9/site-packages (from skorch) (4.61.2)\n",
      "Collecting tabulate>=0.7.7\n",
      "  Downloading tabulate-0.9.0-py3-none-any.whl (35 kB)\n",
      "Installing collected packages: tabulate, skorch\n",
      "Successfully installed skorch-0.14.0 tabulate-0.9.0\n",
      "Requirement already satisfied: scikit-learn in /opt/conda/lib/python3.9/site-packages (0.24.1)\n",
      "Collecting scikit-learn\n",
      "  Downloading scikit_learn-1.3.0-cp39-cp39-manylinux_2_17_x86_64.manylinux2014_x86_64.whl (10.9 MB)\n",
      "\u001b[K     |████████████████████████████████| 10.9 MB 2.1 MB/s eta 0:00:01\n",
      "\u001b[?25hCollecting joblib>=1.1.1\n",
      "  Downloading joblib-1.3.2-py3-none-any.whl (302 kB)\n",
      "\u001b[K     |████████████████████████████████| 302 kB 73.1 MB/s eta 0:00:01\n",
      "\u001b[?25hRequirement already satisfied: scipy>=1.5.0 in /opt/conda/lib/python3.9/site-packages (from scikit-learn) (1.9.1)\n",
      "Requirement already satisfied: threadpoolctl>=2.0.0 in /opt/conda/lib/python3.9/site-packages (from scikit-learn) (3.1.0)\n",
      "Requirement already satisfied: numpy>=1.17.3 in /opt/conda/lib/python3.9/site-packages (from scikit-learn) (1.21.1)\n",
      "Installing collected packages: joblib, scikit-learn\n",
      "  Attempting uninstall: joblib\n",
      "    Found existing installation: joblib 1.1.0\n",
      "    Uninstalling joblib-1.1.0:\n",
      "      Successfully uninstalled joblib-1.1.0\n",
      "  Attempting uninstall: scikit-learn\n",
      "    Found existing installation: scikit-learn 0.24.1\n",
      "    Uninstalling scikit-learn-0.24.1:\n",
      "      Successfully uninstalled scikit-learn-0.24.1\n",
      "Successfully installed joblib-1.3.2 scikit-learn-1.3.0\n"
     ]
    }
   ],
   "source": [
    "!pip install scikit-learn skorch\n",
    "!pip install -U scikit-learn\n",
    "\n",
    "import pandas as pd\n",
    "import numpy as np\n",
    "import matplotlib.pyplot as plt\n",
    "import torch\n",
    "import torch.nn as nn\n",
    "import os\n",
    "import random\n",
    "from torch.utils.data import DataLoader, Dataset, random_split\n",
    "from sklearn.pipeline import Pipeline\n",
    "from sklearn.compose import ColumnTransformer\n",
    "from sklearn.preprocessing import OneHotEncoder, StandardScaler\n",
    "from sklearn.model_selection import train_test_split, GridSearchCV, cross_val_score, RandomizedSearchCV\n",
    "from sklearn.metrics import mean_squared_error, make_scorer\n",
    "from skorch import NeuralNetRegressor\n",
    "from skorch.callbacks import EarlyStopping, EpochScoring\n",
    "from skorch.dataset import Dataset, ValidSplit\n",
    "\n",
    "\n",
    "from sklearn.metrics import make_scorer\n",
    "from sklearn.metrics import mean_squared_error"
   ]
  },
  {
   "cell_type": "code",
   "execution_count": 2,
   "id": "167377c3",
   "metadata": {},
   "outputs": [],
   "source": [
    "SEED = 666"
   ]
  },
  {
   "cell_type": "markdown",
   "id": "3eef2e80",
   "metadata": {},
   "source": [
    "Загрузка данных"
   ]
  },
  {
   "cell_type": "code",
   "execution_count": 3,
   "id": "13ef36d3",
   "metadata": {},
   "outputs": [],
   "source": [
    "if os.path.exists('6_class.csv'):\n",
    "    df = pd.read_csv('6_class.csv', index_col=0)\n",
    "else:\n",
    "    df = pd.read_csv('/datasets/6_class.csv', index_col=0)"
   ]
  },
  {
   "cell_type": "markdown",
   "id": "3f1d96df",
   "metadata": {},
   "source": [
    "Проверим данные"
   ]
  },
  {
   "cell_type": "code",
   "execution_count": 4,
   "id": "17e28459",
   "metadata": {},
   "outputs": [
    {
     "name": "stdout",
     "output_type": "stream",
     "text": [
      "<class 'pandas.core.frame.DataFrame'>\n",
      "Int64Index: 240 entries, 0 to 239\n",
      "Data columns (total 6 columns):\n",
      " #   Column                  Non-Null Count  Dtype  \n",
      "---  ------                  --------------  -----  \n",
      " 0   Temperature (K)         240 non-null    int64  \n",
      " 1   Luminosity(L/Lo)        240 non-null    float64\n",
      " 2   Radius(R/Ro)            240 non-null    float64\n",
      " 3   Absolute magnitude(Mv)  240 non-null    float64\n",
      " 4   Star type               240 non-null    int64  \n",
      " 5   Star color              240 non-null    object \n",
      "dtypes: float64(3), int64(2), object(1)\n",
      "memory usage: 13.1+ KB\n"
     ]
    }
   ],
   "source": [
    "df.info()"
   ]
  },
  {
   "cell_type": "code",
   "execution_count": 5,
   "id": "a7293d4b",
   "metadata": {},
   "outputs": [
    {
     "data": {
      "text/html": [
       "<div>\n",
       "<style scoped>\n",
       "    .dataframe tbody tr th:only-of-type {\n",
       "        vertical-align: middle;\n",
       "    }\n",
       "\n",
       "    .dataframe tbody tr th {\n",
       "        vertical-align: top;\n",
       "    }\n",
       "\n",
       "    .dataframe thead th {\n",
       "        text-align: right;\n",
       "    }\n",
       "</style>\n",
       "<table border=\"1\" class=\"dataframe\">\n",
       "  <thead>\n",
       "    <tr style=\"text-align: right;\">\n",
       "      <th></th>\n",
       "      <th>count</th>\n",
       "      <th>mean</th>\n",
       "      <th>std</th>\n",
       "      <th>min</th>\n",
       "      <th>25%</th>\n",
       "      <th>50%</th>\n",
       "      <th>75%</th>\n",
       "      <th>max</th>\n",
       "    </tr>\n",
       "  </thead>\n",
       "  <tbody>\n",
       "    <tr>\n",
       "      <th>Temperature (K)</th>\n",
       "      <td>240.0</td>\n",
       "      <td>10497.462500</td>\n",
       "      <td>9552.425037</td>\n",
       "      <td>1939.00000</td>\n",
       "      <td>3344.250000</td>\n",
       "      <td>5776.0000</td>\n",
       "      <td>15055.5000</td>\n",
       "      <td>40000.00</td>\n",
       "    </tr>\n",
       "    <tr>\n",
       "      <th>Luminosity(L/Lo)</th>\n",
       "      <td>240.0</td>\n",
       "      <td>107188.361635</td>\n",
       "      <td>179432.244940</td>\n",
       "      <td>0.00008</td>\n",
       "      <td>0.000865</td>\n",
       "      <td>0.0705</td>\n",
       "      <td>198050.0000</td>\n",
       "      <td>849420.00</td>\n",
       "    </tr>\n",
       "    <tr>\n",
       "      <th>Radius(R/Ro)</th>\n",
       "      <td>240.0</td>\n",
       "      <td>237.157781</td>\n",
       "      <td>517.155763</td>\n",
       "      <td>0.00840</td>\n",
       "      <td>0.102750</td>\n",
       "      <td>0.7625</td>\n",
       "      <td>42.7500</td>\n",
       "      <td>1948.50</td>\n",
       "    </tr>\n",
       "    <tr>\n",
       "      <th>Absolute magnitude(Mv)</th>\n",
       "      <td>240.0</td>\n",
       "      <td>4.382396</td>\n",
       "      <td>10.532512</td>\n",
       "      <td>-11.92000</td>\n",
       "      <td>-6.232500</td>\n",
       "      <td>8.3130</td>\n",
       "      <td>13.6975</td>\n",
       "      <td>20.06</td>\n",
       "    </tr>\n",
       "    <tr>\n",
       "      <th>Star type</th>\n",
       "      <td>240.0</td>\n",
       "      <td>2.500000</td>\n",
       "      <td>1.711394</td>\n",
       "      <td>0.00000</td>\n",
       "      <td>1.000000</td>\n",
       "      <td>2.5000</td>\n",
       "      <td>4.0000</td>\n",
       "      <td>5.00</td>\n",
       "    </tr>\n",
       "  </tbody>\n",
       "</table>\n",
       "</div>"
      ],
      "text/plain": [
       "                        count           mean            std         min  \\\n",
       "Temperature (K)         240.0   10497.462500    9552.425037  1939.00000   \n",
       "Luminosity(L/Lo)        240.0  107188.361635  179432.244940     0.00008   \n",
       "Radius(R/Ro)            240.0     237.157781     517.155763     0.00840   \n",
       "Absolute magnitude(Mv)  240.0       4.382396      10.532512   -11.92000   \n",
       "Star type               240.0       2.500000       1.711394     0.00000   \n",
       "\n",
       "                                25%        50%          75%        max  \n",
       "Temperature (K)         3344.250000  5776.0000   15055.5000   40000.00  \n",
       "Luminosity(L/Lo)           0.000865     0.0705  198050.0000  849420.00  \n",
       "Radius(R/Ro)               0.102750     0.7625      42.7500    1948.50  \n",
       "Absolute magnitude(Mv)    -6.232500     8.3130      13.6975      20.06  \n",
       "Star type                  1.000000     2.5000       4.0000       5.00  "
      ]
     },
     "metadata": {},
     "output_type": "display_data"
    }
   ],
   "source": [
    "display(df.describe().transpose())"
   ]
  },
  {
   "cell_type": "code",
   "execution_count": 6,
   "id": "e4e7663f",
   "metadata": {},
   "outputs": [],
   "source": [
    "def check_df(data):\n",
    "    empty_values = data.isnull().sum()\n",
    "    duplicate_values = data.duplicated().sum()\n",
    "    distinct_values = data.nunique()\n",
    "    explore_data = pd.DataFrame({'column': empty_values.index, \n",
    "                                 'empty': empty_values.values, \n",
    "                                 'duplicated': duplicate_values, \n",
    "                                 'distinct': distinct_values.values})\n",
    "    return explore_data"
   ]
  },
  {
   "cell_type": "code",
   "execution_count": 7,
   "id": "16ac05ce",
   "metadata": {},
   "outputs": [],
   "source": [
    "explore_data = check_df(df)"
   ]
  },
  {
   "cell_type": "code",
   "execution_count": 8,
   "id": "b6020d89",
   "metadata": {},
   "outputs": [
    {
     "data": {
      "text/html": [
       "<div>\n",
       "<style scoped>\n",
       "    .dataframe tbody tr th:only-of-type {\n",
       "        vertical-align: middle;\n",
       "    }\n",
       "\n",
       "    .dataframe tbody tr th {\n",
       "        vertical-align: top;\n",
       "    }\n",
       "\n",
       "    .dataframe thead th {\n",
       "        text-align: right;\n",
       "    }\n",
       "</style>\n",
       "<table border=\"1\" class=\"dataframe\">\n",
       "  <thead>\n",
       "    <tr style=\"text-align: right;\">\n",
       "      <th></th>\n",
       "      <th>column</th>\n",
       "      <th>empty</th>\n",
       "      <th>duplicated</th>\n",
       "      <th>distinct</th>\n",
       "    </tr>\n",
       "  </thead>\n",
       "  <tbody>\n",
       "    <tr>\n",
       "      <th>0</th>\n",
       "      <td>Temperature (K)</td>\n",
       "      <td>0</td>\n",
       "      <td>0</td>\n",
       "      <td>228</td>\n",
       "    </tr>\n",
       "    <tr>\n",
       "      <th>1</th>\n",
       "      <td>Luminosity(L/Lo)</td>\n",
       "      <td>0</td>\n",
       "      <td>0</td>\n",
       "      <td>208</td>\n",
       "    </tr>\n",
       "    <tr>\n",
       "      <th>2</th>\n",
       "      <td>Radius(R/Ro)</td>\n",
       "      <td>0</td>\n",
       "      <td>0</td>\n",
       "      <td>216</td>\n",
       "    </tr>\n",
       "    <tr>\n",
       "      <th>3</th>\n",
       "      <td>Absolute magnitude(Mv)</td>\n",
       "      <td>0</td>\n",
       "      <td>0</td>\n",
       "      <td>228</td>\n",
       "    </tr>\n",
       "    <tr>\n",
       "      <th>4</th>\n",
       "      <td>Star type</td>\n",
       "      <td>0</td>\n",
       "      <td>0</td>\n",
       "      <td>6</td>\n",
       "    </tr>\n",
       "    <tr>\n",
       "      <th>5</th>\n",
       "      <td>Star color</td>\n",
       "      <td>0</td>\n",
       "      <td>0</td>\n",
       "      <td>19</td>\n",
       "    </tr>\n",
       "  </tbody>\n",
       "</table>\n",
       "</div>"
      ],
      "text/plain": [
       "                   column  empty  duplicated  distinct\n",
       "0         Temperature (K)      0           0       228\n",
       "1        Luminosity(L/Lo)      0           0       208\n",
       "2            Radius(R/Ro)      0           0       216\n",
       "3  Absolute magnitude(Mv)      0           0       228\n",
       "4               Star type      0           0         6\n",
       "5              Star color      0           0        19"
      ]
     },
     "metadata": {},
     "output_type": "display_data"
    }
   ],
   "source": [
    "display(explore_data)"
   ]
  },
  {
   "cell_type": "code",
   "execution_count": 9,
   "id": "a6e83a1f",
   "metadata": {},
   "outputs": [],
   "source": [
    "def plot_column_diagram(data, column):\n",
    "    value_counts = data[column].astype(str).value_counts(dropna=False)\n",
    "    labels = value_counts.index\n",
    "    counts = value_counts.values\n",
    "    \n",
    "    fig, ax = plt.subplots()\n",
    "    \n",
    "    colors = ['red' if label == 'nan' or label == '0' else 'black' for label in labels]\n",
    "    ax.bar(labels, counts, color=colors)\n",
    "    \n",
    "    ax.set_xlabel(column)\n",
    "    ax.set_ylabel('Количество')\n",
    "    ax.set_title(f'Распределение категориальных значений столбца {column}')\n",
    "    \n",
    "    plt.xticks(rotation=90)\n",
    "    plt.show()\n",
    "    \n",
    "    unique_values = data[column].unique()\n",
    "    print(unique_values)"
   ]
  },
  {
   "cell_type": "code",
   "execution_count": 10,
   "id": "3b48b145",
   "metadata": {},
   "outputs": [
    {
     "data": {
      "image/png": "[encoded data removed]",
      "text/plain": [
       "<Figure size 432x288 with 1 Axes>"
      ]
     },
     "metadata": {
      "needs_background": "light"
     },
     "output_type": "display_data"
    },
    {
     "name": "stdout",
     "output_type": "stream",
     "text": [
      "[0 1 2 3 4 5]\n"
     ]
    }
   ],
   "source": [
    "plot_column_diagram(df, 'Star type')"
   ]
  },
  {
   "cell_type": "code",
   "execution_count": 11,
   "id": "12523064",
   "metadata": {},
   "outputs": [
    {
     "data": {
      "image/png": "[encoded data removed]",
      "text/plain": [
       "<Figure size 432x288 with 1 Axes>"
      ]
     },
     "metadata": {
      "needs_background": "light"
     },
     "output_type": "display_data"
    },
    {
     "name": "stdout",
     "output_type": "stream",
     "text": [
      "['Red' 'Blue White' 'White' 'Yellowish White' 'Blue white'\n",
      " 'Pale yellow orange' 'Blue' 'Blue-white' 'Whitish' 'yellow-white'\n",
      " 'Orange' 'White-Yellow' 'white' 'Blue ' 'yellowish' 'Yellowish'\n",
      " 'Orange-Red' 'Blue white ' 'Blue-White']\n"
     ]
    }
   ],
   "source": [
    "plot_column_diagram(df, 'Star color')"
   ]
  },
  {
   "cell_type": "markdown",
   "id": "simple-subdivision",
   "metadata": {},
   "source": [
    "## Предобработка и анализ данных"
   ]
  },
  {
   "cell_type": "code",
   "execution_count": 12,
   "id": "flush-dream",
   "metadata": {},
   "outputs": [],
   "source": [
    "df.rename(columns={\n",
    "    'Temperature (K)': 'temperature',\n",
    "    'Luminosity(L/Lo)': 'luminosity',\n",
    "    'Radius(R/Ro)': 'radius',\n",
    "    'Absolute magnitude(Mv)': 'magnitude',\n",
    "    'Star type': 'star_type',\n",
    "    'Star color': 'color'\n",
    "}, inplace=True)"
   ]
  },
  {
   "cell_type": "code",
   "execution_count": 13,
   "id": "a92c873c",
   "metadata": {},
   "outputs": [],
   "source": [
    "df['color'] = df['color'].str.strip().str.lower().replace(regex=r'\\s', value='-')"
   ]
  },
  {
   "cell_type": "code",
   "execution_count": 14,
   "id": "8f791c22",
   "metadata": {},
   "outputs": [],
   "source": [
    "df['color'] = df['color'].replace(['yellow-white', 'yellowish-white'], 'white-yellow')"
   ]
  },
  {
   "cell_type": "code",
   "execution_count": 15,
   "id": "5aaa8fc2",
   "metadata": {},
   "outputs": [],
   "source": [
    "df['color'] = df['color'].replace(['whitish'], 'white')"
   ]
  },
  {
   "cell_type": "code",
   "execution_count": 16,
   "id": "9eb97938",
   "metadata": {},
   "outputs": [
    {
     "data": {
      "image/png": "[encoded data removed]",
      "text/plain": [
       "<Figure size 432x288 with 1 Axes>"
      ]
     },
     "metadata": {
      "needs_background": "light"
     },
     "output_type": "display_data"
    },
    {
     "name": "stdout",
     "output_type": "stream",
     "text": [
      "['red' 'blue-white' 'white' 'white-yellow' 'pale-yellow-orange' 'blue'\n",
      " 'orange' 'yellowish' 'orange-red']\n"
     ]
    }
   ],
   "source": [
    "plot_column_diagram(df, 'color')"
   ]
  },
  {
   "cell_type": "code",
   "execution_count": 17,
   "id": "a706e1bc",
   "metadata": {},
   "outputs": [],
   "source": [
    "explore_data = check_df(df)"
   ]
  },
  {
   "cell_type": "code",
   "execution_count": 18,
   "id": "e0c9c8cc",
   "metadata": {},
   "outputs": [
    {
     "data": {
      "text/html": [
       "<div>\n",
       "<style scoped>\n",
       "    .dataframe tbody tr th:only-of-type {\n",
       "        vertical-align: middle;\n",
       "    }\n",
       "\n",
       "    .dataframe tbody tr th {\n",
       "        vertical-align: top;\n",
       "    }\n",
       "\n",
       "    .dataframe thead th {\n",
       "        text-align: right;\n",
       "    }\n",
       "</style>\n",
       "<table border=\"1\" class=\"dataframe\">\n",
       "  <thead>\n",
       "    <tr style=\"text-align: right;\">\n",
       "      <th></th>\n",
       "      <th>column</th>\n",
       "      <th>empty</th>\n",
       "      <th>duplicated</th>\n",
       "      <th>distinct</th>\n",
       "    </tr>\n",
       "  </thead>\n",
       "  <tbody>\n",
       "    <tr>\n",
       "      <th>0</th>\n",
       "      <td>temperature</td>\n",
       "      <td>0</td>\n",
       "      <td>0</td>\n",
       "      <td>228</td>\n",
       "    </tr>\n",
       "    <tr>\n",
       "      <th>1</th>\n",
       "      <td>luminosity</td>\n",
       "      <td>0</td>\n",
       "      <td>0</td>\n",
       "      <td>208</td>\n",
       "    </tr>\n",
       "    <tr>\n",
       "      <th>2</th>\n",
       "      <td>radius</td>\n",
       "      <td>0</td>\n",
       "      <td>0</td>\n",
       "      <td>216</td>\n",
       "    </tr>\n",
       "    <tr>\n",
       "      <th>3</th>\n",
       "      <td>magnitude</td>\n",
       "      <td>0</td>\n",
       "      <td>0</td>\n",
       "      <td>228</td>\n",
       "    </tr>\n",
       "    <tr>\n",
       "      <th>4</th>\n",
       "      <td>star_type</td>\n",
       "      <td>0</td>\n",
       "      <td>0</td>\n",
       "      <td>6</td>\n",
       "    </tr>\n",
       "    <tr>\n",
       "      <th>5</th>\n",
       "      <td>color</td>\n",
       "      <td>0</td>\n",
       "      <td>0</td>\n",
       "      <td>9</td>\n",
       "    </tr>\n",
       "  </tbody>\n",
       "</table>\n",
       "</div>"
      ],
      "text/plain": [
       "        column  empty  duplicated  distinct\n",
       "0  temperature      0           0       228\n",
       "1   luminosity      0           0       208\n",
       "2       radius      0           0       216\n",
       "3    magnitude      0           0       228\n",
       "4    star_type      0           0         6\n",
       "5        color      0           0         9"
      ]
     },
     "metadata": {},
     "output_type": "display_data"
    }
   ],
   "source": [
    "display(explore_data)"
   ]
  },
  {
   "cell_type": "code",
   "execution_count": 19,
   "id": "b97f0cb9",
   "metadata": {
    "scrolled": true
   },
   "outputs": [
    {
     "name": "stderr",
     "output_type": "stream",
     "text": [
      "/opt/conda/lib/python3.9/site-packages/sklearn/preprocessing/_encoders.py:227: UserWarning: Found unknown categories in columns [0] during transform. These unknown categories will be encoded as all zeros\n",
      "  warnings.warn(\n"
     ]
    }
   ],
   "source": [
    "X = df.drop(['temperature'], axis=1)\n",
    "y = df['temperature']\n",
    "\n",
    "X_train, X_temp, y_train, y_temp = train_test_split(X, y, test_size=0.3, random_state=SEED)\n",
    "X_val, X_test, y_val, y_test = train_test_split(X_temp, y_temp, test_size=0.5, random_state=SEED)\n",
    "\n",
    "numeric = X.select_dtypes(include=['float64', 'int64']).columns\n",
    "categorical = X.select_dtypes(include=['object']).columns\n",
    "\n",
    "\n",
    "numeric_transformer = StandardScaler()\n",
    "categorical_transformer = OneHotEncoder(sparse_output=False, drop='first', handle_unknown='ignore')\n",
    "\n",
    "preprocessor = ColumnTransformer(\n",
    "    transformers=[\n",
    "        ('scaler', numeric_transformer, numeric),\n",
    "        ('ohe', categorical_transformer, categorical)\n",
    "    ],\n",
    "    remainder=\"passthrough\"\n",
    ")\n",
    "\n",
    "X_train_processed = preprocessor.fit_transform(X_train)\n",
    "X_val_processed = preprocessor.transform(X_val)\n",
    "X_test_processed = preprocessor.transform(X_test)"
   ]
  },
  {
   "cell_type": "code",
   "execution_count": 20,
   "id": "7cc84dc7",
   "metadata": {},
   "outputs": [],
   "source": [
    "y_train = y_train.values.reshape(-1, 1).astype(np.float32)\n",
    "y_val = y_val.values.reshape(-1, 1).astype(np.float32)"
   ]
  },
  {
   "cell_type": "markdown",
   "id": "144b4887",
   "metadata": {},
   "source": [
    "Создание класса для набора данных"
   ]
  },
  {
   "cell_type": "code",
   "execution_count": 21,
   "id": "812ee3f0",
   "metadata": {},
   "outputs": [],
   "source": [
    "class StarDataset(Dataset):\n",
    "    def __init__(self, features, targets):\n",
    "        self.features = features\n",
    "        self.targets = targets\n",
    "    \n",
    "    def __len__(self):\n",
    "        return len(self.features)\n",
    "    \n",
    "    def __getitem__(self, idx):\n",
    "        return self.features[idx], self.targets[idx]"
   ]
  },
  {
   "cell_type": "markdown",
   "id": "funded-electric",
   "metadata": {},
   "source": [
    "## Построение базовой нейронной сети"
   ]
  },
  {
   "cell_type": "markdown",
   "id": "7b95f81d",
   "metadata": {},
   "source": [
    "Создание модели нейронной сети"
   ]
  },
  {
   "cell_type": "code",
   "execution_count": 22,
   "id": "3b5c4516",
   "metadata": {},
   "outputs": [],
   "source": [
    "class NeuralNet(nn.Module):\n",
    "    def __init__(self, input_size, hidden_size1, hidden_size2):\n",
    "        super(NeuralNet, self).__init__()\n",
    "        self.fc1 = nn.Linear(input_size, hidden_size1)\n",
    "        self.relu1 = nn.ReLU()\n",
    "        self.fc2 = nn.Linear(hidden_size1, hidden_size2)\n",
    "        self.relu2 = nn.ReLU()\n",
    "        self.fc3 = nn.Linear(hidden_size2, 1)\n",
    "    \n",
    "    def forward(self, x):\n",
    "        x = self.relu1(self.fc1(x))\n",
    "        x = self.relu2(self.fc2(x))\n",
    "        x = self.fc3(x)\n",
    "        return x"
   ]
  },
  {
   "cell_type": "markdown",
   "id": "9d54cd7a",
   "metadata": {},
   "source": [
    "Создание датасетов и загрузчиков данных"
   ]
  },
  {
   "cell_type": "code",
   "execution_count": 23,
   "id": "251740a8",
   "metadata": {},
   "outputs": [],
   "source": [
    "train_dataset = StarDataset(torch.tensor(X_train_processed, dtype=torch.float32), torch.tensor(y_train, dtype=torch.float32).view(-1, 1))"
   ]
  },
  {
   "cell_type": "code",
   "execution_count": 24,
   "id": "2dab3a80",
   "metadata": {},
   "outputs": [],
   "source": [
    "val_dataset = StarDataset(torch.tensor(X_val_processed, dtype=torch.float32), torch.tensor(y_val, dtype=torch.float32).view(-1, 1))"
   ]
  },
  {
   "cell_type": "code",
   "execution_count": 25,
   "id": "07111d0e",
   "metadata": {},
   "outputs": [],
   "source": [
    "test_dataset = StarDataset(torch.tensor(X_test_processed, dtype=torch.float32), torch.tensor(y_test, dtype=torch.float32).view(-1, 1))"
   ]
  },
  {
   "cell_type": "code",
   "execution_count": 26,
   "id": "d277c788",
   "metadata": {},
   "outputs": [],
   "source": [
    "train_loader = DataLoader(train_dataset, batch_size=64, shuffle=True)"
   ]
  },
  {
   "cell_type": "code",
   "execution_count": 27,
   "id": "7a0d873d",
   "metadata": {},
   "outputs": [],
   "source": [
    "val_loader = DataLoader(val_dataset, batch_size=64, shuffle=False)"
   ]
  },
  {
   "cell_type": "code",
   "execution_count": 28,
   "id": "e88dfcb6",
   "metadata": {},
   "outputs": [],
   "source": [
    "test_loader = DataLoader(test_dataset, batch_size=64, shuffle=False)"
   ]
  },
  {
   "cell_type": "markdown",
   "id": "e9f95a99",
   "metadata": {},
   "source": [
    "Обучение модели"
   ]
  },
  {
   "cell_type": "code",
   "execution_count": 29,
   "id": "25699d5a",
   "metadata": {},
   "outputs": [],
   "source": [
    "def rmse(y_true, y_pred):\n",
    "    return mean_squared_error(y_true, y_pred, squared=False)"
   ]
  },
  {
   "cell_type": "code",
   "execution_count": 30,
   "id": "1d75479a",
   "metadata": {},
   "outputs": [],
   "source": [
    "def train(model, train_loader, val_loader, test_loader, num_epochs=10, learning_rate=0.001):\n",
    "    criterion = nn.MSELoss()\n",
    "    optimizer = torch.optim.Adam(model.parameters(), lr=learning_rate)\n",
    "    #early_stopping = EarlyStopping(patience=20)\n",
    "\n",
    "    for epoch in range(num_epochs):\n",
    "        model.train()\n",
    "        train_loss = 0.0\n",
    "        \n",
    "        for inputs, targets in train_loader:\n",
    "            optimizer.zero_grad()\n",
    "            outputs = model(inputs)\n",
    "            loss = criterion(outputs, targets)\n",
    "            loss.backward()\n",
    "            optimizer.step()\n",
    "            train_loss += loss.item()\n",
    "        \n",
    "        train_loss /= len(train_loader)\n",
    "        \n",
    "        if epoch % 100 == 0:\n",
    "            model.eval()\n",
    "            val_loss = 0.0\n",
    "            \n",
    "            with torch.no_grad():\n",
    "                for inputs, targets in val_loader:\n",
    "                    outputs = model(inputs)\n",
    "                    loss = criterion(outputs, targets)\n",
    "                    val_loss += loss.item()\n",
    "            \n",
    "            val_loss /= len(val_loader)\n",
    "            \n",
    "            print(f\"Epoch [{epoch+1}/{num_epochs}] - Train Loss: {train_loss:.4f}, Val Loss: {val_loss:.4f}\")\n",
    "            \n",
    "            #early_stopping.on_epoch_end(net=model, **{'valid_loss': val_loss}) \n",
    "\n",
    "            #if early_stopping.early_stop:\n",
    "            #    print(\"Early stopping\")\n",
    "            #    break\n",
    "                \n",
    "            test_loss = 0.0\n",
    "            forecast_temperatures = []\n",
    "            fact_temperatures = []\n",
    "\n",
    "            with torch.no_grad():\n",
    "                for inputs, targets in test_loader:\n",
    "                    outputs = model(inputs)\n",
    "                    loss = criterion(outputs, targets)\n",
    "                    test_loss += loss.item()\n",
    "                    forecast_temperatures.extend(outputs.cpu().numpy())\n",
    "                    fact_temperatures.extend(targets.cpu().numpy())\n",
    "\n",
    "            test_loss /= len(test_loader)\n",
    "            rmse_value = rmse(fact_temperatures, forecast_temperatures)\n",
    "            print(f\"RMSE: {rmse_value:.4f}\")\n",
    "\n",
    "            x = np.arange(len(fact_temperatures))\n",
    "            y1 = np.array(forecast_temperatures).flatten()\n",
    "            y2 = np.array(fact_temperatures).flatten()\n",
    "\n",
    "            fig, ax = plt.subplots(figsize=(17, 9))\n",
    "            ax.set_xticks(x)\n",
    "\n",
    "            fact = ax.bar(x, y2, width=0.8, label='Факт', color='black')\n",
    "            forecast = ax.bar(x, y1, width=0.3, label='Прогноз', color='red')\n",
    "            ax.legend()\n",
    "            ax.set_title('График \"Факт-прогноз\"')\n",
    "            ax.set_xlabel('№ звезды')\n",
    "            ax.set_ylabel('Температура звезды')\n",
    "            plt.show()"
   ]
  },
  {
   "cell_type": "markdown",
   "id": "0324142c",
   "metadata": {},
   "source": [
    "Создание и обучение модели"
   ]
  },
  {
   "cell_type": "code",
   "execution_count": 31,
   "id": "a4fb68b6",
   "metadata": {
    "scrolled": false
   },
   "outputs": [
    {
     "name": "stdout",
     "output_type": "stream",
     "text": [
      "Epoch [1/2000] - Train Loss: 220970730.6667, Val Loss: 145083968.0000\n",
      "RMSE: 12247.5879\n"
     ]
    },
    {
     "data": {
      "image/png": "[encoded data removed]",
      "text/plain": [
       "<Figure size 1224x648 with 1 Axes>"
      ]
     },
     "metadata": {
      "needs_background": "light"
     },
     "output_type": "display_data"
    },
    {
     "name": "stdout",
     "output_type": "stream",
     "text": [
      "Epoch [101/2000] - Train Loss: 203891360.0000, Val Loss: 135421904.0000\n",
      "RMSE: 11932.8271\n"
     ]
    },
    {
     "data": {
      "image/png": "[encoded data removed]",
      "text/plain": [
       "<Figure size 1224x648 with 1 Axes>"
      ]
     },
     "metadata": {
      "needs_background": "light"
     },
     "output_type": "display_data"
    },
    {
     "name": "stdout",
     "output_type": "stream",
     "text": [
      "Epoch [201/2000] - Train Loss: 157837917.3333, Val Loss: 88008768.0000\n",
      "RMSE: 10520.9492\n"
     ]
    },
    {
     "data": {
      "image/png": "[encoded data removed]",
      "text/plain": [
       "<Figure size 1224x648 with 1 Axes>"
      ]
     },
     "metadata": {
      "needs_background": "light"
     },
     "output_type": "display_data"
    },
    {
     "name": "stdout",
     "output_type": "stream",
     "text": [
      "Epoch [301/2000] - Train Loss: 99119117.3333, Val Loss: 57023464.0000\n",
      "RMSE: 10044.8740\n"
     ]
    },
    {
     "data": {
      "image/png": "[encoded data removed]",
      "text/plain": [
       "<Figure size 1224x648 with 1 Axes>"
      ]
     },
     "metadata": {
      "needs_background": "light"
     },
     "output_type": "display_data"
    },
    {
     "name": "stdout",
     "output_type": "stream",
     "text": [
      "Epoch [401/2000] - Train Loss: 81819438.6667, Val Loss: 45712408.0000\n",
      "RMSE: 9457.8203\n"
     ]
    },
    {
     "data": {
      "image/png": "[encoded data removed]",
      "text/plain": [
       "<Figure size 1224x648 with 1 Axes>"
      ]
     },
     "metadata": {
      "needs_background": "light"
     },
     "output_type": "display_data"
    },
    {
     "name": "stdout",
     "output_type": "stream",
     "text": [
      "Epoch [501/2000] - Train Loss: 67235570.6667, Val Loss: 38186288.0000\n",
      "RMSE: 8530.8818\n"
     ]
    },
    {
     "data": {
      "image/png": "[encoded data removed]",
      "text/plain": [
       "<Figure size 1224x648 with 1 Axes>"
      ]
     },
     "metadata": {
      "needs_background": "light"
     },
     "output_type": "display_data"
    },
    {
     "name": "stdout",
     "output_type": "stream",
     "text": [
      "Epoch [601/2000] - Train Loss: 57784424.0000, Val Loss: 33180536.0000\n",
      "RMSE: 7738.9805\n"
     ]
    },
    {
     "data": {
      "image/png": "[encoded data removed]",
      "text/plain": [
       "<Figure size 1224x648 with 1 Axes>"
      ]
     },
     "metadata": {
      "needs_background": "light"
     },
     "output_type": "display_data"
    },
    {
     "name": "stdout",
     "output_type": "stream",
     "text": [
      "Epoch [701/2000] - Train Loss: 54831646.6667, Val Loss: 30155822.0000\n",
      "RMSE: 7283.8354\n"
     ]
    },
    {
     "data": {
      "image/png": "[encoded data removed]",
      "text/plain": [
       "<Figure size 1224x648 with 1 Axes>"
      ]
     },
     "metadata": {
      "needs_background": "light"
     },
     "output_type": "display_data"
    },
    {
     "name": "stdout",
     "output_type": "stream",
     "text": [
      "Epoch [801/2000] - Train Loss: 50705341.3333, Val Loss: 27914550.0000\n",
      "RMSE: 7066.4897\n"
     ]
    },
    {
     "data": {
      "image/png": "[encoded data removed]",
      "text/plain": [
       "<Figure size 1224x648 with 1 Axes>"
      ]
     },
     "metadata": {
      "needs_background": "light"
     },
     "output_type": "display_data"
    },
    {
     "name": "stdout",
     "output_type": "stream",
     "text": [
      "Epoch [901/2000] - Train Loss: 51395353.3333, Val Loss: 26122312.0000\n",
      "RMSE: 6937.7793\n"
     ]
    },
    {
     "data": {
      "image/png": "[encoded data removed]",
      "text/plain": [
       "<Figure size 1224x648 with 1 Axes>"
      ]
     },
     "metadata": {
      "needs_background": "light"
     },
     "output_type": "display_data"
    },
    {
     "name": "stdout",
     "output_type": "stream",
     "text": [
      "Epoch [1001/2000] - Train Loss: 42934466.6667, Val Loss: 24667168.0000\n",
      "RMSE: 6879.9951\n"
     ]
    },
    {
     "data": {
      "image/png": "[encoded data removed]",
      "text/plain": [
       "<Figure size 1224x648 with 1 Axes>"
      ]
     },
     "metadata": {
      "needs_background": "light"
     },
     "output_type": "display_data"
    },
    {
     "name": "stdout",
     "output_type": "stream",
     "text": [
      "Epoch [1101/2000] - Train Loss: 42814706.0000, Val Loss: 23380764.0000\n",
      "RMSE: 6848.9209\n"
     ]
    },
    {
     "data": {
      "image/png": "[encoded data removed]",
      "text/plain": [
       "<Figure size 1224x648 with 1 Axes>"
      ]
     },
     "metadata": {
      "needs_background": "light"
     },
     "output_type": "display_data"
    },
    {
     "name": "stdout",
     "output_type": "stream",
     "text": [
      "Epoch [1201/2000] - Train Loss: 37939013.3333, Val Loss: 22277464.0000\n",
      "RMSE: 6889.2070\n"
     ]
    },
    {
     "data": {
      "image/png": "[encoded data removed]",
      "text/plain": [
       "<Figure size 1224x648 with 1 Axes>"
      ]
     },
     "metadata": {
      "needs_background": "light"
     },
     "output_type": "display_data"
    },
    {
     "name": "stdout",
     "output_type": "stream",
     "text": [
      "Epoch [1301/2000] - Train Loss: 36014893.3333, Val Loss: 21383572.0000\n",
      "RMSE: 6945.6401\n"
     ]
    },
    {
     "data": {
      "image/png": "[encoded data removed]",
      "text/plain": [
       "<Figure size 1224x648 with 1 Axes>"
      ]
     },
     "metadata": {
      "needs_background": "light"
     },
     "output_type": "display_data"
    },
    {
     "name": "stdout",
     "output_type": "stream",
     "text": [
      "Epoch [1401/2000] - Train Loss: 33693450.0000, Val Loss: 20710742.0000\n",
      "RMSE: 7067.5054\n"
     ]
    },
    {
     "data": {
      "image/png": "[encoded data removed]",
      "text/plain": [
       "<Figure size 1224x648 with 1 Axes>"
      ]
     },
     "metadata": {
      "needs_background": "light"
     },
     "output_type": "display_data"
    },
    {
     "name": "stdout",
     "output_type": "stream",
     "text": [
      "Epoch [1501/2000] - Train Loss: 31313734.6667, Val Loss: 20159304.0000\n",
      "RMSE: 7214.5698\n"
     ]
    },
    {
     "data": {
      "image/png": "[encoded data removed]",
      "text/plain": [
       "<Figure size 1224x648 with 1 Axes>"
      ]
     },
     "metadata": {
      "needs_background": "light"
     },
     "output_type": "display_data"
    },
    {
     "name": "stdout",
     "output_type": "stream",
     "text": [
      "Epoch [1601/2000] - Train Loss: 30447856.0000, Val Loss: 19622040.0000\n",
      "RMSE: 7305.1558\n"
     ]
    },
    {
     "data": {
      "image/png": "[encoded data removed]",
      "text/plain": [
       "<Figure size 1224x648 with 1 Axes>"
      ]
     },
     "metadata": {
      "needs_background": "light"
     },
     "output_type": "display_data"
    },
    {
     "name": "stdout",
     "output_type": "stream",
     "text": [
      "Epoch [1701/2000] - Train Loss: 29059220.0000, Val Loss: 19353768.0000\n",
      "RMSE: 7435.2930\n"
     ]
    },
    {
     "data": {
      "image/png": "[encoded data removed]",
      "text/plain": [
       "<Figure size 1224x648 with 1 Axes>"
      ]
     },
     "metadata": {
      "needs_background": "light"
     },
     "output_type": "display_data"
    },
    {
     "name": "stdout",
     "output_type": "stream",
     "text": [
      "Epoch [1801/2000] - Train Loss: 27437956.6667, Val Loss: 19169050.0000\n",
      "RMSE: 7579.7114\n"
     ]
    },
    {
     "data": {
      "image/png": "[encoded data removed]",
      "text/plain": [
       "<Figure size 1224x648 with 1 Axes>"
      ]
     },
     "metadata": {
      "needs_background": "light"
     },
     "output_type": "display_data"
    },
    {
     "name": "stdout",
     "output_type": "stream",
     "text": [
      "Epoch [1901/2000] - Train Loss: 25330914.6667, Val Loss: 19007058.0000\n",
      "RMSE: 7665.0635\n"
     ]
    },
    {
     "data": {
      "image/png": "[encoded data removed]",
      "text/plain": [
       "<Figure size 1224x648 with 1 Axes>"
      ]
     },
     "metadata": {
      "needs_background": "light"
     },
     "output_type": "display_data"
    }
   ],
   "source": [
    "input_size = X_train_processed.shape[1]\n",
    "hidden_size1 = 64\n",
    "hidden_size2 = 32\n",
    "\n",
    "model = NeuralNet(input_size, hidden_size1, hidden_size2)\n",
    "model.float()\n",
    "train(model, train_loader, val_loader, test_loader, num_epochs=2000, learning_rate=0.001)"
   ]
  },
  {
   "cell_type": "markdown",
   "id": "8561c58b",
   "metadata": {},
   "source": [
    "Тестирование модели"
   ]
  },
  {
   "cell_type": "code",
   "execution_count": 32,
   "id": "78f916b9",
   "metadata": {},
   "outputs": [],
   "source": [
    "def test(model, test_loader, criterion):\n",
    "    model.eval()\n",
    "    test_loss = 0.0\n",
    "    forecast_temperatures = []\n",
    "    fact_temperatures = []\n",
    "    \n",
    "    with torch.no_grad():\n",
    "        for inputs, targets in test_loader:\n",
    "            outputs = model(inputs)\n",
    "            loss = criterion(outputs, targets)\n",
    "            test_loss += loss.item()\n",
    "            \n",
    "            forecast_temperatures.extend(outputs.cpu().numpy().flatten())\n",
    "            fact_temperatures.extend(targets.cpu().numpy().flatten())\n",
    "    \n",
    "    test_loss /= len(test_loader)\n",
    "    \n",
    "    # RMSE\n",
    "    rmse_value = rmse(fact_temperatures, forecast_temperatures)\n",
    "    # RMSE\n",
    "    \n",
    "    print(f\"Test Loss: {test_loss:.4f}, Test RMSE: {rmse_value:.4f}\")\n",
    "\n",
    "    x = np.arange(len(fact_temperatures))\n",
    "    y1 = np.array(forecast_temperatures).flatten()\n",
    "    y2 = np.array(fact_temperatures).flatten()\n",
    "\n",
    "    fig, ax = plt.subplots(figsize=(17, 9))\n",
    "    ax.set_xticks(x)\n",
    "\n",
    "    ax.bar(x, y2, width=0.8, label='Факт', color='black')\n",
    "    ax.bar(x, y1, width=0.3, label='Прогноз', color='red')\n",
    "    \n",
    "    ax.legend()\n",
    "    ax.set_title('График \"Факт-прогноз\"')\n",
    "    ax.set_xlabel('№ звезды')\n",
    "    ax.set_ylabel('Температура звезды')\n",
    "    plt.show()"
   ]
  },
  {
   "cell_type": "code",
   "execution_count": 33,
   "id": "97dd0a35",
   "metadata": {},
   "outputs": [
    {
     "name": "stdout",
     "output_type": "stream",
     "text": [
      "Test Loss: 60403400.0000, Test RMSE: 7771.9629\n"
     ]
    },
    {
     "data": {
      "image/png": "[encoded data removed]",
      "text/plain": [
       "<Figure size 1224x648 with 1 Axes>"
      ]
     },
     "metadata": {
      "needs_background": "light"
     },
     "output_type": "display_data"
    }
   ],
   "source": [
    "criterion = nn.MSELoss()\n",
    "test(model, test_loader, criterion)"
   ]
  },
  {
   "cell_type": "markdown",
   "id": "growing-supply",
   "metadata": {},
   "source": [
    "## Улучшение нейронной сети"
   ]
  },
  {
   "cell_type": "code",
   "execution_count": 34,
   "id": "8fd95e47",
   "metadata": {},
   "outputs": [],
   "source": [
    "class Model_improve(nn.Module):\n",
    "    def __init__(self, n_in_neurons, n_hidden_neurons_1, n_hidden_neurons_2, n_out_neurons, \n",
    "                 dropout_1, dropout_2, activation_1, activation_2):\n",
    "        super(Model_improve, self).__init__()\n",
    "\n",
    "        self.fc1 = nn.Linear(n_in_neurons, n_hidden_neurons_1, bias=True).float()\n",
    "        self.a1 = activation_1\n",
    "        self.drop1 = nn.Dropout(dropout_1)\n",
    "\n",
    "        self.fc2 = nn.Linear(n_hidden_neurons_1, n_hidden_neurons_2, bias=True).float()\n",
    "        self.a2 = activation_2\n",
    "        self.drop2 = nn.Dropout(dropout_2)\n",
    "\n",
    "        self.fc3 = nn.Linear(n_hidden_neurons_2, n_out_neurons, bias=True).float()\n",
    "\n",
    "    def forward(self, x):\n",
    "        x = self.drop1(self.a1(self.fc1(x.float())))\n",
    "        x = self.drop2(self.a2(self.fc2(x.float())))\n",
    "        x =self.fc3(x)\n",
    "        return x  "
   ]
  },
  {
   "cell_type": "markdown",
   "id": "ed63134b",
   "metadata": {},
   "source": [
    "Определение гиперпараметров для подбора"
   ]
  },
  {
   "cell_type": "code",
   "execution_count": 35,
   "id": "d97cd5cc",
   "metadata": {},
   "outputs": [],
   "source": [
    "params = {\n",
    "    'module__dropout_1': [0, 0.1],\n",
    "    'module__dropout_2': [0, 0.1],\n",
    "    'module__n_hidden_neurons_1': range(5, 35, 5),\n",
    "    'module__n_hidden_neurons_2': range(5, 35, 5),\n",
    "    'module__activation_1': [nn.ReLU(), nn.ReLU()],\n",
    "    'module__activation_2': [nn.ReLU(), nn.ReLU()],\n",
    "    'module__n_in_neurons': [X_train_processed.shape[1]],\n",
    "    'module__n_out_neurons': [1]\n",
    "}"
   ]
  },
  {
   "cell_type": "markdown",
   "id": "38d3c62b",
   "metadata": {},
   "source": [
    "Определение RMSE скорера"
   ]
  },
  {
   "cell_type": "code",
   "execution_count": 36,
   "id": "0286d0c4",
   "metadata": {},
   "outputs": [],
   "source": [
    "rmse_scorer = make_scorer(rmse)"
   ]
  },
  {
   "cell_type": "markdown",
   "id": "3e379987",
   "metadata": {},
   "source": [
    "Создание экземпляра улучшенной нейросети"
   ]
  },
  {
   "cell_type": "code",
   "execution_count": 37,
   "id": "17ced9bf",
   "metadata": {
    "scrolled": false
   },
   "outputs": [],
   "source": [
    "skorch_regressor = NeuralNetRegressor(module=Model_improve, \n",
    "                                      device='cpu',  \n",
    "                                      verbose=0,\n",
    "                                      batch_size=32,\n",
    "                                      optimizer=torch.optim.Adam, \n",
    "                                      max_epochs=10000, \n",
    "                                      lr=1e-3,\n",
    "                                      train_split=ValidSplit(cv=5),\n",
    "                                      criterion =nn.MSELoss,\n",
    "                                      callbacks=[\n",
    "                ('val_rmse', EpochScoring(scoring=rmse_scorer, lower_is_better=True, name='RMSE')),\n",
    "                ('estoper', EarlyStopping( lower_is_better=True, monitor='RMSE', patience=60)),\n",
    "            ],\n",
    "                                     )"
   ]
  },
  {
   "cell_type": "markdown",
   "id": "2d765dfa",
   "metadata": {},
   "source": [
    "Объединим обучающую выборку с валидационной"
   ]
  },
  {
   "cell_type": "code",
   "execution_count": 38,
   "id": "e41e5d85",
   "metadata": {},
   "outputs": [],
   "source": [
    "X_train_val_processed = np.concatenate([X_train_processed, X_val_processed])"
   ]
  },
  {
   "cell_type": "code",
   "execution_count": 39,
   "id": "e40f5103",
   "metadata": {},
   "outputs": [],
   "source": [
    "y_train_val = np.concatenate([y_train, y_val])"
   ]
  },
  {
   "cell_type": "code",
   "execution_count": 40,
   "id": "b4f3d13e",
   "metadata": {},
   "outputs": [],
   "source": [
    "train_val_dataset = StarDataset(torch.tensor(X_train_val_processed, dtype=torch.float32), torch.tensor(y_train_val, dtype=torch.float32).view(-1, 1))"
   ]
  },
  {
   "cell_type": "code",
   "execution_count": 41,
   "id": "af7c7841",
   "metadata": {},
   "outputs": [],
   "source": [
    "grid = RandomizedSearchCV(\n",
    "    skorch_regressor,\n",
    "    params,\n",
    "    n_jobs=-1,\n",
    "    cv=3,\n",
    "    scoring=\"neg_root_mean_squared_error\",\n",
    "    verbose=3\n",
    ")"
   ]
  },
  {
   "cell_type": "code",
   "execution_count": 42,
   "id": "2de8a90d",
   "metadata": {
    "scrolled": false
   },
   "outputs": [
    {
     "name": "stdout",
     "output_type": "stream",
     "text": [
      "Fitting 3 folds for each of 10 candidates, totalling 30 fits\n",
      "[CV 1/3] END module__activation_1=ReLU(), module__activation_2=ReLU(), module__dropout_1=0.1, module__dropout_2=0.1, module__n_hidden_neurons_1=15, module__n_hidden_neurons_2=20, module__n_in_neurons=10, module__n_out_neurons=1;, score=-6616.080 total time=  26.3s\n",
      "[CV 2/3] END module__activation_1=ReLU(), module__activation_2=ReLU(), module__dropout_1=0.1, module__dropout_2=0.1, module__n_hidden_neurons_1=15, module__n_hidden_neurons_2=20, module__n_in_neurons=10, module__n_out_neurons=1;, score=-6178.027 total time=  21.2s\n",
      "[CV 3/3] END module__activation_1=ReLU(), module__activation_2=ReLU(), module__dropout_1=0.1, module__dropout_2=0.1, module__n_hidden_neurons_1=15, module__n_hidden_neurons_2=20, module__n_in_neurons=10, module__n_out_neurons=1;, score=-5011.041 total time=  22.3s\n",
      "[CV 1/3] END module__activation_1=ReLU(), module__activation_2=ReLU(), module__dropout_1=0.1, module__dropout_2=0, module__n_hidden_neurons_1=25, module__n_hidden_neurons_2=20, module__n_in_neurons=10, module__n_out_neurons=1;, score=-7305.984 total time=  23.7s\n",
      "[CV 2/3] END module__activation_1=ReLU(), module__activation_2=ReLU(), module__dropout_1=0.1, module__dropout_2=0, module__n_hidden_neurons_1=25, module__n_hidden_neurons_2=20, module__n_in_neurons=10, module__n_out_neurons=1;, score=-5542.718 total time=  25.7s\n",
      "[CV 3/3] END module__activation_1=ReLU(), module__activation_2=ReLU(), module__dropout_1=0.1, module__dropout_2=0, module__n_hidden_neurons_1=25, module__n_hidden_neurons_2=20, module__n_in_neurons=10, module__n_out_neurons=1;, score=-4719.140 total time=  23.3s\n",
      "[CV 1/3] END module__activation_1=ReLU(), module__activation_2=ReLU(), module__dropout_1=0, module__dropout_2=0.1, module__n_hidden_neurons_1=15, module__n_hidden_neurons_2=30, module__n_in_neurons=10, module__n_out_neurons=1;, score=-6840.540 total time= 1.2min\n",
      "[CV 2/3] END module__activation_1=ReLU(), module__activation_2=ReLU(), module__dropout_1=0, module__dropout_2=0.1, module__n_hidden_neurons_1=15, module__n_hidden_neurons_2=30, module__n_in_neurons=10, module__n_out_neurons=1;, score=-5791.390 total time= 1.2min\n",
      "[CV 3/3] END module__activation_1=ReLU(), module__activation_2=ReLU(), module__dropout_1=0, module__dropout_2=0.1, module__n_hidden_neurons_1=15, module__n_hidden_neurons_2=30, module__n_in_neurons=10, module__n_out_neurons=1;, score=-4663.595 total time= 1.1min\n",
      "[CV 1/3] END module__activation_1=ReLU(), module__activation_2=ReLU(), module__dropout_1=0.1, module__dropout_2=0, module__n_hidden_neurons_1=25, module__n_hidden_neurons_2=30, module__n_in_neurons=10, module__n_out_neurons=1;, score=-6627.880 total time=  22.3s\n",
      "[CV 2/3] END module__activation_1=ReLU(), module__activation_2=ReLU(), module__dropout_1=0.1, module__dropout_2=0, module__n_hidden_neurons_1=25, module__n_hidden_neurons_2=30, module__n_in_neurons=10, module__n_out_neurons=1;, score=-5680.561 total time=  17.9s\n",
      "[CV 3/3] END module__activation_1=ReLU(), module__activation_2=ReLU(), module__dropout_1=0.1, module__dropout_2=0, module__n_hidden_neurons_1=25, module__n_hidden_neurons_2=30, module__n_in_neurons=10, module__n_out_neurons=1;, score=-4704.200 total time=  19.8s\n",
      "[CV 1/3] END module__activation_1=ReLU(), module__activation_2=ReLU(), module__dropout_1=0.1, module__dropout_2=0.1, module__n_hidden_neurons_1=20, module__n_hidden_neurons_2=25, module__n_in_neurons=10, module__n_out_neurons=1;, score=-7293.199 total time=  24.7s\n",
      "[CV 2/3] END module__activation_1=ReLU(), module__activation_2=ReLU(), module__dropout_1=0.1, module__dropout_2=0.1, module__n_hidden_neurons_1=20, module__n_hidden_neurons_2=25, module__n_in_neurons=10, module__n_out_neurons=1;, score=-5603.164 total time=  22.9s\n",
      "[CV 3/3] END module__activation_1=ReLU(), module__activation_2=ReLU(), module__dropout_1=0.1, module__dropout_2=0.1, module__n_hidden_neurons_1=20, module__n_hidden_neurons_2=25, module__n_in_neurons=10, module__n_out_neurons=1;, score=-4873.116 total time=  23.1s\n",
      "[CV 1/3] END module__activation_1=ReLU(), module__activation_2=ReLU(), module__dropout_1=0, module__dropout_2=0, module__n_hidden_neurons_1=10, module__n_hidden_neurons_2=20, module__n_in_neurons=10, module__n_out_neurons=1;, score=-6565.873 total time= 1.4min\n",
      "[CV 2/3] END module__activation_1=ReLU(), module__activation_2=ReLU(), module__dropout_1=0, module__dropout_2=0, module__n_hidden_neurons_1=10, module__n_hidden_neurons_2=20, module__n_in_neurons=10, module__n_out_neurons=1;, score=-4589.942 total time= 1.6min\n",
      "[CV 3/3] END module__activation_1=ReLU(), module__activation_2=ReLU(), module__dropout_1=0, module__dropout_2=0, module__n_hidden_neurons_1=10, module__n_hidden_neurons_2=20, module__n_in_neurons=10, module__n_out_neurons=1;, score=-5144.756 total time=  48.4s\n",
      "[CV 1/3] END module__activation_1=ReLU(), module__activation_2=ReLU(), module__dropout_1=0, module__dropout_2=0, module__n_hidden_neurons_1=5, module__n_hidden_neurons_2=10, module__n_in_neurons=10, module__n_out_neurons=1;, score=-7315.463 total time=  57.1s\n",
      "[CV 2/3] END module__activation_1=ReLU(), module__activation_2=ReLU(), module__dropout_1=0, module__dropout_2=0, module__n_hidden_neurons_1=5, module__n_hidden_neurons_2=10, module__n_in_neurons=10, module__n_out_neurons=1;, score=-5699.843 total time=  48.2s\n",
      "[CV 3/3] END module__activation_1=ReLU(), module__activation_2=ReLU(), module__dropout_1=0, module__dropout_2=0, module__n_hidden_neurons_1=5, module__n_hidden_neurons_2=10, module__n_in_neurons=10, module__n_out_neurons=1;, score=-14081.276 total time=   0.5s\n",
      "[CV 1/3] END module__activation_1=ReLU(), module__activation_2=ReLU(), module__dropout_1=0, module__dropout_2=0.1, module__n_hidden_neurons_1=10, module__n_hidden_neurons_2=30, module__n_in_neurons=10, module__n_out_neurons=1;, score=-7081.687 total time= 1.5min\n",
      "[CV 2/3] END module__activation_1=ReLU(), module__activation_2=ReLU(), module__dropout_1=0, module__dropout_2=0.1, module__n_hidden_neurons_1=10, module__n_hidden_neurons_2=30, module__n_in_neurons=10, module__n_out_neurons=1;, score=-6106.024 total time= 1.1min\n",
      "[CV 3/3] END module__activation_1=ReLU(), module__activation_2=ReLU(), module__dropout_1=0, module__dropout_2=0.1, module__n_hidden_neurons_1=10, module__n_hidden_neurons_2=30, module__n_in_neurons=10, module__n_out_neurons=1;, score=-4774.612 total time= 1.2min\n",
      "[CV 1/3] END module__activation_1=ReLU(), module__activation_2=ReLU(), module__dropout_1=0.1, module__dropout_2=0.1, module__n_hidden_neurons_1=5, module__n_hidden_neurons_2=5, module__n_in_neurons=10, module__n_out_neurons=1;, score=-15419.517 total time=   0.5s\n",
      "[CV 2/3] END module__activation_1=ReLU(), module__activation_2=ReLU(), module__dropout_1=0.1, module__dropout_2=0.1, module__n_hidden_neurons_1=5, module__n_hidden_neurons_2=5, module__n_in_neurons=10, module__n_out_neurons=1;, score=-13931.534 total time=   0.5s\n",
      "[CV 3/3] END module__activation_1=ReLU(), module__activation_2=ReLU(), module__dropout_1=0.1, module__dropout_2=0.1, module__n_hidden_neurons_1=5, module__n_hidden_neurons_2=5, module__n_in_neurons=10, module__n_out_neurons=1;, score=-14080.529 total time=   0.5s\n",
      "[CV 1/3] END module__activation_1=ReLU(), module__activation_2=ReLU(), module__dropout_1=0.1, module__dropout_2=0, module__n_hidden_neurons_1=25, module__n_hidden_neurons_2=10, module__n_in_neurons=10, module__n_out_neurons=1;, score=-7322.063 total time=  24.5s\n",
      "[CV 2/3] END module__activation_1=ReLU(), module__activation_2=ReLU(), module__dropout_1=0.1, module__dropout_2=0, module__n_hidden_neurons_1=25, module__n_hidden_neurons_2=10, module__n_in_neurons=10, module__n_out_neurons=1;, score=-5728.331 total time=  33.0s\n",
      "[CV 3/3] END module__activation_1=ReLU(), module__activation_2=ReLU(), module__dropout_1=0.1, module__dropout_2=0, module__n_hidden_neurons_1=25, module__n_hidden_neurons_2=10, module__n_in_neurons=10, module__n_out_neurons=1;, score=-4661.968 total time=  36.5s\n"
     ]
    },
    {
     "data": {
      "text/html": [
       "<style>#sk-container-id-1 {color: black;}#sk-container-id-1 pre{padding: 0;}#sk-container-id-1 div.sk-toggleable {background-color: white;}#sk-container-id-1 label.sk-toggleable__label {cursor: pointer;display: block;width: 100%;margin-bottom: 0;padding: 0.3em;box-sizing: border-box;text-align: center;}#sk-container-id-1 label.sk-toggleable__label-arrow:before {content: \"▸\";float: left;margin-right: 0.25em;color: #696969;}#sk-container-id-1 label.sk-toggleable__label-arrow:hover:before {color: black;}#sk-container-id-1 div.sk-estimator:hover label.sk-toggleable__label-arrow:before {color: black;}#sk-container-id-1 div.sk-toggleable__content {max-height: 0;max-width: 0;overflow: hidden;text-align: left;background-color: #f0f8ff;}#sk-container-id-1 div.sk-toggleable__content pre {margin: 0.2em;color: black;border-radius: 0.25em;background-color: #f0f8ff;}#sk-container-id-1 input.sk-toggleable__control:checked~div.sk-toggleable__content {max-height: 200px;max-width: 100%;overflow: auto;}#sk-container-id-1 input.sk-toggleable__control:checked~label.sk-toggleable__label-arrow:before {content: \"▾\";}#sk-container-id-1 div.sk-estimator input.sk-toggleable__control:checked~label.sk-toggleable__label {background-color: #d4ebff;}#sk-container-id-1 div.sk-label input.sk-toggleable__control:checked~label.sk-toggleable__label {background-color: #d4ebff;}#sk-container-id-1 input.sk-hidden--visually {border: 0;clip: rect(1px 1px 1px 1px);clip: rect(1px, 1px, 1px, 1px);height: 1px;margin: -1px;overflow: hidden;padding: 0;position: absolute;width: 1px;}#sk-container-id-1 div.sk-estimator {font-family: monospace;background-color: #f0f8ff;border: 1px dotted black;border-radius: 0.25em;box-sizing: border-box;margin-bottom: 0.5em;}#sk-container-id-1 div.sk-estimator:hover {background-color: #d4ebff;}#sk-container-id-1 div.sk-parallel-item::after {content: \"\";width: 100%;border-bottom: 1px solid gray;flex-grow: 1;}#sk-container-id-1 div.sk-label:hover label.sk-toggleable__label {background-color: #d4ebff;}#sk-container-id-1 div.sk-serial::before {content: \"\";position: absolute;border-left: 1px solid gray;box-sizing: border-box;top: 0;bottom: 0;left: 50%;z-index: 0;}#sk-container-id-1 div.sk-serial {display: flex;flex-direction: column;align-items: center;background-color: white;padding-right: 0.2em;padding-left: 0.2em;position: relative;}#sk-container-id-1 div.sk-item {position: relative;z-index: 1;}#sk-container-id-1 div.sk-parallel {display: flex;align-items: stretch;justify-content: center;background-color: white;position: relative;}#sk-container-id-1 div.sk-item::before, #sk-container-id-1 div.sk-parallel-item::before {content: \"\";position: absolute;border-left: 1px solid gray;box-sizing: border-box;top: 0;bottom: 0;left: 50%;z-index: -1;}#sk-container-id-1 div.sk-parallel-item {display: flex;flex-direction: column;z-index: 1;position: relative;background-color: white;}#sk-container-id-1 div.sk-parallel-item:first-child::after {align-self: flex-end;width: 50%;}#sk-container-id-1 div.sk-parallel-item:last-child::after {align-self: flex-start;width: 50%;}#sk-container-id-1 div.sk-parallel-item:only-child::after {width: 0;}#sk-container-id-1 div.sk-dashed-wrapped {border: 1px dashed gray;margin: 0 0.4em 0.5em 0.4em;box-sizing: border-box;padding-bottom: 0.4em;background-color: white;}#sk-container-id-1 div.sk-label label {font-family: monospace;font-weight: bold;display: inline-block;line-height: 1.2em;}#sk-container-id-1 div.sk-label-container {text-align: center;}#sk-container-id-1 div.sk-container {/* jupyter's `normalize.less` sets `[hidden] { display: none; }` but bootstrap.min.css set `[hidden] { display: none !important; }` so we also need the `!important` here to be able to override the default hidden behavior on the sphinx rendered scikit-learn.org. See: https://github.com/scikit-learn/scikit-learn/issues/21755 */display: inline-block !important;position: relative;}#sk-container-id-1 div.sk-text-repr-fallback {display: none;}</style><div id=\"sk-container-id-1\" class=\"sk-top-container\"><div class=\"sk-text-repr-fallback\"><pre>RandomizedSearchCV(cv=3,\n",
       "                   estimator=&lt;class &#x27;skorch.regressor.NeuralNetRegressor&#x27;&gt;[uninitialized](\n",
       "  module=&lt;class &#x27;__main__.Model_improve&#x27;&gt;,\n",
       "),\n",
       "                   n_jobs=-1,\n",
       "                   param_distributions={&#x27;module__activation_1&#x27;: [ReLU(),\n",
       "                                                                 ReLU()],\n",
       "                                        &#x27;module__activation_2&#x27;: [ReLU(),\n",
       "                                                                 ReLU()],\n",
       "                                        &#x27;module__dropout_1&#x27;: [0, 0.1],\n",
       "                                        &#x27;module__dropout_2&#x27;: [0, 0.1],\n",
       "                                        &#x27;module__n_hidden_neurons_1&#x27;: range(5, 35, 5),\n",
       "                                        &#x27;module__n_hidden_neurons_2&#x27;: range(5, 35, 5),\n",
       "                                        &#x27;module__n_in_neurons&#x27;: [10],\n",
       "                                        &#x27;module__n_out_neurons&#x27;: [1]},\n",
       "                   scoring=&#x27;neg_root_mean_squared_error&#x27;, verbose=3)</pre><b>In a Jupyter environment, please rerun this cell to show the HTML representation or trust the notebook. <br />On GitHub, the HTML representation is unable to render, please try loading this page with nbviewer.org.</b></div><div class=\"sk-container\" hidden><div class=\"sk-item sk-dashed-wrapped\"><div class=\"sk-label-container\"><div class=\"sk-label sk-toggleable\"><input class=\"sk-toggleable__control sk-hidden--visually\" id=\"sk-estimator-id-1\" type=\"checkbox\" ><label for=\"sk-estimator-id-1\" class=\"sk-toggleable__label sk-toggleable__label-arrow\">RandomizedSearchCV</label><div class=\"sk-toggleable__content\"><pre>RandomizedSearchCV(cv=3,\n",
       "                   estimator=&lt;class &#x27;skorch.regressor.NeuralNetRegressor&#x27;&gt;[uninitialized](\n",
       "  module=&lt;class &#x27;__main__.Model_improve&#x27;&gt;,\n",
       "),\n",
       "                   n_jobs=-1,\n",
       "                   param_distributions={&#x27;module__activation_1&#x27;: [ReLU(),\n",
       "                                                                 ReLU()],\n",
       "                                        &#x27;module__activation_2&#x27;: [ReLU(),\n",
       "                                                                 ReLU()],\n",
       "                                        &#x27;module__dropout_1&#x27;: [0, 0.1],\n",
       "                                        &#x27;module__dropout_2&#x27;: [0, 0.1],\n",
       "                                        &#x27;module__n_hidden_neurons_1&#x27;: range(5, 35, 5),\n",
       "                                        &#x27;module__n_hidden_neurons_2&#x27;: range(5, 35, 5),\n",
       "                                        &#x27;module__n_in_neurons&#x27;: [10],\n",
       "                                        &#x27;module__n_out_neurons&#x27;: [1]},\n",
       "                   scoring=&#x27;neg_root_mean_squared_error&#x27;, verbose=3)</pre></div></div></div><div class=\"sk-parallel\"><div class=\"sk-parallel-item\"><div class=\"sk-item\"><div class=\"sk-label-container\"><div class=\"sk-label sk-toggleable\"><input class=\"sk-toggleable__control sk-hidden--visually\" id=\"sk-estimator-id-2\" type=\"checkbox\" ><label for=\"sk-estimator-id-2\" class=\"sk-toggleable__label sk-toggleable__label-arrow\">estimator: NeuralNetRegressor</label><div class=\"sk-toggleable__content\"><pre>&lt;class &#x27;skorch.regressor.NeuralNetRegressor&#x27;&gt;[uninitialized](\n",
       "  module=&lt;class &#x27;__main__.Model_improve&#x27;&gt;,\n",
       ")</pre></div></div></div><div class=\"sk-serial\"><div class=\"sk-item\"><div class=\"sk-estimator sk-toggleable\"><input class=\"sk-toggleable__control sk-hidden--visually\" id=\"sk-estimator-id-3\" type=\"checkbox\" ><label for=\"sk-estimator-id-3\" class=\"sk-toggleable__label sk-toggleable__label-arrow\">NeuralNetRegressor</label><div class=\"sk-toggleable__content\"><pre>&lt;class &#x27;skorch.regressor.NeuralNetRegressor&#x27;&gt;[uninitialized](\n",
       "  module=&lt;class &#x27;__main__.Model_improve&#x27;&gt;,\n",
       ")</pre></div></div></div></div></div></div></div></div></div></div>"
      ],
      "text/plain": [
       "RandomizedSearchCV(cv=3,\n",
       "                   estimator=<class 'skorch.regressor.NeuralNetRegressor'>[uninitialized](\n",
       "  module=<class '__main__.Model_improve'>,\n",
       "),\n",
       "                   n_jobs=-1,\n",
       "                   param_distributions={'module__activation_1': [ReLU(),\n",
       "                                                                 ReLU()],\n",
       "                                        'module__activation_2': [ReLU(),\n",
       "                                                                 ReLU()],\n",
       "                                        'module__dropout_1': [0, 0.1],\n",
       "                                        'module__dropout_2': [0, 0.1],\n",
       "                                        'module__n_hidden_neurons_1': range(5, 35, 5),\n",
       "                                        'module__n_hidden_neurons_2': range(5, 35, 5),\n",
       "                                        'module__n_in_neurons': [10],\n",
       "                                        'module__n_out_neurons': [1]},\n",
       "                   scoring='neg_root_mean_squared_error', verbose=3)"
      ]
     },
     "execution_count": 42,
     "metadata": {},
     "output_type": "execute_result"
    }
   ],
   "source": [
    "grid.fit(X_train_val_processed, y_train_val.reshape(-1, 1))"
   ]
  },
  {
   "cell_type": "code",
   "execution_count": 43,
   "id": "dff7176e",
   "metadata": {},
   "outputs": [
    {
     "data": {
      "text/plain": [
       "-5433.523763020833"
      ]
     },
     "execution_count": 43,
     "metadata": {},
     "output_type": "execute_result"
    }
   ],
   "source": [
    "grid.best_score_"
   ]
  },
  {
   "cell_type": "code",
   "execution_count": 44,
   "id": "7e7b73d8",
   "metadata": {},
   "outputs": [],
   "source": [
    "best_estimator = grid.best_estimator_"
   ]
  },
  {
   "cell_type": "code",
   "execution_count": 45,
   "id": "7e596110",
   "metadata": {},
   "outputs": [],
   "source": [
    "best_predictions = best_estimator.predict(X_test_processed)"
   ]
  },
  {
   "cell_type": "code",
   "execution_count": 46,
   "id": "d05a983e",
   "metadata": {},
   "outputs": [
    {
     "data": {
      "image/png": "[encoded data removed]",
      "text/plain": [
       "<Figure size 1224x648 with 1 Axes>"
      ]
     },
     "metadata": {
      "needs_background": "light"
     },
     "output_type": "display_data"
    }
   ],
   "source": [
    "x = np.arange(len(y_test))\n",
    "y1 = best_predictions.flatten()\n",
    "y2 = y_test.to_numpy().flatten()\n",
    "\n",
    "fig, ax = plt.subplots(figsize=(17, 9))\n",
    "ax.set_xticks(x)\n",
    "\n",
    "ax.bar(x, y2, width=0.8, label='Факт', color='black')\n",
    "ax.bar(x, y1, width=0.3, label='Прогноз', color='red')\n",
    "\n",
    "ax.legend()\n",
    "ax.set_title('График \"Факт-прогноз\" для лучшей модели')\n",
    "ax.set_xlabel('№ звезды')\n",
    "ax.set_ylabel('Температура звезды')\n",
    "plt.show()"
   ]
  },
  {
   "cell_type": "code",
   "execution_count": 47,
   "id": "515c09f8",
   "metadata": {},
   "outputs": [],
   "source": [
    "rmse_best = np.sqrt(mean_squared_error(y_test, best_predictions))"
   ]
  },
  {
   "cell_type": "code",
   "execution_count": 48,
   "id": "3ac51528",
   "metadata": {},
   "outputs": [
    {
     "name": "stdout",
     "output_type": "stream",
     "text": [
      "RMSE for best predictions: 7831.5076\n"
     ]
    }
   ],
   "source": [
    "print(f\"RMSE for best predictions: {rmse_best:.4f}\")"
   ]
  },
  {
   "cell_type": "markdown",
   "id": "accurate-infrastructure",
   "metadata": {},
   "source": [
    "## Выводы"
   ]
  },
  {
   "cell_type": "markdown",
   "id": "1b8c7af5",
   "metadata": {},
   "source": [
    "Данная работа направлена на построение и оценку моделей регрессии нейронных сетей для прогнозирования температур звезд. Она охватывает предобработку данных, создание модели, обучение, валидацию, настройку гиперпараметров и визуализацию. \n",
    "<br>\n",
    "<br>\n",
    "<li>\n",
    "Предобработка данных: Код выполняет предобработку данных с использованием ColumnTransformer для масштабирования числовых признаков и кодирования категориальных признаков. Это гарантирует, что признаки находятся в подходящем формате для обучения моделей машинного обучения.\n",
    "\n",
    "<li>\n",
    "Разделение на обучающую, валидационную и тестовую выборки: Данные разделяются на обучающий, валидационный и тестовый наборы с использованием функции train_test_split. Это важно для точной оценки и проверки производительности модели.\n",
    "\n",
    "<li>\n",
    "Модель нейронной сети: Определена модель нейронной сети с использованием класса nn.Module из библиотеки PyTorch. Архитектура включает несколько слоев с функциями активации.\n",
    "\n",
    "<li>\n",
    "Обучение и валидация: В цикле обучения выполняется перебор набора данных и обновление весов модели с использованием алгоритма обратного распространения ошибки. Также реализовано преждевременное прекращение обучения для предотвращения переобучения и экономии времени.\n",
    "\n",
    "<li>\n",
    "Метрики оценки: Код использует среднеквадратичную ошибку (MSE) в качестве функции потерь для обучения модели. Кроме того, вычисляется корень из среднеквадратичной ошибки (RMSE) для оценки производительности модели на валидационном наборе данных.\n",
    "\n",
    "<li>\n",
    "Настройка гиперпараметров: В коде используется RandomizedSearchCV из библиотеки scikit-learn для выполнения настройки гиперпараметров. Он ищет оптимальные гиперпараметры, оценивая различные комбинации с использованием перекрестной проверки.\n",
    "    \n",
    "<li>\n",
    "Визуализация: Код включает визуализацию для отображения графика \"Факт-Прогноз\", который сравнивает фактические и предсказанные температуры.\n",
    "\n",
    "Улучшение модели: Определена улучшенная модель нейронной сети с дополнительными слоями и слоями dropout для исследования потенциального улучшения производительности.\n",
    "\n",
    "Заключение: Проблемы, с которыми столкнулся код, включают несогласованное разделение данных и несоответствие параметров между пространством поиска и моделью. Эти проблемы были устранены путем обеспечения согласованного разделения данных и выравнивания имен параметров."
   ]
  }
 ],
 "metadata": {
  "ExecuteTimeLog": [
   {
    "duration": 2011,
    "start_time": "2023-08-20T09:18:42.564Z"
   },
   {
    "duration": 4,
    "start_time": "2023-08-20T09:19:45.807Z"
   },
   {
    "duration": 159,
    "start_time": "2023-08-20T09:19:46.416Z"
   },
   {
    "duration": 3,
    "start_time": "2023-08-20T09:26:16.120Z"
   },
   {
    "duration": 5,
    "start_time": "2023-08-20T09:26:24.903Z"
   },
   {
    "duration": 158,
    "start_time": "2023-08-20T09:26:34.297Z"
   },
   {
    "duration": 20,
    "start_time": "2023-08-20T09:26:43.195Z"
   },
   {
    "duration": 23,
    "start_time": "2023-08-20T09:26:44.479Z"
   },
   {
    "duration": 9,
    "start_time": "2023-08-20T09:27:08.979Z"
   },
   {
    "duration": 110,
    "start_time": "2023-08-20T09:27:22.425Z"
   },
   {
    "duration": 16,
    "start_time": "2023-08-20T09:27:27.243Z"
   },
   {
    "duration": 511,
    "start_time": "2023-08-20T09:28:51.037Z"
   },
   {
    "duration": 11,
    "start_time": "2023-08-20T09:28:55.105Z"
   },
   {
    "duration": 269,
    "start_time": "2023-08-20T09:28:55.504Z"
   },
   {
    "duration": 260,
    "start_time": "2023-08-20T09:29:34.251Z"
   },
   {
    "duration": 5,
    "start_time": "2023-08-20T09:30:00.726Z"
   },
   {
    "duration": 4,
    "start_time": "2023-08-20T09:30:32.541Z"
   },
   {
    "duration": 18,
    "start_time": "2023-08-20T09:30:32.781Z"
   },
   {
    "duration": 101,
    "start_time": "2023-08-20T09:30:33.155Z"
   },
   {
    "duration": 3,
    "start_time": "2023-08-20T09:30:33.555Z"
   },
   {
    "duration": 12,
    "start_time": "2023-08-20T09:30:33.705Z"
   },
   {
    "duration": 8,
    "start_time": "2023-08-20T09:30:33.928Z"
   },
   {
    "duration": 5,
    "start_time": "2023-08-20T09:30:34.150Z"
   },
   {
    "duration": 186,
    "start_time": "2023-08-20T09:30:34.332Z"
   },
   {
    "duration": 293,
    "start_time": "2023-08-20T09:30:34.561Z"
   },
   {
    "duration": 3,
    "start_time": "2023-08-20T09:30:40.268Z"
   },
   {
    "duration": 4,
    "start_time": "2023-08-20T09:31:24.901Z"
   },
   {
    "duration": 4,
    "start_time": "2023-08-20T09:31:53.306Z"
   },
   {
    "duration": 7,
    "start_time": "2023-08-20T09:32:39.442Z"
   },
   {
    "duration": 2,
    "start_time": "2023-08-20T09:32:39.733Z"
   },
   {
    "duration": 17,
    "start_time": "2023-08-20T09:32:39.998Z"
   },
   {
    "duration": 4,
    "start_time": "2023-08-20T09:32:40.319Z"
   },
   {
    "duration": 6,
    "start_time": "2023-08-20T09:32:50.757Z"
   },
   {
    "duration": 4,
    "start_time": "2023-08-20T09:33:03.622Z"
   },
   {
    "duration": 26,
    "start_time": "2023-08-20T09:33:30.032Z"
   },
   {
    "duration": 4,
    "start_time": "2023-08-20T09:33:51.947Z"
   },
   {
    "duration": 5,
    "start_time": "2023-08-20T09:33:56.714Z"
   },
   {
    "duration": 4,
    "start_time": "2023-08-20T09:34:10.824Z"
   },
   {
    "duration": 6,
    "start_time": "2023-08-20T09:34:28.920Z"
   },
   {
    "duration": 2,
    "start_time": "2023-08-20T09:34:48.230Z"
   },
   {
    "duration": 3,
    "start_time": "2023-08-20T09:34:53.906Z"
   },
   {
    "duration": 2,
    "start_time": "2023-08-20T09:34:57.959Z"
   },
   {
    "duration": 4,
    "start_time": "2023-08-20T09:35:06.902Z"
   },
   {
    "duration": 8,
    "start_time": "2023-08-20T09:35:12.115Z"
   },
   {
    "duration": 4,
    "start_time": "2023-08-20T09:35:15.998Z"
   },
   {
    "duration": 6,
    "start_time": "2023-08-20T09:35:35.422Z"
   },
   {
    "duration": 2255,
    "start_time": "2023-08-20T09:35:53.058Z"
   },
   {
    "duration": 4,
    "start_time": "2023-08-20T09:36:13.533Z"
   },
   {
    "duration": 25,
    "start_time": "2023-08-20T09:36:18.936Z"
   },
   {
    "duration": 4,
    "start_time": "2023-08-20T09:37:13.539Z"
   },
   {
    "duration": 5,
    "start_time": "2023-08-20T09:37:14.534Z"
   },
   {
    "duration": 9,
    "start_time": "2023-08-20T09:39:06.535Z"
   },
   {
    "duration": 307,
    "start_time": "2023-08-20T09:39:10.971Z"
   },
   {
    "duration": 4,
    "start_time": "2023-08-20T09:40:45.211Z"
   },
   {
    "duration": 18380,
    "start_time": "2023-08-20T09:41:01.119Z"
   },
   {
    "duration": 14,
    "start_time": "2023-08-21T08:26:56.928Z"
   },
   {
    "duration": 4491,
    "start_time": "2023-08-21T09:10:28.603Z"
   },
   {
    "duration": 3,
    "start_time": "2023-08-21T09:10:33.096Z"
   },
   {
    "duration": 125,
    "start_time": "2023-08-21T09:10:33.100Z"
   },
   {
    "duration": 37,
    "start_time": "2023-08-21T09:10:33.226Z"
   },
   {
    "duration": 3,
    "start_time": "2023-08-21T09:10:33.265Z"
   },
   {
    "duration": 18,
    "start_time": "2023-08-21T09:10:33.270Z"
   },
   {
    "duration": 15,
    "start_time": "2023-08-21T09:10:33.290Z"
   },
   {
    "duration": 7,
    "start_time": "2023-08-21T09:10:33.307Z"
   },
   {
    "duration": 149,
    "start_time": "2023-08-21T09:10:33.316Z"
   },
   {
    "duration": 204,
    "start_time": "2023-08-21T09:10:33.467Z"
   },
   {
    "duration": 3,
    "start_time": "2023-08-21T09:10:33.673Z"
   },
   {
    "duration": 17,
    "start_time": "2023-08-21T09:10:33.677Z"
   },
   {
    "duration": 33,
    "start_time": "2023-08-21T09:10:33.695Z"
   },
   {
    "duration": 11,
    "start_time": "2023-08-21T09:10:33.731Z"
   },
   {
    "duration": 10,
    "start_time": "2023-08-21T09:10:33.743Z"
   },
   {
    "duration": 23,
    "start_time": "2023-08-21T09:10:33.763Z"
   },
   {
    "duration": 13,
    "start_time": "2023-08-21T09:10:33.787Z"
   },
   {
    "duration": 25,
    "start_time": "2023-08-21T09:10:33.802Z"
   },
   {
    "duration": 69,
    "start_time": "2023-08-21T09:10:33.829Z"
   },
   {
    "duration": 5,
    "start_time": "2023-08-21T09:10:33.900Z"
   },
   {
    "duration": 13,
    "start_time": "2023-08-21T09:10:33.906Z"
   },
   {
    "duration": 10,
    "start_time": "2023-08-21T09:10:33.921Z"
   },
   {
    "duration": 6,
    "start_time": "2023-08-21T09:10:33.933Z"
   },
   {
    "duration": 6,
    "start_time": "2023-08-21T09:10:33.940Z"
   },
   {
    "duration": 14,
    "start_time": "2023-08-21T09:10:33.948Z"
   },
   {
    "duration": 9,
    "start_time": "2023-08-21T09:10:33.963Z"
   },
   {
    "duration": 7,
    "start_time": "2023-08-21T09:10:33.974Z"
   },
   {
    "duration": 7,
    "start_time": "2023-08-21T09:10:33.982Z"
   },
   {
    "duration": 11,
    "start_time": "2023-08-21T09:10:33.990Z"
   },
   {
    "duration": 8,
    "start_time": "2023-08-21T09:10:34.003Z"
   },
   {
    "duration": 41876,
    "start_time": "2023-08-21T09:13:53.388Z"
   },
   {
    "duration": 3,
    "start_time": "2023-08-21T09:15:26.146Z"
   },
   {
    "duration": 13,
    "start_time": "2023-08-21T09:15:45.527Z"
   },
   {
    "duration": 1580,
    "start_time": "2023-08-21T09:16:07.027Z"
   },
   {
    "duration": 3,
    "start_time": "2023-08-21T09:16:17.528Z"
   },
   {
    "duration": 2,
    "start_time": "2023-08-21T09:16:17.731Z"
   },
   {
    "duration": 79,
    "start_time": "2023-08-21T09:16:18.198Z"
   },
   {
    "duration": 33,
    "start_time": "2023-08-21T09:16:18.833Z"
   },
   {
    "duration": 3,
    "start_time": "2023-08-21T09:16:19.026Z"
   },
   {
    "duration": 8,
    "start_time": "2023-08-21T09:16:19.396Z"
   },
   {
    "duration": 7,
    "start_time": "2023-08-21T09:16:19.626Z"
   },
   {
    "duration": 5,
    "start_time": "2023-08-21T09:16:19.843Z"
   },
   {
    "duration": 143,
    "start_time": "2023-08-21T09:16:20.427Z"
   },
   {
    "duration": 131,
    "start_time": "2023-08-21T09:16:22.135Z"
   },
   {
    "duration": 123,
    "start_time": "2023-08-21T09:16:22.819Z"
   },
   {
    "duration": 140,
    "start_time": "2023-08-21T09:16:23.354Z"
   },
   {
    "duration": 139,
    "start_time": "2023-08-21T09:16:23.949Z"
   },
   {
    "duration": 14,
    "start_time": "2023-08-21T09:16:26.869Z"
   },
   {
    "duration": 5,
    "start_time": "2023-08-21T09:16:41.034Z"
   },
   {
    "duration": 5,
    "start_time": "2023-08-21T09:17:03.722Z"
   },
   {
    "duration": 5,
    "start_time": "2023-08-21T09:17:11.939Z"
   },
   {
    "duration": 4,
    "start_time": "2023-08-21T09:17:34.833Z"
   },
   {
    "duration": 136,
    "start_time": "2023-08-21T09:17:35.949Z"
   },
   {
    "duration": 4,
    "start_time": "2023-08-21T09:17:50.195Z"
   },
   {
    "duration": 132,
    "start_time": "2023-08-21T09:17:51.717Z"
   },
   {
    "duration": 2194,
    "start_time": "2023-08-22T07:43:14.616Z"
   },
   {
    "duration": 4,
    "start_time": "2023-08-22T07:44:22.692Z"
   },
   {
    "duration": 3,
    "start_time": "2023-08-22T07:44:22.735Z"
   },
   {
    "duration": 123,
    "start_time": "2023-08-22T07:44:22.803Z"
   },
   {
    "duration": 42,
    "start_time": "2023-08-22T07:44:22.928Z"
   },
   {
    "duration": 4,
    "start_time": "2023-08-22T07:44:22.972Z"
   },
   {
    "duration": 15,
    "start_time": "2023-08-22T07:44:22.978Z"
   },
   {
    "duration": 7,
    "start_time": "2023-08-22T07:44:23.002Z"
   },
   {
    "duration": 4,
    "start_time": "2023-08-22T07:44:23.030Z"
   },
   {
    "duration": 148,
    "start_time": "2023-08-22T07:44:23.067Z"
   },
   {
    "duration": 256,
    "start_time": "2023-08-22T07:44:23.218Z"
   },
   {
    "duration": 4,
    "start_time": "2023-08-22T07:44:23.477Z"
   },
   {
    "duration": 6,
    "start_time": "2023-08-22T07:44:23.483Z"
   },
   {
    "duration": 4,
    "start_time": "2023-08-22T07:44:23.491Z"
   },
   {
    "duration": 4,
    "start_time": "2023-08-22T07:44:23.497Z"
   },
   {
    "duration": 13,
    "start_time": "2023-08-22T07:44:23.503Z"
   },
   {
    "duration": 8,
    "start_time": "2023-08-22T07:44:23.518Z"
   },
   {
    "duration": 10,
    "start_time": "2023-08-22T07:44:23.528Z"
   },
   {
    "duration": 31,
    "start_time": "2023-08-22T07:44:23.539Z"
   },
   {
    "duration": 10,
    "start_time": "2023-08-22T07:44:23.572Z"
   },
   {
    "duration": 3,
    "start_time": "2023-08-22T07:44:23.593Z"
   },
   {
    "duration": 9,
    "start_time": "2023-08-22T07:44:23.662Z"
   },
   {
    "duration": 4,
    "start_time": "2023-08-22T07:44:23.719Z"
   },
   {
    "duration": 12,
    "start_time": "2023-08-22T07:44:23.749Z"
   },
   {
    "duration": 3,
    "start_time": "2023-08-22T07:44:23.780Z"
   },
   {
    "duration": 9,
    "start_time": "2023-08-22T07:44:23.860Z"
   },
   {
    "duration": 145,
    "start_time": "2023-08-22T07:50:35.846Z"
   },
   {
    "duration": 5,
    "start_time": "2023-08-22T07:50:48.441Z"
   },
   {
    "duration": 3,
    "start_time": "2023-08-22T07:50:48.479Z"
   },
   {
    "duration": 100,
    "start_time": "2023-08-22T07:50:48.534Z"
   },
   {
    "duration": 27,
    "start_time": "2023-08-22T07:50:48.642Z"
   },
   {
    "duration": 3,
    "start_time": "2023-08-22T07:50:48.676Z"
   },
   {
    "duration": 8,
    "start_time": "2023-08-22T07:50:48.706Z"
   },
   {
    "duration": 8,
    "start_time": "2023-08-22T07:50:48.736Z"
   },
   {
    "duration": 4,
    "start_time": "2023-08-22T07:50:48.771Z"
   },
   {
    "duration": 129,
    "start_time": "2023-08-22T07:50:48.799Z"
   },
   {
    "duration": 236,
    "start_time": "2023-08-22T07:50:48.930Z"
   },
   {
    "duration": 7,
    "start_time": "2023-08-22T07:50:49.168Z"
   },
   {
    "duration": 7,
    "start_time": "2023-08-22T07:50:49.177Z"
   },
   {
    "duration": 4,
    "start_time": "2023-08-22T07:50:49.186Z"
   },
   {
    "duration": 4,
    "start_time": "2023-08-22T07:50:49.192Z"
   },
   {
    "duration": 5,
    "start_time": "2023-08-22T07:50:49.197Z"
   },
   {
    "duration": 5,
    "start_time": "2023-08-22T07:50:49.203Z"
   },
   {
    "duration": 5,
    "start_time": "2023-08-22T07:50:49.210Z"
   },
   {
    "duration": 6,
    "start_time": "2023-08-22T07:50:49.269Z"
   },
   {
    "duration": 10,
    "start_time": "2023-08-22T07:50:49.300Z"
   },
   {
    "duration": 4,
    "start_time": "2023-08-22T07:50:49.331Z"
   },
   {
    "duration": 7,
    "start_time": "2023-08-22T07:50:49.395Z"
   },
   {
    "duration": 6,
    "start_time": "2023-08-22T07:50:49.474Z"
   },
   {
    "duration": 3,
    "start_time": "2023-08-22T07:50:49.502Z"
   },
   {
    "duration": 3,
    "start_time": "2023-08-22T07:50:49.534Z"
   },
   {
    "duration": 4,
    "start_time": "2023-08-22T07:50:49.596Z"
   },
   {
    "duration": 6,
    "start_time": "2023-08-22T07:50:49.690Z"
   },
   {
    "duration": 3,
    "start_time": "2023-08-22T07:50:49.770Z"
   },
   {
    "duration": 3,
    "start_time": "2023-08-22T07:50:49.799Z"
   },
   {
    "duration": 2,
    "start_time": "2023-08-22T07:50:49.830Z"
   },
   {
    "duration": 4,
    "start_time": "2023-08-22T07:50:49.865Z"
   },
   {
    "duration": 2,
    "start_time": "2023-08-22T07:50:49.893Z"
   },
   {
    "duration": 3,
    "start_time": "2023-08-22T07:50:49.923Z"
   },
   {
    "duration": 7,
    "start_time": "2023-08-22T07:50:49.988Z"
   },
   {
    "duration": 18,
    "start_time": "2023-08-22T07:50:50.099Z"
   },
   {
    "duration": 1577,
    "start_time": "2023-08-22T07:50:50.160Z"
   },
   {
    "duration": 0,
    "start_time": "2023-08-22T07:50:51.740Z"
   },
   {
    "duration": 0,
    "start_time": "2023-08-22T07:50:51.741Z"
   },
   {
    "duration": 0,
    "start_time": "2023-08-22T07:50:51.743Z"
   },
   {
    "duration": 0,
    "start_time": "2023-08-22T07:50:51.743Z"
   },
   {
    "duration": 0,
    "start_time": "2023-08-22T07:50:51.744Z"
   },
   {
    "duration": 0,
    "start_time": "2023-08-22T07:50:51.746Z"
   },
   {
    "duration": 7,
    "start_time": "2023-08-22T07:55:52.472Z"
   },
   {
    "duration": 55582,
    "start_time": "2023-08-22T07:55:54.145Z"
   },
   {
    "duration": 6,
    "start_time": "2023-08-22T08:06:29.070Z"
   },
   {
    "duration": 6,
    "start_time": "2023-08-22T08:06:36.126Z"
   },
   {
    "duration": 5,
    "start_time": "2023-08-22T08:11:05.678Z"
   },
   {
    "duration": 3,
    "start_time": "2023-08-22T08:11:05.707Z"
   },
   {
    "duration": 64,
    "start_time": "2023-08-22T08:11:05.783Z"
   },
   {
    "duration": 27,
    "start_time": "2023-08-22T08:11:05.881Z"
   },
   {
    "duration": 5,
    "start_time": "2023-08-22T08:11:05.913Z"
   },
   {
    "duration": 13,
    "start_time": "2023-08-22T08:11:05.946Z"
   },
   {
    "duration": 10,
    "start_time": "2023-08-22T08:11:05.979Z"
   },
   {
    "duration": 11,
    "start_time": "2023-08-22T08:11:06.007Z"
   },
   {
    "duration": 164,
    "start_time": "2023-08-22T08:11:06.039Z"
   },
   {
    "duration": 277,
    "start_time": "2023-08-22T08:11:06.205Z"
   },
   {
    "duration": 4,
    "start_time": "2023-08-22T08:11:06.484Z"
   },
   {
    "duration": 11,
    "start_time": "2023-08-22T08:11:06.490Z"
   },
   {
    "duration": 32,
    "start_time": "2023-08-22T08:11:06.502Z"
   },
   {
    "duration": 9,
    "start_time": "2023-08-22T08:11:06.536Z"
   },
   {
    "duration": 2,
    "start_time": "2023-08-22T08:11:06.548Z"
   },
   {
    "duration": 3,
    "start_time": "2023-08-22T08:11:06.600Z"
   },
   {
    "duration": 3,
    "start_time": "2023-08-22T08:11:06.815Z"
   },
   {
    "duration": 7,
    "start_time": "2023-08-22T08:11:07.417Z"
   },
   {
    "duration": 8,
    "start_time": "2023-08-22T08:11:07.678Z"
   },
   {
    "duration": 5,
    "start_time": "2023-08-22T08:11:07.894Z"
   },
   {
    "duration": 6,
    "start_time": "2023-08-22T08:11:08.325Z"
   },
   {
    "duration": 4,
    "start_time": "2023-08-22T08:11:08.778Z"
   },
   {
    "duration": 4,
    "start_time": "2023-08-22T08:11:08.994Z"
   },
   {
    "duration": 4,
    "start_time": "2023-08-22T08:11:09.187Z"
   },
   {
    "duration": 5,
    "start_time": "2023-08-22T08:11:09.620Z"
   },
   {
    "duration": 6,
    "start_time": "2023-08-22T08:11:10.496Z"
   },
   {
    "duration": 6,
    "start_time": "2023-08-22T08:11:11.763Z"
   },
   {
    "duration": 3,
    "start_time": "2023-08-22T08:11:12.133Z"
   },
   {
    "duration": 4,
    "start_time": "2023-08-22T08:11:12.349Z"
   },
   {
    "duration": 3,
    "start_time": "2023-08-22T08:11:12.542Z"
   },
   {
    "duration": 2,
    "start_time": "2023-08-22T08:11:12.711Z"
   },
   {
    "duration": 3,
    "start_time": "2023-08-22T08:11:12.927Z"
   },
   {
    "duration": 3,
    "start_time": "2023-08-22T08:11:13.587Z"
   },
   {
    "duration": 4,
    "start_time": "2023-08-22T08:11:14.903Z"
   },
   {
    "duration": 6,
    "start_time": "2023-08-22T08:11:16.226Z"
   },
   {
    "duration": 65485,
    "start_time": "2023-08-22T08:11:18.107Z"
   },
   {
    "duration": 14,
    "start_time": "2023-08-22T08:17:32.594Z"
   },
   {
    "duration": 299,
    "start_time": "2023-08-22T08:17:33.829Z"
   },
   {
    "duration": 9,
    "start_time": "2023-08-22T08:18:53.277Z"
   },
   {
    "duration": 58646,
    "start_time": "2023-08-22T08:18:54.236Z"
   },
   {
    "duration": 9,
    "start_time": "2023-08-22T08:21:27.331Z"
   },
   {
    "duration": 65205,
    "start_time": "2023-08-22T08:21:28.083Z"
   },
   {
    "duration": 14,
    "start_time": "2023-08-22T08:22:39.443Z"
   },
   {
    "duration": 63668,
    "start_time": "2023-08-22T08:22:40.316Z"
   },
   {
    "duration": 9,
    "start_time": "2023-08-22T08:24:12.216Z"
   },
   {
    "duration": 57108,
    "start_time": "2023-08-22T08:24:12.748Z"
   },
   {
    "duration": 14,
    "start_time": "2023-08-22T08:25:38.575Z"
   },
   {
    "duration": 11,
    "start_time": "2023-08-22T08:26:32.580Z"
   },
   {
    "duration": 46672,
    "start_time": "2023-08-22T08:26:32.593Z"
   },
   {
    "duration": 21,
    "start_time": "2023-08-22T08:27:44.544Z"
   },
   {
    "duration": 290,
    "start_time": "2023-08-22T08:27:45.223Z"
   },
   {
    "duration": 9,
    "start_time": "2023-08-22T08:28:00.903Z"
   },
   {
    "duration": 53797,
    "start_time": "2023-08-22T08:28:01.286Z"
   },
   {
    "duration": 9,
    "start_time": "2023-08-22T08:30:55.499Z"
   },
   {
    "duration": 48256,
    "start_time": "2023-08-22T08:30:55.997Z"
   },
   {
    "duration": 4,
    "start_time": "2023-08-22T08:31:57.164Z"
   },
   {
    "duration": 4,
    "start_time": "2023-08-22T08:31:58.625Z"
   },
   {
    "duration": 9,
    "start_time": "2023-08-22T08:32:24.740Z"
   },
   {
    "duration": 2,
    "start_time": "2023-08-22T08:32:36.210Z"
   },
   {
    "duration": 759,
    "start_time": "2023-08-22T08:32:36.895Z"
   },
   {
    "duration": 10362,
    "start_time": "2023-08-22T08:32:51.208Z"
   },
   {
    "duration": 91008,
    "start_time": "2023-08-22T08:33:08.859Z"
   },
   {
    "duration": 11,
    "start_time": "2023-08-22T08:34:51.451Z"
   },
   {
    "duration": 5,
    "start_time": "2023-08-22T08:39:28.975Z"
   },
   {
    "duration": 5,
    "start_time": "2023-08-22T08:39:29.547Z"
   },
   {
    "duration": 4,
    "start_time": "2023-08-22T08:39:36.823Z"
   },
   {
    "duration": 6,
    "start_time": "2023-08-22T08:39:37.067Z"
   },
   {
    "duration": 142,
    "start_time": "2023-08-22T09:07:24.430Z"
   },
   {
    "duration": 10,
    "start_time": "2023-08-22T09:07:31.401Z"
   },
   {
    "duration": 12,
    "start_time": "2023-08-22T09:08:14.875Z"
   },
   {
    "duration": 3,
    "start_time": "2023-08-22T09:10:22.299Z"
   },
   {
    "duration": 3,
    "start_time": "2023-08-22T09:10:22.791Z"
   },
   {
    "duration": 11,
    "start_time": "2023-08-22T09:10:48.138Z"
   },
   {
    "duration": 6,
    "start_time": "2023-08-22T09:13:53.716Z"
   },
   {
    "duration": 8,
    "start_time": "2023-08-22T09:14:00.384Z"
   },
   {
    "duration": 4,
    "start_time": "2023-08-22T09:14:19.078Z"
   },
   {
    "duration": 2,
    "start_time": "2023-08-22T09:14:35.902Z"
   },
   {
    "duration": 12,
    "start_time": "2023-08-22T09:14:48.331Z"
   },
   {
    "duration": 10,
    "start_time": "2023-08-22T09:16:13.829Z"
   },
   {
    "duration": 11,
    "start_time": "2023-08-22T09:18:04.003Z"
   },
   {
    "duration": 3,
    "start_time": "2023-08-22T09:18:04.032Z"
   },
   {
    "duration": 126,
    "start_time": "2023-08-22T09:18:04.095Z"
   },
   {
    "duration": 10,
    "start_time": "2023-08-22T09:18:04.223Z"
   },
   {
    "duration": 29,
    "start_time": "2023-08-22T09:18:04.236Z"
   },
   {
    "duration": 3,
    "start_time": "2023-08-22T09:18:04.271Z"
   },
   {
    "duration": 8,
    "start_time": "2023-08-22T09:18:04.300Z"
   },
   {
    "duration": 7,
    "start_time": "2023-08-22T09:18:04.327Z"
   },
   {
    "duration": 6,
    "start_time": "2023-08-22T09:18:04.364Z"
   },
   {
    "duration": 132,
    "start_time": "2023-08-22T09:18:04.390Z"
   },
   {
    "duration": 245,
    "start_time": "2023-08-22T09:18:04.524Z"
   },
   {
    "duration": 4,
    "start_time": "2023-08-22T09:18:04.771Z"
   },
   {
    "duration": 5,
    "start_time": "2023-08-22T09:18:04.778Z"
   },
   {
    "duration": 5,
    "start_time": "2023-08-22T09:18:04.785Z"
   },
   {
    "duration": 4,
    "start_time": "2023-08-22T09:18:04.792Z"
   },
   {
    "duration": 3,
    "start_time": "2023-08-22T09:18:04.798Z"
   },
   {
    "duration": 4,
    "start_time": "2023-08-22T09:18:04.803Z"
   },
   {
    "duration": 8,
    "start_time": "2023-08-22T09:18:04.809Z"
   },
   {
    "duration": 3,
    "start_time": "2023-08-22T09:18:04.848Z"
   },
   {
    "duration": 3,
    "start_time": "2023-08-22T09:18:04.894Z"
   },
   {
    "duration": 11,
    "start_time": "2023-08-22T09:18:04.925Z"
   },
   {
    "duration": 9,
    "start_time": "2023-08-22T09:18:04.958Z"
   },
   {
    "duration": 6,
    "start_time": "2023-08-22T09:18:05.030Z"
   },
   {
    "duration": 4,
    "start_time": "2023-08-22T09:18:05.079Z"
   },
   {
    "duration": 3,
    "start_time": "2023-08-22T09:18:05.110Z"
   },
   {
    "duration": 3,
    "start_time": "2023-08-22T09:18:05.143Z"
   },
   {
    "duration": 3,
    "start_time": "2023-08-22T09:18:05.218Z"
   },
   {
    "duration": 5,
    "start_time": "2023-08-22T09:18:05.313Z"
   },
   {
    "duration": 3,
    "start_time": "2023-08-22T09:18:05.375Z"
   },
   {
    "duration": 2,
    "start_time": "2023-08-22T09:18:05.406Z"
   },
   {
    "duration": 2,
    "start_time": "2023-08-22T09:18:05.479Z"
   },
   {
    "duration": 8,
    "start_time": "2023-08-22T09:18:05.485Z"
   },
   {
    "duration": 2,
    "start_time": "2023-08-22T09:18:05.517Z"
   },
   {
    "duration": 2,
    "start_time": "2023-08-22T09:18:05.548Z"
   },
   {
    "duration": 3,
    "start_time": "2023-08-22T09:18:05.612Z"
   },
   {
    "duration": 4,
    "start_time": "2023-08-22T09:18:05.704Z"
   },
   {
    "duration": 14,
    "start_time": "2023-08-22T09:18:05.759Z"
   },
   {
    "duration": 53926,
    "start_time": "2023-08-22T09:18:05.838Z"
   },
   {
    "duration": 5,
    "start_time": "2023-08-22T09:18:59.770Z"
   },
   {
    "duration": 10,
    "start_time": "2023-08-22T09:18:59.778Z"
   },
   {
    "duration": 2,
    "start_time": "2023-08-22T09:18:59.791Z"
   },
   {
    "duration": 5,
    "start_time": "2023-08-22T09:18:59.795Z"
   },
   {
    "duration": 8,
    "start_time": "2023-08-22T09:18:59.802Z"
   },
   {
    "duration": 42,
    "start_time": "2023-08-22T09:18:59.811Z"
   },
   {
    "duration": 8,
    "start_time": "2023-08-22T09:18:59.858Z"
   },
   {
    "duration": 6,
    "start_time": "2023-08-22T09:18:59.868Z"
   },
   {
    "duration": 11,
    "start_time": "2023-08-22T09:18:59.876Z"
   },
   {
    "duration": 0,
    "start_time": "2023-08-22T09:18:59.889Z"
   },
   {
    "duration": 0,
    "start_time": "2023-08-22T09:18:59.890Z"
   },
   {
    "duration": 0,
    "start_time": "2023-08-22T09:18:59.891Z"
   },
   {
    "duration": 3716,
    "start_time": "2023-08-22T09:19:44.111Z"
   },
   {
    "duration": 6,
    "start_time": "2023-08-22T09:19:49.451Z"
   },
   {
    "duration": 78,
    "start_time": "2023-08-22T09:19:49.987Z"
   },
   {
    "duration": 15,
    "start_time": "2023-08-22T09:19:50.082Z"
   },
   {
    "duration": 24,
    "start_time": "2023-08-22T09:19:50.129Z"
   },
   {
    "duration": 4,
    "start_time": "2023-08-22T09:19:50.170Z"
   },
   {
    "duration": 8,
    "start_time": "2023-08-22T09:19:50.191Z"
   },
   {
    "duration": 12,
    "start_time": "2023-08-22T09:19:50.223Z"
   },
   {
    "duration": 6,
    "start_time": "2023-08-22T09:19:50.268Z"
   },
   {
    "duration": 179,
    "start_time": "2023-08-22T09:19:50.286Z"
   },
   {
    "duration": 241,
    "start_time": "2023-08-22T09:19:50.468Z"
   },
   {
    "duration": 4,
    "start_time": "2023-08-22T09:19:50.711Z"
   },
   {
    "duration": 19,
    "start_time": "2023-08-22T09:19:50.718Z"
   },
   {
    "duration": 45,
    "start_time": "2023-08-22T09:19:50.739Z"
   },
   {
    "duration": 13,
    "start_time": "2023-08-22T09:19:50.786Z"
   },
   {
    "duration": 7,
    "start_time": "2023-08-22T09:19:50.802Z"
   },
   {
    "duration": 25,
    "start_time": "2023-08-22T09:19:50.811Z"
   },
   {
    "duration": 5,
    "start_time": "2023-08-22T09:19:50.838Z"
   },
   {
    "duration": 12,
    "start_time": "2023-08-22T09:19:50.846Z"
   },
   {
    "duration": 14,
    "start_time": "2023-08-22T09:19:50.859Z"
   },
   {
    "duration": 29,
    "start_time": "2023-08-22T09:19:50.875Z"
   },
   {
    "duration": 14,
    "start_time": "2023-08-22T09:19:50.906Z"
   },
   {
    "duration": 8,
    "start_time": "2023-08-22T09:19:50.922Z"
   },
   {
    "duration": 5,
    "start_time": "2023-08-22T09:19:50.985Z"
   },
   {
    "duration": 4,
    "start_time": "2023-08-22T09:19:51.017Z"
   },
   {
    "duration": 4,
    "start_time": "2023-08-22T09:19:51.072Z"
   },
   {
    "duration": 4,
    "start_time": "2023-08-22T09:19:51.111Z"
   },
   {
    "duration": 5,
    "start_time": "2023-08-22T09:19:51.206Z"
   },
   {
    "duration": 4,
    "start_time": "2023-08-22T09:19:51.284Z"
   },
   {
    "duration": 5,
    "start_time": "2023-08-22T09:19:51.315Z"
   },
   {
    "duration": 524,
    "start_time": "2023-08-22T09:19:51.345Z"
   },
   {
    "duration": 44,
    "start_time": "2023-08-22T09:19:51.871Z"
   },
   {
    "duration": 13,
    "start_time": "2023-08-22T09:19:51.917Z"
   },
   {
    "duration": 6,
    "start_time": "2023-08-22T09:19:51.933Z"
   },
   {
    "duration": 7,
    "start_time": "2023-08-22T09:19:51.941Z"
   },
   {
    "duration": 32,
    "start_time": "2023-08-22T09:19:51.949Z"
   },
   {
    "duration": 15,
    "start_time": "2023-08-22T09:19:51.983Z"
   },
   {
    "duration": 64757,
    "start_time": "2023-08-22T09:19:51.999Z"
   },
   {
    "duration": 4,
    "start_time": "2023-08-22T09:20:56.758Z"
   },
   {
    "duration": 10,
    "start_time": "2023-08-22T09:20:56.768Z"
   },
   {
    "duration": 6,
    "start_time": "2023-08-22T09:20:56.779Z"
   },
   {
    "duration": 5,
    "start_time": "2023-08-22T09:20:56.786Z"
   },
   {
    "duration": 6,
    "start_time": "2023-08-22T09:20:56.793Z"
   },
   {
    "duration": 7,
    "start_time": "2023-08-22T09:20:56.801Z"
   },
   {
    "duration": 4,
    "start_time": "2023-08-22T09:20:56.809Z"
   },
   {
    "duration": 40,
    "start_time": "2023-08-22T09:20:56.815Z"
   },
   {
    "duration": 18,
    "start_time": "2023-08-22T09:20:56.857Z"
   },
   {
    "duration": 0,
    "start_time": "2023-08-22T09:20:56.877Z"
   },
   {
    "duration": 0,
    "start_time": "2023-08-22T09:20:56.879Z"
   },
   {
    "duration": 0,
    "start_time": "2023-08-22T09:20:56.880Z"
   },
   {
    "duration": 21,
    "start_time": "2023-08-22T09:22:13.944Z"
   },
   {
    "duration": 11,
    "start_time": "2023-08-22T09:23:08.169Z"
   },
   {
    "duration": 10,
    "start_time": "2023-08-22T09:23:22.670Z"
   },
   {
    "duration": 11,
    "start_time": "2023-08-22T09:23:28.926Z"
   },
   {
    "duration": 11,
    "start_time": "2023-08-22T09:25:04.015Z"
   },
   {
    "duration": 4,
    "start_time": "2023-08-22T09:26:05.769Z"
   },
   {
    "duration": 18,
    "start_time": "2023-08-22T09:26:06.979Z"
   },
   {
    "duration": 4,
    "start_time": "2023-08-22T09:26:10.061Z"
   },
   {
    "duration": 14,
    "start_time": "2023-08-22T09:26:10.805Z"
   },
   {
    "duration": 2322,
    "start_time": "2023-08-22T09:27:31.300Z"
   },
   {
    "duration": 3,
    "start_time": "2023-08-22T09:27:39.819Z"
   },
   {
    "duration": 78,
    "start_time": "2023-08-22T09:27:40.364Z"
   },
   {
    "duration": 17,
    "start_time": "2023-08-22T09:27:40.450Z"
   },
   {
    "duration": 27,
    "start_time": "2023-08-22T09:27:40.483Z"
   },
   {
    "duration": 4,
    "start_time": "2023-08-22T09:27:40.533Z"
   },
   {
    "duration": 9,
    "start_time": "2023-08-22T09:27:40.570Z"
   },
   {
    "duration": 8,
    "start_time": "2023-08-22T09:27:40.594Z"
   },
   {
    "duration": 6,
    "start_time": "2023-08-22T09:27:40.627Z"
   },
   {
    "duration": 132,
    "start_time": "2023-08-22T09:27:40.663Z"
   },
   {
    "duration": 211,
    "start_time": "2023-08-22T09:27:40.797Z"
   },
   {
    "duration": 3,
    "start_time": "2023-08-22T09:27:41.010Z"
   },
   {
    "duration": 12,
    "start_time": "2023-08-22T09:27:41.015Z"
   },
   {
    "duration": 6,
    "start_time": "2023-08-22T09:27:41.028Z"
   },
   {
    "duration": 24,
    "start_time": "2023-08-22T09:27:41.035Z"
   },
   {
    "duration": 10,
    "start_time": "2023-08-22T09:27:41.060Z"
   },
   {
    "duration": 2,
    "start_time": "2023-08-22T09:27:41.072Z"
   },
   {
    "duration": 5,
    "start_time": "2023-08-22T09:27:41.076Z"
   },
   {
    "duration": 2,
    "start_time": "2023-08-22T09:27:41.113Z"
   },
   {
    "duration": 3,
    "start_time": "2023-08-22T09:27:41.145Z"
   },
   {
    "duration": 11,
    "start_time": "2023-08-22T09:27:41.192Z"
   },
   {
    "duration": 3,
    "start_time": "2023-08-22T09:27:41.223Z"
   },
   {
    "duration": 6,
    "start_time": "2023-08-22T09:27:41.289Z"
   },
   {
    "duration": 7,
    "start_time": "2023-08-22T09:27:41.350Z"
   },
   {
    "duration": 3,
    "start_time": "2023-08-22T09:27:41.380Z"
   },
   {
    "duration": 3,
    "start_time": "2023-08-22T09:27:41.411Z"
   },
   {
    "duration": 4,
    "start_time": "2023-08-22T09:27:41.489Z"
   },
   {
    "duration": 5,
    "start_time": "2023-08-22T09:27:41.581Z"
   },
   {
    "duration": 3,
    "start_time": "2023-08-22T09:27:41.645Z"
   },
   {
    "duration": 3,
    "start_time": "2023-08-22T09:27:41.678Z"
   },
   {
    "duration": 3,
    "start_time": "2023-08-22T09:27:41.708Z"
   },
   {
    "duration": 3,
    "start_time": "2023-08-22T09:27:41.740Z"
   },
   {
    "duration": 3,
    "start_time": "2023-08-22T09:27:41.785Z"
   },
   {
    "duration": 3,
    "start_time": "2023-08-22T09:27:41.816Z"
   },
   {
    "duration": 3,
    "start_time": "2023-08-22T09:27:41.881Z"
   },
   {
    "duration": 5,
    "start_time": "2023-08-22T09:27:41.977Z"
   },
   {
    "duration": 14,
    "start_time": "2023-08-22T09:27:42.007Z"
   },
   {
    "duration": 57682,
    "start_time": "2023-08-22T09:27:42.081Z"
   },
   {
    "duration": 6,
    "start_time": "2023-08-22T09:28:39.766Z"
   },
   {
    "duration": 20,
    "start_time": "2023-08-22T09:28:39.776Z"
   },
   {
    "duration": 8,
    "start_time": "2023-08-22T09:28:39.799Z"
   },
   {
    "duration": 8,
    "start_time": "2023-08-22T09:28:39.808Z"
   },
   {
    "duration": 15,
    "start_time": "2023-08-22T09:28:39.817Z"
   },
   {
    "duration": 37,
    "start_time": "2023-08-22T09:28:39.835Z"
   },
   {
    "duration": 11,
    "start_time": "2023-08-22T09:28:39.874Z"
   },
   {
    "duration": 8,
    "start_time": "2023-08-22T09:28:39.887Z"
   },
   {
    "duration": 11,
    "start_time": "2023-08-22T09:28:39.898Z"
   },
   {
    "duration": 22,
    "start_time": "2023-08-22T09:28:39.910Z"
   },
   {
    "duration": 0,
    "start_time": "2023-08-22T09:28:39.934Z"
   },
   {
    "duration": 0,
    "start_time": "2023-08-22T09:28:39.935Z"
   },
   {
    "duration": 16,
    "start_time": "2023-08-22T09:28:44.764Z"
   },
   {
    "duration": 11,
    "start_time": "2023-08-22T09:29:56.879Z"
   },
   {
    "duration": 12,
    "start_time": "2023-08-22T09:30:02.792Z"
   },
   {
    "duration": 12,
    "start_time": "2023-08-22T09:34:52.493Z"
   },
   {
    "duration": 3,
    "start_time": "2023-08-22T09:34:53.847Z"
   },
   {
    "duration": 14,
    "start_time": "2023-08-22T09:34:54.339Z"
   },
   {
    "duration": 2265,
    "start_time": "2023-08-22T09:41:15.307Z"
   },
   {
    "duration": 3,
    "start_time": "2023-08-22T09:41:17.574Z"
   },
   {
    "duration": 89,
    "start_time": "2023-08-22T09:41:17.578Z"
   },
   {
    "duration": 13,
    "start_time": "2023-08-22T09:41:17.670Z"
   },
   {
    "duration": 31,
    "start_time": "2023-08-22T09:41:17.685Z"
   },
   {
    "duration": 3,
    "start_time": "2023-08-22T09:41:17.718Z"
   },
   {
    "duration": 14,
    "start_time": "2023-08-22T09:41:17.723Z"
   },
   {
    "duration": 10,
    "start_time": "2023-08-22T09:41:17.738Z"
   },
   {
    "duration": 14,
    "start_time": "2023-08-22T09:41:17.749Z"
   },
   {
    "duration": 136,
    "start_time": "2023-08-22T09:41:17.765Z"
   },
   {
    "duration": 385,
    "start_time": "2023-08-22T09:41:17.903Z"
   },
   {
    "duration": 6,
    "start_time": "2023-08-22T09:41:18.290Z"
   },
   {
    "duration": 8,
    "start_time": "2023-08-22T09:41:18.299Z"
   },
   {
    "duration": 7,
    "start_time": "2023-08-22T09:41:18.310Z"
   },
   {
    "duration": 5,
    "start_time": "2023-08-22T09:41:18.318Z"
   },
   {
    "duration": 9,
    "start_time": "2023-08-22T09:41:18.324Z"
   },
   {
    "duration": 9,
    "start_time": "2023-08-22T09:41:18.335Z"
   },
   {
    "duration": 31,
    "start_time": "2023-08-22T09:41:18.346Z"
   },
   {
    "duration": 10,
    "start_time": "2023-08-22T09:41:18.379Z"
   },
   {
    "duration": 12,
    "start_time": "2023-08-22T09:41:18.391Z"
   },
   {
    "duration": 14,
    "start_time": "2023-08-22T09:41:18.405Z"
   },
   {
    "duration": 18,
    "start_time": "2023-08-22T09:41:18.422Z"
   },
   {
    "duration": 27,
    "start_time": "2023-08-22T09:41:18.442Z"
   },
   {
    "duration": 12,
    "start_time": "2023-08-22T09:41:18.471Z"
   },
   {
    "duration": 6,
    "start_time": "2023-08-22T09:41:18.485Z"
   },
   {
    "duration": 14,
    "start_time": "2023-08-22T09:41:18.493Z"
   },
   {
    "duration": 9,
    "start_time": "2023-08-22T09:41:18.508Z"
   },
   {
    "duration": 9,
    "start_time": "2023-08-22T09:41:18.523Z"
   },
   {
    "duration": 10,
    "start_time": "2023-08-22T09:41:18.536Z"
   },
   {
    "duration": 27,
    "start_time": "2023-08-22T09:41:18.548Z"
   },
   {
    "duration": 12,
    "start_time": "2023-08-22T09:41:18.577Z"
   },
   {
    "duration": 8,
    "start_time": "2023-08-22T09:41:18.591Z"
   },
   {
    "duration": 13,
    "start_time": "2023-08-22T09:41:18.601Z"
   },
   {
    "duration": 19,
    "start_time": "2023-08-22T09:41:18.616Z"
   },
   {
    "duration": 36,
    "start_time": "2023-08-22T09:41:18.637Z"
   },
   {
    "duration": 12,
    "start_time": "2023-08-22T09:41:18.675Z"
   },
   {
    "duration": 8,
    "start_time": "2023-08-22T09:41:18.689Z"
   },
   {
    "duration": 48374,
    "start_time": "2023-08-22T09:41:18.699Z"
   },
   {
    "duration": 3,
    "start_time": "2023-08-22T09:42:07.075Z"
   },
   {
    "duration": 19,
    "start_time": "2023-08-22T09:42:07.080Z"
   },
   {
    "duration": 8,
    "start_time": "2023-08-22T09:42:07.100Z"
   },
   {
    "duration": 8,
    "start_time": "2023-08-22T09:42:07.110Z"
   },
   {
    "duration": 41,
    "start_time": "2023-08-22T09:42:07.119Z"
   },
   {
    "duration": 24,
    "start_time": "2023-08-22T09:42:07.162Z"
   },
   {
    "duration": 14,
    "start_time": "2023-08-22T09:42:07.188Z"
   },
   {
    "duration": 7,
    "start_time": "2023-08-22T09:42:07.203Z"
   },
   {
    "duration": 13,
    "start_time": "2023-08-22T09:42:07.212Z"
   },
   {
    "duration": 0,
    "start_time": "2023-08-22T09:42:07.227Z"
   },
   {
    "duration": 0,
    "start_time": "2023-08-22T09:42:07.228Z"
   },
   {
    "duration": 0,
    "start_time": "2023-08-22T09:42:07.229Z"
   },
   {
    "duration": 11,
    "start_time": "2023-08-22T09:42:17.822Z"
   },
   {
    "duration": 3,
    "start_time": "2023-08-22T09:42:18.529Z"
   },
   {
    "duration": 12,
    "start_time": "2023-08-22T09:42:18.906Z"
   },
   {
    "duration": 13,
    "start_time": "2023-08-22T09:44:04.385Z"
   },
   {
    "duration": 80,
    "start_time": "2023-08-22T09:44:31.466Z"
   },
   {
    "duration": 3,
    "start_time": "2023-08-22T09:45:14.304Z"
   },
   {
    "duration": 335,
    "start_time": "2023-08-22T09:45:14.635Z"
   },
   {
    "duration": 4101,
    "start_time": "2023-08-22T09:48:37.569Z"
   },
   {
    "duration": 4,
    "start_time": "2023-08-22T09:48:41.673Z"
   },
   {
    "duration": 91,
    "start_time": "2023-08-22T09:48:41.680Z"
   },
   {
    "duration": 12,
    "start_time": "2023-08-22T09:48:41.774Z"
   },
   {
    "duration": 34,
    "start_time": "2023-08-22T09:48:41.787Z"
   },
   {
    "duration": 4,
    "start_time": "2023-08-22T09:48:41.822Z"
   },
   {
    "duration": 39,
    "start_time": "2023-08-22T09:48:41.827Z"
   },
   {
    "duration": 7,
    "start_time": "2023-08-22T09:48:41.868Z"
   },
   {
    "duration": 18,
    "start_time": "2023-08-22T09:48:41.877Z"
   },
   {
    "duration": 173,
    "start_time": "2023-08-22T09:48:41.897Z"
   },
   {
    "duration": 234,
    "start_time": "2023-08-22T09:48:42.072Z"
   },
   {
    "duration": 4,
    "start_time": "2023-08-22T09:48:42.308Z"
   },
   {
    "duration": 16,
    "start_time": "2023-08-22T09:48:42.314Z"
   },
   {
    "duration": 11,
    "start_time": "2023-08-22T09:48:42.332Z"
   },
   {
    "duration": 22,
    "start_time": "2023-08-22T09:48:42.347Z"
   },
   {
    "duration": 9,
    "start_time": "2023-08-22T09:48:42.371Z"
   },
   {
    "duration": 19,
    "start_time": "2023-08-22T09:48:42.382Z"
   },
   {
    "duration": 18,
    "start_time": "2023-08-22T09:48:42.403Z"
   },
   {
    "duration": 25,
    "start_time": "2023-08-22T09:48:42.422Z"
   },
   {
    "duration": 33,
    "start_time": "2023-08-22T09:48:42.448Z"
   },
   {
    "duration": 82,
    "start_time": "2023-08-22T09:48:42.483Z"
   },
   {
    "duration": 4,
    "start_time": "2023-08-22T09:48:42.567Z"
   },
   {
    "duration": 10,
    "start_time": "2023-08-22T09:48:42.572Z"
   },
   {
    "duration": 28,
    "start_time": "2023-08-22T09:48:42.584Z"
   },
   {
    "duration": 15,
    "start_time": "2023-08-22T09:48:42.614Z"
   },
   {
    "duration": 138,
    "start_time": "2023-08-22T09:48:42.630Z"
   },
   {
    "duration": 21,
    "start_time": "2023-08-22T09:48:42.770Z"
   },
   {
    "duration": 20,
    "start_time": "2023-08-22T09:48:42.793Z"
   },
   {
    "duration": 4,
    "start_time": "2023-08-22T09:48:42.815Z"
   },
   {
    "duration": 7,
    "start_time": "2023-08-22T09:48:42.821Z"
   },
   {
    "duration": 14,
    "start_time": "2023-08-22T09:48:42.830Z"
   },
   {
    "duration": 4,
    "start_time": "2023-08-22T09:48:42.874Z"
   },
   {
    "duration": 3,
    "start_time": "2023-08-22T09:48:42.907Z"
   },
   {
    "duration": 3,
    "start_time": "2023-08-22T09:48:42.936Z"
   },
   {
    "duration": 3,
    "start_time": "2023-08-22T09:48:43.001Z"
   },
   {
    "duration": 4,
    "start_time": "2023-08-22T09:48:43.095Z"
   },
   {
    "duration": 144,
    "start_time": "2023-08-22T09:48:43.130Z"
   },
   {
    "duration": 55199,
    "start_time": "2023-08-22T09:48:43.276Z"
   },
   {
    "duration": 5,
    "start_time": "2023-08-22T09:49:38.481Z"
   },
   {
    "duration": 10,
    "start_time": "2023-08-22T09:49:38.489Z"
   },
   {
    "duration": 8,
    "start_time": "2023-08-22T09:49:38.502Z"
   },
   {
    "duration": 43,
    "start_time": "2023-08-22T09:49:38.512Z"
   },
   {
    "duration": 13,
    "start_time": "2023-08-22T09:49:38.557Z"
   },
   {
    "duration": 7,
    "start_time": "2023-08-22T09:49:38.574Z"
   },
   {
    "duration": 10,
    "start_time": "2023-08-22T09:49:38.584Z"
   },
   {
    "duration": 6,
    "start_time": "2023-08-22T09:49:38.596Z"
   },
   {
    "duration": 20,
    "start_time": "2023-08-22T09:49:38.604Z"
   },
   {
    "duration": 0,
    "start_time": "2023-08-22T09:49:38.627Z"
   },
   {
    "duration": 0,
    "start_time": "2023-08-22T09:49:38.629Z"
   },
   {
    "duration": 2,
    "start_time": "2023-08-22T09:50:09.068Z"
   },
   {
    "duration": 361,
    "start_time": "2023-08-22T09:50:09.228Z"
   },
   {
    "duration": 16,
    "start_time": "2023-08-23T07:39:04.845Z"
   },
   {
    "duration": 5,
    "start_time": "2023-08-23T07:39:27.553Z"
   },
   {
    "duration": 7143,
    "start_time": "2023-08-23T11:33:58.648Z"
   },
   {
    "duration": 3,
    "start_time": "2023-08-23T11:34:05.793Z"
   },
   {
    "duration": 126,
    "start_time": "2023-08-23T11:34:05.797Z"
   },
   {
    "duration": 11,
    "start_time": "2023-08-23T11:34:05.925Z"
   },
   {
    "duration": 41,
    "start_time": "2023-08-23T11:34:05.937Z"
   },
   {
    "duration": 4,
    "start_time": "2023-08-23T11:34:05.980Z"
   },
   {
    "duration": 31,
    "start_time": "2023-08-23T11:34:05.985Z"
   },
   {
    "duration": 23,
    "start_time": "2023-08-23T11:34:06.017Z"
   },
   {
    "duration": 14,
    "start_time": "2023-08-23T11:34:06.042Z"
   },
   {
    "duration": 149,
    "start_time": "2023-08-23T11:34:06.058Z"
   },
   {
    "duration": 199,
    "start_time": "2023-08-23T11:34:06.209Z"
   },
   {
    "duration": 4,
    "start_time": "2023-08-23T11:34:06.409Z"
   },
   {
    "duration": 19,
    "start_time": "2023-08-23T11:34:06.414Z"
   },
   {
    "duration": 13,
    "start_time": "2023-08-23T11:34:06.434Z"
   },
   {
    "duration": 22,
    "start_time": "2023-08-23T11:34:06.449Z"
   },
   {
    "duration": 5,
    "start_time": "2023-08-23T11:34:06.472Z"
   },
   {
    "duration": 5,
    "start_time": "2023-08-23T11:34:06.478Z"
   },
   {
    "duration": 11,
    "start_time": "2023-08-23T11:34:06.484Z"
   },
   {
    "duration": 20,
    "start_time": "2023-08-23T11:34:06.496Z"
   },
   {
    "duration": 10,
    "start_time": "2023-08-23T11:34:06.518Z"
   },
   {
    "duration": 4,
    "start_time": "2023-08-23T11:34:06.529Z"
   },
   {
    "duration": 6,
    "start_time": "2023-08-23T11:34:06.534Z"
   },
   {
    "duration": 7,
    "start_time": "2023-08-23T11:34:06.541Z"
   },
   {
    "duration": 20,
    "start_time": "2023-08-23T11:34:06.549Z"
   },
   {
    "duration": 13,
    "start_time": "2023-08-23T11:34:06.570Z"
   },
   {
    "duration": 9,
    "start_time": "2023-08-23T11:34:06.584Z"
   },
   {
    "duration": 35,
    "start_time": "2023-08-23T11:34:06.594Z"
   },
   {
    "duration": 104,
    "start_time": "2023-08-23T11:34:06.633Z"
   },
   {
    "duration": 4,
    "start_time": "2023-08-23T11:34:06.738Z"
   },
   {
    "duration": 6,
    "start_time": "2023-08-23T11:34:06.743Z"
   },
   {
    "duration": 17,
    "start_time": "2023-08-23T11:34:06.750Z"
   },
   {
    "duration": 6,
    "start_time": "2023-08-23T11:34:06.769Z"
   },
   {
    "duration": 9,
    "start_time": "2023-08-23T11:34:06.777Z"
   },
   {
    "duration": 20,
    "start_time": "2023-08-23T11:34:06.787Z"
   },
   {
    "duration": 4,
    "start_time": "2023-08-23T11:34:06.808Z"
   },
   {
    "duration": 5,
    "start_time": "2023-08-23T11:34:06.814Z"
   },
   {
    "duration": 7,
    "start_time": "2023-08-23T11:34:06.820Z"
   },
   {
    "duration": 10,
    "start_time": "2023-08-23T11:34:06.828Z"
   },
   {
    "duration": 14,
    "start_time": "2023-08-23T11:34:06.839Z"
   },
   {
    "duration": 12,
    "start_time": "2023-08-23T11:34:06.855Z"
   },
   {
    "duration": 6,
    "start_time": "2023-08-23T11:34:06.868Z"
   },
   {
    "duration": 19,
    "start_time": "2023-08-23T11:34:06.875Z"
   },
   {
    "duration": 166,
    "start_time": "2023-08-23T11:34:06.896Z"
   },
   {
    "duration": 10,
    "start_time": "2023-08-23T11:35:27.839Z"
   },
   {
    "duration": 201,
    "start_time": "2023-08-23T11:35:28.798Z"
   },
   {
    "duration": 3816,
    "start_time": "2023-08-23T11:36:57.704Z"
   },
   {
    "duration": 3,
    "start_time": "2023-08-23T11:37:01.522Z"
   },
   {
    "duration": 216,
    "start_time": "2023-08-23T11:37:01.527Z"
   },
   {
    "duration": 266,
    "start_time": "2023-08-23T11:37:01.744Z"
   },
   {
    "duration": 63,
    "start_time": "2023-08-23T11:37:02.012Z"
   },
   {
    "duration": 119,
    "start_time": "2023-08-23T11:37:02.077Z"
   },
   {
    "duration": 69,
    "start_time": "2023-08-23T11:37:02.198Z"
   },
   {
    "duration": 30,
    "start_time": "2023-08-23T11:37:02.270Z"
   },
   {
    "duration": 39,
    "start_time": "2023-08-23T11:37:02.301Z"
   },
   {
    "duration": 164,
    "start_time": "2023-08-23T11:37:02.342Z"
   },
   {
    "duration": 221,
    "start_time": "2023-08-23T11:37:02.508Z"
   },
   {
    "duration": 4,
    "start_time": "2023-08-23T11:37:02.730Z"
   },
   {
    "duration": 117,
    "start_time": "2023-08-23T11:37:02.736Z"
   },
   {
    "duration": 26,
    "start_time": "2023-08-23T11:37:02.855Z"
   },
   {
    "duration": 36,
    "start_time": "2023-08-23T11:37:02.883Z"
   },
   {
    "duration": 35,
    "start_time": "2023-08-23T11:37:02.920Z"
   },
   {
    "duration": 20,
    "start_time": "2023-08-23T11:37:02.956Z"
   },
   {
    "duration": 24,
    "start_time": "2023-08-23T11:37:02.978Z"
   },
   {
    "duration": 35,
    "start_time": "2023-08-23T11:37:03.004Z"
   },
   {
    "duration": 40,
    "start_time": "2023-08-23T11:37:03.040Z"
   },
   {
    "duration": 39,
    "start_time": "2023-08-23T11:37:03.082Z"
   },
   {
    "duration": 48,
    "start_time": "2023-08-23T11:37:03.123Z"
   },
   {
    "duration": 146,
    "start_time": "2023-08-23T11:37:03.173Z"
   },
   {
    "duration": 36,
    "start_time": "2023-08-23T11:37:03.320Z"
   },
   {
    "duration": 54,
    "start_time": "2023-08-23T11:37:03.357Z"
   },
   {
    "duration": 21,
    "start_time": "2023-08-23T11:37:03.413Z"
   },
   {
    "duration": 20,
    "start_time": "2023-08-23T11:37:03.435Z"
   },
   {
    "duration": 21,
    "start_time": "2023-08-23T11:37:03.458Z"
   },
   {
    "duration": 27,
    "start_time": "2023-08-23T11:37:03.481Z"
   },
   {
    "duration": 18,
    "start_time": "2023-08-23T11:37:03.510Z"
   },
   {
    "duration": 15,
    "start_time": "2023-08-23T11:37:03.530Z"
   },
   {
    "duration": 15,
    "start_time": "2023-08-23T11:37:03.546Z"
   },
   {
    "duration": 16,
    "start_time": "2023-08-23T11:37:03.562Z"
   },
   {
    "duration": 9,
    "start_time": "2023-08-23T11:37:03.580Z"
   },
   {
    "duration": 63,
    "start_time": "2023-08-23T11:37:03.590Z"
   },
   {
    "duration": 82,
    "start_time": "2023-08-23T11:37:03.655Z"
   },
   {
    "duration": 38,
    "start_time": "2023-08-23T11:37:03.739Z"
   },
   {
    "duration": 34,
    "start_time": "2023-08-23T11:37:03.779Z"
   },
   {
    "duration": 48,
    "start_time": "2023-08-23T11:37:03.815Z"
   },
   {
    "duration": 30,
    "start_time": "2023-08-23T11:37:03.865Z"
   },
   {
    "duration": 26,
    "start_time": "2023-08-23T11:37:03.897Z"
   },
   {
    "duration": 34,
    "start_time": "2023-08-23T11:37:03.925Z"
   },
   {
    "duration": 317,
    "start_time": "2023-08-23T11:37:03.961Z"
   },
   {
    "duration": 0,
    "start_time": "2023-08-23T11:37:04.287Z"
   },
   {
    "duration": 14,
    "start_time": "2023-08-23T11:38:55.273Z"
   },
   {
    "duration": 311,
    "start_time": "2023-08-23T11:38:56.179Z"
   },
   {
    "duration": 17,
    "start_time": "2023-08-23T11:41:20.703Z"
   },
   {
    "duration": 276,
    "start_time": "2023-08-23T11:41:21.373Z"
   },
   {
    "duration": 16,
    "start_time": "2023-08-23T11:41:57.789Z"
   },
   {
    "duration": 301,
    "start_time": "2023-08-23T11:41:58.448Z"
   },
   {
    "duration": 14,
    "start_time": "2023-08-23T11:42:23.982Z"
   },
   {
    "duration": 299,
    "start_time": "2023-08-23T11:42:24.432Z"
   },
   {
    "duration": 10,
    "start_time": "2023-08-23T11:42:56.552Z"
   },
   {
    "duration": 272,
    "start_time": "2023-08-23T11:42:57.211Z"
   },
   {
    "duration": 2,
    "start_time": "2023-08-23T11:51:56.924Z"
   },
   {
    "duration": 113,
    "start_time": "2023-08-23T11:51:57.232Z"
   },
   {
    "duration": 37030,
    "start_time": "2023-08-23T11:51:58.271Z"
   },
   {
    "duration": 5,
    "start_time": "2023-08-23T11:53:01.849Z"
   },
   {
    "duration": 219,
    "start_time": "2023-08-23T11:53:05.045Z"
   },
   {
    "duration": 10,
    "start_time": "2023-08-23T11:54:19.203Z"
   },
   {
    "duration": 171,
    "start_time": "2023-08-23T11:54:19.602Z"
   },
   {
    "duration": 5,
    "start_time": "2023-08-23T11:54:53.188Z"
   },
   {
    "duration": 170,
    "start_time": "2023-08-23T11:54:53.587Z"
   },
   {
    "duration": 10,
    "start_time": "2023-08-23T12:00:08.103Z"
   },
   {
    "duration": 160,
    "start_time": "2023-08-23T12:00:08.809Z"
   },
   {
    "duration": 9,
    "start_time": "2023-08-23T12:00:14.308Z"
   },
   {
    "duration": 148,
    "start_time": "2023-08-23T12:00:52.296Z"
   },
   {
    "duration": 330,
    "start_time": "2023-08-23T12:00:52.447Z"
   },
   {
    "duration": 15,
    "start_time": "2023-08-23T12:00:58.202Z"
   },
   {
    "duration": 36543,
    "start_time": "2023-08-23T12:00:58.653Z"
   },
   {
    "duration": 9,
    "start_time": "2023-08-23T12:10:24.443Z"
   },
   {
    "duration": 12,
    "start_time": "2023-08-23T12:10:24.917Z"
   },
   {
    "duration": 10,
    "start_time": "2023-08-23T12:10:51.423Z"
   },
   {
    "duration": 264,
    "start_time": "2023-08-23T12:10:51.828Z"
   },
   {
    "duration": 10,
    "start_time": "2023-08-23T12:10:58.318Z"
   },
   {
    "duration": 262,
    "start_time": "2023-08-23T12:10:58.652Z"
   },
   {
    "duration": 9,
    "start_time": "2023-08-23T12:11:14.125Z"
   },
   {
    "duration": 261,
    "start_time": "2023-08-23T12:11:14.505Z"
   },
   {
    "duration": 10,
    "start_time": "2023-08-23T12:11:50.220Z"
   },
   {
    "duration": 264,
    "start_time": "2023-08-23T12:11:50.833Z"
   },
   {
    "duration": 9,
    "start_time": "2023-08-23T12:14:37.372Z"
   },
   {
    "duration": 43116,
    "start_time": "2023-08-23T12:14:37.873Z"
   },
   {
    "duration": 104,
    "start_time": "2023-08-23T12:15:21.007Z"
   },
   {
    "duration": 6,
    "start_time": "2023-08-23T12:15:32.323Z"
   },
   {
    "duration": 157,
    "start_time": "2023-08-23T12:15:32.568Z"
   },
   {
    "duration": 6,
    "start_time": "2023-08-23T12:19:00.820Z"
   },
   {
    "duration": 149,
    "start_time": "2023-08-23T12:19:01.034Z"
   },
   {
    "duration": 5,
    "start_time": "2023-08-23T12:19:43.524Z"
   },
   {
    "duration": 331,
    "start_time": "2023-08-23T12:19:43.830Z"
   },
   {
    "duration": 7,
    "start_time": "2023-08-23T12:22:46.652Z"
   },
   {
    "duration": 528,
    "start_time": "2023-08-23T12:22:46.889Z"
   },
   {
    "duration": 7,
    "start_time": "2023-08-23T12:24:10.212Z"
   },
   {
    "duration": 425,
    "start_time": "2023-08-23T12:24:10.476Z"
   },
   {
    "duration": 6,
    "start_time": "2023-08-23T12:24:39.414Z"
   },
   {
    "duration": 431,
    "start_time": "2023-08-23T12:24:39.674Z"
   },
   {
    "duration": 2,
    "start_time": "2023-08-23T12:26:03.676Z"
   },
   {
    "duration": 13,
    "start_time": "2023-08-23T12:26:11.219Z"
   },
   {
    "duration": 3,
    "start_time": "2023-08-23T12:27:46.751Z"
   },
   {
    "duration": 2,
    "start_time": "2023-08-23T12:27:53.579Z"
   },
   {
    "duration": 3976,
    "start_time": "2023-08-23T12:30:31.969Z"
   },
   {
    "duration": 3,
    "start_time": "2023-08-23T12:30:35.947Z"
   },
   {
    "duration": 229,
    "start_time": "2023-08-23T12:30:35.951Z"
   },
   {
    "duration": 15,
    "start_time": "2023-08-23T12:30:36.182Z"
   },
   {
    "duration": 25,
    "start_time": "2023-08-23T12:30:36.199Z"
   },
   {
    "duration": 3,
    "start_time": "2023-08-23T12:30:36.225Z"
   },
   {
    "duration": 17,
    "start_time": "2023-08-23T12:30:36.230Z"
   },
   {
    "duration": 6,
    "start_time": "2023-08-23T12:30:36.249Z"
   },
   {
    "duration": 4,
    "start_time": "2023-08-23T12:30:36.257Z"
   },
   {
    "duration": 180,
    "start_time": "2023-08-23T12:30:36.263Z"
   },
   {
    "duration": 298,
    "start_time": "2023-08-23T12:30:36.445Z"
   },
   {
    "duration": 4,
    "start_time": "2023-08-23T12:30:36.744Z"
   },
   {
    "duration": 11,
    "start_time": "2023-08-23T12:30:36.749Z"
   },
   {
    "duration": 21,
    "start_time": "2023-08-23T12:30:36.762Z"
   },
   {
    "duration": 27,
    "start_time": "2023-08-23T12:30:36.784Z"
   },
   {
    "duration": 17,
    "start_time": "2023-08-23T12:30:36.813Z"
   },
   {
    "duration": 11,
    "start_time": "2023-08-23T12:30:36.831Z"
   },
   {
    "duration": 16,
    "start_time": "2023-08-23T12:30:36.844Z"
   },
   {
    "duration": 17,
    "start_time": "2023-08-23T12:30:36.861Z"
   },
   {
    "duration": 10,
    "start_time": "2023-08-23T12:30:36.880Z"
   },
   {
    "duration": 24,
    "start_time": "2023-08-23T12:30:36.892Z"
   },
   {
    "duration": 22,
    "start_time": "2023-08-23T12:30:36.918Z"
   },
   {
    "duration": 23,
    "start_time": "2023-08-23T12:30:36.942Z"
   },
   {
    "duration": 44,
    "start_time": "2023-08-23T12:30:36.967Z"
   },
   {
    "duration": 24,
    "start_time": "2023-08-23T12:30:37.013Z"
   },
   {
    "duration": 16,
    "start_time": "2023-08-23T12:30:37.039Z"
   },
   {
    "duration": 39,
    "start_time": "2023-08-23T12:30:37.057Z"
   },
   {
    "duration": 8,
    "start_time": "2023-08-23T12:30:37.102Z"
   },
   {
    "duration": 5,
    "start_time": "2023-08-23T12:30:37.112Z"
   },
   {
    "duration": 5,
    "start_time": "2023-08-23T12:30:37.119Z"
   },
   {
    "duration": 8,
    "start_time": "2023-08-23T12:30:37.126Z"
   },
   {
    "duration": 9,
    "start_time": "2023-08-23T12:30:37.135Z"
   },
   {
    "duration": 10,
    "start_time": "2023-08-23T12:30:37.145Z"
   },
   {
    "duration": 4,
    "start_time": "2023-08-23T12:30:37.156Z"
   },
   {
    "duration": 8,
    "start_time": "2023-08-23T12:30:37.162Z"
   },
   {
    "duration": 8,
    "start_time": "2023-08-23T12:30:37.171Z"
   },
   {
    "duration": 6,
    "start_time": "2023-08-23T12:30:37.181Z"
   },
   {
    "duration": 8,
    "start_time": "2023-08-23T12:30:37.188Z"
   },
   {
    "duration": 4,
    "start_time": "2023-08-23T12:30:37.198Z"
   },
   {
    "duration": 7,
    "start_time": "2023-08-23T12:30:37.204Z"
   },
   {
    "duration": 8,
    "start_time": "2023-08-23T12:30:37.213Z"
   },
   {
    "duration": 9,
    "start_time": "2023-08-23T12:30:37.222Z"
   },
   {
    "duration": 71,
    "start_time": "2023-08-23T12:30:37.233Z"
   },
   {
    "duration": 0,
    "start_time": "2023-08-23T12:30:37.305Z"
   },
   {
    "duration": 0,
    "start_time": "2023-08-23T12:30:37.306Z"
   },
   {
    "duration": 0,
    "start_time": "2023-08-23T12:30:37.307Z"
   },
   {
    "duration": 0,
    "start_time": "2023-08-23T12:30:37.308Z"
   },
   {
    "duration": 0,
    "start_time": "2023-08-23T12:30:37.309Z"
   },
   {
    "duration": 0,
    "start_time": "2023-08-23T12:30:37.310Z"
   },
   {
    "duration": 0,
    "start_time": "2023-08-23T12:30:37.311Z"
   },
   {
    "duration": 0,
    "start_time": "2023-08-23T12:30:37.311Z"
   },
   {
    "duration": 0,
    "start_time": "2023-08-23T12:30:37.313Z"
   },
   {
    "duration": 0,
    "start_time": "2023-08-23T12:30:37.314Z"
   },
   {
    "duration": 10,
    "start_time": "2023-08-23T12:32:00.552Z"
   },
   {
    "duration": 34,
    "start_time": "2023-08-23T12:32:01.685Z"
   },
   {
    "duration": 10,
    "start_time": "2023-08-23T12:32:07.802Z"
   },
   {
    "duration": 35,
    "start_time": "2023-08-23T12:32:08.485Z"
   },
   {
    "duration": 10,
    "start_time": "2023-08-23T12:32:17.200Z"
   },
   {
    "duration": 21,
    "start_time": "2023-08-23T12:32:17.793Z"
   },
   {
    "duration": 9,
    "start_time": "2023-08-23T12:32:21.892Z"
   },
   {
    "duration": 21,
    "start_time": "2023-08-23T12:32:22.369Z"
   },
   {
    "duration": 4330,
    "start_time": "2023-08-23T12:33:44.549Z"
   },
   {
    "duration": 3,
    "start_time": "2023-08-23T12:33:48.882Z"
   },
   {
    "duration": 193,
    "start_time": "2023-08-23T12:33:48.887Z"
   },
   {
    "duration": 16,
    "start_time": "2023-08-23T12:33:49.082Z"
   },
   {
    "duration": 64,
    "start_time": "2023-08-23T12:33:49.101Z"
   },
   {
    "duration": 5,
    "start_time": "2023-08-23T12:33:49.167Z"
   },
   {
    "duration": 31,
    "start_time": "2023-08-23T12:33:49.173Z"
   },
   {
    "duration": 25,
    "start_time": "2023-08-23T12:33:49.206Z"
   },
   {
    "duration": 31,
    "start_time": "2023-08-23T12:33:49.232Z"
   },
   {
    "duration": 172,
    "start_time": "2023-08-23T12:33:49.265Z"
   },
   {
    "duration": 212,
    "start_time": "2023-08-23T12:33:49.439Z"
   },
   {
    "duration": 3,
    "start_time": "2023-08-23T12:33:49.653Z"
   },
   {
    "duration": 7,
    "start_time": "2023-08-23T12:33:49.658Z"
   },
   {
    "duration": 13,
    "start_time": "2023-08-23T12:33:49.666Z"
   },
   {
    "duration": 8,
    "start_time": "2023-08-23T12:33:49.680Z"
   },
   {
    "duration": 11,
    "start_time": "2023-08-23T12:33:49.689Z"
   },
   {
    "duration": 6,
    "start_time": "2023-08-23T12:33:49.701Z"
   },
   {
    "duration": 6,
    "start_time": "2023-08-23T12:33:49.709Z"
   },
   {
    "duration": 6,
    "start_time": "2023-08-23T12:33:49.717Z"
   },
   {
    "duration": 6,
    "start_time": "2023-08-23T12:33:49.725Z"
   },
   {
    "duration": 5,
    "start_time": "2023-08-23T12:33:49.733Z"
   },
   {
    "duration": 6,
    "start_time": "2023-08-23T12:33:49.740Z"
   },
   {
    "duration": 8,
    "start_time": "2023-08-23T12:33:49.748Z"
   },
   {
    "duration": 14,
    "start_time": "2023-08-23T12:33:49.758Z"
   },
   {
    "duration": 23,
    "start_time": "2023-08-23T12:33:49.773Z"
   },
   {
    "duration": 3,
    "start_time": "2023-08-23T12:33:49.798Z"
   },
   {
    "duration": 8,
    "start_time": "2023-08-23T12:33:49.802Z"
   },
   {
    "duration": 12,
    "start_time": "2023-08-23T12:33:49.815Z"
   },
   {
    "duration": 15,
    "start_time": "2023-08-23T12:33:49.829Z"
   },
   {
    "duration": 9,
    "start_time": "2023-08-23T12:33:49.846Z"
   },
   {
    "duration": 7,
    "start_time": "2023-08-23T12:33:49.856Z"
   },
   {
    "duration": 9,
    "start_time": "2023-08-23T12:33:49.864Z"
   },
   {
    "duration": 10,
    "start_time": "2023-08-23T12:33:49.875Z"
   },
   {
    "duration": 5,
    "start_time": "2023-08-23T12:33:49.886Z"
   },
   {
    "duration": 9,
    "start_time": "2023-08-23T12:33:49.892Z"
   },
   {
    "duration": 24,
    "start_time": "2023-08-23T12:33:49.902Z"
   },
   {
    "duration": 11,
    "start_time": "2023-08-23T12:33:49.928Z"
   },
   {
    "duration": 37,
    "start_time": "2023-08-23T12:33:49.940Z"
   },
   {
    "duration": 44,
    "start_time": "2023-08-23T12:33:49.978Z"
   },
   {
    "duration": 32,
    "start_time": "2023-08-23T12:33:50.024Z"
   },
   {
    "duration": 53,
    "start_time": "2023-08-23T12:33:50.057Z"
   },
   {
    "duration": 23,
    "start_time": "2023-08-23T12:33:50.112Z"
   },
   {
    "duration": 50,
    "start_time": "2023-08-23T12:33:50.137Z"
   },
   {
    "duration": 0,
    "start_time": "2023-08-23T12:33:50.189Z"
   },
   {
    "duration": 0,
    "start_time": "2023-08-23T12:33:50.190Z"
   },
   {
    "duration": 0,
    "start_time": "2023-08-23T12:33:50.191Z"
   },
   {
    "duration": 0,
    "start_time": "2023-08-23T12:33:50.192Z"
   },
   {
    "duration": 0,
    "start_time": "2023-08-23T12:33:50.193Z"
   },
   {
    "duration": 0,
    "start_time": "2023-08-23T12:33:50.194Z"
   },
   {
    "duration": 0,
    "start_time": "2023-08-23T12:33:50.195Z"
   },
   {
    "duration": 0,
    "start_time": "2023-08-23T12:33:50.201Z"
   },
   {
    "duration": 0,
    "start_time": "2023-08-23T12:33:50.202Z"
   },
   {
    "duration": 0,
    "start_time": "2023-08-23T12:33:50.203Z"
   },
   {
    "duration": 9,
    "start_time": "2023-08-23T12:35:25.697Z"
   },
   {
    "duration": 20,
    "start_time": "2023-08-23T12:35:26.176Z"
   },
   {
    "duration": 10,
    "start_time": "2023-08-23T12:36:24.091Z"
   },
   {
    "duration": 36,
    "start_time": "2023-08-23T12:36:24.746Z"
   },
   {
    "duration": 10,
    "start_time": "2023-08-23T12:37:35.590Z"
   },
   {
    "duration": 24,
    "start_time": "2023-08-23T12:37:36.454Z"
   },
   {
    "duration": 5,
    "start_time": "2023-08-23T12:42:13.326Z"
   },
   {
    "duration": 10,
    "start_time": "2023-08-23T12:42:21.090Z"
   },
   {
    "duration": 7589,
    "start_time": "2023-08-23T12:42:22.117Z"
   },
   {
    "duration": 4097,
    "start_time": "2023-08-23T12:42:35.330Z"
   },
   {
    "duration": 3,
    "start_time": "2023-08-23T12:42:39.430Z"
   },
   {
    "duration": 74,
    "start_time": "2023-08-23T12:42:39.435Z"
   },
   {
    "duration": 11,
    "start_time": "2023-08-23T12:42:39.511Z"
   },
   {
    "duration": 46,
    "start_time": "2023-08-23T12:42:39.525Z"
   },
   {
    "duration": 4,
    "start_time": "2023-08-23T12:42:39.572Z"
   },
   {
    "duration": 18,
    "start_time": "2023-08-23T12:42:39.577Z"
   },
   {
    "duration": 17,
    "start_time": "2023-08-23T12:42:39.597Z"
   },
   {
    "duration": 22,
    "start_time": "2023-08-23T12:42:39.616Z"
   },
   {
    "duration": 164,
    "start_time": "2023-08-23T12:42:39.640Z"
   },
   {
    "duration": 220,
    "start_time": "2023-08-23T12:42:39.806Z"
   },
   {
    "duration": 5,
    "start_time": "2023-08-23T12:42:40.028Z"
   },
   {
    "duration": 16,
    "start_time": "2023-08-23T12:42:40.035Z"
   },
   {
    "duration": 35,
    "start_time": "2023-08-23T12:42:40.055Z"
   },
   {
    "duration": 27,
    "start_time": "2023-08-23T12:42:40.092Z"
   },
   {
    "duration": 19,
    "start_time": "2023-08-23T12:42:40.121Z"
   },
   {
    "duration": 26,
    "start_time": "2023-08-23T12:42:40.142Z"
   },
   {
    "duration": 25,
    "start_time": "2023-08-23T12:42:40.169Z"
   },
   {
    "duration": 27,
    "start_time": "2023-08-23T12:42:40.195Z"
   },
   {
    "duration": 24,
    "start_time": "2023-08-23T12:42:40.224Z"
   },
   {
    "duration": 28,
    "start_time": "2023-08-23T12:42:40.250Z"
   },
   {
    "duration": 28,
    "start_time": "2023-08-23T12:42:40.280Z"
   },
   {
    "duration": 17,
    "start_time": "2023-08-23T12:42:40.310Z"
   },
   {
    "duration": 36,
    "start_time": "2023-08-23T12:42:40.328Z"
   },
   {
    "duration": 37,
    "start_time": "2023-08-23T12:42:40.366Z"
   },
   {
    "duration": 17,
    "start_time": "2023-08-23T12:42:40.405Z"
   },
   {
    "duration": 17,
    "start_time": "2023-08-23T12:42:40.423Z"
   },
   {
    "duration": 22,
    "start_time": "2023-08-23T12:42:40.442Z"
   },
   {
    "duration": 15,
    "start_time": "2023-08-23T12:42:40.465Z"
   },
   {
    "duration": 21,
    "start_time": "2023-08-23T12:42:40.482Z"
   },
   {
    "duration": 14,
    "start_time": "2023-08-23T12:42:40.504Z"
   },
   {
    "duration": 9,
    "start_time": "2023-08-23T12:42:40.520Z"
   },
   {
    "duration": 36,
    "start_time": "2023-08-23T12:42:40.531Z"
   },
   {
    "duration": 13,
    "start_time": "2023-08-23T12:42:40.569Z"
   },
   {
    "duration": 24,
    "start_time": "2023-08-23T12:42:40.584Z"
   },
   {
    "duration": 32,
    "start_time": "2023-08-23T12:42:40.610Z"
   },
   {
    "duration": 21,
    "start_time": "2023-08-23T12:42:40.644Z"
   },
   {
    "duration": 25,
    "start_time": "2023-08-23T12:42:40.667Z"
   },
   {
    "duration": 17,
    "start_time": "2023-08-23T12:42:40.693Z"
   },
   {
    "duration": 25,
    "start_time": "2023-08-23T12:42:40.712Z"
   },
   {
    "duration": 18,
    "start_time": "2023-08-23T12:42:40.741Z"
   },
   {
    "duration": 18,
    "start_time": "2023-08-23T12:42:40.761Z"
   },
   {
    "duration": 42027,
    "start_time": "2023-08-23T12:42:40.781Z"
   },
   {
    "duration": 7,
    "start_time": "2023-08-23T12:43:22.810Z"
   },
   {
    "duration": 465,
    "start_time": "2023-08-23T12:43:22.818Z"
   },
   {
    "duration": 3,
    "start_time": "2023-08-23T12:43:23.286Z"
   },
   {
    "duration": 158,
    "start_time": "2023-08-23T12:43:23.290Z"
   },
   {
    "duration": 44,
    "start_time": "2023-08-23T12:43:23.450Z"
   },
   {
    "duration": 45,
    "start_time": "2023-08-23T12:43:23.496Z"
   },
   {
    "duration": 0,
    "start_time": "2023-08-23T12:43:23.543Z"
   },
   {
    "duration": 0,
    "start_time": "2023-08-23T12:43:23.544Z"
   },
   {
    "duration": 0,
    "start_time": "2023-08-23T12:43:23.545Z"
   },
   {
    "duration": 0,
    "start_time": "2023-08-23T12:43:23.546Z"
   },
   {
    "duration": 2341,
    "start_time": "2023-08-23T13:02:06.536Z"
   },
   {
    "duration": 4,
    "start_time": "2023-08-23T13:02:08.880Z"
   },
   {
    "duration": 96,
    "start_time": "2023-08-23T13:02:08.886Z"
   },
   {
    "duration": 13,
    "start_time": "2023-08-23T13:02:08.985Z"
   },
   {
    "duration": 55,
    "start_time": "2023-08-23T13:02:09.000Z"
   },
   {
    "duration": 18,
    "start_time": "2023-08-23T13:02:09.057Z"
   },
   {
    "duration": 70,
    "start_time": "2023-08-23T13:02:09.077Z"
   },
   {
    "duration": 91,
    "start_time": "2023-08-23T13:02:09.149Z"
   },
   {
    "duration": 162,
    "start_time": "2023-08-23T13:02:09.241Z"
   },
   {
    "duration": 175,
    "start_time": "2023-08-23T13:02:09.406Z"
   },
   {
    "duration": 211,
    "start_time": "2023-08-23T13:02:09.586Z"
   },
   {
    "duration": 4,
    "start_time": "2023-08-23T13:02:09.799Z"
   },
   {
    "duration": 39,
    "start_time": "2023-08-23T13:02:09.805Z"
   },
   {
    "duration": 20,
    "start_time": "2023-08-23T13:02:09.846Z"
   },
   {
    "duration": 24,
    "start_time": "2023-08-23T13:02:09.867Z"
   },
   {
    "duration": 37,
    "start_time": "2023-08-23T13:02:09.893Z"
   },
   {
    "duration": 131,
    "start_time": "2023-08-23T13:02:09.932Z"
   },
   {
    "duration": 28,
    "start_time": "2023-08-23T13:02:10.064Z"
   },
   {
    "duration": 34,
    "start_time": "2023-08-23T13:02:10.094Z"
   },
   {
    "duration": 33,
    "start_time": "2023-08-23T13:02:10.130Z"
   },
   {
    "duration": 36,
    "start_time": "2023-08-23T13:02:10.165Z"
   },
   {
    "duration": 33,
    "start_time": "2023-08-23T13:02:10.202Z"
   },
   {
    "duration": 14,
    "start_time": "2023-08-23T13:02:10.237Z"
   },
   {
    "duration": 30,
    "start_time": "2023-08-23T13:02:10.252Z"
   },
   {
    "duration": 40,
    "start_time": "2023-08-23T13:02:10.283Z"
   },
   {
    "duration": 22,
    "start_time": "2023-08-23T13:02:10.325Z"
   },
   {
    "duration": 55,
    "start_time": "2023-08-23T13:02:10.349Z"
   },
   {
    "duration": 0,
    "start_time": "2023-08-23T13:02:10.407Z"
   },
   {
    "duration": 1,
    "start_time": "2023-08-23T13:02:10.407Z"
   },
   {
    "duration": 0,
    "start_time": "2023-08-23T13:02:10.408Z"
   },
   {
    "duration": 0,
    "start_time": "2023-08-23T13:02:10.409Z"
   },
   {
    "duration": 0,
    "start_time": "2023-08-23T13:02:10.410Z"
   },
   {
    "duration": 0,
    "start_time": "2023-08-23T13:02:10.411Z"
   },
   {
    "duration": 0,
    "start_time": "2023-08-23T13:02:10.412Z"
   },
   {
    "duration": 0,
    "start_time": "2023-08-23T13:02:10.413Z"
   },
   {
    "duration": 0,
    "start_time": "2023-08-23T13:02:10.414Z"
   },
   {
    "duration": 0,
    "start_time": "2023-08-23T13:02:10.415Z"
   },
   {
    "duration": 0,
    "start_time": "2023-08-23T13:02:10.416Z"
   },
   {
    "duration": 0,
    "start_time": "2023-08-23T13:02:10.417Z"
   },
   {
    "duration": 0,
    "start_time": "2023-08-23T13:02:10.418Z"
   },
   {
    "duration": 0,
    "start_time": "2023-08-23T13:02:10.419Z"
   },
   {
    "duration": 0,
    "start_time": "2023-08-23T13:02:10.419Z"
   },
   {
    "duration": 0,
    "start_time": "2023-08-23T13:02:10.420Z"
   },
   {
    "duration": 0,
    "start_time": "2023-08-23T13:02:10.421Z"
   },
   {
    "duration": 0,
    "start_time": "2023-08-23T13:02:10.422Z"
   },
   {
    "duration": 0,
    "start_time": "2023-08-23T13:02:10.423Z"
   },
   {
    "duration": 0,
    "start_time": "2023-08-23T13:02:10.424Z"
   },
   {
    "duration": 0,
    "start_time": "2023-08-23T13:02:10.425Z"
   },
   {
    "duration": 0,
    "start_time": "2023-08-23T13:02:10.426Z"
   },
   {
    "duration": 0,
    "start_time": "2023-08-23T13:02:10.427Z"
   },
   {
    "duration": 1,
    "start_time": "2023-08-23T13:02:10.427Z"
   },
   {
    "duration": 15,
    "start_time": "2023-08-23T13:03:24.606Z"
   },
   {
    "duration": 2402,
    "start_time": "2023-08-23T13:06:58.663Z"
   },
   {
    "duration": 3,
    "start_time": "2023-08-23T13:07:01.068Z"
   },
   {
    "duration": 157,
    "start_time": "2023-08-23T13:07:01.073Z"
   },
   {
    "duration": 12,
    "start_time": "2023-08-23T13:07:01.233Z"
   },
   {
    "duration": 41,
    "start_time": "2023-08-23T13:07:01.247Z"
   },
   {
    "duration": 4,
    "start_time": "2023-08-23T13:07:01.290Z"
   },
   {
    "duration": 49,
    "start_time": "2023-08-23T13:07:01.295Z"
   },
   {
    "duration": 42,
    "start_time": "2023-08-23T13:07:01.346Z"
   },
   {
    "duration": 37,
    "start_time": "2023-08-23T13:07:01.389Z"
   },
   {
    "duration": 188,
    "start_time": "2023-08-23T13:07:01.429Z"
   },
   {
    "duration": 376,
    "start_time": "2023-08-23T13:07:01.618Z"
   },
   {
    "duration": 4,
    "start_time": "2023-08-23T13:07:01.996Z"
   },
   {
    "duration": 51,
    "start_time": "2023-08-23T13:07:02.002Z"
   },
   {
    "duration": 48,
    "start_time": "2023-08-23T13:07:02.056Z"
   },
   {
    "duration": 51,
    "start_time": "2023-08-23T13:07:02.106Z"
   },
   {
    "duration": 36,
    "start_time": "2023-08-23T13:07:02.159Z"
   },
   {
    "duration": 32,
    "start_time": "2023-08-23T13:07:02.197Z"
   },
   {
    "duration": 31,
    "start_time": "2023-08-23T13:07:02.231Z"
   },
   {
    "duration": 31,
    "start_time": "2023-08-23T13:07:02.264Z"
   },
   {
    "duration": 57,
    "start_time": "2023-08-23T13:07:02.297Z"
   },
   {
    "duration": 125,
    "start_time": "2023-08-23T13:07:02.356Z"
   },
   {
    "duration": 36,
    "start_time": "2023-08-23T13:07:02.483Z"
   },
   {
    "duration": 157,
    "start_time": "2023-08-23T13:07:02.521Z"
   },
   {
    "duration": 78,
    "start_time": "2023-08-23T13:07:02.679Z"
   },
   {
    "duration": 32,
    "start_time": "2023-08-23T13:07:02.759Z"
   },
   {
    "duration": 25,
    "start_time": "2023-08-23T13:07:02.792Z"
   },
   {
    "duration": 36,
    "start_time": "2023-08-23T13:07:02.819Z"
   },
   {
    "duration": 62,
    "start_time": "2023-08-23T13:07:02.859Z"
   },
   {
    "duration": 0,
    "start_time": "2023-08-23T13:07:02.923Z"
   },
   {
    "duration": 0,
    "start_time": "2023-08-23T13:07:02.924Z"
   },
   {
    "duration": 0,
    "start_time": "2023-08-23T13:07:02.926Z"
   },
   {
    "duration": 0,
    "start_time": "2023-08-23T13:07:02.927Z"
   },
   {
    "duration": 0,
    "start_time": "2023-08-23T13:07:02.928Z"
   },
   {
    "duration": 0,
    "start_time": "2023-08-23T13:07:02.929Z"
   },
   {
    "duration": 0,
    "start_time": "2023-08-23T13:07:02.931Z"
   },
   {
    "duration": 0,
    "start_time": "2023-08-23T13:07:02.932Z"
   },
   {
    "duration": 0,
    "start_time": "2023-08-23T13:07:02.933Z"
   },
   {
    "duration": 0,
    "start_time": "2023-08-23T13:07:02.934Z"
   },
   {
    "duration": 0,
    "start_time": "2023-08-23T13:07:02.935Z"
   },
   {
    "duration": 0,
    "start_time": "2023-08-23T13:07:02.936Z"
   },
   {
    "duration": 0,
    "start_time": "2023-08-23T13:07:02.937Z"
   },
   {
    "duration": 0,
    "start_time": "2023-08-23T13:07:02.939Z"
   },
   {
    "duration": 0,
    "start_time": "2023-08-23T13:07:02.940Z"
   },
   {
    "duration": 0,
    "start_time": "2023-08-23T13:07:02.941Z"
   },
   {
    "duration": 0,
    "start_time": "2023-08-23T13:07:02.942Z"
   },
   {
    "duration": 0,
    "start_time": "2023-08-23T13:07:02.944Z"
   },
   {
    "duration": 0,
    "start_time": "2023-08-23T13:07:02.945Z"
   },
   {
    "duration": 0,
    "start_time": "2023-08-23T13:07:02.947Z"
   },
   {
    "duration": 0,
    "start_time": "2023-08-23T13:07:02.947Z"
   },
   {
    "duration": 0,
    "start_time": "2023-08-23T13:07:02.948Z"
   },
   {
    "duration": 0,
    "start_time": "2023-08-23T13:07:02.950Z"
   },
   {
    "duration": 0,
    "start_time": "2023-08-23T13:07:02.951Z"
   },
   {
    "duration": 2353,
    "start_time": "2023-08-23T13:07:45.807Z"
   },
   {
    "duration": 4,
    "start_time": "2023-08-23T13:07:48.163Z"
   },
   {
    "duration": 155,
    "start_time": "2023-08-23T13:07:48.169Z"
   },
   {
    "duration": 12,
    "start_time": "2023-08-23T13:07:48.326Z"
   },
   {
    "duration": 66,
    "start_time": "2023-08-23T13:07:48.340Z"
   },
   {
    "duration": 10,
    "start_time": "2023-08-23T13:07:48.407Z"
   },
   {
    "duration": 48,
    "start_time": "2023-08-23T13:07:48.419Z"
   },
   {
    "duration": 50,
    "start_time": "2023-08-23T13:07:48.469Z"
   },
   {
    "duration": 33,
    "start_time": "2023-08-23T13:07:48.521Z"
   },
   {
    "duration": 199,
    "start_time": "2023-08-23T13:07:48.557Z"
   },
   {
    "duration": 223,
    "start_time": "2023-08-23T13:07:48.758Z"
   },
   {
    "duration": 4,
    "start_time": "2023-08-23T13:07:48.988Z"
   },
   {
    "duration": 41,
    "start_time": "2023-08-23T13:07:48.993Z"
   },
   {
    "duration": 30,
    "start_time": "2023-08-23T13:07:49.035Z"
   },
   {
    "duration": 30,
    "start_time": "2023-08-23T13:07:49.067Z"
   },
   {
    "duration": 48,
    "start_time": "2023-08-23T13:07:49.099Z"
   },
   {
    "duration": 36,
    "start_time": "2023-08-23T13:07:49.149Z"
   },
   {
    "duration": 21,
    "start_time": "2023-08-23T13:07:49.187Z"
   },
   {
    "duration": 43,
    "start_time": "2023-08-23T13:07:49.210Z"
   },
   {
    "duration": 57,
    "start_time": "2023-08-23T13:07:49.255Z"
   },
   {
    "duration": 43,
    "start_time": "2023-08-23T13:07:49.314Z"
   },
   {
    "duration": 23,
    "start_time": "2023-08-23T13:07:49.358Z"
   },
   {
    "duration": 26,
    "start_time": "2023-08-23T13:07:49.383Z"
   },
   {
    "duration": 23,
    "start_time": "2023-08-23T13:07:49.410Z"
   },
   {
    "duration": 34,
    "start_time": "2023-08-23T13:07:49.435Z"
   },
   {
    "duration": 22,
    "start_time": "2023-08-23T13:07:49.470Z"
   },
   {
    "duration": 16,
    "start_time": "2023-08-23T13:07:49.494Z"
   },
   {
    "duration": 37,
    "start_time": "2023-08-23T13:07:49.515Z"
   },
   {
    "duration": 0,
    "start_time": "2023-08-23T13:07:49.554Z"
   },
   {
    "duration": 0,
    "start_time": "2023-08-23T13:07:49.556Z"
   },
   {
    "duration": 0,
    "start_time": "2023-08-23T13:07:49.557Z"
   },
   {
    "duration": 0,
    "start_time": "2023-08-23T13:07:49.559Z"
   },
   {
    "duration": 0,
    "start_time": "2023-08-23T13:07:49.560Z"
   },
   {
    "duration": 0,
    "start_time": "2023-08-23T13:07:49.562Z"
   },
   {
    "duration": 0,
    "start_time": "2023-08-23T13:07:49.563Z"
   },
   {
    "duration": 0,
    "start_time": "2023-08-23T13:07:49.564Z"
   },
   {
    "duration": 0,
    "start_time": "2023-08-23T13:07:49.565Z"
   },
   {
    "duration": 0,
    "start_time": "2023-08-23T13:07:49.567Z"
   },
   {
    "duration": 0,
    "start_time": "2023-08-23T13:07:49.568Z"
   },
   {
    "duration": 0,
    "start_time": "2023-08-23T13:07:49.569Z"
   },
   {
    "duration": 0,
    "start_time": "2023-08-23T13:07:49.570Z"
   },
   {
    "duration": 2345,
    "start_time": "2023-08-23T13:08:18.555Z"
   },
   {
    "duration": 4,
    "start_time": "2023-08-23T13:08:20.902Z"
   },
   {
    "duration": 107,
    "start_time": "2023-08-23T13:08:20.908Z"
   },
   {
    "duration": 12,
    "start_time": "2023-08-23T13:08:21.017Z"
   },
   {
    "duration": 45,
    "start_time": "2023-08-23T13:08:21.031Z"
   },
   {
    "duration": 4,
    "start_time": "2023-08-23T13:08:21.077Z"
   },
   {
    "duration": 29,
    "start_time": "2023-08-23T13:08:21.083Z"
   },
   {
    "duration": 42,
    "start_time": "2023-08-23T13:08:21.114Z"
   },
   {
    "duration": 31,
    "start_time": "2023-08-23T13:08:21.158Z"
   },
   {
    "duration": 164,
    "start_time": "2023-08-23T13:08:21.192Z"
   },
   {
    "duration": 220,
    "start_time": "2023-08-23T13:08:21.358Z"
   },
   {
    "duration": 8,
    "start_time": "2023-08-23T13:08:21.579Z"
   },
   {
    "duration": 61,
    "start_time": "2023-08-23T13:08:21.589Z"
   },
   {
    "duration": 77,
    "start_time": "2023-08-23T13:08:21.652Z"
   },
   {
    "duration": 62,
    "start_time": "2023-08-23T13:08:21.731Z"
   },
   {
    "duration": 24,
    "start_time": "2023-08-23T13:08:21.794Z"
   },
   {
    "duration": 20,
    "start_time": "2023-08-23T13:08:21.820Z"
   },
   {
    "duration": 19,
    "start_time": "2023-08-23T13:08:21.842Z"
   },
   {
    "duration": 53,
    "start_time": "2023-08-23T13:08:21.863Z"
   },
   {
    "duration": 42,
    "start_time": "2023-08-23T13:08:21.917Z"
   },
   {
    "duration": 28,
    "start_time": "2023-08-23T13:08:21.961Z"
   },
   {
    "duration": 27,
    "start_time": "2023-08-23T13:08:21.990Z"
   },
   {
    "duration": 22,
    "start_time": "2023-08-23T13:08:22.018Z"
   },
   {
    "duration": 16,
    "start_time": "2023-08-23T13:08:22.042Z"
   },
   {
    "duration": 45,
    "start_time": "2023-08-23T13:08:22.060Z"
   },
   {
    "duration": 37,
    "start_time": "2023-08-23T13:08:22.106Z"
   },
   {
    "duration": 44,
    "start_time": "2023-08-23T13:08:22.145Z"
   },
   {
    "duration": 64,
    "start_time": "2023-08-23T13:08:22.192Z"
   },
   {
    "duration": 0,
    "start_time": "2023-08-23T13:08:22.258Z"
   },
   {
    "duration": 0,
    "start_time": "2023-08-23T13:08:22.259Z"
   },
   {
    "duration": 0,
    "start_time": "2023-08-23T13:08:22.260Z"
   },
   {
    "duration": 0,
    "start_time": "2023-08-23T13:08:22.261Z"
   },
   {
    "duration": 0,
    "start_time": "2023-08-23T13:08:22.263Z"
   },
   {
    "duration": 0,
    "start_time": "2023-08-23T13:08:22.265Z"
   },
   {
    "duration": 0,
    "start_time": "2023-08-23T13:08:22.266Z"
   },
   {
    "duration": 0,
    "start_time": "2023-08-23T13:08:22.267Z"
   },
   {
    "duration": 0,
    "start_time": "2023-08-23T13:08:22.269Z"
   },
   {
    "duration": 0,
    "start_time": "2023-08-23T13:08:22.270Z"
   },
   {
    "duration": 0,
    "start_time": "2023-08-23T13:08:22.272Z"
   },
   {
    "duration": 0,
    "start_time": "2023-08-23T13:08:22.273Z"
   },
   {
    "duration": 0,
    "start_time": "2023-08-23T13:08:22.274Z"
   },
   {
    "duration": 0,
    "start_time": "2023-08-23T13:08:22.275Z"
   },
   {
    "duration": 0,
    "start_time": "2023-08-23T13:08:22.276Z"
   },
   {
    "duration": 0,
    "start_time": "2023-08-23T13:08:22.287Z"
   },
   {
    "duration": 0,
    "start_time": "2023-08-23T13:08:22.289Z"
   },
   {
    "duration": 5,
    "start_time": "2023-08-23T13:08:23.309Z"
   },
   {
    "duration": 4,
    "start_time": "2023-08-23T13:08:23.763Z"
   },
   {
    "duration": 3,
    "start_time": "2023-08-23T13:08:24.287Z"
   },
   {
    "duration": 3,
    "start_time": "2023-08-23T13:08:24.500Z"
   },
   {
    "duration": 14,
    "start_time": "2023-08-23T13:08:25.001Z"
   },
   {
    "duration": 10,
    "start_time": "2023-08-23T13:08:25.690Z"
   },
   {
    "duration": 11,
    "start_time": "2023-08-23T13:08:25.908Z"
   },
   {
    "duration": 2426,
    "start_time": "2023-08-23T13:10:13.690Z"
   },
   {
    "duration": 4,
    "start_time": "2023-08-23T13:10:16.119Z"
   },
   {
    "duration": 106,
    "start_time": "2023-08-23T13:10:16.124Z"
   },
   {
    "duration": 11,
    "start_time": "2023-08-23T13:10:16.232Z"
   },
   {
    "duration": 42,
    "start_time": "2023-08-23T13:10:16.245Z"
   },
   {
    "duration": 4,
    "start_time": "2023-08-23T13:10:16.289Z"
   },
   {
    "duration": 28,
    "start_time": "2023-08-23T13:10:16.295Z"
   },
   {
    "duration": 38,
    "start_time": "2023-08-23T13:10:16.325Z"
   },
   {
    "duration": 17,
    "start_time": "2023-08-23T13:10:16.365Z"
   },
   {
    "duration": 164,
    "start_time": "2023-08-23T13:10:16.385Z"
   },
   {
    "duration": 212,
    "start_time": "2023-08-23T13:10:16.551Z"
   },
   {
    "duration": 4,
    "start_time": "2023-08-23T13:10:16.765Z"
   },
   {
    "duration": 34,
    "start_time": "2023-08-23T13:10:16.770Z"
   },
   {
    "duration": 42,
    "start_time": "2023-08-23T13:10:16.806Z"
   },
   {
    "duration": 24,
    "start_time": "2023-08-23T13:10:16.850Z"
   },
   {
    "duration": 43,
    "start_time": "2023-08-23T13:10:16.876Z"
   },
   {
    "duration": 78,
    "start_time": "2023-08-23T13:10:16.921Z"
   },
   {
    "duration": 17,
    "start_time": "2023-08-23T13:10:17.001Z"
   },
   {
    "duration": 18,
    "start_time": "2023-08-23T13:10:17.020Z"
   },
   {
    "duration": 40,
    "start_time": "2023-08-23T13:10:17.039Z"
   },
   {
    "duration": 13,
    "start_time": "2023-08-23T13:10:17.080Z"
   },
   {
    "duration": 21,
    "start_time": "2023-08-23T13:10:17.095Z"
   },
   {
    "duration": 12,
    "start_time": "2023-08-23T13:10:17.118Z"
   },
   {
    "duration": 24,
    "start_time": "2023-08-23T13:10:17.132Z"
   },
   {
    "duration": 8,
    "start_time": "2023-08-23T13:10:17.158Z"
   },
   {
    "duration": 29,
    "start_time": "2023-08-23T13:10:17.168Z"
   },
   {
    "duration": 23,
    "start_time": "2023-08-23T13:10:17.198Z"
   },
   {
    "duration": 50,
    "start_time": "2023-08-23T13:10:17.225Z"
   },
   {
    "duration": 0,
    "start_time": "2023-08-23T13:10:17.277Z"
   },
   {
    "duration": 0,
    "start_time": "2023-08-23T13:10:17.278Z"
   },
   {
    "duration": 0,
    "start_time": "2023-08-23T13:10:17.279Z"
   },
   {
    "duration": 0,
    "start_time": "2023-08-23T13:10:17.280Z"
   },
   {
    "duration": 0,
    "start_time": "2023-08-23T13:10:17.281Z"
   },
   {
    "duration": 0,
    "start_time": "2023-08-23T13:10:17.283Z"
   },
   {
    "duration": 0,
    "start_time": "2023-08-23T13:10:17.284Z"
   },
   {
    "duration": 0,
    "start_time": "2023-08-23T13:10:17.285Z"
   },
   {
    "duration": 0,
    "start_time": "2023-08-23T13:10:17.286Z"
   },
   {
    "duration": 0,
    "start_time": "2023-08-23T13:10:17.287Z"
   },
   {
    "duration": 0,
    "start_time": "2023-08-23T13:10:17.289Z"
   },
   {
    "duration": 0,
    "start_time": "2023-08-23T13:10:17.290Z"
   },
   {
    "duration": 0,
    "start_time": "2023-08-23T13:10:17.292Z"
   },
   {
    "duration": 0,
    "start_time": "2023-08-23T13:10:17.293Z"
   },
   {
    "duration": 0,
    "start_time": "2023-08-23T13:10:17.294Z"
   },
   {
    "duration": 0,
    "start_time": "2023-08-23T13:10:17.296Z"
   },
   {
    "duration": 0,
    "start_time": "2023-08-23T13:10:17.296Z"
   },
   {
    "duration": 0,
    "start_time": "2023-08-23T13:10:17.298Z"
   },
   {
    "duration": 0,
    "start_time": "2023-08-23T13:10:17.299Z"
   },
   {
    "duration": 0,
    "start_time": "2023-08-23T13:10:17.300Z"
   },
   {
    "duration": 0,
    "start_time": "2023-08-23T13:10:17.301Z"
   },
   {
    "duration": 0,
    "start_time": "2023-08-23T13:10:17.302Z"
   },
   {
    "duration": 0,
    "start_time": "2023-08-23T13:10:17.304Z"
   },
   {
    "duration": 0,
    "start_time": "2023-08-23T13:10:17.305Z"
   },
   {
    "duration": 2171,
    "start_time": "2023-08-23T13:11:32.100Z"
   },
   {
    "duration": 3,
    "start_time": "2023-08-23T13:11:34.274Z"
   },
   {
    "duration": 80,
    "start_time": "2023-08-23T13:11:34.279Z"
   },
   {
    "duration": 13,
    "start_time": "2023-08-23T13:11:34.361Z"
   },
   {
    "duration": 36,
    "start_time": "2023-08-23T13:11:34.375Z"
   },
   {
    "duration": 3,
    "start_time": "2023-08-23T13:11:34.413Z"
   },
   {
    "duration": 11,
    "start_time": "2023-08-23T13:11:34.418Z"
   },
   {
    "duration": 17,
    "start_time": "2023-08-23T13:11:34.431Z"
   },
   {
    "duration": 5,
    "start_time": "2023-08-23T13:11:34.450Z"
   },
   {
    "duration": 142,
    "start_time": "2023-08-23T13:11:34.457Z"
   },
   {
    "duration": 219,
    "start_time": "2023-08-23T13:11:34.601Z"
   },
   {
    "duration": 4,
    "start_time": "2023-08-23T13:11:34.822Z"
   },
   {
    "duration": 7,
    "start_time": "2023-08-23T13:11:34.828Z"
   },
   {
    "duration": 9,
    "start_time": "2023-08-23T13:11:34.836Z"
   },
   {
    "duration": 13,
    "start_time": "2023-08-23T13:11:34.846Z"
   },
   {
    "duration": 26,
    "start_time": "2023-08-23T13:11:34.861Z"
   },
   {
    "duration": 19,
    "start_time": "2023-08-23T13:11:34.889Z"
   },
   {
    "duration": 14,
    "start_time": "2023-08-23T13:11:34.910Z"
   },
   {
    "duration": 15,
    "start_time": "2023-08-23T13:11:34.926Z"
   },
   {
    "duration": 29,
    "start_time": "2023-08-23T13:11:34.944Z"
   },
   {
    "duration": 36,
    "start_time": "2023-08-23T13:11:34.976Z"
   },
   {
    "duration": 27,
    "start_time": "2023-08-23T13:11:35.015Z"
   },
   {
    "duration": 19,
    "start_time": "2023-08-23T13:11:35.044Z"
   },
   {
    "duration": 14,
    "start_time": "2023-08-23T13:11:35.064Z"
   },
   {
    "duration": 19,
    "start_time": "2023-08-23T13:11:35.079Z"
   },
   {
    "duration": 14,
    "start_time": "2023-08-23T13:11:35.100Z"
   },
   {
    "duration": 23,
    "start_time": "2023-08-23T13:11:35.116Z"
   },
   {
    "duration": 41,
    "start_time": "2023-08-23T13:11:35.142Z"
   },
   {
    "duration": 0,
    "start_time": "2023-08-23T13:11:35.185Z"
   },
   {
    "duration": 0,
    "start_time": "2023-08-23T13:11:35.186Z"
   },
   {
    "duration": 0,
    "start_time": "2023-08-23T13:11:35.187Z"
   },
   {
    "duration": 0,
    "start_time": "2023-08-23T13:11:35.189Z"
   },
   {
    "duration": 0,
    "start_time": "2023-08-23T13:11:35.190Z"
   },
   {
    "duration": 0,
    "start_time": "2023-08-23T13:11:35.191Z"
   },
   {
    "duration": 0,
    "start_time": "2023-08-23T13:11:35.192Z"
   },
   {
    "duration": 0,
    "start_time": "2023-08-23T13:11:35.194Z"
   },
   {
    "duration": 0,
    "start_time": "2023-08-23T13:11:35.195Z"
   },
   {
    "duration": 2427,
    "start_time": "2023-08-23T13:12:20.604Z"
   },
   {
    "duration": 3,
    "start_time": "2023-08-23T13:12:23.034Z"
   },
   {
    "duration": 122,
    "start_time": "2023-08-23T13:12:23.039Z"
   },
   {
    "duration": 13,
    "start_time": "2023-08-23T13:12:23.164Z"
   },
   {
    "duration": 58,
    "start_time": "2023-08-23T13:12:23.180Z"
   },
   {
    "duration": 69,
    "start_time": "2023-08-23T13:12:23.240Z"
   },
   {
    "duration": 43,
    "start_time": "2023-08-23T13:12:23.311Z"
   },
   {
    "duration": 11,
    "start_time": "2023-08-23T13:12:23.356Z"
   },
   {
    "duration": 29,
    "start_time": "2023-08-23T13:12:23.369Z"
   },
   {
    "duration": 143,
    "start_time": "2023-08-23T13:12:23.402Z"
   },
   {
    "duration": 210,
    "start_time": "2023-08-23T13:12:23.548Z"
   },
   {
    "duration": 4,
    "start_time": "2023-08-23T13:12:23.760Z"
   },
   {
    "duration": 21,
    "start_time": "2023-08-23T13:12:23.765Z"
   },
   {
    "duration": 16,
    "start_time": "2023-08-23T13:12:23.788Z"
   },
   {
    "duration": 20,
    "start_time": "2023-08-23T13:12:23.806Z"
   },
   {
    "duration": 26,
    "start_time": "2023-08-23T13:12:23.828Z"
   },
   {
    "duration": 53,
    "start_time": "2023-08-23T13:12:23.856Z"
   },
   {
    "duration": 31,
    "start_time": "2023-08-23T13:12:23.911Z"
   },
   {
    "duration": 25,
    "start_time": "2023-08-23T13:12:23.944Z"
   },
   {
    "duration": 13,
    "start_time": "2023-08-23T13:12:23.971Z"
   },
   {
    "duration": 15,
    "start_time": "2023-08-23T13:12:23.986Z"
   },
   {
    "duration": 23,
    "start_time": "2023-08-23T13:12:24.003Z"
   },
   {
    "duration": 13,
    "start_time": "2023-08-23T13:12:24.027Z"
   },
   {
    "duration": 24,
    "start_time": "2023-08-23T13:12:24.042Z"
   },
   {
    "duration": 17,
    "start_time": "2023-08-23T13:12:24.068Z"
   },
   {
    "duration": 6,
    "start_time": "2023-08-23T13:12:24.086Z"
   },
   {
    "duration": 6,
    "start_time": "2023-08-23T13:12:24.094Z"
   },
   {
    "duration": 44,
    "start_time": "2023-08-23T13:12:24.104Z"
   },
   {
    "duration": 0,
    "start_time": "2023-08-23T13:12:24.150Z"
   },
   {
    "duration": 0,
    "start_time": "2023-08-23T13:12:24.151Z"
   },
   {
    "duration": 0,
    "start_time": "2023-08-23T13:12:24.152Z"
   },
   {
    "duration": 0,
    "start_time": "2023-08-23T13:12:24.153Z"
   },
   {
    "duration": 0,
    "start_time": "2023-08-23T13:12:24.155Z"
   },
   {
    "duration": 0,
    "start_time": "2023-08-23T13:12:24.156Z"
   },
   {
    "duration": 0,
    "start_time": "2023-08-23T13:12:24.157Z"
   },
   {
    "duration": 0,
    "start_time": "2023-08-23T13:12:24.158Z"
   },
   {
    "duration": 0,
    "start_time": "2023-08-23T13:12:24.160Z"
   },
   {
    "duration": 0,
    "start_time": "2023-08-23T13:12:24.161Z"
   },
   {
    "duration": 2297,
    "start_time": "2023-08-23T13:13:59.807Z"
   },
   {
    "duration": 3,
    "start_time": "2023-08-23T13:14:02.107Z"
   },
   {
    "duration": 102,
    "start_time": "2023-08-23T13:14:02.112Z"
   },
   {
    "duration": 14,
    "start_time": "2023-08-23T13:14:02.217Z"
   },
   {
    "duration": 41,
    "start_time": "2023-08-23T13:14:02.233Z"
   },
   {
    "duration": 47,
    "start_time": "2023-08-23T13:14:02.276Z"
   },
   {
    "duration": 53,
    "start_time": "2023-08-23T13:14:02.325Z"
   },
   {
    "duration": 52,
    "start_time": "2023-08-23T13:14:02.380Z"
   },
   {
    "duration": 127,
    "start_time": "2023-08-23T13:14:02.434Z"
   },
   {
    "duration": 137,
    "start_time": "2023-08-23T13:14:02.564Z"
   },
   {
    "duration": 208,
    "start_time": "2023-08-23T13:14:02.703Z"
   },
   {
    "duration": 4,
    "start_time": "2023-08-23T13:14:02.913Z"
   },
   {
    "duration": 32,
    "start_time": "2023-08-23T13:14:02.919Z"
   },
   {
    "duration": 20,
    "start_time": "2023-08-23T13:14:02.953Z"
   },
   {
    "duration": 36,
    "start_time": "2023-08-23T13:14:02.974Z"
   },
   {
    "duration": 18,
    "start_time": "2023-08-23T13:14:03.012Z"
   },
   {
    "duration": 13,
    "start_time": "2023-08-23T13:14:03.032Z"
   },
   {
    "duration": 23,
    "start_time": "2023-08-23T13:14:03.047Z"
   },
   {
    "duration": 52,
    "start_time": "2023-08-23T13:14:03.071Z"
   },
   {
    "duration": 51,
    "start_time": "2023-08-23T13:14:03.125Z"
   },
   {
    "duration": 36,
    "start_time": "2023-08-23T13:14:03.178Z"
   },
   {
    "duration": 49,
    "start_time": "2023-08-23T13:14:03.216Z"
   },
   {
    "duration": 32,
    "start_time": "2023-08-23T13:14:03.267Z"
   },
   {
    "duration": 15,
    "start_time": "2023-08-23T13:14:03.301Z"
   },
   {
    "duration": 49,
    "start_time": "2023-08-23T13:14:03.318Z"
   },
   {
    "duration": 31,
    "start_time": "2023-08-23T13:14:03.369Z"
   },
   {
    "duration": 25,
    "start_time": "2023-08-23T13:14:03.402Z"
   },
   {
    "duration": 31,
    "start_time": "2023-08-23T13:14:03.432Z"
   },
   {
    "duration": 51,
    "start_time": "2023-08-23T13:14:03.465Z"
   },
   {
    "duration": 0,
    "start_time": "2023-08-23T13:14:03.519Z"
   },
   {
    "duration": 0,
    "start_time": "2023-08-23T13:14:03.521Z"
   },
   {
    "duration": 0,
    "start_time": "2023-08-23T13:14:03.522Z"
   },
   {
    "duration": 0,
    "start_time": "2023-08-23T13:14:03.524Z"
   },
   {
    "duration": 1,
    "start_time": "2023-08-23T13:14:03.525Z"
   },
   {
    "duration": 0,
    "start_time": "2023-08-23T13:14:03.527Z"
   },
   {
    "duration": 0,
    "start_time": "2023-08-23T13:14:03.528Z"
   },
   {
    "duration": 0,
    "start_time": "2023-08-23T13:14:03.530Z"
   },
   {
    "duration": 0,
    "start_time": "2023-08-23T13:14:03.531Z"
   },
   {
    "duration": 3,
    "start_time": "2023-08-23T13:14:47.863Z"
   },
   {
    "duration": 3,
    "start_time": "2023-08-23T13:14:48.332Z"
   },
   {
    "duration": 3,
    "start_time": "2023-08-23T13:14:48.692Z"
   },
   {
    "duration": 26,
    "start_time": "2023-08-23T13:14:49.323Z"
   },
   {
    "duration": 4174,
    "start_time": "2023-08-23T15:25:35.592Z"
   },
   {
    "duration": 3,
    "start_time": "2023-08-23T15:25:39.768Z"
   },
   {
    "duration": 101,
    "start_time": "2023-08-23T15:25:39.772Z"
   },
   {
    "duration": 12,
    "start_time": "2023-08-23T15:25:39.875Z"
   },
   {
    "duration": 82,
    "start_time": "2023-08-23T15:25:39.888Z"
   },
   {
    "duration": 3,
    "start_time": "2023-08-23T15:25:39.972Z"
   },
   {
    "duration": 24,
    "start_time": "2023-08-23T15:25:39.976Z"
   },
   {
    "duration": 16,
    "start_time": "2023-08-23T15:25:40.001Z"
   },
   {
    "duration": 18,
    "start_time": "2023-08-23T15:25:40.018Z"
   },
   {
    "duration": 161,
    "start_time": "2023-08-23T15:25:40.039Z"
   },
   {
    "duration": 221,
    "start_time": "2023-08-23T15:25:40.202Z"
   },
   {
    "duration": 4,
    "start_time": "2023-08-23T15:25:40.424Z"
   },
   {
    "duration": 1607,
    "start_time": "2023-08-23T15:25:40.429Z"
   },
   {
    "duration": 0,
    "start_time": "2023-08-23T15:25:42.037Z"
   },
   {
    "duration": 0,
    "start_time": "2023-08-23T15:25:42.039Z"
   },
   {
    "duration": 0,
    "start_time": "2023-08-23T15:25:42.040Z"
   },
   {
    "duration": 0,
    "start_time": "2023-08-23T15:25:42.041Z"
   },
   {
    "duration": 0,
    "start_time": "2023-08-23T15:25:42.042Z"
   },
   {
    "duration": 0,
    "start_time": "2023-08-23T15:25:42.043Z"
   },
   {
    "duration": 0,
    "start_time": "2023-08-23T15:25:42.044Z"
   },
   {
    "duration": 0,
    "start_time": "2023-08-23T15:25:42.045Z"
   },
   {
    "duration": 0,
    "start_time": "2023-08-23T15:25:42.046Z"
   },
   {
    "duration": 0,
    "start_time": "2023-08-23T15:25:42.047Z"
   },
   {
    "duration": 0,
    "start_time": "2023-08-23T15:25:42.048Z"
   },
   {
    "duration": 0,
    "start_time": "2023-08-23T15:25:42.049Z"
   },
   {
    "duration": 0,
    "start_time": "2023-08-23T15:25:42.050Z"
   },
   {
    "duration": 0,
    "start_time": "2023-08-23T15:25:42.051Z"
   },
   {
    "duration": 0,
    "start_time": "2023-08-23T15:25:42.052Z"
   },
   {
    "duration": 0,
    "start_time": "2023-08-23T15:25:42.053Z"
   },
   {
    "duration": 0,
    "start_time": "2023-08-23T15:25:42.055Z"
   },
   {
    "duration": 0,
    "start_time": "2023-08-23T15:25:42.055Z"
   },
   {
    "duration": 0,
    "start_time": "2023-08-23T15:25:42.056Z"
   },
   {
    "duration": 0,
    "start_time": "2023-08-23T15:25:42.057Z"
   },
   {
    "duration": 0,
    "start_time": "2023-08-23T15:25:42.058Z"
   },
   {
    "duration": 1,
    "start_time": "2023-08-23T15:25:42.059Z"
   },
   {
    "duration": 1,
    "start_time": "2023-08-23T15:25:42.060Z"
   },
   {
    "duration": 1,
    "start_time": "2023-08-23T15:25:42.061Z"
   },
   {
    "duration": 0,
    "start_time": "2023-08-23T15:25:42.062Z"
   },
   {
    "duration": 0,
    "start_time": "2023-08-23T15:25:42.063Z"
   },
   {
    "duration": 0,
    "start_time": "2023-08-23T15:25:42.064Z"
   },
   {
    "duration": 4,
    "start_time": "2023-08-23T15:26:25.779Z"
   },
   {
    "duration": 1458,
    "start_time": "2023-08-23T15:26:26.517Z"
   },
   {
    "duration": 3,
    "start_time": "2023-08-23T15:27:12.189Z"
   },
   {
    "duration": 4,
    "start_time": "2023-08-23T15:27:18.105Z"
   },
   {
    "duration": 3,
    "start_time": "2023-08-23T15:27:18.789Z"
   },
   {
    "duration": 2,
    "start_time": "2023-08-23T15:27:19.220Z"
   },
   {
    "duration": 2,
    "start_time": "2023-08-23T15:27:24.043Z"
   },
   {
    "duration": 2,
    "start_time": "2023-08-23T15:27:24.385Z"
   },
   {
    "duration": 2,
    "start_time": "2023-08-23T15:29:44.029Z"
   },
   {
    "duration": 4,
    "start_time": "2023-08-23T15:29:44.387Z"
   },
   {
    "duration": 2,
    "start_time": "2023-08-23T15:29:45.199Z"
   },
   {
    "duration": 2,
    "start_time": "2023-08-23T15:29:45.428Z"
   },
   {
    "duration": 2,
    "start_time": "2023-08-23T15:29:45.643Z"
   },
   {
    "duration": 4,
    "start_time": "2023-08-23T15:29:46.122Z"
   },
   {
    "duration": 9,
    "start_time": "2023-08-23T15:29:46.451Z"
   },
   {
    "duration": 6,
    "start_time": "2023-08-23T15:29:46.784Z"
   },
   {
    "duration": 4,
    "start_time": "2023-08-23T15:29:47.159Z"
   },
   {
    "duration": 3,
    "start_time": "2023-08-23T15:29:47.536Z"
   },
   {
    "duration": 4,
    "start_time": "2023-08-23T15:29:47.987Z"
   },
   {
    "duration": 41,
    "start_time": "2023-08-23T15:29:48.988Z"
   },
   {
    "duration": 2284,
    "start_time": "2023-08-23T15:30:37.797Z"
   },
   {
    "duration": 7,
    "start_time": "2023-08-23T15:30:40.084Z"
   },
   {
    "duration": 88,
    "start_time": "2023-08-23T15:30:40.097Z"
   },
   {
    "duration": 17,
    "start_time": "2023-08-23T15:30:40.187Z"
   },
   {
    "duration": 27,
    "start_time": "2023-08-23T15:30:40.206Z"
   },
   {
    "duration": 3,
    "start_time": "2023-08-23T15:30:40.235Z"
   },
   {
    "duration": 7,
    "start_time": "2023-08-23T15:30:40.364Z"
   },
   {
    "duration": 8,
    "start_time": "2023-08-23T15:30:40.627Z"
   },
   {
    "duration": 6,
    "start_time": "2023-08-23T15:30:40.898Z"
   },
   {
    "duration": 145,
    "start_time": "2023-08-23T15:30:41.199Z"
   },
   {
    "duration": 223,
    "start_time": "2023-08-23T15:30:41.503Z"
   },
   {
    "duration": 4,
    "start_time": "2023-08-23T15:30:42.141Z"
   },
   {
    "duration": 4,
    "start_time": "2023-08-23T15:30:42.448Z"
   },
   {
    "duration": 5,
    "start_time": "2023-08-23T15:30:42.788Z"
   },
   {
    "duration": 4,
    "start_time": "2023-08-23T15:30:43.110Z"
   },
   {
    "duration": 2,
    "start_time": "2023-08-23T15:30:43.840Z"
   },
   {
    "duration": 2,
    "start_time": "2023-08-23T15:30:45.101Z"
   },
   {
    "duration": 3,
    "start_time": "2023-08-23T15:30:45.338Z"
   },
   {
    "duration": 4,
    "start_time": "2023-08-23T15:30:45.601Z"
   },
   {
    "duration": 3,
    "start_time": "2023-08-23T15:30:45.863Z"
   },
   {
    "duration": 3,
    "start_time": "2023-08-23T15:30:46.239Z"
   },
   {
    "duration": 2,
    "start_time": "2023-08-23T15:30:47.231Z"
   },
   {
    "duration": 2,
    "start_time": "2023-08-23T15:30:47.517Z"
   },
   {
    "duration": 3,
    "start_time": "2023-08-23T15:30:47.754Z"
   },
   {
    "duration": 5,
    "start_time": "2023-08-23T15:30:48.487Z"
   },
   {
    "duration": 7,
    "start_time": "2023-08-23T15:30:48.908Z"
   },
   {
    "duration": 2,
    "start_time": "2023-08-23T15:30:49.539Z"
   },
   {
    "duration": 3,
    "start_time": "2023-08-23T15:30:49.998Z"
   },
   {
    "duration": 3,
    "start_time": "2023-08-23T15:30:50.568Z"
   },
   {
    "duration": 2,
    "start_time": "2023-08-23T15:30:51.106Z"
   },
   {
    "duration": 42,
    "start_time": "2023-08-23T15:30:51.889Z"
   },
   {
    "duration": 2318,
    "start_time": "2023-08-23T15:33:00.506Z"
   },
   {
    "duration": 3,
    "start_time": "2023-08-23T15:33:02.827Z"
   },
   {
    "duration": 104,
    "start_time": "2023-08-23T15:33:02.832Z"
   },
   {
    "duration": 12,
    "start_time": "2023-08-23T15:33:02.938Z"
   },
   {
    "duration": 82,
    "start_time": "2023-08-23T15:33:02.951Z"
   },
   {
    "duration": 36,
    "start_time": "2023-08-23T15:33:03.034Z"
   },
   {
    "duration": 124,
    "start_time": "2023-08-23T15:33:03.072Z"
   },
   {
    "duration": 25,
    "start_time": "2023-08-23T15:33:03.198Z"
   },
   {
    "duration": 39,
    "start_time": "2023-08-23T15:33:03.225Z"
   },
   {
    "duration": 224,
    "start_time": "2023-08-23T15:33:03.268Z"
   },
   {
    "duration": 224,
    "start_time": "2023-08-23T15:33:03.497Z"
   },
   {
    "duration": 3,
    "start_time": "2023-08-23T15:33:03.723Z"
   },
   {
    "duration": 42,
    "start_time": "2023-08-23T15:33:03.728Z"
   },
   {
    "duration": 79,
    "start_time": "2023-08-23T15:33:03.772Z"
   },
   {
    "duration": 33,
    "start_time": "2023-08-23T15:33:03.853Z"
   },
   {
    "duration": 30,
    "start_time": "2023-08-23T15:33:03.890Z"
   },
   {
    "duration": 46,
    "start_time": "2023-08-23T15:33:03.922Z"
   },
   {
    "duration": 37,
    "start_time": "2023-08-23T15:33:03.970Z"
   },
   {
    "duration": 21,
    "start_time": "2023-08-23T15:33:04.009Z"
   },
   {
    "duration": 33,
    "start_time": "2023-08-23T15:33:04.032Z"
   },
   {
    "duration": 32,
    "start_time": "2023-08-23T15:33:04.067Z"
   },
   {
    "duration": 33,
    "start_time": "2023-08-23T15:33:04.101Z"
   },
   {
    "duration": 49,
    "start_time": "2023-08-23T15:33:04.136Z"
   },
   {
    "duration": 42,
    "start_time": "2023-08-23T15:33:04.189Z"
   },
   {
    "duration": 33,
    "start_time": "2023-08-23T15:33:04.233Z"
   },
   {
    "duration": 71,
    "start_time": "2023-08-23T15:33:04.268Z"
   },
   {
    "duration": 77,
    "start_time": "2023-08-23T15:33:04.341Z"
   },
   {
    "duration": 37,
    "start_time": "2023-08-23T15:33:04.422Z"
   },
   {
    "duration": 36,
    "start_time": "2023-08-23T15:33:04.461Z"
   },
   {
    "duration": 52,
    "start_time": "2023-08-23T15:33:04.499Z"
   },
   {
    "duration": 43,
    "start_time": "2023-08-23T15:33:04.552Z"
   },
   {
    "duration": 97,
    "start_time": "2023-08-23T15:33:04.597Z"
   },
   {
    "duration": 0,
    "start_time": "2023-08-23T15:33:04.696Z"
   },
   {
    "duration": 0,
    "start_time": "2023-08-23T15:33:04.699Z"
   },
   {
    "duration": 0,
    "start_time": "2023-08-23T15:33:04.701Z"
   },
   {
    "duration": 0,
    "start_time": "2023-08-23T15:33:04.705Z"
   },
   {
    "duration": 0,
    "start_time": "2023-08-23T15:33:04.706Z"
   },
   {
    "duration": 0,
    "start_time": "2023-08-23T15:33:04.707Z"
   },
   {
    "duration": 0,
    "start_time": "2023-08-23T15:33:04.708Z"
   },
   {
    "duration": 0,
    "start_time": "2023-08-23T15:33:04.710Z"
   },
   {
    "duration": 0,
    "start_time": "2023-08-23T15:33:04.711Z"
   },
   {
    "duration": 2329,
    "start_time": "2023-08-23T15:33:42.339Z"
   },
   {
    "duration": 4,
    "start_time": "2023-08-23T15:33:44.671Z"
   },
   {
    "duration": 124,
    "start_time": "2023-08-23T15:33:44.677Z"
   },
   {
    "duration": 14,
    "start_time": "2023-08-23T15:33:44.806Z"
   },
   {
    "duration": 40,
    "start_time": "2023-08-23T15:33:44.822Z"
   },
   {
    "duration": 4,
    "start_time": "2023-08-23T15:33:44.864Z"
   },
   {
    "duration": 31,
    "start_time": "2023-08-23T15:33:44.870Z"
   },
   {
    "duration": 8,
    "start_time": "2023-08-23T15:33:44.903Z"
   },
   {
    "duration": 11,
    "start_time": "2023-08-23T15:33:44.912Z"
   },
   {
    "duration": 201,
    "start_time": "2023-08-23T15:33:44.926Z"
   },
   {
    "duration": 252,
    "start_time": "2023-08-23T15:33:45.129Z"
   },
   {
    "duration": 6,
    "start_time": "2023-08-23T15:33:45.386Z"
   },
   {
    "duration": 38,
    "start_time": "2023-08-23T15:33:45.393Z"
   },
   {
    "duration": 24,
    "start_time": "2023-08-23T15:33:45.432Z"
   },
   {
    "duration": 30,
    "start_time": "2023-08-23T15:33:45.458Z"
   },
   {
    "duration": 24,
    "start_time": "2023-08-23T15:33:45.491Z"
   },
   {
    "duration": 71,
    "start_time": "2023-08-23T15:33:45.517Z"
   },
   {
    "duration": 6,
    "start_time": "2023-08-23T15:33:45.602Z"
   },
   {
    "duration": 59,
    "start_time": "2023-08-23T15:33:45.609Z"
   },
   {
    "duration": 11,
    "start_time": "2023-08-23T15:33:45.670Z"
   },
   {
    "duration": 22,
    "start_time": "2023-08-23T15:33:45.682Z"
   },
   {
    "duration": 7,
    "start_time": "2023-08-23T15:33:45.706Z"
   },
   {
    "duration": 10,
    "start_time": "2023-08-23T15:33:45.715Z"
   },
   {
    "duration": 3,
    "start_time": "2023-08-23T15:33:45.947Z"
   },
   {
    "duration": 7,
    "start_time": "2023-08-23T15:33:46.285Z"
   },
   {
    "duration": 8,
    "start_time": "2023-08-23T15:33:46.617Z"
   },
   {
    "duration": 3,
    "start_time": "2023-08-23T15:33:46.832Z"
   },
   {
    "duration": 3,
    "start_time": "2023-08-23T15:33:47.024Z"
   },
   {
    "duration": 2,
    "start_time": "2023-08-23T15:33:47.240Z"
   },
   {
    "duration": 17,
    "start_time": "2023-08-23T15:33:47.455Z"
   },
   {
    "duration": 2,
    "start_time": "2023-08-23T15:33:48.132Z"
   },
   {
    "duration": 34,
    "start_time": "2023-08-23T15:33:48.909Z"
   },
   {
    "duration": 2367,
    "start_time": "2023-08-23T15:35:31.112Z"
   },
   {
    "duration": 3,
    "start_time": "2023-08-23T15:35:33.482Z"
   },
   {
    "duration": 89,
    "start_time": "2023-08-23T15:35:33.487Z"
   },
   {
    "duration": 17,
    "start_time": "2023-08-23T15:35:33.579Z"
   },
   {
    "duration": 38,
    "start_time": "2023-08-23T15:35:33.598Z"
   },
   {
    "duration": 4,
    "start_time": "2023-08-23T15:35:33.637Z"
   },
   {
    "duration": 43,
    "start_time": "2023-08-23T15:35:33.642Z"
   },
   {
    "duration": 223,
    "start_time": "2023-08-23T15:35:33.688Z"
   },
   {
    "duration": 11,
    "start_time": "2023-08-23T15:35:33.913Z"
   },
   {
    "duration": 190,
    "start_time": "2023-08-23T15:35:33.926Z"
   },
   {
    "duration": 254,
    "start_time": "2023-08-23T15:35:34.118Z"
   },
   {
    "duration": 3,
    "start_time": "2023-08-23T15:35:34.374Z"
   },
   {
    "duration": 27,
    "start_time": "2023-08-23T15:35:34.379Z"
   },
   {
    "duration": 3,
    "start_time": "2023-08-23T15:35:34.408Z"
   },
   {
    "duration": 5,
    "start_time": "2023-08-23T15:35:34.413Z"
   },
   {
    "duration": 5,
    "start_time": "2023-08-23T15:35:34.420Z"
   },
   {
    "duration": 4,
    "start_time": "2023-08-23T15:35:34.426Z"
   },
   {
    "duration": 4,
    "start_time": "2023-08-23T15:35:34.432Z"
   },
   {
    "duration": 14,
    "start_time": "2023-08-23T15:35:34.437Z"
   },
   {
    "duration": 15,
    "start_time": "2023-08-23T15:35:34.453Z"
   },
   {
    "duration": 6,
    "start_time": "2023-08-23T15:35:34.470Z"
   },
   {
    "duration": 7,
    "start_time": "2023-08-23T15:35:34.479Z"
   },
   {
    "duration": 22,
    "start_time": "2023-08-23T15:35:34.490Z"
   },
   {
    "duration": 8,
    "start_time": "2023-08-23T15:35:34.514Z"
   },
   {
    "duration": 6,
    "start_time": "2023-08-23T15:35:34.524Z"
   },
   {
    "duration": 10,
    "start_time": "2023-08-23T15:35:34.533Z"
   },
   {
    "duration": 11,
    "start_time": "2023-08-23T15:35:34.544Z"
   },
   {
    "duration": 10,
    "start_time": "2023-08-23T15:35:34.556Z"
   },
   {
    "duration": 15,
    "start_time": "2023-08-23T15:35:34.568Z"
   },
   {
    "duration": 21,
    "start_time": "2023-08-23T15:35:34.819Z"
   },
   {
    "duration": 3,
    "start_time": "2023-08-23T15:35:35.748Z"
   },
   {
    "duration": 49,
    "start_time": "2023-08-23T15:35:36.618Z"
   },
   {
    "duration": 2285,
    "start_time": "2023-08-23T15:37:13.446Z"
   },
   {
    "duration": 4,
    "start_time": "2023-08-23T15:37:15.733Z"
   },
   {
    "duration": 73,
    "start_time": "2023-08-23T15:37:15.738Z"
   },
   {
    "duration": 12,
    "start_time": "2023-08-23T15:37:15.813Z"
   },
   {
    "duration": 149,
    "start_time": "2023-08-23T15:37:15.827Z"
   },
   {
    "duration": 3,
    "start_time": "2023-08-23T15:37:15.977Z"
   },
   {
    "duration": 19,
    "start_time": "2023-08-23T15:37:15.982Z"
   },
   {
    "duration": 14,
    "start_time": "2023-08-23T15:37:16.003Z"
   },
   {
    "duration": 5,
    "start_time": "2023-08-23T15:37:16.019Z"
   },
   {
    "duration": 131,
    "start_time": "2023-08-23T15:37:16.027Z"
   },
   {
    "duration": 206,
    "start_time": "2023-08-23T15:37:16.159Z"
   },
   {
    "duration": 4,
    "start_time": "2023-08-23T15:37:16.366Z"
   },
   {
    "duration": 16,
    "start_time": "2023-08-23T15:37:16.372Z"
   },
   {
    "duration": 16,
    "start_time": "2023-08-23T15:37:16.390Z"
   },
   {
    "duration": 8,
    "start_time": "2023-08-23T15:37:16.408Z"
   },
   {
    "duration": 5,
    "start_time": "2023-08-23T15:37:16.417Z"
   },
   {
    "duration": 22,
    "start_time": "2023-08-23T15:37:16.423Z"
   },
   {
    "duration": 23,
    "start_time": "2023-08-23T15:37:16.446Z"
   },
   {
    "duration": 6,
    "start_time": "2023-08-23T15:37:16.471Z"
   },
   {
    "duration": 6,
    "start_time": "2023-08-23T15:37:16.478Z"
   },
   {
    "duration": 8,
    "start_time": "2023-08-23T15:37:16.486Z"
   },
   {
    "duration": 15,
    "start_time": "2023-08-23T15:37:16.495Z"
   },
   {
    "duration": 7,
    "start_time": "2023-08-23T15:37:16.511Z"
   },
   {
    "duration": 4,
    "start_time": "2023-08-23T15:37:16.520Z"
   },
   {
    "duration": 27,
    "start_time": "2023-08-23T15:37:16.525Z"
   },
   {
    "duration": 34,
    "start_time": "2023-08-23T15:37:16.554Z"
   },
   {
    "duration": 7,
    "start_time": "2023-08-23T15:37:16.590Z"
   },
   {
    "duration": 9,
    "start_time": "2023-08-23T15:37:16.600Z"
   },
   {
    "duration": 13,
    "start_time": "2023-08-23T15:37:16.610Z"
   },
   {
    "duration": 48,
    "start_time": "2023-08-23T15:37:16.625Z"
   },
   {
    "duration": 20,
    "start_time": "2023-08-23T15:37:16.675Z"
   },
   {
    "duration": 77,
    "start_time": "2023-08-23T15:37:16.696Z"
   },
   {
    "duration": 0,
    "start_time": "2023-08-23T15:37:16.775Z"
   },
   {
    "duration": 0,
    "start_time": "2023-08-23T15:37:16.776Z"
   },
   {
    "duration": 0,
    "start_time": "2023-08-23T15:37:16.778Z"
   },
   {
    "duration": 0,
    "start_time": "2023-08-23T15:37:16.778Z"
   },
   {
    "duration": 0,
    "start_time": "2023-08-23T15:37:16.779Z"
   },
   {
    "duration": 0,
    "start_time": "2023-08-23T15:37:16.780Z"
   },
   {
    "duration": 0,
    "start_time": "2023-08-23T15:37:16.781Z"
   },
   {
    "duration": 0,
    "start_time": "2023-08-23T15:37:16.783Z"
   },
   {
    "duration": 0,
    "start_time": "2023-08-23T15:37:16.784Z"
   },
   {
    "duration": 0,
    "start_time": "2023-08-23T15:37:16.785Z"
   },
   {
    "duration": 2207,
    "start_time": "2023-08-23T15:42:41.938Z"
   },
   {
    "duration": 3,
    "start_time": "2023-08-23T15:42:44.147Z"
   },
   {
    "duration": 107,
    "start_time": "2023-08-23T15:42:44.151Z"
   },
   {
    "duration": 12,
    "start_time": "2023-08-23T15:42:44.260Z"
   },
   {
    "duration": 50,
    "start_time": "2023-08-23T15:42:44.273Z"
   },
   {
    "duration": 6,
    "start_time": "2023-08-23T15:42:44.325Z"
   },
   {
    "duration": 48,
    "start_time": "2023-08-23T15:42:44.333Z"
   },
   {
    "duration": 23,
    "start_time": "2023-08-23T15:42:44.383Z"
   },
   {
    "duration": 18,
    "start_time": "2023-08-23T15:42:44.407Z"
   },
   {
    "duration": 156,
    "start_time": "2023-08-23T15:42:44.428Z"
   },
   {
    "duration": 231,
    "start_time": "2023-08-23T15:42:44.586Z"
   },
   {
    "duration": 4,
    "start_time": "2023-08-23T15:42:44.818Z"
   },
   {
    "duration": 16,
    "start_time": "2023-08-23T15:42:44.824Z"
   },
   {
    "duration": 19,
    "start_time": "2023-08-23T15:42:44.842Z"
   },
   {
    "duration": 17,
    "start_time": "2023-08-23T15:42:44.862Z"
   },
   {
    "duration": 24,
    "start_time": "2023-08-23T15:42:44.881Z"
   },
   {
    "duration": 13,
    "start_time": "2023-08-23T15:42:44.907Z"
   },
   {
    "duration": 24,
    "start_time": "2023-08-23T15:42:44.922Z"
   },
   {
    "duration": 13,
    "start_time": "2023-08-23T15:42:44.948Z"
   },
   {
    "duration": 24,
    "start_time": "2023-08-23T15:42:44.963Z"
   },
   {
    "duration": 19,
    "start_time": "2023-08-23T15:42:44.990Z"
   },
   {
    "duration": 52,
    "start_time": "2023-08-23T15:42:45.010Z"
   },
   {
    "duration": 56,
    "start_time": "2023-08-23T15:42:45.064Z"
   },
   {
    "duration": 59,
    "start_time": "2023-08-23T15:42:45.122Z"
   },
   {
    "duration": 46,
    "start_time": "2023-08-23T15:42:45.183Z"
   },
   {
    "duration": 41,
    "start_time": "2023-08-23T15:42:45.231Z"
   },
   {
    "duration": 26,
    "start_time": "2023-08-23T15:42:45.274Z"
   },
   {
    "duration": 47,
    "start_time": "2023-08-23T15:42:45.304Z"
   },
   {
    "duration": 36,
    "start_time": "2023-08-23T15:42:45.353Z"
   },
   {
    "duration": 18,
    "start_time": "2023-08-23T15:42:45.391Z"
   },
   {
    "duration": 42,
    "start_time": "2023-08-23T15:42:45.411Z"
   },
   {
    "duration": 0,
    "start_time": "2023-08-23T15:42:45.454Z"
   },
   {
    "duration": 0,
    "start_time": "2023-08-23T15:42:45.455Z"
   },
   {
    "duration": 0,
    "start_time": "2023-08-23T15:42:45.456Z"
   },
   {
    "duration": 0,
    "start_time": "2023-08-23T15:42:45.457Z"
   },
   {
    "duration": 0,
    "start_time": "2023-08-23T15:42:45.458Z"
   },
   {
    "duration": 0,
    "start_time": "2023-08-23T15:42:45.459Z"
   },
   {
    "duration": 0,
    "start_time": "2023-08-23T15:42:45.460Z"
   },
   {
    "duration": 0,
    "start_time": "2023-08-23T15:42:45.462Z"
   },
   {
    "duration": 0,
    "start_time": "2023-08-23T15:42:45.463Z"
   },
   {
    "duration": 0,
    "start_time": "2023-08-23T15:42:45.464Z"
   },
   {
    "duration": 2327,
    "start_time": "2023-08-23T15:44:19.020Z"
   },
   {
    "duration": 4,
    "start_time": "2023-08-23T15:44:21.349Z"
   },
   {
    "duration": 97,
    "start_time": "2023-08-23T15:44:21.355Z"
   },
   {
    "duration": 17,
    "start_time": "2023-08-23T15:44:21.455Z"
   },
   {
    "duration": 63,
    "start_time": "2023-08-23T15:44:21.474Z"
   },
   {
    "duration": 54,
    "start_time": "2023-08-23T15:44:21.538Z"
   },
   {
    "duration": 70,
    "start_time": "2023-08-23T15:44:21.594Z"
   },
   {
    "duration": 22,
    "start_time": "2023-08-23T15:44:21.665Z"
   },
   {
    "duration": 12,
    "start_time": "2023-08-23T15:44:21.689Z"
   },
   {
    "duration": 165,
    "start_time": "2023-08-23T15:44:21.704Z"
   },
   {
    "duration": 221,
    "start_time": "2023-08-23T15:44:21.871Z"
   },
   {
    "duration": 4,
    "start_time": "2023-08-23T15:44:22.095Z"
   },
   {
    "duration": 63,
    "start_time": "2023-08-23T15:44:22.101Z"
   },
   {
    "duration": 66,
    "start_time": "2023-08-23T15:44:22.167Z"
   },
   {
    "duration": 152,
    "start_time": "2023-08-23T15:44:22.235Z"
   },
   {
    "duration": 17,
    "start_time": "2023-08-23T15:44:22.389Z"
   },
   {
    "duration": 20,
    "start_time": "2023-08-23T15:44:22.409Z"
   },
   {
    "duration": 17,
    "start_time": "2023-08-23T15:44:22.431Z"
   },
   {
    "duration": 14,
    "start_time": "2023-08-23T15:44:22.450Z"
   },
   {
    "duration": 15,
    "start_time": "2023-08-23T15:44:22.466Z"
   },
   {
    "duration": 14,
    "start_time": "2023-08-23T15:44:22.483Z"
   },
   {
    "duration": 12,
    "start_time": "2023-08-23T15:44:22.498Z"
   },
   {
    "duration": 26,
    "start_time": "2023-08-23T15:44:22.513Z"
   },
   {
    "duration": 11,
    "start_time": "2023-08-23T15:44:22.541Z"
   },
   {
    "duration": 24,
    "start_time": "2023-08-23T15:44:22.553Z"
   },
   {
    "duration": 35,
    "start_time": "2023-08-23T15:44:22.579Z"
   },
   {
    "duration": 19,
    "start_time": "2023-08-23T15:44:22.616Z"
   },
   {
    "duration": 27,
    "start_time": "2023-08-23T15:44:22.639Z"
   },
   {
    "duration": 21,
    "start_time": "2023-08-23T15:44:22.668Z"
   },
   {
    "duration": 22,
    "start_time": "2023-08-23T15:44:22.690Z"
   },
   {
    "duration": 13,
    "start_time": "2023-08-23T15:44:22.714Z"
   },
   {
    "duration": 72,
    "start_time": "2023-08-23T15:44:22.729Z"
   },
   {
    "duration": 0,
    "start_time": "2023-08-23T15:44:22.802Z"
   },
   {
    "duration": 0,
    "start_time": "2023-08-23T15:44:22.804Z"
   },
   {
    "duration": 0,
    "start_time": "2023-08-23T15:44:22.805Z"
   },
   {
    "duration": 0,
    "start_time": "2023-08-23T15:44:22.806Z"
   },
   {
    "duration": 0,
    "start_time": "2023-08-23T15:44:22.807Z"
   },
   {
    "duration": 0,
    "start_time": "2023-08-23T15:44:22.809Z"
   },
   {
    "duration": 0,
    "start_time": "2023-08-23T15:44:22.810Z"
   },
   {
    "duration": 0,
    "start_time": "2023-08-23T15:44:22.811Z"
   },
   {
    "duration": 0,
    "start_time": "2023-08-23T15:44:22.812Z"
   },
   {
    "duration": 2580,
    "start_time": "2023-08-23T15:45:46.396Z"
   },
   {
    "duration": 3,
    "start_time": "2023-08-23T15:45:48.979Z"
   },
   {
    "duration": 104,
    "start_time": "2023-08-23T15:45:48.983Z"
   },
   {
    "duration": 13,
    "start_time": "2023-08-23T15:45:49.090Z"
   },
   {
    "duration": 38,
    "start_time": "2023-08-23T15:45:49.105Z"
   },
   {
    "duration": 18,
    "start_time": "2023-08-23T15:45:49.145Z"
   },
   {
    "duration": 37,
    "start_time": "2023-08-23T15:45:49.165Z"
   },
   {
    "duration": 23,
    "start_time": "2023-08-23T15:45:49.204Z"
   },
   {
    "duration": 37,
    "start_time": "2023-08-23T15:45:49.229Z"
   },
   {
    "duration": 165,
    "start_time": "2023-08-23T15:45:49.269Z"
   },
   {
    "duration": 219,
    "start_time": "2023-08-23T15:45:49.436Z"
   },
   {
    "duration": 4,
    "start_time": "2023-08-23T15:45:49.656Z"
   },
   {
    "duration": 58,
    "start_time": "2023-08-23T15:45:49.662Z"
   },
   {
    "duration": 81,
    "start_time": "2023-08-23T15:45:49.722Z"
   },
   {
    "duration": 14,
    "start_time": "2023-08-23T15:45:49.805Z"
   },
   {
    "duration": 18,
    "start_time": "2023-08-23T15:45:49.821Z"
   },
   {
    "duration": 24,
    "start_time": "2023-08-23T15:45:49.841Z"
   },
   {
    "duration": 7,
    "start_time": "2023-08-23T15:45:49.867Z"
   },
   {
    "duration": 22,
    "start_time": "2023-08-23T15:45:49.876Z"
   },
   {
    "duration": 11,
    "start_time": "2023-08-23T15:45:49.900Z"
   },
   {
    "duration": 14,
    "start_time": "2023-08-23T15:45:49.912Z"
   },
   {
    "duration": 20,
    "start_time": "2023-08-23T15:45:49.928Z"
   },
   {
    "duration": 40,
    "start_time": "2023-08-23T15:45:49.950Z"
   },
   {
    "duration": 11,
    "start_time": "2023-08-23T15:45:49.992Z"
   },
   {
    "duration": 24,
    "start_time": "2023-08-23T15:45:50.005Z"
   },
   {
    "duration": 57,
    "start_time": "2023-08-23T15:45:50.032Z"
   },
   {
    "duration": 35,
    "start_time": "2023-08-23T15:45:50.091Z"
   },
   {
    "duration": 22,
    "start_time": "2023-08-23T15:45:50.131Z"
   },
   {
    "duration": 66,
    "start_time": "2023-08-23T15:45:50.155Z"
   },
   {
    "duration": 20,
    "start_time": "2023-08-23T15:45:50.223Z"
   },
   {
    "duration": 48,
    "start_time": "2023-08-23T15:45:50.245Z"
   },
   {
    "duration": 34,
    "start_time": "2023-08-23T15:45:50.294Z"
   },
   {
    "duration": 6,
    "start_time": "2023-08-23T15:45:50.330Z"
   },
   {
    "duration": 8,
    "start_time": "2023-08-23T15:45:50.338Z"
   },
   {
    "duration": 9,
    "start_time": "2023-08-23T15:45:50.348Z"
   },
   {
    "duration": 4,
    "start_time": "2023-08-23T15:45:50.359Z"
   },
   {
    "duration": 11,
    "start_time": "2023-08-23T15:45:50.365Z"
   },
   {
    "duration": 18,
    "start_time": "2023-08-23T15:45:50.378Z"
   },
   {
    "duration": 12,
    "start_time": "2023-08-23T15:45:50.398Z"
   },
   {
    "duration": 12,
    "start_time": "2023-08-23T15:45:50.412Z"
   },
   {
    "duration": 3,
    "start_time": "2023-08-23T15:45:57.513Z"
   },
   {
    "duration": 3,
    "start_time": "2023-08-23T15:45:57.608Z"
   },
   {
    "duration": 3,
    "start_time": "2023-08-23T15:45:57.671Z"
   },
   {
    "duration": 11,
    "start_time": "2023-08-23T15:45:57.707Z"
   },
   {
    "duration": 32,
    "start_time": "2023-08-23T15:45:57.781Z"
   },
   {
    "duration": 7,
    "start_time": "2023-08-23T15:45:57.878Z"
   },
   {
    "duration": 431,
    "start_time": "2023-08-23T15:45:57.908Z"
   },
   {
    "duration": 3,
    "start_time": "2023-08-23T15:45:58.341Z"
   },
   {
    "duration": 15,
    "start_time": "2023-08-23T15:45:58.345Z"
   },
   {
    "duration": 16,
    "start_time": "2023-08-23T15:45:58.362Z"
   },
   {
    "duration": 11,
    "start_time": "2023-08-23T15:45:58.380Z"
   },
   {
    "duration": 3,
    "start_time": "2023-08-23T15:45:58.440Z"
   },
   {
    "duration": 2,
    "start_time": "2023-08-23T15:45:58.474Z"
   },
   {
    "duration": 4,
    "start_time": "2023-08-23T15:45:58.538Z"
   },
   {
    "duration": 3,
    "start_time": "2023-08-23T15:45:58.629Z"
   },
   {
    "duration": 20874,
    "start_time": "2023-08-23T15:45:58.659Z"
   },
   {
    "duration": 2249,
    "start_time": "2023-08-23T15:51:21.495Z"
   },
   {
    "duration": 3,
    "start_time": "2023-08-23T15:51:23.748Z"
   },
   {
    "duration": 87,
    "start_time": "2023-08-23T15:51:23.753Z"
   },
   {
    "duration": 16,
    "start_time": "2023-08-23T15:51:23.843Z"
   },
   {
    "duration": 28,
    "start_time": "2023-08-23T15:51:23.860Z"
   },
   {
    "duration": 3,
    "start_time": "2023-08-23T15:51:23.890Z"
   },
   {
    "duration": 20,
    "start_time": "2023-08-23T15:51:23.894Z"
   },
   {
    "duration": 12,
    "start_time": "2023-08-23T15:51:23.916Z"
   },
   {
    "duration": 12,
    "start_time": "2023-08-23T15:51:23.930Z"
   },
   {
    "duration": 143,
    "start_time": "2023-08-23T15:51:23.945Z"
   },
   {
    "duration": 217,
    "start_time": "2023-08-23T15:51:24.089Z"
   },
   {
    "duration": 4,
    "start_time": "2023-08-23T15:51:24.307Z"
   },
   {
    "duration": 20,
    "start_time": "2023-08-23T15:51:24.312Z"
   },
   {
    "duration": 25,
    "start_time": "2023-08-23T15:51:24.333Z"
   },
   {
    "duration": 17,
    "start_time": "2023-08-23T15:51:24.360Z"
   },
   {
    "duration": 28,
    "start_time": "2023-08-23T15:51:24.379Z"
   },
   {
    "duration": 30,
    "start_time": "2023-08-23T15:51:24.409Z"
   },
   {
    "duration": 22,
    "start_time": "2023-08-23T15:51:24.441Z"
   },
   {
    "duration": 18,
    "start_time": "2023-08-23T15:51:24.465Z"
   },
   {
    "duration": 11,
    "start_time": "2023-08-23T15:51:24.485Z"
   },
   {
    "duration": 37,
    "start_time": "2023-08-23T15:51:24.498Z"
   },
   {
    "duration": 22,
    "start_time": "2023-08-23T15:51:24.538Z"
   },
   {
    "duration": 22,
    "start_time": "2023-08-23T15:51:24.561Z"
   },
   {
    "duration": 8,
    "start_time": "2023-08-23T15:51:24.584Z"
   },
   {
    "duration": 22,
    "start_time": "2023-08-23T15:51:24.593Z"
   },
   {
    "duration": 26,
    "start_time": "2023-08-23T15:51:24.616Z"
   },
   {
    "duration": 13,
    "start_time": "2023-08-23T15:51:24.644Z"
   },
   {
    "duration": 3,
    "start_time": "2023-08-23T15:51:24.662Z"
   },
   {
    "duration": 38,
    "start_time": "2023-08-23T15:51:24.666Z"
   },
   {
    "duration": 16,
    "start_time": "2023-08-23T15:51:24.706Z"
   },
   {
    "duration": 14,
    "start_time": "2023-08-23T15:51:24.724Z"
   },
   {
    "duration": 22,
    "start_time": "2023-08-23T15:51:24.740Z"
   },
   {
    "duration": 4,
    "start_time": "2023-08-23T15:51:24.764Z"
   },
   {
    "duration": 29,
    "start_time": "2023-08-23T15:51:24.770Z"
   },
   {
    "duration": 27,
    "start_time": "2023-08-23T15:51:24.801Z"
   },
   {
    "duration": 38,
    "start_time": "2023-08-23T15:51:24.830Z"
   },
   {
    "duration": 29,
    "start_time": "2023-08-23T15:51:24.870Z"
   },
   {
    "duration": 54,
    "start_time": "2023-08-23T15:51:24.902Z"
   },
   {
    "duration": 10,
    "start_time": "2023-08-23T15:51:24.958Z"
   },
   {
    "duration": 8,
    "start_time": "2023-08-23T15:51:24.970Z"
   },
   {
    "duration": 13,
    "start_time": "2023-08-23T15:51:24.979Z"
   },
   {
    "duration": 45,
    "start_time": "2023-08-23T15:51:24.994Z"
   },
   {
    "duration": 12,
    "start_time": "2023-08-23T15:51:25.041Z"
   },
   {
    "duration": 12,
    "start_time": "2023-08-23T15:51:25.055Z"
   },
   {
    "duration": 41831,
    "start_time": "2023-08-23T15:51:25.068Z"
   },
   {
    "duration": 7,
    "start_time": "2023-08-23T15:52:06.901Z"
   },
   {
    "duration": 453,
    "start_time": "2023-08-23T15:52:06.909Z"
   },
   {
    "duration": 2,
    "start_time": "2023-08-23T15:52:07.364Z"
   },
   {
    "duration": 44,
    "start_time": "2023-08-23T15:52:07.368Z"
   },
   {
    "duration": 29,
    "start_time": "2023-08-23T15:52:07.414Z"
   },
   {
    "duration": 50,
    "start_time": "2023-08-23T15:52:07.445Z"
   },
   {
    "duration": 30,
    "start_time": "2023-08-23T15:52:07.497Z"
   },
   {
    "duration": 33,
    "start_time": "2023-08-23T15:52:07.529Z"
   },
   {
    "duration": 50,
    "start_time": "2023-08-23T15:52:07.564Z"
   },
   {
    "duration": 20,
    "start_time": "2023-08-23T15:52:07.615Z"
   },
   {
    "duration": 20625,
    "start_time": "2023-08-23T15:52:07.636Z"
   },
   {
    "duration": 2149,
    "start_time": "2023-08-23T15:53:55.980Z"
   },
   {
    "duration": 3,
    "start_time": "2023-08-23T15:53:58.131Z"
   },
   {
    "duration": 72,
    "start_time": "2023-08-23T15:53:58.136Z"
   },
   {
    "duration": 12,
    "start_time": "2023-08-23T15:53:58.210Z"
   },
   {
    "duration": 27,
    "start_time": "2023-08-23T15:53:58.223Z"
   },
   {
    "duration": 3,
    "start_time": "2023-08-23T15:53:58.252Z"
   },
   {
    "duration": 13,
    "start_time": "2023-08-23T15:53:58.256Z"
   },
   {
    "duration": 18,
    "start_time": "2023-08-23T15:53:58.271Z"
   },
   {
    "duration": 8,
    "start_time": "2023-08-23T15:53:58.290Z"
   },
   {
    "duration": 149,
    "start_time": "2023-08-23T15:53:58.300Z"
   },
   {
    "duration": 237,
    "start_time": "2023-08-23T15:53:58.451Z"
   },
   {
    "duration": 4,
    "start_time": "2023-08-23T15:53:58.689Z"
   },
   {
    "duration": 9,
    "start_time": "2023-08-23T15:53:58.694Z"
   },
   {
    "duration": 10,
    "start_time": "2023-08-23T15:53:58.705Z"
   },
   {
    "duration": 8,
    "start_time": "2023-08-23T15:53:58.717Z"
   },
   {
    "duration": 8,
    "start_time": "2023-08-23T15:53:58.726Z"
   },
   {
    "duration": 7,
    "start_time": "2023-08-23T15:53:58.735Z"
   },
   {
    "duration": 7,
    "start_time": "2023-08-23T15:53:58.744Z"
   },
   {
    "duration": 6,
    "start_time": "2023-08-23T15:53:58.752Z"
   },
   {
    "duration": 15,
    "start_time": "2023-08-23T15:53:58.759Z"
   },
   {
    "duration": 12,
    "start_time": "2023-08-23T15:53:58.775Z"
   },
   {
    "duration": 5,
    "start_time": "2023-08-23T15:53:58.788Z"
   },
   {
    "duration": 14,
    "start_time": "2023-08-23T15:53:58.794Z"
   },
   {
    "duration": 16,
    "start_time": "2023-08-23T15:53:58.810Z"
   },
   {
    "duration": 11,
    "start_time": "2023-08-23T15:53:58.827Z"
   },
   {
    "duration": 9,
    "start_time": "2023-08-23T15:53:58.840Z"
   },
   {
    "duration": 4,
    "start_time": "2023-08-23T15:53:58.851Z"
   },
   {
    "duration": 3,
    "start_time": "2023-08-23T15:53:58.858Z"
   },
   {
    "duration": 19,
    "start_time": "2023-08-23T15:53:58.863Z"
   },
   {
    "duration": 7,
    "start_time": "2023-08-23T15:53:58.886Z"
   },
   {
    "duration": 10,
    "start_time": "2023-08-23T15:53:58.895Z"
   },
   {
    "duration": 37,
    "start_time": "2023-08-23T15:53:58.907Z"
   },
   {
    "duration": 14,
    "start_time": "2023-08-23T15:53:58.946Z"
   },
   {
    "duration": 37,
    "start_time": "2023-08-23T15:53:58.962Z"
   },
   {
    "duration": 29,
    "start_time": "2023-08-23T15:53:59.000Z"
   },
   {
    "duration": 13,
    "start_time": "2023-08-23T15:53:59.031Z"
   },
   {
    "duration": 9,
    "start_time": "2023-08-23T15:53:59.045Z"
   },
   {
    "duration": 15,
    "start_time": "2023-08-23T15:53:59.055Z"
   },
   {
    "duration": 9,
    "start_time": "2023-08-23T15:53:59.072Z"
   },
   {
    "duration": 8,
    "start_time": "2023-08-23T15:53:59.082Z"
   },
   {
    "duration": 10,
    "start_time": "2023-08-23T15:53:59.092Z"
   },
   {
    "duration": 25,
    "start_time": "2023-08-23T15:53:59.103Z"
   },
   {
    "duration": 27,
    "start_time": "2023-08-23T15:53:59.129Z"
   },
   {
    "duration": 13,
    "start_time": "2023-08-23T15:53:59.158Z"
   },
   {
    "duration": 41328,
    "start_time": "2023-08-23T15:53:59.172Z"
   },
   {
    "duration": 6,
    "start_time": "2023-08-23T15:54:40.502Z"
   },
   {
    "duration": 445,
    "start_time": "2023-08-23T15:54:40.510Z"
   },
   {
    "duration": 3,
    "start_time": "2023-08-23T15:54:40.957Z"
   },
   {
    "duration": 15,
    "start_time": "2023-08-23T15:54:40.963Z"
   },
   {
    "duration": 12,
    "start_time": "2023-08-23T15:54:40.980Z"
   },
   {
    "duration": 4,
    "start_time": "2023-08-23T15:54:40.994Z"
   },
   {
    "duration": 9,
    "start_time": "2023-08-23T15:54:41.000Z"
   },
   {
    "duration": 11,
    "start_time": "2023-08-23T15:54:41.010Z"
   },
   {
    "duration": 21,
    "start_time": "2023-08-23T15:54:41.023Z"
   },
   {
    "duration": 12,
    "start_time": "2023-08-23T15:54:41.045Z"
   },
   {
    "duration": 20238,
    "start_time": "2023-08-23T15:54:41.059Z"
   },
   {
    "duration": 2215,
    "start_time": "2023-08-23T16:02:08.939Z"
   },
   {
    "duration": 3,
    "start_time": "2023-08-23T16:02:11.157Z"
   },
   {
    "duration": 128,
    "start_time": "2023-08-23T16:02:11.162Z"
   },
   {
    "duration": 11,
    "start_time": "2023-08-23T16:02:11.292Z"
   },
   {
    "duration": 51,
    "start_time": "2023-08-23T16:02:11.304Z"
   },
   {
    "duration": 19,
    "start_time": "2023-08-23T16:02:11.356Z"
   },
   {
    "duration": 38,
    "start_time": "2023-08-23T16:02:11.377Z"
   },
   {
    "duration": 32,
    "start_time": "2023-08-23T16:02:11.417Z"
   },
   {
    "duration": 34,
    "start_time": "2023-08-23T16:02:11.451Z"
   },
   {
    "duration": 155,
    "start_time": "2023-08-23T16:02:11.488Z"
   },
   {
    "duration": 217,
    "start_time": "2023-08-23T16:02:11.645Z"
   },
   {
    "duration": 4,
    "start_time": "2023-08-23T16:02:11.864Z"
   },
   {
    "duration": 45,
    "start_time": "2023-08-23T16:02:11.870Z"
   },
   {
    "duration": 21,
    "start_time": "2023-08-23T16:02:11.917Z"
   },
   {
    "duration": 22,
    "start_time": "2023-08-23T16:02:11.940Z"
   },
   {
    "duration": 19,
    "start_time": "2023-08-23T16:02:11.963Z"
   },
   {
    "duration": 37,
    "start_time": "2023-08-23T16:02:11.983Z"
   },
   {
    "duration": 15,
    "start_time": "2023-08-23T16:02:12.022Z"
   },
   {
    "duration": 19,
    "start_time": "2023-08-23T16:02:12.039Z"
   },
   {
    "duration": 25,
    "start_time": "2023-08-23T16:02:12.060Z"
   },
   {
    "duration": 33,
    "start_time": "2023-08-23T16:02:12.086Z"
   },
   {
    "duration": 42,
    "start_time": "2023-08-23T16:02:12.121Z"
   },
   {
    "duration": 23,
    "start_time": "2023-08-23T16:02:12.164Z"
   },
   {
    "duration": 28,
    "start_time": "2023-08-23T16:02:12.189Z"
   },
   {
    "duration": 63,
    "start_time": "2023-08-23T16:02:12.219Z"
   },
   {
    "duration": 30,
    "start_time": "2023-08-23T16:02:12.283Z"
   },
   {
    "duration": 56,
    "start_time": "2023-08-23T16:02:12.315Z"
   },
   {
    "duration": 25,
    "start_time": "2023-08-23T16:02:12.375Z"
   },
   {
    "duration": 15,
    "start_time": "2023-08-23T16:02:12.402Z"
   },
   {
    "duration": 5,
    "start_time": "2023-08-23T16:02:12.419Z"
   },
   {
    "duration": 37,
    "start_time": "2023-08-23T16:02:12.426Z"
   },
   {
    "duration": 4,
    "start_time": "2023-08-23T16:02:12.465Z"
   },
   {
    "duration": 20,
    "start_time": "2023-08-23T16:02:12.471Z"
   },
   {
    "duration": 31,
    "start_time": "2023-08-23T16:02:12.493Z"
   },
   {
    "duration": 24,
    "start_time": "2023-08-23T16:02:12.525Z"
   },
   {
    "duration": 18,
    "start_time": "2023-08-23T16:02:12.551Z"
   },
   {
    "duration": 18,
    "start_time": "2023-08-23T16:02:12.571Z"
   },
   {
    "duration": 41,
    "start_time": "2023-08-23T16:02:12.591Z"
   },
   {
    "duration": 3,
    "start_time": "2023-08-23T16:02:14.716Z"
   },
   {
    "duration": 3,
    "start_time": "2023-08-23T16:02:15.250Z"
   },
   {
    "duration": 5,
    "start_time": "2023-08-23T16:02:15.360Z"
   },
   {
    "duration": 2,
    "start_time": "2023-08-23T16:02:15.422Z"
   },
   {
    "duration": 137,
    "start_time": "2023-08-23T16:02:15.457Z"
   },
   {
    "duration": 43215,
    "start_time": "2023-08-23T16:02:15.596Z"
   },
   {
    "duration": 76,
    "start_time": "2023-08-23T16:02:58.813Z"
   },
   {
    "duration": 439,
    "start_time": "2023-08-23T16:02:58.891Z"
   },
   {
    "duration": 2,
    "start_time": "2023-08-23T16:02:59.332Z"
   },
   {
    "duration": 51,
    "start_time": "2023-08-23T16:02:59.335Z"
   },
   {
    "duration": 26,
    "start_time": "2023-08-23T16:02:59.388Z"
   },
   {
    "duration": 28,
    "start_time": "2023-08-23T16:02:59.415Z"
   },
   {
    "duration": 23,
    "start_time": "2023-08-23T16:02:59.444Z"
   },
   {
    "duration": 22,
    "start_time": "2023-08-23T16:02:59.469Z"
   },
   {
    "duration": 49,
    "start_time": "2023-08-23T16:02:59.493Z"
   },
   {
    "duration": 30,
    "start_time": "2023-08-23T16:02:59.544Z"
   },
   {
    "duration": 19981,
    "start_time": "2023-08-23T16:02:59.575Z"
   },
   {
    "duration": 15,
    "start_time": "2023-08-23T16:11:41.636Z"
   },
   {
    "duration": 7,
    "start_time": "2023-08-23T16:11:54.512Z"
   },
   {
    "duration": 3,
    "start_time": "2023-08-23T16:11:55.227Z"
   },
   {
    "duration": 3,
    "start_time": "2023-08-23T16:11:56.041Z"
   },
   {
    "duration": 15,
    "start_time": "2023-08-23T16:11:56.994Z"
   },
   {
    "duration": 2358,
    "start_time": "2023-08-23T16:12:01.581Z"
   },
   {
    "duration": 4,
    "start_time": "2023-08-23T16:12:03.942Z"
   },
   {
    "duration": 8,
    "start_time": "2023-08-23T16:12:11.538Z"
   },
   {
    "duration": 4,
    "start_time": "2023-08-23T16:12:11.751Z"
   },
   {
    "duration": 3,
    "start_time": "2023-08-23T16:12:12.128Z"
   },
   {
    "duration": 16,
    "start_time": "2023-08-23T16:12:12.735Z"
   },
   {
    "duration": 383,
    "start_time": "2023-08-23T16:12:17.574Z"
   },
   {
    "duration": 505,
    "start_time": "2023-08-23T16:12:55.041Z"
   },
   {
    "duration": 4,
    "start_time": "2023-08-23T16:13:05.793Z"
   },
   {
    "duration": 2218,
    "start_time": "2023-08-23T16:18:54.366Z"
   },
   {
    "duration": 4,
    "start_time": "2023-08-23T16:18:56.586Z"
   },
   {
    "duration": 91,
    "start_time": "2023-08-23T16:18:56.592Z"
   },
   {
    "duration": 12,
    "start_time": "2023-08-23T16:18:56.685Z"
   },
   {
    "duration": 28,
    "start_time": "2023-08-23T16:18:56.699Z"
   },
   {
    "duration": 4,
    "start_time": "2023-08-23T16:18:56.729Z"
   },
   {
    "duration": 16,
    "start_time": "2023-08-23T16:18:56.735Z"
   },
   {
    "duration": 8,
    "start_time": "2023-08-23T16:18:56.753Z"
   },
   {
    "duration": 27,
    "start_time": "2023-08-23T16:18:56.763Z"
   },
   {
    "duration": 154,
    "start_time": "2023-08-23T16:18:56.793Z"
   },
   {
    "duration": 218,
    "start_time": "2023-08-23T16:18:56.948Z"
   },
   {
    "duration": 3,
    "start_time": "2023-08-23T16:18:57.168Z"
   },
   {
    "duration": 16,
    "start_time": "2023-08-23T16:18:57.173Z"
   },
   {
    "duration": 9,
    "start_time": "2023-08-23T16:18:57.190Z"
   },
   {
    "duration": 13,
    "start_time": "2023-08-23T16:18:57.200Z"
   },
   {
    "duration": 13,
    "start_time": "2023-08-23T16:18:57.214Z"
   },
   {
    "duration": 11,
    "start_time": "2023-08-23T16:18:57.228Z"
   },
   {
    "duration": 13,
    "start_time": "2023-08-23T16:18:57.240Z"
   },
   {
    "duration": 12,
    "start_time": "2023-08-23T16:18:57.255Z"
   },
   {
    "duration": 7,
    "start_time": "2023-08-23T16:18:57.269Z"
   },
   {
    "duration": 10,
    "start_time": "2023-08-23T16:18:57.277Z"
   },
   {
    "duration": 4,
    "start_time": "2023-08-23T16:18:57.289Z"
   },
   {
    "duration": 8,
    "start_time": "2023-08-23T16:18:57.294Z"
   },
   {
    "duration": 11,
    "start_time": "2023-08-23T16:18:57.303Z"
   },
   {
    "duration": 12,
    "start_time": "2023-08-23T16:18:57.315Z"
   },
   {
    "duration": 39,
    "start_time": "2023-08-23T16:18:57.328Z"
   },
   {
    "duration": 29,
    "start_time": "2023-08-23T16:18:57.369Z"
   },
   {
    "duration": 16,
    "start_time": "2023-08-23T16:18:57.402Z"
   },
   {
    "duration": 23,
    "start_time": "2023-08-23T16:18:57.419Z"
   },
   {
    "duration": 15,
    "start_time": "2023-08-23T16:18:57.444Z"
   },
   {
    "duration": 35,
    "start_time": "2023-08-23T16:18:57.461Z"
   },
   {
    "duration": 6,
    "start_time": "2023-08-23T16:18:57.497Z"
   },
   {
    "duration": 30,
    "start_time": "2023-08-23T16:18:57.505Z"
   },
   {
    "duration": 18,
    "start_time": "2023-08-23T16:18:57.537Z"
   },
   {
    "duration": 27,
    "start_time": "2023-08-23T16:18:57.557Z"
   },
   {
    "duration": 20,
    "start_time": "2023-08-23T16:18:57.586Z"
   },
   {
    "duration": 27,
    "start_time": "2023-08-23T16:18:57.607Z"
   },
   {
    "duration": 15,
    "start_time": "2023-08-23T16:18:57.636Z"
   },
   {
    "duration": 23,
    "start_time": "2023-08-23T16:18:57.653Z"
   },
   {
    "duration": 12,
    "start_time": "2023-08-23T16:18:57.678Z"
   },
   {
    "duration": 17,
    "start_time": "2023-08-23T16:18:57.691Z"
   },
   {
    "duration": 16,
    "start_time": "2023-08-23T16:18:57.710Z"
   },
   {
    "duration": 10,
    "start_time": "2023-08-23T16:18:57.728Z"
   },
   {
    "duration": 41958,
    "start_time": "2023-08-23T16:18:57.740Z"
   },
   {
    "duration": 6,
    "start_time": "2023-08-23T16:19:39.700Z"
   },
   {
    "duration": 463,
    "start_time": "2023-08-23T16:19:39.708Z"
   },
   {
    "duration": 3,
    "start_time": "2023-08-23T16:19:40.172Z"
   },
   {
    "duration": 80,
    "start_time": "2023-08-23T16:19:40.176Z"
   },
   {
    "duration": 53,
    "start_time": "2023-08-23T16:19:40.258Z"
   },
   {
    "duration": 31,
    "start_time": "2023-08-23T16:19:40.313Z"
   },
   {
    "duration": 17,
    "start_time": "2023-08-23T16:19:40.345Z"
   },
   {
    "duration": 13,
    "start_time": "2023-08-23T16:19:40.364Z"
   },
   {
    "duration": 31,
    "start_time": "2023-08-23T16:19:40.381Z"
   },
   {
    "duration": 40,
    "start_time": "2023-08-23T16:19:40.413Z"
   },
   {
    "duration": 20569,
    "start_time": "2023-08-23T16:19:40.454Z"
   },
   {
    "duration": 14,
    "start_time": "2023-08-23T16:20:57.548Z"
   },
   {
    "duration": 4,
    "start_time": "2023-08-23T16:24:51.142Z"
   },
   {
    "duration": 11,
    "start_time": "2023-08-23T16:25:04.283Z"
   },
   {
    "duration": 4,
    "start_time": "2023-08-23T16:25:21.394Z"
   },
   {
    "duration": 2273,
    "start_time": "2023-08-23T16:25:54.243Z"
   },
   {
    "duration": 3,
    "start_time": "2023-08-23T16:25:56.518Z"
   },
   {
    "duration": 88,
    "start_time": "2023-08-23T16:25:56.523Z"
   },
   {
    "duration": 12,
    "start_time": "2023-08-23T16:25:56.613Z"
   },
   {
    "duration": 35,
    "start_time": "2023-08-23T16:25:56.627Z"
   },
   {
    "duration": 3,
    "start_time": "2023-08-23T16:25:56.664Z"
   },
   {
    "duration": 35,
    "start_time": "2023-08-23T16:25:56.668Z"
   },
   {
    "duration": 9,
    "start_time": "2023-08-23T16:25:56.705Z"
   },
   {
    "duration": 21,
    "start_time": "2023-08-23T16:25:56.716Z"
   },
   {
    "duration": 140,
    "start_time": "2023-08-23T16:25:56.740Z"
   },
   {
    "duration": 215,
    "start_time": "2023-08-23T16:25:56.887Z"
   },
   {
    "duration": 3,
    "start_time": "2023-08-23T16:25:57.104Z"
   },
   {
    "duration": 22,
    "start_time": "2023-08-23T16:25:57.108Z"
   },
   {
    "duration": 20,
    "start_time": "2023-08-23T16:25:57.132Z"
   },
   {
    "duration": 12,
    "start_time": "2023-08-23T16:25:57.154Z"
   },
   {
    "duration": 20,
    "start_time": "2023-08-23T16:25:57.168Z"
   },
   {
    "duration": 21,
    "start_time": "2023-08-23T16:25:57.189Z"
   },
   {
    "duration": 15,
    "start_time": "2023-08-23T16:25:57.211Z"
   },
   {
    "duration": 18,
    "start_time": "2023-08-23T16:25:57.227Z"
   },
   {
    "duration": 24,
    "start_time": "2023-08-23T16:25:57.246Z"
   },
   {
    "duration": 6,
    "start_time": "2023-08-23T16:25:57.272Z"
   },
   {
    "duration": 4,
    "start_time": "2023-08-23T16:25:57.280Z"
   },
   {
    "duration": 5,
    "start_time": "2023-08-23T16:25:57.285Z"
   },
   {
    "duration": 4,
    "start_time": "2023-08-23T16:25:57.292Z"
   },
   {
    "duration": 5,
    "start_time": "2023-08-23T16:25:57.297Z"
   },
   {
    "duration": 4,
    "start_time": "2023-08-23T16:25:57.303Z"
   },
   {
    "duration": 18,
    "start_time": "2023-08-23T16:25:57.308Z"
   },
   {
    "duration": 8,
    "start_time": "2023-08-23T16:25:57.330Z"
   },
   {
    "duration": 7,
    "start_time": "2023-08-23T16:25:57.339Z"
   },
   {
    "duration": 4,
    "start_time": "2023-08-23T16:25:57.347Z"
   },
   {
    "duration": 43,
    "start_time": "2023-08-23T16:25:57.353Z"
   },
   {
    "duration": 62,
    "start_time": "2023-08-23T16:25:57.397Z"
   },
   {
    "duration": 48,
    "start_time": "2023-08-23T16:25:57.461Z"
   },
   {
    "duration": 23,
    "start_time": "2023-08-23T16:25:57.511Z"
   },
   {
    "duration": 22,
    "start_time": "2023-08-23T16:25:57.536Z"
   },
   {
    "duration": 29,
    "start_time": "2023-08-23T16:25:57.559Z"
   },
   {
    "duration": 27,
    "start_time": "2023-08-23T16:25:57.590Z"
   },
   {
    "duration": 23,
    "start_time": "2023-08-23T16:25:57.618Z"
   },
   {
    "duration": 8,
    "start_time": "2023-08-23T16:25:57.643Z"
   },
   {
    "duration": 25,
    "start_time": "2023-08-23T16:25:57.652Z"
   },
   {
    "duration": 28,
    "start_time": "2023-08-23T16:25:57.678Z"
   },
   {
    "duration": 44,
    "start_time": "2023-08-23T16:25:57.707Z"
   },
   {
    "duration": 12,
    "start_time": "2023-08-23T16:25:57.753Z"
   },
   {
    "duration": 41732,
    "start_time": "2023-08-23T16:25:57.766Z"
   },
   {
    "duration": 7,
    "start_time": "2023-08-23T16:26:39.499Z"
   },
   {
    "duration": 515,
    "start_time": "2023-08-23T16:26:39.507Z"
   },
   {
    "duration": 2,
    "start_time": "2023-08-23T16:26:40.024Z"
   },
   {
    "duration": 36,
    "start_time": "2023-08-23T16:26:40.028Z"
   },
   {
    "duration": 32,
    "start_time": "2023-08-23T16:26:40.066Z"
   },
   {
    "duration": 32,
    "start_time": "2023-08-23T16:26:40.099Z"
   },
   {
    "duration": 36,
    "start_time": "2023-08-23T16:26:40.133Z"
   },
   {
    "duration": 29,
    "start_time": "2023-08-23T16:26:40.171Z"
   },
   {
    "duration": 35,
    "start_time": "2023-08-23T16:26:40.202Z"
   },
   {
    "duration": 23,
    "start_time": "2023-08-23T16:26:40.239Z"
   },
   {
    "duration": 42,
    "start_time": "2023-08-23T16:26:40.263Z"
   },
   {
    "duration": 418,
    "start_time": "2023-08-23T16:27:08.185Z"
   },
   {
    "duration": 12579,
    "start_time": "2023-08-24T08:06:13.966Z"
   },
   {
    "duration": 3,
    "start_time": "2023-08-24T08:06:26.547Z"
   },
   {
    "duration": 137,
    "start_time": "2023-08-24T08:06:26.552Z"
   },
   {
    "duration": 13,
    "start_time": "2023-08-24T08:06:26.692Z"
   },
   {
    "duration": 30,
    "start_time": "2023-08-24T08:06:26.707Z"
   },
   {
    "duration": 4,
    "start_time": "2023-08-24T08:06:26.739Z"
   },
   {
    "duration": 25,
    "start_time": "2023-08-24T08:06:26.745Z"
   },
   {
    "duration": 28,
    "start_time": "2023-08-24T08:06:26.772Z"
   },
   {
    "duration": 7,
    "start_time": "2023-08-24T08:06:26.803Z"
   },
   {
    "duration": 158,
    "start_time": "2023-08-24T08:06:26.813Z"
   },
   {
    "duration": 228,
    "start_time": "2023-08-24T08:06:26.973Z"
   },
   {
    "duration": 5,
    "start_time": "2023-08-24T08:06:27.202Z"
   },
   {
    "duration": 17,
    "start_time": "2023-08-24T08:06:27.209Z"
   },
   {
    "duration": 6,
    "start_time": "2023-08-24T08:06:27.229Z"
   },
   {
    "duration": 10,
    "start_time": "2023-08-24T08:06:27.237Z"
   },
   {
    "duration": 16,
    "start_time": "2023-08-24T08:06:27.249Z"
   },
   {
    "duration": 5,
    "start_time": "2023-08-24T08:06:27.267Z"
   },
   {
    "duration": 14,
    "start_time": "2023-08-24T08:06:27.273Z"
   },
   {
    "duration": 14,
    "start_time": "2023-08-24T08:06:27.289Z"
   },
   {
    "duration": 7,
    "start_time": "2023-08-24T08:06:27.306Z"
   },
   {
    "duration": 14,
    "start_time": "2023-08-24T08:06:27.315Z"
   },
   {
    "duration": 24,
    "start_time": "2023-08-24T08:06:27.332Z"
   },
   {
    "duration": 25,
    "start_time": "2023-08-24T08:06:27.358Z"
   },
   {
    "duration": 10,
    "start_time": "2023-08-24T08:06:27.385Z"
   },
   {
    "duration": 161,
    "start_time": "2023-08-24T08:06:27.397Z"
   },
   {
    "duration": 0,
    "start_time": "2023-08-24T08:06:27.561Z"
   },
   {
    "duration": 0,
    "start_time": "2023-08-24T08:06:27.563Z"
   },
   {
    "duration": 0,
    "start_time": "2023-08-24T08:06:27.565Z"
   },
   {
    "duration": 0,
    "start_time": "2023-08-24T08:06:27.566Z"
   },
   {
    "duration": 0,
    "start_time": "2023-08-24T08:06:27.568Z"
   },
   {
    "duration": 0,
    "start_time": "2023-08-24T08:06:27.569Z"
   },
   {
    "duration": 0,
    "start_time": "2023-08-24T08:06:27.571Z"
   },
   {
    "duration": 0,
    "start_time": "2023-08-24T08:06:27.573Z"
   },
   {
    "duration": 0,
    "start_time": "2023-08-24T08:06:27.575Z"
   },
   {
    "duration": 0,
    "start_time": "2023-08-24T08:06:27.576Z"
   },
   {
    "duration": 0,
    "start_time": "2023-08-24T08:06:27.577Z"
   },
   {
    "duration": 0,
    "start_time": "2023-08-24T08:06:27.579Z"
   },
   {
    "duration": 0,
    "start_time": "2023-08-24T08:06:27.580Z"
   },
   {
    "duration": 0,
    "start_time": "2023-08-24T08:06:27.582Z"
   },
   {
    "duration": 0,
    "start_time": "2023-08-24T08:06:27.583Z"
   },
   {
    "duration": 0,
    "start_time": "2023-08-24T08:06:27.585Z"
   },
   {
    "duration": 0,
    "start_time": "2023-08-24T08:06:27.586Z"
   },
   {
    "duration": 0,
    "start_time": "2023-08-24T08:06:27.588Z"
   },
   {
    "duration": 0,
    "start_time": "2023-08-24T08:06:27.589Z"
   },
   {
    "duration": 0,
    "start_time": "2023-08-24T08:06:27.590Z"
   },
   {
    "duration": 0,
    "start_time": "2023-08-24T08:06:27.592Z"
   },
   {
    "duration": 0,
    "start_time": "2023-08-24T08:06:27.594Z"
   },
   {
    "duration": 0,
    "start_time": "2023-08-24T08:06:27.596Z"
   },
   {
    "duration": 0,
    "start_time": "2023-08-24T08:06:27.597Z"
   },
   {
    "duration": 0,
    "start_time": "2023-08-24T08:06:27.599Z"
   },
   {
    "duration": 0,
    "start_time": "2023-08-24T08:06:27.660Z"
   },
   {
    "duration": 0,
    "start_time": "2023-08-24T08:06:27.661Z"
   },
   {
    "duration": 0,
    "start_time": "2023-08-24T08:06:27.663Z"
   },
   {
    "duration": 0,
    "start_time": "2023-08-24T08:06:27.664Z"
   },
   {
    "duration": 0,
    "start_time": "2023-08-24T08:06:27.665Z"
   },
   {
    "duration": 3,
    "start_time": "2023-08-24T08:06:51.795Z"
   },
   {
    "duration": 4,
    "start_time": "2023-08-24T08:06:52.379Z"
   },
   {
    "duration": 4,
    "start_time": "2023-08-24T08:06:53.309Z"
   },
   {
    "duration": 11,
    "start_time": "2023-08-24T08:06:53.778Z"
   },
   {
    "duration": 32,
    "start_time": "2023-08-24T08:06:54.247Z"
   },
   {
    "duration": 5059,
    "start_time": "2023-08-24T08:08:27.194Z"
   },
   {
    "duration": 4,
    "start_time": "2023-08-24T08:08:32.256Z"
   },
   {
    "duration": 90,
    "start_time": "2023-08-24T08:08:32.261Z"
   },
   {
    "duration": 20,
    "start_time": "2023-08-24T08:08:32.354Z"
   },
   {
    "duration": 50,
    "start_time": "2023-08-24T08:08:32.376Z"
   },
   {
    "duration": 4,
    "start_time": "2023-08-24T08:08:32.428Z"
   },
   {
    "duration": 11,
    "start_time": "2023-08-24T08:08:32.434Z"
   },
   {
    "duration": 19,
    "start_time": "2023-08-24T08:08:32.447Z"
   },
   {
    "duration": 7,
    "start_time": "2023-08-24T08:08:32.468Z"
   },
   {
    "duration": 218,
    "start_time": "2023-08-24T08:08:32.480Z"
   },
   {
    "duration": 228,
    "start_time": "2023-08-24T08:08:32.700Z"
   },
   {
    "duration": 4,
    "start_time": "2023-08-24T08:08:32.930Z"
   },
   {
    "duration": 34,
    "start_time": "2023-08-24T08:08:32.935Z"
   },
   {
    "duration": 13,
    "start_time": "2023-08-24T08:08:32.971Z"
   },
   {
    "duration": 7,
    "start_time": "2023-08-24T08:08:32.986Z"
   },
   {
    "duration": 5,
    "start_time": "2023-08-24T08:08:32.995Z"
   },
   {
    "duration": 28,
    "start_time": "2023-08-24T08:08:33.002Z"
   },
   {
    "duration": 7,
    "start_time": "2023-08-24T08:08:33.033Z"
   },
   {
    "duration": 21,
    "start_time": "2023-08-24T08:08:33.042Z"
   },
   {
    "duration": 21,
    "start_time": "2023-08-24T08:08:33.066Z"
   },
   {
    "duration": 6,
    "start_time": "2023-08-24T08:08:33.089Z"
   },
   {
    "duration": 4,
    "start_time": "2023-08-24T08:08:33.098Z"
   },
   {
    "duration": 6,
    "start_time": "2023-08-24T08:08:33.104Z"
   },
   {
    "duration": 8,
    "start_time": "2023-08-24T08:08:33.113Z"
   },
   {
    "duration": 7,
    "start_time": "2023-08-24T08:08:33.123Z"
   },
   {
    "duration": 6,
    "start_time": "2023-08-24T08:08:33.131Z"
   },
   {
    "duration": 5,
    "start_time": "2023-08-24T08:08:33.138Z"
   },
   {
    "duration": 7,
    "start_time": "2023-08-24T08:08:33.160Z"
   },
   {
    "duration": 60,
    "start_time": "2023-08-24T08:08:33.169Z"
   },
   {
    "duration": 37,
    "start_time": "2023-08-24T08:08:33.231Z"
   },
   {
    "duration": 3,
    "start_time": "2023-08-24T08:08:33.270Z"
   },
   {
    "duration": 5,
    "start_time": "2023-08-24T08:08:33.275Z"
   },
   {
    "duration": 5,
    "start_time": "2023-08-24T08:08:33.281Z"
   },
   {
    "duration": 18,
    "start_time": "2023-08-24T08:08:33.287Z"
   },
   {
    "duration": 0,
    "start_time": "2023-08-24T08:08:33.306Z"
   },
   {
    "duration": 0,
    "start_time": "2023-08-24T08:08:33.308Z"
   },
   {
    "duration": 0,
    "start_time": "2023-08-24T08:08:33.309Z"
   },
   {
    "duration": 0,
    "start_time": "2023-08-24T08:08:33.311Z"
   },
   {
    "duration": 0,
    "start_time": "2023-08-24T08:08:33.312Z"
   },
   {
    "duration": 0,
    "start_time": "2023-08-24T08:08:33.313Z"
   },
   {
    "duration": 0,
    "start_time": "2023-08-24T08:08:33.315Z"
   },
   {
    "duration": 0,
    "start_time": "2023-08-24T08:08:33.316Z"
   },
   {
    "duration": 0,
    "start_time": "2023-08-24T08:08:33.317Z"
   },
   {
    "duration": 0,
    "start_time": "2023-08-24T08:08:33.319Z"
   },
   {
    "duration": 0,
    "start_time": "2023-08-24T08:08:33.359Z"
   },
   {
    "duration": 0,
    "start_time": "2023-08-24T08:08:33.361Z"
   },
   {
    "duration": 0,
    "start_time": "2023-08-24T08:08:33.362Z"
   },
   {
    "duration": 0,
    "start_time": "2023-08-24T08:08:33.363Z"
   },
   {
    "duration": 0,
    "start_time": "2023-08-24T08:08:33.364Z"
   },
   {
    "duration": 0,
    "start_time": "2023-08-24T08:08:33.365Z"
   },
   {
    "duration": 0,
    "start_time": "2023-08-24T08:08:33.366Z"
   },
   {
    "duration": 0,
    "start_time": "2023-08-24T08:08:33.368Z"
   },
   {
    "duration": 0,
    "start_time": "2023-08-24T08:08:33.370Z"
   },
   {
    "duration": 0,
    "start_time": "2023-08-24T08:08:33.371Z"
   },
   {
    "duration": 0,
    "start_time": "2023-08-24T08:08:33.372Z"
   },
   {
    "duration": 0,
    "start_time": "2023-08-24T08:08:33.373Z"
   },
   {
    "duration": 5321,
    "start_time": "2023-08-24T08:09:51.652Z"
   },
   {
    "duration": 4,
    "start_time": "2023-08-24T08:09:56.976Z"
   },
   {
    "duration": 107,
    "start_time": "2023-08-24T08:09:56.982Z"
   },
   {
    "duration": 12,
    "start_time": "2023-08-24T08:09:57.092Z"
   },
   {
    "duration": 29,
    "start_time": "2023-08-24T08:09:57.105Z"
   },
   {
    "duration": 3,
    "start_time": "2023-08-24T08:09:57.136Z"
   },
   {
    "duration": 15,
    "start_time": "2023-08-24T08:09:57.141Z"
   },
   {
    "duration": 7,
    "start_time": "2023-08-24T08:09:57.158Z"
   },
   {
    "duration": 9,
    "start_time": "2023-08-24T08:09:57.167Z"
   },
   {
    "duration": 149,
    "start_time": "2023-08-24T08:09:57.179Z"
   },
   {
    "duration": 222,
    "start_time": "2023-08-24T08:09:57.330Z"
   },
   {
    "duration": 8,
    "start_time": "2023-08-24T08:09:57.554Z"
   },
   {
    "duration": 22,
    "start_time": "2023-08-24T08:09:57.564Z"
   },
   {
    "duration": 7,
    "start_time": "2023-08-24T08:09:57.588Z"
   },
   {
    "duration": 8,
    "start_time": "2023-08-24T08:09:57.597Z"
   },
   {
    "duration": 5,
    "start_time": "2023-08-24T08:09:57.607Z"
   },
   {
    "duration": 13,
    "start_time": "2023-08-24T08:09:57.614Z"
   },
   {
    "duration": 11,
    "start_time": "2023-08-24T08:09:57.628Z"
   },
   {
    "duration": 9,
    "start_time": "2023-08-24T08:09:57.640Z"
   },
   {
    "duration": 6,
    "start_time": "2023-08-24T08:09:57.651Z"
   },
   {
    "duration": 4,
    "start_time": "2023-08-24T08:09:57.660Z"
   },
   {
    "duration": 7,
    "start_time": "2023-08-24T08:09:57.666Z"
   },
   {
    "duration": 15,
    "start_time": "2023-08-24T08:09:57.675Z"
   },
   {
    "duration": 11,
    "start_time": "2023-08-24T08:09:57.692Z"
   },
   {
    "duration": 9,
    "start_time": "2023-08-24T08:09:57.705Z"
   },
   {
    "duration": 9,
    "start_time": "2023-08-24T08:09:57.716Z"
   },
   {
    "duration": 7,
    "start_time": "2023-08-24T08:09:57.726Z"
   },
   {
    "duration": 24,
    "start_time": "2023-08-24T08:09:57.737Z"
   },
   {
    "duration": 51,
    "start_time": "2023-08-24T08:09:57.763Z"
   },
   {
    "duration": 18,
    "start_time": "2023-08-24T08:09:57.816Z"
   },
   {
    "duration": 4,
    "start_time": "2023-08-24T08:09:57.836Z"
   },
   {
    "duration": 18,
    "start_time": "2023-08-24T08:09:57.841Z"
   },
   {
    "duration": 5,
    "start_time": "2023-08-24T08:09:57.861Z"
   },
   {
    "duration": 9,
    "start_time": "2023-08-24T08:09:57.868Z"
   },
   {
    "duration": 32,
    "start_time": "2023-08-24T08:09:57.878Z"
   },
   {
    "duration": 0,
    "start_time": "2023-08-24T08:09:57.913Z"
   },
   {
    "duration": 0,
    "start_time": "2023-08-24T08:09:57.915Z"
   },
   {
    "duration": 0,
    "start_time": "2023-08-24T08:09:57.916Z"
   },
   {
    "duration": 0,
    "start_time": "2023-08-24T08:09:57.918Z"
   },
   {
    "duration": 0,
    "start_time": "2023-08-24T08:09:57.920Z"
   },
   {
    "duration": 0,
    "start_time": "2023-08-24T08:09:57.922Z"
   },
   {
    "duration": 0,
    "start_time": "2023-08-24T08:09:57.924Z"
   },
   {
    "duration": 0,
    "start_time": "2023-08-24T08:09:57.926Z"
   },
   {
    "duration": 0,
    "start_time": "2023-08-24T08:09:57.928Z"
   },
   {
    "duration": 0,
    "start_time": "2023-08-24T08:09:57.929Z"
   },
   {
    "duration": 0,
    "start_time": "2023-08-24T08:09:57.929Z"
   },
   {
    "duration": 0,
    "start_time": "2023-08-24T08:09:57.930Z"
   },
   {
    "duration": 0,
    "start_time": "2023-08-24T08:09:57.959Z"
   },
   {
    "duration": 0,
    "start_time": "2023-08-24T08:09:57.961Z"
   },
   {
    "duration": 0,
    "start_time": "2023-08-24T08:09:57.962Z"
   },
   {
    "duration": 0,
    "start_time": "2023-08-24T08:09:57.963Z"
   },
   {
    "duration": 0,
    "start_time": "2023-08-24T08:09:57.965Z"
   },
   {
    "duration": 0,
    "start_time": "2023-08-24T08:09:57.965Z"
   },
   {
    "duration": 0,
    "start_time": "2023-08-24T08:09:57.966Z"
   },
   {
    "duration": 0,
    "start_time": "2023-08-24T08:09:57.967Z"
   },
   {
    "duration": 0,
    "start_time": "2023-08-24T08:09:57.968Z"
   },
   {
    "duration": 4,
    "start_time": "2023-08-24T08:10:50.606Z"
   },
   {
    "duration": 4,
    "start_time": "2023-08-24T08:11:14.852Z"
   },
   {
    "duration": 4,
    "start_time": "2023-08-24T08:11:20.484Z"
   },
   {
    "duration": 5,
    "start_time": "2023-08-24T08:11:20.952Z"
   },
   {
    "duration": 5,
    "start_time": "2023-08-24T08:11:21.376Z"
   },
   {
    "duration": 4,
    "start_time": "2023-08-24T08:11:21.660Z"
   },
   {
    "duration": 3,
    "start_time": "2023-08-24T08:11:22.344Z"
   },
   {
    "duration": 6,
    "start_time": "2023-08-24T08:11:23.014Z"
   },
   {
    "duration": 4,
    "start_time": "2023-08-24T08:11:23.905Z"
   },
   {
    "duration": 15,
    "start_time": "2023-08-24T08:11:24.331Z"
   },
   {
    "duration": 48731,
    "start_time": "2023-08-24T08:11:25.244Z"
   },
   {
    "duration": 9,
    "start_time": "2023-08-24T08:12:30.116Z"
   },
   {
    "duration": 468,
    "start_time": "2023-08-24T08:12:30.651Z"
   },
   {
    "duration": 3,
    "start_time": "2023-08-24T08:12:34.136Z"
   },
   {
    "duration": 4,
    "start_time": "2023-08-24T08:12:34.201Z"
   },
   {
    "duration": 10,
    "start_time": "2023-08-24T08:12:34.373Z"
   },
   {
    "duration": 5,
    "start_time": "2023-08-24T08:12:34.436Z"
   },
   {
    "duration": 4,
    "start_time": "2023-08-24T08:12:34.511Z"
   },
   {
    "duration": 2,
    "start_time": "2023-08-24T08:12:34.541Z"
   },
   {
    "duration": 12,
    "start_time": "2023-08-24T08:12:34.606Z"
   },
   {
    "duration": 13,
    "start_time": "2023-08-24T08:12:34.762Z"
   },
   {
    "duration": 12,
    "start_time": "2023-08-24T08:12:34.809Z"
   },
   {
    "duration": 13,
    "start_time": "2023-08-24T08:12:52.426Z"
   },
   {
    "duration": 14,
    "start_time": "2023-08-24T08:14:18.882Z"
   },
   {
    "duration": 22,
    "start_time": "2023-08-24T08:15:24.714Z"
   },
   {
    "duration": 13,
    "start_time": "2023-08-24T08:15:29.321Z"
   },
   {
    "duration": 16,
    "start_time": "2023-08-24T08:15:41.349Z"
   },
   {
    "duration": 17,
    "start_time": "2023-08-24T08:16:33.213Z"
   },
   {
    "duration": 5,
    "start_time": "2023-08-24T08:17:02.209Z"
   },
   {
    "duration": 4,
    "start_time": "2023-08-24T08:17:02.570Z"
   },
   {
    "duration": 3,
    "start_time": "2023-08-24T08:17:02.833Z"
   },
   {
    "duration": 16,
    "start_time": "2023-08-24T08:17:03.472Z"
   },
   {
    "duration": 13,
    "start_time": "2023-08-24T08:17:23.461Z"
   },
   {
    "duration": 14,
    "start_time": "2023-08-24T08:17:30.311Z"
   },
   {
    "duration": 20,
    "start_time": "2023-08-24T08:17:34.597Z"
   },
   {
    "duration": 14,
    "start_time": "2023-08-24T08:19:31.048Z"
   },
   {
    "duration": 14,
    "start_time": "2023-08-24T08:19:53.676Z"
   },
   {
    "duration": 15,
    "start_time": "2023-08-24T08:20:02.585Z"
   },
   {
    "duration": 4992,
    "start_time": "2023-08-24T08:24:16.774Z"
   },
   {
    "duration": 3,
    "start_time": "2023-08-24T08:24:21.769Z"
   },
   {
    "duration": 93,
    "start_time": "2023-08-24T08:24:21.774Z"
   },
   {
    "duration": 14,
    "start_time": "2023-08-24T08:24:21.869Z"
   },
   {
    "duration": 31,
    "start_time": "2023-08-24T08:24:21.885Z"
   },
   {
    "duration": 3,
    "start_time": "2023-08-24T08:24:21.919Z"
   },
   {
    "duration": 23,
    "start_time": "2023-08-24T08:24:21.924Z"
   },
   {
    "duration": 20,
    "start_time": "2023-08-24T08:24:21.948Z"
   },
   {
    "duration": 6,
    "start_time": "2023-08-24T08:24:21.970Z"
   },
   {
    "duration": 184,
    "start_time": "2023-08-24T08:24:21.979Z"
   },
   {
    "duration": 232,
    "start_time": "2023-08-24T08:24:22.165Z"
   },
   {
    "duration": 5,
    "start_time": "2023-08-24T08:24:22.399Z"
   },
   {
    "duration": 22,
    "start_time": "2023-08-24T08:24:22.406Z"
   },
   {
    "duration": 7,
    "start_time": "2023-08-24T08:24:22.430Z"
   },
   {
    "duration": 4,
    "start_time": "2023-08-24T08:24:22.439Z"
   },
   {
    "duration": 4,
    "start_time": "2023-08-24T08:24:22.444Z"
   },
   {
    "duration": 10,
    "start_time": "2023-08-24T08:24:22.450Z"
   },
   {
    "duration": 4,
    "start_time": "2023-08-24T08:24:22.462Z"
   },
   {
    "duration": 4,
    "start_time": "2023-08-24T08:24:22.468Z"
   },
   {
    "duration": 4,
    "start_time": "2023-08-24T08:24:22.474Z"
   },
   {
    "duration": 8,
    "start_time": "2023-08-24T08:24:22.480Z"
   },
   {
    "duration": 4,
    "start_time": "2023-08-24T08:24:22.490Z"
   },
   {
    "duration": 9,
    "start_time": "2023-08-24T08:24:22.495Z"
   },
   {
    "duration": 8,
    "start_time": "2023-08-24T08:24:22.506Z"
   },
   {
    "duration": 7,
    "start_time": "2023-08-24T08:24:22.516Z"
   },
   {
    "duration": 35,
    "start_time": "2023-08-24T08:24:22.525Z"
   },
   {
    "duration": 5,
    "start_time": "2023-08-24T08:24:22.563Z"
   },
   {
    "duration": 11,
    "start_time": "2023-08-24T08:24:22.574Z"
   },
   {
    "duration": 42,
    "start_time": "2023-08-24T08:24:22.588Z"
   },
   {
    "duration": 44,
    "start_time": "2023-08-24T08:24:22.632Z"
   },
   {
    "duration": 12,
    "start_time": "2023-08-24T08:24:22.678Z"
   },
   {
    "duration": 4,
    "start_time": "2023-08-24T08:24:22.693Z"
   },
   {
    "duration": 7,
    "start_time": "2023-08-24T08:24:22.700Z"
   },
   {
    "duration": 7,
    "start_time": "2023-08-24T08:24:22.708Z"
   },
   {
    "duration": 7,
    "start_time": "2023-08-24T08:24:22.717Z"
   },
   {
    "duration": 4,
    "start_time": "2023-08-24T08:24:22.726Z"
   },
   {
    "duration": 5,
    "start_time": "2023-08-24T08:24:22.759Z"
   },
   {
    "duration": 13,
    "start_time": "2023-08-24T08:24:22.766Z"
   },
   {
    "duration": 8,
    "start_time": "2023-08-24T08:24:22.781Z"
   },
   {
    "duration": 13,
    "start_time": "2023-08-24T08:24:22.791Z"
   },
   {
    "duration": 4,
    "start_time": "2023-08-24T08:24:22.806Z"
   },
   {
    "duration": 9,
    "start_time": "2023-08-24T08:24:22.812Z"
   },
   {
    "duration": 9,
    "start_time": "2023-08-24T08:24:22.823Z"
   },
   {
    "duration": 26,
    "start_time": "2023-08-24T08:24:22.834Z"
   },
   {
    "duration": 46097,
    "start_time": "2023-08-24T08:24:22.862Z"
   },
   {
    "duration": 8,
    "start_time": "2023-08-24T08:25:08.961Z"
   },
   {
    "duration": 469,
    "start_time": "2023-08-24T08:25:08.970Z"
   },
   {
    "duration": 2,
    "start_time": "2023-08-24T08:25:09.441Z"
   },
   {
    "duration": 15,
    "start_time": "2023-08-24T08:25:09.445Z"
   },
   {
    "duration": 50,
    "start_time": "2023-08-24T08:25:09.462Z"
   },
   {
    "duration": 13,
    "start_time": "2023-08-24T08:25:09.513Z"
   },
   {
    "duration": 13,
    "start_time": "2023-08-24T08:25:09.528Z"
   },
   {
    "duration": 10,
    "start_time": "2023-08-24T08:25:09.543Z"
   },
   {
    "duration": 66,
    "start_time": "2023-08-24T08:25:09.555Z"
   },
   {
    "duration": 0,
    "start_time": "2023-08-24T08:25:09.623Z"
   },
   {
    "duration": 0,
    "start_time": "2023-08-24T08:25:09.624Z"
   },
   {
    "duration": 5198,
    "start_time": "2023-08-24T08:25:30.245Z"
   },
   {
    "duration": 3,
    "start_time": "2023-08-24T08:25:35.446Z"
   },
   {
    "duration": 136,
    "start_time": "2023-08-24T08:25:35.451Z"
   },
   {
    "duration": 14,
    "start_time": "2023-08-24T08:25:35.590Z"
   },
   {
    "duration": 47,
    "start_time": "2023-08-24T08:25:35.606Z"
   },
   {
    "duration": 3,
    "start_time": "2023-08-24T08:25:35.655Z"
   },
   {
    "duration": 14,
    "start_time": "2023-08-24T08:25:35.660Z"
   },
   {
    "duration": 9,
    "start_time": "2023-08-24T08:25:35.676Z"
   },
   {
    "duration": 10,
    "start_time": "2023-08-24T08:25:35.686Z"
   },
   {
    "duration": 164,
    "start_time": "2023-08-24T08:25:35.699Z"
   },
   {
    "duration": 235,
    "start_time": "2023-08-24T08:25:35.865Z"
   },
   {
    "duration": 6,
    "start_time": "2023-08-24T08:25:36.103Z"
   },
   {
    "duration": 10,
    "start_time": "2023-08-24T08:25:36.110Z"
   },
   {
    "duration": 7,
    "start_time": "2023-08-24T08:25:36.122Z"
   },
   {
    "duration": 5,
    "start_time": "2023-08-24T08:25:36.130Z"
   },
   {
    "duration": 2,
    "start_time": "2023-08-24T08:25:36.161Z"
   },
   {
    "duration": 32,
    "start_time": "2023-08-24T08:25:36.165Z"
   },
   {
    "duration": 10,
    "start_time": "2023-08-24T08:25:36.199Z"
   },
   {
    "duration": 17,
    "start_time": "2023-08-24T08:25:36.211Z"
   },
   {
    "duration": 5,
    "start_time": "2023-08-24T08:25:36.230Z"
   },
   {
    "duration": 11,
    "start_time": "2023-08-24T08:25:36.237Z"
   },
   {
    "duration": 10,
    "start_time": "2023-08-24T08:25:36.250Z"
   },
   {
    "duration": 11,
    "start_time": "2023-08-24T08:25:36.262Z"
   },
   {
    "duration": 15,
    "start_time": "2023-08-24T08:25:36.275Z"
   },
   {
    "duration": 11,
    "start_time": "2023-08-24T08:25:36.292Z"
   },
   {
    "duration": 7,
    "start_time": "2023-08-24T08:25:36.305Z"
   },
   {
    "duration": 10,
    "start_time": "2023-08-24T08:25:36.313Z"
   },
   {
    "duration": 14,
    "start_time": "2023-08-24T08:25:36.327Z"
   },
   {
    "duration": 52,
    "start_time": "2023-08-24T08:25:36.343Z"
   },
   {
    "duration": 20,
    "start_time": "2023-08-24T08:25:36.397Z"
   },
   {
    "duration": 18,
    "start_time": "2023-08-24T08:25:36.418Z"
   },
   {
    "duration": 25,
    "start_time": "2023-08-24T08:25:36.438Z"
   },
   {
    "duration": 9,
    "start_time": "2023-08-24T08:25:36.465Z"
   },
   {
    "duration": 10,
    "start_time": "2023-08-24T08:25:36.476Z"
   },
   {
    "duration": 31,
    "start_time": "2023-08-24T08:25:36.489Z"
   },
   {
    "duration": 34,
    "start_time": "2023-08-24T08:25:36.522Z"
   },
   {
    "duration": 11,
    "start_time": "2023-08-24T08:25:36.559Z"
   },
   {
    "duration": 8,
    "start_time": "2023-08-24T08:25:36.573Z"
   },
   {
    "duration": 10,
    "start_time": "2023-08-24T08:25:36.583Z"
   },
   {
    "duration": 16,
    "start_time": "2023-08-24T08:25:36.595Z"
   },
   {
    "duration": 8,
    "start_time": "2023-08-24T08:25:36.613Z"
   },
   {
    "duration": 12,
    "start_time": "2023-08-24T08:25:36.623Z"
   },
   {
    "duration": 11,
    "start_time": "2023-08-24T08:25:36.637Z"
   },
   {
    "duration": 66,
    "start_time": "2023-08-24T08:25:36.650Z"
   },
   {
    "duration": 0,
    "start_time": "2023-08-24T08:25:36.717Z"
   },
   {
    "duration": 1,
    "start_time": "2023-08-24T08:25:36.718Z"
   },
   {
    "duration": 0,
    "start_time": "2023-08-24T08:25:36.719Z"
   },
   {
    "duration": 0,
    "start_time": "2023-08-24T08:25:36.720Z"
   },
   {
    "duration": 0,
    "start_time": "2023-08-24T08:25:36.721Z"
   },
   {
    "duration": 0,
    "start_time": "2023-08-24T08:25:36.722Z"
   },
   {
    "duration": 0,
    "start_time": "2023-08-24T08:25:36.723Z"
   },
   {
    "duration": 0,
    "start_time": "2023-08-24T08:25:36.725Z"
   },
   {
    "duration": 0,
    "start_time": "2023-08-24T08:25:36.725Z"
   },
   {
    "duration": 0,
    "start_time": "2023-08-24T08:25:36.726Z"
   },
   {
    "duration": 0,
    "start_time": "2023-08-24T08:25:36.727Z"
   },
   {
    "duration": 5703,
    "start_time": "2023-08-24T08:27:59.826Z"
   },
   {
    "duration": 4,
    "start_time": "2023-08-24T08:28:05.533Z"
   },
   {
    "duration": 112,
    "start_time": "2023-08-24T08:28:05.539Z"
   },
   {
    "duration": 21,
    "start_time": "2023-08-24T08:28:05.654Z"
   },
   {
    "duration": 58,
    "start_time": "2023-08-24T08:28:05.678Z"
   },
   {
    "duration": 8,
    "start_time": "2023-08-24T08:28:05.738Z"
   },
   {
    "duration": 38,
    "start_time": "2023-08-24T08:28:05.748Z"
   },
   {
    "duration": 28,
    "start_time": "2023-08-24T08:28:05.788Z"
   },
   {
    "duration": 14,
    "start_time": "2023-08-24T08:28:05.819Z"
   },
   {
    "duration": 199,
    "start_time": "2023-08-24T08:28:05.837Z"
   },
   {
    "duration": 273,
    "start_time": "2023-08-24T08:28:06.038Z"
   },
   {
    "duration": 7,
    "start_time": "2023-08-24T08:28:06.314Z"
   },
   {
    "duration": 19,
    "start_time": "2023-08-24T08:28:06.324Z"
   },
   {
    "duration": 21,
    "start_time": "2023-08-24T08:28:06.346Z"
   },
   {
    "duration": 33,
    "start_time": "2023-08-24T08:28:06.370Z"
   },
   {
    "duration": 12,
    "start_time": "2023-08-24T08:28:06.406Z"
   },
   {
    "duration": 9,
    "start_time": "2023-08-24T08:28:06.421Z"
   },
   {
    "duration": 10,
    "start_time": "2023-08-24T08:28:06.433Z"
   },
   {
    "duration": 16,
    "start_time": "2023-08-24T08:28:06.446Z"
   },
   {
    "duration": 12,
    "start_time": "2023-08-24T08:28:06.464Z"
   },
   {
    "duration": 18,
    "start_time": "2023-08-24T08:28:06.479Z"
   },
   {
    "duration": 16,
    "start_time": "2023-08-24T08:28:06.500Z"
   },
   {
    "duration": 24,
    "start_time": "2023-08-24T08:28:06.518Z"
   },
   {
    "duration": 11,
    "start_time": "2023-08-24T08:28:06.545Z"
   },
   {
    "duration": 13,
    "start_time": "2023-08-24T08:28:06.558Z"
   },
   {
    "duration": 12,
    "start_time": "2023-08-24T08:28:06.573Z"
   },
   {
    "duration": 13,
    "start_time": "2023-08-24T08:28:06.588Z"
   },
   {
    "duration": 19,
    "start_time": "2023-08-24T08:28:06.608Z"
   },
   {
    "duration": 68,
    "start_time": "2023-08-24T08:28:06.630Z"
   },
   {
    "duration": 27,
    "start_time": "2023-08-24T08:28:06.700Z"
   },
   {
    "duration": 5,
    "start_time": "2023-08-24T08:28:06.729Z"
   },
   {
    "duration": 26,
    "start_time": "2023-08-24T08:28:06.736Z"
   },
   {
    "duration": 6,
    "start_time": "2023-08-24T08:28:06.765Z"
   },
   {
    "duration": 8,
    "start_time": "2023-08-24T08:28:06.774Z"
   },
   {
    "duration": 7,
    "start_time": "2023-08-24T08:28:06.785Z"
   },
   {
    "duration": 8,
    "start_time": "2023-08-24T08:28:06.794Z"
   },
   {
    "duration": 11,
    "start_time": "2023-08-24T08:28:06.804Z"
   },
   {
    "duration": 6,
    "start_time": "2023-08-24T08:28:06.817Z"
   },
   {
    "duration": 10,
    "start_time": "2023-08-24T08:28:06.825Z"
   },
   {
    "duration": 3,
    "start_time": "2023-08-24T08:28:06.860Z"
   },
   {
    "duration": 13,
    "start_time": "2023-08-24T08:28:06.866Z"
   },
   {
    "duration": 9,
    "start_time": "2023-08-24T08:28:06.881Z"
   },
   {
    "duration": 13,
    "start_time": "2023-08-24T08:28:06.893Z"
   },
   {
    "duration": 69,
    "start_time": "2023-08-24T08:28:06.908Z"
   },
   {
    "duration": 0,
    "start_time": "2023-08-24T08:28:06.980Z"
   },
   {
    "duration": 0,
    "start_time": "2023-08-24T08:28:06.983Z"
   },
   {
    "duration": 11,
    "start_time": "2023-08-24T08:29:57.630Z"
   },
   {
    "duration": 34,
    "start_time": "2023-08-24T08:29:58.805Z"
   },
   {
    "duration": 11,
    "start_time": "2023-08-24T08:30:47.161Z"
   },
   {
    "duration": 29,
    "start_time": "2023-08-24T08:30:47.690Z"
   },
   {
    "duration": 6,
    "start_time": "2023-08-24T08:32:27.077Z"
   },
   {
    "duration": 21,
    "start_time": "2023-08-24T08:33:17.365Z"
   },
   {
    "duration": 18,
    "start_time": "2023-08-24T08:33:56.690Z"
   },
   {
    "duration": 5,
    "start_time": "2023-08-24T08:35:29.181Z"
   },
   {
    "duration": 5,
    "start_time": "2023-08-24T08:35:30.620Z"
   },
   {
    "duration": 13,
    "start_time": "2023-08-24T08:35:30.652Z"
   },
   {
    "duration": 33,
    "start_time": "2023-08-24T08:35:30.682Z"
   },
   {
    "duration": 55,
    "start_time": "2023-08-24T08:35:30.717Z"
   },
   {
    "duration": 30,
    "start_time": "2023-08-24T08:35:30.775Z"
   },
   {
    "duration": 25,
    "start_time": "2023-08-24T08:35:30.808Z"
   },
   {
    "duration": 13,
    "start_time": "2023-08-24T08:35:30.856Z"
   },
   {
    "duration": 3,
    "start_time": "2023-08-24T08:35:31.040Z"
   },
   {
    "duration": 12,
    "start_time": "2023-08-24T08:35:31.088Z"
   },
   {
    "duration": 19,
    "start_time": "2023-08-24T08:35:31.180Z"
   },
   {
    "duration": 7,
    "start_time": "2023-08-24T08:35:31.281Z"
   },
   {
    "duration": 687,
    "start_time": "2023-08-24T08:35:31.303Z"
   },
   {
    "duration": 6,
    "start_time": "2023-08-24T08:35:46.325Z"
   },
   {
    "duration": 5,
    "start_time": "2023-08-24T08:35:46.867Z"
   },
   {
    "duration": 5,
    "start_time": "2023-08-24T08:35:46.895Z"
   },
   {
    "duration": 5,
    "start_time": "2023-08-24T08:35:46.926Z"
   },
   {
    "duration": 3,
    "start_time": "2023-08-24T08:35:46.961Z"
   },
   {
    "duration": 4,
    "start_time": "2023-08-24T08:35:46.990Z"
   },
   {
    "duration": 3,
    "start_time": "2023-08-24T08:35:47.041Z"
   },
   {
    "duration": 3,
    "start_time": "2023-08-24T08:35:47.102Z"
   },
   {
    "duration": 4,
    "start_time": "2023-08-24T08:35:47.289Z"
   },
   {
    "duration": 10,
    "start_time": "2023-08-24T08:35:47.335Z"
   },
   {
    "duration": 102,
    "start_time": "2023-08-24T08:35:47.426Z"
   },
   {
    "duration": 1,
    "start_time": "2023-08-24T08:35:47.529Z"
   },
   {
    "duration": 30,
    "start_time": "2023-08-24T08:35:47.551Z"
   },
   {
    "duration": 3,
    "start_time": "2023-08-24T08:35:47.756Z"
   },
   {
    "duration": 3,
    "start_time": "2023-08-24T08:35:47.819Z"
   },
   {
    "duration": 4983,
    "start_time": "2023-08-24T08:45:02.488Z"
   },
   {
    "duration": 3,
    "start_time": "2023-08-24T08:45:07.474Z"
   },
   {
    "duration": 90,
    "start_time": "2023-08-24T08:45:07.479Z"
   },
   {
    "duration": 15,
    "start_time": "2023-08-24T08:45:07.572Z"
   },
   {
    "duration": 38,
    "start_time": "2023-08-24T08:45:07.588Z"
   },
   {
    "duration": 3,
    "start_time": "2023-08-24T08:45:07.628Z"
   },
   {
    "duration": 13,
    "start_time": "2023-08-24T08:45:07.633Z"
   },
   {
    "duration": 13,
    "start_time": "2023-08-24T08:45:07.648Z"
   },
   {
    "duration": 22,
    "start_time": "2023-08-24T08:45:07.663Z"
   },
   {
    "duration": 174,
    "start_time": "2023-08-24T08:45:07.688Z"
   },
   {
    "duration": 234,
    "start_time": "2023-08-24T08:45:07.864Z"
   },
   {
    "duration": 6,
    "start_time": "2023-08-24T08:45:08.101Z"
   },
   {
    "duration": 10,
    "start_time": "2023-08-24T08:45:08.109Z"
   },
   {
    "duration": 4,
    "start_time": "2023-08-24T08:45:08.122Z"
   },
   {
    "duration": 5,
    "start_time": "2023-08-24T08:45:08.128Z"
   },
   {
    "duration": 3,
    "start_time": "2023-08-24T08:45:08.160Z"
   },
   {
    "duration": 7,
    "start_time": "2023-08-24T08:45:08.165Z"
   },
   {
    "duration": 3,
    "start_time": "2023-08-24T08:45:08.174Z"
   },
   {
    "duration": 4,
    "start_time": "2023-08-24T08:45:08.179Z"
   },
   {
    "duration": 9,
    "start_time": "2023-08-24T08:45:08.185Z"
   },
   {
    "duration": 13,
    "start_time": "2023-08-24T08:45:08.195Z"
   },
   {
    "duration": 10,
    "start_time": "2023-08-24T08:45:08.210Z"
   },
   {
    "duration": 10,
    "start_time": "2023-08-24T08:45:08.222Z"
   },
   {
    "duration": 10,
    "start_time": "2023-08-24T08:45:08.234Z"
   },
   {
    "duration": 22,
    "start_time": "2023-08-24T08:45:08.246Z"
   },
   {
    "duration": 12,
    "start_time": "2023-08-24T08:45:08.270Z"
   },
   {
    "duration": 7,
    "start_time": "2023-08-24T08:45:08.284Z"
   },
   {
    "duration": 8,
    "start_time": "2023-08-24T08:45:08.295Z"
   },
   {
    "duration": 39,
    "start_time": "2023-08-24T08:45:08.305Z"
   },
   {
    "duration": 28,
    "start_time": "2023-08-24T08:45:08.346Z"
   },
   {
    "duration": 4,
    "start_time": "2023-08-24T08:45:08.377Z"
   },
   {
    "duration": 18,
    "start_time": "2023-08-24T08:45:08.383Z"
   },
   {
    "duration": 5,
    "start_time": "2023-08-24T08:45:08.403Z"
   },
   {
    "duration": 8,
    "start_time": "2023-08-24T08:45:08.410Z"
   },
   {
    "duration": 7,
    "start_time": "2023-08-24T08:45:08.420Z"
   },
   {
    "duration": 32,
    "start_time": "2023-08-24T08:45:08.429Z"
   },
   {
    "duration": 6,
    "start_time": "2023-08-24T08:45:08.463Z"
   },
   {
    "duration": 6,
    "start_time": "2023-08-24T08:45:08.470Z"
   },
   {
    "duration": 5,
    "start_time": "2023-08-24T08:45:08.478Z"
   },
   {
    "duration": 11,
    "start_time": "2023-08-24T08:45:08.485Z"
   },
   {
    "duration": 5,
    "start_time": "2023-08-24T08:45:08.498Z"
   },
   {
    "duration": 55,
    "start_time": "2023-08-24T08:45:44.231Z"
   },
   {
    "duration": 3,
    "start_time": "2023-08-24T08:47:17.261Z"
   },
   {
    "duration": 3,
    "start_time": "2023-08-24T08:47:17.537Z"
   },
   {
    "duration": 3,
    "start_time": "2023-08-24T08:47:17.891Z"
   },
   {
    "duration": 8,
    "start_time": "2023-08-24T08:47:18.269Z"
   },
   {
    "duration": 34,
    "start_time": "2023-08-24T08:47:18.668Z"
   },
   {
    "duration": 6,
    "start_time": "2023-08-24T08:47:34.863Z"
   },
   {
    "duration": 27,
    "start_time": "2023-08-24T08:47:36.655Z"
   },
   {
    "duration": 17,
    "start_time": "2023-08-24T08:47:36.845Z"
   },
   {
    "duration": 4,
    "start_time": "2023-08-24T08:47:37.062Z"
   },
   {
    "duration": 4978,
    "start_time": "2023-08-24T08:48:28.465Z"
   },
   {
    "duration": 3,
    "start_time": "2023-08-24T08:48:33.446Z"
   },
   {
    "duration": 147,
    "start_time": "2023-08-24T08:48:33.451Z"
   },
   {
    "duration": 13,
    "start_time": "2023-08-24T08:48:33.600Z"
   },
   {
    "duration": 49,
    "start_time": "2023-08-24T08:48:33.615Z"
   },
   {
    "duration": 4,
    "start_time": "2023-08-24T08:48:33.666Z"
   },
   {
    "duration": 18,
    "start_time": "2023-08-24T08:48:33.671Z"
   },
   {
    "duration": 8,
    "start_time": "2023-08-24T08:48:33.691Z"
   },
   {
    "duration": 7,
    "start_time": "2023-08-24T08:48:33.701Z"
   },
   {
    "duration": 160,
    "start_time": "2023-08-24T08:48:33.710Z"
   },
   {
    "duration": 270,
    "start_time": "2023-08-24T08:48:33.871Z"
   },
   {
    "duration": 5,
    "start_time": "2023-08-24T08:48:34.144Z"
   },
   {
    "duration": 34,
    "start_time": "2023-08-24T08:48:34.158Z"
   },
   {
    "duration": 12,
    "start_time": "2023-08-24T08:48:34.195Z"
   },
   {
    "duration": 19,
    "start_time": "2023-08-24T08:48:34.209Z"
   },
   {
    "duration": 30,
    "start_time": "2023-08-24T08:48:34.231Z"
   },
   {
    "duration": 15,
    "start_time": "2023-08-24T08:48:34.263Z"
   },
   {
    "duration": 8,
    "start_time": "2023-08-24T08:48:34.281Z"
   },
   {
    "duration": 10,
    "start_time": "2023-08-24T08:48:34.291Z"
   },
   {
    "duration": 13,
    "start_time": "2023-08-24T08:48:34.304Z"
   },
   {
    "duration": 17,
    "start_time": "2023-08-24T08:48:34.319Z"
   },
   {
    "duration": 22,
    "start_time": "2023-08-24T08:48:34.338Z"
   },
   {
    "duration": 16,
    "start_time": "2023-08-24T08:48:34.367Z"
   },
   {
    "duration": 25,
    "start_time": "2023-08-24T08:48:34.385Z"
   },
   {
    "duration": 21,
    "start_time": "2023-08-24T08:48:34.412Z"
   },
   {
    "duration": 12,
    "start_time": "2023-08-24T08:48:34.435Z"
   },
   {
    "duration": 15,
    "start_time": "2023-08-24T08:48:34.449Z"
   },
   {
    "duration": 14,
    "start_time": "2023-08-24T08:48:34.468Z"
   },
   {
    "duration": 47,
    "start_time": "2023-08-24T08:48:34.484Z"
   },
   {
    "duration": 20,
    "start_time": "2023-08-24T08:48:34.533Z"
   },
   {
    "duration": 7,
    "start_time": "2023-08-24T08:48:34.554Z"
   },
   {
    "duration": 37,
    "start_time": "2023-08-24T08:48:34.562Z"
   },
   {
    "duration": 21,
    "start_time": "2023-08-24T08:48:34.601Z"
   },
   {
    "duration": 24,
    "start_time": "2023-08-24T08:48:34.624Z"
   },
   {
    "duration": 18,
    "start_time": "2023-08-24T08:48:34.650Z"
   },
   {
    "duration": 4,
    "start_time": "2023-08-24T08:48:34.670Z"
   },
   {
    "duration": 7,
    "start_time": "2023-08-24T08:48:34.676Z"
   },
   {
    "duration": 6,
    "start_time": "2023-08-24T08:48:34.684Z"
   },
   {
    "duration": 10,
    "start_time": "2023-08-24T08:48:34.692Z"
   },
   {
    "duration": 14,
    "start_time": "2023-08-24T08:48:34.704Z"
   },
   {
    "duration": 12,
    "start_time": "2023-08-24T08:48:34.720Z"
   },
   {
    "duration": 24,
    "start_time": "2023-08-24T08:48:34.734Z"
   },
   {
    "duration": 11,
    "start_time": "2023-08-24T08:48:34.760Z"
   },
   {
    "duration": 45210,
    "start_time": "2023-08-24T08:48:34.772Z"
   },
   {
    "duration": 76,
    "start_time": "2023-08-24T08:49:19.984Z"
   },
   {
    "duration": 420,
    "start_time": "2023-08-24T08:49:20.062Z"
   },
   {
    "duration": 3,
    "start_time": "2023-08-24T08:49:20.484Z"
   },
   {
    "duration": 24,
    "start_time": "2023-08-24T08:49:20.488Z"
   },
   {
    "duration": 45,
    "start_time": "2023-08-24T08:49:20.514Z"
   },
   {
    "duration": 16,
    "start_time": "2023-08-24T08:49:20.561Z"
   },
   {
    "duration": 12,
    "start_time": "2023-08-24T08:49:20.579Z"
   },
   {
    "duration": 7,
    "start_time": "2023-08-24T08:49:20.593Z"
   },
   {
    "duration": 16,
    "start_time": "2023-08-24T08:49:20.602Z"
   },
   {
    "duration": 18,
    "start_time": "2023-08-24T08:49:20.620Z"
   },
   {
    "duration": 18,
    "start_time": "2023-08-24T08:49:20.640Z"
   },
   {
    "duration": 4,
    "start_time": "2023-08-24T08:56:14.585Z"
   },
   {
    "duration": 13,
    "start_time": "2023-08-24T08:56:14.800Z"
   },
   {
    "duration": 500,
    "start_time": "2023-08-24T08:56:33.984Z"
   },
   {
    "duration": 5,
    "start_time": "2023-08-24T08:59:15.141Z"
   },
   {
    "duration": 4,
    "start_time": "2023-08-24T08:59:15.571Z"
   },
   {
    "duration": 6,
    "start_time": "2023-08-24T08:59:16.060Z"
   },
   {
    "duration": 3,
    "start_time": "2023-08-24T08:59:16.265Z"
   },
   {
    "duration": 4,
    "start_time": "2023-08-24T08:59:16.741Z"
   },
   {
    "duration": 4,
    "start_time": "2023-08-24T08:59:18.058Z"
   },
   {
    "duration": 393,
    "start_time": "2023-08-24T08:59:18.412Z"
   },
   {
    "duration": 12,
    "start_time": "2023-08-24T09:00:16.905Z"
   },
   {
    "duration": 4,
    "start_time": "2023-08-24T09:00:23.638Z"
   },
   {
    "duration": 3,
    "start_time": "2023-08-24T09:00:38.488Z"
   },
   {
    "duration": 3,
    "start_time": "2023-08-24T09:00:49.624Z"
   },
   {
    "duration": 5012,
    "start_time": "2023-08-24T09:02:47.747Z"
   },
   {
    "duration": 8,
    "start_time": "2023-08-24T09:02:52.761Z"
   },
   {
    "duration": 161,
    "start_time": "2023-08-24T09:02:52.771Z"
   },
   {
    "duration": 13,
    "start_time": "2023-08-24T09:02:52.935Z"
   },
   {
    "duration": 50,
    "start_time": "2023-08-24T09:02:52.950Z"
   },
   {
    "duration": 4,
    "start_time": "2023-08-24T09:02:53.003Z"
   },
   {
    "duration": 38,
    "start_time": "2023-08-24T09:02:53.008Z"
   },
   {
    "duration": 37,
    "start_time": "2023-08-24T09:02:53.048Z"
   },
   {
    "duration": 13,
    "start_time": "2023-08-24T09:02:53.086Z"
   },
   {
    "duration": 201,
    "start_time": "2023-08-24T09:02:53.103Z"
   },
   {
    "duration": 222,
    "start_time": "2023-08-24T09:02:53.305Z"
   },
   {
    "duration": 4,
    "start_time": "2023-08-24T09:02:53.529Z"
   },
   {
    "duration": 35,
    "start_time": "2023-08-24T09:02:53.535Z"
   },
   {
    "duration": 15,
    "start_time": "2023-08-24T09:02:53.573Z"
   },
   {
    "duration": 18,
    "start_time": "2023-08-24T09:02:53.589Z"
   },
   {
    "duration": 25,
    "start_time": "2023-08-24T09:02:53.609Z"
   },
   {
    "duration": 8,
    "start_time": "2023-08-24T09:02:53.636Z"
   },
   {
    "duration": 7,
    "start_time": "2023-08-24T09:02:53.646Z"
   },
   {
    "duration": 19,
    "start_time": "2023-08-24T09:02:53.655Z"
   },
   {
    "duration": 10,
    "start_time": "2023-08-24T09:02:53.676Z"
   },
   {
    "duration": 8,
    "start_time": "2023-08-24T09:02:53.688Z"
   },
   {
    "duration": 11,
    "start_time": "2023-08-24T09:02:53.698Z"
   },
   {
    "duration": 9,
    "start_time": "2023-08-24T09:02:53.711Z"
   },
   {
    "duration": 18,
    "start_time": "2023-08-24T09:02:53.722Z"
   },
   {
    "duration": 12,
    "start_time": "2023-08-24T09:02:53.742Z"
   },
   {
    "duration": 8,
    "start_time": "2023-08-24T09:02:53.756Z"
   },
   {
    "duration": 9,
    "start_time": "2023-08-24T09:02:53.766Z"
   },
   {
    "duration": 16,
    "start_time": "2023-08-24T09:02:53.779Z"
   },
   {
    "duration": 38,
    "start_time": "2023-08-24T09:02:53.796Z"
   },
   {
    "duration": 24,
    "start_time": "2023-08-24T09:02:53.836Z"
   },
   {
    "duration": 10,
    "start_time": "2023-08-24T09:02:53.862Z"
   },
   {
    "duration": 20,
    "start_time": "2023-08-24T09:02:53.873Z"
   },
   {
    "duration": 6,
    "start_time": "2023-08-24T09:02:53.895Z"
   },
   {
    "duration": 9,
    "start_time": "2023-08-24T09:02:53.903Z"
   },
   {
    "duration": 13,
    "start_time": "2023-08-24T09:02:53.914Z"
   },
   {
    "duration": 10,
    "start_time": "2023-08-24T09:02:53.929Z"
   },
   {
    "duration": 9,
    "start_time": "2023-08-24T09:02:53.941Z"
   },
   {
    "duration": 88,
    "start_time": "2023-08-24T09:02:53.951Z"
   },
   {
    "duration": 419,
    "start_time": "2023-08-24T09:02:54.041Z"
   },
   {
    "duration": 42,
    "start_time": "2023-08-24T09:02:54.462Z"
   },
   {
    "duration": 15,
    "start_time": "2023-08-24T09:02:54.506Z"
   },
   {
    "duration": 44,
    "start_time": "2023-08-24T09:02:54.524Z"
   },
   {
    "duration": 14,
    "start_time": "2023-08-24T09:02:54.570Z"
   },
   {
    "duration": 49904,
    "start_time": "2023-08-24T09:02:54.586Z"
   },
   {
    "duration": 74,
    "start_time": "2023-08-24T09:03:44.492Z"
   },
   {
    "duration": 465,
    "start_time": "2023-08-24T09:03:44.568Z"
   },
   {
    "duration": 3,
    "start_time": "2023-08-24T09:03:45.035Z"
   },
   {
    "duration": 18,
    "start_time": "2023-08-24T09:03:45.039Z"
   },
   {
    "duration": 25,
    "start_time": "2023-08-24T09:03:45.060Z"
   },
   {
    "duration": 26,
    "start_time": "2023-08-24T09:03:45.087Z"
   },
   {
    "duration": 34,
    "start_time": "2023-08-24T09:03:45.116Z"
   },
   {
    "duration": 25,
    "start_time": "2023-08-24T09:03:45.152Z"
   },
   {
    "duration": 55,
    "start_time": "2023-08-24T09:03:45.178Z"
   },
   {
    "duration": 21,
    "start_time": "2023-08-24T09:03:45.235Z"
   },
   {
    "duration": 37,
    "start_time": "2023-08-24T09:03:45.258Z"
   },
   {
    "duration": 7,
    "start_time": "2023-08-24T09:03:45.297Z"
   },
   {
    "duration": 926993,
    "start_time": "2023-08-24T09:03:45.306Z"
   },
   {
    "duration": 4,
    "start_time": "2023-08-24T09:19:12.304Z"
   },
   {
    "duration": 4,
    "start_time": "2023-08-24T09:23:41.669Z"
   },
   {
    "duration": 1156690,
    "start_time": "2023-08-24T09:23:42.390Z"
   },
   {
    "duration": 5,
    "start_time": "2023-08-24T09:42:59.082Z"
   },
   {
    "duration": 3,
    "start_time": "2023-08-24T09:47:15.427Z"
   },
   {
    "duration": 26,
    "start_time": "2023-08-24T09:47:15.869Z"
   },
   {
    "duration": 10,
    "start_time": "2023-08-24T09:50:07.543Z"
   },
   {
    "duration": 19,
    "start_time": "2023-08-24T09:50:07.894Z"
   },
   {
    "duration": 19,
    "start_time": "2023-08-24T09:50:29.888Z"
   },
   {
    "duration": 5256,
    "start_time": "2023-08-24T09:52:41.436Z"
   },
   {
    "duration": 4,
    "start_time": "2023-08-24T09:52:46.695Z"
   },
   {
    "duration": 108,
    "start_time": "2023-08-24T09:52:46.701Z"
   },
   {
    "duration": 14,
    "start_time": "2023-08-24T09:52:46.812Z"
   },
   {
    "duration": 76,
    "start_time": "2023-08-24T09:52:46.828Z"
   },
   {
    "duration": 5,
    "start_time": "2023-08-24T09:52:46.906Z"
   },
   {
    "duration": 23,
    "start_time": "2023-08-24T09:52:46.913Z"
   },
   {
    "duration": 11,
    "start_time": "2023-08-24T09:52:46.938Z"
   },
   {
    "duration": 14,
    "start_time": "2023-08-24T09:52:46.951Z"
   },
   {
    "duration": 194,
    "start_time": "2023-08-24T09:52:46.969Z"
   },
   {
    "duration": 249,
    "start_time": "2023-08-24T09:52:47.165Z"
   },
   {
    "duration": 5,
    "start_time": "2023-08-24T09:52:47.416Z"
   },
   {
    "duration": 8,
    "start_time": "2023-08-24T09:52:47.423Z"
   },
   {
    "duration": 12,
    "start_time": "2023-08-24T09:52:47.433Z"
   },
   {
    "duration": 12,
    "start_time": "2023-08-24T09:52:47.447Z"
   },
   {
    "duration": 5,
    "start_time": "2023-08-24T09:52:47.462Z"
   },
   {
    "duration": 5,
    "start_time": "2023-08-24T09:52:47.469Z"
   },
   {
    "duration": 5,
    "start_time": "2023-08-24T09:52:47.475Z"
   },
   {
    "duration": 5,
    "start_time": "2023-08-24T09:52:47.482Z"
   },
   {
    "duration": 4,
    "start_time": "2023-08-24T09:52:47.488Z"
   },
   {
    "duration": 5,
    "start_time": "2023-08-24T09:52:47.494Z"
   },
   {
    "duration": 5,
    "start_time": "2023-08-24T09:52:47.500Z"
   },
   {
    "duration": 6,
    "start_time": "2023-08-24T09:52:47.506Z"
   },
   {
    "duration": 11,
    "start_time": "2023-08-24T09:52:47.514Z"
   },
   {
    "duration": 42,
    "start_time": "2023-08-24T09:52:47.526Z"
   },
   {
    "duration": 12,
    "start_time": "2023-08-24T09:52:47.571Z"
   },
   {
    "duration": 5,
    "start_time": "2023-08-24T09:52:47.585Z"
   },
   {
    "duration": 8,
    "start_time": "2023-08-24T09:52:47.594Z"
   },
   {
    "duration": 39,
    "start_time": "2023-08-24T09:52:47.603Z"
   },
   {
    "duration": 32,
    "start_time": "2023-08-24T09:52:47.644Z"
   },
   {
    "duration": 4,
    "start_time": "2023-08-24T09:52:47.679Z"
   },
   {
    "duration": 6,
    "start_time": "2023-08-24T09:52:47.685Z"
   },
   {
    "duration": 6,
    "start_time": "2023-08-24T09:52:47.693Z"
   },
   {
    "duration": 8,
    "start_time": "2023-08-24T09:52:47.701Z"
   },
   {
    "duration": 10,
    "start_time": "2023-08-24T09:52:47.711Z"
   },
   {
    "duration": 8,
    "start_time": "2023-08-24T09:52:47.723Z"
   },
   {
    "duration": 28,
    "start_time": "2023-08-24T09:52:47.733Z"
   },
   {
    "duration": 26,
    "start_time": "2023-08-24T09:52:47.763Z"
   },
   {
    "duration": 32,
    "start_time": "2023-08-24T09:52:47.792Z"
   },
   {
    "duration": 23,
    "start_time": "2023-08-24T09:52:47.826Z"
   },
   {
    "duration": 19,
    "start_time": "2023-08-24T09:52:47.851Z"
   },
   {
    "duration": 6,
    "start_time": "2023-08-24T09:52:47.872Z"
   },
   {
    "duration": 10,
    "start_time": "2023-08-24T09:52:47.880Z"
   },
   {
    "duration": 48983,
    "start_time": "2023-08-24T09:52:47.892Z"
   },
   {
    "duration": 7,
    "start_time": "2023-08-24T09:53:36.877Z"
   },
   {
    "duration": 542,
    "start_time": "2023-08-24T09:53:36.886Z"
   },
   {
    "duration": 2,
    "start_time": "2023-08-24T09:53:37.430Z"
   },
   {
    "duration": 18,
    "start_time": "2023-08-24T09:53:37.434Z"
   },
   {
    "duration": 50,
    "start_time": "2023-08-24T09:53:37.454Z"
   },
   {
    "duration": 47,
    "start_time": "2023-08-24T09:53:37.505Z"
   },
   {
    "duration": 6,
    "start_time": "2023-08-24T09:53:37.556Z"
   },
   {
    "duration": 13,
    "start_time": "2023-08-24T09:53:37.564Z"
   },
   {
    "duration": 11,
    "start_time": "2023-08-24T09:53:37.579Z"
   },
   {
    "duration": 10,
    "start_time": "2023-08-24T09:53:37.593Z"
   },
   {
    "duration": 8,
    "start_time": "2023-08-24T09:53:37.606Z"
   },
   {
    "duration": 3,
    "start_time": "2023-08-24T09:53:42.387Z"
   },
   {
    "duration": 23,
    "start_time": "2023-08-24T09:53:46.978Z"
   },
   {
    "duration": 8,
    "start_time": "2023-08-24T09:55:08.402Z"
   },
   {
    "duration": 21,
    "start_time": "2023-08-24T09:55:15.118Z"
   },
   {
    "duration": 440,
    "start_time": "2023-08-24T09:55:30.340Z"
   },
   {
    "duration": 17,
    "start_time": "2023-08-24T09:55:38.180Z"
   },
   {
    "duration": 687,
    "start_time": "2023-08-24T09:55:56.063Z"
   },
   {
    "duration": 5,
    "start_time": "2023-08-24T09:56:28.381Z"
   },
   {
    "duration": 4,
    "start_time": "2023-08-24T09:56:32.401Z"
   },
   {
    "duration": 13368,
    "start_time": "2023-08-25T20:49:09.124Z"
   },
   {
    "duration": 3,
    "start_time": "2023-08-25T20:49:22.494Z"
   },
   {
    "duration": 126,
    "start_time": "2023-08-25T20:49:22.499Z"
   },
   {
    "duration": 14,
    "start_time": "2023-08-25T20:49:22.628Z"
   },
   {
    "duration": 39,
    "start_time": "2023-08-25T20:49:22.643Z"
   },
   {
    "duration": 4,
    "start_time": "2023-08-25T20:49:22.684Z"
   },
   {
    "duration": 18,
    "start_time": "2023-08-25T20:49:22.689Z"
   },
   {
    "duration": 8,
    "start_time": "2023-08-25T20:49:22.709Z"
   },
   {
    "duration": 6,
    "start_time": "2023-08-25T20:49:22.719Z"
   },
   {
    "duration": 191,
    "start_time": "2023-08-25T20:49:22.727Z"
   },
   {
    "duration": 278,
    "start_time": "2023-08-25T20:49:22.920Z"
   },
   {
    "duration": 3,
    "start_time": "2023-08-25T20:49:23.200Z"
   },
   {
    "duration": 16,
    "start_time": "2023-08-25T20:49:23.205Z"
   },
   {
    "duration": 8,
    "start_time": "2023-08-25T20:49:23.223Z"
   },
   {
    "duration": 3,
    "start_time": "2023-08-25T20:49:34.997Z"
   },
   {
    "duration": 3,
    "start_time": "2023-08-25T20:49:35.198Z"
   },
   {
    "duration": 3,
    "start_time": "2023-08-25T20:49:35.389Z"
   },
   {
    "duration": 2,
    "start_time": "2023-08-25T20:49:35.734Z"
   },
   {
    "duration": 3,
    "start_time": "2023-08-25T20:49:36.035Z"
   },
   {
    "duration": 31,
    "start_time": "2023-08-25T20:50:55.767Z"
   },
   {
    "duration": 170,
    "start_time": "2023-08-25T21:13:16.238Z"
   },
   {
    "duration": 12276,
    "start_time": "2023-08-26T08:01:34.520Z"
   },
   {
    "duration": 3,
    "start_time": "2023-08-26T08:01:46.798Z"
   },
   {
    "duration": 171,
    "start_time": "2023-08-26T08:01:46.804Z"
   },
   {
    "duration": 17,
    "start_time": "2023-08-26T08:01:46.978Z"
   },
   {
    "duration": 58,
    "start_time": "2023-08-26T08:01:46.997Z"
   },
   {
    "duration": 5,
    "start_time": "2023-08-26T08:01:47.057Z"
   },
   {
    "duration": 35,
    "start_time": "2023-08-26T08:01:47.063Z"
   },
   {
    "duration": 34,
    "start_time": "2023-08-26T08:01:47.100Z"
   },
   {
    "duration": 32,
    "start_time": "2023-08-26T08:01:47.136Z"
   },
   {
    "duration": 187,
    "start_time": "2023-08-26T08:01:47.171Z"
   },
   {
    "duration": 228,
    "start_time": "2023-08-26T08:01:47.360Z"
   },
   {
    "duration": 4,
    "start_time": "2023-08-26T08:01:47.590Z"
   },
   {
    "duration": 14,
    "start_time": "2023-08-26T08:01:47.595Z"
   },
   {
    "duration": 27,
    "start_time": "2023-08-26T08:01:47.611Z"
   },
   {
    "duration": 19,
    "start_time": "2023-08-26T08:01:47.640Z"
   },
   {
    "duration": 18,
    "start_time": "2023-08-26T08:01:47.661Z"
   },
   {
    "duration": 1823,
    "start_time": "2023-08-26T08:01:53.081Z"
   },
   {
    "duration": 177,
    "start_time": "2023-08-26T08:02:01.980Z"
   },
   {
    "duration": 1874,
    "start_time": "2023-08-26T08:02:36.429Z"
   },
   {
    "duration": 5,
    "start_time": "2023-08-26T08:02:47.609Z"
   },
   {
    "duration": 196,
    "start_time": "2023-08-26T08:02:50.043Z"
   },
   {
    "duration": 4,
    "start_time": "2023-08-26T08:04:14.643Z"
   },
   {
    "duration": 181,
    "start_time": "2023-08-26T08:04:15.419Z"
   },
   {
    "duration": 4846,
    "start_time": "2023-08-26T08:07:33.586Z"
   },
   {
    "duration": 4,
    "start_time": "2023-08-26T08:07:38.434Z"
   },
   {
    "duration": 125,
    "start_time": "2023-08-26T08:07:38.440Z"
   },
   {
    "duration": 13,
    "start_time": "2023-08-26T08:07:38.567Z"
   },
   {
    "duration": 39,
    "start_time": "2023-08-26T08:07:38.582Z"
   },
   {
    "duration": 8,
    "start_time": "2023-08-26T08:07:38.623Z"
   },
   {
    "duration": 155,
    "start_time": "2023-08-26T08:07:38.633Z"
   },
   {
    "duration": 70,
    "start_time": "2023-08-26T08:07:38.790Z"
   },
   {
    "duration": 74,
    "start_time": "2023-08-26T08:07:38.861Z"
   },
   {
    "duration": 180,
    "start_time": "2023-08-26T08:07:38.938Z"
   },
   {
    "duration": 216,
    "start_time": "2023-08-26T08:07:39.120Z"
   },
   {
    "duration": 4,
    "start_time": "2023-08-26T08:07:39.338Z"
   },
   {
    "duration": 9,
    "start_time": "2023-08-26T08:07:39.345Z"
   },
   {
    "duration": 44,
    "start_time": "2023-08-26T08:07:39.355Z"
   },
   {
    "duration": 49,
    "start_time": "2023-08-26T08:07:39.401Z"
   },
   {
    "duration": 151,
    "start_time": "2023-08-26T08:07:39.452Z"
   },
   {
    "duration": 2,
    "start_time": "2023-08-26T08:07:39.605Z"
   },
   {
    "duration": 95,
    "start_time": "2023-08-26T08:07:39.609Z"
   },
   {
    "duration": 41,
    "start_time": "2023-08-26T08:07:39.706Z"
   },
   {
    "duration": 37,
    "start_time": "2023-08-26T08:07:39.749Z"
   },
   {
    "duration": 28,
    "start_time": "2023-08-26T08:07:39.788Z"
   },
   {
    "duration": 11,
    "start_time": "2023-08-26T08:07:39.818Z"
   },
   {
    "duration": 54,
    "start_time": "2023-08-26T08:07:39.831Z"
   },
   {
    "duration": 59,
    "start_time": "2023-08-26T08:07:39.888Z"
   },
   {
    "duration": 72,
    "start_time": "2023-08-26T08:07:39.949Z"
   },
   {
    "duration": 69,
    "start_time": "2023-08-26T08:07:40.023Z"
   },
   {
    "duration": 31,
    "start_time": "2023-08-26T08:07:40.094Z"
   },
   {
    "duration": 9,
    "start_time": "2023-08-26T08:07:40.132Z"
   },
   {
    "duration": 4,
    "start_time": "2023-08-26T08:07:40.144Z"
   },
   {
    "duration": 6,
    "start_time": "2023-08-26T08:07:40.149Z"
   },
   {
    "duration": 31,
    "start_time": "2023-08-26T08:07:40.157Z"
   },
   {
    "duration": 23,
    "start_time": "2023-08-26T08:07:40.189Z"
   },
   {
    "duration": 93,
    "start_time": "2023-08-26T08:07:40.214Z"
   },
   {
    "duration": 24,
    "start_time": "2023-08-26T08:07:40.309Z"
   },
   {
    "duration": 83,
    "start_time": "2023-08-26T08:07:40.335Z"
   },
   {
    "duration": 55,
    "start_time": "2023-08-26T08:07:40.421Z"
   },
   {
    "duration": 13,
    "start_time": "2023-08-26T08:07:40.479Z"
   },
   {
    "duration": 38,
    "start_time": "2023-08-26T08:07:40.494Z"
   },
   {
    "duration": 54,
    "start_time": "2023-08-26T08:07:40.533Z"
   },
   {
    "duration": 22,
    "start_time": "2023-08-26T08:07:40.588Z"
   },
   {
    "duration": 19,
    "start_time": "2023-08-26T08:07:40.612Z"
   },
   {
    "duration": 34,
    "start_time": "2023-08-26T08:07:40.632Z"
   },
   {
    "duration": 51,
    "start_time": "2023-08-26T08:07:40.668Z"
   },
   {
    "duration": 139,
    "start_time": "2023-08-26T08:07:40.722Z"
   },
   {
    "duration": 5,
    "start_time": "2023-08-26T08:07:40.863Z"
   },
   {
    "duration": 15,
    "start_time": "2023-08-26T08:07:40.869Z"
   },
   {
    "duration": 12,
    "start_time": "2023-08-26T08:07:40.886Z"
   },
   {
    "duration": 45437,
    "start_time": "2023-08-26T08:07:40.900Z"
   },
   {
    "duration": 8,
    "start_time": "2023-08-26T08:08:26.339Z"
   },
   {
    "duration": 417,
    "start_time": "2023-08-26T08:08:26.350Z"
   },
   {
    "duration": 3,
    "start_time": "2023-08-26T08:08:26.769Z"
   },
   {
    "duration": 6,
    "start_time": "2023-08-26T08:08:26.773Z"
   },
   {
    "duration": 7,
    "start_time": "2023-08-26T08:08:26.781Z"
   },
   {
    "duration": 5,
    "start_time": "2023-08-26T08:08:26.790Z"
   },
   {
    "duration": 3,
    "start_time": "2023-08-26T08:08:26.797Z"
   },
   {
    "duration": 23,
    "start_time": "2023-08-26T08:08:26.802Z"
   },
   {
    "duration": 7,
    "start_time": "2023-08-26T08:08:26.827Z"
   },
   {
    "duration": 7,
    "start_time": "2023-08-26T08:08:26.835Z"
   },
   {
    "duration": 3,
    "start_time": "2023-08-26T08:08:26.844Z"
   },
   {
    "duration": 4,
    "start_time": "2023-08-26T08:08:26.849Z"
   },
   {
    "duration": 1030095,
    "start_time": "2023-08-26T08:08:26.855Z"
   },
   {
    "duration": 3,
    "start_time": "2023-08-26T08:25:36.952Z"
   },
   {
    "duration": 4,
    "start_time": "2023-08-26T08:25:36.957Z"
   },
   {
    "duration": 7,
    "start_time": "2023-08-26T08:25:36.962Z"
   },
   {
    "duration": 500,
    "start_time": "2023-08-26T08:25:36.971Z"
   },
   {
    "duration": 4,
    "start_time": "2023-08-26T08:25:37.473Z"
   },
   {
    "duration": 8,
    "start_time": "2023-08-26T08:25:37.478Z"
   },
   {
    "duration": 5081,
    "start_time": "2023-08-26T08:43:10.702Z"
   },
   {
    "duration": 3,
    "start_time": "2023-08-26T08:43:15.787Z"
   },
   {
    "duration": 105,
    "start_time": "2023-08-26T08:43:15.794Z"
   },
   {
    "duration": 19,
    "start_time": "2023-08-26T08:43:15.902Z"
   },
   {
    "duration": 185,
    "start_time": "2023-08-26T08:43:15.923Z"
   },
   {
    "duration": 4,
    "start_time": "2023-08-26T08:43:16.110Z"
   },
   {
    "duration": 21,
    "start_time": "2023-08-26T08:43:16.115Z"
   },
   {
    "duration": 18,
    "start_time": "2023-08-26T08:43:16.137Z"
   },
   {
    "duration": 39,
    "start_time": "2023-08-26T08:43:16.157Z"
   },
   {
    "duration": 211,
    "start_time": "2023-08-26T08:43:16.199Z"
   },
   {
    "duration": 222,
    "start_time": "2023-08-26T08:43:16.412Z"
   },
   {
    "duration": 3,
    "start_time": "2023-08-26T08:43:16.636Z"
   },
   {
    "duration": 21,
    "start_time": "2023-08-26T08:43:16.641Z"
   },
   {
    "duration": 14,
    "start_time": "2023-08-26T08:43:16.664Z"
   },
   {
    "duration": 5,
    "start_time": "2023-08-26T08:43:16.680Z"
   },
   {
    "duration": 157,
    "start_time": "2023-08-26T08:43:16.686Z"
   },
   {
    "duration": 12,
    "start_time": "2023-08-26T08:43:16.845Z"
   },
   {
    "duration": 34,
    "start_time": "2023-08-26T08:43:16.861Z"
   },
   {
    "duration": 4,
    "start_time": "2023-08-26T08:43:16.898Z"
   },
   {
    "duration": 6,
    "start_time": "2023-08-26T08:43:16.904Z"
   },
   {
    "duration": 13,
    "start_time": "2023-08-26T08:43:16.912Z"
   },
   {
    "duration": 4,
    "start_time": "2023-08-26T08:43:16.927Z"
   },
   {
    "duration": 6,
    "start_time": "2023-08-26T08:43:16.933Z"
   },
   {
    "duration": 9,
    "start_time": "2023-08-26T08:43:16.941Z"
   },
   {
    "duration": 28,
    "start_time": "2023-08-26T08:43:16.952Z"
   },
   {
    "duration": 3,
    "start_time": "2023-08-26T08:43:16.982Z"
   },
   {
    "duration": 5,
    "start_time": "2023-08-26T08:43:16.987Z"
   },
   {
    "duration": 3,
    "start_time": "2023-08-26T08:43:17.024Z"
   },
   {
    "duration": 3,
    "start_time": "2023-08-26T08:57:27.125Z"
   },
   {
    "duration": 21,
    "start_time": "2023-08-26T08:57:30.252Z"
   },
   {
    "duration": 4896,
    "start_time": "2023-08-26T08:57:40.354Z"
   },
   {
    "duration": 3,
    "start_time": "2023-08-26T08:57:45.253Z"
   },
   {
    "duration": 140,
    "start_time": "2023-08-26T08:57:45.258Z"
   },
   {
    "duration": 17,
    "start_time": "2023-08-26T08:57:45.400Z"
   },
   {
    "duration": 35,
    "start_time": "2023-08-26T08:57:45.419Z"
   },
   {
    "duration": 5,
    "start_time": "2023-08-26T08:57:45.456Z"
   },
   {
    "duration": 11,
    "start_time": "2023-08-26T08:57:45.463Z"
   },
   {
    "duration": 10,
    "start_time": "2023-08-26T08:57:45.476Z"
   },
   {
    "duration": 12,
    "start_time": "2023-08-26T08:57:45.487Z"
   },
   {
    "duration": 175,
    "start_time": "2023-08-26T08:57:45.502Z"
   },
   {
    "duration": 250,
    "start_time": "2023-08-26T08:57:45.678Z"
   },
   {
    "duration": 5,
    "start_time": "2023-08-26T08:57:45.930Z"
   },
   {
    "duration": 11,
    "start_time": "2023-08-26T08:57:45.937Z"
   },
   {
    "duration": 5,
    "start_time": "2023-08-26T08:57:45.951Z"
   },
   {
    "duration": 6,
    "start_time": "2023-08-26T08:57:45.958Z"
   },
   {
    "duration": 224,
    "start_time": "2023-08-26T08:57:45.966Z"
   },
   {
    "duration": 9,
    "start_time": "2023-08-26T08:57:46.192Z"
   },
   {
    "duration": 21,
    "start_time": "2023-08-26T08:57:46.203Z"
   },
   {
    "duration": 3,
    "start_time": "2023-08-26T08:57:46.226Z"
   },
   {
    "duration": 6,
    "start_time": "2023-08-26T08:57:46.231Z"
   },
   {
    "duration": 7,
    "start_time": "2023-08-26T08:57:46.239Z"
   },
   {
    "duration": 11,
    "start_time": "2023-08-26T08:57:46.248Z"
   },
   {
    "duration": 3,
    "start_time": "2023-08-26T08:57:46.261Z"
   },
   {
    "duration": 4,
    "start_time": "2023-08-26T08:57:46.266Z"
   },
   {
    "duration": 28,
    "start_time": "2023-08-26T08:57:46.272Z"
   },
   {
    "duration": 2,
    "start_time": "2023-08-26T08:57:46.324Z"
   },
   {
    "duration": 4,
    "start_time": "2023-08-26T08:57:46.328Z"
   },
   {
    "duration": 3,
    "start_time": "2023-08-26T08:57:46.336Z"
   },
   {
    "duration": 7,
    "start_time": "2023-08-26T08:57:46.341Z"
   },
   {
    "duration": 10,
    "start_time": "2023-08-26T08:57:46.350Z"
   },
   {
    "duration": 5,
    "start_time": "2023-08-26T08:57:46.362Z"
   },
   {
    "duration": 6,
    "start_time": "2023-08-26T08:57:46.369Z"
   },
   {
    "duration": 7,
    "start_time": "2023-08-26T08:57:46.377Z"
   },
   {
    "duration": 39,
    "start_time": "2023-08-26T08:57:46.386Z"
   },
   {
    "duration": 34,
    "start_time": "2023-08-26T08:57:46.427Z"
   },
   {
    "duration": 17,
    "start_time": "2023-08-26T08:57:46.463Z"
   },
   {
    "duration": 3,
    "start_time": "2023-08-26T08:57:46.483Z"
   },
   {
    "duration": 4,
    "start_time": "2023-08-26T08:57:46.488Z"
   },
   {
    "duration": 33,
    "start_time": "2023-08-26T08:57:46.493Z"
   },
   {
    "duration": 5,
    "start_time": "2023-08-26T08:57:46.528Z"
   },
   {
    "duration": 4,
    "start_time": "2023-08-26T08:57:46.535Z"
   },
   {
    "duration": 7,
    "start_time": "2023-08-26T08:57:46.541Z"
   },
   {
    "duration": 6,
    "start_time": "2023-08-26T08:57:46.550Z"
   },
   {
    "duration": 9,
    "start_time": "2023-08-26T08:57:46.558Z"
   },
   {
    "duration": 4,
    "start_time": "2023-08-26T08:57:46.569Z"
   },
   {
    "duration": 6,
    "start_time": "2023-08-26T08:57:46.574Z"
   },
   {
    "duration": 6,
    "start_time": "2023-08-26T08:57:46.582Z"
   },
   {
    "duration": 4,
    "start_time": "2023-08-26T08:57:46.591Z"
   },
   {
    "duration": 10,
    "start_time": "2023-08-26T08:57:46.625Z"
   },
   {
    "duration": 43121,
    "start_time": "2023-08-26T08:57:46.636Z"
   },
   {
    "duration": 0,
    "start_time": "2023-08-26T08:58:29.759Z"
   },
   {
    "duration": 0,
    "start_time": "2023-08-26T08:58:29.761Z"
   },
   {
    "duration": 0,
    "start_time": "2023-08-26T08:58:29.762Z"
   },
   {
    "duration": 0,
    "start_time": "2023-08-26T08:58:29.763Z"
   },
   {
    "duration": 0,
    "start_time": "2023-08-26T08:58:29.764Z"
   },
   {
    "duration": 0,
    "start_time": "2023-08-26T08:58:29.765Z"
   },
   {
    "duration": 0,
    "start_time": "2023-08-26T08:58:29.766Z"
   },
   {
    "duration": 0,
    "start_time": "2023-08-26T08:58:29.767Z"
   },
   {
    "duration": 0,
    "start_time": "2023-08-26T08:58:29.768Z"
   },
   {
    "duration": 0,
    "start_time": "2023-08-26T08:58:29.769Z"
   },
   {
    "duration": 0,
    "start_time": "2023-08-26T08:58:29.770Z"
   },
   {
    "duration": 0,
    "start_time": "2023-08-26T08:58:29.771Z"
   },
   {
    "duration": 0,
    "start_time": "2023-08-26T08:58:29.773Z"
   },
   {
    "duration": 0,
    "start_time": "2023-08-26T08:58:29.774Z"
   },
   {
    "duration": 0,
    "start_time": "2023-08-26T08:58:29.776Z"
   },
   {
    "duration": 0,
    "start_time": "2023-08-26T08:58:29.777Z"
   },
   {
    "duration": 0,
    "start_time": "2023-08-26T08:58:29.778Z"
   },
   {
    "duration": 0,
    "start_time": "2023-08-26T08:58:29.780Z"
   },
   {
    "duration": 0,
    "start_time": "2023-08-26T08:58:29.825Z"
   },
   {
    "duration": 5249,
    "start_time": "2023-08-26T08:58:59.598Z"
   },
   {
    "duration": 4,
    "start_time": "2023-08-26T08:59:04.849Z"
   },
   {
    "duration": 89,
    "start_time": "2023-08-26T08:59:04.855Z"
   },
   {
    "duration": 13,
    "start_time": "2023-08-26T08:59:04.946Z"
   },
   {
    "duration": 30,
    "start_time": "2023-08-26T08:59:04.961Z"
   },
   {
    "duration": 3,
    "start_time": "2023-08-26T08:59:04.993Z"
   },
   {
    "duration": 44,
    "start_time": "2023-08-26T08:59:04.998Z"
   },
   {
    "duration": 15,
    "start_time": "2023-08-26T08:59:05.044Z"
   },
   {
    "duration": 38,
    "start_time": "2023-08-26T08:59:05.061Z"
   },
   {
    "duration": 155,
    "start_time": "2023-08-26T08:59:05.103Z"
   },
   {
    "duration": 246,
    "start_time": "2023-08-26T08:59:05.261Z"
   },
   {
    "duration": 4,
    "start_time": "2023-08-26T08:59:05.508Z"
   },
   {
    "duration": 16,
    "start_time": "2023-08-26T08:59:05.524Z"
   },
   {
    "duration": 18,
    "start_time": "2023-08-26T08:59:05.542Z"
   },
   {
    "duration": 18,
    "start_time": "2023-08-26T08:59:05.561Z"
   },
   {
    "duration": 148,
    "start_time": "2023-08-26T08:59:05.581Z"
   },
   {
    "duration": 8,
    "start_time": "2023-08-26T08:59:05.731Z"
   },
   {
    "duration": 51,
    "start_time": "2023-08-26T08:59:05.740Z"
   },
   {
    "duration": 23,
    "start_time": "2023-08-26T08:59:05.793Z"
   },
   {
    "duration": 9,
    "start_time": "2023-08-26T08:59:05.819Z"
   },
   {
    "duration": 9,
    "start_time": "2023-08-26T08:59:05.833Z"
   },
   {
    "duration": 9,
    "start_time": "2023-08-26T08:59:05.845Z"
   },
   {
    "duration": 30,
    "start_time": "2023-08-26T08:59:05.856Z"
   },
   {
    "duration": 9,
    "start_time": "2023-08-26T08:59:05.888Z"
   },
   {
    "duration": 65,
    "start_time": "2023-08-26T08:59:05.899Z"
   },
   {
    "duration": 25,
    "start_time": "2023-08-26T08:59:05.966Z"
   },
   {
    "duration": 34,
    "start_time": "2023-08-26T08:59:05.993Z"
   },
   {
    "duration": 3,
    "start_time": "2023-08-26T08:59:06.032Z"
   },
   {
    "duration": 22,
    "start_time": "2023-08-26T08:59:06.036Z"
   },
   {
    "duration": 17,
    "start_time": "2023-08-26T08:59:06.060Z"
   },
   {
    "duration": 17,
    "start_time": "2023-08-26T08:59:06.079Z"
   },
   {
    "duration": 16,
    "start_time": "2023-08-26T08:59:06.098Z"
   },
   {
    "duration": 7,
    "start_time": "2023-08-26T08:59:06.115Z"
   },
   {
    "duration": 12,
    "start_time": "2023-08-26T08:59:06.124Z"
   },
   {
    "duration": 58,
    "start_time": "2023-08-26T08:59:06.138Z"
   },
   {
    "duration": 39,
    "start_time": "2023-08-26T08:59:06.198Z"
   },
   {
    "duration": 11,
    "start_time": "2023-08-26T08:59:06.239Z"
   },
   {
    "duration": 6,
    "start_time": "2023-08-26T08:59:06.252Z"
   },
   {
    "duration": 5,
    "start_time": "2023-08-26T08:59:06.260Z"
   },
   {
    "duration": 6,
    "start_time": "2023-08-26T08:59:06.267Z"
   },
   {
    "duration": 6,
    "start_time": "2023-08-26T08:59:06.274Z"
   },
   {
    "duration": 9,
    "start_time": "2023-08-26T08:59:06.282Z"
   },
   {
    "duration": 12,
    "start_time": "2023-08-26T08:59:06.293Z"
   },
   {
    "duration": 4,
    "start_time": "2023-08-26T08:59:06.323Z"
   },
   {
    "duration": 6,
    "start_time": "2023-08-26T08:59:06.328Z"
   },
   {
    "duration": 6,
    "start_time": "2023-08-26T08:59:06.336Z"
   },
   {
    "duration": 9,
    "start_time": "2023-08-26T08:59:06.344Z"
   },
   {
    "duration": 19,
    "start_time": "2023-08-26T08:59:06.355Z"
   },
   {
    "duration": 13,
    "start_time": "2023-08-26T08:59:06.376Z"
   },
   {
    "duration": 27334,
    "start_time": "2023-08-26T08:59:06.391Z"
   },
   {
    "duration": 0,
    "start_time": "2023-08-26T08:59:33.727Z"
   },
   {
    "duration": 0,
    "start_time": "2023-08-26T08:59:33.728Z"
   },
   {
    "duration": 0,
    "start_time": "2023-08-26T08:59:33.729Z"
   },
   {
    "duration": 0,
    "start_time": "2023-08-26T08:59:33.730Z"
   },
   {
    "duration": 0,
    "start_time": "2023-08-26T08:59:33.731Z"
   },
   {
    "duration": 0,
    "start_time": "2023-08-26T08:59:33.732Z"
   },
   {
    "duration": 0,
    "start_time": "2023-08-26T08:59:33.733Z"
   },
   {
    "duration": 0,
    "start_time": "2023-08-26T08:59:33.734Z"
   },
   {
    "duration": 0,
    "start_time": "2023-08-26T08:59:33.735Z"
   },
   {
    "duration": 0,
    "start_time": "2023-08-26T08:59:33.736Z"
   },
   {
    "duration": 0,
    "start_time": "2023-08-26T08:59:33.737Z"
   },
   {
    "duration": 0,
    "start_time": "2023-08-26T08:59:33.738Z"
   },
   {
    "duration": 0,
    "start_time": "2023-08-26T08:59:33.739Z"
   },
   {
    "duration": 0,
    "start_time": "2023-08-26T08:59:33.739Z"
   },
   {
    "duration": 0,
    "start_time": "2023-08-26T08:59:33.741Z"
   },
   {
    "duration": 0,
    "start_time": "2023-08-26T08:59:33.741Z"
   },
   {
    "duration": 0,
    "start_time": "2023-08-26T08:59:33.742Z"
   },
   {
    "duration": 0,
    "start_time": "2023-08-26T08:59:33.743Z"
   },
   {
    "duration": 0,
    "start_time": "2023-08-26T08:59:33.744Z"
   },
   {
    "duration": 5195,
    "start_time": "2023-08-26T09:00:13.922Z"
   },
   {
    "duration": 3,
    "start_time": "2023-08-26T09:00:19.120Z"
   },
   {
    "duration": 101,
    "start_time": "2023-08-26T09:00:19.125Z"
   },
   {
    "duration": 12,
    "start_time": "2023-08-26T09:00:19.229Z"
   },
   {
    "duration": 40,
    "start_time": "2023-08-26T09:00:19.243Z"
   },
   {
    "duration": 5,
    "start_time": "2023-08-26T09:00:19.286Z"
   },
   {
    "duration": 38,
    "start_time": "2023-08-26T09:00:19.293Z"
   },
   {
    "duration": 8,
    "start_time": "2023-08-26T09:00:19.333Z"
   },
   {
    "duration": 7,
    "start_time": "2023-08-26T09:00:19.344Z"
   },
   {
    "duration": 176,
    "start_time": "2023-08-26T09:00:19.354Z"
   },
   {
    "duration": 226,
    "start_time": "2023-08-26T09:00:19.532Z"
   },
   {
    "duration": 4,
    "start_time": "2023-08-26T09:00:19.760Z"
   },
   {
    "duration": 23,
    "start_time": "2023-08-26T09:00:19.765Z"
   },
   {
    "duration": 12,
    "start_time": "2023-08-26T09:00:19.790Z"
   },
   {
    "duration": 14,
    "start_time": "2023-08-26T09:00:19.803Z"
   },
   {
    "duration": 335,
    "start_time": "2023-08-26T09:00:19.819Z"
   },
   {
    "duration": 8,
    "start_time": "2023-08-26T09:00:20.156Z"
   },
   {
    "duration": 25,
    "start_time": "2023-08-26T09:00:20.166Z"
   },
   {
    "duration": 8,
    "start_time": "2023-08-26T09:00:20.193Z"
   },
   {
    "duration": 10,
    "start_time": "2023-08-26T09:00:20.203Z"
   },
   {
    "duration": 12,
    "start_time": "2023-08-26T09:00:20.215Z"
   },
   {
    "duration": 6,
    "start_time": "2023-08-26T09:00:20.229Z"
   },
   {
    "duration": 12,
    "start_time": "2023-08-26T09:00:20.237Z"
   },
   {
    "duration": 14,
    "start_time": "2023-08-26T09:00:20.251Z"
   },
   {
    "duration": 47,
    "start_time": "2023-08-26T09:00:20.268Z"
   },
   {
    "duration": 10,
    "start_time": "2023-08-26T09:00:20.317Z"
   },
   {
    "duration": 21,
    "start_time": "2023-08-26T09:00:20.330Z"
   },
   {
    "duration": 26,
    "start_time": "2023-08-26T09:00:20.357Z"
   },
   {
    "duration": 9,
    "start_time": "2023-08-26T09:00:20.385Z"
   },
   {
    "duration": 23,
    "start_time": "2023-08-26T09:00:20.396Z"
   },
   {
    "duration": 13,
    "start_time": "2023-08-26T09:00:20.422Z"
   },
   {
    "duration": 49,
    "start_time": "2023-08-26T09:00:20.437Z"
   },
   {
    "duration": 0,
    "start_time": "2023-08-26T09:00:20.487Z"
   },
   {
    "duration": 0,
    "start_time": "2023-08-26T09:00:20.489Z"
   },
   {
    "duration": 0,
    "start_time": "2023-08-26T09:00:20.491Z"
   },
   {
    "duration": 0,
    "start_time": "2023-08-26T09:00:20.492Z"
   },
   {
    "duration": 0,
    "start_time": "2023-08-26T09:00:20.494Z"
   },
   {
    "duration": 0,
    "start_time": "2023-08-26T09:00:20.496Z"
   },
   {
    "duration": 0,
    "start_time": "2023-08-26T09:00:20.497Z"
   },
   {
    "duration": 0,
    "start_time": "2023-08-26T09:00:20.499Z"
   },
   {
    "duration": 0,
    "start_time": "2023-08-26T09:00:20.500Z"
   },
   {
    "duration": 0,
    "start_time": "2023-08-26T09:00:20.502Z"
   },
   {
    "duration": 0,
    "start_time": "2023-08-26T09:00:20.504Z"
   },
   {
    "duration": 0,
    "start_time": "2023-08-26T09:00:20.505Z"
   },
   {
    "duration": 0,
    "start_time": "2023-08-26T09:00:20.506Z"
   },
   {
    "duration": 0,
    "start_time": "2023-08-26T09:00:20.508Z"
   },
   {
    "duration": 0,
    "start_time": "2023-08-26T09:00:20.509Z"
   },
   {
    "duration": 0,
    "start_time": "2023-08-26T09:00:20.511Z"
   },
   {
    "duration": 0,
    "start_time": "2023-08-26T09:00:20.524Z"
   },
   {
    "duration": 0,
    "start_time": "2023-08-26T09:00:20.526Z"
   },
   {
    "duration": 0,
    "start_time": "2023-08-26T09:00:20.527Z"
   },
   {
    "duration": 0,
    "start_time": "2023-08-26T09:00:20.529Z"
   },
   {
    "duration": 0,
    "start_time": "2023-08-26T09:00:20.530Z"
   },
   {
    "duration": 0,
    "start_time": "2023-08-26T09:00:20.531Z"
   },
   {
    "duration": 0,
    "start_time": "2023-08-26T09:00:20.533Z"
   },
   {
    "duration": 0,
    "start_time": "2023-08-26T09:00:20.534Z"
   },
   {
    "duration": 0,
    "start_time": "2023-08-26T09:00:20.536Z"
   },
   {
    "duration": 0,
    "start_time": "2023-08-26T09:00:20.537Z"
   },
   {
    "duration": 0,
    "start_time": "2023-08-26T09:00:20.539Z"
   },
   {
    "duration": 0,
    "start_time": "2023-08-26T09:00:20.541Z"
   },
   {
    "duration": 5469,
    "start_time": "2023-08-26T09:00:58.754Z"
   },
   {
    "duration": 4,
    "start_time": "2023-08-26T09:01:04.227Z"
   },
   {
    "duration": 112,
    "start_time": "2023-08-26T09:01:04.233Z"
   },
   {
    "duration": 13,
    "start_time": "2023-08-26T09:01:04.348Z"
   },
   {
    "duration": 47,
    "start_time": "2023-08-26T09:01:04.363Z"
   },
   {
    "duration": 16,
    "start_time": "2023-08-26T09:01:04.412Z"
   },
   {
    "duration": 73,
    "start_time": "2023-08-26T09:01:04.430Z"
   },
   {
    "duration": 83,
    "start_time": "2023-08-26T09:01:04.505Z"
   },
   {
    "duration": 51,
    "start_time": "2023-08-26T09:01:04.590Z"
   },
   {
    "duration": 226,
    "start_time": "2023-08-26T09:01:04.645Z"
   },
   {
    "duration": 251,
    "start_time": "2023-08-26T09:01:04.873Z"
   },
   {
    "duration": 6,
    "start_time": "2023-08-26T09:01:05.126Z"
   },
   {
    "duration": 37,
    "start_time": "2023-08-26T09:01:05.134Z"
   },
   {
    "duration": 21,
    "start_time": "2023-08-26T09:01:05.173Z"
   },
   {
    "duration": 41,
    "start_time": "2023-08-26T09:01:05.195Z"
   },
   {
    "duration": 177,
    "start_time": "2023-08-26T09:01:05.238Z"
   },
   {
    "duration": 13,
    "start_time": "2023-08-26T09:01:05.423Z"
   },
   {
    "duration": 39,
    "start_time": "2023-08-26T09:01:05.438Z"
   },
   {
    "duration": 19,
    "start_time": "2023-08-26T09:01:05.479Z"
   },
   {
    "duration": 27,
    "start_time": "2023-08-26T09:01:05.500Z"
   },
   {
    "duration": 17,
    "start_time": "2023-08-26T09:01:05.529Z"
   },
   {
    "duration": 10,
    "start_time": "2023-08-26T09:01:05.549Z"
   },
   {
    "duration": 34,
    "start_time": "2023-08-26T09:01:05.561Z"
   },
   {
    "duration": 35,
    "start_time": "2023-08-26T09:01:05.597Z"
   },
   {
    "duration": 43,
    "start_time": "2023-08-26T09:01:05.634Z"
   },
   {
    "duration": 6,
    "start_time": "2023-08-26T09:01:05.678Z"
   },
   {
    "duration": 17,
    "start_time": "2023-08-26T09:01:05.686Z"
   },
   {
    "duration": 33,
    "start_time": "2023-08-26T09:01:05.706Z"
   },
   {
    "duration": 18,
    "start_time": "2023-08-26T09:01:05.741Z"
   },
   {
    "duration": 23,
    "start_time": "2023-08-26T09:01:05.761Z"
   },
   {
    "duration": 42,
    "start_time": "2023-08-26T09:01:05.786Z"
   },
   {
    "duration": 22,
    "start_time": "2023-08-26T09:01:05.830Z"
   },
   {
    "duration": 21,
    "start_time": "2023-08-26T09:01:05.855Z"
   },
   {
    "duration": 25,
    "start_time": "2023-08-26T09:01:05.878Z"
   },
   {
    "duration": 18,
    "start_time": "2023-08-26T09:01:05.905Z"
   },
   {
    "duration": 29,
    "start_time": "2023-08-26T09:01:05.926Z"
   },
   {
    "duration": 19,
    "start_time": "2023-08-26T09:01:05.962Z"
   },
   {
    "duration": 21,
    "start_time": "2023-08-26T09:01:05.983Z"
   },
   {
    "duration": 36,
    "start_time": "2023-08-26T09:01:06.006Z"
   },
   {
    "duration": 37,
    "start_time": "2023-08-26T09:01:06.045Z"
   },
   {
    "duration": 30,
    "start_time": "2023-08-26T09:01:06.085Z"
   },
   {
    "duration": 60026,
    "start_time": "2023-08-26T09:01:06.117Z"
   },
   {
    "duration": 225,
    "start_time": "2023-08-26T09:02:06.146Z"
   },
   {
    "duration": 457,
    "start_time": "2023-08-26T09:02:06.374Z"
   },
   {
    "duration": 3,
    "start_time": "2023-08-26T09:02:06.833Z"
   },
   {
    "duration": 5,
    "start_time": "2023-08-26T09:02:06.839Z"
   },
   {
    "duration": 7,
    "start_time": "2023-08-26T09:02:06.847Z"
   },
   {
    "duration": 20,
    "start_time": "2023-08-26T09:02:06.856Z"
   },
   {
    "duration": 0,
    "start_time": "2023-08-26T09:02:06.878Z"
   },
   {
    "duration": 0,
    "start_time": "2023-08-26T09:02:06.879Z"
   },
   {
    "duration": 0,
    "start_time": "2023-08-26T09:02:06.880Z"
   },
   {
    "duration": 0,
    "start_time": "2023-08-26T09:02:06.881Z"
   },
   {
    "duration": 0,
    "start_time": "2023-08-26T09:02:06.882Z"
   },
   {
    "duration": 0,
    "start_time": "2023-08-26T09:02:06.884Z"
   },
   {
    "duration": 0,
    "start_time": "2023-08-26T09:02:06.885Z"
   },
   {
    "duration": 0,
    "start_time": "2023-08-26T09:02:06.887Z"
   },
   {
    "duration": 0,
    "start_time": "2023-08-26T09:02:06.888Z"
   },
   {
    "duration": 0,
    "start_time": "2023-08-26T09:02:06.924Z"
   },
   {
    "duration": 0,
    "start_time": "2023-08-26T09:02:06.925Z"
   },
   {
    "duration": 0,
    "start_time": "2023-08-26T09:02:06.926Z"
   },
   {
    "duration": 0,
    "start_time": "2023-08-26T09:02:06.927Z"
   },
   {
    "duration": 4,
    "start_time": "2023-08-26T09:02:28.368Z"
   },
   {
    "duration": 4,
    "start_time": "2023-08-26T09:02:30.825Z"
   },
   {
    "duration": 3,
    "start_time": "2023-08-26T09:02:31.646Z"
   },
   {
    "duration": 5,
    "start_time": "2023-08-26T09:02:32.257Z"
   },
   {
    "duration": 4,
    "start_time": "2023-08-26T09:02:35.299Z"
   },
   {
    "duration": 4,
    "start_time": "2023-08-26T09:02:35.817Z"
   },
   {
    "duration": 3,
    "start_time": "2023-08-26T09:02:36.307Z"
   },
   {
    "duration": 177,
    "start_time": "2023-08-26T09:02:36.890Z"
   },
   {
    "duration": 5271,
    "start_time": "2023-08-26T09:11:02.630Z"
   },
   {
    "duration": 4,
    "start_time": "2023-08-26T09:11:09.261Z"
   },
   {
    "duration": 87,
    "start_time": "2023-08-26T09:11:09.801Z"
   },
   {
    "duration": 13,
    "start_time": "2023-08-26T09:11:09.894Z"
   },
   {
    "duration": 38,
    "start_time": "2023-08-26T09:11:09.941Z"
   },
   {
    "duration": 49,
    "start_time": "2023-08-26T09:11:09.981Z"
   },
   {
    "duration": 20,
    "start_time": "2023-08-26T09:11:10.034Z"
   },
   {
    "duration": 10,
    "start_time": "2023-08-26T09:11:10.056Z"
   },
   {
    "duration": 5,
    "start_time": "2023-08-26T09:11:10.080Z"
   },
   {
    "duration": 163,
    "start_time": "2023-08-26T09:11:10.096Z"
   },
   {
    "duration": 277,
    "start_time": "2023-08-26T09:11:10.262Z"
   },
   {
    "duration": 5,
    "start_time": "2023-08-26T09:11:10.541Z"
   },
   {
    "duration": 11,
    "start_time": "2023-08-26T09:11:10.549Z"
   },
   {
    "duration": 10,
    "start_time": "2023-08-26T09:11:10.562Z"
   },
   {
    "duration": 7,
    "start_time": "2023-08-26T09:11:10.574Z"
   },
   {
    "duration": 183,
    "start_time": "2023-08-26T09:11:10.583Z"
   },
   {
    "duration": 9,
    "start_time": "2023-08-26T09:11:10.768Z"
   },
   {
    "duration": 10,
    "start_time": "2023-08-26T09:11:10.778Z"
   },
   {
    "duration": 4,
    "start_time": "2023-08-26T09:11:10.790Z"
   },
   {
    "duration": 5,
    "start_time": "2023-08-26T09:11:10.795Z"
   },
   {
    "duration": 24,
    "start_time": "2023-08-26T09:11:10.801Z"
   },
   {
    "duration": 12,
    "start_time": "2023-08-26T09:11:10.829Z"
   },
   {
    "duration": 7,
    "start_time": "2023-08-26T09:11:10.843Z"
   },
   {
    "duration": 24,
    "start_time": "2023-08-26T09:11:10.852Z"
   },
   {
    "duration": 37,
    "start_time": "2023-08-26T09:11:10.879Z"
   },
   {
    "duration": 18,
    "start_time": "2023-08-26T09:11:10.918Z"
   },
   {
    "duration": 9,
    "start_time": "2023-08-26T09:11:10.938Z"
   },
   {
    "duration": 25,
    "start_time": "2023-08-26T09:11:10.950Z"
   },
   {
    "duration": 6,
    "start_time": "2023-08-26T09:11:11.326Z"
   },
   {
    "duration": 2,
    "start_time": "2023-08-26T09:11:11.351Z"
   },
   {
    "duration": 3,
    "start_time": "2023-08-26T09:11:11.416Z"
   },
   {
    "duration": 31,
    "start_time": "2023-08-26T09:11:11.511Z"
   },
   {
    "duration": 4,
    "start_time": "2023-08-26T09:11:11.590Z"
   },
   {
    "duration": 4,
    "start_time": "2023-08-26T09:11:11.622Z"
   },
   {
    "duration": 4,
    "start_time": "2023-08-26T09:11:11.652Z"
   },
   {
    "duration": 4,
    "start_time": "2023-08-26T09:11:11.685Z"
   },
   {
    "duration": 3,
    "start_time": "2023-08-26T09:11:11.716Z"
   },
   {
    "duration": 9,
    "start_time": "2023-08-26T09:11:11.745Z"
   },
   {
    "duration": 4,
    "start_time": "2023-08-26T09:11:11.814Z"
   },
   {
    "duration": 3,
    "start_time": "2023-08-26T09:11:12.014Z"
   },
   {
    "duration": 21,
    "start_time": "2023-08-26T09:11:12.046Z"
   },
   {
    "duration": 60786,
    "start_time": "2023-08-26T09:11:12.153Z"
   },
   {
    "duration": 9,
    "start_time": "2023-08-26T09:12:12.943Z"
   },
   {
    "duration": 500,
    "start_time": "2023-08-26T09:12:12.955Z"
   },
   {
    "duration": 4,
    "start_time": "2023-08-26T09:12:13.457Z"
   },
   {
    "duration": 31,
    "start_time": "2023-08-26T09:12:13.463Z"
   },
   {
    "duration": 27,
    "start_time": "2023-08-26T09:12:13.496Z"
   },
   {
    "duration": 11,
    "start_time": "2023-08-26T09:12:13.526Z"
   },
   {
    "duration": 22,
    "start_time": "2023-08-26T09:12:13.541Z"
   },
   {
    "duration": 4,
    "start_time": "2023-08-26T09:12:13.565Z"
   },
   {
    "duration": 6,
    "start_time": "2023-08-26T09:12:13.572Z"
   },
   {
    "duration": 15,
    "start_time": "2023-08-26T09:12:13.579Z"
   },
   {
    "duration": 10,
    "start_time": "2023-08-26T09:12:13.596Z"
   },
   {
    "duration": 162,
    "start_time": "2023-08-26T09:12:13.609Z"
   },
   {
    "duration": 0,
    "start_time": "2023-08-26T09:12:13.773Z"
   },
   {
    "duration": 0,
    "start_time": "2023-08-26T09:12:13.774Z"
   },
   {
    "duration": 0,
    "start_time": "2023-08-26T09:12:13.776Z"
   },
   {
    "duration": 0,
    "start_time": "2023-08-26T09:12:13.778Z"
   },
   {
    "duration": 0,
    "start_time": "2023-08-26T09:12:13.779Z"
   },
   {
    "duration": 0,
    "start_time": "2023-08-26T09:12:13.781Z"
   },
   {
    "duration": 0,
    "start_time": "2023-08-26T09:12:13.783Z"
   },
   {
    "duration": 0,
    "start_time": "2023-08-26T09:12:13.784Z"
   },
   {
    "duration": 0,
    "start_time": "2023-08-26T09:12:13.786Z"
   },
   {
    "duration": 3,
    "start_time": "2023-08-26T09:13:15.358Z"
   },
   {
    "duration": 17,
    "start_time": "2023-08-26T09:13:19.722Z"
   },
   {
    "duration": 4,
    "start_time": "2023-08-26T09:13:29.914Z"
   },
   {
    "duration": 7,
    "start_time": "2023-08-26T09:13:30.431Z"
   },
   {
    "duration": 3,
    "start_time": "2023-08-26T09:13:35.368Z"
   },
   {
    "duration": 1357886,
    "start_time": "2023-08-26T09:13:36.231Z"
   },
   {
    "duration": 11,
    "start_time": "2023-08-26T09:36:14.118Z"
   },
   {
    "duration": 27,
    "start_time": "2023-08-26T09:36:14.132Z"
   },
   {
    "duration": 22,
    "start_time": "2023-08-26T09:36:14.162Z"
   },
   {
    "duration": 478,
    "start_time": "2023-08-26T09:36:14.186Z"
   },
   {
    "duration": 4,
    "start_time": "2023-08-26T09:36:14.666Z"
   },
   {
    "duration": 39,
    "start_time": "2023-08-26T09:36:14.672Z"
   },
   {
    "duration": 12,
    "start_time": "2023-08-26T09:37:04.949Z"
   },
   {
    "duration": 4,
    "start_time": "2023-08-26T09:38:21.590Z"
   },
   {
    "duration": 3,
    "start_time": "2023-08-26T09:38:21.990Z"
   },
   {
    "duration": 14027,
    "start_time": "2023-08-27T13:38:11.052Z"
   },
   {
    "duration": 3,
    "start_time": "2023-08-27T13:38:25.081Z"
   },
   {
    "duration": 241,
    "start_time": "2023-08-27T13:38:25.086Z"
   },
   {
    "duration": 12,
    "start_time": "2023-08-27T13:38:25.329Z"
   },
   {
    "duration": 46,
    "start_time": "2023-08-27T13:38:25.342Z"
   },
   {
    "duration": 3,
    "start_time": "2023-08-27T13:38:25.390Z"
   },
   {
    "duration": 23,
    "start_time": "2023-08-27T13:38:25.395Z"
   },
   {
    "duration": 29,
    "start_time": "2023-08-27T13:38:25.420Z"
   },
   {
    "duration": 17,
    "start_time": "2023-08-27T13:38:25.451Z"
   },
   {
    "duration": 159,
    "start_time": "2023-08-27T13:38:25.470Z"
   },
   {
    "duration": 209,
    "start_time": "2023-08-27T13:38:25.631Z"
   },
   {
    "duration": 3,
    "start_time": "2023-08-27T13:38:25.842Z"
   },
   {
    "duration": 19,
    "start_time": "2023-08-27T13:38:25.847Z"
   },
   {
    "duration": 10,
    "start_time": "2023-08-27T13:38:25.868Z"
   },
   {
    "duration": 16,
    "start_time": "2023-08-27T13:38:25.880Z"
   },
   {
    "duration": 176,
    "start_time": "2023-08-27T13:38:25.897Z"
   },
   {
    "duration": 10,
    "start_time": "2023-08-27T13:38:26.075Z"
   },
   {
    "duration": 18,
    "start_time": "2023-08-27T13:38:26.087Z"
   },
   {
    "duration": 48,
    "start_time": "2023-08-27T13:38:26.107Z"
   },
   {
    "duration": 26,
    "start_time": "2023-08-27T13:38:26.157Z"
   },
   {
    "duration": 14,
    "start_time": "2023-08-27T13:38:26.185Z"
   },
   {
    "duration": 33,
    "start_time": "2023-08-27T13:38:26.201Z"
   },
   {
    "duration": 10,
    "start_time": "2023-08-27T13:38:26.236Z"
   },
   {
    "duration": 13,
    "start_time": "2023-08-27T13:38:26.248Z"
   },
   {
    "duration": 53,
    "start_time": "2023-08-27T13:38:26.263Z"
   },
   {
    "duration": 18,
    "start_time": "2023-08-27T13:38:26.318Z"
   },
   {
    "duration": 19,
    "start_time": "2023-08-27T13:38:26.337Z"
   },
   {
    "duration": 14,
    "start_time": "2023-08-27T13:38:26.359Z"
   },
   {
    "duration": 14,
    "start_time": "2023-08-27T13:38:26.375Z"
   },
   {
    "duration": 41,
    "start_time": "2023-08-27T13:38:26.391Z"
   },
   {
    "duration": 38213,
    "start_time": "2023-08-27T13:38:26.434Z"
   },
   {
    "duration": 7,
    "start_time": "2023-08-27T13:39:04.648Z"
   },
   {
    "duration": 441,
    "start_time": "2023-08-27T13:39:04.656Z"
   },
   {
    "duration": 5,
    "start_time": "2023-08-27T13:39:05.099Z"
   },
   {
    "duration": 20,
    "start_time": "2023-08-27T13:39:05.106Z"
   },
   {
    "duration": 5,
    "start_time": "2023-08-27T13:39:05.127Z"
   },
   {
    "duration": 16,
    "start_time": "2023-08-27T13:39:05.133Z"
   },
   {
    "duration": 22,
    "start_time": "2023-08-27T13:39:05.150Z"
   },
   {
    "duration": 8,
    "start_time": "2023-08-27T13:39:05.174Z"
   },
   {
    "duration": 6,
    "start_time": "2023-08-27T13:39:05.183Z"
   },
   {
    "duration": 8,
    "start_time": "2023-08-27T13:39:05.191Z"
   },
   {
    "duration": 1170891,
    "start_time": "2023-08-27T13:39:05.201Z"
   },
   {
    "duration": 4,
    "start_time": "2023-08-27T13:58:36.093Z"
   },
   {
    "duration": 12,
    "start_time": "2023-08-27T13:58:36.098Z"
   },
   {
    "duration": 31,
    "start_time": "2023-08-27T13:58:36.111Z"
   },
   {
    "duration": 380,
    "start_time": "2023-08-27T13:58:36.144Z"
   },
   {
    "duration": 4,
    "start_time": "2023-08-27T13:58:36.525Z"
   },
   {
    "duration": 19,
    "start_time": "2023-08-27T13:58:36.530Z"
   }
  ],
  "kernelspec": {
   "display_name": "Python 3 (ipykernel)",
   "language": "python",
   "name": "python3"
  },
  "language_info": {
   "codemirror_mode": {
    "name": "ipython",
    "version": 3
   },
   "file_extension": ".py",
   "mimetype": "text/x-python",
   "name": "python",
   "nbconvert_exporter": "python",
   "pygments_lexer": "ipython3",
   "version": "3.11.5"
  },
  "toc": {
   "base_numbering": 1,
   "nav_menu": {},
   "number_sections": false,
   "sideBar": true,
   "skip_h1_title": false,
   "title_cell": "Table of Contents",
   "title_sidebar": "Contents",
   "toc_cell": false,
   "toc_position": {},
   "toc_section_display": true,
   "toc_window_display": false
  },
  "varInspector": {
   "cols": {
    "lenName": 16,
    "lenType": 16,
    "lenVar": 40
   },
   "kernels_config": {
    "python": {
     "delete_cmd_postfix": "",
     "delete_cmd_prefix": "del ",
     "library": "var_list.py",
     "varRefreshCmd": "print(var_dic_list())"
    },
    "r": {
     "delete_cmd_postfix": ") ",
     "delete_cmd_prefix": "rm(",
     "library": "var_list.r",
     "varRefreshCmd": "cat(var_dic_list()) "
    }
   },
   "types_to_exclude": [
    "module",
    "function",
    "builtin_function_or_method",
    "instance",
    "_Feature"
   ],
   "window_display": false
  }
 },
 "nbformat": 4,
 "nbformat_minor": 5
}
